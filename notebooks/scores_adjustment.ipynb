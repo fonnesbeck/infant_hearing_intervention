{
 "cells": [
  {
   "cell_type": "code",
   "execution_count": 1,
   "metadata": {},
   "outputs": [],
   "source": [
    "%matplotlib inline\n",
    "import matplotlib.pyplot as plt\n",
    "import pandas as pd\n",
    "import numpy as np\n",
    "import seaborn as sns\n",
    "from sklearn import linear_model"
   ]
  },
  {
   "cell_type": "code",
   "execution_count": 2,
   "metadata": {},
   "outputs": [
    {
     "data": {
      "text/html": [
       "<div>\n",
       "<style scoped>\n",
       "    .dataframe tbody tr th:only-of-type {\n",
       "        vertical-align: middle;\n",
       "    }\n",
       "\n",
       "    .dataframe tbody tr th {\n",
       "        vertical-align: top;\n",
       "    }\n",
       "\n",
       "    .dataframe thead th {\n",
       "        text-align: right;\n",
       "    }\n",
       "</style>\n",
       "<table border=\"1\" class=\"dataframe\">\n",
       "  <thead>\n",
       "    <tr style=\"text-align: right;\">\n",
       "      <th></th>\n",
       "      <th>redcap_event_name</th>\n",
       "      <th>academic_year_rv</th>\n",
       "      <th>hl</th>\n",
       "      <th>male</th>\n",
       "      <th>_race</th>\n",
       "      <th>prim_lang</th>\n",
       "      <th>sib</th>\n",
       "      <th>_mother_ed</th>\n",
       "      <th>father_ed</th>\n",
       "      <th>par1_ed</th>\n",
       "      <th>...</th>\n",
       "      <th>gf3_sis_ss</th>\n",
       "      <th>gf3_siw_ss</th>\n",
       "      <th>gf_version</th>\n",
       "      <th>ppvt_f</th>\n",
       "      <th>ppvt_ss</th>\n",
       "      <th>rowpvt_ss</th>\n",
       "      <th>school</th>\n",
       "      <th>score</th>\n",
       "      <th>test_name</th>\n",
       "      <th>test_type</th>\n",
       "    </tr>\n",
       "  </thead>\n",
       "  <tbody>\n",
       "    <tr>\n",
       "      <td>0</td>\n",
       "      <td>initial_assessment_arm_1</td>\n",
       "      <td>2002.0</td>\n",
       "      <td>0.0</td>\n",
       "      <td>0.0</td>\n",
       "      <td>0.0</td>\n",
       "      <td>0.0</td>\n",
       "      <td>1.0</td>\n",
       "      <td>6.0</td>\n",
       "      <td>6.0</td>\n",
       "      <td>NaN</td>\n",
       "      <td>...</td>\n",
       "      <td>NaN</td>\n",
       "      <td>NaN</td>\n",
       "      <td>NaN</td>\n",
       "      <td>NaN</td>\n",
       "      <td>NaN</td>\n",
       "      <td>NaN</td>\n",
       "      <td>101</td>\n",
       "      <td>58.0</td>\n",
       "      <td>NaN</td>\n",
       "      <td>EOWPVT</td>\n",
       "    </tr>\n",
       "    <tr>\n",
       "      <td>1</td>\n",
       "      <td>initial_assessment_arm_1</td>\n",
       "      <td>2002.0</td>\n",
       "      <td>0.0</td>\n",
       "      <td>0.0</td>\n",
       "      <td>0.0</td>\n",
       "      <td>0.0</td>\n",
       "      <td>1.0</td>\n",
       "      <td>6.0</td>\n",
       "      <td>6.0</td>\n",
       "      <td>NaN</td>\n",
       "      <td>...</td>\n",
       "      <td>NaN</td>\n",
       "      <td>NaN</td>\n",
       "      <td>NaN</td>\n",
       "      <td>NaN</td>\n",
       "      <td>NaN</td>\n",
       "      <td>NaN</td>\n",
       "      <td>101</td>\n",
       "      <td>51.0</td>\n",
       "      <td>PLS</td>\n",
       "      <td>receptive</td>\n",
       "    </tr>\n",
       "    <tr>\n",
       "      <td>2</td>\n",
       "      <td>initial_assessment_arm_1</td>\n",
       "      <td>2002.0</td>\n",
       "      <td>0.0</td>\n",
       "      <td>0.0</td>\n",
       "      <td>0.0</td>\n",
       "      <td>0.0</td>\n",
       "      <td>1.0</td>\n",
       "      <td>6.0</td>\n",
       "      <td>6.0</td>\n",
       "      <td>NaN</td>\n",
       "      <td>...</td>\n",
       "      <td>NaN</td>\n",
       "      <td>NaN</td>\n",
       "      <td>NaN</td>\n",
       "      <td>NaN</td>\n",
       "      <td>NaN</td>\n",
       "      <td>NaN</td>\n",
       "      <td>101</td>\n",
       "      <td>60.0</td>\n",
       "      <td>PLS</td>\n",
       "      <td>expressive</td>\n",
       "    </tr>\n",
       "    <tr>\n",
       "      <td>3</td>\n",
       "      <td>initial_assessment_arm_1</td>\n",
       "      <td>2002.0</td>\n",
       "      <td>0.0</td>\n",
       "      <td>0.0</td>\n",
       "      <td>0.0</td>\n",
       "      <td>0.0</td>\n",
       "      <td>1.0</td>\n",
       "      <td>6.0</td>\n",
       "      <td>6.0</td>\n",
       "      <td>NaN</td>\n",
       "      <td>...</td>\n",
       "      <td>NaN</td>\n",
       "      <td>NaN</td>\n",
       "      <td>NaN</td>\n",
       "      <td>NaN</td>\n",
       "      <td>NaN</td>\n",
       "      <td>NaN</td>\n",
       "      <td>101</td>\n",
       "      <td>54.0</td>\n",
       "      <td>PLS</td>\n",
       "      <td>total</td>\n",
       "    </tr>\n",
       "    <tr>\n",
       "      <td>4</td>\n",
       "      <td>initial_assessment_arm_1</td>\n",
       "      <td>2011.0</td>\n",
       "      <td>0.0</td>\n",
       "      <td>0.0</td>\n",
       "      <td>2.0</td>\n",
       "      <td>0.0</td>\n",
       "      <td>1.0</td>\n",
       "      <td>5.0</td>\n",
       "      <td>5.0</td>\n",
       "      <td>NaN</td>\n",
       "      <td>...</td>\n",
       "      <td>NaN</td>\n",
       "      <td>NaN</td>\n",
       "      <td>NaN</td>\n",
       "      <td>NaN</td>\n",
       "      <td>NaN</td>\n",
       "      <td>NaN</td>\n",
       "      <td>626</td>\n",
       "      <td>50.0</td>\n",
       "      <td>PLS</td>\n",
       "      <td>receptive</td>\n",
       "    </tr>\n",
       "  </tbody>\n",
       "</table>\n",
       "<p>5 rows × 246 columns</p>\n",
       "</div>"
      ],
      "text/plain": [
       "          redcap_event_name  academic_year_rv   hl  male  _race  prim_lang  \\\n",
       "0  initial_assessment_arm_1            2002.0  0.0   0.0    0.0        0.0   \n",
       "1  initial_assessment_arm_1            2002.0  0.0   0.0    0.0        0.0   \n",
       "2  initial_assessment_arm_1            2002.0  0.0   0.0    0.0        0.0   \n",
       "3  initial_assessment_arm_1            2002.0  0.0   0.0    0.0        0.0   \n",
       "4  initial_assessment_arm_1            2011.0  0.0   0.0    2.0        0.0   \n",
       "\n",
       "   sib  _mother_ed  father_ed  par1_ed  ...  gf3_sis_ss  gf3_siw_ss  \\\n",
       "0  1.0         6.0        6.0      NaN  ...         NaN         NaN   \n",
       "1  1.0         6.0        6.0      NaN  ...         NaN         NaN   \n",
       "2  1.0         6.0        6.0      NaN  ...         NaN         NaN   \n",
       "3  1.0         6.0        6.0      NaN  ...         NaN         NaN   \n",
       "4  1.0         5.0        5.0      NaN  ...         NaN         NaN   \n",
       "\n",
       "   gf_version  ppvt_f  ppvt_ss  rowpvt_ss  school  score  test_name  \\\n",
       "0         NaN     NaN      NaN        NaN     101   58.0        NaN   \n",
       "1         NaN     NaN      NaN        NaN     101   51.0        PLS   \n",
       "2         NaN     NaN      NaN        NaN     101   60.0        PLS   \n",
       "3         NaN     NaN      NaN        NaN     101   54.0        PLS   \n",
       "4         NaN     NaN      NaN        NaN     626   50.0        PLS   \n",
       "\n",
       "    test_type  \n",
       "0      EOWPVT  \n",
       "1   receptive  \n",
       "2  expressive  \n",
       "3       total  \n",
       "4   receptive  \n",
       "\n",
       "[5 rows x 246 columns]"
      ]
     },
     "execution_count": 2,
     "metadata": {},
     "output_type": "execute_result"
    }
   ],
   "source": [
    "lsl_dr = (pd.read_csv('../data/clean/lsl_dr_frozen_09272019.csv', index_col=0, low_memory=False)\n",
    "                  .rename({'onset_1':'identify_mo'}, axis=1))\n",
    "lsl_dr.head()"
   ]
  },
  {
   "cell_type": "code",
   "execution_count": 3,
   "metadata": {},
   "outputs": [
    {
     "data": {
      "text/plain": [
       "Language                 37578\n",
       "Receptive Vocabulary     10431\n",
       "Expressive Vocabulary    10089\n",
       "Articulation              6966\n",
       "Name: domain, dtype: int64"
      ]
     },
     "execution_count": 3,
     "metadata": {},
     "output_type": "execute_result"
    }
   ],
   "source": [
    "lsl_dr.domain.value_counts()"
   ]
  },
  {
   "cell_type": "markdown",
   "metadata": {},
   "source": [
    "## Add column to LSL-DR dataset"
   ]
  },
  {
   "cell_type": "code",
   "execution_count": 4,
   "metadata": {},
   "outputs": [],
   "source": [
    "lsl_dr['score_adj'] = lsl_dr.score.copy()"
   ]
  },
  {
   "cell_type": "markdown",
   "metadata": {},
   "source": [
    "# Receptive vocabulary"
   ]
  },
  {
   "cell_type": "markdown",
   "metadata": {},
   "source": [
    "Model:\n",
    "\n",
    "    \n",
    "    t_ss ~ rowpvt_ss + age_test_rowpvt + sex + lang_cat + onset_1 + age_amp + age + sib"
   ]
  },
  {
   "cell_type": "code",
   "execution_count": 5,
   "metadata": {},
   "outputs": [],
   "source": [
    "receptive_vocabulary_data = lsl_dr.query('domain==\"Receptive Vocabulary\"')"
   ]
  },
  {
   "cell_type": "code",
   "execution_count": 6,
   "metadata": {},
   "outputs": [],
   "source": [
    "regression_subset = receptive_vocabulary_data[['rowpvt_ss', 'ppvt_ss', 'age_test_rowpvt', 'sex', 'non_english', 'age_amp', 'age', 'sib']].dropna()\n",
    "regression_subset['female'] = regression_subset.sex.replace({'Male':0, 'Female':1})\n",
    "regression_subset['non_english'] = regression_subset.non_english.astype(int)\n",
    "regression_subset = regression_subset.drop('sex', axis=1)"
   ]
  },
  {
   "cell_type": "code",
   "execution_count": 7,
   "metadata": {},
   "outputs": [],
   "source": [
    "X = regression_subset.copy()\n",
    "y = X.pop('ppvt_ss')"
   ]
  },
  {
   "cell_type": "code",
   "execution_count": 8,
   "metadata": {},
   "outputs": [
    {
     "data": {
      "text/plain": [
       "LinearRegression(copy_X=True, fit_intercept=True, n_jobs=None, normalize=False)"
      ]
     },
     "execution_count": 8,
     "metadata": {},
     "output_type": "execute_result"
    }
   ],
   "source": [
    "receptive_vocab_model = linear_model.LinearRegression()\n",
    "receptive_vocab_model.fit(X, y)"
   ]
  },
  {
   "cell_type": "code",
   "execution_count": 9,
   "metadata": {},
   "outputs": [
    {
     "data": {
      "text/plain": [
       "rowpvt_ss          90.196375\n",
       "age_test_rowpvt    61.527470\n",
       "non_english         0.260632\n",
       "age_amp            15.992282\n",
       "age                29.366130\n",
       "sib                 1.201238\n",
       "female              0.512083\n",
       "dtype: float64"
      ]
     },
     "execution_count": 9,
     "metadata": {},
     "output_type": "execute_result"
    }
   ],
   "source": [
    "X_pred = receptive_vocabulary_data.loc[receptive_vocabulary_data.ppvt_ss.isnull(), ['rowpvt_ss', 'age_test_rowpvt', 'sex', 'non_english', 'age_amp', 'age', 'sib']]\n",
    "X_pred['female'] = X_pred.sex.replace({'Male':0, 'Female':1})\n",
    "X_pred['non_english'] = X_pred.non_english.astype(float)\n",
    "X_pred = X_pred.drop('sex', axis=1)\n",
    "X_pred.mean()"
   ]
  },
  {
   "cell_type": "code",
   "execution_count": 10,
   "metadata": {},
   "outputs": [],
   "source": [
    "X_pred = X_pred.fillna(X_pred.mean())"
   ]
  },
  {
   "cell_type": "code",
   "execution_count": 11,
   "metadata": {},
   "outputs": [
    {
     "data": {
      "image/png": "[encoded data removed]",
      "text/plain": [
       "<Figure size 432x288 with 1 Axes>"
      ]
     },
     "metadata": {
      "needs_background": "light"
     },
     "output_type": "display_data"
    }
   ],
   "source": [
    "ppvt_ss_pred = receptive_vocab_model.predict(X_pred)\n",
    "sns.kdeplot(ppvt_ss_pred, label='ppvt_ss_pred')\n",
    "sns.kdeplot(X_pred.rowpvt_ss);"
   ]
  },
  {
   "cell_type": "markdown",
   "metadata": {},
   "source": [
    "Add values to table"
   ]
  },
  {
   "cell_type": "code",
   "execution_count": 14,
   "metadata": {},
   "outputs": [],
   "source": [
    "ppvt_ss_pred = pd.Series(ppvt_ss_pred, index=X_pred.index)"
   ]
  },
  {
   "cell_type": "code",
   "execution_count": 18,
   "metadata": {},
   "outputs": [],
   "source": [
    "lsl_dr.loc[ppvt_ss_pred.index, 'score_adj'] = ppvt_ss_pred"
   ]
  },
  {
   "cell_type": "markdown",
   "metadata": {},
   "source": [
    "# Expressive vocabulary\n",
    "\n",
    "Model:\n",
    "\n",
    "    evt_ss ~ eowpvt_ss + age_test_eowpvt + sex + \n",
    "                        lang_cat + onset_1 + age_amp + age + sib"
   ]
  },
  {
   "cell_type": "code",
   "execution_count": 19,
   "metadata": {},
   "outputs": [],
   "source": [
    "expressive_vocabulary_data = lsl_dr.query('domain==\"Expressive Vocabulary\"')"
   ]
  },
  {
   "cell_type": "code",
   "execution_count": 20,
   "metadata": {},
   "outputs": [],
   "source": [
    "regression_subset = expressive_vocabulary_data[['evt_ss', 'eowpvt_ss', 'age_test_eowpvt', 'sex', 'non_english', 'age_amp', 'age', 'sib']].dropna()\n",
    "regression_subset['female'] = regression_subset.sex.replace({'Male':0, 'Female':1})\n",
    "regression_subset['non_english'] = regression_subset.non_english.astype(int)\n",
    "regression_subset = regression_subset.drop('sex', axis=1)"
   ]
  },
  {
   "cell_type": "code",
   "execution_count": 21,
   "metadata": {},
   "outputs": [],
   "source": [
    "X = regression_subset.copy()\n",
    "y = X.pop('evt_ss')"
   ]
  },
  {
   "cell_type": "code",
   "execution_count": 22,
   "metadata": {},
   "outputs": [
    {
     "data": {
      "text/plain": [
       "LinearRegression(copy_X=True, fit_intercept=True, n_jobs=None, normalize=False)"
      ]
     },
     "execution_count": 22,
     "metadata": {},
     "output_type": "execute_result"
    }
   ],
   "source": [
    "expressive_vocab_model = linear_model.LinearRegression()\n",
    "expressive_vocab_model.fit(X, y)"
   ]
  },
  {
   "cell_type": "code",
   "execution_count": 23,
   "metadata": {},
   "outputs": [
    {
     "data": {
      "text/plain": [
       "eowpvt_ss          88.186816\n",
       "age_test_eowpvt    62.422010\n",
       "non_english         0.231745\n",
       "age_amp            15.940184\n",
       "age                29.914061\n",
       "sib                 1.206345\n",
       "female              0.508304\n",
       "dtype: float64"
      ]
     },
     "execution_count": 23,
     "metadata": {},
     "output_type": "execute_result"
    }
   ],
   "source": [
    "X_pred = expressive_vocabulary_data.loc[expressive_vocabulary_data.evt_ss.isnull(), ['eowpvt_ss', 'age_test_eowpvt', 'sex', 'non_english', 'age_amp', 'age', 'sib']]\n",
    "X_pred['female'] = X_pred.sex.replace({'Male':0, 'Female':1})\n",
    "X_pred['non_english'] = X_pred.non_english.astype(float)\n",
    "X_pred = X_pred.drop('sex', axis=1)\n",
    "X_pred.mean()"
   ]
  },
  {
   "cell_type": "code",
   "execution_count": 24,
   "metadata": {},
   "outputs": [],
   "source": [
    "X_pred = X_pred.fillna(X_pred.mean())"
   ]
  },
  {
   "cell_type": "code",
   "execution_count": 25,
   "metadata": {},
   "outputs": [
    {
     "data": {
      "image/png": "[encoded data removed]",
      "text/plain": [
       "<Figure size 432x288 with 1 Axes>"
      ]
     },
     "metadata": {
      "needs_background": "light"
     },
     "output_type": "display_data"
    }
   ],
   "source": [
    "evt_ss_pred = receptive_vocab_model.predict(X_pred)\n",
    "sns.kdeplot(ppvt_ss_pred, label='evt_ss_pred')\n",
    "sns.kdeplot(X_pred.eowpvt_ss);"
   ]
  },
  {
   "cell_type": "code",
   "execution_count": 26,
   "metadata": {},
   "outputs": [],
   "source": [
    "evt_ss_pred = pd.Series(evt_ss_pred, index=X_pred.index)"
   ]
  },
  {
   "cell_type": "code",
   "execution_count": 27,
   "metadata": {},
   "outputs": [],
   "source": [
    "lsl_dr.loc[evt_ss_pred.index, 'score_adj'] = evt_ss_pred"
   ]
  },
  {
   "cell_type": "markdown",
   "metadata": {},
   "source": [
    "# Articulation\n",
    "\n",
    "Model: \n",
    "\n",
    "    aaps_ss ~ gf2_ss + age_test_gf2 + sex + \n",
    "                        lang_cat + onset_1 + age_amp + age + sib"
   ]
  },
  {
   "cell_type": "code",
   "execution_count": 28,
   "metadata": {},
   "outputs": [],
   "source": [
    "articulation_data = lsl_dr.query('domain==\"Articulation\"')"
   ]
  },
  {
   "cell_type": "code",
   "execution_count": 29,
   "metadata": {},
   "outputs": [],
   "source": [
    "regression_subset = articulation_data[['aaps_ss', 'gf2_ss', 'age_test_gf2', 'sex', 'non_english', 'age_amp', 'age', 'sib']].dropna()\n",
    "regression_subset['female'] = regression_subset.sex.replace({'Male':0, 'Female':1})\n",
    "regression_subset['non_english'] = regression_subset.non_english.astype(int)\n",
    "regression_subset = regression_subset.drop('sex', axis=1)"
   ]
  },
  {
   "cell_type": "code",
   "execution_count": 30,
   "metadata": {},
   "outputs": [],
   "source": [
    "X = regression_subset.copy()\n",
    "y = X.pop('aaps_ss')"
   ]
  },
  {
   "cell_type": "code",
   "execution_count": 31,
   "metadata": {},
   "outputs": [
    {
     "data": {
      "text/plain": [
       "LinearRegression(copy_X=True, fit_intercept=True, n_jobs=None, normalize=False)"
      ]
     },
     "execution_count": 31,
     "metadata": {},
     "output_type": "execute_result"
    }
   ],
   "source": [
    "articulation_model = linear_model.LinearRegression()\n",
    "articulation_model.fit(X, y)"
   ]
  },
  {
   "cell_type": "code",
   "execution_count": 32,
   "metadata": {},
   "outputs": [
    {
     "data": {
      "text/plain": [
       "gf2_ss          82.362031\n",
       "age_test_gf2    67.463770\n",
       "non_english      0.148905\n",
       "age_amp         18.104089\n",
       "age             35.095992\n",
       "sib              1.215069\n",
       "female           0.473243\n",
       "dtype: float64"
      ]
     },
     "execution_count": 32,
     "metadata": {},
     "output_type": "execute_result"
    }
   ],
   "source": [
    "X_pred = articulation_data.loc[articulation_data.evt_ss.isnull(), ['gf2_ss', 'age_test_gf2', 'sex', 'non_english', 'age_amp', 'age', 'sib']]\n",
    "X_pred['female'] = X_pred.sex.replace({'Male':0, 'Female':1})\n",
    "X_pred['non_english'] = X_pred.non_english.astype(float)\n",
    "X_pred = X_pred.drop('sex', axis=1)\n",
    "X_pred.mean()"
   ]
  },
  {
   "cell_type": "code",
   "execution_count": 33,
   "metadata": {},
   "outputs": [],
   "source": [
    "X_pred = X_pred.fillna(X_pred.mean())"
   ]
  },
  {
   "cell_type": "code",
   "execution_count": 36,
   "metadata": {},
   "outputs": [
    {
     "data": {
      "image/png": "[encoded data removed]",
      "text/plain": [
       "<Figure size 432x288 with 1 Axes>"
      ]
     },
     "metadata": {
      "needs_background": "light"
     },
     "output_type": "display_data"
    }
   ],
   "source": [
    "aaps_ss_pred = receptive_vocab_model.predict(X_pred)\n",
    "sns.kdeplot(aaps_ss_pred, label='aaps_ss_pred')\n",
    "sns.kdeplot(X_pred.gf2_ss);"
   ]
  },
  {
   "cell_type": "code",
   "execution_count": 37,
   "metadata": {},
   "outputs": [],
   "source": [
    "aaps_ss_pred = pd.Series(aaps_ss_pred, index=X_pred.index)"
   ]
  },
  {
   "cell_type": "code",
   "execution_count": 38,
   "metadata": {},
   "outputs": [],
   "source": [
    "lsl_dr.loc[aaps_ss_pred.index, 'score_adj'] = aaps_ss_pred"
   ]
  },
  {
   "cell_type": "markdown",
   "metadata": {},
   "source": [
    "# Language"
   ]
  },
  {
   "cell_type": "code",
   "execution_count": 39,
   "metadata": {},
   "outputs": [
    {
     "data": {
      "text/plain": [
       "(6921, 247)"
      ]
     },
     "execution_count": 39,
     "metadata": {},
     "output_type": "execute_result"
    }
   ],
   "source": [
    "language_data = lsl_dr[(lsl_dr.domain==\"Language\") \n",
    "                       & (lsl_dr.test_name.isin(['CELF-P2', 'OWLS', 'PLS']))\n",
    "                      & (lsl_dr.age_test>=48) & (lsl_dr.age_test<60)]\n",
    "language_data.shape"
   ]
  },
  {
   "cell_type": "code",
   "execution_count": 40,
   "metadata": {},
   "outputs": [],
   "source": [
    "regression_subset = language_data[['study_id', 'test_name', 'score', 'age_test', 'sex', 'non_english', 'age_amp', 'age', 'sib']].copy()\n",
    "regression_subset['female'] = regression_subset.sex.replace({'Male':0, 'Female':1})\n",
    "regression_subset['non_english'] = regression_subset.non_english.astype(float)\n",
    "regression_subset = regression_subset.drop('sex', axis=1)"
   ]
  },
  {
   "cell_type": "code",
   "execution_count": 41,
   "metadata": {},
   "outputs": [],
   "source": [
    "celf_tests = regression_subset[regression_subset.test_name=='CELF-P2']\n",
    "owls_tests = regression_subset[regression_subset.test_name=='OWLS']\n",
    "pls_tests = regression_subset[regression_subset.test_name=='PLS']"
   ]
  },
  {
   "cell_type": "code",
   "execution_count": 42,
   "metadata": {},
   "outputs": [
    {
     "data": {
      "text/plain": [
       "((3287, 9), (832, 9), (2802, 9))"
      ]
     },
     "execution_count": 42,
     "metadata": {},
     "output_type": "execute_result"
    }
   ],
   "source": [
    "celf_tests.shape, owls_tests.shape, pls_tests.shape"
   ]
  },
  {
   "cell_type": "markdown",
   "metadata": {},
   "source": [
    "OWLS to CELF"
   ]
  },
  {
   "cell_type": "code",
   "execution_count": 43,
   "metadata": {},
   "outputs": [],
   "source": [
    "celf_owls = celf_tests[['study_id', 'score']].merge(owls_tests, on='study_id', suffixes=['_celf', '_owls'])\n",
    "X = celf_owls.groupby('study_id').mean()\n",
    "y = X.pop('score_celf')\n",
    "X = X.fillna(X.mean())"
   ]
  },
  {
   "cell_type": "code",
   "execution_count": 44,
   "metadata": {},
   "outputs": [
    {
     "data": {
      "text/plain": [
       "LinearRegression(copy_X=True, fit_intercept=True, n_jobs=None, normalize=False)"
      ]
     },
     "execution_count": 44,
     "metadata": {},
     "output_type": "execute_result"
    }
   ],
   "source": [
    "celf_owls_model = linear_model.LinearRegression()\n",
    "celf_owls_model.fit(X, y)"
   ]
  },
  {
   "cell_type": "code",
   "execution_count": 45,
   "metadata": {},
   "outputs": [],
   "source": [
    "X_pred = language_data.loc[language_data.test_name=='OWLS', ['score', 'age_test', 'sex', 'non_english', 'age_amp', 'age', 'sib']]\n",
    "X_pred['female'] = X_pred.sex.replace({'Male':0, 'Female':1})\n",
    "X_pred['non_english'] = X_pred.non_english.astype(float)\n",
    "X_pred = X_pred.drop('sex', axis=1)\n",
    "X_pred = X_pred.fillna(X_pred.mean())"
   ]
  },
  {
   "cell_type": "code",
   "execution_count": 46,
   "metadata": {},
   "outputs": [
    {
     "data": {
      "image/png": "[encoded data removed]",
      "text/plain": [
       "<Figure size 432x288 with 1 Axes>"
      ]
     },
     "metadata": {
      "needs_background": "light"
     },
     "output_type": "display_data"
    }
   ],
   "source": [
    "celf_owls_pred = celf_owls_model.predict(X_pred)\n",
    "sns.kdeplot(celf_owls_pred, label='celf_pred')\n",
    "sns.kdeplot(X_pred.score, label='owls');"
   ]
  },
  {
   "cell_type": "code",
   "execution_count": 48,
   "metadata": {},
   "outputs": [],
   "source": [
    "celf_owls_pred = pd.Series(celf_owls_pred, index=X_pred.index)"
   ]
  },
  {
   "cell_type": "code",
   "execution_count": 49,
   "metadata": {},
   "outputs": [],
   "source": [
    "lsl_dr.loc[celf_owls_pred.index, 'score_adj'] = celf_owls_pred"
   ]
  },
  {
   "cell_type": "markdown",
   "metadata": {},
   "source": [
    "PLS to CELF"
   ]
  },
  {
   "cell_type": "code",
   "execution_count": 50,
   "metadata": {},
   "outputs": [],
   "source": [
    "celf_pls = celf_tests[['study_id', 'score']].merge(pls_tests, on='study_id', suffixes=['_celf', '_pls'])\n",
    "X = celf_pls.groupby('study_id').mean()\n",
    "y = X.pop('score_celf')\n",
    "X = X.fillna(X.mean())"
   ]
  },
  {
   "cell_type": "code",
   "execution_count": 51,
   "metadata": {},
   "outputs": [
    {
     "data": {
      "text/plain": [
       "LinearRegression(copy_X=True, fit_intercept=True, n_jobs=None, normalize=False)"
      ]
     },
     "execution_count": 51,
     "metadata": {},
     "output_type": "execute_result"
    }
   ],
   "source": [
    "celf_pls_model = linear_model.LinearRegression()\n",
    "celf_pls_model.fit(X, y)"
   ]
  },
  {
   "cell_type": "code",
   "execution_count": 52,
   "metadata": {},
   "outputs": [],
   "source": [
    "X_pred = language_data.loc[language_data.test_name=='PLS', ['score', 'age_test', 'sex', 'non_english', 'age_amp', 'age', 'sib']]\n",
    "X_pred['female'] = X_pred.sex.replace({'Male':0, 'Female':1})\n",
    "X_pred['non_english'] = X_pred.non_english.astype(float)\n",
    "X_pred = X_pred.drop('sex', axis=1)\n",
    "X_pred = X_pred.fillna(X_pred.mean())"
   ]
  },
  {
   "cell_type": "code",
   "execution_count": 53,
   "metadata": {},
   "outputs": [
    {
     "data": {
      "image/png": "[encoded data removed]",
      "text/plain": [
       "<Figure size 432x288 with 1 Axes>"
      ]
     },
     "metadata": {
      "needs_background": "light"
     },
     "output_type": "display_data"
    }
   ],
   "source": [
    "celf_pls_pred = celf_pls_model.predict(X_pred)\n",
    "sns.kdeplot(celf_pls_pred, label='celf_pred')\n",
    "sns.kdeplot(X_pred.score, label='pls');"
   ]
  },
  {
   "cell_type": "code",
   "execution_count": 54,
   "metadata": {},
   "outputs": [],
   "source": [
    "celf_pls_pred = pd.Series(celf_pls_pred, index=X_pred.index)"
   ]
  },
  {
   "cell_type": "code",
   "execution_count": 55,
   "metadata": {},
   "outputs": [],
   "source": [
    "lsl_dr.loc[celf_pls_pred.index, 'score_adj'] = celf_pls_pred"
   ]
  },
  {
   "cell_type": "code",
   "execution_count": 57,
   "metadata": {},
   "outputs": [],
   "source": [
    "lsl_dr.to_csv('../data/clean/lsl_dr_frozen_09272019.csv', index=False)"
   ]
  }
 ],
 "metadata": {
  "kernelspec": {
   "display_name": "Python 3",
   "language": "python",
   "name": "python3"
  },
  "language_info": {
   "codemirror_mode": {
    "name": "ipython",
    "version": 3
   },
   "file_extension": ".py",
   "mimetype": "text/x-python",
   "name": "python",
   "nbconvert_exporter": "python",
   "pygments_lexer": "ipython3",
   "version": "3.7.3"
  }
 },
 "nbformat": 4,
 "nbformat_minor": 4
}
