{
 "cells": [
  {
   "cell_type": "markdown",
   "metadata": {},
   "source": [
    "# Factors that Influence Outcomes of the Five Domains of Speech-Language in Children with Hearing Loss at age 4 years\n",
    "\n",
    "Paper 1"
   ]
  },
  {
   "cell_type": "code",
   "execution_count": 1,
   "metadata": {},
   "outputs": [],
   "source": [
    "# Import modules and set options\n",
    "%matplotlib inline\n",
    "import matplotlib.pyplot as plt\n",
    "import pandas as pd\n",
    "import numpy as np\n",
    "import seaborn as sns\n",
    "import arviz as az\n",
    "import theano\n",
    "\n",
    "theano.config.gcc.cxxflags = \"-Wno-c++11-narrowing\"\n",
    "\n",
    "sns.set(context='notebook', style='ticks')"
   ]
  },
  {
   "cell_type": "markdown",
   "metadata": {},
   "source": [
    "Import data"
   ]
  },
  {
   "cell_type": "code",
   "execution_count": 2,
   "metadata": {},
   "outputs": [],
   "source": [
    "lsl_dr = (pd.read_csv('../data/clean/lsl_dr_frozen_09272019.csv', index_col=0, low_memory=False)\n",
    "                  .rename({'onset_1':'identify_mo'}, axis=1))"
   ]
  },
  {
   "cell_type": "code",
   "execution_count": 3,
   "metadata": {},
   "outputs": [
    {
     "data": {
      "text/html": [
       "<div>\n",
       "<style scoped>\n",
       "    .dataframe tbody tr th:only-of-type {\n",
       "        vertical-align: middle;\n",
       "    }\n",
       "\n",
       "    .dataframe tbody tr th {\n",
       "        vertical-align: top;\n",
       "    }\n",
       "\n",
       "    .dataframe thead th {\n",
       "        text-align: right;\n",
       "    }\n",
       "</style>\n",
       "<table border=\"1\" class=\"dataframe\">\n",
       "  <thead>\n",
       "    <tr style=\"text-align: right;\">\n",
       "      <th></th>\n",
       "      <th>academic_year_rv</th>\n",
       "      <th>hl</th>\n",
       "      <th>male</th>\n",
       "      <th>_race</th>\n",
       "      <th>prim_lang</th>\n",
       "      <th>sib</th>\n",
       "      <th>_mother_ed</th>\n",
       "      <th>father_ed</th>\n",
       "      <th>par1_ed</th>\n",
       "      <th>par2_ed</th>\n",
       "      <th>...</th>\n",
       "      <th>gf3_siw_ss</th>\n",
       "      <th>gf_version</th>\n",
       "      <th>ppvt_f</th>\n",
       "      <th>ppvt_ss</th>\n",
       "      <th>rowpvt_ss</th>\n",
       "      <th>school</th>\n",
       "      <th>score</th>\n",
       "      <th>test_name</th>\n",
       "      <th>test_type</th>\n",
       "      <th>score_adj</th>\n",
       "    </tr>\n",
       "    <tr>\n",
       "      <th>redcap_event_name</th>\n",
       "      <th></th>\n",
       "      <th></th>\n",
       "      <th></th>\n",
       "      <th></th>\n",
       "      <th></th>\n",
       "      <th></th>\n",
       "      <th></th>\n",
       "      <th></th>\n",
       "      <th></th>\n",
       "      <th></th>\n",
       "      <th></th>\n",
       "      <th></th>\n",
       "      <th></th>\n",
       "      <th></th>\n",
       "      <th></th>\n",
       "      <th></th>\n",
       "      <th></th>\n",
       "      <th></th>\n",
       "      <th></th>\n",
       "      <th></th>\n",
       "      <th></th>\n",
       "    </tr>\n",
       "  </thead>\n",
       "  <tbody>\n",
       "    <tr>\n",
       "      <th>initial_assessment_arm_1</th>\n",
       "      <td>2002.0</td>\n",
       "      <td>0.0</td>\n",
       "      <td>0.0</td>\n",
       "      <td>0.0</td>\n",
       "      <td>0.0</td>\n",
       "      <td>1.0</td>\n",
       "      <td>6.0</td>\n",
       "      <td>6.0</td>\n",
       "      <td>NaN</td>\n",
       "      <td>NaN</td>\n",
       "      <td>...</td>\n",
       "      <td>NaN</td>\n",
       "      <td>NaN</td>\n",
       "      <td>NaN</td>\n",
       "      <td>NaN</td>\n",
       "      <td>NaN</td>\n",
       "      <td>101</td>\n",
       "      <td>58.0</td>\n",
       "      <td>NaN</td>\n",
       "      <td>EOWPVT</td>\n",
       "      <td>59.847785</td>\n",
       "    </tr>\n",
       "    <tr>\n",
       "      <th>initial_assessment_arm_1</th>\n",
       "      <td>2002.0</td>\n",
       "      <td>0.0</td>\n",
       "      <td>0.0</td>\n",
       "      <td>0.0</td>\n",
       "      <td>0.0</td>\n",
       "      <td>1.0</td>\n",
       "      <td>6.0</td>\n",
       "      <td>6.0</td>\n",
       "      <td>NaN</td>\n",
       "      <td>NaN</td>\n",
       "      <td>...</td>\n",
       "      <td>NaN</td>\n",
       "      <td>NaN</td>\n",
       "      <td>NaN</td>\n",
       "      <td>NaN</td>\n",
       "      <td>NaN</td>\n",
       "      <td>101</td>\n",
       "      <td>51.0</td>\n",
       "      <td>PLS</td>\n",
       "      <td>receptive</td>\n",
       "      <td>48.176390</td>\n",
       "    </tr>\n",
       "    <tr>\n",
       "      <th>initial_assessment_arm_1</th>\n",
       "      <td>2002.0</td>\n",
       "      <td>0.0</td>\n",
       "      <td>0.0</td>\n",
       "      <td>0.0</td>\n",
       "      <td>0.0</td>\n",
       "      <td>1.0</td>\n",
       "      <td>6.0</td>\n",
       "      <td>6.0</td>\n",
       "      <td>NaN</td>\n",
       "      <td>NaN</td>\n",
       "      <td>...</td>\n",
       "      <td>NaN</td>\n",
       "      <td>NaN</td>\n",
       "      <td>NaN</td>\n",
       "      <td>NaN</td>\n",
       "      <td>NaN</td>\n",
       "      <td>101</td>\n",
       "      <td>60.0</td>\n",
       "      <td>PLS</td>\n",
       "      <td>expressive</td>\n",
       "      <td>57.345971</td>\n",
       "    </tr>\n",
       "    <tr>\n",
       "      <th>initial_assessment_arm_1</th>\n",
       "      <td>2002.0</td>\n",
       "      <td>0.0</td>\n",
       "      <td>0.0</td>\n",
       "      <td>0.0</td>\n",
       "      <td>0.0</td>\n",
       "      <td>1.0</td>\n",
       "      <td>6.0</td>\n",
       "      <td>6.0</td>\n",
       "      <td>NaN</td>\n",
       "      <td>NaN</td>\n",
       "      <td>...</td>\n",
       "      <td>NaN</td>\n",
       "      <td>NaN</td>\n",
       "      <td>NaN</td>\n",
       "      <td>NaN</td>\n",
       "      <td>NaN</td>\n",
       "      <td>101</td>\n",
       "      <td>54.0</td>\n",
       "      <td>PLS</td>\n",
       "      <td>total</td>\n",
       "      <td>51.232917</td>\n",
       "    </tr>\n",
       "    <tr>\n",
       "      <th>initial_assessment_arm_1</th>\n",
       "      <td>2011.0</td>\n",
       "      <td>0.0</td>\n",
       "      <td>0.0</td>\n",
       "      <td>2.0</td>\n",
       "      <td>0.0</td>\n",
       "      <td>1.0</td>\n",
       "      <td>5.0</td>\n",
       "      <td>5.0</td>\n",
       "      <td>NaN</td>\n",
       "      <td>NaN</td>\n",
       "      <td>...</td>\n",
       "      <td>NaN</td>\n",
       "      <td>NaN</td>\n",
       "      <td>NaN</td>\n",
       "      <td>NaN</td>\n",
       "      <td>NaN</td>\n",
       "      <td>626</td>\n",
       "      <td>50.0</td>\n",
       "      <td>PLS</td>\n",
       "      <td>receptive</td>\n",
       "      <td>50.000000</td>\n",
       "    </tr>\n",
       "  </tbody>\n",
       "</table>\n",
       "<p>5 rows × 246 columns</p>\n",
       "</div>"
      ],
      "text/plain": [
       "                          academic_year_rv   hl  male  _race  prim_lang  sib  \\\n",
       "redcap_event_name                                                              \n",
       "initial_assessment_arm_1            2002.0  0.0   0.0    0.0        0.0  1.0   \n",
       "initial_assessment_arm_1            2002.0  0.0   0.0    0.0        0.0  1.0   \n",
       "initial_assessment_arm_1            2002.0  0.0   0.0    0.0        0.0  1.0   \n",
       "initial_assessment_arm_1            2002.0  0.0   0.0    0.0        0.0  1.0   \n",
       "initial_assessment_arm_1            2011.0  0.0   0.0    2.0        0.0  1.0   \n",
       "\n",
       "                          _mother_ed  father_ed  par1_ed  par2_ed  ...  \\\n",
       "redcap_event_name                                                  ...   \n",
       "initial_assessment_arm_1         6.0        6.0      NaN      NaN  ...   \n",
       "initial_assessment_arm_1         6.0        6.0      NaN      NaN  ...   \n",
       "initial_assessment_arm_1         6.0        6.0      NaN      NaN  ...   \n",
       "initial_assessment_arm_1         6.0        6.0      NaN      NaN  ...   \n",
       "initial_assessment_arm_1         5.0        5.0      NaN      NaN  ...   \n",
       "\n",
       "                          gf3_siw_ss  gf_version  ppvt_f  ppvt_ss  rowpvt_ss  \\\n",
       "redcap_event_name                                                              \n",
       "initial_assessment_arm_1         NaN         NaN     NaN      NaN        NaN   \n",
       "initial_assessment_arm_1         NaN         NaN     NaN      NaN        NaN   \n",
       "initial_assessment_arm_1         NaN         NaN     NaN      NaN        NaN   \n",
       "initial_assessment_arm_1         NaN         NaN     NaN      NaN        NaN   \n",
       "initial_assessment_arm_1         NaN         NaN     NaN      NaN        NaN   \n",
       "\n",
       "                          school  score  test_name   test_type  score_adj  \n",
       "redcap_event_name                                                          \n",
       "initial_assessment_arm_1     101   58.0        NaN      EOWPVT  59.847785  \n",
       "initial_assessment_arm_1     101   51.0        PLS   receptive  48.176390  \n",
       "initial_assessment_arm_1     101   60.0        PLS  expressive  57.345971  \n",
       "initial_assessment_arm_1     101   54.0        PLS       total  51.232917  \n",
       "initial_assessment_arm_1     626   50.0        PLS   receptive  50.000000  \n",
       "\n",
       "[5 rows x 246 columns]"
      ]
     },
     "execution_count": 3,
     "metadata": {},
     "output_type": "execute_result"
    }
   ],
   "source": [
    "lsl_dr.head()"
   ]
  },
  {
   "cell_type": "code",
   "execution_count": 4,
   "metadata": {},
   "outputs": [
    {
     "data": {
      "text/plain": [
       "6137"
      ]
     },
     "execution_count": 4,
     "metadata": {},
     "output_type": "execute_result"
    }
   ],
   "source": [
    "lsl_dr.drop_duplicates('study_id').shape[0]"
   ]
  },
  {
   "cell_type": "markdown",
   "metadata": {},
   "source": [
    "Indicator for non-profound hearing loss"
   ]
  },
  {
   "cell_type": "code",
   "execution_count": 5,
   "metadata": {},
   "outputs": [],
   "source": [
    "lsl_dr['deg_hl_below6'] = lsl_dr.degree_hl<6\n",
    "lsl_dr.loc[lsl_dr.degree_hl.isnull(), 'deg_hl_below6'] = np.nan"
   ]
  },
  {
   "cell_type": "markdown",
   "metadata": {},
   "source": [
    "Indicator for first intervention outside OPTION"
   ]
  },
  {
   "cell_type": "code",
   "execution_count": 6,
   "metadata": {},
   "outputs": [],
   "source": [
    "lsl_dr['int_outside_option'] = lsl_dr.age > lsl_dr.age_int\n",
    "lsl_dr.loc[lsl_dr.age < lsl_dr.age_int, 'int_outside_option'] = np.nan"
   ]
  },
  {
   "cell_type": "markdown",
   "metadata": {},
   "source": [
    "Indicator for high school graduation of mother"
   ]
  },
  {
   "cell_type": "code",
   "execution_count": 7,
   "metadata": {},
   "outputs": [],
   "source": [
    "lsl_dr['mother_hs'] = lsl_dr.mother_ed > 1\n",
    "lsl_dr.loc[lsl_dr.mother_ed.isnull(), 'mother_hs'] = None"
   ]
  },
  {
   "cell_type": "markdown",
   "metadata": {},
   "source": [
    "Create age in years variable"
   ]
  },
  {
   "cell_type": "code",
   "execution_count": 8,
   "metadata": {},
   "outputs": [],
   "source": [
    "lsl_dr['age_years'] = lsl_dr.age/12."
   ]
  },
  {
   "cell_type": "markdown",
   "metadata": {},
   "source": [
    "Create school index"
   ]
  },
  {
   "cell_type": "code",
   "execution_count": 9,
   "metadata": {},
   "outputs": [],
   "source": [
    "schools_unique = np.sort(lsl_dr.school.unique())\n",
    "school_lookup = dict(zip(schools_unique, range(len(schools_unique))))"
   ]
  },
  {
   "cell_type": "code",
   "execution_count": 10,
   "metadata": {},
   "outputs": [],
   "source": [
    "lsl_dr['school_idx'] = lsl_dr.school.replace(school_lookup)"
   ]
  },
  {
   "cell_type": "markdown",
   "metadata": {},
   "source": [
    "Create student index"
   ]
  },
  {
   "cell_type": "code",
   "execution_count": 11,
   "metadata": {},
   "outputs": [],
   "source": [
    "student_unique = np.sort(lsl_dr.study_id.unique())\n",
    "student_lookup = dict(zip(student_unique, range(len(student_unique))))"
   ]
  },
  {
   "cell_type": "code",
   "execution_count": 12,
   "metadata": {},
   "outputs": [],
   "source": [
    "lsl_dr['student_idx'] = lsl_dr.study_id.replace(student_lookup)"
   ]
  },
  {
   "cell_type": "code",
   "execution_count": 13,
   "metadata": {},
   "outputs": [
    {
     "data": {
      "text/plain": [
       "(2656, 252)"
      ]
     },
     "execution_count": 13,
     "metadata": {},
     "output_type": "execute_result"
    }
   ],
   "source": [
    "age_mask = (lsl_dr.age_test>=48) & (lsl_dr.age_test<60)\n",
    "lsl_dr[age_mask].drop_duplicates('student_idx').shape"
   ]
  },
  {
   "cell_type": "markdown",
   "metadata": {},
   "source": [
    "### Exclusions\n",
    "\n",
    "Drop non-english and other disabilities, filter for hearing loss"
   ]
  },
  {
   "cell_type": "code",
   "execution_count": 14,
   "metadata": {},
   "outputs": [],
   "source": [
    "other_etiology = (lsl_dr[['etiology_3___2', 'etiology_3___4', 'etiology_3___5', 'etiology_3___6', 'etiology_3___9',\n",
    "       'etiology_oth___1', 'etiology_oth___3', 'etiology_oth___4', 'etiology_oth___8', 'etiology_oth___9']]\n",
    "                      .sum(1).astype(bool))"
   ]
  },
  {
   "cell_type": "markdown",
   "metadata": {},
   "source": [
    "Excluding kids with non-english as first language, kids with no hearing loss, and kids with additional cognitive concerns. We define this to be primary language is not zero; kids with no hearing loss are those with non-4 value for hearing loss type variable; cognitive concerns are those with `etiology_2` not 0 or 4, or if the value is missing, there are no `other_etiology` flags."
   ]
  },
  {
   "cell_type": "code",
   "execution_count": 15,
   "metadata": {},
   "outputs": [],
   "source": [
    "inclusion_mask = (~lsl_dr.non_english.astype(bool) \n",
    "                  & ((lsl_dr.type_hl_ad!=4) & (lsl_dr.type_hl_as!=4))\n",
    "                  & ((lsl_dr.etiology_2.isin([0,4])) | (lsl_dr.etiology_2.isnull() & ~other_etiology)))"
   ]
  },
  {
   "cell_type": "code",
   "execution_count": 16,
   "metadata": {},
   "outputs": [],
   "source": [
    "covariates = ['score_adj', 'student_idx', 'school_idx', 'male', 'sib', 'family_inv', 'race', \n",
    "              'age_test', 'premature_weeks', 'age_amp', 'parent_hl',\n",
    "              'domain', 'deg_hl_below6', 'mother_hs', 'mother_college', 'age_years', 'test_type', \n",
    "              'time', 'bilateral_ci', 'one_or_both_parent_hl',\n",
    "              'bilateral_ha', 'unilateral_ci', 'unilateral_ha', \n",
    "              'bimodal', 'assymetrical', 'age_int', 'autism', 'test_name']"
   ]
  },
  {
   "cell_type": "code",
   "execution_count": 17,
   "metadata": {},
   "outputs": [],
   "source": [
    "hl_type_cols = lsl_dr.columns[lsl_dr.columns.str.contains('lateral')].values.tolist()"
   ]
  },
  {
   "cell_type": "code",
   "execution_count": 18,
   "metadata": {},
   "outputs": [],
   "source": [
    "covariates += list(set(hl_type_cols))\n",
    "covariates = list(set(covariates))"
   ]
  },
  {
   "cell_type": "markdown",
   "metadata": {},
   "source": [
    "Number of children that do not meet each of the three inclusion criteria alone. Note that some students may meet more than one."
   ]
  },
  {
   "cell_type": "code",
   "execution_count": 19,
   "metadata": {},
   "outputs": [
    {
     "data": {
      "text/plain": [
       "1140"
      ]
     },
     "execution_count": 19,
     "metadata": {},
     "output_type": "execute_result"
    }
   ],
   "source": [
    "lsl_dr[lsl_dr.non_english.astype(bool)].drop_duplicates('student_idx').shape[0]"
   ]
  },
  {
   "cell_type": "code",
   "execution_count": 20,
   "metadata": {},
   "outputs": [
    {
     "data": {
      "text/plain": [
       "703"
      ]
     },
     "execution_count": 20,
     "metadata": {},
     "output_type": "execute_result"
    }
   ],
   "source": [
    "lsl_dr[~((lsl_dr.type_hl_ad!=4) & (lsl_dr.type_hl_as!=4))].drop_duplicates('student_idx').shape[0]"
   ]
  },
  {
   "cell_type": "code",
   "execution_count": 21,
   "metadata": {},
   "outputs": [
    {
     "data": {
      "text/plain": [
       "1494"
      ]
     },
     "execution_count": 21,
     "metadata": {},
     "output_type": "execute_result"
    }
   ],
   "source": [
    "lsl_dr[~(((lsl_dr.etiology_2.isin([0,4])) | (lsl_dr.etiology_2.isnull() & ~other_etiology)))].drop_duplicates('student_idx').shape[0]"
   ]
  },
  {
   "cell_type": "markdown",
   "metadata": {},
   "source": [
    "Apply inclusion mask to show total number of records."
   ]
  },
  {
   "cell_type": "code",
   "execution_count": 22,
   "metadata": {},
   "outputs": [
    {
     "data": {
      "text/plain": [
       "1140"
      ]
     },
     "execution_count": 22,
     "metadata": {},
     "output_type": "execute_result"
    }
   ],
   "source": [
    "lsl_dr[lsl_dr.non_english.astype(bool)].drop_duplicates('student_idx').shape[0]"
   ]
  },
  {
   "cell_type": "code",
   "execution_count": 23,
   "metadata": {},
   "outputs": [
    {
     "data": {
      "text/plain": [
       "703"
      ]
     },
     "execution_count": 23,
     "metadata": {},
     "output_type": "execute_result"
    }
   ],
   "source": [
    "lsl_dr[~((lsl_dr.type_hl_ad!=4) & (lsl_dr.type_hl_as!=4))].drop_duplicates('student_idx').shape[0]"
   ]
  },
  {
   "cell_type": "code",
   "execution_count": 24,
   "metadata": {},
   "outputs": [
    {
     "data": {
      "text/plain": [
       "1494"
      ]
     },
     "execution_count": 24,
     "metadata": {},
     "output_type": "execute_result"
    }
   ],
   "source": [
    "lsl_dr[~(((lsl_dr.etiology_2.isin([0,4])) | (lsl_dr.etiology_2.isnull() & ~other_etiology)))].drop_duplicates('student_idx').shape[0]"
   ]
  },
  {
   "cell_type": "code",
   "execution_count": 25,
   "metadata": {},
   "outputs": [
    {
     "data": {
      "text/plain": [
       "5802"
      ]
     },
     "execution_count": 25,
     "metadata": {},
     "output_type": "execute_result"
    }
   ],
   "source": [
    "lsl_dr[~((lsl_dr.age_test>=48) & (lsl_dr.age_test<60))].drop_duplicates('student_idx').shape[0]"
   ]
  },
  {
   "cell_type": "code",
   "execution_count": 26,
   "metadata": {},
   "outputs": [
    {
     "data": {
      "text/plain": [
       "(35512, 54)"
      ]
     },
     "execution_count": 26,
     "metadata": {},
     "output_type": "execute_result"
    }
   ],
   "source": [
    "analysis_subset = lsl_dr.loc[inclusion_mask, covariates].copy().dropna(subset=['time'])\n",
    "analysis_subset.shape"
   ]
  },
  {
   "cell_type": "markdown",
   "metadata": {},
   "source": [
    "Total unique students with inclusion criteria."
   ]
  },
  {
   "cell_type": "code",
   "execution_count": 27,
   "metadata": {},
   "outputs": [
    {
     "data": {
      "text/plain": [
       "(3370, 54)"
      ]
     },
     "execution_count": 27,
     "metadata": {},
     "output_type": "execute_result"
    }
   ],
   "source": [
    "analysis_subset.drop_duplicates('student_idx').shape"
   ]
  },
  {
   "cell_type": "code",
   "execution_count": 28,
   "metadata": {},
   "outputs": [
    {
     "data": {
      "text/plain": [
       "bilateral_ci     0.694807\n",
       "bilateral_ha     0.212970\n",
       "unilateral_ci    0.015150\n",
       "unilateral_ha    0.010053\n",
       "bimodal          0.054855\n",
       "dtype: float64"
      ]
     },
     "execution_count": 28,
     "metadata": {},
     "output_type": "execute_result"
    }
   ],
   "source": [
    "analysis_subset[['bilateral_ci',\n",
    "              'bilateral_ha', 'unilateral_ci', 'unilateral_ha', 'bimodal']].mean()"
   ]
  },
  {
   "cell_type": "code",
   "execution_count": 29,
   "metadata": {},
   "outputs": [],
   "source": [
    "analysis_subset['premature'] = (analysis_subset.premature_weeks>0).astype(float)\n",
    "analysis_subset.loc[analysis_subset.premature_weeks.isnull(), 'premature'] = np.nan"
   ]
  },
  {
   "cell_type": "markdown",
   "metadata": {},
   "source": [
    "Add expressive and receptive to langauge test domains"
   ]
  },
  {
   "cell_type": "code",
   "execution_count": 30,
   "metadata": {},
   "outputs": [],
   "source": [
    "analysis_subset.loc[(analysis_subset.domain=='Language') & (analysis_subset.test_type=='receptive'), \n",
    "           'domain'] = 'Receptive Language'\n",
    "analysis_subset.loc[(analysis_subset.domain=='Language') & (analysis_subset.test_type=='expressive'), \n",
    "           'domain'] = 'Expressive Language'"
   ]
  },
  {
   "cell_type": "code",
   "execution_count": 31,
   "metadata": {},
   "outputs": [
    {
     "data": {
      "text/plain": [
       "<matplotlib.axes._subplots.AxesSubplot at 0x7fd998f7a940>"
      ]
     },
     "execution_count": 31,
     "metadata": {},
     "output_type": "execute_result"
    },
    {
     "data": {
      "image/png": "[encoded data removed]",
      "text/plain": [
       "<Figure size 432x288 with 1 Axes>"
      ]
     },
     "metadata": {},
     "output_type": "display_data"
    }
   ],
   "source": [
    "analysis_subset[analysis_subset.age_test<100].age_test.hist()"
   ]
  },
  {
   "cell_type": "markdown",
   "metadata": {},
   "source": [
    "Drop records with missing race and age at ernollment, since there is less than 1% of them"
   ]
  },
  {
   "cell_type": "code",
   "execution_count": 32,
   "metadata": {},
   "outputs": [],
   "source": [
    "analysis_subset = analysis_subset.dropna(subset=['race', 'age_years', 'age_test', 'parent_hl'])"
   ]
  },
  {
   "cell_type": "code",
   "execution_count": 33,
   "metadata": {},
   "outputs": [
    {
     "data": {
      "text/plain": [
       "40"
      ]
     },
     "execution_count": 33,
     "metadata": {},
     "output_type": "execute_result"
    }
   ],
   "source": [
    "analysis_subset.autism.sum()"
   ]
  },
  {
   "cell_type": "markdown",
   "metadata": {},
   "source": [
    "Number of unique 4-year-olds that match inclusion criteria."
   ]
  },
  {
   "cell_type": "code",
   "execution_count": 34,
   "metadata": {},
   "outputs": [
    {
     "data": {
      "text/plain": [
       "(1424, 55)"
      ]
     },
     "execution_count": 34,
     "metadata": {},
     "output_type": "execute_result"
    }
   ],
   "source": [
    "age_mask = (analysis_subset.age_test>=48) & (analysis_subset.age_test<60)\n",
    "subset_4yo = analysis_subset[age_mask].drop_duplicates('student_idx')\n",
    "subset_4yo.shape"
   ]
  },
  {
   "cell_type": "code",
   "execution_count": 35,
   "metadata": {},
   "outputs": [
    {
     "data": {
      "text/plain": [
       "test_name                 1278\n",
       "mother_hs                  377\n",
       "mother_college             377\n",
       "age_int                    335\n",
       "age_amp                    262\n",
       "premature                  228\n",
       "premature_weeks            228\n",
       "deg_hl_below6              187\n",
       "one_or_both_parent_hl      172\n",
       "family_inv                 151\n",
       "sib                         65\n",
       "bimodal                      0\n",
       "bilateral_hl_moderate        0\n",
       "bilateral_ci                 0\n",
       "unilateral_ansd              0\n",
       "student_idx                  0\n",
       "bilateral_hl_profound        0\n",
       "bilateral_normal             0\n",
       "unilateral_ha                0\n",
       "bilateral_hl_slight          0\n",
       "bilateral_mixed              0\n",
       "score_adj                    0\n",
       "bilateral_ha                 0\n",
       "unilateral_hl_modsev         0\n",
       "bilateral_hl_normal          0\n",
       "unilateral_snhl              0\n",
       "bilateral_hl_mild            0\n",
       "age_years                    0\n",
       "unilateral_cond              0\n",
       "bilateral_ansd               0\n",
       "unilateral_other             0\n",
       "unilateral_unk               0\n",
       "bilateral_cond               0\n",
       "assymetrical                 0\n",
       "bilateral_snhl               0\n",
       "autism                       0\n",
       "domain                       0\n",
       "bilateral_hl_severe          0\n",
       "unilateral_hl_mild           0\n",
       "unilateral_mixed             0\n",
       "race                         0\n",
       "unilateral_hl_profound       0\n",
       "unilateral_hl_moderate       0\n",
       "time                         0\n",
       "male                         0\n",
       "bilateral_hl_modsev          0\n",
       "unilateral_ci                0\n",
       "age_test                     0\n",
       "bilateral_unk                0\n",
       "parent_hl                    0\n",
       "test_type                    0\n",
       "unilateral_hl_severe         0\n",
       "unilateral_hl_slight         0\n",
       "bilateral_other              0\n",
       "school_idx                   0\n",
       "dtype: int64"
      ]
     },
     "execution_count": 35,
     "metadata": {},
     "output_type": "execute_result"
    }
   ],
   "source": [
    "subset_4yo.isnull().sum().sort_values(ascending=False)"
   ]
  },
  {
   "cell_type": "code",
   "execution_count": 36,
   "metadata": {},
   "outputs": [],
   "source": [
    "analysis_subset.to_csv('../data/clean/analysis_subset.csv', index=False)"
   ]
  },
  {
   "cell_type": "code",
   "execution_count": 37,
   "metadata": {},
   "outputs": [],
   "source": [
    "# analysis_subset = pd.read_csv('../data/clean/analysis_subset.csv')\n",
    "# analysis_subset.head()"
   ]
  },
  {
   "cell_type": "code",
   "execution_count": 38,
   "metadata": {},
   "outputs": [
    {
     "name": "stderr",
     "output_type": "stream",
     "text": [
      "'c' argument looks like a single numeric RGB or RGBA sequence, which should be avoided as value-mapping will have precedence in case its length matches with 'x' & 'y'.  Please use a 2-D array with a single row if you really want to specify the same RGB or RGBA value for all points.\n"
     ]
    },
    {
     "data": {
      "text/plain": [
       "<matplotlib.collections.LineCollection at 0x7fd96de24128>"
      ]
     },
     "execution_count": 38,
     "metadata": {},
     "output_type": "execute_result"
    },
    {
     "data": {
      "image/png": "[encoded data removed]",
      "text/plain": [
       "<Figure size 432x288 with 1 Axes>"
      ]
     },
     "metadata": {},
     "output_type": "display_data"
    }
   ],
   "source": [
    "ax = analysis_subset[(analysis_subset.domain=='Expressive Vocabulary')\n",
    "               & (analysis_subset.deg_hl_below6==0)\n",
    "                     & (analysis_subset.time>=2)].plot.scatter(x='age_amp', y='score_adj', alpha=0.3)\n",
    "plt.hlines(100, 0, 160)\n",
    "plt.vlines(24, 20, 150)"
   ]
  },
  {
   "cell_type": "markdown",
   "metadata": {},
   "source": [
    "## Covariate model specification\n",
    "\n",
    "Student test scores were modeled across five domains: receptive language, expressive \n",
    "language, articulation, receptive vocabulary, and expressive vocabulary. Each domain was modeled separately, using the same general model structure, a Bayesian hierarchical mixed-effects linear model.\n",
    "\n",
    "Consistent with the goals of the analysis, namely evaluating speech and language outcomes at 4 years of age, the subset of the dataset analyzed was restricted to children between the ages 48 and 60 months at the time of testing. Due to this age restriction, most students in the dataset contributed only one test score to the analysis, but several individuals (on the order of 100-200, depending on the test) contributed two or more. Rather than address the repeated measures (and resulting lack of independence) statistically, the mean test score was used for each student with more than one reported score within each domain.\n",
    "\n",
    "Eight potential predictor variables (covariates) were included in the model as fixed effects, based on a priori expert opinion that considered them to be possibly influential for predicting test scores, and on the presence of reasonable variation in the predictor variable across subjects; variables that had identical values over a large portion of subjects were excluded. The final subset of covariates included gender, family involvement index, number of siblings in household, degree of hearing loss, mother’s education, age of enrollment, and time in the program. The family involvement scale is a 5-category ordinal variable that ranges from ideal participation by family (0) to limited participation (4) (Moeller, 2000). Mother’s education was coded as a binary variable that identifie children whose mother ha at least a high school diploma as the highest level of completed education. The degree of hearing loss was coded as a binary variable that took the value 1 if the degree of loss (based on PTA or ABR results) was less than 6 (profound), resulting in a variable that indicate non-profound hearing loss. Since degree of loss was considered important a priori, we wished to include it in the model, but the lack of variation among non-profound scores (<6) necessitated recoding into fewer categories. These variables were included together in a multivariate mixed effects model so that the estimates of each covariate effect re adjusted for the effects of the others. For example, the effect of decreased family involvement s the estimated effect after taking into account the other variables in the model.\n",
    "\n",
    "In addition to the fixed effects specified above, we included a random effect to account for the variation in test scores among schools, over and above the variation explained by our variables of interest. This random effect estimates the mean and variance of the population of schools comprising this multi-center study. Hence, the predicted score for any particular student is a combination of the fixed effect predictors and the random effect from his or her school. The residual variation from the model is assumed to be normally distributed. \n",
    "\n",
    "The LSL-DR dataset includes several covariates of interest that have observations missing for some records. In order to avoid conducting complete case analysis, we imputed missing values using Bayesian statistical methods, which allows us to use all available data in our model (REF). We included covariates where one third were missing for the subset of data corresponding to a particular test. Missing values were imputed in the model by constructing distributions of values based on the non-missing values, and sampling from this distribution at every iteration of the Markov Chain Monte Carlo (MCMC) sampling procedure used to estimate the model. This approach assumes that covariate values are \n",
    "missing completely at random (MCAR). As an ad hoc measure for checking for obvious violations of this assumption, we calculated mean values for other variables according to whether each covariate was missing; if means differed strongly according to missingness, this would suggest that missingness may not be completely at random.\n",
    "\n",
    "All models were estimated using Markov chain Monte Carlo (Brooks et al. 2011) methods. We specified vague priors to all unknown model parameters. Specifically, standard deviations of the random effects and the sampling distribution were given half-Cauchy priors with scale parameter set to 1, covariates were specified with zero-mean Gaussian priors with standard deviation 100, and the overall mean score also as Gaussian, but with a mean value of 100. Each model was run for 5000 iterations using the PyMC 3.5 software package (Salvatier et al. 2016), with 4000 iterations conservatively discarded as the burn-in interval, leaving 1000 for inference. Model convergence was checked by running a second MCMC chain, and calculating the Gelman-Rubin statistic (Gelman and Rubin 1992) using both chains. Model goodness-of-fit was evaluated using posterior predictive checks, by simulating mean outcome differences from the model and comparing the distribution of simulated differences to the observed mean difference. "
   ]
  },
  {
   "cell_type": "markdown",
   "metadata": {},
   "source": [
    "Utility function for filling NA values"
   ]
  },
  {
   "cell_type": "code",
   "execution_count": 39,
   "metadata": {},
   "outputs": [
    {
     "data": {
      "text/plain": [
       "masked_array(data=[0.4, --, 5.0],\n",
       "             mask=[False,  True, False],\n",
       "       fill_value=0.5)"
      ]
     },
     "execution_count": 39,
     "metadata": {},
     "output_type": "execute_result"
    }
   ],
   "source": [
    "def fillna(x, value):\n",
    "    x_masked = np.ma.masked_invalid(x)\n",
    "    np.ma.set_fill_value(x_masked, value)\n",
    "    return x_masked\n",
    "\n",
    "fillna(np.array([0.4, np.nan, 5]), 0.5)"
   ]
  },
  {
   "cell_type": "markdown",
   "metadata": {},
   "source": [
    "Age of amplification appears to be a mixture, so I will impute it as such"
   ]
  },
  {
   "cell_type": "code",
   "execution_count": 40,
   "metadata": {},
   "outputs": [
    {
     "data": {
      "image/png": "[encoded data removed]",
      "text/plain": [
       "<Figure size 432x288 with 1 Axes>"
      ]
     },
     "metadata": {},
     "output_type": "display_data"
    }
   ],
   "source": [
    "np.log(analysis_subset.age_amp+0.1).hist(bins=20);"
   ]
  },
  {
   "cell_type": "code",
   "execution_count": 41,
   "metadata": {},
   "outputs": [
    {
     "data": {
      "image/png": "[encoded data removed]",
      "text/plain": [
       "<Figure size 432x288 with 1 Axes>"
      ]
     },
     "metadata": {},
     "output_type": "display_data"
    }
   ],
   "source": [
    "(analysis_subset.age_amp/12).hist();"
   ]
  },
  {
   "cell_type": "code",
   "execution_count": 42,
   "metadata": {},
   "outputs": [],
   "source": [
    "from pymc3 import Bernoulli, Normal, Uniform, Dirichlet, Categorical, Beta, HalfCauchy\n",
    "from pymc3 import Gamma, Exponential, Multinomial, HalfNormal, NormalMixture, Lognormal\n",
    "from pymc3 import Model, Deterministic, Metropolis\n",
    "from numpy.ma import masked_values, set_fill_value, masked_invalid\n",
    "import theano.tensor as tt\n",
    "from theano import shared\n",
    "\n",
    "def generate_model(dataset, cohort_age, intervention=False):\n",
    "    \n",
    "    if cohort_age==2:\n",
    "        mask = (dataset.age_test>=24) & (dataset.age_test<36)\n",
    "    elif cohort_age==3:\n",
    "        mask = (dataset.age_test>=36) & (dataset.age_test<48)\n",
    "    elif cohort_age==4:\n",
    "        mask = (dataset.age_test>=48) & (dataset.age_test<60)\n",
    "    elif cohort_age==5:\n",
    "        mask = (dataset.age_test>=60) & (dataset.age_test<72)\n",
    "    elif cohort_age==6:\n",
    "        mask = (dataset.age_test>=72) & (dataset.age_test<84)\n",
    "    else:\n",
    "        print('Invalid age!')\n",
    "        return\n",
    "    \n",
    "    # Generate mean scores\n",
    "    # mean_scores = dataset[mask].groupby('student_idx').score.mean()\n",
    "    # Take the latest score\n",
    "    cohort_dataset = dataset[mask]\n",
    "    dataset_unique = cohort_dataset.loc[cohort_dataset.groupby('student_idx').age_test.idxmax()]\n",
    "\n",
    "    assert not dataset_unique.score_adj.isnull().sum()\n",
    "    \n",
    "    (male, sib, family_inv, race, school, premature, time, \n",
    "             non_severe, mother_college, age_amp,\n",
    "             age_int, score) = dataset_unique[['male', 'sib','family_inv', \n",
    "                                                           'race', 'school_idx', 'premature',\n",
    "                                                    'time', 'deg_hl_below6', 'mother_college', \n",
    "                                                    'age_amp', \n",
    "                                                    'age_int', 'score_adj']].astype(float).T.values\n",
    "\n",
    "    with Model() as model:\n",
    "        \n",
    "        # Imputation of age of amplification\n",
    "        if np.isnan(age_amp).sum():\n",
    "            m_age_amp = Normal(\"m_age_amp\", 0, sd=5, shape=2)\n",
    "            s_age_amp = Exponential(\"s_age_amp\", 1)\n",
    "            p_age_amp = Beta('p_age_amp', 1, 1)\n",
    "            _x_age_amp = NormalMixture('x_age_amp', [p_age_amp, 1-p_age_amp], m_age_amp, \n",
    "                                       sd=s_age_amp,\n",
    "                                       observed=masked_invalid(np.log(age_amp+0.1)))\n",
    "            x_age_amp = (tt.exp(_x_age_amp) - 0.1) / 12\n",
    "        else:\n",
    "            x_age_amp = age_amp / 12\n",
    "        \n",
    "        # Imputation of family involvement\n",
    "        if np.isnan(family_inv).sum():\n",
    "            p_family_inv = Dirichlet(\"p_family_inv\", np.ones(5))\n",
    "            x_family_inv = Categorical('x_family_inv', p_family_inv, \n",
    "                                       observed=masked_invalid(family_inv))\n",
    "        else:\n",
    "            x_family_inv = family_inv\n",
    "        \n",
    "        # Age of intervention\n",
    "        if intervention and np.isnan(age_int).sum():\n",
    "            m_int = Normal('m_int', 2, sd=5)\n",
    "            s_int = HalfNormal('s_int', sd=5)\n",
    "            x_age_int = Lognormal('x_premature', m_int, sd=s_int, observed=masked_invalid(age_int))\n",
    "        else:\n",
    "            x_age_int = age_int\n",
    "\n",
    "        # Imputation of siblings\n",
    "        if np.isnan(sib).sum():\n",
    "            n_sib_cats = len(dataset.sib.unique())\n",
    "            p_sib = Dirichlet(\"p_sib\", np.ones(n_sib_cats))\n",
    "            x_sib = Categorical('x_sib', p_sib, observed=masked_invalid(sib))\n",
    "        else:\n",
    "            x_sib = sib\n",
    "            \n",
    "        # Imputation of mother's college education\n",
    "        if np.isnan(mother_college).sum():\n",
    "            p_mother_college = Beta(\"p_mother_college\", 1, 1)\n",
    "            x_mother_college = Bernoulli('x_mother_college', p_mother_college, observed=masked_invalid(mother_college))\n",
    "        else:\n",
    "            x_mother_college = mother_college\n",
    "            \n",
    "        \n",
    "        # Imputation of non-severe hearing loss\n",
    "        if np.isnan(non_severe).sum():\n",
    "            p_non_severe = Beta(\"p_non_severe\", 1, 1)\n",
    "            x_non_severe = Bernoulli('x_non_severe', p_non_severe, observed=masked_invalid(non_severe))\n",
    "        else:\n",
    "            x_non_severe = non_severe\n",
    "            \n",
    "        # Indices to school random effects\n",
    "        unique_schools = np.unique(school)\n",
    "        school_index = [list(unique_schools).index(s) for s in school]\n",
    "\n",
    "        # School random effect (non-centered parameterization)\n",
    "        μ_school = Normal('μ_school', 90, sd=10)\n",
    "        σ_school = Exponential(\"σ_school\", 1)\n",
    "        z_school = Normal('z_school', mu=0, sd=1, shape=len(unique_schools))\n",
    "        α_school = Deterministic(\"α_school\", μ_school + z_school*σ_school)\n",
    "        \n",
    "        # Random intercepts\n",
    "        intercept = α_school[school_index]\n",
    "        \n",
    "        # Race effect\n",
    "        β_race = Normal(\"β_race\", 0, sd=10, shape=4)\n",
    "        race_effect = tt.concatenate([[0], β_race])[race.astype(int)]\n",
    "        \n",
    "        # Covariates\n",
    "        X = [x_age_amp, \n",
    "             x_family_inv,\n",
    "             x_sib, \n",
    "             x_mother_college, \n",
    "             x_non_severe,\n",
    "             time]\n",
    "        \n",
    "        if intervention:\n",
    "            X += [x_age_int]\n",
    "\n",
    "        # Fixed effects\n",
    "        β = Normal(\"β\", 0, sd=100, shape=len(X))\n",
    "        θ = intercept + race_effect + β.dot(tt.stack(X))\n",
    "    \n",
    "        σ = HalfNormal(\"σ\", sd=25, testval=100)\n",
    "        score_like = Normal(\"score_like\", mu=θ, sd=σ, observed=score)\n",
    "\n",
    "    return model"
   ]
  },
  {
   "cell_type": "code",
   "execution_count": 43,
   "metadata": {},
   "outputs": [],
   "source": [
    "receptive_language_dataset = analysis_subset[(analysis_subset.domain=='Receptive Language')]"
   ]
  },
  {
   "cell_type": "code",
   "execution_count": 44,
   "metadata": {},
   "outputs": [
    {
     "data": {
      "text/plain": [
       "CELF-P2    634\n",
       "PLS        399\n",
       "OWLS       151\n",
       "CELF51       3\n",
       "Name: test_name, dtype: int64"
      ]
     },
     "execution_count": 44,
     "metadata": {},
     "output_type": "execute_result"
    }
   ],
   "source": [
    "receptive_language_dataset[(receptive_language_dataset.age_test>=48) & (receptive_language_dataset.age_test<60)].test_name.value_counts()"
   ]
  },
  {
   "cell_type": "code",
   "execution_count": 45,
   "metadata": {},
   "outputs": [
    {
     "name": "stderr",
     "output_type": "stream",
     "text": [
      "/Users/cfonnesbeck/anaconda3/envs/early_intervention/lib/python3.6/site-packages/pymc3/model.py:1430: ImputationWarning: Data in x_age_amp contains missing values and will be automatically imputed from the sampling distribution.\n",
      "  warnings.warn(impute_message, ImputationWarning)\n",
      "/Users/cfonnesbeck/anaconda3/envs/early_intervention/lib/python3.6/site-packages/pymc3/model.py:1430: ImputationWarning: Data in x_family_inv contains missing values and will be automatically imputed from the sampling distribution.\n",
      "  warnings.warn(impute_message, ImputationWarning)\n",
      "/Users/cfonnesbeck/anaconda3/envs/early_intervention/lib/python3.6/site-packages/pymc3/model.py:1430: ImputationWarning: Data in x_sib contains missing values and will be automatically imputed from the sampling distribution.\n",
      "  warnings.warn(impute_message, ImputationWarning)\n",
      "/Users/cfonnesbeck/anaconda3/envs/early_intervention/lib/python3.6/site-packages/pymc3/model.py:1430: ImputationWarning: Data in x_mother_college contains missing values and will be automatically imputed from the sampling distribution.\n",
      "  warnings.warn(impute_message, ImputationWarning)\n",
      "/Users/cfonnesbeck/anaconda3/envs/early_intervention/lib/python3.6/site-packages/pymc3/model.py:1430: ImputationWarning: Data in x_non_severe contains missing values and will be automatically imputed from the sampling distribution.\n",
      "  warnings.warn(impute_message, ImputationWarning)\n"
     ]
    }
   ],
   "source": [
    "receptive_language_4 = generate_model(receptive_language_dataset, 4)"
   ]
  },
  {
   "cell_type": "code",
   "execution_count": 46,
   "metadata": {},
   "outputs": [],
   "source": [
    "iterations = 1000\n",
    "tuning = 9000"
   ]
  },
  {
   "cell_type": "code",
   "execution_count": null,
   "metadata": {},
   "outputs": [
    {
     "name": "stderr",
     "output_type": "stream",
     "text": [
      "Multiprocess sampling (2 chains in 2 jobs)\n",
      "CompoundStep\n",
      ">NUTS: [σ, β, β_race, z_school, σ_school, μ_school, p_non_severe, p_mother_college, p_sib, p_family_inv, x_age_amp_missing, p_age_amp, s_age_amp, m_age_amp]\n",
      ">CategoricalGibbsMetropolis: [x_sib_missing, x_family_inv_missing]\n",
      ">BinaryGibbsMetropolis: [x_mother_college_missing, x_non_severe_missing]\n",
      "Sampling 2 chains, 0 divergences:   0%|          | 0/20000 [00:00<?, ?draws/s]"
     ]
    }
   ],
   "source": [
    "from pymc3 import sample\n",
    "\n",
    "with receptive_language_4:\n",
    "    \n",
    "    rec_lang_4_trace = sample(iterations, \n",
    "                              tune=tuning, chains=2, cores=2)"
   ]
  },
  {
   "cell_type": "code",
   "execution_count": null,
   "metadata": {},
   "outputs": [],
   "source": [
    "labels = ['Age at amplification',\n",
    "          'Family Involvement Score', \n",
    "          'Sibling Count',\n",
    "          'Mother with College Ed',\n",
    "          'Non-severe hearing loss',\n",
    "          'Years in program']"
   ]
  },
  {
   "cell_type": "code",
   "execution_count": null,
   "metadata": {},
   "outputs": [],
   "source": [
    "x_range = -10, 15"
   ]
  },
  {
   "cell_type": "code",
   "execution_count": null,
   "metadata": {},
   "outputs": [],
   "source": [
    "_,axes = az.plot_forest(rec_lang_4_trace, \n",
    "               var_names=['β'],\n",
    "              combined=True)\n",
    "axes[0].set_title('Receptive Language')\n",
    "axes[0].vlines(0, *axes[0].get_ylim(), linestyles='dotted')\n",
    "axes[0].set_yticklabels(labels[::-1]);"
   ]
  },
  {
   "cell_type": "code",
   "execution_count": null,
   "metadata": {},
   "outputs": [],
   "source": [
    "az.plot_forest(rec_lang_4_trace, var_names=['α_school'])"
   ]
  },
  {
   "cell_type": "code",
   "execution_count": null,
   "metadata": {},
   "outputs": [],
   "source": [
    "az.plot_energy(rec_lang_4_trace)"
   ]
  },
  {
   "cell_type": "code",
   "execution_count": null,
   "metadata": {},
   "outputs": [],
   "source": [
    "_, axes = az.plot_forest(rec_lang_4_trace, var_names=['β_race'], combined=True)\n",
    "axes[0].set_yticklabels(['Black', 'Hispanic', 'Asian', 'Other'][::-1]);"
   ]
  },
  {
   "cell_type": "markdown",
   "metadata": {},
   "source": [
    "The school random effect standard deviation is a measure of how variable scores are among schools. The estimated standard deviation is about 4 points for this domain."
   ]
  },
  {
   "cell_type": "code",
   "execution_count": null,
   "metadata": {},
   "outputs": [],
   "source": [
    "az.plot_trace(rec_lang_4_trace, var_names=['σ_school']);"
   ]
  },
  {
   "cell_type": "code",
   "execution_count": null,
   "metadata": {},
   "outputs": [],
   "source": [
    "az.plot_trace(rec_lang_4_trace, var_names=['p_family_inv', 'p_sib', 'p_non_severe', 'p_mother_college', 'm_int']);"
   ]
  },
  {
   "cell_type": "code",
   "execution_count": null,
   "metadata": {},
   "outputs": [],
   "source": [
    "az.summary(rec_lang_4_trace, var_names=['β']).set_index(pd.Index(labels))"
   ]
  },
  {
   "cell_type": "code",
   "execution_count": null,
   "metadata": {},
   "outputs": [],
   "source": [
    "from pymc3 import sample_posterior_predictive\n",
    "\n",
    "with receptive_language_4:\n",
    "    \n",
    "    rec_lang_4_pred = sample_posterior_predictive(rec_lang_4_trace, vars=[receptive_language_4.score_like])"
   ]
  },
  {
   "cell_type": "code",
   "execution_count": null,
   "metadata": {},
   "outputs": [],
   "source": [
    "from scipy.stats import percentileofscore\n",
    "\n",
    "plt.hist([np.round(percentileofscore(x, y)/100, 2) for x,y in zip(rec_lang_4_pred['score_like'], \n",
    "                                                        receptive_language_dataset.score)])"
   ]
  },
  {
   "cell_type": "markdown",
   "metadata": {},
   "source": [
    "## Expressive Language Model"
   ]
  },
  {
   "cell_type": "code",
   "execution_count": null,
   "metadata": {},
   "outputs": [],
   "source": [
    "expressive_language_dataset = analysis_subset[(analysis_subset.domain=='Expressive Language')]"
   ]
  },
  {
   "cell_type": "code",
   "execution_count": null,
   "metadata": {},
   "outputs": [],
   "source": [
    "expressive_language_dataset[(expressive_language_dataset.age_test>=48) & (expressive_language_dataset.age_test<60)].test_name.value_counts()"
   ]
  },
  {
   "cell_type": "code",
   "execution_count": null,
   "metadata": {},
   "outputs": [],
   "source": [
    "expressive_language_4 = generate_model(expressive_language_dataset, 4)"
   ]
  },
  {
   "cell_type": "code",
   "execution_count": null,
   "metadata": {},
   "outputs": [],
   "source": [
    "with expressive_language_4:\n",
    "    \n",
    "    exp_lang_4_trace = sample(iterations, tune=tuning, cores=2)"
   ]
  },
  {
   "cell_type": "code",
   "execution_count": null,
   "metadata": {},
   "outputs": [],
   "source": [
    "_,axes = az.plot_forest(exp_lang_4_trace, \n",
    "               var_names=['β'],\n",
    "              combined=True)\n",
    "axes[0].set_title('Expressive Language')\n",
    "axes[0].vlines(0, *axes[0].get_ylim(), linestyles='dotted')\n",
    "axes[0].set_yticklabels(labels[::-1]);"
   ]
  },
  {
   "cell_type": "code",
   "execution_count": null,
   "metadata": {},
   "outputs": [],
   "source": [
    "energyplot(exp_lang_4_trace)"
   ]
  },
  {
   "cell_type": "code",
   "execution_count": null,
   "metadata": {},
   "outputs": [],
   "source": [
    "az.summary(exp_lang_4_trace, var_names=['β']).set_index(pd.Index(labels))"
   ]
  },
  {
   "cell_type": "markdown",
   "metadata": {},
   "source": [
    "## Articulation Model"
   ]
  },
  {
   "cell_type": "code",
   "execution_count": null,
   "metadata": {},
   "outputs": [],
   "source": [
    "articulation_dataset = analysis_subset[(analysis_subset.domain=='Articulation')]"
   ]
  },
  {
   "cell_type": "code",
   "execution_count": null,
   "metadata": {},
   "outputs": [],
   "source": [
    "articulation_dataset[(articulation_dataset.age_test>=48) & (articulation_dataset.age_test<60)].test_name.value_counts()"
   ]
  },
  {
   "cell_type": "code",
   "execution_count": null,
   "metadata": {},
   "outputs": [],
   "source": [
    "articulation_4 = generate_model(articulation_dataset, 4)"
   ]
  },
  {
   "cell_type": "code",
   "execution_count": null,
   "metadata": {},
   "outputs": [],
   "source": [
    "with articulation_4:\n",
    "    \n",
    "    artic_4_trace = sample(iterations, tune=tuning, cores=2)"
   ]
  },
  {
   "cell_type": "code",
   "execution_count": null,
   "metadata": {},
   "outputs": [],
   "source": [
    "energyplot(artic_4_trace)"
   ]
  },
  {
   "cell_type": "code",
   "execution_count": null,
   "metadata": {},
   "outputs": [],
   "source": [
    "_,axes = az.plot_forest(artic_4_trace, \n",
    "               var_names=['β'],\n",
    "              combined=True)\n",
    "axes[0].set_title('Articulation')\n",
    "axes[0].vlines(0, *axes[0].get_ylim(), linestyles='dotted')\n",
    "axes[0].set_yticklabels(labels[::-1]);"
   ]
  },
  {
   "cell_type": "code",
   "execution_count": null,
   "metadata": {},
   "outputs": [],
   "source": [
    "az.summary(artic_4_trace, var_names=['β']).set_index(pd.Index(labels))"
   ]
  },
  {
   "cell_type": "markdown",
   "metadata": {},
   "source": [
    "## Expressive Vocabulary Model"
   ]
  },
  {
   "cell_type": "code",
   "execution_count": null,
   "metadata": {},
   "outputs": [],
   "source": [
    "expressive_vocab_dataset = analysis_subset[(analysis_subset.domain=='Expressive Vocabulary')]"
   ]
  },
  {
   "cell_type": "code",
   "execution_count": null,
   "metadata": {},
   "outputs": [],
   "source": [
    "expressive_vocab_dataset[(expressive_vocab_dataset.age_test>=48) & (expressive_vocab_dataset.age_test<60)].test_name.value_counts()"
   ]
  },
  {
   "cell_type": "code",
   "execution_count": null,
   "metadata": {},
   "outputs": [],
   "source": [
    "expressive_vocab_4 = generate_model(expressive_vocab_dataset, 4)"
   ]
  },
  {
   "cell_type": "code",
   "execution_count": null,
   "metadata": {},
   "outputs": [],
   "source": [
    "with expressive_vocab_4:\n",
    "    \n",
    "    expressive_vocab_4_trace = sample(iterations, tune=tuning, cores=2)"
   ]
  },
  {
   "cell_type": "code",
   "execution_count": null,
   "metadata": {},
   "outputs": [],
   "source": [
    "_,axes = az.plot_forest(expressive_vocab_4_trace, \n",
    "               var_names=['β'],\n",
    "              combined=True)\n",
    "axes[0].set_title('Expressive Vocabulary')\n",
    "axes[0].vlines(0, *axes[0].get_ylim(), linestyles='dotted')\n",
    "axes[0].set_yticklabels(labels[::-1]);"
   ]
  },
  {
   "cell_type": "code",
   "execution_count": null,
   "metadata": {},
   "outputs": [],
   "source": [
    "energyplot(expressive_vocab_4_trace)"
   ]
  },
  {
   "cell_type": "code",
   "execution_count": null,
   "metadata": {},
   "outputs": [],
   "source": [
    "az.summary(expressive_vocab_4_trace, var_names=['β']).set_index(pd.Index(labels))"
   ]
  },
  {
   "cell_type": "markdown",
   "metadata": {},
   "source": [
    "## Receptive Vocabulary Model"
   ]
  },
  {
   "cell_type": "code",
   "execution_count": null,
   "metadata": {},
   "outputs": [],
   "source": [
    "receptive_vocab_dataset = analysis_subset[(analysis_subset.domain=='Receptive Vocabulary')]"
   ]
  },
  {
   "cell_type": "code",
   "execution_count": null,
   "metadata": {},
   "outputs": [],
   "source": [
    "analysis_subset[(analysis_subset.age_test>=48) & (analysis_subset.age_test<60)].test_name.value_counts()"
   ]
  },
  {
   "cell_type": "code",
   "execution_count": null,
   "metadata": {},
   "outputs": [],
   "source": [
    "receptive_vocab_4 = generate_model(receptive_vocab_dataset, 4)"
   ]
  },
  {
   "cell_type": "code",
   "execution_count": null,
   "metadata": {},
   "outputs": [],
   "source": [
    "with receptive_vocab_4:\n",
    "    \n",
    "    receptive_vocab_4_trace = sample(iterations, tune=tuning, cores=2)"
   ]
  },
  {
   "cell_type": "code",
   "execution_count": null,
   "metadata": {},
   "outputs": [],
   "source": [
    "_,axes = az.plot_forest(receptive_vocab_4_trace, \n",
    "               var_names=['β'],\n",
    "              combined=True)\n",
    "axes[0].set_title('Receptive Vocabulary')\n",
    "axes[0].vlines(0, *axes[0].get_ylim(), linestyles='dotted')\n",
    "axes[0].set_yticklabels(labels[::-1]);"
   ]
  },
  {
   "cell_type": "code",
   "execution_count": null,
   "metadata": {},
   "outputs": [],
   "source": [
    "energyplot(receptive_vocab_4_trace)"
   ]
  },
  {
   "cell_type": "code",
   "execution_count": null,
   "metadata": {},
   "outputs": [],
   "source": [
    "az.summary(receptive_vocab_4_trace, var_names=['β']).set_index(pd.Index(labels))"
   ]
  },
  {
   "cell_type": "code",
   "execution_count": null,
   "metadata": {},
   "outputs": [],
   "source": [
    "with articulation_4:\n",
    "    \n",
    "    artic_4_pred = sample_posterior_predictive(artic_4_trace, vars=[articulation_4.score_like])"
   ]
  },
  {
   "cell_type": "code",
   "execution_count": null,
   "metadata": {},
   "outputs": [],
   "source": [
    "from scipy.stats import percentileofscore\n",
    "\n",
    "plt.hist([np.round(percentileofscore(x, y)/100, 2) for x,y in zip(artic_4_pred['score_like'], \n",
    "                                                        articulation_dataset.score)])"
   ]
  },
  {
   "cell_type": "markdown",
   "metadata": {},
   "source": [
    "### Publication graphics"
   ]
  },
  {
   "cell_type": "code",
   "execution_count": null,
   "metadata": {},
   "outputs": [],
   "source": [
    "import arviz as az\n",
    "\n",
    "az.style.use('arviz-whitegrid')\n",
    "\n",
    "\n",
    "model_names = ['Receptive Vocabulary', 'Expressive Vocabulary',\n",
    "                                     'Receptive Language', 'Expressive Language',\n",
    "                                     'Articulation']\n",
    "\n",
    "_, axes = az.plot_forest([receptive_vocab_4_trace, expressive_vocab_4_trace,\n",
    "                         rec_lang_4_trace, exp_lang_4_trace, artic_4_trace],\n",
    "                         model_names=model_names,\n",
    "                         combined=True,\n",
    "                         var_names=['β'])\n",
    "# axes[0].set_title('Estimated covariates for test domains')\n",
    "\n",
    "# axes[0].set_xlim(-15, 15)\n",
    "\n",
    "# axes[0].axvline(linestyle=\":\", linewidth=0.5, color='k')\n",
    "\n",
    "# ticklabels = [labels[int((i-2)/5)] if not (i % 5 - 2) else '' for i,label in enumerate(axes[0].get_yticklabels())][::-1]\n",
    "# axes[0].set_yticklabels(ticklabels)\n",
    "# axes[0].tick_params(axis='both', which='major', labelsize=10)\n",
    "\n",
    "# lines = axes[0].get_lines()[:6:]\n",
    "# axes[0].legend(lines, model_names[::-1], loc='center right',  \n",
    "#                bbox_to_anchor=(1.9, 0.5),\n",
    "#           fancybox=True, fontsize=10);"
   ]
  },
  {
   "cell_type": "code",
   "execution_count": null,
   "metadata": {},
   "outputs": [],
   "source": []
  }
 ],
 "metadata": {
  "kernelspec": {
   "display_name": "Python 3",
   "language": "python",
   "name": "python3"
  },
  "language_info": {
   "codemirror_mode": {
    "name": "ipython",
    "version": 3
   },
   "file_extension": ".py",
   "mimetype": "text/x-python",
   "name": "python",
   "nbconvert_exporter": "python",
   "pygments_lexer": "ipython3",
   "version": "3.6.7"
  }
 },
 "nbformat": 4,
 "nbformat_minor": 4
}
