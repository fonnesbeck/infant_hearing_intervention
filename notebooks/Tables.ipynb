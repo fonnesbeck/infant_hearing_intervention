{
 "cells": [
  {
   "cell_type": "code",
   "execution_count": 1,
   "metadata": {},
   "outputs": [],
   "source": [
    "# Import modules and set options\n",
    "%matplotlib inline\n",
    "import matplotlib.pyplot as plt\n",
    "import pandas as pd\n",
    "import numpy as np\n",
    "import seaborn as sns\n",
    "\n",
    "sns.set(context='notebook', style='ticks')"
   ]
  },
  {
   "cell_type": "code",
   "execution_count": 2,
   "metadata": {},
   "outputs": [],
   "source": [
    "lsl_dr = (pd.read_csv('../data/clean/lsl_dr.csv', index_col=0, low_memory=False)\n",
    "                  .rename({'onset_1':'identify_mo'}, axis=1))"
   ]
  },
  {
   "cell_type": "code",
   "execution_count": 3,
   "metadata": {},
   "outputs": [
    {
     "data": {
      "text/plain": [
       "(59580, 231)"
      ]
     },
     "execution_count": 3,
     "metadata": {},
     "output_type": "execute_result"
    }
   ],
   "source": [
    "lsl_dr.shape"
   ]
  },
  {
   "cell_type": "markdown",
   "metadata": {},
   "source": [
    "Exclusions"
   ]
  },
  {
   "cell_type": "code",
   "execution_count": 4,
   "metadata": {},
   "outputs": [],
   "source": [
    "other_etiology = (lsl_dr[['etiology_3___2', 'etiology_3___4', 'etiology_3___5', 'etiology_3___6', 'etiology_3___9',\n",
    "       'etiology_oth___1', 'etiology_oth___3', 'etiology_oth___4', 'etiology_oth___8', 'etiology_oth___9']]\n",
    "                      .sum(1).astype(bool))"
   ]
  },
  {
   "cell_type": "code",
   "execution_count": 5,
   "metadata": {},
   "outputs": [],
   "source": [
    "inclusion_mask = (~lsl_dr.non_english.astype(bool) \n",
    "                  & (lsl_dr.hl==0)\n",
    "                  & ((lsl_dr.etiology_2==0)\n",
    "                  | (lsl_dr.etiology_2.isnull() & ~other_etiology)))"
   ]
  },
  {
   "cell_type": "code",
   "execution_count": 6,
   "metadata": {},
   "outputs": [
    {
     "data": {
      "text/plain": [
       "(1281, 231)"
      ]
     },
     "execution_count": 6,
     "metadata": {},
     "output_type": "execute_result"
    }
   ],
   "source": [
    "inclusions = lsl_dr[inclusion_mask]\n",
    "inclusions.drop_duplicates(subset='study_id').shape"
   ]
  },
  {
   "cell_type": "code",
   "execution_count": 7,
   "metadata": {},
   "outputs": [],
   "source": [
    "age_mask = (lsl_dr.age_test>=48) & (lsl_dr.age_test<60)"
   ]
  },
  {
   "cell_type": "code",
   "execution_count": 8,
   "metadata": {},
   "outputs": [
    {
     "name": "stderr",
     "output_type": "stream",
     "text": [
      "/home/fonnesbeck_gmail_com/anaconda3/lib/python3.7/site-packages/ipykernel_launcher.py:1: UserWarning: Boolean Series key will be reindexed to match DataFrame index.\n",
      "  \"\"\"Entry point for launching an IPython kernel.\n"
     ]
    }
   ],
   "source": [
    "data_4yo = inclusions[age_mask].drop_duplicates(subset='study_id').copy()"
   ]
  },
  {
   "cell_type": "code",
   "execution_count": 9,
   "metadata": {},
   "outputs": [
    {
     "data": {
      "text/plain": [
       "(546, 231)"
      ]
     },
     "execution_count": 9,
     "metadata": {},
     "output_type": "execute_result"
    }
   ],
   "source": [
    "data_4yo.shape"
   ]
  },
  {
   "cell_type": "markdown",
   "metadata": {},
   "source": [
    "## Demographics"
   ]
  },
  {
   "cell_type": "code",
   "execution_count": 10,
   "metadata": {},
   "outputs": [
    {
     "data": {
      "text/plain": [
       "Male      273\n",
       "Female    273\n",
       "Name: male, dtype: int64"
      ]
     },
     "execution_count": 10,
     "metadata": {},
     "output_type": "execute_result"
    }
   ],
   "source": [
    "data_4yo.male.replace({1: 'Male', 0: 'Female', np.nan: 'Missing'}).value_counts()"
   ]
  },
  {
   "cell_type": "code",
   "execution_count": 11,
   "metadata": {},
   "outputs": [
    {
     "data": {
      "text/plain": [
       "White       359\n",
       "Black        61\n",
       "Hispanic     47\n",
       "Other        43\n",
       "Asian        27\n",
       "Missing       9\n",
       "Name: race, dtype: int64"
      ]
     },
     "execution_count": 11,
     "metadata": {},
     "output_type": "execute_result"
    }
   ],
   "source": [
    "data_4yo.race.replace({0:'White', 1:'Black', 2:'Hispanic', 3:'Asian', 4:'Other', np.nan:'Missing'}).value_counts()"
   ]
  },
  {
   "cell_type": "code",
   "execution_count": 12,
   "metadata": {},
   "outputs": [
    {
     "data": {
      "text/plain": [
       ">=36 weeks    405\n",
       "<36 weeks     141\n",
       "Name: premature_age, dtype: int64"
      ]
     },
     "execution_count": 12,
     "metadata": {},
     "output_type": "execute_result"
    }
   ],
   "source": [
    "(data_4yo.premature_age.replace({9:None})==8).replace({True: '>=36 weeks', False: '<36 weeks', \n",
    "                                                            np.nan: 'Unknown'}).value_counts()"
   ]
  },
  {
   "cell_type": "code",
   "execution_count": 13,
   "metadata": {},
   "outputs": [
    {
     "data": {
      "text/plain": [
       "1          122\n",
       "2          222\n",
       "3          113\n",
       "4+          66\n",
       "Missing     23\n",
       "Name: sib, dtype: int64"
      ]
     },
     "execution_count": 13,
     "metadata": {},
     "output_type": "execute_result"
    }
   ],
   "source": [
    "data_4yo.sib.replace({0:'1', 1:'2', 2:'3', 3:'4+', np.nan:'Missing'}).value_counts().sort_index()"
   ]
  },
  {
   "cell_type": "code",
   "execution_count": 14,
   "metadata": {},
   "outputs": [
    {
     "data": {
      "text/plain": [
       "High school diploma/GED    164\n",
       "Some high school           146\n",
       "Unknown                    135\n",
       "Some college                89\n",
       "8th grade or less           12\n",
       "Name: mother_ed, dtype: int64"
      ]
     },
     "execution_count": 14,
     "metadata": {},
     "output_type": "execute_result"
    }
   ],
   "source": [
    "ed_lookup = {0:\"8th grade or less\",\n",
    "1:\"Some high school\",\n",
    "2:\"High school diploma/GED\",\n",
    "3:\"Some college\",\n",
    "4:\"Bachelor's degree\",\n",
    "5:\"Post graduate degree\",\n",
    "6:\"Unknown\",\n",
    "np.nan:\"Unknown\"}\n",
    "\n",
    "data_4yo.mother_ed.replace(ed_lookup).value_counts()"
   ]
  },
  {
   "cell_type": "code",
   "execution_count": 15,
   "metadata": {},
   "outputs": [
    {
     "data": {
      "text/plain": [
       "Unknown                    165\n",
       "Bachelor's degree          128\n",
       "Some college                96\n",
       "Post graduate degree        81\n",
       "High school diploma/GED     65\n",
       "Some high school            11\n",
       "Name: father_ed, dtype: int64"
      ]
     },
     "execution_count": 15,
     "metadata": {},
     "output_type": "execute_result"
    }
   ],
   "source": [
    "data_4yo.father_ed.replace(ed_lookup).value_counts()"
   ]
  },
  {
   "cell_type": "code",
   "execution_count": 16,
   "metadata": {},
   "outputs": [
    {
     "data": {
      "text/plain": [
       "Ideal Participation      176\n",
       "Good Participation       117\n",
       "Average Participation    111\n",
       "Missing                   90\n",
       "Below Average             42\n",
       "Limited Participation     10\n",
       "Name: family_inv, dtype: int64"
      ]
     },
     "execution_count": 16,
     "metadata": {},
     "output_type": "execute_result"
    }
   ],
   "source": [
    "family_lookup = {0:\"Ideal Participation\",\n",
    "1:\"Good Participation\",\n",
    "2:\"Average Participation\",\n",
    "3:\"Below Average\",\n",
    "4:\"Limited Participation\",\n",
    "np.nan:\"Missing\"}\n",
    "\n",
    "data_4yo.family_inv.replace(family_lookup).value_counts()"
   ]
  },
  {
   "cell_type": "code",
   "execution_count": 17,
   "metadata": {},
   "outputs": [
    {
     "data": {
      "text/html": [
       "<div>\n",
       "<style scoped>\n",
       "    .dataframe tbody tr th:only-of-type {\n",
       "        vertical-align: middle;\n",
       "    }\n",
       "\n",
       "    .dataframe tbody tr th {\n",
       "        vertical-align: top;\n",
       "    }\n",
       "\n",
       "    .dataframe thead th {\n",
       "        text-align: right;\n",
       "    }\n",
       "</style>\n",
       "<table border=\"1\" class=\"dataframe\">\n",
       "  <thead>\n",
       "    <tr style=\"text-align: right;\">\n",
       "      <th></th>\n",
       "      <th>age_diag</th>\n",
       "      <th>age_amp</th>\n",
       "      <th>age_int</th>\n",
       "      <th>age</th>\n",
       "    </tr>\n",
       "  </thead>\n",
       "  <tbody>\n",
       "    <tr>\n",
       "      <th>count</th>\n",
       "      <td>430.000000</td>\n",
       "      <td>425.000000</td>\n",
       "      <td>385.000000</td>\n",
       "      <td>539.000000</td>\n",
       "    </tr>\n",
       "    <tr>\n",
       "      <th>mean</th>\n",
       "      <td>9.463953</td>\n",
       "      <td>14.122353</td>\n",
       "      <td>15.119481</td>\n",
       "      <td>24.348794</td>\n",
       "    </tr>\n",
       "    <tr>\n",
       "      <th>std</th>\n",
       "      <td>12.918581</td>\n",
       "      <td>13.809830</td>\n",
       "      <td>13.577373</td>\n",
       "      <td>15.860593</td>\n",
       "    </tr>\n",
       "    <tr>\n",
       "      <th>min</th>\n",
       "      <td>0.000000</td>\n",
       "      <td>0.000000</td>\n",
       "      <td>0.000000</td>\n",
       "      <td>0.000000</td>\n",
       "    </tr>\n",
       "    <tr>\n",
       "      <th>25%</th>\n",
       "      <td>1.000000</td>\n",
       "      <td>3.000000</td>\n",
       "      <td>4.000000</td>\n",
       "      <td>10.000000</td>\n",
       "    </tr>\n",
       "    <tr>\n",
       "      <th>50%</th>\n",
       "      <td>3.000000</td>\n",
       "      <td>8.000000</td>\n",
       "      <td>12.000000</td>\n",
       "      <td>24.000000</td>\n",
       "    </tr>\n",
       "    <tr>\n",
       "      <th>75%</th>\n",
       "      <td>17.000000</td>\n",
       "      <td>22.000000</td>\n",
       "      <td>24.000000</td>\n",
       "      <td>36.000000</td>\n",
       "    </tr>\n",
       "    <tr>\n",
       "      <th>max</th>\n",
       "      <td>55.000000</td>\n",
       "      <td>65.000000</td>\n",
       "      <td>60.000000</td>\n",
       "      <td>63.000000</td>\n",
       "    </tr>\n",
       "  </tbody>\n",
       "</table>\n",
       "</div>"
      ],
      "text/plain": [
       "         age_diag     age_amp     age_int         age\n",
       "count  430.000000  425.000000  385.000000  539.000000\n",
       "mean     9.463953   14.122353   15.119481   24.348794\n",
       "std     12.918581   13.809830   13.577373   15.860593\n",
       "min      0.000000    0.000000    0.000000    0.000000\n",
       "25%      1.000000    3.000000    4.000000   10.000000\n",
       "50%      3.000000    8.000000   12.000000   24.000000\n",
       "75%     17.000000   22.000000   24.000000   36.000000\n",
       "max     55.000000   65.000000   60.000000   63.000000"
      ]
     },
     "execution_count": 17,
     "metadata": {},
     "output_type": "execute_result"
    }
   ],
   "source": [
    "data_4yo[[\"age_diag\", \"age_amp\", \"age_int\", \"age\"]].describe()"
   ]
  },
  {
   "cell_type": "code",
   "execution_count": 18,
   "metadata": {},
   "outputs": [
    {
     "data": {
      "text/plain": [
       "OPTION only         214\n",
       "Missing              66\n",
       "OPTION + outside     60\n",
       "Name: otherserv, dtype: int64"
      ]
     },
     "execution_count": 18,
     "metadata": {},
     "output_type": "execute_result"
    }
   ],
   "source": [
    "data_4yo.otherserv.replace({0: \"OPTION + outside\", 1: \"OPTION only\", 2: \"Missing\"}).value_counts()"
   ]
  },
  {
   "cell_type": "markdown",
   "metadata": {},
   "source": [
    "## Hearing loss"
   ]
  },
  {
   "cell_type": "code",
   "execution_count": 19,
   "metadata": {},
   "outputs": [
    {
     "data": {
      "text/plain": [
       "26"
      ]
     },
     "execution_count": 19,
     "metadata": {},
     "output_type": "execute_result"
    }
   ],
   "source": [
    "data_4yo.degree_hl_ad.isnull().sum()"
   ]
  },
  {
   "cell_type": "code",
   "execution_count": 20,
   "metadata": {},
   "outputs": [
    {
     "data": {
      "text/plain": [
       "28"
      ]
     },
     "execution_count": 20,
     "metadata": {},
     "output_type": "execute_result"
    }
   ],
   "source": [
    "data_4yo.degree_hl_as.isnull().sum()"
   ]
  },
  {
   "cell_type": "code",
   "execution_count": 21,
   "metadata": {},
   "outputs": [
    {
     "data": {
      "text/plain": [
       "6.0    230\n",
       "4.0     83\n",
       "5.0     76\n",
       "3.0     76\n",
       "2.0     37\n",
       "0.0      9\n",
       "1.0      9\n",
       "Name: degree_hl_ad, dtype: int64"
      ]
     },
     "execution_count": 21,
     "metadata": {},
     "output_type": "execute_result"
    }
   ],
   "source": [
    "data_4yo.degree_hl_ad.value_counts()"
   ]
  },
  {
   "cell_type": "code",
   "execution_count": 22,
   "metadata": {},
   "outputs": [
    {
     "data": {
      "text/plain": [
       "6.0    231\n",
       "4.0     90\n",
       "3.0     76\n",
       "5.0     67\n",
       "2.0     28\n",
       "0.0     15\n",
       "1.0     11\n",
       "Name: degree_hl_as, dtype: int64"
      ]
     },
     "execution_count": 22,
     "metadata": {},
     "output_type": "execute_result"
    }
   ],
   "source": [
    "data_4yo.degree_hl_as.value_counts()"
   ]
  },
  {
   "cell_type": "code",
   "execution_count": 23,
   "metadata": {},
   "outputs": [],
   "source": [
    "hl_data = data_4yo.set_index('study_id')[['bilateral_snhl',\n",
    "                     'bilateral_ansd',\n",
    "                     'bilateral_mixed',\n",
    "                     'bilateral_cond',\n",
    "                     'bilateral_normal',\n",
    "                     'bilateral_unk',\n",
    "                     'unilateral_snhl',\n",
    "                     'unilateral_ansd',\n",
    "                     'unilateral_mixed',\n",
    "                     'unilateral_cond',\n",
    "                     'unilateral_unk',\n",
    "                     'assymetrical']]"
   ]
  },
  {
   "cell_type": "markdown",
   "metadata": {},
   "source": [
    "One or both parents with hearing loss"
   ]
  },
  {
   "cell_type": "code",
   "execution_count": 33,
   "metadata": {},
   "outputs": [
    {
     "data": {
      "text/plain": [
       "0.0    377\n",
       "1.0     30\n",
       "Name: one_or_both_parent_hl, dtype: int64"
      ]
     },
     "execution_count": 33,
     "metadata": {},
     "output_type": "execute_result"
    }
   ],
   "source": [
    "data_4yo.one_or_both_parent_hl.value_counts()"
   ]
  },
  {
   "cell_type": "code",
   "execution_count": 35,
   "metadata": {},
   "outputs": [
    {
     "data": {
      "text/plain": [
       "139"
      ]
     },
     "execution_count": 35,
     "metadata": {},
     "output_type": "execute_result"
    }
   ],
   "source": [
    "data_4yo.one_or_both_parent_hl.isnull().sum()"
   ]
  },
  {
   "cell_type": "markdown",
   "metadata": {},
   "source": [
    "Individuals with no hearing loss type"
   ]
  },
  {
   "cell_type": "code",
   "execution_count": 24,
   "metadata": {},
   "outputs": [
    {
     "data": {
      "text/plain": [
       "array(['0416-2012-8108', '1045-2010-0056', '1046-1997-0050',\n",
       "       '1043-2010-0028', '1149-2008-0008', '1149-2008-0019',\n",
       "       '0938-2014-0019', '1149-2010-0046', '1149-2010-0052',\n",
       "       '1149-2010-0034', '1149-2009-0038', '0938-2010-0017',\n",
       "       '0938-2009-0013', '0205-2015-0005', '0205-2014-0006',\n",
       "       '0836-2012-0021', '0836-2011-0017', '0208-2010-0025',\n",
       "       '1046-2003-0059', '1046-2010-0039', '0625-2014-0094',\n",
       "       '0416-2007-6094', '1046-1998-0048', '0101-2013-0101',\n",
       "       '0836-2011-0019', '0836-2011-0016', '0836-2010-0018',\n",
       "       '0836-2012-0024', '0836-2009-0008', '0417-2007-0014',\n",
       "       '1046-2010-0041', '0205-2015-0008', '0519-2014-0075',\n",
       "       '0624-2010-0052', '1149-2008-0043', '0416-2005-5255',\n",
       "       '1149-2008-0012'], dtype=object)"
      ]
     },
     "execution_count": 24,
     "metadata": {},
     "output_type": "execute_result"
    }
   ],
   "source": [
    "hl_data[hl_data.sum(1)==0].index.values"
   ]
  },
  {
   "cell_type": "code",
   "execution_count": 25,
   "metadata": {},
   "outputs": [
    {
     "data": {
      "text/plain": [
       "bilateral_snhl      400\n",
       "bilateral_cond       30\n",
       "assymetrical         19\n",
       "bilateral_ansd       19\n",
       "bilateral_mixed      15\n",
       "unilateral_snhl      14\n",
       "unilateral_cond      10\n",
       "unilateral_mixed      1\n",
       "unilateral_ansd       1\n",
       "unilateral_unk        0\n",
       "bilateral_unk         0\n",
       "bilateral_normal      0\n",
       "dtype: int64"
      ]
     },
     "execution_count": 25,
     "metadata": {},
     "output_type": "execute_result"
    }
   ],
   "source": [
    "hl_data.sum().astype(int).sort_values(ascending=False)"
   ]
  },
  {
   "cell_type": "code",
   "execution_count": 26,
   "metadata": {},
   "outputs": [
    {
     "data": {
      "text/plain": [
       "bilateral_snhl      0.73\n",
       "bilateral_cond      0.05\n",
       "assymetrical        0.03\n",
       "unilateral_snhl     0.03\n",
       "bilateral_mixed     0.03\n",
       "bilateral_ansd      0.03\n",
       "unilateral_cond     0.02\n",
       "unilateral_unk      0.00\n",
       "unilateral_mixed    0.00\n",
       "unilateral_ansd     0.00\n",
       "bilateral_unk       0.00\n",
       "bilateral_normal    0.00\n",
       "dtype: float64"
      ]
     },
     "execution_count": 26,
     "metadata": {},
     "output_type": "execute_result"
    }
   ],
   "source": [
    "hl_data.mean().round(2).sort_values(ascending=False)"
   ]
  },
  {
   "cell_type": "code",
   "execution_count": 27,
   "metadata": {},
   "outputs": [],
   "source": [
    "tech_data = data_4yo.set_index('study_id')[['bilateral_ha',\n",
    "                     'bilateral_ci',\n",
    "                     'bimodal',\n",
    "                     'bilateral_other',\n",
    "                     'unilateral_ha',\n",
    "                     'unilateral_ci',\n",
    "                     'unilateral_other']]"
   ]
  },
  {
   "cell_type": "code",
   "execution_count": 28,
   "metadata": {},
   "outputs": [
    {
     "data": {
      "text/plain": [
       "bilateral_ci        377\n",
       "bilateral_ha        107\n",
       "bimodal              39\n",
       "unilateral_ha        10\n",
       "unilateral_ci         9\n",
       "bilateral_other       1\n",
       "unilateral_other      0\n",
       "dtype: int64"
      ]
     },
     "execution_count": 28,
     "metadata": {},
     "output_type": "execute_result"
    }
   ],
   "source": [
    "tech_data.sum().astype(int).sort_values(ascending=False)"
   ]
  },
  {
   "cell_type": "code",
   "execution_count": 29,
   "metadata": {},
   "outputs": [
    {
     "data": {
      "text/plain": [
       "bilateral_ci        0.69\n",
       "bilateral_ha        0.20\n",
       "bimodal             0.07\n",
       "unilateral_ci       0.02\n",
       "unilateral_ha       0.02\n",
       "unilateral_other    0.00\n",
       "bilateral_other     0.00\n",
       "dtype: float64"
      ]
     },
     "execution_count": 29,
     "metadata": {},
     "output_type": "execute_result"
    }
   ],
   "source": [
    "tech_data.mean().round(2).sort_values(ascending=False)"
   ]
  },
  {
   "cell_type": "markdown",
   "metadata": {},
   "source": [
    "Individuals with no technology type"
   ]
  },
  {
   "cell_type": "code",
   "execution_count": 30,
   "metadata": {},
   "outputs": [
    {
     "data": {
      "text/plain": [
       "array(['0523-2015-0002', '0412-2002-0068', '0412-2003-0060'], dtype=object)"
      ]
     },
     "execution_count": 30,
     "metadata": {},
     "output_type": "execute_result"
    }
   ],
   "source": [
    "tech_data[tech_data.sum(1)==0].index.values"
   ]
  },
  {
   "cell_type": "markdown",
   "metadata": {},
   "source": [
    "## Summary of scores by domain"
   ]
  },
  {
   "cell_type": "code",
   "execution_count": 36,
   "metadata": {},
   "outputs": [
    {
     "data": {
      "text/html": [
       "<div>\n",
       "<style scoped>\n",
       "    .dataframe tbody tr th:only-of-type {\n",
       "        vertical-align: middle;\n",
       "    }\n",
       "\n",
       "    .dataframe tbody tr th {\n",
       "        vertical-align: top;\n",
       "    }\n",
       "\n",
       "    .dataframe thead th {\n",
       "        text-align: right;\n",
       "    }\n",
       "</style>\n",
       "<table border=\"1\" class=\"dataframe\">\n",
       "  <thead>\n",
       "    <tr style=\"text-align: right;\">\n",
       "      <th></th>\n",
       "      <th>redcap_event_name</th>\n",
       "      <th>academic_year_rv</th>\n",
       "      <th>hl</th>\n",
       "      <th>male</th>\n",
       "      <th>_race</th>\n",
       "      <th>prim_lang</th>\n",
       "      <th>sib</th>\n",
       "      <th>_mother_ed</th>\n",
       "      <th>father_ed</th>\n",
       "      <th>par1_ed</th>\n",
       "      <th>...</th>\n",
       "      <th>gf3_sis_ss</th>\n",
       "      <th>gf3_siw_ss</th>\n",
       "      <th>gf_version</th>\n",
       "      <th>ppvt_f</th>\n",
       "      <th>ppvt_ss</th>\n",
       "      <th>rowpvt_ss</th>\n",
       "      <th>school</th>\n",
       "      <th>score</th>\n",
       "      <th>test_name</th>\n",
       "      <th>test_type</th>\n",
       "    </tr>\n",
       "  </thead>\n",
       "  <tbody>\n",
       "    <tr>\n",
       "      <th>39</th>\n",
       "      <td>initial_assessment_arm_1</td>\n",
       "      <td>2012.0</td>\n",
       "      <td>0.0</td>\n",
       "      <td>1.0</td>\n",
       "      <td>2.0</td>\n",
       "      <td>0.0</td>\n",
       "      <td>1.0</td>\n",
       "      <td>3.0</td>\n",
       "      <td>2.0</td>\n",
       "      <td>NaN</td>\n",
       "      <td>...</td>\n",
       "      <td>NaN</td>\n",
       "      <td>NaN</td>\n",
       "      <td>NaN</td>\n",
       "      <td>NaN</td>\n",
       "      <td>NaN</td>\n",
       "      <td>NaN</td>\n",
       "      <td>626</td>\n",
       "      <td>71.0</td>\n",
       "      <td>NaN</td>\n",
       "      <td>EVT</td>\n",
       "    </tr>\n",
       "    <tr>\n",
       "      <th>362</th>\n",
       "      <td>initial_assessment_arm_1</td>\n",
       "      <td>2009.0</td>\n",
       "      <td>0.0</td>\n",
       "      <td>1.0</td>\n",
       "      <td>2.0</td>\n",
       "      <td>0.0</td>\n",
       "      <td>3.0</td>\n",
       "      <td>6.0</td>\n",
       "      <td>6.0</td>\n",
       "      <td>NaN</td>\n",
       "      <td>...</td>\n",
       "      <td>NaN</td>\n",
       "      <td>NaN</td>\n",
       "      <td>2.0</td>\n",
       "      <td>NaN</td>\n",
       "      <td>NaN</td>\n",
       "      <td>NaN</td>\n",
       "      <td>628</td>\n",
       "      <td>74.0</td>\n",
       "      <td>NaN</td>\n",
       "      <td>Goldman</td>\n",
       "    </tr>\n",
       "    <tr>\n",
       "      <th>538</th>\n",
       "      <td>initial_assessment_arm_1</td>\n",
       "      <td>2009.0</td>\n",
       "      <td>0.0</td>\n",
       "      <td>0.0</td>\n",
       "      <td>2.0</td>\n",
       "      <td>0.0</td>\n",
       "      <td>0.0</td>\n",
       "      <td>6.0</td>\n",
       "      <td>6.0</td>\n",
       "      <td>NaN</td>\n",
       "      <td>...</td>\n",
       "      <td>NaN</td>\n",
       "      <td>NaN</td>\n",
       "      <td>2.0</td>\n",
       "      <td>NaN</td>\n",
       "      <td>NaN</td>\n",
       "      <td>NaN</td>\n",
       "      <td>628</td>\n",
       "      <td>92.0</td>\n",
       "      <td>NaN</td>\n",
       "      <td>Goldman</td>\n",
       "    </tr>\n",
       "    <tr>\n",
       "      <th>567</th>\n",
       "      <td>initial_assessment_arm_1</td>\n",
       "      <td>2015.0</td>\n",
       "      <td>0.0</td>\n",
       "      <td>0.0</td>\n",
       "      <td>0.0</td>\n",
       "      <td>0.0</td>\n",
       "      <td>1.0</td>\n",
       "      <td>6.0</td>\n",
       "      <td>6.0</td>\n",
       "      <td>NaN</td>\n",
       "      <td>...</td>\n",
       "      <td>NaN</td>\n",
       "      <td>NaN</td>\n",
       "      <td>NaN</td>\n",
       "      <td>NaN</td>\n",
       "      <td>NaN</td>\n",
       "      <td>NaN</td>\n",
       "      <td>626</td>\n",
       "      <td>75.0</td>\n",
       "      <td>NaN</td>\n",
       "      <td>Arizonia</td>\n",
       "    </tr>\n",
       "    <tr>\n",
       "      <th>761</th>\n",
       "      <td>initial_assessment_arm_1</td>\n",
       "      <td>2016.0</td>\n",
       "      <td>0.0</td>\n",
       "      <td>1.0</td>\n",
       "      <td>1.0</td>\n",
       "      <td>0.0</td>\n",
       "      <td>0.0</td>\n",
       "      <td>3.0</td>\n",
       "      <td>2.0</td>\n",
       "      <td>NaN</td>\n",
       "      <td>...</td>\n",
       "      <td>NaN</td>\n",
       "      <td>NaN</td>\n",
       "      <td>NaN</td>\n",
       "      <td>NaN</td>\n",
       "      <td>NaN</td>\n",
       "      <td>NaN</td>\n",
       "      <td>625</td>\n",
       "      <td>66.0</td>\n",
       "      <td>PLS</td>\n",
       "      <td>receptive</td>\n",
       "    </tr>\n",
       "  </tbody>\n",
       "</table>\n",
       "<p>5 rows × 231 columns</p>\n",
       "</div>"
      ],
      "text/plain": [
       "            redcap_event_name  academic_year_rv   hl  male  _race  prim_lang  \\\n",
       "39   initial_assessment_arm_1            2012.0  0.0   1.0    2.0        0.0   \n",
       "362  initial_assessment_arm_1            2009.0  0.0   1.0    2.0        0.0   \n",
       "538  initial_assessment_arm_1            2009.0  0.0   0.0    2.0        0.0   \n",
       "567  initial_assessment_arm_1            2015.0  0.0   0.0    0.0        0.0   \n",
       "761  initial_assessment_arm_1            2016.0  0.0   1.0    1.0        0.0   \n",
       "\n",
       "     sib  _mother_ed  father_ed  par1_ed    ...      gf3_sis_ss  gf3_siw_ss  \\\n",
       "39   1.0         3.0        2.0      NaN    ...             NaN         NaN   \n",
       "362  3.0         6.0        6.0      NaN    ...             NaN         NaN   \n",
       "538  0.0         6.0        6.0      NaN    ...             NaN         NaN   \n",
       "567  1.0         6.0        6.0      NaN    ...             NaN         NaN   \n",
       "761  0.0         3.0        2.0      NaN    ...             NaN         NaN   \n",
       "\n",
       "     gf_version  ppvt_f  ppvt_ss  rowpvt_ss  school  score  test_name  \\\n",
       "39          NaN     NaN      NaN        NaN     626   71.0        NaN   \n",
       "362         2.0     NaN      NaN        NaN     628   74.0        NaN   \n",
       "538         2.0     NaN      NaN        NaN     628   92.0        NaN   \n",
       "567         NaN     NaN      NaN        NaN     626   75.0        NaN   \n",
       "761         NaN     NaN      NaN        NaN     625   66.0        PLS   \n",
       "\n",
       "     test_type  \n",
       "39         EVT  \n",
       "362    Goldman  \n",
       "538    Goldman  \n",
       "567   Arizonia  \n",
       "761  receptive  \n",
       "\n",
       "[5 rows x 231 columns]"
      ]
     },
     "execution_count": 36,
     "metadata": {},
     "output_type": "execute_result"
    }
   ],
   "source": [
    "data_4yo.head()"
   ]
  },
  {
   "cell_type": "code",
   "execution_count": 40,
   "metadata": {},
   "outputs": [],
   "source": [
    "data_4yo.loc[(data_4yo.domain=='Language') & (data_4yo.test_type=='receptive'), \n",
    "           'domain'] = 'Receptive Language'\n",
    "data_4yo.loc[(data_4yo.domain=='Language') & (data_4yo.test_type=='expressive'), \n",
    "           'domain'] = 'Expressive Language'"
   ]
  },
  {
   "cell_type": "code",
   "execution_count": 41,
   "metadata": {},
   "outputs": [
    {
     "data": {
      "text/html": [
       "<div>\n",
       "<style scoped>\n",
       "    .dataframe tbody tr th:only-of-type {\n",
       "        vertical-align: middle;\n",
       "    }\n",
       "\n",
       "    .dataframe tbody tr th {\n",
       "        vertical-align: top;\n",
       "    }\n",
       "\n",
       "    .dataframe thead th {\n",
       "        text-align: right;\n",
       "    }\n",
       "</style>\n",
       "<table border=\"1\" class=\"dataframe\">\n",
       "  <thead>\n",
       "    <tr style=\"text-align: right;\">\n",
       "      <th></th>\n",
       "      <th>count</th>\n",
       "      <th>mean</th>\n",
       "      <th>std</th>\n",
       "      <th>min</th>\n",
       "      <th>25%</th>\n",
       "      <th>50%</th>\n",
       "      <th>75%</th>\n",
       "      <th>max</th>\n",
       "    </tr>\n",
       "    <tr>\n",
       "      <th>domain</th>\n",
       "      <th></th>\n",
       "      <th></th>\n",
       "      <th></th>\n",
       "      <th></th>\n",
       "      <th></th>\n",
       "      <th></th>\n",
       "      <th></th>\n",
       "      <th></th>\n",
       "    </tr>\n",
       "  </thead>\n",
       "  <tbody>\n",
       "    <tr>\n",
       "      <th>Articulation</th>\n",
       "      <td>342.0</td>\n",
       "      <td>85.2</td>\n",
       "      <td>20.3</td>\n",
       "      <td>0.0</td>\n",
       "      <td>72.0</td>\n",
       "      <td>87.0</td>\n",
       "      <td>101.0</td>\n",
       "      <td>121.0</td>\n",
       "    </tr>\n",
       "    <tr>\n",
       "      <th>Expressive Language</th>\n",
       "      <td>2.0</td>\n",
       "      <td>56.0</td>\n",
       "      <td>4.2</td>\n",
       "      <td>53.0</td>\n",
       "      <td>54.5</td>\n",
       "      <td>56.0</td>\n",
       "      <td>57.5</td>\n",
       "      <td>59.0</td>\n",
       "    </tr>\n",
       "    <tr>\n",
       "      <th>Expressive Vocabulary</th>\n",
       "      <td>146.0</td>\n",
       "      <td>93.5</td>\n",
       "      <td>24.0</td>\n",
       "      <td>0.0</td>\n",
       "      <td>78.5</td>\n",
       "      <td>96.5</td>\n",
       "      <td>111.0</td>\n",
       "      <td>138.0</td>\n",
       "    </tr>\n",
       "    <tr>\n",
       "      <th>Receptive Language</th>\n",
       "      <td>47.0</td>\n",
       "      <td>84.2</td>\n",
       "      <td>25.0</td>\n",
       "      <td>50.0</td>\n",
       "      <td>63.0</td>\n",
       "      <td>85.0</td>\n",
       "      <td>103.0</td>\n",
       "      <td>145.0</td>\n",
       "    </tr>\n",
       "    <tr>\n",
       "      <th>Receptive Vocabulary</th>\n",
       "      <td>9.0</td>\n",
       "      <td>96.1</td>\n",
       "      <td>23.2</td>\n",
       "      <td>54.0</td>\n",
       "      <td>81.0</td>\n",
       "      <td>99.0</td>\n",
       "      <td>119.0</td>\n",
       "      <td>123.0</td>\n",
       "    </tr>\n",
       "  </tbody>\n",
       "</table>\n",
       "</div>"
      ],
      "text/plain": [
       "                       count  mean   std   min   25%   50%    75%    max\n",
       "domain                                                                  \n",
       "Articulation           342.0  85.2  20.3   0.0  72.0  87.0  101.0  121.0\n",
       "Expressive Language      2.0  56.0   4.2  53.0  54.5  56.0   57.5   59.0\n",
       "Expressive Vocabulary  146.0  93.5  24.0   0.0  78.5  96.5  111.0  138.0\n",
       "Receptive Language      47.0  84.2  25.0  50.0  63.0  85.0  103.0  145.0\n",
       "Receptive Vocabulary     9.0  96.1  23.2  54.0  81.0  99.0  119.0  123.0"
      ]
     },
     "execution_count": 41,
     "metadata": {},
     "output_type": "execute_result"
    }
   ],
   "source": [
    "data_4yo.groupby('domain').score.describe().round(1)"
   ]
  }
 ],
 "metadata": {
  "kernelspec": {
   "display_name": "Python 3",
   "language": "python",
   "name": "python3"
  },
  "language_info": {
   "codemirror_mode": {
    "name": "ipython",
    "version": 3
   },
   "file_extension": ".py",
   "mimetype": "text/x-python",
   "name": "python",
   "nbconvert_exporter": "python",
   "pygments_lexer": "ipython3",
   "version": "3.7.1"
  }
 },
 "nbformat": 4,
 "nbformat_minor": 2
}
