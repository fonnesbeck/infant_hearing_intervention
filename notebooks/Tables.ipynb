{
 "cells": [
  {
   "cell_type": "code",
   "execution_count": 1,
   "metadata": {},
   "outputs": [],
   "source": [
    "# Import modules and set options\n",
    "%matplotlib inline\n",
    "import matplotlib.pyplot as plt\n",
    "import pandas as pd\n",
    "import numpy as np\n",
    "import seaborn as sns\n",
    "# import pandas_profiling\n",
    "\n",
    "sns.set(context='notebook', style='ticks')"
   ]
  },
  {
   "cell_type": "code",
   "execution_count": 2,
   "metadata": {},
   "outputs": [],
   "source": [
    "analysis_subset = (pd.read_csv('../data/clean/analysis_subset.csv', low_memory=False)\n",
    "                  .rename({'onset_1':'identify_mo'}, axis=1))"
   ]
  },
  {
   "cell_type": "code",
   "execution_count": 3,
   "metadata": {},
   "outputs": [],
   "source": [
    "analysis_subset['score'] = analysis_subset.score_adj"
   ]
  },
  {
   "cell_type": "code",
   "execution_count": 4,
   "metadata": {},
   "outputs": [
    {
     "data": {
      "text/plain": [
       "(33128, 61)"
      ]
     },
     "execution_count": 4,
     "metadata": {},
     "output_type": "execute_result"
    }
   ],
   "source": [
    "analysis_subset.shape"
   ]
  },
  {
   "cell_type": "code",
   "execution_count": 5,
   "metadata": {},
   "outputs": [],
   "source": [
    "age_mask = (analysis_subset.age_test>=48) & (analysis_subset.age_test<60)"
   ]
  },
  {
   "cell_type": "code",
   "execution_count": 6,
   "metadata": {},
   "outputs": [
    {
     "data": {
      "text/plain": [
       "(1424, 61)"
      ]
     },
     "execution_count": 6,
     "metadata": {},
     "output_type": "execute_result"
    }
   ],
   "source": [
    "analysis_subset[age_mask].drop_duplicates(subset='student_idx').shape"
   ]
  },
  {
   "cell_type": "code",
   "execution_count": 7,
   "metadata": {},
   "outputs": [],
   "source": [
    "data_4yo = analysis_subset[age_mask].drop_duplicates(subset='student_idx').copy()"
   ]
  },
  {
   "cell_type": "markdown",
   "metadata": {},
   "source": [
    "## Demographics"
   ]
  },
  {
   "cell_type": "code",
   "execution_count": 8,
   "metadata": {},
   "outputs": [
    {
     "data": {
      "text/plain": [
       "Male      761\n",
       "Female    663\n",
       "Name: male, dtype: int64"
      ]
     },
     "execution_count": 8,
     "metadata": {},
     "output_type": "execute_result"
    }
   ],
   "source": [
    "data_4yo.male.replace({1: 'Male', 0: 'Female', np.nan: 'Missing'}).value_counts()"
   ]
  },
  {
   "cell_type": "code",
   "execution_count": 9,
   "metadata": {},
   "outputs": [
    {
     "data": {
      "text/plain": [
       "White       918\n",
       "Black       150\n",
       "Hispanic    144\n",
       "Other       137\n",
       "Asian        75\n",
       "Name: race, dtype: int64"
      ]
     },
     "execution_count": 9,
     "metadata": {},
     "output_type": "execute_result"
    }
   ],
   "source": [
    "data_4yo.race.replace({0:'White', 1:'Black', 2:'Hispanic', 3:'Asian', 4:'Other', np.nan:'Missing'}).value_counts()"
   ]
  },
  {
   "cell_type": "code",
   "execution_count": 10,
   "metadata": {},
   "outputs": [
    {
     "data": {
      "text/plain": [
       "<36 weeks     1060\n",
       "Unknown        228\n",
       ">=36 weeks     136\n",
       "Name: premature, dtype: int64"
      ]
     },
     "execution_count": 10,
     "metadata": {},
     "output_type": "execute_result"
    }
   ],
   "source": [
    "data_4yo.premature.replace({True: '>=36 weeks', False: '<36 weeks', np.nan: 'Unknown'}).value_counts()"
   ]
  },
  {
   "cell_type": "code",
   "execution_count": 11,
   "metadata": {},
   "outputs": [
    {
     "data": {
      "text/plain": [
       "2          590\n",
       "1          337\n",
       "3          272\n",
       "4+         160\n",
       "Missing     65\n",
       "Name: sib, dtype: int64"
      ]
     },
     "execution_count": 11,
     "metadata": {},
     "output_type": "execute_result"
    }
   ],
   "source": [
    "data_4yo.sib.replace({0:'1', 1:'2', 2:'3', 3:'4+', \n",
    "                      np.nan:'Missing'}).value_counts()"
   ]
  },
  {
   "cell_type": "code",
   "execution_count": 12,
   "metadata": {},
   "outputs": [
    {
     "data": {
      "text/plain": [
       "Ideal Participation      455\n",
       "Good Participation       381\n",
       "Average Participation    320\n",
       "Missing                  151\n",
       "Below Average             95\n",
       "Limited Participation     22\n",
       "Name: family_inv, dtype: int64"
      ]
     },
     "execution_count": 12,
     "metadata": {},
     "output_type": "execute_result"
    }
   ],
   "source": [
    "family_lookup = {0:\"Ideal Participation\",\n",
    "1:\"Good Participation\",\n",
    "2:\"Average Participation\",\n",
    "3:\"Below Average\",\n",
    "4:\"Limited Participation\",\n",
    "np.nan:\"Missing\"}\n",
    "\n",
    "data_4yo.family_inv.replace(family_lookup).value_counts()"
   ]
  },
  {
   "cell_type": "code",
   "execution_count": 13,
   "metadata": {},
   "outputs": [
    {
     "data": {
      "text/plain": [
       "High school diploma/GED    387\n",
       "Some high school           382\n",
       "Unknown                    377\n",
       "Some college               248\n",
       "8th grade or less           30\n",
       "Name: mother_ed, dtype: int64"
      ]
     },
     "execution_count": 13,
     "metadata": {},
     "output_type": "execute_result"
    }
   ],
   "source": [
    "ed_lookup = {0:\"8th grade or less\",\n",
    "1:\"Some high school\",\n",
    "2:\"High school diploma/GED\",\n",
    "3:\"Some college\",\n",
    "4:\"Bachelor's degree\",\n",
    "5:\"Post graduate degree\",\n",
    "6:\"Unknown\",\n",
    "np.nan:\"Unknown\"}\n",
    "\n",
    "data_4yo.mother_ed.replace(ed_lookup).value_counts()"
   ]
  },
  {
   "cell_type": "code",
   "execution_count": 14,
   "metadata": {},
   "outputs": [
    {
     "data": {
      "text/plain": [
       "Unknown                    463\n",
       "Bachelor's degree          324\n",
       "Post graduate degree       225\n",
       "Some college               196\n",
       "High school diploma/GED    185\n",
       "Some high school            28\n",
       "8th grade or less            3\n",
       "Name: father_ed, dtype: int64"
      ]
     },
     "execution_count": 14,
     "metadata": {},
     "output_type": "execute_result"
    }
   ],
   "source": [
    "data_4yo.father_ed.replace(ed_lookup).value_counts()"
   ]
  },
  {
   "cell_type": "markdown",
   "metadata": {},
   "source": [
    "- Age, hearing loss identified \n",
    "- Age, first amplified\n",
    "- Age, any intervention\n",
    "- Age, enrolled in OPTION program"
   ]
  },
  {
   "cell_type": "code",
   "execution_count": 15,
   "metadata": {},
   "outputs": [
    {
     "data": {
      "text/html": [
       "<div>\n",
       "<style scoped>\n",
       "    .dataframe tbody tr th:only-of-type {\n",
       "        vertical-align: middle;\n",
       "    }\n",
       "\n",
       "    .dataframe tbody tr th {\n",
       "        vertical-align: top;\n",
       "    }\n",
       "\n",
       "    .dataframe thead th {\n",
       "        text-align: right;\n",
       "    }\n",
       "</style>\n",
       "<table border=\"1\" class=\"dataframe\">\n",
       "  <thead>\n",
       "    <tr style=\"text-align: right;\">\n",
       "      <th></th>\n",
       "      <th>age_diag</th>\n",
       "      <th>age_amp</th>\n",
       "      <th>age_int</th>\n",
       "      <th>age</th>\n",
       "    </tr>\n",
       "  </thead>\n",
       "  <tbody>\n",
       "    <tr>\n",
       "      <th>count</th>\n",
       "      <td>1168.000000</td>\n",
       "      <td>1162.000000</td>\n",
       "      <td>1089.000000</td>\n",
       "      <td>1424.000000</td>\n",
       "    </tr>\n",
       "    <tr>\n",
       "      <th>mean</th>\n",
       "      <td>10.633562</td>\n",
       "      <td>15.050129</td>\n",
       "      <td>16.121671</td>\n",
       "      <td>27.724719</td>\n",
       "    </tr>\n",
       "    <tr>\n",
       "      <th>std</th>\n",
       "      <td>13.698778</td>\n",
       "      <td>13.947141</td>\n",
       "      <td>14.411849</td>\n",
       "      <td>16.894740</td>\n",
       "    </tr>\n",
       "    <tr>\n",
       "      <th>min</th>\n",
       "      <td>0.000000</td>\n",
       "      <td>0.000000</td>\n",
       "      <td>0.000000</td>\n",
       "      <td>0.000000</td>\n",
       "    </tr>\n",
       "    <tr>\n",
       "      <th>25%</th>\n",
       "      <td>1.000000</td>\n",
       "      <td>3.000000</td>\n",
       "      <td>4.000000</td>\n",
       "      <td>13.000000</td>\n",
       "    </tr>\n",
       "    <tr>\n",
       "      <th>50%</th>\n",
       "      <td>3.000000</td>\n",
       "      <td>9.000000</td>\n",
       "      <td>12.000000</td>\n",
       "      <td>28.000000</td>\n",
       "    </tr>\n",
       "    <tr>\n",
       "      <th>75%</th>\n",
       "      <td>19.000000</td>\n",
       "      <td>24.000000</td>\n",
       "      <td>25.000000</td>\n",
       "      <td>41.000000</td>\n",
       "    </tr>\n",
       "    <tr>\n",
       "      <th>max</th>\n",
       "      <td>57.000000</td>\n",
       "      <td>65.000000</td>\n",
       "      <td>60.000000</td>\n",
       "      <td>88.000000</td>\n",
       "    </tr>\n",
       "  </tbody>\n",
       "</table>\n",
       "</div>"
      ],
      "text/plain": [
       "          age_diag      age_amp      age_int          age\n",
       "count  1168.000000  1162.000000  1089.000000  1424.000000\n",
       "mean     10.633562    15.050129    16.121671    27.724719\n",
       "std      13.698778    13.947141    14.411849    16.894740\n",
       "min       0.000000     0.000000     0.000000     0.000000\n",
       "25%       1.000000     3.000000     4.000000    13.000000\n",
       "50%       3.000000     9.000000    12.000000    28.000000\n",
       "75%      19.000000    24.000000    25.000000    41.000000\n",
       "max      57.000000    65.000000    60.000000    88.000000"
      ]
     },
     "execution_count": 15,
     "metadata": {},
     "output_type": "execute_result"
    }
   ],
   "source": [
    "data_4yo[['age_diag', 'age_amp', 'age_int', 'age']].describe()"
   ]
  },
  {
   "cell_type": "markdown",
   "metadata": {},
   "source": [
    "## Hearing loss"
   ]
  },
  {
   "cell_type": "code",
   "execution_count": 16,
   "metadata": {},
   "outputs": [
    {
     "data": {
      "text/plain": [
       "187"
      ]
     },
     "execution_count": 16,
     "metadata": {},
     "output_type": "execute_result"
    }
   ],
   "source": [
    "data_4yo.deg_hl_below6.isnull().sum()"
   ]
  },
  {
   "cell_type": "code",
   "execution_count": 17,
   "metadata": {},
   "outputs": [],
   "source": [
    "hl_data = data_4yo.set_index('student_idx')[['bilateral_snhl',\n",
    "                     'bilateral_ansd',\n",
    "                     'bilateral_mixed',\n",
    "                     'bilateral_cond',\n",
    "                     'bilateral_normal',\n",
    "                     'bilateral_unk',\n",
    "                     'unilateral_snhl',\n",
    "                     'unilateral_ansd',\n",
    "                     'unilateral_mixed',\n",
    "                     'unilateral_cond',\n",
    "                     'unilateral_unk',\n",
    "                     'assymetrical']]"
   ]
  },
  {
   "cell_type": "markdown",
   "metadata": {},
   "source": [
    "One or both parents with hearing loss"
   ]
  },
  {
   "cell_type": "code",
   "execution_count": 18,
   "metadata": {},
   "outputs": [
    {
     "data": {
      "text/plain": [
       "0.0    1164\n",
       "1.0      88\n",
       "Name: one_or_both_parent_hl, dtype: int64"
      ]
     },
     "execution_count": 18,
     "metadata": {},
     "output_type": "execute_result"
    }
   ],
   "source": [
    "data_4yo.one_or_both_parent_hl.value_counts()"
   ]
  },
  {
   "cell_type": "code",
   "execution_count": 19,
   "metadata": {},
   "outputs": [
    {
     "data": {
      "text/plain": [
       "172"
      ]
     },
     "execution_count": 19,
     "metadata": {},
     "output_type": "execute_result"
    }
   ],
   "source": [
    "data_4yo.one_or_both_parent_hl.isnull().sum()"
   ]
  },
  {
   "cell_type": "markdown",
   "metadata": {},
   "source": [
    "Individuals with no hearing loss type"
   ]
  },
  {
   "cell_type": "code",
   "execution_count": 20,
   "metadata": {},
   "outputs": [
    {
     "data": {
      "text/plain": [
       "bilateral_snhl      1089\n",
       "bilateral_cond        43\n",
       "bilateral_ansd        38\n",
       "assymetrical          34\n",
       "bilateral_mixed       27\n",
       "unilateral_unk         0\n",
       "unilateral_cond        0\n",
       "unilateral_mixed       0\n",
       "unilateral_ansd        0\n",
       "unilateral_snhl        0\n",
       "bilateral_unk          0\n",
       "bilateral_normal       0\n",
       "dtype: int64"
      ]
     },
     "execution_count": 20,
     "metadata": {},
     "output_type": "execute_result"
    }
   ],
   "source": [
    "hl_data.sum().astype(int).sort_values(ascending=False)"
   ]
  },
  {
   "cell_type": "code",
   "execution_count": 21,
   "metadata": {},
   "outputs": [
    {
     "data": {
      "text/plain": [
       "bilateral_snhl      0.76\n",
       "bilateral_cond      0.03\n",
       "bilateral_ansd      0.03\n",
       "assymetrical        0.02\n",
       "bilateral_mixed     0.02\n",
       "unilateral_unk      0.00\n",
       "unilateral_cond     0.00\n",
       "unilateral_mixed    0.00\n",
       "unilateral_ansd     0.00\n",
       "unilateral_snhl     0.00\n",
       "bilateral_unk       0.00\n",
       "bilateral_normal    0.00\n",
       "dtype: float64"
      ]
     },
     "execution_count": 21,
     "metadata": {},
     "output_type": "execute_result"
    }
   ],
   "source": [
    "hl_data.mean().round(2).sort_values(ascending=False)"
   ]
  },
  {
   "cell_type": "code",
   "execution_count": 22,
   "metadata": {},
   "outputs": [],
   "source": [
    "tech_data = data_4yo.set_index('student_idx')[['bilateral_ha',\n",
    "                     'bilateral_ci',\n",
    "                     'bimodal',\n",
    "                     'bilateral_other',\n",
    "                     'unilateral_ha',\n",
    "                     'unilateral_ci',\n",
    "                     'unilateral_other']]"
   ]
  },
  {
   "cell_type": "code",
   "execution_count": 23,
   "metadata": {},
   "outputs": [
    {
     "data": {
      "text/plain": [
       "bilateral_ci        1054\n",
       "bilateral_ha         268\n",
       "bimodal               75\n",
       "unilateral_ci         13\n",
       "unilateral_ha          5\n",
       "unilateral_other       1\n",
       "bilateral_other        1\n",
       "dtype: int64"
      ]
     },
     "execution_count": 23,
     "metadata": {},
     "output_type": "execute_result"
    }
   ],
   "source": [
    "tech_data.sum().astype(int).sort_values(ascending=False)"
   ]
  },
  {
   "cell_type": "code",
   "execution_count": 24,
   "metadata": {},
   "outputs": [
    {
     "data": {
      "text/plain": [
       "bilateral_ci        0.74\n",
       "bilateral_ha        0.19\n",
       "bimodal             0.05\n",
       "unilateral_ci       0.01\n",
       "unilateral_other    0.00\n",
       "unilateral_ha       0.00\n",
       "bilateral_other     0.00\n",
       "dtype: float64"
      ]
     },
     "execution_count": 24,
     "metadata": {},
     "output_type": "execute_result"
    }
   ],
   "source": [
    "tech_data.mean().round(2).sort_values(ascending=False)"
   ]
  },
  {
   "cell_type": "markdown",
   "metadata": {},
   "source": [
    "Individuals with no technology type"
   ]
  },
  {
   "cell_type": "code",
   "execution_count": 25,
   "metadata": {},
   "outputs": [
    {
     "data": {
      "text/plain": [
       "array([3517, 3178, 2701, 6132,  296,  139, 3953])"
      ]
     },
     "execution_count": 25,
     "metadata": {},
     "output_type": "execute_result"
    }
   ],
   "source": [
    "tech_data[tech_data.sum(1)==0].index.values"
   ]
  },
  {
   "cell_type": "markdown",
   "metadata": {},
   "source": [
    "## Hearing Loss"
   ]
  },
  {
   "cell_type": "code",
   "execution_count": 26,
   "metadata": {},
   "outputs": [
    {
     "data": {
      "text/plain": [
       "Index(['unilateral_hl_modsev', 'bilateral_hl_modsev', 'unilateral_hl_profound',\n",
       "       'deg_hl_below6', 'bilateral_hl_severe', 'bilateral_hl_normal',\n",
       "       'unilateral_hl_moderate', 'bilateral_hl_slight', 'unilateral_hl_slight',\n",
       "       'unilateral_hl_severe', 'bilateral_hl_profound', 'bilateral_hl_mild',\n",
       "       'bilateral_hl_moderate', 'unilateral_hl_mild'],\n",
       "      dtype='object')"
      ]
     },
     "execution_count": 26,
     "metadata": {},
     "output_type": "execute_result"
    }
   ],
   "source": [
    "data_4yo.columns[data_4yo.columns.str.contains('_hl_')]"
   ]
  },
  {
   "cell_type": "code",
   "execution_count": 27,
   "metadata": {},
   "outputs": [],
   "source": [
    "hl_data = data_4yo.set_index('student_idx')[['bilateral_hl_normal', 'bilateral_hl_slight', 'bilateral_hl_mild',\n",
    "       'bilateral_hl_moderate', 'bilateral_hl_modsev', 'bilateral_hl_severe',\n",
    "       'bilateral_hl_profound', 'unilateral_hl_slight', 'unilateral_hl_mild',\n",
    "       'unilateral_hl_moderate', 'unilateral_hl_modsev',\n",
    "       'unilateral_hl_severe', 'unilateral_hl_profound']]"
   ]
  },
  {
   "cell_type": "code",
   "execution_count": 28,
   "metadata": {},
   "outputs": [
    {
     "data": {
      "text/plain": [
       "bilateral_hl_profound     487\n",
       "bilateral_hl_moderate     144\n",
       "bilateral_hl_modsev       119\n",
       "bilateral_hl_severe        88\n",
       "bilateral_hl_mild          53\n",
       "bilateral_hl_slight        10\n",
       "unilateral_hl_slight        2\n",
       "unilateral_hl_modsev        1\n",
       "unilateral_hl_mild          1\n",
       "unilateral_hl_profound      0\n",
       "unilateral_hl_severe        0\n",
       "unilateral_hl_moderate      0\n",
       "bilateral_hl_normal         0\n",
       "dtype: int64"
      ]
     },
     "execution_count": 28,
     "metadata": {},
     "output_type": "execute_result"
    }
   ],
   "source": [
    "hl_data.sum().astype(int).sort_values(ascending=False)"
   ]
  },
  {
   "cell_type": "code",
   "execution_count": 29,
   "metadata": {},
   "outputs": [
    {
     "data": {
      "text/plain": [
       "bilateral_hl_profound     0.34\n",
       "bilateral_hl_moderate     0.10\n",
       "bilateral_hl_modsev       0.08\n",
       "bilateral_hl_severe       0.06\n",
       "bilateral_hl_mild         0.04\n",
       "bilateral_hl_slight       0.01\n",
       "unilateral_hl_profound    0.00\n",
       "unilateral_hl_severe      0.00\n",
       "unilateral_hl_modsev      0.00\n",
       "unilateral_hl_moderate    0.00\n",
       "unilateral_hl_mild        0.00\n",
       "unilateral_hl_slight      0.00\n",
       "bilateral_hl_normal       0.00\n",
       "dtype: float64"
      ]
     },
     "execution_count": 29,
     "metadata": {},
     "output_type": "execute_result"
    }
   ],
   "source": [
    "hl_data.mean().round(2).sort_values(ascending=False)"
   ]
  },
  {
   "cell_type": "markdown",
   "metadata": {},
   "source": [
    "## Summary of scores by domain"
   ]
  },
  {
   "cell_type": "code",
   "execution_count": 30,
   "metadata": {},
   "outputs": [],
   "source": [
    "test_scores = analysis_subset[age_mask].copy()"
   ]
  },
  {
   "cell_type": "code",
   "execution_count": 31,
   "metadata": {},
   "outputs": [],
   "source": [
    "test_scores.loc[(test_scores.domain=='Language') & (test_scores.test_type=='receptive'), \n",
    "           'domain'] = 'Receptive Language'\n",
    "test_scores.loc[(test_scores.domain=='Language') & (test_scores.test_type=='expressive'), \n",
    "           'domain'] = 'Expressive Language'"
   ]
  },
  {
   "cell_type": "code",
   "execution_count": 32,
   "metadata": {},
   "outputs": [
    {
     "data": {
      "text/html": [
       "<div>\n",
       "<style scoped>\n",
       "    .dataframe tbody tr th:only-of-type {\n",
       "        vertical-align: middle;\n",
       "    }\n",
       "\n",
       "    .dataframe tbody tr th {\n",
       "        vertical-align: top;\n",
       "    }\n",
       "\n",
       "    .dataframe thead th {\n",
       "        text-align: right;\n",
       "    }\n",
       "</style>\n",
       "<table border=\"1\" class=\"dataframe\">\n",
       "  <thead>\n",
       "    <tr style=\"text-align: right;\">\n",
       "      <th></th>\n",
       "      <th>count</th>\n",
       "      <th>mean</th>\n",
       "      <th>std</th>\n",
       "      <th>min</th>\n",
       "      <th>25%</th>\n",
       "      <th>50%</th>\n",
       "      <th>75%</th>\n",
       "      <th>max</th>\n",
       "    </tr>\n",
       "    <tr>\n",
       "      <th>domain</th>\n",
       "      <th></th>\n",
       "      <th></th>\n",
       "      <th></th>\n",
       "      <th></th>\n",
       "      <th></th>\n",
       "      <th></th>\n",
       "      <th></th>\n",
       "      <th></th>\n",
       "    </tr>\n",
       "  </thead>\n",
       "  <tbody>\n",
       "    <tr>\n",
       "      <th>Articulation</th>\n",
       "      <td>927.0</td>\n",
       "      <td>84.7</td>\n",
       "      <td>16.9</td>\n",
       "      <td>10.8</td>\n",
       "      <td>75.2</td>\n",
       "      <td>85.2</td>\n",
       "      <td>98.3</td>\n",
       "      <td>115.2</td>\n",
       "    </tr>\n",
       "    <tr>\n",
       "      <th>Expressive Language</th>\n",
       "      <td>1183.0</td>\n",
       "      <td>85.1</td>\n",
       "      <td>21.0</td>\n",
       "      <td>36.7</td>\n",
       "      <td>69.0</td>\n",
       "      <td>85.0</td>\n",
       "      <td>102.0</td>\n",
       "      <td>142.3</td>\n",
       "    </tr>\n",
       "    <tr>\n",
       "      <th>Expressive Vocabulary</th>\n",
       "      <td>1275.0</td>\n",
       "      <td>97.1</td>\n",
       "      <td>19.1</td>\n",
       "      <td>0.0</td>\n",
       "      <td>85.0</td>\n",
       "      <td>98.0</td>\n",
       "      <td>110.0</td>\n",
       "      <td>147.0</td>\n",
       "    </tr>\n",
       "    <tr>\n",
       "      <th>Receptive Language</th>\n",
       "      <td>1187.0</td>\n",
       "      <td>89.6</td>\n",
       "      <td>20.4</td>\n",
       "      <td>33.8</td>\n",
       "      <td>75.0</td>\n",
       "      <td>90.0</td>\n",
       "      <td>105.0</td>\n",
       "      <td>150.2</td>\n",
       "    </tr>\n",
       "    <tr>\n",
       "      <th>Receptive Vocabulary</th>\n",
       "      <td>1289.0</td>\n",
       "      <td>94.6</td>\n",
       "      <td>18.0</td>\n",
       "      <td>10.8</td>\n",
       "      <td>83.0</td>\n",
       "      <td>95.0</td>\n",
       "      <td>107.4</td>\n",
       "      <td>159.0</td>\n",
       "    </tr>\n",
       "    <tr>\n",
       "      <th>Total Language</th>\n",
       "      <td>1218.0</td>\n",
       "      <td>87.1</td>\n",
       "      <td>21.7</td>\n",
       "      <td>34.7</td>\n",
       "      <td>71.4</td>\n",
       "      <td>88.0</td>\n",
       "      <td>102.0</td>\n",
       "      <td>169.6</td>\n",
       "    </tr>\n",
       "  </tbody>\n",
       "</table>\n",
       "</div>"
      ],
      "text/plain": [
       "                        count  mean   std   min   25%   50%    75%    max\n",
       "domain                                                                   \n",
       "Articulation            927.0  84.7  16.9  10.8  75.2  85.2   98.3  115.2\n",
       "Expressive Language    1183.0  85.1  21.0  36.7  69.0  85.0  102.0  142.3\n",
       "Expressive Vocabulary  1275.0  97.1  19.1   0.0  85.0  98.0  110.0  147.0\n",
       "Receptive Language     1187.0  89.6  20.4  33.8  75.0  90.0  105.0  150.2\n",
       "Receptive Vocabulary   1289.0  94.6  18.0  10.8  83.0  95.0  107.4  159.0\n",
       "Total Language         1218.0  87.1  21.7  34.7  71.4  88.0  102.0  169.6"
      ]
     },
     "execution_count": 32,
     "metadata": {},
     "output_type": "execute_result"
    }
   ],
   "source": [
    "test_scores.groupby('domain').score.describe().round(1)"
   ]
  },
  {
   "cell_type": "code",
   "execution_count": 33,
   "metadata": {},
   "outputs": [
    {
     "data": {
      "text/plain": [
       "array(['Expressive Vocabulary', 'Receptive Language',\n",
       "       'Expressive Language', 'Total Language', 'Receptive Vocabulary',\n",
       "       'Articulation'], dtype=object)"
      ]
     },
     "execution_count": 33,
     "metadata": {},
     "output_type": "execute_result"
    }
   ],
   "source": [
    "test_scores.domain.unique()"
   ]
  },
  {
   "cell_type": "code",
   "execution_count": 34,
   "metadata": {},
   "outputs": [],
   "source": [
    "test_scores['domain_labels'] = test_scores.domain.replace({'Expressive Vocabulary': 'Expressive\\nVocabulary', \n",
    "                                                           'Receptive Vocabulary': 'Receptive\\nVocabulary',\n",
    "                                                           'Receptive Language': 'Receptive\\nLanguage', \n",
    "                                                           'Expressive Language': 'Expressive\\nLanguage', \n",
    "                                                           'Language': 'Total\\nLanguage'})"
   ]
  },
  {
   "cell_type": "code",
   "execution_count": 35,
   "metadata": {},
   "outputs": [
    {
     "data": {
      "image/png": "[encoded data removed]",
      "text/plain": [
       "<Figure size 864x360 with 1 Axes>"
      ]
     },
     "metadata": {
      "needs_background": "light"
     },
     "output_type": "display_data"
    }
   ],
   "source": [
    "sns.catplot(\"domain_labels\", y=\"score\", data=test_scores)\n",
    "fig = plt.gcf()\n",
    "fig.set_size_inches(12, 5)\n",
    "fig.axes[0].set_xlabel('');"
   ]
  },
  {
   "cell_type": "code",
   "execution_count": 36,
   "metadata": {},
   "outputs": [
    {
     "data": {
      "image/png": "[encoded data removed]",
      "text/plain": [
       "<Figure size 864x360 with 1 Axes>"
      ]
     },
     "metadata": {
      "needs_background": "light"
     },
     "output_type": "display_data"
    }
   ],
   "source": [
    "sns.catplot(\"domain_labels\", y=\"score\", data=test_scores, kind=\"box\", color='white', fliersize=0)\n",
    "fig = plt.gcf()\n",
    "fig.set_size_inches(12, 5)\n",
    "fig.axes[0].set_xlabel('');"
   ]
  },
  {
   "cell_type": "markdown",
   "metadata": {},
   "source": [
    "## Domain-specific summaries\n",
    "\n",
    "Age of amplification greater than 6mo."
   ]
  },
  {
   "cell_type": "code",
   "execution_count": 37,
   "metadata": {},
   "outputs": [
    {
     "data": {
      "text/html": [
       "<div>\n",
       "<style scoped>\n",
       "    .dataframe tbody tr th:only-of-type {\n",
       "        vertical-align: middle;\n",
       "    }\n",
       "\n",
       "    .dataframe tbody tr th {\n",
       "        vertical-align: top;\n",
       "    }\n",
       "\n",
       "    .dataframe thead th {\n",
       "        text-align: right;\n",
       "    }\n",
       "</style>\n",
       "<table border=\"1\" class=\"dataframe\">\n",
       "  <thead>\n",
       "    <tr style=\"text-align: right;\">\n",
       "      <th></th>\n",
       "      <th></th>\n",
       "      <th>count</th>\n",
       "      <th>mean</th>\n",
       "      <th>std</th>\n",
       "      <th>min</th>\n",
       "      <th>25%</th>\n",
       "      <th>50%</th>\n",
       "      <th>75%</th>\n",
       "      <th>max</th>\n",
       "    </tr>\n",
       "    <tr>\n",
       "      <th>domain</th>\n",
       "      <th>age_amp_greater_6</th>\n",
       "      <th></th>\n",
       "      <th></th>\n",
       "      <th></th>\n",
       "      <th></th>\n",
       "      <th></th>\n",
       "      <th></th>\n",
       "      <th></th>\n",
       "      <th></th>\n",
       "    </tr>\n",
       "  </thead>\n",
       "  <tbody>\n",
       "    <tr>\n",
       "      <th rowspan=\"2\" valign=\"top\">Articulation</th>\n",
       "      <th>False</th>\n",
       "      <td>512.0</td>\n",
       "      <td>88.525948</td>\n",
       "      <td>15.348577</td>\n",
       "      <td>42.968096</td>\n",
       "      <td>79.007067</td>\n",
       "      <td>89.642797</td>\n",
       "      <td>101.127343</td>\n",
       "      <td>115.192382</td>\n",
       "    </tr>\n",
       "    <tr>\n",
       "      <th>True</th>\n",
       "      <td>415.0</td>\n",
       "      <td>79.918291</td>\n",
       "      <td>17.511821</td>\n",
       "      <td>10.778705</td>\n",
       "      <td>68.269095</td>\n",
       "      <td>81.072130</td>\n",
       "      <td>93.046107</td>\n",
       "      <td>112.922486</td>\n",
       "    </tr>\n",
       "    <tr>\n",
       "      <th rowspan=\"2\" valign=\"top\">Expressive Language</th>\n",
       "      <th>False</th>\n",
       "      <td>576.0</td>\n",
       "      <td>90.830068</td>\n",
       "      <td>19.430518</td>\n",
       "      <td>41.623667</td>\n",
       "      <td>77.000000</td>\n",
       "      <td>92.000000</td>\n",
       "      <td>105.000000</td>\n",
       "      <td>142.263264</td>\n",
       "    </tr>\n",
       "    <tr>\n",
       "      <th>True</th>\n",
       "      <td>607.0</td>\n",
       "      <td>79.694615</td>\n",
       "      <td>21.084125</td>\n",
       "      <td>36.659928</td>\n",
       "      <td>61.968074</td>\n",
       "      <td>77.913551</td>\n",
       "      <td>96.000000</td>\n",
       "      <td>138.766553</td>\n",
       "    </tr>\n",
       "    <tr>\n",
       "      <th rowspan=\"2\" valign=\"top\">Expressive Vocabulary</th>\n",
       "      <th>False</th>\n",
       "      <td>705.0</td>\n",
       "      <td>100.831974</td>\n",
       "      <td>17.664917</td>\n",
       "      <td>41.000000</td>\n",
       "      <td>89.358615</td>\n",
       "      <td>101.000000</td>\n",
       "      <td>113.000000</td>\n",
       "      <td>146.000000</td>\n",
       "    </tr>\n",
       "    <tr>\n",
       "      <th>True</th>\n",
       "      <td>570.0</td>\n",
       "      <td>92.516579</td>\n",
       "      <td>19.832085</td>\n",
       "      <td>0.000000</td>\n",
       "      <td>80.000000</td>\n",
       "      <td>93.380918</td>\n",
       "      <td>105.244345</td>\n",
       "      <td>147.000000</td>\n",
       "    </tr>\n",
       "    <tr>\n",
       "      <th rowspan=\"2\" valign=\"top\">Receptive Language</th>\n",
       "      <th>False</th>\n",
       "      <td>582.0</td>\n",
       "      <td>94.968816</td>\n",
       "      <td>18.324755</td>\n",
       "      <td>45.699036</td>\n",
       "      <td>83.000000</td>\n",
       "      <td>96.000000</td>\n",
       "      <td>109.000000</td>\n",
       "      <td>145.000000</td>\n",
       "    </tr>\n",
       "    <tr>\n",
       "      <th>True</th>\n",
       "      <td>605.0</td>\n",
       "      <td>84.508340</td>\n",
       "      <td>21.018140</td>\n",
       "      <td>33.761039</td>\n",
       "      <td>67.509076</td>\n",
       "      <td>85.395064</td>\n",
       "      <td>101.000000</td>\n",
       "      <td>150.150059</td>\n",
       "    </tr>\n",
       "    <tr>\n",
       "      <th rowspan=\"2\" valign=\"top\">Receptive Vocabulary</th>\n",
       "      <th>False</th>\n",
       "      <td>709.0</td>\n",
       "      <td>98.616602</td>\n",
       "      <td>17.116009</td>\n",
       "      <td>38.000000</td>\n",
       "      <td>88.000000</td>\n",
       "      <td>99.293175</td>\n",
       "      <td>110.000000</td>\n",
       "      <td>149.000000</td>\n",
       "    </tr>\n",
       "    <tr>\n",
       "      <th>True</th>\n",
       "      <td>580.0</td>\n",
       "      <td>89.624555</td>\n",
       "      <td>17.888034</td>\n",
       "      <td>10.778705</td>\n",
       "      <td>78.788123</td>\n",
       "      <td>90.030013</td>\n",
       "      <td>101.462257</td>\n",
       "      <td>159.000000</td>\n",
       "    </tr>\n",
       "    <tr>\n",
       "      <th rowspan=\"2\" valign=\"top\">Total Language</th>\n",
       "      <th>False</th>\n",
       "      <td>591.0</td>\n",
       "      <td>92.609738</td>\n",
       "      <td>19.775969</td>\n",
       "      <td>41.623667</td>\n",
       "      <td>78.646089</td>\n",
       "      <td>94.000000</td>\n",
       "      <td>107.748481</td>\n",
       "      <td>141.000000</td>\n",
       "    </tr>\n",
       "    <tr>\n",
       "      <th>True</th>\n",
       "      <td>627.0</td>\n",
       "      <td>81.900698</td>\n",
       "      <td>22.156225</td>\n",
       "      <td>34.725726</td>\n",
       "      <td>64.725488</td>\n",
       "      <td>81.000000</td>\n",
       "      <td>98.000000</td>\n",
       "      <td>169.578690</td>\n",
       "    </tr>\n",
       "  </tbody>\n",
       "</table>\n",
       "</div>"
      ],
      "text/plain": [
       "                                         count        mean        std  \\\n",
       "domain                age_amp_greater_6                                 \n",
       "Articulation          False              512.0   88.525948  15.348577   \n",
       "                      True               415.0   79.918291  17.511821   \n",
       "Expressive Language   False              576.0   90.830068  19.430518   \n",
       "                      True               607.0   79.694615  21.084125   \n",
       "Expressive Vocabulary False              705.0  100.831974  17.664917   \n",
       "                      True               570.0   92.516579  19.832085   \n",
       "Receptive Language    False              582.0   94.968816  18.324755   \n",
       "                      True               605.0   84.508340  21.018140   \n",
       "Receptive Vocabulary  False              709.0   98.616602  17.116009   \n",
       "                      True               580.0   89.624555  17.888034   \n",
       "Total Language        False              591.0   92.609738  19.775969   \n",
       "                      True               627.0   81.900698  22.156225   \n",
       "\n",
       "                                               min        25%         50%  \\\n",
       "domain                age_amp_greater_6                                     \n",
       "Articulation          False              42.968096  79.007067   89.642797   \n",
       "                      True               10.778705  68.269095   81.072130   \n",
       "Expressive Language   False              41.623667  77.000000   92.000000   \n",
       "                      True               36.659928  61.968074   77.913551   \n",
       "Expressive Vocabulary False              41.000000  89.358615  101.000000   \n",
       "                      True                0.000000  80.000000   93.380918   \n",
       "Receptive Language    False              45.699036  83.000000   96.000000   \n",
       "                      True               33.761039  67.509076   85.395064   \n",
       "Receptive Vocabulary  False              38.000000  88.000000   99.293175   \n",
       "                      True               10.778705  78.788123   90.030013   \n",
       "Total Language        False              41.623667  78.646089   94.000000   \n",
       "                      True               34.725726  64.725488   81.000000   \n",
       "\n",
       "                                                75%         max  \n",
       "domain                age_amp_greater_6                          \n",
       "Articulation          False              101.127343  115.192382  \n",
       "                      True                93.046107  112.922486  \n",
       "Expressive Language   False              105.000000  142.263264  \n",
       "                      True                96.000000  138.766553  \n",
       "Expressive Vocabulary False              113.000000  146.000000  \n",
       "                      True               105.244345  147.000000  \n",
       "Receptive Language    False              109.000000  145.000000  \n",
       "                      True               101.000000  150.150059  \n",
       "Receptive Vocabulary  False              110.000000  149.000000  \n",
       "                      True               101.462257  159.000000  \n",
       "Total Language        False              107.748481  141.000000  \n",
       "                      True                98.000000  169.578690  "
      ]
     },
     "execution_count": 37,
     "metadata": {},
     "output_type": "execute_result"
    }
   ],
   "source": [
    "(test_scores.assign(age_amp_greater_6=test_scores.age_amp>6)\n",
    "         .groupby(['domain', 'age_amp_greater_6'])\n",
    "         .score.describe())"
   ]
  },
  {
   "cell_type": "code",
   "execution_count": 38,
   "metadata": {},
   "outputs": [
    {
     "data": {
      "image/png": "[encoded data removed]",
      "text/plain": [
       "<Figure size 864x360 with 1 Axes>"
      ]
     },
     "metadata": {
      "needs_background": "light"
     },
     "output_type": "display_data"
    }
   ],
   "source": [
    "sns.catplot(\"domain_labels\", y=\"score\", hue='age_amp_greater_6', data=test_scores.assign(age_amp_greater_6=test_scores.age_amp>6),\n",
    "            kind=\"box\", color='white', fliersize=0)\n",
    "fig = plt.gcf()\n",
    "fig.set_size_inches(12, 5)\n",
    "fig.axes[0].set_xlabel('');"
   ]
  },
  {
   "cell_type": "markdown",
   "metadata": {},
   "source": [
    "Age of enrollment greater than 6mo."
   ]
  },
  {
   "cell_type": "code",
   "execution_count": 39,
   "metadata": {},
   "outputs": [
    {
     "data": {
      "text/html": [
       "<div>\n",
       "<style scoped>\n",
       "    .dataframe tbody tr th:only-of-type {\n",
       "        vertical-align: middle;\n",
       "    }\n",
       "\n",
       "    .dataframe tbody tr th {\n",
       "        vertical-align: top;\n",
       "    }\n",
       "\n",
       "    .dataframe thead th {\n",
       "        text-align: right;\n",
       "    }\n",
       "</style>\n",
       "<table border=\"1\" class=\"dataframe\">\n",
       "  <thead>\n",
       "    <tr style=\"text-align: right;\">\n",
       "      <th></th>\n",
       "      <th></th>\n",
       "      <th>count</th>\n",
       "      <th>mean</th>\n",
       "      <th>std</th>\n",
       "      <th>min</th>\n",
       "      <th>25%</th>\n",
       "      <th>50%</th>\n",
       "      <th>75%</th>\n",
       "      <th>max</th>\n",
       "    </tr>\n",
       "    <tr>\n",
       "      <th>domain</th>\n",
       "      <th>age_enroll_greater_6</th>\n",
       "      <th></th>\n",
       "      <th></th>\n",
       "      <th></th>\n",
       "      <th></th>\n",
       "      <th></th>\n",
       "      <th></th>\n",
       "      <th></th>\n",
       "      <th></th>\n",
       "    </tr>\n",
       "  </thead>\n",
       "  <tbody>\n",
       "    <tr>\n",
       "      <th rowspan=\"2\" valign=\"top\">Articulation</th>\n",
       "      <th>False</th>\n",
       "      <td>512.0</td>\n",
       "      <td>87.354890</td>\n",
       "      <td>16.604804</td>\n",
       "      <td>10.778705</td>\n",
       "      <td>78.014082</td>\n",
       "      <td>89.638201</td>\n",
       "      <td>100.926543</td>\n",
       "      <td>115.192382</td>\n",
       "    </tr>\n",
       "    <tr>\n",
       "      <th>True</th>\n",
       "      <td>415.0</td>\n",
       "      <td>81.363066</td>\n",
       "      <td>16.681191</td>\n",
       "      <td>44.124047</td>\n",
       "      <td>69.664951</td>\n",
       "      <td>81.676472</td>\n",
       "      <td>93.530324</td>\n",
       "      <td>113.668094</td>\n",
       "    </tr>\n",
       "    <tr>\n",
       "      <th rowspan=\"2\" valign=\"top\">Expressive Language</th>\n",
       "      <th>False</th>\n",
       "      <td>576.0</td>\n",
       "      <td>88.794210</td>\n",
       "      <td>20.444072</td>\n",
       "      <td>36.659928</td>\n",
       "      <td>74.467114</td>\n",
       "      <td>89.000000</td>\n",
       "      <td>104.000000</td>\n",
       "      <td>142.263264</td>\n",
       "    </tr>\n",
       "    <tr>\n",
       "      <th>True</th>\n",
       "      <td>607.0</td>\n",
       "      <td>81.626499</td>\n",
       "      <td>21.014534</td>\n",
       "      <td>37.206520</td>\n",
       "      <td>64.382599</td>\n",
       "      <td>81.545823</td>\n",
       "      <td>98.000000</td>\n",
       "      <td>138.766553</td>\n",
       "    </tr>\n",
       "    <tr>\n",
       "      <th rowspan=\"2\" valign=\"top\">Expressive Vocabulary</th>\n",
       "      <th>False</th>\n",
       "      <td>696.0</td>\n",
       "      <td>100.190336</td>\n",
       "      <td>19.260713</td>\n",
       "      <td>10.778705</td>\n",
       "      <td>87.845301</td>\n",
       "      <td>101.093698</td>\n",
       "      <td>113.886062</td>\n",
       "      <td>146.000000</td>\n",
       "    </tr>\n",
       "    <tr>\n",
       "      <th>True</th>\n",
       "      <td>579.0</td>\n",
       "      <td>93.417129</td>\n",
       "      <td>18.270483</td>\n",
       "      <td>0.000000</td>\n",
       "      <td>81.567324</td>\n",
       "      <td>94.290767</td>\n",
       "      <td>105.010651</td>\n",
       "      <td>147.000000</td>\n",
       "    </tr>\n",
       "    <tr>\n",
       "      <th rowspan=\"2\" valign=\"top\">Receptive Language</th>\n",
       "      <th>False</th>\n",
       "      <td>581.0</td>\n",
       "      <td>93.303161</td>\n",
       "      <td>19.458576</td>\n",
       "      <td>36.659928</td>\n",
       "      <td>81.000000</td>\n",
       "      <td>94.000000</td>\n",
       "      <td>108.297251</td>\n",
       "      <td>145.000000</td>\n",
       "    </tr>\n",
       "    <tr>\n",
       "      <th>True</th>\n",
       "      <td>606.0</td>\n",
       "      <td>86.122542</td>\n",
       "      <td>20.709637</td>\n",
       "      <td>33.761039</td>\n",
       "      <td>70.563964</td>\n",
       "      <td>88.000000</td>\n",
       "      <td>101.000000</td>\n",
       "      <td>150.150059</td>\n",
       "    </tr>\n",
       "    <tr>\n",
       "      <th rowspan=\"2\" valign=\"top\">Receptive Vocabulary</th>\n",
       "      <th>False</th>\n",
       "      <td>703.0</td>\n",
       "      <td>97.189288</td>\n",
       "      <td>18.389031</td>\n",
       "      <td>10.778705</td>\n",
       "      <td>86.000000</td>\n",
       "      <td>98.223656</td>\n",
       "      <td>110.000000</td>\n",
       "      <td>149.000000</td>\n",
       "    </tr>\n",
       "    <tr>\n",
       "      <th>True</th>\n",
       "      <td>586.0</td>\n",
       "      <td>91.428913</td>\n",
       "      <td>17.071399</td>\n",
       "      <td>40.000000</td>\n",
       "      <td>80.940235</td>\n",
       "      <td>91.830459</td>\n",
       "      <td>102.519480</td>\n",
       "      <td>159.000000</td>\n",
       "    </tr>\n",
       "    <tr>\n",
       "      <th rowspan=\"2\" valign=\"top\">Total Language</th>\n",
       "      <th>False</th>\n",
       "      <td>591.0</td>\n",
       "      <td>90.609322</td>\n",
       "      <td>20.777287</td>\n",
       "      <td>36.659928</td>\n",
       "      <td>76.467853</td>\n",
       "      <td>91.456522</td>\n",
       "      <td>106.000000</td>\n",
       "      <td>141.000000</td>\n",
       "    </tr>\n",
       "    <tr>\n",
       "      <th>True</th>\n",
       "      <td>627.0</td>\n",
       "      <td>83.786257</td>\n",
       "      <td>22.039452</td>\n",
       "      <td>34.725726</td>\n",
       "      <td>67.000000</td>\n",
       "      <td>83.827651</td>\n",
       "      <td>100.000000</td>\n",
       "      <td>169.578690</td>\n",
       "    </tr>\n",
       "  </tbody>\n",
       "</table>\n",
       "</div>"
      ],
      "text/plain": [
       "                                            count        mean        std  \\\n",
       "domain                age_enroll_greater_6                                 \n",
       "Articulation          False                 512.0   87.354890  16.604804   \n",
       "                      True                  415.0   81.363066  16.681191   \n",
       "Expressive Language   False                 576.0   88.794210  20.444072   \n",
       "                      True                  607.0   81.626499  21.014534   \n",
       "Expressive Vocabulary False                 696.0  100.190336  19.260713   \n",
       "                      True                  579.0   93.417129  18.270483   \n",
       "Receptive Language    False                 581.0   93.303161  19.458576   \n",
       "                      True                  606.0   86.122542  20.709637   \n",
       "Receptive Vocabulary  False                 703.0   97.189288  18.389031   \n",
       "                      True                  586.0   91.428913  17.071399   \n",
       "Total Language        False                 591.0   90.609322  20.777287   \n",
       "                      True                  627.0   83.786257  22.039452   \n",
       "\n",
       "                                                  min        25%         50%  \\\n",
       "domain                age_enroll_greater_6                                     \n",
       "Articulation          False                 10.778705  78.014082   89.638201   \n",
       "                      True                  44.124047  69.664951   81.676472   \n",
       "Expressive Language   False                 36.659928  74.467114   89.000000   \n",
       "                      True                  37.206520  64.382599   81.545823   \n",
       "Expressive Vocabulary False                 10.778705  87.845301  101.093698   \n",
       "                      True                   0.000000  81.567324   94.290767   \n",
       "Receptive Language    False                 36.659928  81.000000   94.000000   \n",
       "                      True                  33.761039  70.563964   88.000000   \n",
       "Receptive Vocabulary  False                 10.778705  86.000000   98.223656   \n",
       "                      True                  40.000000  80.940235   91.830459   \n",
       "Total Language        False                 36.659928  76.467853   91.456522   \n",
       "                      True                  34.725726  67.000000   83.827651   \n",
       "\n",
       "                                                   75%         max  \n",
       "domain                age_enroll_greater_6                          \n",
       "Articulation          False                 100.926543  115.192382  \n",
       "                      True                   93.530324  113.668094  \n",
       "Expressive Language   False                 104.000000  142.263264  \n",
       "                      True                   98.000000  138.766553  \n",
       "Expressive Vocabulary False                 113.886062  146.000000  \n",
       "                      True                  105.010651  147.000000  \n",
       "Receptive Language    False                 108.297251  145.000000  \n",
       "                      True                  101.000000  150.150059  \n",
       "Receptive Vocabulary  False                 110.000000  149.000000  \n",
       "                      True                  102.519480  159.000000  \n",
       "Total Language        False                 106.000000  141.000000  \n",
       "                      True                  100.000000  169.578690  "
      ]
     },
     "execution_count": 39,
     "metadata": {},
     "output_type": "execute_result"
    }
   ],
   "source": [
    "(test_scores.assign(age_enroll_greater_6=test_scores.age_int>6)\n",
    "         .groupby(['domain', 'age_enroll_greater_6'])\n",
    "         .score.describe())"
   ]
  },
  {
   "cell_type": "code",
   "execution_count": 40,
   "metadata": {},
   "outputs": [
    {
     "data": {
      "image/png": "[encoded data removed]",
      "text/plain": [
       "<Figure size 864x360 with 1 Axes>"
      ]
     },
     "metadata": {
      "needs_background": "light"
     },
     "output_type": "display_data"
    }
   ],
   "source": [
    "sns.catplot(\"domain_labels\", y=\"score\", hue='age_enroll_greater_6', data=test_scores.assign(age_enroll_greater_6=test_scores.age_int>6),\n",
    "            kind=\"box\", color='white', fliersize=0)\n",
    "fig = plt.gcf()\n",
    "fig.set_size_inches(12, 5)\n",
    "fig.axes[0].set_xlabel('');"
   ]
  },
  {
   "cell_type": "markdown",
   "metadata": {},
   "source": [
    "(Non-)Profound hearing loss"
   ]
  },
  {
   "cell_type": "code",
   "execution_count": 41,
   "metadata": {},
   "outputs": [
    {
     "data": {
      "text/html": [
       "<div>\n",
       "<style scoped>\n",
       "    .dataframe tbody tr th:only-of-type {\n",
       "        vertical-align: middle;\n",
       "    }\n",
       "\n",
       "    .dataframe tbody tr th {\n",
       "        vertical-align: top;\n",
       "    }\n",
       "\n",
       "    .dataframe thead th {\n",
       "        text-align: right;\n",
       "    }\n",
       "</style>\n",
       "<table border=\"1\" class=\"dataframe\">\n",
       "  <thead>\n",
       "    <tr style=\"text-align: right;\">\n",
       "      <th></th>\n",
       "      <th></th>\n",
       "      <th>count</th>\n",
       "      <th>mean</th>\n",
       "      <th>std</th>\n",
       "      <th>min</th>\n",
       "      <th>25%</th>\n",
       "      <th>50%</th>\n",
       "      <th>75%</th>\n",
       "      <th>max</th>\n",
       "    </tr>\n",
       "    <tr>\n",
       "      <th>domain</th>\n",
       "      <th>non_profound_hl</th>\n",
       "      <th></th>\n",
       "      <th></th>\n",
       "      <th></th>\n",
       "      <th></th>\n",
       "      <th></th>\n",
       "      <th></th>\n",
       "      <th></th>\n",
       "      <th></th>\n",
       "    </tr>\n",
       "  </thead>\n",
       "  <tbody>\n",
       "    <tr>\n",
       "      <th rowspan=\"2\" valign=\"top\">Articulation</th>\n",
       "      <th>0.0</th>\n",
       "      <td>380.0</td>\n",
       "      <td>81.998532</td>\n",
       "      <td>17.676893</td>\n",
       "      <td>10.778705</td>\n",
       "      <td>70.754176</td>\n",
       "      <td>82.651369</td>\n",
       "      <td>94.404820</td>\n",
       "      <td>115.192382</td>\n",
       "    </tr>\n",
       "    <tr>\n",
       "      <th>1.0</th>\n",
       "      <td>373.0</td>\n",
       "      <td>85.118157</td>\n",
       "      <td>15.922520</td>\n",
       "      <td>46.055014</td>\n",
       "      <td>75.517156</td>\n",
       "      <td>84.976569</td>\n",
       "      <td>98.465991</td>\n",
       "      <td>114.529956</td>\n",
       "    </tr>\n",
       "    <tr>\n",
       "      <th rowspan=\"2\" valign=\"top\">Expressive Language</th>\n",
       "      <th>0.0</th>\n",
       "      <td>589.0</td>\n",
       "      <td>80.393442</td>\n",
       "      <td>21.109124</td>\n",
       "      <td>36.659928</td>\n",
       "      <td>63.237167</td>\n",
       "      <td>78.468148</td>\n",
       "      <td>96.000000</td>\n",
       "      <td>142.263264</td>\n",
       "    </tr>\n",
       "    <tr>\n",
       "      <th>1.0</th>\n",
       "      <td>545.0</td>\n",
       "      <td>89.831465</td>\n",
       "      <td>20.062200</td>\n",
       "      <td>40.583632</td>\n",
       "      <td>75.000000</td>\n",
       "      <td>91.000000</td>\n",
       "      <td>105.000000</td>\n",
       "      <td>138.766553</td>\n",
       "    </tr>\n",
       "    <tr>\n",
       "      <th rowspan=\"2\" valign=\"top\">Expressive Vocabulary</th>\n",
       "      <th>0.0</th>\n",
       "      <td>552.0</td>\n",
       "      <td>92.841594</td>\n",
       "      <td>19.633010</td>\n",
       "      <td>10.778705</td>\n",
       "      <td>80.000000</td>\n",
       "      <td>94.000000</td>\n",
       "      <td>106.839383</td>\n",
       "      <td>146.000000</td>\n",
       "    </tr>\n",
       "    <tr>\n",
       "      <th>1.0</th>\n",
       "      <td>528.0</td>\n",
       "      <td>98.204734</td>\n",
       "      <td>17.296217</td>\n",
       "      <td>0.000000</td>\n",
       "      <td>87.125501</td>\n",
       "      <td>98.315977</td>\n",
       "      <td>110.000000</td>\n",
       "      <td>147.000000</td>\n",
       "    </tr>\n",
       "    <tr>\n",
       "      <th rowspan=\"2\" valign=\"top\">Receptive Language</th>\n",
       "      <th>0.0</th>\n",
       "      <td>589.0</td>\n",
       "      <td>85.302378</td>\n",
       "      <td>21.230553</td>\n",
       "      <td>33.761039</td>\n",
       "      <td>69.000000</td>\n",
       "      <td>86.000000</td>\n",
       "      <td>101.000000</td>\n",
       "      <td>145.000000</td>\n",
       "    </tr>\n",
       "    <tr>\n",
       "      <th>1.0</th>\n",
       "      <td>549.0</td>\n",
       "      <td>93.864080</td>\n",
       "      <td>18.761122</td>\n",
       "      <td>42.152578</td>\n",
       "      <td>81.000000</td>\n",
       "      <td>94.100300</td>\n",
       "      <td>107.350758</td>\n",
       "      <td>150.150059</td>\n",
       "    </tr>\n",
       "    <tr>\n",
       "      <th rowspan=\"2\" valign=\"top\">Receptive Vocabulary</th>\n",
       "      <th>0.0</th>\n",
       "      <td>563.0</td>\n",
       "      <td>89.610077</td>\n",
       "      <td>17.625168</td>\n",
       "      <td>10.778705</td>\n",
       "      <td>79.000000</td>\n",
       "      <td>90.060026</td>\n",
       "      <td>102.195946</td>\n",
       "      <td>133.000000</td>\n",
       "    </tr>\n",
       "    <tr>\n",
       "      <th>1.0</th>\n",
       "      <td>529.0</td>\n",
       "      <td>95.787018</td>\n",
       "      <td>16.173517</td>\n",
       "      <td>44.000000</td>\n",
       "      <td>86.000000</td>\n",
       "      <td>97.000000</td>\n",
       "      <td>107.000000</td>\n",
       "      <td>159.000000</td>\n",
       "    </tr>\n",
       "    <tr>\n",
       "      <th rowspan=\"2\" valign=\"top\">Total Language</th>\n",
       "      <th>0.0</th>\n",
       "      <td>606.0</td>\n",
       "      <td>82.213476</td>\n",
       "      <td>21.854741</td>\n",
       "      <td>34.725726</td>\n",
       "      <td>65.121529</td>\n",
       "      <td>81.000000</td>\n",
       "      <td>98.239762</td>\n",
       "      <td>139.018843</td>\n",
       "    </tr>\n",
       "    <tr>\n",
       "      <th>1.0</th>\n",
       "      <td>563.0</td>\n",
       "      <td>91.937274</td>\n",
       "      <td>20.622215</td>\n",
       "      <td>40.000000</td>\n",
       "      <td>77.000000</td>\n",
       "      <td>92.000000</td>\n",
       "      <td>107.246045</td>\n",
       "      <td>169.578690</td>\n",
       "    </tr>\n",
       "  </tbody>\n",
       "</table>\n",
       "</div>"
      ],
      "text/plain": [
       "                                       count       mean        std        min  \\\n",
       "domain                non_profound_hl                                           \n",
       "Articulation          0.0              380.0  81.998532  17.676893  10.778705   \n",
       "                      1.0              373.0  85.118157  15.922520  46.055014   \n",
       "Expressive Language   0.0              589.0  80.393442  21.109124  36.659928   \n",
       "                      1.0              545.0  89.831465  20.062200  40.583632   \n",
       "Expressive Vocabulary 0.0              552.0  92.841594  19.633010  10.778705   \n",
       "                      1.0              528.0  98.204734  17.296217   0.000000   \n",
       "Receptive Language    0.0              589.0  85.302378  21.230553  33.761039   \n",
       "                      1.0              549.0  93.864080  18.761122  42.152578   \n",
       "Receptive Vocabulary  0.0              563.0  89.610077  17.625168  10.778705   \n",
       "                      1.0              529.0  95.787018  16.173517  44.000000   \n",
       "Total Language        0.0              606.0  82.213476  21.854741  34.725726   \n",
       "                      1.0              563.0  91.937274  20.622215  40.000000   \n",
       "\n",
       "                                             25%        50%         75%  \\\n",
       "domain                non_profound_hl                                     \n",
       "Articulation          0.0              70.754176  82.651369   94.404820   \n",
       "                      1.0              75.517156  84.976569   98.465991   \n",
       "Expressive Language   0.0              63.237167  78.468148   96.000000   \n",
       "                      1.0              75.000000  91.000000  105.000000   \n",
       "Expressive Vocabulary 0.0              80.000000  94.000000  106.839383   \n",
       "                      1.0              87.125501  98.315977  110.000000   \n",
       "Receptive Language    0.0              69.000000  86.000000  101.000000   \n",
       "                      1.0              81.000000  94.100300  107.350758   \n",
       "Receptive Vocabulary  0.0              79.000000  90.060026  102.195946   \n",
       "                      1.0              86.000000  97.000000  107.000000   \n",
       "Total Language        0.0              65.121529  81.000000   98.239762   \n",
       "                      1.0              77.000000  92.000000  107.246045   \n",
       "\n",
       "                                              max  \n",
       "domain                non_profound_hl              \n",
       "Articulation          0.0              115.192382  \n",
       "                      1.0              114.529956  \n",
       "Expressive Language   0.0              142.263264  \n",
       "                      1.0              138.766553  \n",
       "Expressive Vocabulary 0.0              146.000000  \n",
       "                      1.0              147.000000  \n",
       "Receptive Language    0.0              145.000000  \n",
       "                      1.0              150.150059  \n",
       "Receptive Vocabulary  0.0              133.000000  \n",
       "                      1.0              159.000000  \n",
       "Total Language        0.0              139.018843  \n",
       "                      1.0              169.578690  "
      ]
     },
     "execution_count": 41,
     "metadata": {},
     "output_type": "execute_result"
    }
   ],
   "source": [
    "(test_scores.assign(non_profound_hl=test_scores.deg_hl_below6)\n",
    "         .groupby(['domain', 'non_profound_hl'])\n",
    "         .score.describe())"
   ]
  },
  {
   "cell_type": "code",
   "execution_count": 42,
   "metadata": {},
   "outputs": [
    {
     "data": {
      "image/png": "[encoded data removed]",
      "text/plain": [
       "<Figure size 864x360 with 1 Axes>"
      ]
     },
     "metadata": {
      "needs_background": "light"
     },
     "output_type": "display_data"
    }
   ],
   "source": [
    "sns.catplot(\"domain_labels\", y=\"score\", hue='non_profound_hl', data=test_scores.assign(non_profound_hl=test_scores.deg_hl_below6),\n",
    "            kind=\"box\", color='white', fliersize=0)\n",
    "fig = plt.gcf()\n",
    "fig.set_size_inches(12, 5)\n",
    "fig.axes[0].set_xlabel('');"
   ]
  },
  {
   "cell_type": "markdown",
   "metadata": {},
   "source": [
    "Mother with(out) college education"
   ]
  },
  {
   "cell_type": "code",
   "execution_count": 43,
   "metadata": {},
   "outputs": [
    {
     "data": {
      "text/html": [
       "<div>\n",
       "<style scoped>\n",
       "    .dataframe tbody tr th:only-of-type {\n",
       "        vertical-align: middle;\n",
       "    }\n",
       "\n",
       "    .dataframe tbody tr th {\n",
       "        vertical-align: top;\n",
       "    }\n",
       "\n",
       "    .dataframe thead th {\n",
       "        text-align: right;\n",
       "    }\n",
       "</style>\n",
       "<table border=\"1\" class=\"dataframe\">\n",
       "  <thead>\n",
       "    <tr style=\"text-align: right;\">\n",
       "      <th></th>\n",
       "      <th></th>\n",
       "      <th>count</th>\n",
       "      <th>mean</th>\n",
       "      <th>std</th>\n",
       "      <th>min</th>\n",
       "      <th>25%</th>\n",
       "      <th>50%</th>\n",
       "      <th>75%</th>\n",
       "      <th>max</th>\n",
       "    </tr>\n",
       "    <tr>\n",
       "      <th>domain</th>\n",
       "      <th>mother_college</th>\n",
       "      <th></th>\n",
       "      <th></th>\n",
       "      <th></th>\n",
       "      <th></th>\n",
       "      <th></th>\n",
       "      <th></th>\n",
       "      <th></th>\n",
       "      <th></th>\n",
       "    </tr>\n",
       "  </thead>\n",
       "  <tbody>\n",
       "    <tr>\n",
       "      <th rowspan=\"2\" valign=\"top\">Articulation</th>\n",
       "      <th>0.0</th>\n",
       "      <td>485.0</td>\n",
       "      <td>83.623094</td>\n",
       "      <td>16.597182</td>\n",
       "      <td>11.495801</td>\n",
       "      <td>74.178033</td>\n",
       "      <td>83.649138</td>\n",
       "      <td>97.174856</td>\n",
       "      <td>115.192382</td>\n",
       "    </tr>\n",
       "    <tr>\n",
       "      <th>1.0</th>\n",
       "      <td>130.0</td>\n",
       "      <td>86.115428</td>\n",
       "      <td>17.276292</td>\n",
       "      <td>46.571195</td>\n",
       "      <td>77.407196</td>\n",
       "      <td>87.875052</td>\n",
       "      <td>100.952282</td>\n",
       "      <td>114.932703</td>\n",
       "    </tr>\n",
       "    <tr>\n",
       "      <th rowspan=\"2\" valign=\"top\">Expressive Language</th>\n",
       "      <th>0.0</th>\n",
       "      <td>710.0</td>\n",
       "      <td>83.604536</td>\n",
       "      <td>20.149220</td>\n",
       "      <td>36.659928</td>\n",
       "      <td>67.849490</td>\n",
       "      <td>83.039955</td>\n",
       "      <td>99.487713</td>\n",
       "      <td>142.263264</td>\n",
       "    </tr>\n",
       "    <tr>\n",
       "      <th>1.0</th>\n",
       "      <td>230.0</td>\n",
       "      <td>95.202592</td>\n",
       "      <td>21.136706</td>\n",
       "      <td>45.000000</td>\n",
       "      <td>79.308174</td>\n",
       "      <td>97.222612</td>\n",
       "      <td>110.563139</td>\n",
       "      <td>140.000000</td>\n",
       "    </tr>\n",
       "    <tr>\n",
       "      <th rowspan=\"2\" valign=\"top\">Expressive Vocabulary</th>\n",
       "      <th>0.0</th>\n",
       "      <td>702.0</td>\n",
       "      <td>95.162798</td>\n",
       "      <td>18.854728</td>\n",
       "      <td>0.000000</td>\n",
       "      <td>83.000000</td>\n",
       "      <td>96.199613</td>\n",
       "      <td>107.646254</td>\n",
       "      <td>146.000000</td>\n",
       "    </tr>\n",
       "    <tr>\n",
       "      <th>1.0</th>\n",
       "      <td>226.0</td>\n",
       "      <td>102.588488</td>\n",
       "      <td>18.002799</td>\n",
       "      <td>49.000000</td>\n",
       "      <td>91.535039</td>\n",
       "      <td>103.000000</td>\n",
       "      <td>116.112121</td>\n",
       "      <td>147.000000</td>\n",
       "    </tr>\n",
       "    <tr>\n",
       "      <th rowspan=\"2\" valign=\"top\">Receptive Language</th>\n",
       "      <th>0.0</th>\n",
       "      <td>716.0</td>\n",
       "      <td>88.433600</td>\n",
       "      <td>19.546702</td>\n",
       "      <td>36.659928</td>\n",
       "      <td>74.583616</td>\n",
       "      <td>90.000000</td>\n",
       "      <td>103.000000</td>\n",
       "      <td>135.510453</td>\n",
       "    </tr>\n",
       "    <tr>\n",
       "      <th>1.0</th>\n",
       "      <td>229.0</td>\n",
       "      <td>98.697383</td>\n",
       "      <td>19.574646</td>\n",
       "      <td>46.855839</td>\n",
       "      <td>86.000000</td>\n",
       "      <td>101.000000</td>\n",
       "      <td>113.000000</td>\n",
       "      <td>150.150059</td>\n",
       "    </tr>\n",
       "    <tr>\n",
       "      <th rowspan=\"2\" valign=\"top\">Receptive Vocabulary</th>\n",
       "      <th>0.0</th>\n",
       "      <td>708.0</td>\n",
       "      <td>92.424385</td>\n",
       "      <td>17.201045</td>\n",
       "      <td>38.000000</td>\n",
       "      <td>82.000000</td>\n",
       "      <td>93.345114</td>\n",
       "      <td>104.569085</td>\n",
       "      <td>136.000000</td>\n",
       "    </tr>\n",
       "    <tr>\n",
       "      <th>1.0</th>\n",
       "      <td>230.0</td>\n",
       "      <td>100.676614</td>\n",
       "      <td>17.069895</td>\n",
       "      <td>42.000000</td>\n",
       "      <td>89.974824</td>\n",
       "      <td>102.000000</td>\n",
       "      <td>112.000000</td>\n",
       "      <td>159.000000</td>\n",
       "    </tr>\n",
       "    <tr>\n",
       "      <th rowspan=\"2\" valign=\"top\">Total Language</th>\n",
       "      <th>0.0</th>\n",
       "      <td>735.0</td>\n",
       "      <td>85.431636</td>\n",
       "      <td>20.754397</td>\n",
       "      <td>36.659928</td>\n",
       "      <td>70.469098</td>\n",
       "      <td>86.000000</td>\n",
       "      <td>100.553712</td>\n",
       "      <td>139.018843</td>\n",
       "    </tr>\n",
       "    <tr>\n",
       "      <th>1.0</th>\n",
       "      <td>237.0</td>\n",
       "      <td>97.858975</td>\n",
       "      <td>21.410701</td>\n",
       "      <td>46.855839</td>\n",
       "      <td>83.000000</td>\n",
       "      <td>100.000000</td>\n",
       "      <td>112.304954</td>\n",
       "      <td>169.578690</td>\n",
       "    </tr>\n",
       "  </tbody>\n",
       "</table>\n",
       "</div>"
      ],
      "text/plain": [
       "                                      count        mean        std        min  \\\n",
       "domain                mother_college                                            \n",
       "Articulation          0.0             485.0   83.623094  16.597182  11.495801   \n",
       "                      1.0             130.0   86.115428  17.276292  46.571195   \n",
       "Expressive Language   0.0             710.0   83.604536  20.149220  36.659928   \n",
       "                      1.0             230.0   95.202592  21.136706  45.000000   \n",
       "Expressive Vocabulary 0.0             702.0   95.162798  18.854728   0.000000   \n",
       "                      1.0             226.0  102.588488  18.002799  49.000000   \n",
       "Receptive Language    0.0             716.0   88.433600  19.546702  36.659928   \n",
       "                      1.0             229.0   98.697383  19.574646  46.855839   \n",
       "Receptive Vocabulary  0.0             708.0   92.424385  17.201045  38.000000   \n",
       "                      1.0             230.0  100.676614  17.069895  42.000000   \n",
       "Total Language        0.0             735.0   85.431636  20.754397  36.659928   \n",
       "                      1.0             237.0   97.858975  21.410701  46.855839   \n",
       "\n",
       "                                            25%         50%         75%  \\\n",
       "domain                mother_college                                      \n",
       "Articulation          0.0             74.178033   83.649138   97.174856   \n",
       "                      1.0             77.407196   87.875052  100.952282   \n",
       "Expressive Language   0.0             67.849490   83.039955   99.487713   \n",
       "                      1.0             79.308174   97.222612  110.563139   \n",
       "Expressive Vocabulary 0.0             83.000000   96.199613  107.646254   \n",
       "                      1.0             91.535039  103.000000  116.112121   \n",
       "Receptive Language    0.0             74.583616   90.000000  103.000000   \n",
       "                      1.0             86.000000  101.000000  113.000000   \n",
       "Receptive Vocabulary  0.0             82.000000   93.345114  104.569085   \n",
       "                      1.0             89.974824  102.000000  112.000000   \n",
       "Total Language        0.0             70.469098   86.000000  100.553712   \n",
       "                      1.0             83.000000  100.000000  112.304954   \n",
       "\n",
       "                                             max  \n",
       "domain                mother_college              \n",
       "Articulation          0.0             115.192382  \n",
       "                      1.0             114.932703  \n",
       "Expressive Language   0.0             142.263264  \n",
       "                      1.0             140.000000  \n",
       "Expressive Vocabulary 0.0             146.000000  \n",
       "                      1.0             147.000000  \n",
       "Receptive Language    0.0             135.510453  \n",
       "                      1.0             150.150059  \n",
       "Receptive Vocabulary  0.0             136.000000  \n",
       "                      1.0             159.000000  \n",
       "Total Language        0.0             139.018843  \n",
       "                      1.0             169.578690  "
      ]
     },
     "execution_count": 43,
     "metadata": {},
     "output_type": "execute_result"
    }
   ],
   "source": [
    "test_scores.groupby(['domain', 'mother_college']).score.describe()"
   ]
  },
  {
   "cell_type": "code",
   "execution_count": 44,
   "metadata": {},
   "outputs": [
    {
     "data": {
      "image/png": "[encoded data removed]",
      "text/plain": [
       "<Figure size 864x360 with 1 Axes>"
      ]
     },
     "metadata": {
      "needs_background": "light"
     },
     "output_type": "display_data"
    }
   ],
   "source": [
    "sns.catplot(\"domain_labels\", y=\"score\", hue='mother_college', data=test_scores,\n",
    "            kind=\"box\", color='white', fliersize=0)\n",
    "fig = plt.gcf()\n",
    "fig.set_size_inches(12, 5)\n",
    "fig.axes[0].set_xlabel('');"
   ]
  }
 ],
 "metadata": {
  "kernelspec": {
   "display_name": "Python 3",
   "language": "python",
   "name": "python3"
  },
  "language_info": {
   "codemirror_mode": {
    "name": "ipython",
    "version": 3
   },
   "file_extension": ".py",
   "mimetype": "text/x-python",
   "name": "python",
   "nbconvert_exporter": "python",
   "pygments_lexer": "ipython3",
   "version": "3.7.3"
  }
 },
 "nbformat": 4,
 "nbformat_minor": 4
}
