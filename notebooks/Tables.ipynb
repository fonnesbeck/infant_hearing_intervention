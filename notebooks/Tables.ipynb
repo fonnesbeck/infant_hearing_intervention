{
 "cells": [
  {
   "cell_type": "code",
   "execution_count": 1,
   "metadata": {},
   "outputs": [],
   "source": [
    "# Import modules and set options\n",
    "%matplotlib inline\n",
    "import matplotlib.pyplot as plt\n",
    "import pandas as pd\n",
    "import numpy as np\n",
    "import seaborn as sns\n",
    "\n",
    "sns.set(context='notebook', style='ticks')"
   ]
  },
  {
   "cell_type": "code",
   "execution_count": 2,
   "metadata": {},
   "outputs": [],
   "source": [
    "lsl_dr = (pd.read_csv('../data/clean/lsl_dr.csv', index_col=0, low_memory=False)\n",
    "                  .rename({'onset_1':'identify_mo'}, axis=1))"
   ]
  },
  {
   "cell_type": "code",
   "execution_count": 3,
   "metadata": {},
   "outputs": [
    {
     "data": {
      "text/plain": [
       "(59512, 231)"
      ]
     },
     "execution_count": 3,
     "metadata": {},
     "output_type": "execute_result"
    }
   ],
   "source": [
    "lsl_dr.shape"
   ]
  },
  {
   "cell_type": "markdown",
   "metadata": {},
   "source": [
    "Exclusions"
   ]
  },
  {
   "cell_type": "code",
   "execution_count": 4,
   "metadata": {},
   "outputs": [],
   "source": [
    "other_etiology = (lsl_dr[['etiology_3___2', 'etiology_3___4', 'etiology_3___5', 'etiology_3___6', 'etiology_3___9',\n",
    "       'etiology_oth___1', 'etiology_oth___3', 'etiology_oth___4', 'etiology_oth___8', 'etiology_oth___9']]\n",
    "                      .sum(1).astype(bool))"
   ]
  },
  {
   "cell_type": "code",
   "execution_count": 5,
   "metadata": {},
   "outputs": [],
   "source": [
    "inclusion_mask = (~lsl_dr.non_english.astype(bool) \n",
    "                  & (lsl_dr.degree_hl!=0)\n",
    "                  & ((lsl_dr.etiology_2==0)\n",
    "                  | (lsl_dr.etiology_2.isnull() & ~other_etiology)))"
   ]
  },
  {
   "cell_type": "code",
   "execution_count": 6,
   "metadata": {},
   "outputs": [
    {
     "data": {
      "text/plain": [
       "(1326, 231)"
      ]
     },
     "execution_count": 6,
     "metadata": {},
     "output_type": "execute_result"
    }
   ],
   "source": [
    "inclusions = lsl_dr[inclusion_mask]\n",
    "inclusions.drop_duplicates(subset='study_id').shape"
   ]
  },
  {
   "cell_type": "code",
   "execution_count": 7,
   "metadata": {},
   "outputs": [],
   "source": [
    "age_mask = (lsl_dr.age_test>=48) & (lsl_dr.age_test<60)"
   ]
  },
  {
   "cell_type": "code",
   "execution_count": 8,
   "metadata": {},
   "outputs": [
    {
     "name": "stderr",
     "output_type": "stream",
     "text": [
      "/home/fonnesbeck/anaconda3/envs/dev/lib/python3.6/site-packages/ipykernel_launcher.py:1: UserWarning: Boolean Series key will be reindexed to match DataFrame index.\n",
      "  \"\"\"Entry point for launching an IPython kernel.\n"
     ]
    }
   ],
   "source": [
    "data_4yo = inclusions[age_mask].drop_duplicates(subset='study_id').copy()"
   ]
  },
  {
   "cell_type": "code",
   "execution_count": 9,
   "metadata": {},
   "outputs": [
    {
     "data": {
      "text/plain": [
       "(563, 231)"
      ]
     },
     "execution_count": 9,
     "metadata": {},
     "output_type": "execute_result"
    }
   ],
   "source": [
    "data_4yo.shape"
   ]
  },
  {
   "cell_type": "markdown",
   "metadata": {},
   "source": [
    "## Demographics"
   ]
  },
  {
   "cell_type": "code",
   "execution_count": 10,
   "metadata": {},
   "outputs": [
    {
     "data": {
      "text/plain": [
       "Male      286\n",
       "Female    277\n",
       "Name: male, dtype: int64"
      ]
     },
     "execution_count": 10,
     "metadata": {},
     "output_type": "execute_result"
    }
   ],
   "source": [
    "data_4yo.male.replace({1: 'Male', 0: 'Female', np.nan: 'Missing'}).value_counts()"
   ]
  },
  {
   "cell_type": "code",
   "execution_count": 11,
   "metadata": {},
   "outputs": [
    {
     "data": {
      "text/plain": [
       "White       372\n",
       "Black        63\n",
       "Hispanic     47\n",
       "Other        45\n",
       "Asian        27\n",
       "Missing       9\n",
       "Name: race, dtype: int64"
      ]
     },
     "execution_count": 11,
     "metadata": {},
     "output_type": "execute_result"
    }
   ],
   "source": [
    "data_4yo.race.replace({0:'White', 1:'Black', 2:'Hispanic', 3:'Asian', 4:'Other', np.nan:'Missing'}).value_counts()"
   ]
  },
  {
   "cell_type": "code",
   "execution_count": 12,
   "metadata": {},
   "outputs": [
    {
     "data": {
      "text/plain": [
       ">=36 weeks    412\n",
       "<36 weeks     151\n",
       "Name: premature_age, dtype: int64"
      ]
     },
     "execution_count": 12,
     "metadata": {},
     "output_type": "execute_result"
    }
   ],
   "source": [
    "(data_4yo.premature_age.replace({9:None})==8).replace({True: '>=36 weeks', False: '<36 weeks', \n",
    "                                                            np.nan: 'Unknown'}).value_counts()"
   ]
  },
  {
   "cell_type": "code",
   "execution_count": 13,
   "metadata": {},
   "outputs": [
    {
     "data": {
      "text/plain": [
       "1          126\n",
       "2          228\n",
       "3          116\n",
       "4+          68\n",
       "Missing     25\n",
       "Name: sib, dtype: int64"
      ]
     },
     "execution_count": 13,
     "metadata": {},
     "output_type": "execute_result"
    }
   ],
   "source": [
    "data_4yo.sib.replace({0:'1', 1:'2', 2:'3', 3:'4+', np.nan:'Missing'}).value_counts().sort_index()"
   ]
  },
  {
   "cell_type": "code",
   "execution_count": 14,
   "metadata": {},
   "outputs": [
    {
     "data": {
      "text/plain": [
       "High school diploma/GED    168\n",
       "Some high school           146\n",
       "Unknown                    141\n",
       "Some college                96\n",
       "8th grade or less           12\n",
       "Name: mother_ed, dtype: int64"
      ]
     },
     "execution_count": 14,
     "metadata": {},
     "output_type": "execute_result"
    }
   ],
   "source": [
    "ed_lookup = {0:\"8th grade or less\",\n",
    "1:\"Some high school\",\n",
    "2:\"High school diploma/GED\",\n",
    "3:\"Some college\",\n",
    "4:\"Bachelor's degree\",\n",
    "5:\"Post graduate degree\",\n",
    "6:\"Unknown\",\n",
    "np.nan:\"Unknown\"}\n",
    "\n",
    "data_4yo.mother_ed.replace(ed_lookup).value_counts()"
   ]
  },
  {
   "cell_type": "code",
   "execution_count": 15,
   "metadata": {},
   "outputs": [
    {
     "data": {
      "text/plain": [
       "Unknown                    175\n",
       "Bachelor's degree          134\n",
       "Some college                97\n",
       "Post graduate degree        81\n",
       "High school diploma/GED     65\n",
       "Some high school            11\n",
       "Name: father_ed, dtype: int64"
      ]
     },
     "execution_count": 15,
     "metadata": {},
     "output_type": "execute_result"
    }
   ],
   "source": [
    "data_4yo.father_ed.replace(ed_lookup).value_counts()"
   ]
  },
  {
   "cell_type": "code",
   "execution_count": 16,
   "metadata": {},
   "outputs": [
    {
     "data": {
      "text/plain": [
       "Ideal Participation      184\n",
       "Good Participation       123\n",
       "Average Participation    114\n",
       "Missing                   90\n",
       "Below Average             42\n",
       "Limited Participation     10\n",
       "Name: family_inv, dtype: int64"
      ]
     },
     "execution_count": 16,
     "metadata": {},
     "output_type": "execute_result"
    }
   ],
   "source": [
    "family_lookup = {0:\"Ideal Participation\",\n",
    "1:\"Good Participation\",\n",
    "2:\"Average Participation\",\n",
    "3:\"Below Average\",\n",
    "4:\"Limited Participation\",\n",
    "np.nan:\"Missing\"}\n",
    "\n",
    "data_4yo.family_inv.replace(family_lookup).value_counts()"
   ]
  },
  {
   "cell_type": "code",
   "execution_count": 17,
   "metadata": {},
   "outputs": [
    {
     "data": {
      "text/html": [
       "<div>\n",
       "<style scoped>\n",
       "    .dataframe tbody tr th:only-of-type {\n",
       "        vertical-align: middle;\n",
       "    }\n",
       "\n",
       "    .dataframe tbody tr th {\n",
       "        vertical-align: top;\n",
       "    }\n",
       "\n",
       "    .dataframe thead th {\n",
       "        text-align: right;\n",
       "    }\n",
       "</style>\n",
       "<table border=\"1\" class=\"dataframe\">\n",
       "  <thead>\n",
       "    <tr style=\"text-align: right;\">\n",
       "      <th></th>\n",
       "      <th>age_diag</th>\n",
       "      <th>age_amp</th>\n",
       "      <th>age_int</th>\n",
       "      <th>age</th>\n",
       "    </tr>\n",
       "  </thead>\n",
       "  <tbody>\n",
       "    <tr>\n",
       "      <th>count</th>\n",
       "      <td>430.000000</td>\n",
       "      <td>425.000000</td>\n",
       "      <td>385.000000</td>\n",
       "      <td>556.000000</td>\n",
       "    </tr>\n",
       "    <tr>\n",
       "      <th>mean</th>\n",
       "      <td>9.463953</td>\n",
       "      <td>14.122353</td>\n",
       "      <td>15.119481</td>\n",
       "      <td>25.021583</td>\n",
       "    </tr>\n",
       "    <tr>\n",
       "      <th>std</th>\n",
       "      <td>12.918581</td>\n",
       "      <td>13.809830</td>\n",
       "      <td>13.577373</td>\n",
       "      <td>16.267125</td>\n",
       "    </tr>\n",
       "    <tr>\n",
       "      <th>min</th>\n",
       "      <td>0.000000</td>\n",
       "      <td>0.000000</td>\n",
       "      <td>0.000000</td>\n",
       "      <td>0.000000</td>\n",
       "    </tr>\n",
       "    <tr>\n",
       "      <th>25%</th>\n",
       "      <td>1.000000</td>\n",
       "      <td>3.000000</td>\n",
       "      <td>4.000000</td>\n",
       "      <td>10.000000</td>\n",
       "    </tr>\n",
       "    <tr>\n",
       "      <th>50%</th>\n",
       "      <td>3.000000</td>\n",
       "      <td>8.000000</td>\n",
       "      <td>12.000000</td>\n",
       "      <td>24.000000</td>\n",
       "    </tr>\n",
       "    <tr>\n",
       "      <th>75%</th>\n",
       "      <td>17.000000</td>\n",
       "      <td>22.000000</td>\n",
       "      <td>24.000000</td>\n",
       "      <td>36.000000</td>\n",
       "    </tr>\n",
       "    <tr>\n",
       "      <th>max</th>\n",
       "      <td>55.000000</td>\n",
       "      <td>65.000000</td>\n",
       "      <td>60.000000</td>\n",
       "      <td>88.000000</td>\n",
       "    </tr>\n",
       "  </tbody>\n",
       "</table>\n",
       "</div>"
      ],
      "text/plain": [
       "         age_diag     age_amp     age_int         age\n",
       "count  430.000000  425.000000  385.000000  556.000000\n",
       "mean     9.463953   14.122353   15.119481   25.021583\n",
       "std     12.918581   13.809830   13.577373   16.267125\n",
       "min      0.000000    0.000000    0.000000    0.000000\n",
       "25%      1.000000    3.000000    4.000000   10.000000\n",
       "50%      3.000000    8.000000   12.000000   24.000000\n",
       "75%     17.000000   22.000000   24.000000   36.000000\n",
       "max     55.000000   65.000000   60.000000   88.000000"
      ]
     },
     "execution_count": 17,
     "metadata": {},
     "output_type": "execute_result"
    }
   ],
   "source": [
    "data_4yo[[\"age_diag\", \"age_amp\", \"age_int\", \"age\"]].describe()"
   ]
  },
  {
   "cell_type": "code",
   "execution_count": 18,
   "metadata": {},
   "outputs": [
    {
     "data": {
      "text/plain": [
       "OPTION only         224\n",
       "Missing              70\n",
       "OPTION + outside     62\n",
       "Name: otherserv, dtype: int64"
      ]
     },
     "execution_count": 18,
     "metadata": {},
     "output_type": "execute_result"
    }
   ],
   "source": [
    "data_4yo.otherserv.replace({0: \"OPTION + outside\", 1: \"OPTION only\", 2: \"Missing\"}).value_counts()"
   ]
  },
  {
   "cell_type": "markdown",
   "metadata": {},
   "source": [
    "## Hearing loss"
   ]
  },
  {
   "cell_type": "code",
   "execution_count": 28,
   "metadata": {},
   "outputs": [
    {
     "data": {
      "text/plain": [
       "43"
      ]
     },
     "execution_count": 28,
     "metadata": {},
     "output_type": "execute_result"
    }
   ],
   "source": [
    "data_4yo.degree_hl_ad.isnull().sum()"
   ]
  },
  {
   "cell_type": "code",
   "execution_count": 29,
   "metadata": {},
   "outputs": [
    {
     "data": {
      "text/plain": [
       "43"
      ]
     },
     "execution_count": 29,
     "metadata": {},
     "output_type": "execute_result"
    }
   ],
   "source": [
    "data_4yo.degree_hl_as.isnull().sum()"
   ]
  },
  {
   "cell_type": "code",
   "execution_count": 19,
   "metadata": {},
   "outputs": [
    {
     "data": {
      "text/plain": [
       "6.0    230\n",
       "4.0     83\n",
       "5.0     76\n",
       "3.0     76\n",
       "2.0     37\n",
       "0.0      9\n",
       "1.0      9\n",
       "Name: degree_hl_ad, dtype: int64"
      ]
     },
     "execution_count": 19,
     "metadata": {},
     "output_type": "execute_result"
    }
   ],
   "source": [
    "data_4yo.degree_hl_ad.value_counts()"
   ]
  },
  {
   "cell_type": "code",
   "execution_count": 20,
   "metadata": {},
   "outputs": [
    {
     "data": {
      "text/plain": [
       "6.0    230\n",
       "4.0     90\n",
       "3.0     76\n",
       "5.0     68\n",
       "2.0     28\n",
       "0.0     17\n",
       "1.0     11\n",
       "Name: degree_hl_as, dtype: int64"
      ]
     },
     "execution_count": 20,
     "metadata": {},
     "output_type": "execute_result"
    }
   ],
   "source": [
    "data_4yo.degree_hl_as.value_counts()"
   ]
  },
  {
   "cell_type": "code",
   "execution_count": 21,
   "metadata": {},
   "outputs": [],
   "source": [
    "hl_data = data_4yo[['bilateral_snhl',\n",
    "                     'bilateral_ansd',\n",
    "                     'bilateral_mixed',\n",
    "                     'bilateral_cond',\n",
    "                     'bilateral_normal',\n",
    "                     'bilateral_unk',\n",
    "                     'unilateral_snhl',\n",
    "                     'unilateral_ansd',\n",
    "                     'unilateral_mixed',\n",
    "                     'unilateral_cond',\n",
    "                     'unilateral_unk',\n",
    "                     'assymetrical']]"
   ]
  },
  {
   "cell_type": "markdown",
   "metadata": {},
   "source": [
    "Individuals with no hearing loss type"
   ]
  },
  {
   "cell_type": "code",
   "execution_count": 54,
   "metadata": {},
   "outputs": [
    {
     "data": {
      "text/plain": [
       "Int64Index([ 3949,  6604,  6659,  7021,  7179,  7183,  8650,  9675,  9836,\n",
       "            10004, 10548, 10647, 10667, 10855, 10935, 12420, 13883, 14059,\n",
       "            16393, 17142, 17352, 17457, 18019, 18024, 18040, 18080, 18679,\n",
       "            19644, 19909, 20156, 21459, 21470, 22366, 25381, 25658, 28134,\n",
       "            29697, 29944, 30472, 30489, 30530, 30551, 30711, 31754, 32474,\n",
       "            32665, 33389, 33395, 43057, 43215, 47019, 49610],\n",
       "           dtype='int64')"
      ]
     },
     "execution_count": 54,
     "metadata": {},
     "output_type": "execute_result"
    }
   ],
   "source": [
    "hl_data[hl_data.sum(1)==0].index"
   ]
  },
  {
   "cell_type": "code",
   "execution_count": 22,
   "metadata": {},
   "outputs": [
    {
     "data": {
      "text/plain": [
       "bilateral_snhl      400\n",
       "bilateral_cond       30\n",
       "assymetrical         19\n",
       "bilateral_ansd       19\n",
       "bilateral_mixed      15\n",
       "unilateral_snhl      14\n",
       "unilateral_cond      10\n",
       "bilateral_normal      2\n",
       "unilateral_mixed      1\n",
       "unilateral_ansd       1\n",
       "unilateral_unk        0\n",
       "bilateral_unk         0\n",
       "dtype: int64"
      ]
     },
     "execution_count": 22,
     "metadata": {},
     "output_type": "execute_result"
    }
   ],
   "source": [
    "hl_data.sum().astype(int).sort_values(ascending=False)"
   ]
  },
  {
   "cell_type": "code",
   "execution_count": 23,
   "metadata": {},
   "outputs": [
    {
     "data": {
      "text/plain": [
       "bilateral_snhl      0.71\n",
       "bilateral_cond      0.05\n",
       "assymetrical        0.03\n",
       "bilateral_mixed     0.03\n",
       "bilateral_ansd      0.03\n",
       "unilateral_cond     0.02\n",
       "unilateral_snhl     0.02\n",
       "unilateral_unk      0.00\n",
       "unilateral_mixed    0.00\n",
       "unilateral_ansd     0.00\n",
       "bilateral_unk       0.00\n",
       "bilateral_normal    0.00\n",
       "dtype: float64"
      ]
     },
     "execution_count": 23,
     "metadata": {},
     "output_type": "execute_result"
    }
   ],
   "source": [
    "hl_data.mean().round(2).sort_values(ascending=False)"
   ]
  },
  {
   "cell_type": "code",
   "execution_count": 24,
   "metadata": {},
   "outputs": [],
   "source": [
    "tech_data = data_4yo[['bilateral_ha',\n",
    "                     'bilateral_ci',\n",
    "                     'bimodal',\n",
    "                     'bilateral_other',\n",
    "                     'unilateral_ha',\n",
    "                     'unilateral_ci',\n",
    "                     'unilateral_other']]"
   ]
  },
  {
   "cell_type": "code",
   "execution_count": 25,
   "metadata": {},
   "outputs": [
    {
     "data": {
      "text/plain": [
       "bilateral_ci        393\n",
       "bilateral_ha        107\n",
       "bimodal              39\n",
       "unilateral_ha        10\n",
       "unilateral_ci         9\n",
       "bilateral_other       1\n",
       "unilateral_other      0\n",
       "dtype: int64"
      ]
     },
     "execution_count": 25,
     "metadata": {},
     "output_type": "execute_result"
    }
   ],
   "source": [
    "tech_data.sum().astype(int).sort_values(ascending=False)"
   ]
  },
  {
   "cell_type": "code",
   "execution_count": 26,
   "metadata": {},
   "outputs": [
    {
     "data": {
      "text/plain": [
       "bilateral_ci        0.70\n",
       "bilateral_ha        0.19\n",
       "bimodal             0.07\n",
       "unilateral_ci       0.02\n",
       "unilateral_ha       0.02\n",
       "unilateral_other    0.00\n",
       "bilateral_other     0.00\n",
       "dtype: float64"
      ]
     },
     "execution_count": 26,
     "metadata": {},
     "output_type": "execute_result"
    }
   ],
   "source": [
    "tech_data.mean().round(2).sort_values(ascending=False)"
   ]
  },
  {
   "cell_type": "markdown",
   "metadata": {},
   "source": [
    "Individuals with no technology type"
   ]
  },
  {
   "cell_type": "code",
   "execution_count": 58,
   "metadata": {},
   "outputs": [
    {
     "data": {
      "text/plain": [
       "Int64Index([6351, 11404, 13688, 15107], dtype='int64')"
      ]
     },
     "execution_count": 58,
     "metadata": {},
     "output_type": "execute_result"
    }
   ],
   "source": [
    "tech_data[tech_data.sum(1)==0].index"
   ]
  }
 ],
 "metadata": {
  "kernelspec": {
   "display_name": "Python 3",
   "language": "python",
   "name": "python3"
  },
  "language_info": {
   "codemirror_mode": {
    "name": "ipython",
    "version": 3
   },
   "file_extension": ".py",
   "mimetype": "text/x-python",
   "name": "python",
   "nbconvert_exporter": "python",
   "pygments_lexer": "ipython3",
   "version": "3.6.7"
  }
 },
 "nbformat": 4,
 "nbformat_minor": 2
}
