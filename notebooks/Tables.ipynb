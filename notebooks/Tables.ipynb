{
 "cells": [
  {
   "cell_type": "code",
   "execution_count": 1,
   "metadata": {},
   "outputs": [],
   "source": [
    "# Import modules and set options\n",
    "%matplotlib inline\n",
    "import matplotlib.pyplot as plt\n",
    "import pandas as pd\n",
    "import numpy as np\n",
    "import seaborn as sns\n",
    "import pandas_profiling\n",
    "\n",
    "sns.set(context='notebook', style='ticks')"
   ]
  },
  {
   "cell_type": "code",
   "execution_count": 2,
   "metadata": {},
   "outputs": [],
   "source": [
    "analysis_subset = (pd.read_csv('../data/clean/analysis_subset.csv', low_memory=False)\n",
    "                  .rename({'onset_1':'identify_mo'}, axis=1))"
   ]
  },
  {
   "cell_type": "code",
   "execution_count": 3,
   "metadata": {},
   "outputs": [
    {
     "data": {
      "text/plain": [
       "(11333, 253)"
      ]
     },
     "execution_count": 3,
     "metadata": {},
     "output_type": "execute_result"
    }
   ],
   "source": [
    "analysis_subset.shape"
   ]
  },
  {
   "cell_type": "code",
   "execution_count": 4,
   "metadata": {},
   "outputs": [],
   "source": [
    "age_mask = (analysis_subset.age_test>=48) & (analysis_subset.age_test<60)"
   ]
  },
  {
   "cell_type": "code",
   "execution_count": 5,
   "metadata": {},
   "outputs": [
    {
     "data": {
      "text/plain": [
       "(463, 253)"
      ]
     },
     "execution_count": 5,
     "metadata": {},
     "output_type": "execute_result"
    }
   ],
   "source": [
    "analysis_subset[age_mask].drop_duplicates(subset='student_idx').shape"
   ]
  },
  {
   "cell_type": "code",
   "execution_count": 6,
   "metadata": {},
   "outputs": [],
   "source": [
    "data_4yo = analysis_subset[age_mask].drop_duplicates(subset='student_idx').copy()"
   ]
  },
  {
   "cell_type": "markdown",
   "metadata": {},
   "source": [
    "## Demographics"
   ]
  },
  {
   "cell_type": "code",
   "execution_count": 7,
   "metadata": {},
   "outputs": [
    {
     "data": {
      "text/plain": [
       "Male      246\n",
       "Female    217\n",
       "Name: male, dtype: int64"
      ]
     },
     "execution_count": 7,
     "metadata": {},
     "output_type": "execute_result"
    }
   ],
   "source": [
    "data_4yo.male.replace({1: 'Male', 0: 'Female', np.nan: 'Missing'}).value_counts()"
   ]
  },
  {
   "cell_type": "code",
   "execution_count": 8,
   "metadata": {},
   "outputs": [
    {
     "data": {
      "text/plain": [
       "White       304\n",
       "Black        52\n",
       "Hispanic     46\n",
       "Other        38\n",
       "Asian        23\n",
       "Name: race, dtype: int64"
      ]
     },
     "execution_count": 8,
     "metadata": {},
     "output_type": "execute_result"
    }
   ],
   "source": [
    "data_4yo.race.replace({0:'White', 1:'Black', 2:'Hispanic', 3:'Asian', 4:'Other', np.nan:'Missing'}).value_counts()"
   ]
  },
  {
   "cell_type": "code",
   "execution_count": 9,
   "metadata": {},
   "outputs": [
    {
     "data": {
      "text/plain": [
       "<36 weeks     346\n",
       ">=36 weeks     60\n",
       "Unknown        57\n",
       "Name: premature, dtype: int64"
      ]
     },
     "execution_count": 9,
     "metadata": {},
     "output_type": "execute_result"
    }
   ],
   "source": [
    "data_4yo.premature.replace({True: '>=36 weeks', False: '<36 weeks', np.nan: 'Unknown'}).value_counts()"
   ]
  },
  {
   "cell_type": "code",
   "execution_count": 10,
   "metadata": {},
   "outputs": [
    {
     "data": {
      "text/plain": [
       "1          105\n",
       "2          189\n",
       "3           98\n",
       "4+          55\n",
       "Missing     16\n",
       "Name: sib, dtype: int64"
      ]
     },
     "execution_count": 10,
     "metadata": {},
     "output_type": "execute_result"
    }
   ],
   "source": [
    "data_4yo.sib.replace({0:'1', 1:'2', 2:'3', 3:'4+', np.nan:'Missing'}).value_counts().sort_index()"
   ]
  },
  {
   "cell_type": "code",
   "execution_count": 11,
   "metadata": {},
   "outputs": [
    {
     "data": {
      "text/plain": [
       "High school diploma/GED    149\n",
       "Some high school           118\n",
       "Unknown                    101\n",
       "Some college                84\n",
       "8th grade or less           11\n",
       "Name: mother_ed, dtype: int64"
      ]
     },
     "execution_count": 11,
     "metadata": {},
     "output_type": "execute_result"
    }
   ],
   "source": [
    "ed_lookup = {0:\"8th grade or less\",\n",
    "1:\"Some high school\",\n",
    "2:\"High school diploma/GED\",\n",
    "3:\"Some college\",\n",
    "4:\"Bachelor's degree\",\n",
    "5:\"Post graduate degree\",\n",
    "6:\"Unknown\",\n",
    "np.nan:\"Unknown\"}\n",
    "\n",
    "data_4yo.mother_ed.replace(ed_lookup).value_counts()"
   ]
  },
  {
   "cell_type": "code",
   "execution_count": 12,
   "metadata": {},
   "outputs": [
    {
     "data": {
      "text/plain": [
       "Unknown                    131\n",
       "Bachelor's degree          117\n",
       "Some college                75\n",
       "Post graduate degree        74\n",
       "High school diploma/GED     57\n",
       "Some high school             9\n",
       "Name: father_ed, dtype: int64"
      ]
     },
     "execution_count": 12,
     "metadata": {},
     "output_type": "execute_result"
    }
   ],
   "source": [
    "data_4yo.father_ed.replace(ed_lookup).value_counts()"
   ]
  },
  {
   "cell_type": "code",
   "execution_count": 13,
   "metadata": {},
   "outputs": [
    {
     "data": {
      "text/plain": [
       "Ideal Participation      152\n",
       "Good Participation       109\n",
       "Average Participation    105\n",
       "Missing                   53\n",
       "Below Average             34\n",
       "Limited Participation     10\n",
       "Name: family_inv, dtype: int64"
      ]
     },
     "execution_count": 13,
     "metadata": {},
     "output_type": "execute_result"
    }
   ],
   "source": [
    "family_lookup = {0:\"Ideal Participation\",\n",
    "1:\"Good Participation\",\n",
    "2:\"Average Participation\",\n",
    "3:\"Below Average\",\n",
    "4:\"Limited Participation\",\n",
    "np.nan:\"Missing\"}\n",
    "\n",
    "data_4yo.family_inv.replace(family_lookup).value_counts()"
   ]
  },
  {
   "cell_type": "code",
   "execution_count": 14,
   "metadata": {},
   "outputs": [
    {
     "data": {
      "text/html": [
       "<div>\n",
       "<style scoped>\n",
       "    .dataframe tbody tr th:only-of-type {\n",
       "        vertical-align: middle;\n",
       "    }\n",
       "\n",
       "    .dataframe tbody tr th {\n",
       "        vertical-align: top;\n",
       "    }\n",
       "\n",
       "    .dataframe thead th {\n",
       "        text-align: right;\n",
       "    }\n",
       "</style>\n",
       "<table border=\"1\" class=\"dataframe\">\n",
       "  <thead>\n",
       "    <tr style=\"text-align: right;\">\n",
       "      <th></th>\n",
       "      <th>age_diag</th>\n",
       "      <th>age_amp</th>\n",
       "      <th>age_int</th>\n",
       "      <th>age</th>\n",
       "    </tr>\n",
       "  </thead>\n",
       "  <tbody>\n",
       "    <tr>\n",
       "      <th>count</th>\n",
       "      <td>407.000000</td>\n",
       "      <td>402.000000</td>\n",
       "      <td>371.000000</td>\n",
       "      <td>463.000000</td>\n",
       "    </tr>\n",
       "    <tr>\n",
       "      <th>mean</th>\n",
       "      <td>9.259214</td>\n",
       "      <td>13.915423</td>\n",
       "      <td>15.185984</td>\n",
       "      <td>24.095032</td>\n",
       "    </tr>\n",
       "    <tr>\n",
       "      <th>std</th>\n",
       "      <td>12.830546</td>\n",
       "      <td>13.714685</td>\n",
       "      <td>13.714873</td>\n",
       "      <td>16.624827</td>\n",
       "    </tr>\n",
       "    <tr>\n",
       "      <th>min</th>\n",
       "      <td>0.000000</td>\n",
       "      <td>0.000000</td>\n",
       "      <td>0.000000</td>\n",
       "      <td>0.000000</td>\n",
       "    </tr>\n",
       "    <tr>\n",
       "      <th>25%</th>\n",
       "      <td>1.000000</td>\n",
       "      <td>3.000000</td>\n",
       "      <td>4.000000</td>\n",
       "      <td>9.000000</td>\n",
       "    </tr>\n",
       "    <tr>\n",
       "      <th>50%</th>\n",
       "      <td>2.000000</td>\n",
       "      <td>8.000000</td>\n",
       "      <td>12.000000</td>\n",
       "      <td>22.000000</td>\n",
       "    </tr>\n",
       "    <tr>\n",
       "      <th>75%</th>\n",
       "      <td>15.500000</td>\n",
       "      <td>22.000000</td>\n",
       "      <td>24.000000</td>\n",
       "      <td>36.000000</td>\n",
       "    </tr>\n",
       "    <tr>\n",
       "      <th>max</th>\n",
       "      <td>54.000000</td>\n",
       "      <td>65.000000</td>\n",
       "      <td>60.000000</td>\n",
       "      <td>88.000000</td>\n",
       "    </tr>\n",
       "  </tbody>\n",
       "</table>\n",
       "</div>"
      ],
      "text/plain": [
       "         age_diag     age_amp     age_int         age\n",
       "count  407.000000  402.000000  371.000000  463.000000\n",
       "mean     9.259214   13.915423   15.185984   24.095032\n",
       "std     12.830546   13.714685   13.714873   16.624827\n",
       "min      0.000000    0.000000    0.000000    0.000000\n",
       "25%      1.000000    3.000000    4.000000    9.000000\n",
       "50%      2.000000    8.000000   12.000000   22.000000\n",
       "75%     15.500000   22.000000   24.000000   36.000000\n",
       "max     54.000000   65.000000   60.000000   88.000000"
      ]
     },
     "execution_count": 14,
     "metadata": {},
     "output_type": "execute_result"
    }
   ],
   "source": [
    "data_4yo[[\"age_diag\", \"age_amp\", \"age_int\", \"age\"]].describe()"
   ]
  },
  {
   "cell_type": "code",
   "execution_count": 15,
   "metadata": {},
   "outputs": [
    {
     "data": {
      "text/plain": [
       "OPTION only         222\n",
       "Missing              64\n",
       "OPTION + outside     60\n",
       "Name: otherserv, dtype: int64"
      ]
     },
     "execution_count": 15,
     "metadata": {},
     "output_type": "execute_result"
    }
   ],
   "source": [
    "data_4yo.otherserv.replace({0: \"OPTION + outside\", 1: \"OPTION only\", 2: \"Missing\"}).value_counts()"
   ]
  },
  {
   "cell_type": "markdown",
   "metadata": {},
   "source": [
    "## Hearing loss"
   ]
  },
  {
   "cell_type": "code",
   "execution_count": 16,
   "metadata": {},
   "outputs": [
    {
     "data": {
      "text/plain": [
       "20"
      ]
     },
     "execution_count": 16,
     "metadata": {},
     "output_type": "execute_result"
    }
   ],
   "source": [
    "data_4yo.degree_hl_ad.isnull().sum()"
   ]
  },
  {
   "cell_type": "code",
   "execution_count": 17,
   "metadata": {},
   "outputs": [
    {
     "data": {
      "text/plain": [
       "19"
      ]
     },
     "execution_count": 17,
     "metadata": {},
     "output_type": "execute_result"
    }
   ],
   "source": [
    "data_4yo.degree_hl_as.isnull().sum()"
   ]
  },
  {
   "cell_type": "code",
   "execution_count": 18,
   "metadata": {},
   "outputs": [
    {
     "data": {
      "text/plain": [
       "6.0    190\n",
       "4.0     74\n",
       "5.0     70\n",
       "3.0     60\n",
       "2.0     29\n",
       "0.0     11\n",
       "1.0      9\n",
       "Name: degree_hl_ad, dtype: int64"
      ]
     },
     "execution_count": 18,
     "metadata": {},
     "output_type": "execute_result"
    }
   ],
   "source": [
    "data_4yo.degree_hl_ad.value_counts()"
   ]
  },
  {
   "cell_type": "code",
   "execution_count": 19,
   "metadata": {},
   "outputs": [
    {
     "data": {
      "text/plain": [
       "6.0    191\n",
       "4.0     78\n",
       "5.0     65\n",
       "3.0     61\n",
       "2.0     22\n",
       "0.0     16\n",
       "1.0     11\n",
       "Name: degree_hl_as, dtype: int64"
      ]
     },
     "execution_count": 19,
     "metadata": {},
     "output_type": "execute_result"
    }
   ],
   "source": [
    "data_4yo.degree_hl_as.value_counts()"
   ]
  },
  {
   "cell_type": "code",
   "execution_count": 20,
   "metadata": {},
   "outputs": [],
   "source": [
    "hl_data = data_4yo.set_index('study_id')[['bilateral_snhl',\n",
    "                     'bilateral_ansd',\n",
    "                     'bilateral_mixed',\n",
    "                     'bilateral_cond',\n",
    "                     'bilateral_normal',\n",
    "                     'bilateral_unk',\n",
    "                     'unilateral_snhl',\n",
    "                     'unilateral_ansd',\n",
    "                     'unilateral_mixed',\n",
    "                     'unilateral_cond',\n",
    "                     'unilateral_unk',\n",
    "                     'assymetrical']]"
   ]
  },
  {
   "cell_type": "markdown",
   "metadata": {},
   "source": [
    "One or both parents with hearing loss"
   ]
  },
  {
   "cell_type": "code",
   "execution_count": 21,
   "metadata": {},
   "outputs": [
    {
     "data": {
      "text/plain": [
       "0.0    380\n",
       "1.0     28\n",
       "Name: one_or_both_parent_hl, dtype: int64"
      ]
     },
     "execution_count": 21,
     "metadata": {},
     "output_type": "execute_result"
    }
   ],
   "source": [
    "data_4yo.one_or_both_parent_hl.value_counts()"
   ]
  },
  {
   "cell_type": "code",
   "execution_count": 22,
   "metadata": {},
   "outputs": [
    {
     "data": {
      "text/plain": [
       "55"
      ]
     },
     "execution_count": 22,
     "metadata": {},
     "output_type": "execute_result"
    }
   ],
   "source": [
    "data_4yo.one_or_both_parent_hl.isnull().sum()"
   ]
  },
  {
   "cell_type": "markdown",
   "metadata": {},
   "source": [
    "Individuals with no hearing loss type"
   ]
  },
  {
   "cell_type": "code",
   "execution_count": 23,
   "metadata": {},
   "outputs": [
    {
     "data": {
      "text/plain": [
       "array(['1045-2010-0056', '0938-2014-0019', '0414-2016-0001',\n",
       "       '0414-2015-0025', '0414-2016-0027', '0414-2016-0025',\n",
       "       '0414-2016-0014', '0414-2015-0017', '0411-2014-0023',\n",
       "       '0411-2014-0030', '0414-2017-0025', '0411-2015-0045',\n",
       "       '0411-2014-0004', '0205-2015-0005', '0938-2010-0017',\n",
       "       '0938-2009-0013', '0414-2013-0288', '0414-2013-0278',\n",
       "       '0519-2014-0081'], dtype=object)"
      ]
     },
     "execution_count": 23,
     "metadata": {},
     "output_type": "execute_result"
    }
   ],
   "source": [
    "hl_data[hl_data.sum(1)==0].index.values"
   ]
  },
  {
   "cell_type": "code",
   "execution_count": 24,
   "metadata": {},
   "outputs": [
    {
     "data": {
      "text/plain": [
       "bilateral_snhl      345\n",
       "bilateral_cond       22\n",
       "assymetrical         17\n",
       "bilateral_ansd       17\n",
       "unilateral_snhl      14\n",
       "bilateral_mixed      12\n",
       "unilateral_cond      10\n",
       "bilateral_normal      3\n",
       "unilateral_mixed      2\n",
       "unilateral_ansd       2\n",
       "unilateral_unk        0\n",
       "bilateral_unk         0\n",
       "dtype: int64"
      ]
     },
     "execution_count": 24,
     "metadata": {},
     "output_type": "execute_result"
    }
   ],
   "source": [
    "hl_data.sum().astype(int).sort_values(ascending=False)"
   ]
  },
  {
   "cell_type": "code",
   "execution_count": 25,
   "metadata": {},
   "outputs": [
    {
     "data": {
      "text/plain": [
       "bilateral_snhl      0.75\n",
       "bilateral_cond      0.05\n",
       "assymetrical        0.04\n",
       "bilateral_ansd      0.04\n",
       "unilateral_snhl     0.03\n",
       "bilateral_mixed     0.03\n",
       "unilateral_cond     0.02\n",
       "bilateral_normal    0.01\n",
       "unilateral_unk      0.00\n",
       "unilateral_mixed    0.00\n",
       "unilateral_ansd     0.00\n",
       "bilateral_unk       0.00\n",
       "dtype: float64"
      ]
     },
     "execution_count": 25,
     "metadata": {},
     "output_type": "execute_result"
    }
   ],
   "source": [
    "hl_data.mean().round(2).sort_values(ascending=False)"
   ]
  },
  {
   "cell_type": "code",
   "execution_count": 26,
   "metadata": {},
   "outputs": [],
   "source": [
    "tech_data = data_4yo.set_index('study_id')[['bilateral_ha',\n",
    "                     'bilateral_ci',\n",
    "                     'bimodal',\n",
    "                     'bilateral_other',\n",
    "                     'unilateral_ha',\n",
    "                     'unilateral_ci',\n",
    "                     'unilateral_other']]"
   ]
  },
  {
   "cell_type": "code",
   "execution_count": 27,
   "metadata": {},
   "outputs": [
    {
     "data": {
      "text/plain": [
       "bilateral_ci        317\n",
       "bilateral_ha         91\n",
       "bimodal              34\n",
       "unilateral_ha         9\n",
       "unilateral_ci         8\n",
       "bilateral_other       1\n",
       "unilateral_other      0\n",
       "dtype: int64"
      ]
     },
     "execution_count": 27,
     "metadata": {},
     "output_type": "execute_result"
    }
   ],
   "source": [
    "tech_data.sum().astype(int).sort_values(ascending=False)"
   ]
  },
  {
   "cell_type": "code",
   "execution_count": 28,
   "metadata": {},
   "outputs": [
    {
     "data": {
      "text/plain": [
       "bilateral_ci        0.68\n",
       "bilateral_ha        0.20\n",
       "bimodal             0.07\n",
       "unilateral_ci       0.02\n",
       "unilateral_ha       0.02\n",
       "unilateral_other    0.00\n",
       "bilateral_other     0.00\n",
       "dtype: float64"
      ]
     },
     "execution_count": 28,
     "metadata": {},
     "output_type": "execute_result"
    }
   ],
   "source": [
    "tech_data.mean().round(2).sort_values(ascending=False)"
   ]
  },
  {
   "cell_type": "markdown",
   "metadata": {},
   "source": [
    "Individuals with no technology type"
   ]
  },
  {
   "cell_type": "code",
   "execution_count": 29,
   "metadata": {},
   "outputs": [
    {
     "data": {
      "text/plain": [
       "array(['0523-2015-0002', '0414-2012-0224', '0205-2015-0008'], dtype=object)"
      ]
     },
     "execution_count": 29,
     "metadata": {},
     "output_type": "execute_result"
    }
   ],
   "source": [
    "tech_data[tech_data.sum(1)==0].index.values"
   ]
  },
  {
   "cell_type": "markdown",
   "metadata": {},
   "source": [
    "## Hearing Loss"
   ]
  },
  {
   "cell_type": "code",
   "execution_count": 30,
   "metadata": {},
   "outputs": [
    {
     "data": {
      "text/plain": [
       "Index(['degree_hl_ad', 'type_hl_ad', 'degree_hl_as', 'type_hl_as',\n",
       "       'bilateral_hl_normal', 'bilateral_hl_slight', 'bilateral_hl_mild',\n",
       "       'bilateral_hl_moderate', 'bilateral_hl_modsev', 'bilateral_hl_severe',\n",
       "       'bilateral_hl_profound', 'unilateral_hl_slight', 'unilateral_hl_mild',\n",
       "       'unilateral_hl_moderate', 'unilateral_hl_modsev',\n",
       "       'unilateral_hl_severe', 'unilateral_hl_profound', 'deg_hl_below6'],\n",
       "      dtype='object')"
      ]
     },
     "execution_count": 30,
     "metadata": {},
     "output_type": "execute_result"
    }
   ],
   "source": [
    "data_4yo.columns[data_4yo.columns.str.contains('_hl_')]"
   ]
  },
  {
   "cell_type": "code",
   "execution_count": 31,
   "metadata": {},
   "outputs": [],
   "source": [
    "hl_data = data_4yo.set_index('study_id')[['bilateral_hl_normal', 'bilateral_hl_slight', 'bilateral_hl_mild',\n",
    "       'bilateral_hl_moderate', 'bilateral_hl_modsev', 'bilateral_hl_severe',\n",
    "       'bilateral_hl_profound', 'unilateral_hl_slight', 'unilateral_hl_mild',\n",
    "       'unilateral_hl_moderate', 'unilateral_hl_modsev',\n",
    "       'unilateral_hl_severe', 'unilateral_hl_profound']]"
   ]
  },
  {
   "cell_type": "code",
   "execution_count": 32,
   "metadata": {},
   "outputs": [
    {
     "data": {
      "text/plain": [
       "bilateral_hl_profound     159\n",
       "bilateral_hl_modsev        48\n",
       "bilateral_hl_moderate      41\n",
       "bilateral_hl_severe        37\n",
       "bilateral_hl_mild          16\n",
       "unilateral_hl_profound      7\n",
       "unilateral_hl_modsev        7\n",
       "unilateral_hl_severe        5\n",
       "unilateral_hl_mild          4\n",
       "bilateral_hl_slight         4\n",
       "unilateral_hl_moderate      1\n",
       "unilateral_hl_slight        1\n",
       "bilateral_hl_normal         0\n",
       "dtype: int64"
      ]
     },
     "execution_count": 32,
     "metadata": {},
     "output_type": "execute_result"
    }
   ],
   "source": [
    "hl_data.sum().astype(int).sort_values(ascending=False)"
   ]
  },
  {
   "cell_type": "code",
   "execution_count": 33,
   "metadata": {},
   "outputs": [
    {
     "data": {
      "text/plain": [
       "bilateral_hl_profound     0.34\n",
       "bilateral_hl_modsev       0.10\n",
       "bilateral_hl_moderate     0.09\n",
       "bilateral_hl_severe       0.08\n",
       "bilateral_hl_mild         0.03\n",
       "unilateral_hl_profound    0.02\n",
       "unilateral_hl_modsev      0.02\n",
       "unilateral_hl_severe      0.01\n",
       "unilateral_hl_mild        0.01\n",
       "bilateral_hl_slight       0.01\n",
       "unilateral_hl_moderate    0.00\n",
       "unilateral_hl_slight      0.00\n",
       "bilateral_hl_normal       0.00\n",
       "dtype: float64"
      ]
     },
     "execution_count": 33,
     "metadata": {},
     "output_type": "execute_result"
    }
   ],
   "source": [
    "hl_data.mean().round(2).sort_values(ascending=False)"
   ]
  },
  {
   "cell_type": "markdown",
   "metadata": {},
   "source": [
    "Missing one or both hearing loss values (left/right)"
   ]
  },
  {
   "cell_type": "code",
   "execution_count": 34,
   "metadata": {},
   "outputs": [
    {
     "data": {
      "text/plain": [
       "21"
      ]
     },
     "execution_count": 34,
     "metadata": {},
     "output_type": "execute_result"
    }
   ],
   "source": [
    "(data_4yo[['degree_hl_ad', 'degree_hl_as']].isnull().sum(1) > 0).sum()"
   ]
  },
  {
   "cell_type": "markdown",
   "metadata": {},
   "source": [
    "## Summary of scores by domain"
   ]
  },
  {
   "cell_type": "code",
   "execution_count": 35,
   "metadata": {},
   "outputs": [],
   "source": [
    "test_scores = analysis_subset[age_mask].copy()"
   ]
  },
  {
   "cell_type": "code",
   "execution_count": 36,
   "metadata": {},
   "outputs": [],
   "source": [
    "test_scores.loc[(test_scores.domain=='Language') & (test_scores.test_type=='receptive'), \n",
    "           'domain'] = 'Receptive Language'\n",
    "test_scores.loc[(test_scores.domain=='Language') & (test_scores.test_type=='expressive'), \n",
    "           'domain'] = 'Expressive Language'"
   ]
  },
  {
   "cell_type": "code",
   "execution_count": 37,
   "metadata": {},
   "outputs": [
    {
     "data": {
      "text/html": [
       "<div>\n",
       "<style scoped>\n",
       "    .dataframe tbody tr th:only-of-type {\n",
       "        vertical-align: middle;\n",
       "    }\n",
       "\n",
       "    .dataframe tbody tr th {\n",
       "        vertical-align: top;\n",
       "    }\n",
       "\n",
       "    .dataframe thead th {\n",
       "        text-align: right;\n",
       "    }\n",
       "</style>\n",
       "<table border=\"1\" class=\"dataframe\">\n",
       "  <thead>\n",
       "    <tr style=\"text-align: right;\">\n",
       "      <th></th>\n",
       "      <th>count</th>\n",
       "      <th>mean</th>\n",
       "      <th>std</th>\n",
       "      <th>min</th>\n",
       "      <th>25%</th>\n",
       "      <th>50%</th>\n",
       "      <th>75%</th>\n",
       "      <th>max</th>\n",
       "    </tr>\n",
       "    <tr>\n",
       "      <th>domain</th>\n",
       "      <th></th>\n",
       "      <th></th>\n",
       "      <th></th>\n",
       "      <th></th>\n",
       "      <th></th>\n",
       "      <th></th>\n",
       "      <th></th>\n",
       "      <th></th>\n",
       "    </tr>\n",
       "  </thead>\n",
       "  <tbody>\n",
       "    <tr>\n",
       "      <th>Articulation</th>\n",
       "      <td>298.0</td>\n",
       "      <td>86.4</td>\n",
       "      <td>19.9</td>\n",
       "      <td>0.0</td>\n",
       "      <td>74.2</td>\n",
       "      <td>88.0</td>\n",
       "      <td>101.0</td>\n",
       "      <td>121.0</td>\n",
       "    </tr>\n",
       "    <tr>\n",
       "      <th>Expressive Language</th>\n",
       "      <td>419.0</td>\n",
       "      <td>87.8</td>\n",
       "      <td>19.6</td>\n",
       "      <td>45.0</td>\n",
       "      <td>73.0</td>\n",
       "      <td>87.0</td>\n",
       "      <td>102.0</td>\n",
       "      <td>136.0</td>\n",
       "    </tr>\n",
       "    <tr>\n",
       "      <th>Expressive Vocabulary</th>\n",
       "      <td>412.0</td>\n",
       "      <td>97.5</td>\n",
       "      <td>20.5</td>\n",
       "      <td>0.0</td>\n",
       "      <td>85.0</td>\n",
       "      <td>98.5</td>\n",
       "      <td>112.2</td>\n",
       "      <td>140.0</td>\n",
       "    </tr>\n",
       "    <tr>\n",
       "      <th>Language</th>\n",
       "      <td>428.0</td>\n",
       "      <td>89.9</td>\n",
       "      <td>20.7</td>\n",
       "      <td>48.0</td>\n",
       "      <td>75.0</td>\n",
       "      <td>90.0</td>\n",
       "      <td>106.0</td>\n",
       "      <td>163.0</td>\n",
       "    </tr>\n",
       "    <tr>\n",
       "      <th>Receptive Language</th>\n",
       "      <td>417.0</td>\n",
       "      <td>91.6</td>\n",
       "      <td>19.1</td>\n",
       "      <td>50.0</td>\n",
       "      <td>79.0</td>\n",
       "      <td>92.0</td>\n",
       "      <td>107.0</td>\n",
       "      <td>145.0</td>\n",
       "    </tr>\n",
       "    <tr>\n",
       "      <th>Receptive Vocabulary</th>\n",
       "      <td>415.0</td>\n",
       "      <td>95.8</td>\n",
       "      <td>18.5</td>\n",
       "      <td>0.0</td>\n",
       "      <td>83.5</td>\n",
       "      <td>98.0</td>\n",
       "      <td>109.0</td>\n",
       "      <td>137.0</td>\n",
       "    </tr>\n",
       "  </tbody>\n",
       "</table>\n",
       "</div>"
      ],
      "text/plain": [
       "                       count  mean   std   min   25%   50%    75%    max\n",
       "domain                                                                  \n",
       "Articulation           298.0  86.4  19.9   0.0  74.2  88.0  101.0  121.0\n",
       "Expressive Language    419.0  87.8  19.6  45.0  73.0  87.0  102.0  136.0\n",
       "Expressive Vocabulary  412.0  97.5  20.5   0.0  85.0  98.5  112.2  140.0\n",
       "Language               428.0  89.9  20.7  48.0  75.0  90.0  106.0  163.0\n",
       "Receptive Language     417.0  91.6  19.1  50.0  79.0  92.0  107.0  145.0\n",
       "Receptive Vocabulary   415.0  95.8  18.5   0.0  83.5  98.0  109.0  137.0"
      ]
     },
     "execution_count": 37,
     "metadata": {},
     "output_type": "execute_result"
    }
   ],
   "source": [
    "test_scores.groupby('domain').score.describe().round(1)"
   ]
  },
  {
   "cell_type": "code",
   "execution_count": 38,
   "metadata": {},
   "outputs": [
    {
     "data": {
      "text/plain": [
       "array(['Expressive Vocabulary', 'Receptive Vocabulary',\n",
       "       'Receptive Language', 'Expressive Language', 'Language',\n",
       "       'Articulation'], dtype=object)"
      ]
     },
     "execution_count": 38,
     "metadata": {},
     "output_type": "execute_result"
    }
   ],
   "source": [
    "test_scores.domain.unique()"
   ]
  },
  {
   "cell_type": "code",
   "execution_count": 39,
   "metadata": {},
   "outputs": [],
   "source": [
    "test_scores['domain_labels'] = test_scores.domain.replace({'Expressive Vocabulary': 'Expressive\\nVocabulary', \n",
    "                                                           'Receptive Vocabulary': 'Receptive\\nVocabulary',\n",
    "                                                           'Receptive Language': 'Receptive\\nLanguage', \n",
    "                                                           'Expressive Language': 'Expressive\\nLanguage', \n",
    "                                                           'Language': 'Total\\nLanguage'})"
   ]
  },
  {
   "cell_type": "code",
   "execution_count": 40,
   "metadata": {},
   "outputs": [
    {
     "data": {
      "image/png": "[encoded data removed]",
      "text/plain": [
       "<Figure size 864x360 with 1 Axes>"
      ]
     },
     "metadata": {
      "needs_background": "light"
     },
     "output_type": "display_data"
    }
   ],
   "source": [
    "sns.catplot(\"domain_labels\", y=\"score\", data=test_scores)\n",
    "fig = plt.gcf()\n",
    "fig.set_size_inches(12, 5)\n",
    "fig.axes[0].set_xlabel('');"
   ]
  },
  {
   "cell_type": "code",
   "execution_count": 41,
   "metadata": {},
   "outputs": [
    {
     "data": {
      "image/png": "[encoded data removed]",
      "text/plain": [
       "<Figure size 864x360 with 1 Axes>"
      ]
     },
     "metadata": {
      "needs_background": "light"
     },
     "output_type": "display_data"
    }
   ],
   "source": [
    "sns.catplot(\"domain_labels\", y=\"score\", data=test_scores, kind=\"box\", color='white', fliersize=0)\n",
    "fig = plt.gcf()\n",
    "fig.set_size_inches(12, 5)\n",
    "fig.axes[0].set_xlabel('');"
   ]
  },
  {
   "cell_type": "markdown",
   "metadata": {},
   "source": [
    "## Domain-specific summaries\n",
    "\n",
    "Age of amplification greater than 6mo."
   ]
  },
  {
   "cell_type": "code",
   "execution_count": 42,
   "metadata": {},
   "outputs": [
    {
     "data": {
      "text/html": [
       "<div>\n",
       "<style scoped>\n",
       "    .dataframe tbody tr th:only-of-type {\n",
       "        vertical-align: middle;\n",
       "    }\n",
       "\n",
       "    .dataframe tbody tr th {\n",
       "        vertical-align: top;\n",
       "    }\n",
       "\n",
       "    .dataframe thead th {\n",
       "        text-align: right;\n",
       "    }\n",
       "</style>\n",
       "<table border=\"1\" class=\"dataframe\">\n",
       "  <thead>\n",
       "    <tr style=\"text-align: right;\">\n",
       "      <th></th>\n",
       "      <th></th>\n",
       "      <th>count</th>\n",
       "      <th>mean</th>\n",
       "      <th>std</th>\n",
       "      <th>min</th>\n",
       "      <th>25%</th>\n",
       "      <th>50%</th>\n",
       "      <th>75%</th>\n",
       "      <th>max</th>\n",
       "    </tr>\n",
       "    <tr>\n",
       "      <th>domain</th>\n",
       "      <th>age_amp_greater_6</th>\n",
       "      <th></th>\n",
       "      <th></th>\n",
       "      <th></th>\n",
       "      <th></th>\n",
       "      <th></th>\n",
       "      <th></th>\n",
       "      <th></th>\n",
       "      <th></th>\n",
       "    </tr>\n",
       "  </thead>\n",
       "  <tbody>\n",
       "    <tr>\n",
       "      <th rowspan=\"2\" valign=\"top\">Articulation</th>\n",
       "      <th>False</th>\n",
       "      <td>157.0</td>\n",
       "      <td>91.681529</td>\n",
       "      <td>17.812067</td>\n",
       "      <td>45.0</td>\n",
       "      <td>80.00</td>\n",
       "      <td>95.0</td>\n",
       "      <td>106.0</td>\n",
       "      <td>121.0</td>\n",
       "    </tr>\n",
       "    <tr>\n",
       "      <th>True</th>\n",
       "      <td>141.0</td>\n",
       "      <td>80.503546</td>\n",
       "      <td>20.592864</td>\n",
       "      <td>0.0</td>\n",
       "      <td>69.00</td>\n",
       "      <td>83.0</td>\n",
       "      <td>95.0</td>\n",
       "      <td>118.0</td>\n",
       "    </tr>\n",
       "    <tr>\n",
       "      <th rowspan=\"2\" valign=\"top\">Expressive Language</th>\n",
       "      <th>False</th>\n",
       "      <td>226.0</td>\n",
       "      <td>91.747788</td>\n",
       "      <td>18.537964</td>\n",
       "      <td>50.0</td>\n",
       "      <td>77.50</td>\n",
       "      <td>92.0</td>\n",
       "      <td>105.0</td>\n",
       "      <td>136.0</td>\n",
       "    </tr>\n",
       "    <tr>\n",
       "      <th>True</th>\n",
       "      <td>193.0</td>\n",
       "      <td>83.191710</td>\n",
       "      <td>19.952014</td>\n",
       "      <td>45.0</td>\n",
       "      <td>69.00</td>\n",
       "      <td>81.0</td>\n",
       "      <td>98.0</td>\n",
       "      <td>134.0</td>\n",
       "    </tr>\n",
       "    <tr>\n",
       "      <th rowspan=\"2\" valign=\"top\">Expressive Vocabulary</th>\n",
       "      <th>False</th>\n",
       "      <td>225.0</td>\n",
       "      <td>99.466667</td>\n",
       "      <td>17.960025</td>\n",
       "      <td>28.0</td>\n",
       "      <td>89.00</td>\n",
       "      <td>101.0</td>\n",
       "      <td>112.0</td>\n",
       "      <td>140.0</td>\n",
       "    </tr>\n",
       "    <tr>\n",
       "      <th>True</th>\n",
       "      <td>187.0</td>\n",
       "      <td>95.090909</td>\n",
       "      <td>23.001105</td>\n",
       "      <td>0.0</td>\n",
       "      <td>83.00</td>\n",
       "      <td>94.0</td>\n",
       "      <td>112.5</td>\n",
       "      <td>140.0</td>\n",
       "    </tr>\n",
       "    <tr>\n",
       "      <th rowspan=\"2\" valign=\"top\">Language</th>\n",
       "      <th>False</th>\n",
       "      <td>228.0</td>\n",
       "      <td>93.008772</td>\n",
       "      <td>18.752267</td>\n",
       "      <td>50.0</td>\n",
       "      <td>79.75</td>\n",
       "      <td>94.0</td>\n",
       "      <td>106.0</td>\n",
       "      <td>141.0</td>\n",
       "    </tr>\n",
       "    <tr>\n",
       "      <th>True</th>\n",
       "      <td>200.0</td>\n",
       "      <td>86.250000</td>\n",
       "      <td>22.206828</td>\n",
       "      <td>48.0</td>\n",
       "      <td>69.00</td>\n",
       "      <td>85.0</td>\n",
       "      <td>102.0</td>\n",
       "      <td>163.0</td>\n",
       "    </tr>\n",
       "    <tr>\n",
       "      <th rowspan=\"2\" valign=\"top\">Receptive Language</th>\n",
       "      <th>False</th>\n",
       "      <td>226.0</td>\n",
       "      <td>94.194690</td>\n",
       "      <td>17.337106</td>\n",
       "      <td>53.0</td>\n",
       "      <td>83.00</td>\n",
       "      <td>94.0</td>\n",
       "      <td>108.0</td>\n",
       "      <td>128.0</td>\n",
       "    </tr>\n",
       "    <tr>\n",
       "      <th>True</th>\n",
       "      <td>191.0</td>\n",
       "      <td>88.502618</td>\n",
       "      <td>20.636420</td>\n",
       "      <td>50.0</td>\n",
       "      <td>71.00</td>\n",
       "      <td>88.0</td>\n",
       "      <td>105.0</td>\n",
       "      <td>145.0</td>\n",
       "    </tr>\n",
       "    <tr>\n",
       "      <th rowspan=\"2\" valign=\"top\">Receptive Vocabulary</th>\n",
       "      <th>False</th>\n",
       "      <td>226.0</td>\n",
       "      <td>98.110619</td>\n",
       "      <td>17.136606</td>\n",
       "      <td>43.0</td>\n",
       "      <td>87.25</td>\n",
       "      <td>99.5</td>\n",
       "      <td>110.0</td>\n",
       "      <td>137.0</td>\n",
       "    </tr>\n",
       "    <tr>\n",
       "      <th>True</th>\n",
       "      <td>189.0</td>\n",
       "      <td>93.063492</td>\n",
       "      <td>19.683836</td>\n",
       "      <td>0.0</td>\n",
       "      <td>81.00</td>\n",
       "      <td>94.0</td>\n",
       "      <td>109.0</td>\n",
       "      <td>132.0</td>\n",
       "    </tr>\n",
       "  </tbody>\n",
       "</table>\n",
       "</div>"
      ],
      "text/plain": [
       "                                         count       mean        std   min  \\\n",
       "domain                age_amp_greater_6                                      \n",
       "Articulation          False              157.0  91.681529  17.812067  45.0   \n",
       "                      True               141.0  80.503546  20.592864   0.0   \n",
       "Expressive Language   False              226.0  91.747788  18.537964  50.0   \n",
       "                      True               193.0  83.191710  19.952014  45.0   \n",
       "Expressive Vocabulary False              225.0  99.466667  17.960025  28.0   \n",
       "                      True               187.0  95.090909  23.001105   0.0   \n",
       "Language              False              228.0  93.008772  18.752267  50.0   \n",
       "                      True               200.0  86.250000  22.206828  48.0   \n",
       "Receptive Language    False              226.0  94.194690  17.337106  53.0   \n",
       "                      True               191.0  88.502618  20.636420  50.0   \n",
       "Receptive Vocabulary  False              226.0  98.110619  17.136606  43.0   \n",
       "                      True               189.0  93.063492  19.683836   0.0   \n",
       "\n",
       "                                           25%    50%    75%    max  \n",
       "domain                age_amp_greater_6                              \n",
       "Articulation          False              80.00   95.0  106.0  121.0  \n",
       "                      True               69.00   83.0   95.0  118.0  \n",
       "Expressive Language   False              77.50   92.0  105.0  136.0  \n",
       "                      True               69.00   81.0   98.0  134.0  \n",
       "Expressive Vocabulary False              89.00  101.0  112.0  140.0  \n",
       "                      True               83.00   94.0  112.5  140.0  \n",
       "Language              False              79.75   94.0  106.0  141.0  \n",
       "                      True               69.00   85.0  102.0  163.0  \n",
       "Receptive Language    False              83.00   94.0  108.0  128.0  \n",
       "                      True               71.00   88.0  105.0  145.0  \n",
       "Receptive Vocabulary  False              87.25   99.5  110.0  137.0  \n",
       "                      True               81.00   94.0  109.0  132.0  "
      ]
     },
     "execution_count": 42,
     "metadata": {},
     "output_type": "execute_result"
    }
   ],
   "source": [
    "(test_scores.assign(age_amp_greater_6=test_scores.age_amp>6)\n",
    "         .groupby(['domain', 'age_amp_greater_6'])\n",
    "         .score.describe())"
   ]
  },
  {
   "cell_type": "code",
   "execution_count": 43,
   "metadata": {},
   "outputs": [
    {
     "data": {
      "image/png": "[encoded data removed]",
      "text/plain": [
       "<Figure size 864x360 with 1 Axes>"
      ]
     },
     "metadata": {
      "needs_background": "light"
     },
     "output_type": "display_data"
    }
   ],
   "source": [
    "sns.catplot(\"domain_labels\", y=\"score\", hue='age_amp_greater_6', data=test_scores.assign(age_amp_greater_6=test_scores.age_amp>6),\n",
    "            kind=\"box\", color='white', fliersize=0)\n",
    "fig = plt.gcf()\n",
    "fig.set_size_inches(12, 5)\n",
    "fig.axes[0].set_xlabel('');"
   ]
  },
  {
   "cell_type": "markdown",
   "metadata": {},
   "source": [
    "Age of enrollment greater than 6mo."
   ]
  },
  {
   "cell_type": "code",
   "execution_count": 44,
   "metadata": {},
   "outputs": [
    {
     "data": {
      "text/html": [
       "<div>\n",
       "<style scoped>\n",
       "    .dataframe tbody tr th:only-of-type {\n",
       "        vertical-align: middle;\n",
       "    }\n",
       "\n",
       "    .dataframe tbody tr th {\n",
       "        vertical-align: top;\n",
       "    }\n",
       "\n",
       "    .dataframe thead th {\n",
       "        text-align: right;\n",
       "    }\n",
       "</style>\n",
       "<table border=\"1\" class=\"dataframe\">\n",
       "  <thead>\n",
       "    <tr style=\"text-align: right;\">\n",
       "      <th></th>\n",
       "      <th></th>\n",
       "      <th>count</th>\n",
       "      <th>mean</th>\n",
       "      <th>std</th>\n",
       "      <th>min</th>\n",
       "      <th>25%</th>\n",
       "      <th>50%</th>\n",
       "      <th>75%</th>\n",
       "      <th>max</th>\n",
       "    </tr>\n",
       "    <tr>\n",
       "      <th>domain</th>\n",
       "      <th>age_enroll_greater_6</th>\n",
       "      <th></th>\n",
       "      <th></th>\n",
       "      <th></th>\n",
       "      <th></th>\n",
       "      <th></th>\n",
       "      <th></th>\n",
       "      <th></th>\n",
       "      <th></th>\n",
       "    </tr>\n",
       "  </thead>\n",
       "  <tbody>\n",
       "    <tr>\n",
       "      <th rowspan=\"2\" valign=\"top\">Articulation</th>\n",
       "      <th>False</th>\n",
       "      <td>152.0</td>\n",
       "      <td>88.914474</td>\n",
       "      <td>21.140008</td>\n",
       "      <td>0.0</td>\n",
       "      <td>77.75</td>\n",
       "      <td>92.5</td>\n",
       "      <td>104.25</td>\n",
       "      <td>120.0</td>\n",
       "    </tr>\n",
       "    <tr>\n",
       "      <th>True</th>\n",
       "      <td>146.0</td>\n",
       "      <td>83.767123</td>\n",
       "      <td>18.324674</td>\n",
       "      <td>40.0</td>\n",
       "      <td>72.00</td>\n",
       "      <td>84.0</td>\n",
       "      <td>97.00</td>\n",
       "      <td>121.0</td>\n",
       "    </tr>\n",
       "    <tr>\n",
       "      <th rowspan=\"2\" valign=\"top\">Expressive Language</th>\n",
       "      <th>False</th>\n",
       "      <td>214.0</td>\n",
       "      <td>90.037383</td>\n",
       "      <td>19.852709</td>\n",
       "      <td>48.0</td>\n",
       "      <td>75.00</td>\n",
       "      <td>91.0</td>\n",
       "      <td>104.00</td>\n",
       "      <td>136.0</td>\n",
       "    </tr>\n",
       "    <tr>\n",
       "      <th>True</th>\n",
       "      <td>205.0</td>\n",
       "      <td>85.478049</td>\n",
       "      <td>19.205947</td>\n",
       "      <td>45.0</td>\n",
       "      <td>71.00</td>\n",
       "      <td>85.0</td>\n",
       "      <td>100.00</td>\n",
       "      <td>134.0</td>\n",
       "    </tr>\n",
       "    <tr>\n",
       "      <th rowspan=\"2\" valign=\"top\">Expressive Vocabulary</th>\n",
       "      <th>False</th>\n",
       "      <td>213.0</td>\n",
       "      <td>99.187793</td>\n",
       "      <td>20.937067</td>\n",
       "      <td>0.0</td>\n",
       "      <td>87.00</td>\n",
       "      <td>101.0</td>\n",
       "      <td>114.00</td>\n",
       "      <td>140.0</td>\n",
       "    </tr>\n",
       "    <tr>\n",
       "      <th>True</th>\n",
       "      <td>199.0</td>\n",
       "      <td>95.653266</td>\n",
       "      <td>19.898109</td>\n",
       "      <td>0.0</td>\n",
       "      <td>83.00</td>\n",
       "      <td>96.0</td>\n",
       "      <td>109.00</td>\n",
       "      <td>139.0</td>\n",
       "    </tr>\n",
       "    <tr>\n",
       "      <th rowspan=\"2\" valign=\"top\">Language</th>\n",
       "      <th>False</th>\n",
       "      <td>217.0</td>\n",
       "      <td>91.751152</td>\n",
       "      <td>20.353651</td>\n",
       "      <td>48.0</td>\n",
       "      <td>77.00</td>\n",
       "      <td>94.0</td>\n",
       "      <td>106.00</td>\n",
       "      <td>141.0</td>\n",
       "    </tr>\n",
       "    <tr>\n",
       "      <th>True</th>\n",
       "      <td>211.0</td>\n",
       "      <td>87.895735</td>\n",
       "      <td>20.902689</td>\n",
       "      <td>50.0</td>\n",
       "      <td>73.00</td>\n",
       "      <td>88.0</td>\n",
       "      <td>102.50</td>\n",
       "      <td>163.0</td>\n",
       "    </tr>\n",
       "    <tr>\n",
       "      <th rowspan=\"2\" valign=\"top\">Receptive Language</th>\n",
       "      <th>False</th>\n",
       "      <td>213.0</td>\n",
       "      <td>93.530516</td>\n",
       "      <td>19.047985</td>\n",
       "      <td>50.0</td>\n",
       "      <td>81.00</td>\n",
       "      <td>94.0</td>\n",
       "      <td>108.00</td>\n",
       "      <td>136.0</td>\n",
       "    </tr>\n",
       "    <tr>\n",
       "      <th>True</th>\n",
       "      <td>204.0</td>\n",
       "      <td>89.558824</td>\n",
       "      <td>19.006648</td>\n",
       "      <td>50.0</td>\n",
       "      <td>73.75</td>\n",
       "      <td>90.0</td>\n",
       "      <td>104.25</td>\n",
       "      <td>145.0</td>\n",
       "    </tr>\n",
       "    <tr>\n",
       "      <th rowspan=\"2\" valign=\"top\">Receptive Vocabulary</th>\n",
       "      <th>False</th>\n",
       "      <td>213.0</td>\n",
       "      <td>96.591549</td>\n",
       "      <td>19.805596</td>\n",
       "      <td>0.0</td>\n",
       "      <td>85.00</td>\n",
       "      <td>99.0</td>\n",
       "      <td>110.00</td>\n",
       "      <td>137.0</td>\n",
       "    </tr>\n",
       "    <tr>\n",
       "      <th>True</th>\n",
       "      <td>202.0</td>\n",
       "      <td>94.990099</td>\n",
       "      <td>17.003362</td>\n",
       "      <td>42.0</td>\n",
       "      <td>83.00</td>\n",
       "      <td>97.0</td>\n",
       "      <td>109.00</td>\n",
       "      <td>133.0</td>\n",
       "    </tr>\n",
       "  </tbody>\n",
       "</table>\n",
       "</div>"
      ],
      "text/plain": [
       "                                            count       mean        std   min  \\\n",
       "domain                age_enroll_greater_6                                      \n",
       "Articulation          False                 152.0  88.914474  21.140008   0.0   \n",
       "                      True                  146.0  83.767123  18.324674  40.0   \n",
       "Expressive Language   False                 214.0  90.037383  19.852709  48.0   \n",
       "                      True                  205.0  85.478049  19.205947  45.0   \n",
       "Expressive Vocabulary False                 213.0  99.187793  20.937067   0.0   \n",
       "                      True                  199.0  95.653266  19.898109   0.0   \n",
       "Language              False                 217.0  91.751152  20.353651  48.0   \n",
       "                      True                  211.0  87.895735  20.902689  50.0   \n",
       "Receptive Language    False                 213.0  93.530516  19.047985  50.0   \n",
       "                      True                  204.0  89.558824  19.006648  50.0   \n",
       "Receptive Vocabulary  False                 213.0  96.591549  19.805596   0.0   \n",
       "                      True                  202.0  94.990099  17.003362  42.0   \n",
       "\n",
       "                                              25%    50%     75%    max  \n",
       "domain                age_enroll_greater_6                               \n",
       "Articulation          False                 77.75   92.5  104.25  120.0  \n",
       "                      True                  72.00   84.0   97.00  121.0  \n",
       "Expressive Language   False                 75.00   91.0  104.00  136.0  \n",
       "                      True                  71.00   85.0  100.00  134.0  \n",
       "Expressive Vocabulary False                 87.00  101.0  114.00  140.0  \n",
       "                      True                  83.00   96.0  109.00  139.0  \n",
       "Language              False                 77.00   94.0  106.00  141.0  \n",
       "                      True                  73.00   88.0  102.50  163.0  \n",
       "Receptive Language    False                 81.00   94.0  108.00  136.0  \n",
       "                      True                  73.75   90.0  104.25  145.0  \n",
       "Receptive Vocabulary  False                 85.00   99.0  110.00  137.0  \n",
       "                      True                  83.00   97.0  109.00  133.0  "
      ]
     },
     "execution_count": 44,
     "metadata": {},
     "output_type": "execute_result"
    }
   ],
   "source": [
    "(test_scores.assign(age_enroll_greater_6=test_scores.age_int>6)\n",
    "         .groupby(['domain', 'age_enroll_greater_6'])\n",
    "         .score.describe())"
   ]
  },
  {
   "cell_type": "code",
   "execution_count": 45,
   "metadata": {},
   "outputs": [
    {
     "data": {
      "image/png": "[encoded data removed]",
      "text/plain": [
       "<Figure size 864x360 with 1 Axes>"
      ]
     },
     "metadata": {
      "needs_background": "light"
     },
     "output_type": "display_data"
    }
   ],
   "source": [
    "sns.catplot(\"domain_labels\", y=\"score\", hue='age_enroll_greater_6', data=test_scores.assign(age_enroll_greater_6=test_scores.age_int>6),\n",
    "            kind=\"box\", color='white', fliersize=0)\n",
    "fig = plt.gcf()\n",
    "fig.set_size_inches(12, 5)\n",
    "fig.axes[0].set_xlabel('');"
   ]
  },
  {
   "cell_type": "markdown",
   "metadata": {},
   "source": [
    "(Non-)Profound hearing loss"
   ]
  },
  {
   "cell_type": "code",
   "execution_count": 46,
   "metadata": {},
   "outputs": [
    {
     "data": {
      "text/html": [
       "<div>\n",
       "<style scoped>\n",
       "    .dataframe tbody tr th:only-of-type {\n",
       "        vertical-align: middle;\n",
       "    }\n",
       "\n",
       "    .dataframe tbody tr th {\n",
       "        vertical-align: top;\n",
       "    }\n",
       "\n",
       "    .dataframe thead th {\n",
       "        text-align: right;\n",
       "    }\n",
       "</style>\n",
       "<table border=\"1\" class=\"dataframe\">\n",
       "  <thead>\n",
       "    <tr style=\"text-align: right;\">\n",
       "      <th></th>\n",
       "      <th></th>\n",
       "      <th>count</th>\n",
       "      <th>mean</th>\n",
       "      <th>std</th>\n",
       "      <th>min</th>\n",
       "      <th>25%</th>\n",
       "      <th>50%</th>\n",
       "      <th>75%</th>\n",
       "      <th>max</th>\n",
       "    </tr>\n",
       "    <tr>\n",
       "      <th>domain</th>\n",
       "      <th>profound_hl</th>\n",
       "      <th></th>\n",
       "      <th></th>\n",
       "      <th></th>\n",
       "      <th></th>\n",
       "      <th></th>\n",
       "      <th></th>\n",
       "      <th></th>\n",
       "      <th></th>\n",
       "    </tr>\n",
       "  </thead>\n",
       "  <tbody>\n",
       "    <tr>\n",
       "      <th rowspan=\"2\" valign=\"top\">Articulation</th>\n",
       "      <th>False</th>\n",
       "      <td>147.0</td>\n",
       "      <td>88.414966</td>\n",
       "      <td>18.276733</td>\n",
       "      <td>42.0</td>\n",
       "      <td>75.00</td>\n",
       "      <td>88.0</td>\n",
       "      <td>103.0</td>\n",
       "      <td>120.0</td>\n",
       "    </tr>\n",
       "    <tr>\n",
       "      <th>True</th>\n",
       "      <td>151.0</td>\n",
       "      <td>84.423841</td>\n",
       "      <td>21.321175</td>\n",
       "      <td>0.0</td>\n",
       "      <td>73.50</td>\n",
       "      <td>88.0</td>\n",
       "      <td>100.0</td>\n",
       "      <td>121.0</td>\n",
       "    </tr>\n",
       "    <tr>\n",
       "      <th rowspan=\"2\" valign=\"top\">Expressive Language</th>\n",
       "      <th>False</th>\n",
       "      <td>208.0</td>\n",
       "      <td>92.759615</td>\n",
       "      <td>18.681927</td>\n",
       "      <td>45.0</td>\n",
       "      <td>79.75</td>\n",
       "      <td>93.0</td>\n",
       "      <td>107.0</td>\n",
       "      <td>136.0</td>\n",
       "    </tr>\n",
       "    <tr>\n",
       "      <th>True</th>\n",
       "      <td>211.0</td>\n",
       "      <td>82.924171</td>\n",
       "      <td>19.395236</td>\n",
       "      <td>48.0</td>\n",
       "      <td>69.00</td>\n",
       "      <td>81.0</td>\n",
       "      <td>98.0</td>\n",
       "      <td>131.0</td>\n",
       "    </tr>\n",
       "    <tr>\n",
       "      <th rowspan=\"2\" valign=\"top\">Expressive Vocabulary</th>\n",
       "      <th>False</th>\n",
       "      <td>207.0</td>\n",
       "      <td>100.362319</td>\n",
       "      <td>19.175205</td>\n",
       "      <td>0.0</td>\n",
       "      <td>90.00</td>\n",
       "      <td>102.0</td>\n",
       "      <td>113.5</td>\n",
       "      <td>140.0</td>\n",
       "    </tr>\n",
       "    <tr>\n",
       "      <th>True</th>\n",
       "      <td>205.0</td>\n",
       "      <td>94.570732</td>\n",
       "      <td>21.398899</td>\n",
       "      <td>0.0</td>\n",
       "      <td>83.00</td>\n",
       "      <td>96.0</td>\n",
       "      <td>109.0</td>\n",
       "      <td>140.0</td>\n",
       "    </tr>\n",
       "    <tr>\n",
       "      <th rowspan=\"2\" valign=\"top\">Language</th>\n",
       "      <th>False</th>\n",
       "      <td>215.0</td>\n",
       "      <td>95.516279</td>\n",
       "      <td>19.545501</td>\n",
       "      <td>50.0</td>\n",
       "      <td>81.00</td>\n",
       "      <td>96.0</td>\n",
       "      <td>109.0</td>\n",
       "      <td>163.0</td>\n",
       "    </tr>\n",
       "    <tr>\n",
       "      <th>True</th>\n",
       "      <td>213.0</td>\n",
       "      <td>84.131455</td>\n",
       "      <td>20.281547</td>\n",
       "      <td>48.0</td>\n",
       "      <td>69.00</td>\n",
       "      <td>82.0</td>\n",
       "      <td>100.0</td>\n",
       "      <td>135.0</td>\n",
       "    </tr>\n",
       "    <tr>\n",
       "      <th rowspan=\"2\" valign=\"top\">Receptive Language</th>\n",
       "      <th>False</th>\n",
       "      <td>207.0</td>\n",
       "      <td>96.758454</td>\n",
       "      <td>17.758893</td>\n",
       "      <td>50.0</td>\n",
       "      <td>85.00</td>\n",
       "      <td>98.0</td>\n",
       "      <td>109.5</td>\n",
       "      <td>145.0</td>\n",
       "    </tr>\n",
       "    <tr>\n",
       "      <th>True</th>\n",
       "      <td>210.0</td>\n",
       "      <td>86.490476</td>\n",
       "      <td>19.061532</td>\n",
       "      <td>50.0</td>\n",
       "      <td>72.00</td>\n",
       "      <td>86.0</td>\n",
       "      <td>101.0</td>\n",
       "      <td>133.0</td>\n",
       "    </tr>\n",
       "    <tr>\n",
       "      <th rowspan=\"2\" valign=\"top\">Receptive Vocabulary</th>\n",
       "      <th>False</th>\n",
       "      <td>217.0</td>\n",
       "      <td>98.843318</td>\n",
       "      <td>16.493640</td>\n",
       "      <td>54.0</td>\n",
       "      <td>87.00</td>\n",
       "      <td>101.0</td>\n",
       "      <td>110.0</td>\n",
       "      <td>137.0</td>\n",
       "    </tr>\n",
       "    <tr>\n",
       "      <th>True</th>\n",
       "      <td>198.0</td>\n",
       "      <td>92.489899</td>\n",
       "      <td>19.974283</td>\n",
       "      <td>0.0</td>\n",
       "      <td>81.25</td>\n",
       "      <td>92.0</td>\n",
       "      <td>108.0</td>\n",
       "      <td>133.0</td>\n",
       "    </tr>\n",
       "  </tbody>\n",
       "</table>\n",
       "</div>"
      ],
      "text/plain": [
       "                                   count        mean        std   min    25%  \\\n",
       "domain                profound_hl                                              \n",
       "Articulation          False        147.0   88.414966  18.276733  42.0  75.00   \n",
       "                      True         151.0   84.423841  21.321175   0.0  73.50   \n",
       "Expressive Language   False        208.0   92.759615  18.681927  45.0  79.75   \n",
       "                      True         211.0   82.924171  19.395236  48.0  69.00   \n",
       "Expressive Vocabulary False        207.0  100.362319  19.175205   0.0  90.00   \n",
       "                      True         205.0   94.570732  21.398899   0.0  83.00   \n",
       "Language              False        215.0   95.516279  19.545501  50.0  81.00   \n",
       "                      True         213.0   84.131455  20.281547  48.0  69.00   \n",
       "Receptive Language    False        207.0   96.758454  17.758893  50.0  85.00   \n",
       "                      True         210.0   86.490476  19.061532  50.0  72.00   \n",
       "Receptive Vocabulary  False        217.0   98.843318  16.493640  54.0  87.00   \n",
       "                      True         198.0   92.489899  19.974283   0.0  81.25   \n",
       "\n",
       "                                     50%    75%    max  \n",
       "domain                profound_hl                       \n",
       "Articulation          False         88.0  103.0  120.0  \n",
       "                      True          88.0  100.0  121.0  \n",
       "Expressive Language   False         93.0  107.0  136.0  \n",
       "                      True          81.0   98.0  131.0  \n",
       "Expressive Vocabulary False        102.0  113.5  140.0  \n",
       "                      True          96.0  109.0  140.0  \n",
       "Language              False         96.0  109.0  163.0  \n",
       "                      True          82.0  100.0  135.0  \n",
       "Receptive Language    False         98.0  109.5  145.0  \n",
       "                      True          86.0  101.0  133.0  \n",
       "Receptive Vocabulary  False        101.0  110.0  137.0  \n",
       "                      True          92.0  108.0  133.0  "
      ]
     },
     "execution_count": 46,
     "metadata": {},
     "output_type": "execute_result"
    }
   ],
   "source": [
    "(test_scores.assign(profound_hl=test_scores.degree_hl==6)\n",
    "         .groupby(['domain', 'profound_hl'])\n",
    "         .score.describe())"
   ]
  },
  {
   "cell_type": "code",
   "execution_count": 47,
   "metadata": {},
   "outputs": [
    {
     "data": {
      "image/png": "[encoded data removed]",
      "text/plain": [
       "<Figure size 864x360 with 1 Axes>"
      ]
     },
     "metadata": {
      "needs_background": "light"
     },
     "output_type": "display_data"
    }
   ],
   "source": [
    "sns.catplot(\"domain_labels\", y=\"score\", hue='profound_hl', data=test_scores.assign(profound_hl=test_scores.degree_hl==6),\n",
    "            kind=\"box\", color='white', fliersize=0)\n",
    "fig = plt.gcf()\n",
    "fig.set_size_inches(12, 5)\n",
    "fig.axes[0].set_xlabel('');"
   ]
  },
  {
   "cell_type": "markdown",
   "metadata": {},
   "source": [
    "Parent with(out) hearing loss"
   ]
  },
  {
   "cell_type": "code",
   "execution_count": 48,
   "metadata": {},
   "outputs": [
    {
     "data": {
      "text/html": [
       "<div>\n",
       "<style scoped>\n",
       "    .dataframe tbody tr th:only-of-type {\n",
       "        vertical-align: middle;\n",
       "    }\n",
       "\n",
       "    .dataframe tbody tr th {\n",
       "        vertical-align: top;\n",
       "    }\n",
       "\n",
       "    .dataframe thead th {\n",
       "        text-align: right;\n",
       "    }\n",
       "</style>\n",
       "<table border=\"1\" class=\"dataframe\">\n",
       "  <thead>\n",
       "    <tr style=\"text-align: right;\">\n",
       "      <th></th>\n",
       "      <th></th>\n",
       "      <th>count</th>\n",
       "      <th>mean</th>\n",
       "      <th>std</th>\n",
       "      <th>min</th>\n",
       "      <th>25%</th>\n",
       "      <th>50%</th>\n",
       "      <th>75%</th>\n",
       "      <th>max</th>\n",
       "    </tr>\n",
       "    <tr>\n",
       "      <th>domain</th>\n",
       "      <th>parent_with_hl</th>\n",
       "      <th></th>\n",
       "      <th></th>\n",
       "      <th></th>\n",
       "      <th></th>\n",
       "      <th></th>\n",
       "      <th></th>\n",
       "      <th></th>\n",
       "      <th></th>\n",
       "    </tr>\n",
       "  </thead>\n",
       "  <tbody>\n",
       "    <tr>\n",
       "      <th rowspan=\"2\" valign=\"top\">Articulation</th>\n",
       "      <th>False</th>\n",
       "      <td>283.0</td>\n",
       "      <td>86.593640</td>\n",
       "      <td>19.965419</td>\n",
       "      <td>0.0</td>\n",
       "      <td>74.50</td>\n",
       "      <td>88.0</td>\n",
       "      <td>101.00</td>\n",
       "      <td>121.0</td>\n",
       "    </tr>\n",
       "    <tr>\n",
       "      <th>True</th>\n",
       "      <td>15.0</td>\n",
       "      <td>82.600000</td>\n",
       "      <td>19.834314</td>\n",
       "      <td>40.0</td>\n",
       "      <td>72.00</td>\n",
       "      <td>85.0</td>\n",
       "      <td>99.00</td>\n",
       "      <td>110.0</td>\n",
       "    </tr>\n",
       "    <tr>\n",
       "      <th rowspan=\"2\" valign=\"top\">Expressive Language</th>\n",
       "      <th>False</th>\n",
       "      <td>392.0</td>\n",
       "      <td>87.696429</td>\n",
       "      <td>19.510957</td>\n",
       "      <td>45.0</td>\n",
       "      <td>73.00</td>\n",
       "      <td>87.0</td>\n",
       "      <td>102.00</td>\n",
       "      <td>136.0</td>\n",
       "    </tr>\n",
       "    <tr>\n",
       "      <th>True</th>\n",
       "      <td>27.0</td>\n",
       "      <td>89.407407</td>\n",
       "      <td>21.888281</td>\n",
       "      <td>53.0</td>\n",
       "      <td>74.00</td>\n",
       "      <td>88.0</td>\n",
       "      <td>107.00</td>\n",
       "      <td>131.0</td>\n",
       "    </tr>\n",
       "    <tr>\n",
       "      <th rowspan=\"2\" valign=\"top\">Expressive Vocabulary</th>\n",
       "      <th>False</th>\n",
       "      <td>388.0</td>\n",
       "      <td>97.432990</td>\n",
       "      <td>20.675496</td>\n",
       "      <td>0.0</td>\n",
       "      <td>85.00</td>\n",
       "      <td>98.0</td>\n",
       "      <td>112.00</td>\n",
       "      <td>140.0</td>\n",
       "    </tr>\n",
       "    <tr>\n",
       "      <th>True</th>\n",
       "      <td>24.0</td>\n",
       "      <td>98.250000</td>\n",
       "      <td>17.649363</td>\n",
       "      <td>58.0</td>\n",
       "      <td>85.25</td>\n",
       "      <td>102.5</td>\n",
       "      <td>113.00</td>\n",
       "      <td>124.0</td>\n",
       "    </tr>\n",
       "    <tr>\n",
       "      <th rowspan=\"2\" valign=\"top\">Language</th>\n",
       "      <th>False</th>\n",
       "      <td>402.0</td>\n",
       "      <td>89.843284</td>\n",
       "      <td>20.643701</td>\n",
       "      <td>48.0</td>\n",
       "      <td>75.00</td>\n",
       "      <td>90.0</td>\n",
       "      <td>105.50</td>\n",
       "      <td>163.0</td>\n",
       "    </tr>\n",
       "    <tr>\n",
       "      <th>True</th>\n",
       "      <td>26.0</td>\n",
       "      <td>89.961538</td>\n",
       "      <td>21.849450</td>\n",
       "      <td>50.0</td>\n",
       "      <td>71.25</td>\n",
       "      <td>90.5</td>\n",
       "      <td>109.00</td>\n",
       "      <td>127.0</td>\n",
       "    </tr>\n",
       "    <tr>\n",
       "      <th rowspan=\"2\" valign=\"top\">Receptive Language</th>\n",
       "      <th>False</th>\n",
       "      <td>391.0</td>\n",
       "      <td>91.662404</td>\n",
       "      <td>19.076865</td>\n",
       "      <td>50.0</td>\n",
       "      <td>79.00</td>\n",
       "      <td>92.0</td>\n",
       "      <td>107.00</td>\n",
       "      <td>145.0</td>\n",
       "    </tr>\n",
       "    <tr>\n",
       "      <th>True</th>\n",
       "      <td>26.0</td>\n",
       "      <td>90.461538</td>\n",
       "      <td>19.930340</td>\n",
       "      <td>51.0</td>\n",
       "      <td>75.50</td>\n",
       "      <td>92.0</td>\n",
       "      <td>106.25</td>\n",
       "      <td>124.0</td>\n",
       "    </tr>\n",
       "    <tr>\n",
       "      <th rowspan=\"2\" valign=\"top\">Receptive Vocabulary</th>\n",
       "      <th>False</th>\n",
       "      <td>390.0</td>\n",
       "      <td>95.717949</td>\n",
       "      <td>18.542176</td>\n",
       "      <td>0.0</td>\n",
       "      <td>83.25</td>\n",
       "      <td>98.0</td>\n",
       "      <td>109.00</td>\n",
       "      <td>137.0</td>\n",
       "    </tr>\n",
       "    <tr>\n",
       "      <th>True</th>\n",
       "      <td>25.0</td>\n",
       "      <td>97.280000</td>\n",
       "      <td>17.954851</td>\n",
       "      <td>64.0</td>\n",
       "      <td>86.00</td>\n",
       "      <td>97.0</td>\n",
       "      <td>111.00</td>\n",
       "      <td>124.0</td>\n",
       "    </tr>\n",
       "  </tbody>\n",
       "</table>\n",
       "</div>"
      ],
      "text/plain": [
       "                                      count       mean        std   min  \\\n",
       "domain                parent_with_hl                                      \n",
       "Articulation          False           283.0  86.593640  19.965419   0.0   \n",
       "                      True             15.0  82.600000  19.834314  40.0   \n",
       "Expressive Language   False           392.0  87.696429  19.510957  45.0   \n",
       "                      True             27.0  89.407407  21.888281  53.0   \n",
       "Expressive Vocabulary False           388.0  97.432990  20.675496   0.0   \n",
       "                      True             24.0  98.250000  17.649363  58.0   \n",
       "Language              False           402.0  89.843284  20.643701  48.0   \n",
       "                      True             26.0  89.961538  21.849450  50.0   \n",
       "Receptive Language    False           391.0  91.662404  19.076865  50.0   \n",
       "                      True             26.0  90.461538  19.930340  51.0   \n",
       "Receptive Vocabulary  False           390.0  95.717949  18.542176   0.0   \n",
       "                      True             25.0  97.280000  17.954851  64.0   \n",
       "\n",
       "                                        25%    50%     75%    max  \n",
       "domain                parent_with_hl                               \n",
       "Articulation          False           74.50   88.0  101.00  121.0  \n",
       "                      True            72.00   85.0   99.00  110.0  \n",
       "Expressive Language   False           73.00   87.0  102.00  136.0  \n",
       "                      True            74.00   88.0  107.00  131.0  \n",
       "Expressive Vocabulary False           85.00   98.0  112.00  140.0  \n",
       "                      True            85.25  102.5  113.00  124.0  \n",
       "Language              False           75.00   90.0  105.50  163.0  \n",
       "                      True            71.25   90.5  109.00  127.0  \n",
       "Receptive Language    False           79.00   92.0  107.00  145.0  \n",
       "                      True            75.50   92.0  106.25  124.0  \n",
       "Receptive Vocabulary  False           83.25   98.0  109.00  137.0  \n",
       "                      True            86.00   97.0  111.00  124.0  "
      ]
     },
     "execution_count": 48,
     "metadata": {},
     "output_type": "execute_result"
    }
   ],
   "source": [
    "test_scores.loc[test_scores.parent_hearing_loss=='Unknown', 'parent_hearing_loss'] = np.nan\n",
    "(test_scores.assign(parent_with_hl=test_scores.parent_hearing_loss.isin(['Both parents have hearing loss',\n",
    "                                                                       'Father has hearing loss',\n",
    "                                                                       'Mother has hearing loss']))\n",
    "         .groupby(['domain', 'parent_with_hl'])\n",
    "         .score.describe())"
   ]
  },
  {
   "cell_type": "code",
   "execution_count": 49,
   "metadata": {},
   "outputs": [
    {
     "data": {
      "image/png": "[encoded data removed]",
      "text/plain": [
       "<Figure size 864x360 with 1 Axes>"
      ]
     },
     "metadata": {
      "needs_background": "light"
     },
     "output_type": "display_data"
    }
   ],
   "source": [
    "sns.catplot(\"domain_labels\", y=\"score\", hue='parent_with_hl', \n",
    "            data=test_scores.assign(parent_with_hl=test_scores.parent_hearing_loss.isin(['Both parents have hearing loss',\n",
    "                                                                       'Father has hearing loss',\n",
    "                                                                       'Mother has hearing loss'])),\n",
    "            kind=\"box\", color='white', fliersize=0)\n",
    "fig = plt.gcf()\n",
    "fig.set_size_inches(12, 5)\n",
    "fig.axes[0].set_xlabel('');"
   ]
  },
  {
   "cell_type": "markdown",
   "metadata": {},
   "source": [
    "Mother with(out) college education"
   ]
  },
  {
   "cell_type": "code",
   "execution_count": 50,
   "metadata": {},
   "outputs": [
    {
     "data": {
      "text/html": [
       "<div>\n",
       "<style scoped>\n",
       "    .dataframe tbody tr th:only-of-type {\n",
       "        vertical-align: middle;\n",
       "    }\n",
       "\n",
       "    .dataframe tbody tr th {\n",
       "        vertical-align: top;\n",
       "    }\n",
       "\n",
       "    .dataframe thead th {\n",
       "        text-align: right;\n",
       "    }\n",
       "</style>\n",
       "<table border=\"1\" class=\"dataframe\">\n",
       "  <thead>\n",
       "    <tr style=\"text-align: right;\">\n",
       "      <th></th>\n",
       "      <th></th>\n",
       "      <th>count</th>\n",
       "      <th>mean</th>\n",
       "      <th>std</th>\n",
       "      <th>min</th>\n",
       "      <th>25%</th>\n",
       "      <th>50%</th>\n",
       "      <th>75%</th>\n",
       "      <th>max</th>\n",
       "    </tr>\n",
       "    <tr>\n",
       "      <th>domain</th>\n",
       "      <th>mother_college</th>\n",
       "      <th></th>\n",
       "      <th></th>\n",
       "      <th></th>\n",
       "      <th></th>\n",
       "      <th></th>\n",
       "      <th></th>\n",
       "      <th></th>\n",
       "      <th></th>\n",
       "    </tr>\n",
       "  </thead>\n",
       "  <tbody>\n",
       "    <tr>\n",
       "      <th rowspan=\"2\" valign=\"top\">Articulation</th>\n",
       "      <th>0</th>\n",
       "      <td>157.0</td>\n",
       "      <td>83.235669</td>\n",
       "      <td>20.035590</td>\n",
       "      <td>0.0</td>\n",
       "      <td>69.00</td>\n",
       "      <td>85.0</td>\n",
       "      <td>99.00</td>\n",
       "      <td>118.0</td>\n",
       "    </tr>\n",
       "    <tr>\n",
       "      <th>1</th>\n",
       "      <td>141.0</td>\n",
       "      <td>89.907801</td>\n",
       "      <td>19.312431</td>\n",
       "      <td>0.0</td>\n",
       "      <td>80.00</td>\n",
       "      <td>91.0</td>\n",
       "      <td>104.00</td>\n",
       "      <td>121.0</td>\n",
       "    </tr>\n",
       "    <tr>\n",
       "      <th rowspan=\"2\" valign=\"top\">Expressive Language</th>\n",
       "      <th>0</th>\n",
       "      <td>207.0</td>\n",
       "      <td>80.710145</td>\n",
       "      <td>18.209489</td>\n",
       "      <td>48.0</td>\n",
       "      <td>67.00</td>\n",
       "      <td>79.0</td>\n",
       "      <td>93.00</td>\n",
       "      <td>123.0</td>\n",
       "    </tr>\n",
       "    <tr>\n",
       "      <th>1</th>\n",
       "      <td>212.0</td>\n",
       "      <td>94.735849</td>\n",
       "      <td>18.532053</td>\n",
       "      <td>45.0</td>\n",
       "      <td>83.00</td>\n",
       "      <td>96.0</td>\n",
       "      <td>107.25</td>\n",
       "      <td>136.0</td>\n",
       "    </tr>\n",
       "    <tr>\n",
       "      <th rowspan=\"2\" valign=\"top\">Expressive Vocabulary</th>\n",
       "      <th>0</th>\n",
       "      <td>192.0</td>\n",
       "      <td>91.546875</td>\n",
       "      <td>19.999421</td>\n",
       "      <td>0.0</td>\n",
       "      <td>80.00</td>\n",
       "      <td>93.5</td>\n",
       "      <td>106.00</td>\n",
       "      <td>138.0</td>\n",
       "    </tr>\n",
       "    <tr>\n",
       "      <th>1</th>\n",
       "      <td>220.0</td>\n",
       "      <td>102.659091</td>\n",
       "      <td>19.533069</td>\n",
       "      <td>0.0</td>\n",
       "      <td>91.75</td>\n",
       "      <td>103.0</td>\n",
       "      <td>117.00</td>\n",
       "      <td>140.0</td>\n",
       "    </tr>\n",
       "    <tr>\n",
       "      <th rowspan=\"2\" valign=\"top\">Language</th>\n",
       "      <th>0</th>\n",
       "      <td>208.0</td>\n",
       "      <td>81.879808</td>\n",
       "      <td>19.300822</td>\n",
       "      <td>48.0</td>\n",
       "      <td>68.00</td>\n",
       "      <td>81.0</td>\n",
       "      <td>96.00</td>\n",
       "      <td>130.0</td>\n",
       "    </tr>\n",
       "    <tr>\n",
       "      <th>1</th>\n",
       "      <td>220.0</td>\n",
       "      <td>97.386364</td>\n",
       "      <td>19.113475</td>\n",
       "      <td>50.0</td>\n",
       "      <td>83.75</td>\n",
       "      <td>99.0</td>\n",
       "      <td>110.00</td>\n",
       "      <td>163.0</td>\n",
       "    </tr>\n",
       "    <tr>\n",
       "      <th rowspan=\"2\" valign=\"top\">Receptive Language</th>\n",
       "      <th>0</th>\n",
       "      <td>205.0</td>\n",
       "      <td>84.731707</td>\n",
       "      <td>18.804495</td>\n",
       "      <td>50.0</td>\n",
       "      <td>70.00</td>\n",
       "      <td>85.0</td>\n",
       "      <td>98.00</td>\n",
       "      <td>138.0</td>\n",
       "    </tr>\n",
       "    <tr>\n",
       "      <th>1</th>\n",
       "      <td>212.0</td>\n",
       "      <td>98.216981</td>\n",
       "      <td>16.976150</td>\n",
       "      <td>50.0</td>\n",
       "      <td>87.00</td>\n",
       "      <td>100.0</td>\n",
       "      <td>111.00</td>\n",
       "      <td>145.0</td>\n",
       "    </tr>\n",
       "    <tr>\n",
       "      <th rowspan=\"2\" valign=\"top\">Receptive Vocabulary</th>\n",
       "      <th>0</th>\n",
       "      <td>195.0</td>\n",
       "      <td>89.374359</td>\n",
       "      <td>18.221669</td>\n",
       "      <td>0.0</td>\n",
       "      <td>78.00</td>\n",
       "      <td>89.0</td>\n",
       "      <td>103.50</td>\n",
       "      <td>128.0</td>\n",
       "    </tr>\n",
       "    <tr>\n",
       "      <th>1</th>\n",
       "      <td>220.0</td>\n",
       "      <td>101.518182</td>\n",
       "      <td>16.809288</td>\n",
       "      <td>42.0</td>\n",
       "      <td>90.00</td>\n",
       "      <td>102.0</td>\n",
       "      <td>113.25</td>\n",
       "      <td>137.0</td>\n",
       "    </tr>\n",
       "  </tbody>\n",
       "</table>\n",
       "</div>"
      ],
      "text/plain": [
       "                                      count        mean        std   min  \\\n",
       "domain                mother_college                                       \n",
       "Articulation          0               157.0   83.235669  20.035590   0.0   \n",
       "                      1               141.0   89.907801  19.312431   0.0   \n",
       "Expressive Language   0               207.0   80.710145  18.209489  48.0   \n",
       "                      1               212.0   94.735849  18.532053  45.0   \n",
       "Expressive Vocabulary 0               192.0   91.546875  19.999421   0.0   \n",
       "                      1               220.0  102.659091  19.533069   0.0   \n",
       "Language              0               208.0   81.879808  19.300822  48.0   \n",
       "                      1               220.0   97.386364  19.113475  50.0   \n",
       "Receptive Language    0               205.0   84.731707  18.804495  50.0   \n",
       "                      1               212.0   98.216981  16.976150  50.0   \n",
       "Receptive Vocabulary  0               195.0   89.374359  18.221669   0.0   \n",
       "                      1               220.0  101.518182  16.809288  42.0   \n",
       "\n",
       "                                        25%    50%     75%    max  \n",
       "domain                mother_college                               \n",
       "Articulation          0               69.00   85.0   99.00  118.0  \n",
       "                      1               80.00   91.0  104.00  121.0  \n",
       "Expressive Language   0               67.00   79.0   93.00  123.0  \n",
       "                      1               83.00   96.0  107.25  136.0  \n",
       "Expressive Vocabulary 0               80.00   93.5  106.00  138.0  \n",
       "                      1               91.75  103.0  117.00  140.0  \n",
       "Language              0               68.00   81.0   96.00  130.0  \n",
       "                      1               83.75   99.0  110.00  163.0  \n",
       "Receptive Language    0               70.00   85.0   98.00  138.0  \n",
       "                      1               87.00  100.0  111.00  145.0  \n",
       "Receptive Vocabulary  0               78.00   89.0  103.50  128.0  \n",
       "                      1               90.00  102.0  113.25  137.0  "
      ]
     },
     "execution_count": 50,
     "metadata": {},
     "output_type": "execute_result"
    }
   ],
   "source": [
    "test_scores.groupby(['domain', 'mother_college']).score.describe()"
   ]
  },
  {
   "cell_type": "code",
   "execution_count": 51,
   "metadata": {},
   "outputs": [
    {
     "data": {
      "image/png": "[encoded data removed]",
      "text/plain": [
       "<Figure size 864x360 with 1 Axes>"
      ]
     },
     "metadata": {
      "needs_background": "light"
     },
     "output_type": "display_data"
    }
   ],
   "source": [
    "sns.catplot(\"domain_labels\", y=\"score\", hue='mother_college', data=test_scores,\n",
    "            kind=\"box\", color='white', fliersize=0)\n",
    "fig = plt.gcf()\n",
    "fig.set_size_inches(12, 5)\n",
    "fig.axes[0].set_xlabel('');"
   ]
  }
 ],
 "metadata": {
  "kernelspec": {
   "display_name": "Python 3",
   "language": "python",
   "name": "python3"
  },
  "language_info": {
   "codemirror_mode": {
    "name": "ipython",
    "version": 3
   },
   "file_extension": ".py",
   "mimetype": "text/x-python",
   "name": "python",
   "nbconvert_exporter": "python",
   "pygments_lexer": "ipython3",
   "version": "3.7.3"
  }
 },
 "nbformat": 4,
 "nbformat_minor": 2
}
