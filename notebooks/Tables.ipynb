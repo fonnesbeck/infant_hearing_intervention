{
 "cells": [
  {
   "cell_type": "code",
   "execution_count": 1,
   "metadata": {},
   "outputs": [],
   "source": [
    "# Import modules and set options\n",
    "%matplotlib inline\n",
    "import matplotlib.pyplot as plt\n",
    "import pandas as pd\n",
    "import numpy as np\n",
    "import seaborn as sns\n",
    "\n",
    "sns.set(context='notebook', style='ticks')"
   ]
  },
  {
   "cell_type": "code",
   "execution_count": 2,
   "metadata": {},
   "outputs": [],
   "source": [
    "lsl_dr = (pd.read_csv('../data/clean/lsl_dr.csv', index_col=0, low_memory=False)\n",
    "                  .rename({'onset_1':'identify_mo'}, axis=1))"
   ]
  },
  {
   "cell_type": "code",
   "execution_count": 3,
   "metadata": {},
   "outputs": [
    {
     "data": {
      "text/plain": [
       "(59792, 246)"
      ]
     },
     "execution_count": 3,
     "metadata": {},
     "output_type": "execute_result"
    }
   ],
   "source": [
    "lsl_dr.shape"
   ]
  },
  {
   "cell_type": "markdown",
   "metadata": {},
   "source": [
    "Exclusions"
   ]
  },
  {
   "cell_type": "code",
   "execution_count": 4,
   "metadata": {},
   "outputs": [],
   "source": [
    "other_etiology = (lsl_dr[['etiology_3___2', 'etiology_3___4', 'etiology_3___5', 'etiology_3___6', 'etiology_3___9',\n",
    "       'etiology_oth___1', 'etiology_oth___3', 'etiology_oth___4', 'etiology_oth___8', 'etiology_oth___9']]\n",
    "                      .sum(1).astype(bool))"
   ]
  },
  {
   "cell_type": "code",
   "execution_count": 5,
   "metadata": {},
   "outputs": [],
   "source": [
    "inclusion_mask = (~lsl_dr.non_english.astype(bool) \n",
    "                  & (lsl_dr.hl==0)\n",
    "                  & ((lsl_dr.etiology_2==0)\n",
    "                  | (lsl_dr.etiology_2.isnull() & ~other_etiology)))"
   ]
  },
  {
   "cell_type": "code",
   "execution_count": 6,
   "metadata": {},
   "outputs": [
    {
     "data": {
      "text/plain": [
       "(1264, 246)"
      ]
     },
     "execution_count": 6,
     "metadata": {},
     "output_type": "execute_result"
    }
   ],
   "source": [
    "inclusions = lsl_dr[inclusion_mask]\n",
    "inclusions.drop_duplicates(subset='study_id').shape"
   ]
  },
  {
   "cell_type": "code",
   "execution_count": 7,
   "metadata": {},
   "outputs": [],
   "source": [
    "age_mask = (lsl_dr.age_test>=48) & (lsl_dr.age_test<60)"
   ]
  },
  {
   "cell_type": "code",
   "execution_count": 9,
   "metadata": {},
   "outputs": [
    {
     "data": {
      "text/plain": [
       "(2427, 246)"
      ]
     },
     "execution_count": 9,
     "metadata": {},
     "output_type": "execute_result"
    }
   ],
   "source": [
    "lsl_dr[age_mask].drop_duplicates(subset='study_id').shape"
   ]
  },
  {
   "cell_type": "code",
   "execution_count": 13,
   "metadata": {},
   "outputs": [
    {
     "name": "stderr",
     "output_type": "stream",
     "text": [
      "/Users/fonnescj/anaconda3/envs/dev/lib/python3.6/site-packages/ipykernel_launcher.py:1: UserWarning: Boolean Series key will be reindexed to match DataFrame index.\n",
      "  \"\"\"Entry point for launching an IPython kernel.\n"
     ]
    }
   ],
   "source": [
    "data_4yo = inclusions[age_mask].copy()"
   ]
  },
  {
   "cell_type": "code",
   "execution_count": 14,
   "metadata": {},
   "outputs": [
    {
     "data": {
      "text/plain": [
       "(2754, 246)"
      ]
     },
     "execution_count": 14,
     "metadata": {},
     "output_type": "execute_result"
    }
   ],
   "source": [
    "data_4yo.shape"
   ]
  },
  {
   "cell_type": "markdown",
   "metadata": {},
   "source": [
    "## Demographics"
   ]
  },
  {
   "cell_type": "code",
   "execution_count": 15,
   "metadata": {},
   "outputs": [
    {
     "data": {
      "text/plain": [
       "Male      1392\n",
       "Female    1362\n",
       "Name: male, dtype: int64"
      ]
     },
     "execution_count": 15,
     "metadata": {},
     "output_type": "execute_result"
    }
   ],
   "source": [
    "data_4yo.male.replace({1: 'Male', 0: 'Female', np.nan: 'Missing'}).value_counts()"
   ]
  },
  {
   "cell_type": "code",
   "execution_count": 16,
   "metadata": {},
   "outputs": [
    {
     "data": {
      "text/plain": [
       "White       1813\n",
       "Black        315\n",
       "Hispanic     264\n",
       "Other        206\n",
       "Asian        135\n",
       "Missing       21\n",
       "Name: race, dtype: int64"
      ]
     },
     "execution_count": 16,
     "metadata": {},
     "output_type": "execute_result"
    }
   ],
   "source": [
    "data_4yo.race.replace({0:'White', 1:'Black', 2:'Hispanic', 3:'Asian', 4:'Other', np.nan:'Missing'}).value_counts()"
   ]
  },
  {
   "cell_type": "code",
   "execution_count": 17,
   "metadata": {},
   "outputs": [
    {
     "data": {
      "text/plain": [
       ">=36 weeks    2050\n",
       "<36 weeks      704\n",
       "Name: premature_age, dtype: int64"
      ]
     },
     "execution_count": 17,
     "metadata": {},
     "output_type": "execute_result"
    }
   ],
   "source": [
    "(data_4yo.premature_age.replace({9:None})==8).replace({True: '>=36 weeks', False: '<36 weeks', \n",
    "                                                            np.nan: 'Unknown'}).value_counts()"
   ]
  },
  {
   "cell_type": "code",
   "execution_count": 18,
   "metadata": {},
   "outputs": [
    {
     "data": {
      "text/plain": [
       "1           632\n",
       "2          1083\n",
       "3           590\n",
       "4+          341\n",
       "Missing     108\n",
       "Name: sib, dtype: int64"
      ]
     },
     "execution_count": 18,
     "metadata": {},
     "output_type": "execute_result"
    }
   ],
   "source": [
    "data_4yo.sib.replace({0:'1', 1:'2', 2:'3', 3:'4+', np.nan:'Missing'}).value_counts().sort_index()"
   ]
  },
  {
   "cell_type": "code",
   "execution_count": 19,
   "metadata": {},
   "outputs": [
    {
     "data": {
      "text/plain": [
       "High school diploma/GED    854\n",
       "Some high school           707\n",
       "Unknown                    649\n",
       "Some college               479\n",
       "8th grade or less           65\n",
       "Name: mother_ed, dtype: int64"
      ]
     },
     "execution_count": 19,
     "metadata": {},
     "output_type": "execute_result"
    }
   ],
   "source": [
    "ed_lookup = {0:\"8th grade or less\",\n",
    "1:\"Some high school\",\n",
    "2:\"High school diploma/GED\",\n",
    "3:\"Some college\",\n",
    "4:\"Bachelor's degree\",\n",
    "5:\"Post graduate degree\",\n",
    "6:\"Unknown\",\n",
    "np.nan:\"Unknown\"}\n",
    "\n",
    "data_4yo.mother_ed.replace(ed_lookup).value_counts()"
   ]
  },
  {
   "cell_type": "code",
   "execution_count": 20,
   "metadata": {},
   "outputs": [
    {
     "data": {
      "text/plain": [
       "Unknown                    806\n",
       "Bachelor's degree          640\n",
       "Some college               490\n",
       "Post graduate degree       434\n",
       "High school diploma/GED    329\n",
       "Some high school            55\n",
       "Name: father_ed, dtype: int64"
      ]
     },
     "execution_count": 20,
     "metadata": {},
     "output_type": "execute_result"
    }
   ],
   "source": [
    "data_4yo.father_ed.replace(ed_lookup).value_counts()"
   ]
  },
  {
   "cell_type": "code",
   "execution_count": 21,
   "metadata": {},
   "outputs": [
    {
     "data": {
      "text/plain": [
       "Ideal Participation      955\n",
       "Good Participation       599\n",
       "Average Participation    565\n",
       "Missing                  366\n",
       "Below Average            217\n",
       "Limited Participation     52\n",
       "Name: family_inv, dtype: int64"
      ]
     },
     "execution_count": 21,
     "metadata": {},
     "output_type": "execute_result"
    }
   ],
   "source": [
    "family_lookup = {0:\"Ideal Participation\",\n",
    "1:\"Good Participation\",\n",
    "2:\"Average Participation\",\n",
    "3:\"Below Average\",\n",
    "4:\"Limited Participation\",\n",
    "np.nan:\"Missing\"}\n",
    "\n",
    "data_4yo.family_inv.replace(family_lookup).value_counts()"
   ]
  },
  {
   "cell_type": "code",
   "execution_count": 22,
   "metadata": {},
   "outputs": [
    {
     "data": {
      "text/html": [
       "<div>\n",
       "<style scoped>\n",
       "    .dataframe tbody tr th:only-of-type {\n",
       "        vertical-align: middle;\n",
       "    }\n",
       "\n",
       "    .dataframe tbody tr th {\n",
       "        vertical-align: top;\n",
       "    }\n",
       "\n",
       "    .dataframe thead th {\n",
       "        text-align: right;\n",
       "    }\n",
       "</style>\n",
       "<table border=\"1\" class=\"dataframe\">\n",
       "  <thead>\n",
       "    <tr style=\"text-align: right;\">\n",
       "      <th></th>\n",
       "      <th>age_diag</th>\n",
       "      <th>age_amp</th>\n",
       "      <th>age_int</th>\n",
       "      <th>age</th>\n",
       "    </tr>\n",
       "  </thead>\n",
       "  <tbody>\n",
       "    <tr>\n",
       "      <th>count</th>\n",
       "      <td>2260.000000</td>\n",
       "      <td>2222.000000</td>\n",
       "      <td>2014.000000</td>\n",
       "      <td>2731.000000</td>\n",
       "    </tr>\n",
       "    <tr>\n",
       "      <th>mean</th>\n",
       "      <td>8.776549</td>\n",
       "      <td>13.544554</td>\n",
       "      <td>14.683714</td>\n",
       "      <td>23.627609</td>\n",
       "    </tr>\n",
       "    <tr>\n",
       "      <th>std</th>\n",
       "      <td>12.319573</td>\n",
       "      <td>13.311952</td>\n",
       "      <td>13.250829</td>\n",
       "      <td>15.624746</td>\n",
       "    </tr>\n",
       "    <tr>\n",
       "      <th>min</th>\n",
       "      <td>0.000000</td>\n",
       "      <td>0.000000</td>\n",
       "      <td>0.000000</td>\n",
       "      <td>0.000000</td>\n",
       "    </tr>\n",
       "    <tr>\n",
       "      <th>25%</th>\n",
       "      <td>1.000000</td>\n",
       "      <td>3.000000</td>\n",
       "      <td>4.000000</td>\n",
       "      <td>9.000000</td>\n",
       "    </tr>\n",
       "    <tr>\n",
       "      <th>50%</th>\n",
       "      <td>3.000000</td>\n",
       "      <td>8.000000</td>\n",
       "      <td>10.000000</td>\n",
       "      <td>23.000000</td>\n",
       "    </tr>\n",
       "    <tr>\n",
       "      <th>75%</th>\n",
       "      <td>14.000000</td>\n",
       "      <td>21.000000</td>\n",
       "      <td>22.750000</td>\n",
       "      <td>36.000000</td>\n",
       "    </tr>\n",
       "    <tr>\n",
       "      <th>max</th>\n",
       "      <td>55.000000</td>\n",
       "      <td>65.000000</td>\n",
       "      <td>60.000000</td>\n",
       "      <td>73.000000</td>\n",
       "    </tr>\n",
       "  </tbody>\n",
       "</table>\n",
       "</div>"
      ],
      "text/plain": [
       "          age_diag      age_amp      age_int          age\n",
       "count  2260.000000  2222.000000  2014.000000  2731.000000\n",
       "mean      8.776549    13.544554    14.683714    23.627609\n",
       "std      12.319573    13.311952    13.250829    15.624746\n",
       "min       0.000000     0.000000     0.000000     0.000000\n",
       "25%       1.000000     3.000000     4.000000     9.000000\n",
       "50%       3.000000     8.000000    10.000000    23.000000\n",
       "75%      14.000000    21.000000    22.750000    36.000000\n",
       "max      55.000000    65.000000    60.000000    73.000000"
      ]
     },
     "execution_count": 22,
     "metadata": {},
     "output_type": "execute_result"
    }
   ],
   "source": [
    "data_4yo[[\"age_diag\", \"age_amp\", \"age_int\", \"age\"]].describe()"
   ]
  },
  {
   "cell_type": "code",
   "execution_count": 23,
   "metadata": {},
   "outputs": [
    {
     "data": {
      "text/plain": [
       "OPTION only         1141\n",
       "Missing              311\n",
       "OPTION + outside     301\n",
       "Name: otherserv, dtype: int64"
      ]
     },
     "execution_count": 23,
     "metadata": {},
     "output_type": "execute_result"
    }
   ],
   "source": [
    "data_4yo.otherserv.replace({0: \"OPTION + outside\", 1: \"OPTION only\", 2: \"Missing\"}).value_counts()"
   ]
  },
  {
   "cell_type": "markdown",
   "metadata": {},
   "source": [
    "## Hearing loss"
   ]
  },
  {
   "cell_type": "code",
   "execution_count": 24,
   "metadata": {},
   "outputs": [
    {
     "data": {
      "text/plain": [
       "42"
      ]
     },
     "execution_count": 24,
     "metadata": {},
     "output_type": "execute_result"
    }
   ],
   "source": [
    "data_4yo.degree_hl_ad.isnull().sum()"
   ]
  },
  {
   "cell_type": "code",
   "execution_count": 25,
   "metadata": {},
   "outputs": [
    {
     "data": {
      "text/plain": [
       "54"
      ]
     },
     "execution_count": 25,
     "metadata": {},
     "output_type": "execute_result"
    }
   ],
   "source": [
    "data_4yo.degree_hl_as.isnull().sum()"
   ]
  },
  {
   "cell_type": "code",
   "execution_count": 26,
   "metadata": {},
   "outputs": [
    {
     "data": {
      "text/plain": [
       "6.0    1187\n",
       "4.0     438\n",
       "5.0     405\n",
       "3.0     378\n",
       "2.0     215\n",
       "0.0      52\n",
       "1.0      37\n",
       "Name: degree_hl_ad, dtype: int64"
      ]
     },
     "execution_count": 26,
     "metadata": {},
     "output_type": "execute_result"
    }
   ],
   "source": [
    "data_4yo.degree_hl_ad.value_counts()"
   ]
  },
  {
   "cell_type": "code",
   "execution_count": 27,
   "metadata": {},
   "outputs": [
    {
     "data": {
      "text/plain": [
       "6.0    1211\n",
       "4.0     458\n",
       "3.0     410\n",
       "5.0     339\n",
       "2.0     149\n",
       "0.0      83\n",
       "1.0      50\n",
       "Name: degree_hl_as, dtype: int64"
      ]
     },
     "execution_count": 27,
     "metadata": {},
     "output_type": "execute_result"
    }
   ],
   "source": [
    "data_4yo.degree_hl_as.value_counts()"
   ]
  },
  {
   "cell_type": "code",
   "execution_count": 28,
   "metadata": {},
   "outputs": [],
   "source": [
    "hl_data = data_4yo.set_index('study_id')[['bilateral_snhl',\n",
    "                     'bilateral_ansd',\n",
    "                     'bilateral_mixed',\n",
    "                     'bilateral_cond',\n",
    "                     'bilateral_normal',\n",
    "                     'bilateral_unk',\n",
    "                     'unilateral_snhl',\n",
    "                     'unilateral_ansd',\n",
    "                     'unilateral_mixed',\n",
    "                     'unilateral_cond',\n",
    "                     'unilateral_unk',\n",
    "                     'assymetrical']]"
   ]
  },
  {
   "cell_type": "markdown",
   "metadata": {},
   "source": [
    "One or both parents with hearing loss"
   ]
  },
  {
   "cell_type": "code",
   "execution_count": 29,
   "metadata": {},
   "outputs": [
    {
     "data": {
      "text/plain": [
       "0.0    1967\n",
       "1.0     147\n",
       "Name: one_or_both_parent_hl, dtype: int64"
      ]
     },
     "execution_count": 29,
     "metadata": {},
     "output_type": "execute_result"
    }
   ],
   "source": [
    "data_4yo.one_or_both_parent_hl.value_counts()"
   ]
  },
  {
   "cell_type": "code",
   "execution_count": 30,
   "metadata": {},
   "outputs": [
    {
     "data": {
      "text/plain": [
       "640"
      ]
     },
     "execution_count": 30,
     "metadata": {},
     "output_type": "execute_result"
    }
   ],
   "source": [
    "data_4yo.one_or_both_parent_hl.isnull().sum()"
   ]
  },
  {
   "cell_type": "markdown",
   "metadata": {},
   "source": [
    "Individuals with no hearing loss type"
   ]
  },
  {
   "cell_type": "code",
   "execution_count": 31,
   "metadata": {},
   "outputs": [
    {
     "data": {
      "text/plain": [
       "array(['1045-2010-0056', '1045-2010-0056', '1045-2010-0056',\n",
       "       '1045-2010-0056', '1045-2010-0056', '1149-2008-0008',\n",
       "       '1149-2008-0019', '1149-2008-0019', '0938-2014-0019',\n",
       "       '0938-2014-0019', '0938-2014-0019', '0205-2015-0005',\n",
       "       '0205-2014-0006', '0205-2014-0006', '0205-2014-0006',\n",
       "       '1149-2010-0052', '1149-2010-0052', '1149-2010-0052',\n",
       "       '1149-2010-0052', '1149-2010-0052', '1149-2010-0046',\n",
       "       '1149-2010-0046', '1149-2010-0046', '1149-2010-0046',\n",
       "       '1149-2010-0046', '1149-2010-0046', '1149-2010-0034',\n",
       "       '1149-2010-0034', '1149-2010-0034', '1149-2010-0034',\n",
       "       '1149-2010-0034', '1149-2010-0034', '1149-2009-0038',\n",
       "       '1149-2009-0038', '1149-2009-0038', '0938-2010-0017',\n",
       "       '0938-2010-0017', '0938-2010-0017', '0938-2010-0017',\n",
       "       '0938-2010-0017', '0938-2010-0017', '0938-2009-0013',\n",
       "       '0101-2013-0101', '0101-2013-0101', '0101-2013-0101',\n",
       "       '0101-2013-0101', '0205-2014-0006', '0205-2014-0006',\n",
       "       '0205-2014-0006', '0205-2015-0008', '0205-2015-0008',\n",
       "       '0205-2015-0008', '0205-2015-0008', '0205-2015-0008',\n",
       "       '0938-2010-0017', '0938-2010-0017', '0938-2010-0017',\n",
       "       '1149-2008-0043', '1149-2008-0012', '1149-2008-0012',\n",
       "       '1149-2008-0012', '1149-2008-0012', '1149-2008-0012',\n",
       "       '1149-2008-0012'], dtype=object)"
      ]
     },
     "execution_count": 31,
     "metadata": {},
     "output_type": "execute_result"
    }
   ],
   "source": [
    "hl_data[hl_data.sum(1)==0].index.values"
   ]
  },
  {
   "cell_type": "code",
   "execution_count": 32,
   "metadata": {},
   "outputs": [
    {
     "data": {
      "text/plain": [
       "bilateral_snhl      2069\n",
       "bilateral_cond       160\n",
       "bilateral_ansd       112\n",
       "assymetrical          98\n",
       "bilateral_mixed       92\n",
       "unilateral_snhl       77\n",
       "unilateral_cond       54\n",
       "unilateral_mixed      13\n",
       "unilateral_ansd        9\n",
       "bilateral_normal       6\n",
       "unilateral_unk         0\n",
       "bilateral_unk          0\n",
       "dtype: int64"
      ]
     },
     "execution_count": 32,
     "metadata": {},
     "output_type": "execute_result"
    }
   ],
   "source": [
    "hl_data.sum().astype(int).sort_values(ascending=False)"
   ]
  },
  {
   "cell_type": "code",
   "execution_count": 33,
   "metadata": {},
   "outputs": [
    {
     "data": {
      "text/plain": [
       "bilateral_snhl      0.75\n",
       "bilateral_cond      0.06\n",
       "assymetrical        0.04\n",
       "bilateral_ansd      0.04\n",
       "unilateral_snhl     0.03\n",
       "bilateral_mixed     0.03\n",
       "unilateral_cond     0.02\n",
       "unilateral_unk      0.00\n",
       "unilateral_mixed    0.00\n",
       "unilateral_ansd     0.00\n",
       "bilateral_unk       0.00\n",
       "bilateral_normal    0.00\n",
       "dtype: float64"
      ]
     },
     "execution_count": 33,
     "metadata": {},
     "output_type": "execute_result"
    }
   ],
   "source": [
    "hl_data.mean().round(2).sort_values(ascending=False)"
   ]
  },
  {
   "cell_type": "code",
   "execution_count": 34,
   "metadata": {},
   "outputs": [],
   "source": [
    "tech_data = data_4yo.set_index('study_id')[['bilateral_ha',\n",
    "                     'bilateral_ci',\n",
    "                     'bimodal',\n",
    "                     'bilateral_other',\n",
    "                     'unilateral_ha',\n",
    "                     'unilateral_ci',\n",
    "                     'unilateral_other']]"
   ]
  },
  {
   "cell_type": "code",
   "execution_count": 35,
   "metadata": {},
   "outputs": [
    {
     "data": {
      "text/plain": [
       "bilateral_ci        1905\n",
       "bilateral_ha         554\n",
       "bimodal              182\n",
       "unilateral_ha         53\n",
       "unilateral_ci         45\n",
       "bilateral_other        4\n",
       "unilateral_other       0\n",
       "dtype: int64"
      ]
     },
     "execution_count": 35,
     "metadata": {},
     "output_type": "execute_result"
    }
   ],
   "source": [
    "tech_data.sum().astype(int).sort_values(ascending=False)"
   ]
  },
  {
   "cell_type": "code",
   "execution_count": 36,
   "metadata": {},
   "outputs": [
    {
     "data": {
      "text/plain": [
       "bilateral_ci        0.69\n",
       "bilateral_ha        0.20\n",
       "bimodal             0.07\n",
       "unilateral_ci       0.02\n",
       "unilateral_ha       0.02\n",
       "unilateral_other    0.00\n",
       "bilateral_other     0.00\n",
       "dtype: float64"
      ]
     },
     "execution_count": 36,
     "metadata": {},
     "output_type": "execute_result"
    }
   ],
   "source": [
    "tech_data.mean().round(2).sort_values(ascending=False)"
   ]
  },
  {
   "cell_type": "markdown",
   "metadata": {},
   "source": [
    "Individuals with no technology type"
   ]
  },
  {
   "cell_type": "code",
   "execution_count": 37,
   "metadata": {},
   "outputs": [
    {
     "data": {
      "text/plain": [
       "array(['0523-2015-0002', '0523-2015-0002', '0523-2015-0002',\n",
       "       '0412-2002-0068', '0412-2002-0068', '0412-2003-0060',\n",
       "       '0412-2003-0060', '0412-2003-0060', '0412-2003-0060',\n",
       "       '0412-2003-0060', '0412-2003-0060'], dtype=object)"
      ]
     },
     "execution_count": 37,
     "metadata": {},
     "output_type": "execute_result"
    }
   ],
   "source": [
    "tech_data[tech_data.sum(1)==0].index.values"
   ]
  },
  {
   "cell_type": "markdown",
   "metadata": {},
   "source": [
    "## Hearing Loss"
   ]
  },
  {
   "cell_type": "code",
   "execution_count": 38,
   "metadata": {},
   "outputs": [
    {
     "data": {
      "text/plain": [
       "Index(['degree_hl_ad', 'type_hl_ad', 'degree_hl_as', 'type_hl_as',\n",
       "       'bilateral_hl_normal', 'bilateral_hl_slight', 'bilateral_hl_mild',\n",
       "       'bilateral_hl_moderate', 'bilateral_hl_modsev', 'bilateral_hl_severe',\n",
       "       'bilateral_hl_profound', 'unilateral_hl_slight', 'unilateral_hl_mild',\n",
       "       'unilateral_hl_moderate', 'unilateral_hl_modsev',\n",
       "       'unilateral_hl_severe', 'unilateral_hl_profound'],\n",
       "      dtype='object')"
      ]
     },
     "execution_count": 38,
     "metadata": {},
     "output_type": "execute_result"
    }
   ],
   "source": [
    "data_4yo.columns[data_4yo.columns.str.contains('_hl_')]"
   ]
  },
  {
   "cell_type": "code",
   "execution_count": 39,
   "metadata": {},
   "outputs": [],
   "source": [
    "hl_data = data_4yo.set_index('study_id')[['bilateral_hl_normal', 'bilateral_hl_slight', 'bilateral_hl_mild',\n",
    "       'bilateral_hl_moderate', 'bilateral_hl_modsev', 'bilateral_hl_severe',\n",
    "       'bilateral_hl_profound', 'unilateral_hl_slight', 'unilateral_hl_mild',\n",
    "       'unilateral_hl_moderate', 'unilateral_hl_modsev',\n",
    "       'unilateral_hl_severe', 'unilateral_hl_profound']]"
   ]
  },
  {
   "cell_type": "code",
   "execution_count": 40,
   "metadata": {},
   "outputs": [
    {
     "data": {
      "text/plain": [
       "bilateral_hl_profound     1009\n",
       "bilateral_hl_modsev        294\n",
       "bilateral_hl_moderate      264\n",
       "bilateral_hl_severe        194\n",
       "bilateral_hl_mild           95\n",
       "unilateral_hl_profound      39\n",
       "unilateral_hl_severe        29\n",
       "unilateral_hl_mild          29\n",
       "unilateral_hl_modsev        27\n",
       "bilateral_hl_slight         12\n",
       "unilateral_hl_slight         6\n",
       "unilateral_hl_moderate       5\n",
       "bilateral_hl_normal          0\n",
       "dtype: int64"
      ]
     },
     "execution_count": 40,
     "metadata": {},
     "output_type": "execute_result"
    }
   ],
   "source": [
    "hl_data.sum().astype(int).sort_values(ascending=False)"
   ]
  },
  {
   "cell_type": "code",
   "execution_count": 41,
   "metadata": {},
   "outputs": [
    {
     "data": {
      "text/plain": [
       "bilateral_hl_profound     0.37\n",
       "bilateral_hl_modsev       0.11\n",
       "bilateral_hl_moderate     0.10\n",
       "bilateral_hl_severe       0.07\n",
       "bilateral_hl_mild         0.03\n",
       "unilateral_hl_profound    0.01\n",
       "unilateral_hl_severe      0.01\n",
       "unilateral_hl_modsev      0.01\n",
       "unilateral_hl_mild        0.01\n",
       "unilateral_hl_moderate    0.00\n",
       "unilateral_hl_slight      0.00\n",
       "bilateral_hl_slight       0.00\n",
       "bilateral_hl_normal       0.00\n",
       "dtype: float64"
      ]
     },
     "execution_count": 41,
     "metadata": {},
     "output_type": "execute_result"
    }
   ],
   "source": [
    "hl_data.mean().round(2).sort_values(ascending=False)"
   ]
  },
  {
   "cell_type": "markdown",
   "metadata": {},
   "source": [
    "Missing one or both hearing loss values (left/right)"
   ]
  },
  {
   "cell_type": "code",
   "execution_count": 42,
   "metadata": {},
   "outputs": [
    {
     "data": {
      "text/plain": [
       "54"
      ]
     },
     "execution_count": 42,
     "metadata": {},
     "output_type": "execute_result"
    }
   ],
   "source": [
    "(data_4yo[['degree_hl_ad', 'degree_hl_as']].isnull().sum(1) > 0).sum()"
   ]
  },
  {
   "cell_type": "markdown",
   "metadata": {},
   "source": [
    "## Summary of scores by domain"
   ]
  },
  {
   "cell_type": "code",
   "execution_count": 43,
   "metadata": {},
   "outputs": [
    {
     "name": "stderr",
     "output_type": "stream",
     "text": [
      "/Users/fonnescj/anaconda3/envs/dev/lib/python3.6/site-packages/ipykernel_launcher.py:1: UserWarning: Boolean Series key will be reindexed to match DataFrame index.\n",
      "  \"\"\"Entry point for launching an IPython kernel.\n"
     ]
    }
   ],
   "source": [
    "test_scores = inclusions[age_mask].copy()"
   ]
  },
  {
   "cell_type": "code",
   "execution_count": 44,
   "metadata": {},
   "outputs": [],
   "source": [
    "test_scores.loc[(test_scores.domain=='Language') & (test_scores.test_type=='receptive'), \n",
    "           'domain'] = 'Receptive Language'\n",
    "test_scores.loc[(test_scores.domain=='Language') & (test_scores.test_type=='expressive'), \n",
    "           'domain'] = 'Expressive Language'"
   ]
  },
  {
   "cell_type": "code",
   "execution_count": 45,
   "metadata": {},
   "outputs": [
    {
     "data": {
      "text/html": [
       "<div>\n",
       "<style scoped>\n",
       "    .dataframe tbody tr th:only-of-type {\n",
       "        vertical-align: middle;\n",
       "    }\n",
       "\n",
       "    .dataframe tbody tr th {\n",
       "        vertical-align: top;\n",
       "    }\n",
       "\n",
       "    .dataframe thead th {\n",
       "        text-align: right;\n",
       "    }\n",
       "</style>\n",
       "<table border=\"1\" class=\"dataframe\">\n",
       "  <thead>\n",
       "    <tr style=\"text-align: right;\">\n",
       "      <th></th>\n",
       "      <th>count</th>\n",
       "      <th>mean</th>\n",
       "      <th>std</th>\n",
       "      <th>min</th>\n",
       "      <th>25%</th>\n",
       "      <th>50%</th>\n",
       "      <th>75%</th>\n",
       "      <th>max</th>\n",
       "    </tr>\n",
       "    <tr>\n",
       "      <th>domain</th>\n",
       "      <th></th>\n",
       "      <th></th>\n",
       "      <th></th>\n",
       "      <th></th>\n",
       "      <th></th>\n",
       "      <th></th>\n",
       "      <th></th>\n",
       "      <th></th>\n",
       "    </tr>\n",
       "  </thead>\n",
       "  <tbody>\n",
       "    <tr>\n",
       "      <th>Articulation</th>\n",
       "      <td>355.0</td>\n",
       "      <td>85.6</td>\n",
       "      <td>20.3</td>\n",
       "      <td>0.0</td>\n",
       "      <td>72.0</td>\n",
       "      <td>88.0</td>\n",
       "      <td>101.0</td>\n",
       "      <td>121.0</td>\n",
       "    </tr>\n",
       "    <tr>\n",
       "      <th>Expressive Language</th>\n",
       "      <td>483.0</td>\n",
       "      <td>86.8</td>\n",
       "      <td>20.2</td>\n",
       "      <td>45.0</td>\n",
       "      <td>73.0</td>\n",
       "      <td>86.0</td>\n",
       "      <td>102.0</td>\n",
       "      <td>136.0</td>\n",
       "    </tr>\n",
       "    <tr>\n",
       "      <th>Expressive Vocabulary</th>\n",
       "      <td>469.0</td>\n",
       "      <td>95.7</td>\n",
       "      <td>21.4</td>\n",
       "      <td>0.0</td>\n",
       "      <td>83.0</td>\n",
       "      <td>97.0</td>\n",
       "      <td>111.0</td>\n",
       "      <td>140.0</td>\n",
       "    </tr>\n",
       "    <tr>\n",
       "      <th>Language</th>\n",
       "      <td>492.0</td>\n",
       "      <td>88.7</td>\n",
       "      <td>21.2</td>\n",
       "      <td>48.0</td>\n",
       "      <td>73.0</td>\n",
       "      <td>88.0</td>\n",
       "      <td>104.0</td>\n",
       "      <td>163.0</td>\n",
       "    </tr>\n",
       "    <tr>\n",
       "      <th>Receptive Language</th>\n",
       "      <td>482.0</td>\n",
       "      <td>90.5</td>\n",
       "      <td>19.6</td>\n",
       "      <td>50.0</td>\n",
       "      <td>76.0</td>\n",
       "      <td>90.0</td>\n",
       "      <td>106.0</td>\n",
       "      <td>145.0</td>\n",
       "    </tr>\n",
       "    <tr>\n",
       "      <th>Receptive Vocabulary</th>\n",
       "      <td>473.0</td>\n",
       "      <td>94.4</td>\n",
       "      <td>18.8</td>\n",
       "      <td>0.0</td>\n",
       "      <td>82.0</td>\n",
       "      <td>96.0</td>\n",
       "      <td>109.0</td>\n",
       "      <td>135.0</td>\n",
       "    </tr>\n",
       "  </tbody>\n",
       "</table>\n",
       "</div>"
      ],
      "text/plain": [
       "                       count  mean   std   min   25%   50%    75%    max\n",
       "domain                                                                  \n",
       "Articulation           355.0  85.6  20.3   0.0  72.0  88.0  101.0  121.0\n",
       "Expressive Language    483.0  86.8  20.2  45.0  73.0  86.0  102.0  136.0\n",
       "Expressive Vocabulary  469.0  95.7  21.4   0.0  83.0  97.0  111.0  140.0\n",
       "Language               492.0  88.7  21.2  48.0  73.0  88.0  104.0  163.0\n",
       "Receptive Language     482.0  90.5  19.6  50.0  76.0  90.0  106.0  145.0\n",
       "Receptive Vocabulary   473.0  94.4  18.8   0.0  82.0  96.0  109.0  135.0"
      ]
     },
     "execution_count": 45,
     "metadata": {},
     "output_type": "execute_result"
    }
   ],
   "source": [
    "test_scores.groupby('domain').score.describe().round(1)"
   ]
  },
  {
   "cell_type": "markdown",
   "metadata": {},
   "source": [
    "## Domain-specific summaries\n",
    "\n",
    "Age of amplification greater than 6mo."
   ]
  },
  {
   "cell_type": "code",
   "execution_count": 46,
   "metadata": {},
   "outputs": [
    {
     "data": {
      "text/html": [
       "<div>\n",
       "<style scoped>\n",
       "    .dataframe tbody tr th:only-of-type {\n",
       "        vertical-align: middle;\n",
       "    }\n",
       "\n",
       "    .dataframe tbody tr th {\n",
       "        vertical-align: top;\n",
       "    }\n",
       "\n",
       "    .dataframe thead th {\n",
       "        text-align: right;\n",
       "    }\n",
       "</style>\n",
       "<table border=\"1\" class=\"dataframe\">\n",
       "  <thead>\n",
       "    <tr style=\"text-align: right;\">\n",
       "      <th></th>\n",
       "      <th></th>\n",
       "      <th>count</th>\n",
       "      <th>mean</th>\n",
       "      <th>std</th>\n",
       "      <th>min</th>\n",
       "      <th>25%</th>\n",
       "      <th>50%</th>\n",
       "      <th>75%</th>\n",
       "      <th>max</th>\n",
       "    </tr>\n",
       "    <tr>\n",
       "      <th>domain</th>\n",
       "      <th>age_amp_greater_6</th>\n",
       "      <th></th>\n",
       "      <th></th>\n",
       "      <th></th>\n",
       "      <th></th>\n",
       "      <th></th>\n",
       "      <th></th>\n",
       "      <th></th>\n",
       "      <th></th>\n",
       "    </tr>\n",
       "  </thead>\n",
       "  <tbody>\n",
       "    <tr>\n",
       "      <th rowspan=\"2\" valign=\"top\">Articulation</th>\n",
       "      <th>False</th>\n",
       "      <td>207.0</td>\n",
       "      <td>88.956522</td>\n",
       "      <td>19.487687</td>\n",
       "      <td>40.0</td>\n",
       "      <td>76.00</td>\n",
       "      <td>92.0</td>\n",
       "      <td>104.50</td>\n",
       "      <td>121.0</td>\n",
       "    </tr>\n",
       "    <tr>\n",
       "      <th>True</th>\n",
       "      <td>148.0</td>\n",
       "      <td>80.972973</td>\n",
       "      <td>20.467976</td>\n",
       "      <td>0.0</td>\n",
       "      <td>69.00</td>\n",
       "      <td>83.5</td>\n",
       "      <td>95.25</td>\n",
       "      <td>118.0</td>\n",
       "    </tr>\n",
       "    <tr>\n",
       "      <th rowspan=\"2\" valign=\"top\">Expressive Language</th>\n",
       "      <th>False</th>\n",
       "      <td>278.0</td>\n",
       "      <td>89.532374</td>\n",
       "      <td>20.077396</td>\n",
       "      <td>48.0</td>\n",
       "      <td>74.25</td>\n",
       "      <td>90.5</td>\n",
       "      <td>104.00</td>\n",
       "      <td>136.0</td>\n",
       "    </tr>\n",
       "    <tr>\n",
       "      <th>True</th>\n",
       "      <td>205.0</td>\n",
       "      <td>83.097561</td>\n",
       "      <td>19.858328</td>\n",
       "      <td>45.0</td>\n",
       "      <td>69.00</td>\n",
       "      <td>81.0</td>\n",
       "      <td>98.00</td>\n",
       "      <td>134.0</td>\n",
       "    </tr>\n",
       "    <tr>\n",
       "      <th rowspan=\"2\" valign=\"top\">Expressive Vocabulary</th>\n",
       "      <th>False</th>\n",
       "      <td>274.0</td>\n",
       "      <td>96.262774</td>\n",
       "      <td>19.921925</td>\n",
       "      <td>28.0</td>\n",
       "      <td>83.00</td>\n",
       "      <td>98.0</td>\n",
       "      <td>110.75</td>\n",
       "      <td>137.0</td>\n",
       "    </tr>\n",
       "    <tr>\n",
       "      <th>True</th>\n",
       "      <td>195.0</td>\n",
       "      <td>95.020513</td>\n",
       "      <td>23.441957</td>\n",
       "      <td>0.0</td>\n",
       "      <td>83.00</td>\n",
       "      <td>96.0</td>\n",
       "      <td>113.00</td>\n",
       "      <td>140.0</td>\n",
       "    </tr>\n",
       "    <tr>\n",
       "      <th rowspan=\"2\" valign=\"top\">Language</th>\n",
       "      <th>False</th>\n",
       "      <td>281.0</td>\n",
       "      <td>90.708185</td>\n",
       "      <td>20.351033</td>\n",
       "      <td>50.0</td>\n",
       "      <td>76.00</td>\n",
       "      <td>92.0</td>\n",
       "      <td>106.00</td>\n",
       "      <td>141.0</td>\n",
       "    </tr>\n",
       "    <tr>\n",
       "      <th>True</th>\n",
       "      <td>211.0</td>\n",
       "      <td>85.981043</td>\n",
       "      <td>22.025086</td>\n",
       "      <td>48.0</td>\n",
       "      <td>69.00</td>\n",
       "      <td>85.0</td>\n",
       "      <td>101.50</td>\n",
       "      <td>163.0</td>\n",
       "    </tr>\n",
       "    <tr>\n",
       "      <th rowspan=\"2\" valign=\"top\">Receptive Language</th>\n",
       "      <th>False</th>\n",
       "      <td>279.0</td>\n",
       "      <td>92.039427</td>\n",
       "      <td>18.895259</td>\n",
       "      <td>50.0</td>\n",
       "      <td>79.00</td>\n",
       "      <td>92.0</td>\n",
       "      <td>107.00</td>\n",
       "      <td>132.0</td>\n",
       "    </tr>\n",
       "    <tr>\n",
       "      <th>True</th>\n",
       "      <td>203.0</td>\n",
       "      <td>88.438424</td>\n",
       "      <td>20.466101</td>\n",
       "      <td>50.0</td>\n",
       "      <td>72.50</td>\n",
       "      <td>88.0</td>\n",
       "      <td>104.50</td>\n",
       "      <td>145.0</td>\n",
       "    </tr>\n",
       "    <tr>\n",
       "      <th rowspan=\"2\" valign=\"top\">Receptive Vocabulary</th>\n",
       "      <th>False</th>\n",
       "      <td>277.0</td>\n",
       "      <td>95.361011</td>\n",
       "      <td>17.928390</td>\n",
       "      <td>43.0</td>\n",
       "      <td>84.00</td>\n",
       "      <td>97.0</td>\n",
       "      <td>109.00</td>\n",
       "      <td>135.0</td>\n",
       "    </tr>\n",
       "    <tr>\n",
       "      <th>True</th>\n",
       "      <td>196.0</td>\n",
       "      <td>92.928571</td>\n",
       "      <td>20.002949</td>\n",
       "      <td>0.0</td>\n",
       "      <td>81.00</td>\n",
       "      <td>94.0</td>\n",
       "      <td>109.00</td>\n",
       "      <td>132.0</td>\n",
       "    </tr>\n",
       "  </tbody>\n",
       "</table>\n",
       "</div>"
      ],
      "text/plain": [
       "                                         count       mean        std   min  \\\n",
       "domain                age_amp_greater_6                                      \n",
       "Articulation          False              207.0  88.956522  19.487687  40.0   \n",
       "                      True               148.0  80.972973  20.467976   0.0   \n",
       "Expressive Language   False              278.0  89.532374  20.077396  48.0   \n",
       "                      True               205.0  83.097561  19.858328  45.0   \n",
       "Expressive Vocabulary False              274.0  96.262774  19.921925  28.0   \n",
       "                      True               195.0  95.020513  23.441957   0.0   \n",
       "Language              False              281.0  90.708185  20.351033  50.0   \n",
       "                      True               211.0  85.981043  22.025086  48.0   \n",
       "Receptive Language    False              279.0  92.039427  18.895259  50.0   \n",
       "                      True               203.0  88.438424  20.466101  50.0   \n",
       "Receptive Vocabulary  False              277.0  95.361011  17.928390  43.0   \n",
       "                      True               196.0  92.928571  20.002949   0.0   \n",
       "\n",
       "                                           25%   50%     75%    max  \n",
       "domain                age_amp_greater_6                              \n",
       "Articulation          False              76.00  92.0  104.50  121.0  \n",
       "                      True               69.00  83.5   95.25  118.0  \n",
       "Expressive Language   False              74.25  90.5  104.00  136.0  \n",
       "                      True               69.00  81.0   98.00  134.0  \n",
       "Expressive Vocabulary False              83.00  98.0  110.75  137.0  \n",
       "                      True               83.00  96.0  113.00  140.0  \n",
       "Language              False              76.00  92.0  106.00  141.0  \n",
       "                      True               69.00  85.0  101.50  163.0  \n",
       "Receptive Language    False              79.00  92.0  107.00  132.0  \n",
       "                      True               72.50  88.0  104.50  145.0  \n",
       "Receptive Vocabulary  False              84.00  97.0  109.00  135.0  \n",
       "                      True               81.00  94.0  109.00  132.0  "
      ]
     },
     "execution_count": 46,
     "metadata": {},
     "output_type": "execute_result"
    }
   ],
   "source": [
    "(test_scores.assign(age_amp_greater_6=test_scores.age_amp>6)\n",
    "         .groupby(['domain', 'age_amp_greater_6'])\n",
    "         .score.describe())"
   ]
  },
  {
   "cell_type": "markdown",
   "metadata": {},
   "source": [
    "Age of enrollment greater than 6mo."
   ]
  },
  {
   "cell_type": "code",
   "execution_count": 48,
   "metadata": {},
   "outputs": [
    {
     "data": {
      "text/html": [
       "<div>\n",
       "<style scoped>\n",
       "    .dataframe tbody tr th:only-of-type {\n",
       "        vertical-align: middle;\n",
       "    }\n",
       "\n",
       "    .dataframe tbody tr th {\n",
       "        vertical-align: top;\n",
       "    }\n",
       "\n",
       "    .dataframe thead th {\n",
       "        text-align: right;\n",
       "    }\n",
       "</style>\n",
       "<table border=\"1\" class=\"dataframe\">\n",
       "  <thead>\n",
       "    <tr style=\"text-align: right;\">\n",
       "      <th></th>\n",
       "      <th></th>\n",
       "      <th>count</th>\n",
       "      <th>mean</th>\n",
       "      <th>std</th>\n",
       "      <th>min</th>\n",
       "      <th>25%</th>\n",
       "      <th>50%</th>\n",
       "      <th>75%</th>\n",
       "      <th>max</th>\n",
       "    </tr>\n",
       "    <tr>\n",
       "      <th>domain</th>\n",
       "      <th>age_enroll_greater_6</th>\n",
       "      <th></th>\n",
       "      <th></th>\n",
       "      <th></th>\n",
       "      <th></th>\n",
       "      <th></th>\n",
       "      <th></th>\n",
       "      <th></th>\n",
       "      <th></th>\n",
       "    </tr>\n",
       "  </thead>\n",
       "  <tbody>\n",
       "    <tr>\n",
       "      <th rowspan=\"2\" valign=\"top\">Articulation</th>\n",
       "      <th>False</th>\n",
       "      <td>66.0</td>\n",
       "      <td>93.530303</td>\n",
       "      <td>18.006170</td>\n",
       "      <td>40.0</td>\n",
       "      <td>81.75</td>\n",
       "      <td>98.0</td>\n",
       "      <td>107.00</td>\n",
       "      <td>119.0</td>\n",
       "    </tr>\n",
       "    <tr>\n",
       "      <th>True</th>\n",
       "      <td>289.0</td>\n",
       "      <td>83.823529</td>\n",
       "      <td>20.342553</td>\n",
       "      <td>0.0</td>\n",
       "      <td>70.00</td>\n",
       "      <td>85.0</td>\n",
       "      <td>99.00</td>\n",
       "      <td>121.0</td>\n",
       "    </tr>\n",
       "    <tr>\n",
       "      <th rowspan=\"2\" valign=\"top\">Expressive Language</th>\n",
       "      <th>False</th>\n",
       "      <td>104.0</td>\n",
       "      <td>92.750000</td>\n",
       "      <td>19.767459</td>\n",
       "      <td>53.0</td>\n",
       "      <td>77.00</td>\n",
       "      <td>92.5</td>\n",
       "      <td>107.00</td>\n",
       "      <td>136.0</td>\n",
       "    </tr>\n",
       "    <tr>\n",
       "      <th>True</th>\n",
       "      <td>379.0</td>\n",
       "      <td>85.168865</td>\n",
       "      <td>20.056481</td>\n",
       "      <td>45.0</td>\n",
       "      <td>70.50</td>\n",
       "      <td>85.0</td>\n",
       "      <td>100.00</td>\n",
       "      <td>136.0</td>\n",
       "    </tr>\n",
       "    <tr>\n",
       "      <th rowspan=\"2\" valign=\"top\">Expressive Vocabulary</th>\n",
       "      <th>False</th>\n",
       "      <td>98.0</td>\n",
       "      <td>100.520408</td>\n",
       "      <td>21.094891</td>\n",
       "      <td>28.0</td>\n",
       "      <td>91.00</td>\n",
       "      <td>101.5</td>\n",
       "      <td>116.25</td>\n",
       "      <td>137.0</td>\n",
       "    </tr>\n",
       "    <tr>\n",
       "      <th>True</th>\n",
       "      <td>371.0</td>\n",
       "      <td>94.485175</td>\n",
       "      <td>21.381014</td>\n",
       "      <td>0.0</td>\n",
       "      <td>80.50</td>\n",
       "      <td>95.0</td>\n",
       "      <td>109.50</td>\n",
       "      <td>140.0</td>\n",
       "    </tr>\n",
       "    <tr>\n",
       "      <th rowspan=\"2\" valign=\"top\">Language</th>\n",
       "      <th>False</th>\n",
       "      <td>108.0</td>\n",
       "      <td>94.611111</td>\n",
       "      <td>20.239147</td>\n",
       "      <td>50.0</td>\n",
       "      <td>79.75</td>\n",
       "      <td>95.5</td>\n",
       "      <td>110.00</td>\n",
       "      <td>131.0</td>\n",
       "    </tr>\n",
       "    <tr>\n",
       "      <th>True</th>\n",
       "      <td>384.0</td>\n",
       "      <td>87.013021</td>\n",
       "      <td>21.181482</td>\n",
       "      <td>48.0</td>\n",
       "      <td>71.00</td>\n",
       "      <td>88.0</td>\n",
       "      <td>102.00</td>\n",
       "      <td>163.0</td>\n",
       "    </tr>\n",
       "    <tr>\n",
       "      <th rowspan=\"2\" valign=\"top\">Receptive Language</th>\n",
       "      <th>False</th>\n",
       "      <td>104.0</td>\n",
       "      <td>95.951923</td>\n",
       "      <td>18.506037</td>\n",
       "      <td>50.0</td>\n",
       "      <td>83.00</td>\n",
       "      <td>99.0</td>\n",
       "      <td>112.25</td>\n",
       "      <td>128.0</td>\n",
       "    </tr>\n",
       "    <tr>\n",
       "      <th>True</th>\n",
       "      <td>378.0</td>\n",
       "      <td>89.029101</td>\n",
       "      <td>19.692913</td>\n",
       "      <td>50.0</td>\n",
       "      <td>73.25</td>\n",
       "      <td>90.0</td>\n",
       "      <td>104.00</td>\n",
       "      <td>145.0</td>\n",
       "    </tr>\n",
       "    <tr>\n",
       "      <th rowspan=\"2\" valign=\"top\">Receptive Vocabulary</th>\n",
       "      <th>False</th>\n",
       "      <td>96.0</td>\n",
       "      <td>98.864583</td>\n",
       "      <td>18.485624</td>\n",
       "      <td>43.0</td>\n",
       "      <td>86.00</td>\n",
       "      <td>100.0</td>\n",
       "      <td>111.00</td>\n",
       "      <td>135.0</td>\n",
       "    </tr>\n",
       "    <tr>\n",
       "      <th>True</th>\n",
       "      <td>377.0</td>\n",
       "      <td>93.204244</td>\n",
       "      <td>18.772240</td>\n",
       "      <td>0.0</td>\n",
       "      <td>81.00</td>\n",
       "      <td>95.0</td>\n",
       "      <td>108.00</td>\n",
       "      <td>133.0</td>\n",
       "    </tr>\n",
       "  </tbody>\n",
       "</table>\n",
       "</div>"
      ],
      "text/plain": [
       "                                            count        mean        std  \\\n",
       "domain                age_enroll_greater_6                                 \n",
       "Articulation          False                  66.0   93.530303  18.006170   \n",
       "                      True                  289.0   83.823529  20.342553   \n",
       "Expressive Language   False                 104.0   92.750000  19.767459   \n",
       "                      True                  379.0   85.168865  20.056481   \n",
       "Expressive Vocabulary False                  98.0  100.520408  21.094891   \n",
       "                      True                  371.0   94.485175  21.381014   \n",
       "Language              False                 108.0   94.611111  20.239147   \n",
       "                      True                  384.0   87.013021  21.181482   \n",
       "Receptive Language    False                 104.0   95.951923  18.506037   \n",
       "                      True                  378.0   89.029101  19.692913   \n",
       "Receptive Vocabulary  False                  96.0   98.864583  18.485624   \n",
       "                      True                  377.0   93.204244  18.772240   \n",
       "\n",
       "                                             min    25%    50%     75%    max  \n",
       "domain                age_enroll_greater_6                                     \n",
       "Articulation          False                 40.0  81.75   98.0  107.00  119.0  \n",
       "                      True                   0.0  70.00   85.0   99.00  121.0  \n",
       "Expressive Language   False                 53.0  77.00   92.5  107.00  136.0  \n",
       "                      True                  45.0  70.50   85.0  100.00  136.0  \n",
       "Expressive Vocabulary False                 28.0  91.00  101.5  116.25  137.0  \n",
       "                      True                   0.0  80.50   95.0  109.50  140.0  \n",
       "Language              False                 50.0  79.75   95.5  110.00  131.0  \n",
       "                      True                  48.0  71.00   88.0  102.00  163.0  \n",
       "Receptive Language    False                 50.0  83.00   99.0  112.25  128.0  \n",
       "                      True                  50.0  73.25   90.0  104.00  145.0  \n",
       "Receptive Vocabulary  False                 43.0  86.00  100.0  111.00  135.0  \n",
       "                      True                   0.0  81.00   95.0  108.00  133.0  "
      ]
     },
     "execution_count": 48,
     "metadata": {},
     "output_type": "execute_result"
    }
   ],
   "source": [
    "(test_scores.assign(age_enroll_greater_6=test_scores.age>6)\n",
    "         .groupby(['domain', 'age_enroll_greater_6'])\n",
    "         .score.describe())"
   ]
  },
  {
   "cell_type": "markdown",
   "metadata": {},
   "source": [
    "(Non-)Profound hearing loss"
   ]
  },
  {
   "cell_type": "code",
   "execution_count": 51,
   "metadata": {},
   "outputs": [
    {
     "data": {
      "text/html": [
       "<div>\n",
       "<style scoped>\n",
       "    .dataframe tbody tr th:only-of-type {\n",
       "        vertical-align: middle;\n",
       "    }\n",
       "\n",
       "    .dataframe tbody tr th {\n",
       "        vertical-align: top;\n",
       "    }\n",
       "\n",
       "    .dataframe thead th {\n",
       "        text-align: right;\n",
       "    }\n",
       "</style>\n",
       "<table border=\"1\" class=\"dataframe\">\n",
       "  <thead>\n",
       "    <tr style=\"text-align: right;\">\n",
       "      <th></th>\n",
       "      <th></th>\n",
       "      <th>count</th>\n",
       "      <th>mean</th>\n",
       "      <th>std</th>\n",
       "      <th>min</th>\n",
       "      <th>25%</th>\n",
       "      <th>50%</th>\n",
       "      <th>75%</th>\n",
       "      <th>max</th>\n",
       "    </tr>\n",
       "    <tr>\n",
       "      <th>domain</th>\n",
       "      <th>profound_hl</th>\n",
       "      <th></th>\n",
       "      <th></th>\n",
       "      <th></th>\n",
       "      <th></th>\n",
       "      <th></th>\n",
       "      <th></th>\n",
       "      <th></th>\n",
       "      <th></th>\n",
       "    </tr>\n",
       "  </thead>\n",
       "  <tbody>\n",
       "    <tr>\n",
       "      <th rowspan=\"2\" valign=\"top\">Articulation</th>\n",
       "      <th>False</th>\n",
       "      <td>175.0</td>\n",
       "      <td>87.857143</td>\n",
       "      <td>18.276206</td>\n",
       "      <td>42.0</td>\n",
       "      <td>74.00</td>\n",
       "      <td>88.0</td>\n",
       "      <td>102.00</td>\n",
       "      <td>120.0</td>\n",
       "    </tr>\n",
       "    <tr>\n",
       "      <th>True</th>\n",
       "      <td>180.0</td>\n",
       "      <td>83.461111</td>\n",
       "      <td>21.853081</td>\n",
       "      <td>0.0</td>\n",
       "      <td>71.75</td>\n",
       "      <td>87.0</td>\n",
       "      <td>100.00</td>\n",
       "      <td>121.0</td>\n",
       "    </tr>\n",
       "    <tr>\n",
       "      <th rowspan=\"2\" valign=\"top\">Expressive Language</th>\n",
       "      <th>False</th>\n",
       "      <td>243.0</td>\n",
       "      <td>91.106996</td>\n",
       "      <td>19.742267</td>\n",
       "      <td>45.0</td>\n",
       "      <td>76.50</td>\n",
       "      <td>91.0</td>\n",
       "      <td>105.00</td>\n",
       "      <td>136.0</td>\n",
       "    </tr>\n",
       "    <tr>\n",
       "      <th>True</th>\n",
       "      <td>240.0</td>\n",
       "      <td>82.441667</td>\n",
       "      <td>19.790237</td>\n",
       "      <td>48.0</td>\n",
       "      <td>67.00</td>\n",
       "      <td>81.0</td>\n",
       "      <td>97.25</td>\n",
       "      <td>131.0</td>\n",
       "    </tr>\n",
       "    <tr>\n",
       "      <th rowspan=\"2\" valign=\"top\">Expressive Vocabulary</th>\n",
       "      <th>False</th>\n",
       "      <td>228.0</td>\n",
       "      <td>99.228070</td>\n",
       "      <td>20.578221</td>\n",
       "      <td>0.0</td>\n",
       "      <td>88.00</td>\n",
       "      <td>101.0</td>\n",
       "      <td>113.25</td>\n",
       "      <td>139.0</td>\n",
       "    </tr>\n",
       "    <tr>\n",
       "      <th>True</th>\n",
       "      <td>241.0</td>\n",
       "      <td>92.452282</td>\n",
       "      <td>21.758878</td>\n",
       "      <td>0.0</td>\n",
       "      <td>79.00</td>\n",
       "      <td>94.0</td>\n",
       "      <td>107.00</td>\n",
       "      <td>140.0</td>\n",
       "    </tr>\n",
       "    <tr>\n",
       "      <th rowspan=\"2\" valign=\"top\">Language</th>\n",
       "      <th>False</th>\n",
       "      <td>250.0</td>\n",
       "      <td>93.616000</td>\n",
       "      <td>20.494209</td>\n",
       "      <td>50.0</td>\n",
       "      <td>80.00</td>\n",
       "      <td>94.0</td>\n",
       "      <td>108.00</td>\n",
       "      <td>163.0</td>\n",
       "    </tr>\n",
       "    <tr>\n",
       "      <th>True</th>\n",
       "      <td>242.0</td>\n",
       "      <td>83.582645</td>\n",
       "      <td>20.730322</td>\n",
       "      <td>48.0</td>\n",
       "      <td>68.00</td>\n",
       "      <td>82.0</td>\n",
       "      <td>99.50</td>\n",
       "      <td>135.0</td>\n",
       "    </tr>\n",
       "    <tr>\n",
       "      <th rowspan=\"2\" valign=\"top\">Receptive Language</th>\n",
       "      <th>False</th>\n",
       "      <td>242.0</td>\n",
       "      <td>95.132231</td>\n",
       "      <td>18.674740</td>\n",
       "      <td>50.0</td>\n",
       "      <td>83.00</td>\n",
       "      <td>96.0</td>\n",
       "      <td>109.00</td>\n",
       "      <td>145.0</td>\n",
       "    </tr>\n",
       "    <tr>\n",
       "      <th>True</th>\n",
       "      <td>240.0</td>\n",
       "      <td>85.875000</td>\n",
       "      <td>19.514424</td>\n",
       "      <td>50.0</td>\n",
       "      <td>69.75</td>\n",
       "      <td>86.0</td>\n",
       "      <td>101.00</td>\n",
       "      <td>133.0</td>\n",
       "    </tr>\n",
       "    <tr>\n",
       "      <th rowspan=\"2\" valign=\"top\">Receptive Vocabulary</th>\n",
       "      <th>False</th>\n",
       "      <td>235.0</td>\n",
       "      <td>97.161702</td>\n",
       "      <td>17.174800</td>\n",
       "      <td>35.0</td>\n",
       "      <td>86.00</td>\n",
       "      <td>99.0</td>\n",
       "      <td>110.00</td>\n",
       "      <td>135.0</td>\n",
       "    </tr>\n",
       "    <tr>\n",
       "      <th>True</th>\n",
       "      <td>238.0</td>\n",
       "      <td>91.579832</td>\n",
       "      <td>19.990291</td>\n",
       "      <td>0.0</td>\n",
       "      <td>79.00</td>\n",
       "      <td>91.0</td>\n",
       "      <td>108.00</td>\n",
       "      <td>133.0</td>\n",
       "    </tr>\n",
       "  </tbody>\n",
       "</table>\n",
       "</div>"
      ],
      "text/plain": [
       "                                   count       mean        std   min    25%  \\\n",
       "domain                profound_hl                                             \n",
       "Articulation          False        175.0  87.857143  18.276206  42.0  74.00   \n",
       "                      True         180.0  83.461111  21.853081   0.0  71.75   \n",
       "Expressive Language   False        243.0  91.106996  19.742267  45.0  76.50   \n",
       "                      True         240.0  82.441667  19.790237  48.0  67.00   \n",
       "Expressive Vocabulary False        228.0  99.228070  20.578221   0.0  88.00   \n",
       "                      True         241.0  92.452282  21.758878   0.0  79.00   \n",
       "Language              False        250.0  93.616000  20.494209  50.0  80.00   \n",
       "                      True         242.0  83.582645  20.730322  48.0  68.00   \n",
       "Receptive Language    False        242.0  95.132231  18.674740  50.0  83.00   \n",
       "                      True         240.0  85.875000  19.514424  50.0  69.75   \n",
       "Receptive Vocabulary  False        235.0  97.161702  17.174800  35.0  86.00   \n",
       "                      True         238.0  91.579832  19.990291   0.0  79.00   \n",
       "\n",
       "                                     50%     75%    max  \n",
       "domain                profound_hl                        \n",
       "Articulation          False         88.0  102.00  120.0  \n",
       "                      True          87.0  100.00  121.0  \n",
       "Expressive Language   False         91.0  105.00  136.0  \n",
       "                      True          81.0   97.25  131.0  \n",
       "Expressive Vocabulary False        101.0  113.25  139.0  \n",
       "                      True          94.0  107.00  140.0  \n",
       "Language              False         94.0  108.00  163.0  \n",
       "                      True          82.0   99.50  135.0  \n",
       "Receptive Language    False         96.0  109.00  145.0  \n",
       "                      True          86.0  101.00  133.0  \n",
       "Receptive Vocabulary  False         99.0  110.00  135.0  \n",
       "                      True          91.0  108.00  133.0  "
      ]
     },
     "execution_count": 51,
     "metadata": {},
     "output_type": "execute_result"
    }
   ],
   "source": [
    "(test_scores.assign(profound_hl=test_scores.degree_hl==6)\n",
    "         .groupby(['domain', 'profound_hl'])\n",
    "         .score.describe())"
   ]
  },
  {
   "cell_type": "markdown",
   "metadata": {},
   "source": [
    "Parent with(out) hearing loss"
   ]
  },
  {
   "cell_type": "code",
   "execution_count": 57,
   "metadata": {},
   "outputs": [
    {
     "data": {
      "text/html": [
       "<div>\n",
       "<style scoped>\n",
       "    .dataframe tbody tr th:only-of-type {\n",
       "        vertical-align: middle;\n",
       "    }\n",
       "\n",
       "    .dataframe tbody tr th {\n",
       "        vertical-align: top;\n",
       "    }\n",
       "\n",
       "    .dataframe thead th {\n",
       "        text-align: right;\n",
       "    }\n",
       "</style>\n",
       "<table border=\"1\" class=\"dataframe\">\n",
       "  <thead>\n",
       "    <tr style=\"text-align: right;\">\n",
       "      <th></th>\n",
       "      <th></th>\n",
       "      <th>count</th>\n",
       "      <th>mean</th>\n",
       "      <th>std</th>\n",
       "      <th>min</th>\n",
       "      <th>25%</th>\n",
       "      <th>50%</th>\n",
       "      <th>75%</th>\n",
       "      <th>max</th>\n",
       "    </tr>\n",
       "    <tr>\n",
       "      <th>domain</th>\n",
       "      <th>parent_with_hl</th>\n",
       "      <th></th>\n",
       "      <th></th>\n",
       "      <th></th>\n",
       "      <th></th>\n",
       "      <th></th>\n",
       "      <th></th>\n",
       "      <th></th>\n",
       "      <th></th>\n",
       "    </tr>\n",
       "  </thead>\n",
       "  <tbody>\n",
       "    <tr>\n",
       "      <th rowspan=\"2\" valign=\"top\">Articulation</th>\n",
       "      <th>False</th>\n",
       "      <td>339.0</td>\n",
       "      <td>85.787611</td>\n",
       "      <td>20.322016</td>\n",
       "      <td>0.0</td>\n",
       "      <td>72.00</td>\n",
       "      <td>88.0</td>\n",
       "      <td>101.0</td>\n",
       "      <td>121.0</td>\n",
       "    </tr>\n",
       "    <tr>\n",
       "      <th>True</th>\n",
       "      <td>16.0</td>\n",
       "      <td>82.250000</td>\n",
       "      <td>19.212843</td>\n",
       "      <td>40.0</td>\n",
       "      <td>73.50</td>\n",
       "      <td>84.0</td>\n",
       "      <td>98.0</td>\n",
       "      <td>110.0</td>\n",
       "    </tr>\n",
       "    <tr>\n",
       "      <th rowspan=\"2\" valign=\"top\">Expressive Language</th>\n",
       "      <th>False</th>\n",
       "      <td>455.0</td>\n",
       "      <td>86.628571</td>\n",
       "      <td>20.146612</td>\n",
       "      <td>45.0</td>\n",
       "      <td>71.50</td>\n",
       "      <td>86.0</td>\n",
       "      <td>101.5</td>\n",
       "      <td>136.0</td>\n",
       "    </tr>\n",
       "    <tr>\n",
       "      <th>True</th>\n",
       "      <td>28.0</td>\n",
       "      <td>89.607143</td>\n",
       "      <td>21.505106</td>\n",
       "      <td>53.0</td>\n",
       "      <td>74.50</td>\n",
       "      <td>89.5</td>\n",
       "      <td>107.0</td>\n",
       "      <td>131.0</td>\n",
       "    </tr>\n",
       "    <tr>\n",
       "      <th rowspan=\"2\" valign=\"top\">Expressive Vocabulary</th>\n",
       "      <th>False</th>\n",
       "      <td>445.0</td>\n",
       "      <td>95.611236</td>\n",
       "      <td>21.634231</td>\n",
       "      <td>0.0</td>\n",
       "      <td>83.00</td>\n",
       "      <td>97.0</td>\n",
       "      <td>111.0</td>\n",
       "      <td>140.0</td>\n",
       "    </tr>\n",
       "    <tr>\n",
       "      <th>True</th>\n",
       "      <td>24.0</td>\n",
       "      <td>98.250000</td>\n",
       "      <td>17.649363</td>\n",
       "      <td>58.0</td>\n",
       "      <td>85.25</td>\n",
       "      <td>102.5</td>\n",
       "      <td>113.0</td>\n",
       "      <td>124.0</td>\n",
       "    </tr>\n",
       "    <tr>\n",
       "      <th rowspan=\"2\" valign=\"top\">Language</th>\n",
       "      <th>False</th>\n",
       "      <td>465.0</td>\n",
       "      <td>88.606452</td>\n",
       "      <td>21.200448</td>\n",
       "      <td>48.0</td>\n",
       "      <td>73.00</td>\n",
       "      <td>88.0</td>\n",
       "      <td>104.0</td>\n",
       "      <td>163.0</td>\n",
       "    </tr>\n",
       "    <tr>\n",
       "      <th>True</th>\n",
       "      <td>27.0</td>\n",
       "      <td>89.962963</td>\n",
       "      <td>21.425150</td>\n",
       "      <td>50.0</td>\n",
       "      <td>73.50</td>\n",
       "      <td>90.0</td>\n",
       "      <td>108.0</td>\n",
       "      <td>127.0</td>\n",
       "    </tr>\n",
       "    <tr>\n",
       "      <th rowspan=\"2\" valign=\"top\">Receptive Language</th>\n",
       "      <th>False</th>\n",
       "      <td>455.0</td>\n",
       "      <td>90.534066</td>\n",
       "      <td>19.658159</td>\n",
       "      <td>50.0</td>\n",
       "      <td>76.00</td>\n",
       "      <td>90.0</td>\n",
       "      <td>106.0</td>\n",
       "      <td>145.0</td>\n",
       "    </tr>\n",
       "    <tr>\n",
       "      <th>True</th>\n",
       "      <td>27.0</td>\n",
       "      <td>90.333333</td>\n",
       "      <td>19.554657</td>\n",
       "      <td>51.0</td>\n",
       "      <td>77.00</td>\n",
       "      <td>92.0</td>\n",
       "      <td>105.5</td>\n",
       "      <td>124.0</td>\n",
       "    </tr>\n",
       "    <tr>\n",
       "      <th rowspan=\"2\" valign=\"top\">Receptive Vocabulary</th>\n",
       "      <th>False</th>\n",
       "      <td>448.0</td>\n",
       "      <td>94.189732</td>\n",
       "      <td>18.886975</td>\n",
       "      <td>0.0</td>\n",
       "      <td>82.00</td>\n",
       "      <td>96.0</td>\n",
       "      <td>109.0</td>\n",
       "      <td>135.0</td>\n",
       "    </tr>\n",
       "    <tr>\n",
       "      <th>True</th>\n",
       "      <td>25.0</td>\n",
       "      <td>97.280000</td>\n",
       "      <td>17.954851</td>\n",
       "      <td>64.0</td>\n",
       "      <td>86.00</td>\n",
       "      <td>97.0</td>\n",
       "      <td>111.0</td>\n",
       "      <td>124.0</td>\n",
       "    </tr>\n",
       "  </tbody>\n",
       "</table>\n",
       "</div>"
      ],
      "text/plain": [
       "                                      count       mean        std   min  \\\n",
       "domain                parent_with_hl                                      \n",
       "Articulation          False           339.0  85.787611  20.322016   0.0   \n",
       "                      True             16.0  82.250000  19.212843  40.0   \n",
       "Expressive Language   False           455.0  86.628571  20.146612  45.0   \n",
       "                      True             28.0  89.607143  21.505106  53.0   \n",
       "Expressive Vocabulary False           445.0  95.611236  21.634231   0.0   \n",
       "                      True             24.0  98.250000  17.649363  58.0   \n",
       "Language              False           465.0  88.606452  21.200448  48.0   \n",
       "                      True             27.0  89.962963  21.425150  50.0   \n",
       "Receptive Language    False           455.0  90.534066  19.658159  50.0   \n",
       "                      True             27.0  90.333333  19.554657  51.0   \n",
       "Receptive Vocabulary  False           448.0  94.189732  18.886975   0.0   \n",
       "                      True             25.0  97.280000  17.954851  64.0   \n",
       "\n",
       "                                        25%    50%    75%    max  \n",
       "domain                parent_with_hl                              \n",
       "Articulation          False           72.00   88.0  101.0  121.0  \n",
       "                      True            73.50   84.0   98.0  110.0  \n",
       "Expressive Language   False           71.50   86.0  101.5  136.0  \n",
       "                      True            74.50   89.5  107.0  131.0  \n",
       "Expressive Vocabulary False           83.00   97.0  111.0  140.0  \n",
       "                      True            85.25  102.5  113.0  124.0  \n",
       "Language              False           73.00   88.0  104.0  163.0  \n",
       "                      True            73.50   90.0  108.0  127.0  \n",
       "Receptive Language    False           76.00   90.0  106.0  145.0  \n",
       "                      True            77.00   92.0  105.5  124.0  \n",
       "Receptive Vocabulary  False           82.00   96.0  109.0  135.0  \n",
       "                      True            86.00   97.0  111.0  124.0  "
      ]
     },
     "execution_count": 57,
     "metadata": {},
     "output_type": "execute_result"
    }
   ],
   "source": [
    "test_scores.loc[test_scores.parent_hearing_loss=='Unknown', 'parent_hearing_loss'] = np.nan\n",
    "(test_scores.assign(parent_with_hl=test_scores.parent_hearing_loss.isin(['Both parents have hearing loss',\n",
    "                                                                       'Father has hearing loss',\n",
    "                                                                       'Mother has hearing loss']))\n",
    "         .groupby(['domain', 'parent_with_hl'])\n",
    "         .score.describe())"
   ]
  },
  {
   "cell_type": "markdown",
   "metadata": {},
   "source": [
    "Mother with(out) college education"
   ]
  },
  {
   "cell_type": "code",
   "execution_count": 59,
   "metadata": {},
   "outputs": [
    {
     "data": {
      "text/html": [
       "<div>\n",
       "<style scoped>\n",
       "    .dataframe tbody tr th:only-of-type {\n",
       "        vertical-align: middle;\n",
       "    }\n",
       "\n",
       "    .dataframe tbody tr th {\n",
       "        vertical-align: top;\n",
       "    }\n",
       "\n",
       "    .dataframe thead th {\n",
       "        text-align: right;\n",
       "    }\n",
       "</style>\n",
       "<table border=\"1\" class=\"dataframe\">\n",
       "  <thead>\n",
       "    <tr style=\"text-align: right;\">\n",
       "      <th></th>\n",
       "      <th></th>\n",
       "      <th>count</th>\n",
       "      <th>mean</th>\n",
       "      <th>std</th>\n",
       "      <th>min</th>\n",
       "      <th>25%</th>\n",
       "      <th>50%</th>\n",
       "      <th>75%</th>\n",
       "      <th>max</th>\n",
       "    </tr>\n",
       "    <tr>\n",
       "      <th>domain</th>\n",
       "      <th>mother_college</th>\n",
       "      <th></th>\n",
       "      <th></th>\n",
       "      <th></th>\n",
       "      <th></th>\n",
       "      <th></th>\n",
       "      <th></th>\n",
       "      <th></th>\n",
       "      <th></th>\n",
       "    </tr>\n",
       "  </thead>\n",
       "  <tbody>\n",
       "    <tr>\n",
       "      <th rowspan=\"2\" valign=\"top\">Articulation</th>\n",
       "      <th>0</th>\n",
       "      <td>193.0</td>\n",
       "      <td>83.134715</td>\n",
       "      <td>20.236170</td>\n",
       "      <td>0.0</td>\n",
       "      <td>69.00</td>\n",
       "      <td>85.0</td>\n",
       "      <td>99.0</td>\n",
       "      <td>118.0</td>\n",
       "    </tr>\n",
       "    <tr>\n",
       "      <th>1</th>\n",
       "      <td>162.0</td>\n",
       "      <td>88.598765</td>\n",
       "      <td>19.947590</td>\n",
       "      <td>0.0</td>\n",
       "      <td>77.00</td>\n",
       "      <td>89.0</td>\n",
       "      <td>104.0</td>\n",
       "      <td>121.0</td>\n",
       "    </tr>\n",
       "    <tr>\n",
       "      <th rowspan=\"2\" valign=\"top\">Expressive Language</th>\n",
       "      <th>0</th>\n",
       "      <td>252.0</td>\n",
       "      <td>80.940476</td>\n",
       "      <td>19.010178</td>\n",
       "      <td>48.0</td>\n",
       "      <td>67.00</td>\n",
       "      <td>79.0</td>\n",
       "      <td>94.0</td>\n",
       "      <td>135.0</td>\n",
       "    </tr>\n",
       "    <tr>\n",
       "      <th>1</th>\n",
       "      <td>231.0</td>\n",
       "      <td>93.194805</td>\n",
       "      <td>19.581073</td>\n",
       "      <td>45.0</td>\n",
       "      <td>80.50</td>\n",
       "      <td>94.0</td>\n",
       "      <td>107.0</td>\n",
       "      <td>136.0</td>\n",
       "    </tr>\n",
       "    <tr>\n",
       "      <th rowspan=\"2\" valign=\"top\">Expressive Vocabulary</th>\n",
       "      <th>0</th>\n",
       "      <td>236.0</td>\n",
       "      <td>89.779661</td>\n",
       "      <td>20.628275</td>\n",
       "      <td>0.0</td>\n",
       "      <td>77.75</td>\n",
       "      <td>91.0</td>\n",
       "      <td>103.0</td>\n",
       "      <td>138.0</td>\n",
       "    </tr>\n",
       "    <tr>\n",
       "      <th>1</th>\n",
       "      <td>233.0</td>\n",
       "      <td>101.789700</td>\n",
       "      <td>20.576046</td>\n",
       "      <td>0.0</td>\n",
       "      <td>90.00</td>\n",
       "      <td>103.0</td>\n",
       "      <td>117.0</td>\n",
       "      <td>140.0</td>\n",
       "    </tr>\n",
       "    <tr>\n",
       "      <th rowspan=\"2\" valign=\"top\">Language</th>\n",
       "      <th>0</th>\n",
       "      <td>252.0</td>\n",
       "      <td>82.079365</td>\n",
       "      <td>19.763786</td>\n",
       "      <td>48.0</td>\n",
       "      <td>67.75</td>\n",
       "      <td>81.0</td>\n",
       "      <td>96.0</td>\n",
       "      <td>136.0</td>\n",
       "    </tr>\n",
       "    <tr>\n",
       "      <th>1</th>\n",
       "      <td>240.0</td>\n",
       "      <td>95.612500</td>\n",
       "      <td>20.452513</td>\n",
       "      <td>50.0</td>\n",
       "      <td>82.00</td>\n",
       "      <td>97.0</td>\n",
       "      <td>110.0</td>\n",
       "      <td>163.0</td>\n",
       "    </tr>\n",
       "    <tr>\n",
       "      <th rowspan=\"2\" valign=\"top\">Receptive Language</th>\n",
       "      <th>0</th>\n",
       "      <td>250.0</td>\n",
       "      <td>84.892000</td>\n",
       "      <td>19.171608</td>\n",
       "      <td>50.0</td>\n",
       "      <td>69.00</td>\n",
       "      <td>85.0</td>\n",
       "      <td>99.0</td>\n",
       "      <td>138.0</td>\n",
       "    </tr>\n",
       "    <tr>\n",
       "      <th>1</th>\n",
       "      <td>232.0</td>\n",
       "      <td>96.590517</td>\n",
       "      <td>18.304791</td>\n",
       "      <td>50.0</td>\n",
       "      <td>86.00</td>\n",
       "      <td>98.0</td>\n",
       "      <td>111.0</td>\n",
       "      <td>145.0</td>\n",
       "    </tr>\n",
       "    <tr>\n",
       "      <th rowspan=\"2\" valign=\"top\">Receptive Vocabulary</th>\n",
       "      <th>0</th>\n",
       "      <td>238.0</td>\n",
       "      <td>88.731092</td>\n",
       "      <td>18.566881</td>\n",
       "      <td>0.0</td>\n",
       "      <td>78.00</td>\n",
       "      <td>88.5</td>\n",
       "      <td>103.0</td>\n",
       "      <td>128.0</td>\n",
       "    </tr>\n",
       "    <tr>\n",
       "      <th>1</th>\n",
       "      <td>235.0</td>\n",
       "      <td>100.046809</td>\n",
       "      <td>17.366645</td>\n",
       "      <td>35.0</td>\n",
       "      <td>89.00</td>\n",
       "      <td>101.0</td>\n",
       "      <td>113.0</td>\n",
       "      <td>135.0</td>\n",
       "    </tr>\n",
       "  </tbody>\n",
       "</table>\n",
       "</div>"
      ],
      "text/plain": [
       "                                      count        mean        std   min  \\\n",
       "domain                mother_college                                       \n",
       "Articulation          0               193.0   83.134715  20.236170   0.0   \n",
       "                      1               162.0   88.598765  19.947590   0.0   \n",
       "Expressive Language   0               252.0   80.940476  19.010178  48.0   \n",
       "                      1               231.0   93.194805  19.581073  45.0   \n",
       "Expressive Vocabulary 0               236.0   89.779661  20.628275   0.0   \n",
       "                      1               233.0  101.789700  20.576046   0.0   \n",
       "Language              0               252.0   82.079365  19.763786  48.0   \n",
       "                      1               240.0   95.612500  20.452513  50.0   \n",
       "Receptive Language    0               250.0   84.892000  19.171608  50.0   \n",
       "                      1               232.0   96.590517  18.304791  50.0   \n",
       "Receptive Vocabulary  0               238.0   88.731092  18.566881   0.0   \n",
       "                      1               235.0  100.046809  17.366645  35.0   \n",
       "\n",
       "                                        25%    50%    75%    max  \n",
       "domain                mother_college                              \n",
       "Articulation          0               69.00   85.0   99.0  118.0  \n",
       "                      1               77.00   89.0  104.0  121.0  \n",
       "Expressive Language   0               67.00   79.0   94.0  135.0  \n",
       "                      1               80.50   94.0  107.0  136.0  \n",
       "Expressive Vocabulary 0               77.75   91.0  103.0  138.0  \n",
       "                      1               90.00  103.0  117.0  140.0  \n",
       "Language              0               67.75   81.0   96.0  136.0  \n",
       "                      1               82.00   97.0  110.0  163.0  \n",
       "Receptive Language    0               69.00   85.0   99.0  138.0  \n",
       "                      1               86.00   98.0  111.0  145.0  \n",
       "Receptive Vocabulary  0               78.00   88.5  103.0  128.0  \n",
       "                      1               89.00  101.0  113.0  135.0  "
      ]
     },
     "execution_count": 59,
     "metadata": {},
     "output_type": "execute_result"
    }
   ],
   "source": [
    "test_scores.groupby(['domain', 'mother_college']).score.describe()"
   ]
  }
 ],
 "metadata": {
  "kernelspec": {
   "display_name": "Python 3",
   "language": "python",
   "name": "python3"
  },
  "language_info": {
   "codemirror_mode": {
    "name": "ipython",
    "version": 3
   },
   "file_extension": ".py",
   "mimetype": "text/x-python",
   "name": "python",
   "nbconvert_exporter": "python",
   "pygments_lexer": "ipython3",
   "version": "3.6.7"
  }
 },
 "nbformat": 4,
 "nbformat_minor": 2
}
