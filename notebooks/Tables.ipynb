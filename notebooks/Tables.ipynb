{
 "cells": [
  {
   "cell_type": "code",
   "execution_count": 2,
   "metadata": {},
   "outputs": [],
   "source": [
    "# Import modules and set options\n",
    "%matplotlib inline\n",
    "import matplotlib.pyplot as plt\n",
    "import pandas as pd\n",
    "import numpy as np\n",
    "import seaborn as sns\n",
    "# import pandas_profiling\n",
    "\n",
    "sns.set(context='notebook', style='ticks')"
   ]
  },
  {
   "cell_type": "code",
   "execution_count": 3,
   "metadata": {},
   "outputs": [],
   "source": [
    "analysis_subset = (pd.read_csv('../data/clean/analysis_subset.csv', low_memory=False)\n",
    "                  .rename({'onset_1':'identify_mo'}, axis=1))"
   ]
  },
  {
   "cell_type": "code",
   "execution_count": 4,
   "metadata": {},
   "outputs": [
    {
     "data": {
      "text/plain": [
       "(33128, 54)"
      ]
     },
     "execution_count": 4,
     "metadata": {},
     "output_type": "execute_result"
    }
   ],
   "source": [
    "analysis_subset.shape"
   ]
  },
  {
   "cell_type": "code",
   "execution_count": 5,
   "metadata": {},
   "outputs": [],
   "source": [
    "age_mask = (analysis_subset.age_test>=48) & (analysis_subset.age_test<60)"
   ]
  },
  {
   "cell_type": "code",
   "execution_count": 6,
   "metadata": {},
   "outputs": [
    {
     "data": {
      "text/plain": [
       "(1424, 54)"
      ]
     },
     "execution_count": 6,
     "metadata": {},
     "output_type": "execute_result"
    }
   ],
   "source": [
    "analysis_subset[age_mask].drop_duplicates(subset='student_idx').shape"
   ]
  },
  {
   "cell_type": "code",
   "execution_count": 7,
   "metadata": {},
   "outputs": [],
   "source": [
    "data_4yo = analysis_subset[age_mask].drop_duplicates(subset='student_idx').copy()"
   ]
  },
  {
   "cell_type": "markdown",
   "metadata": {},
   "source": [
    "## Demographics"
   ]
  },
  {
   "cell_type": "code",
   "execution_count": 8,
   "metadata": {},
   "outputs": [
    {
     "data": {
      "text/plain": [
       "Male      761\n",
       "Female    663\n",
       "Name: male, dtype: int64"
      ]
     },
     "execution_count": 8,
     "metadata": {},
     "output_type": "execute_result"
    }
   ],
   "source": [
    "data_4yo.male.replace({1: 'Male', 0: 'Female', np.nan: 'Missing'}).value_counts()"
   ]
  },
  {
   "cell_type": "code",
   "execution_count": 9,
   "metadata": {},
   "outputs": [
    {
     "data": {
      "text/plain": [
       "White       918\n",
       "Black       150\n",
       "Hispanic    144\n",
       "Other       137\n",
       "Asian        75\n",
       "Name: race, dtype: int64"
      ]
     },
     "execution_count": 9,
     "metadata": {},
     "output_type": "execute_result"
    }
   ],
   "source": [
    "data_4yo.race.replace({0:'White', 1:'Black', 2:'Hispanic', 3:'Asian', 4:'Other', np.nan:'Missing'}).value_counts()"
   ]
  },
  {
   "cell_type": "code",
   "execution_count": 10,
   "metadata": {},
   "outputs": [
    {
     "data": {
      "text/plain": [
       "<36 weeks     1060\n",
       "Unknown        228\n",
       ">=36 weeks     136\n",
       "Name: premature, dtype: int64"
      ]
     },
     "execution_count": 10,
     "metadata": {},
     "output_type": "execute_result"
    }
   ],
   "source": [
    "data_4yo.premature.replace({True: '>=36 weeks', False: '<36 weeks', np.nan: 'Unknown'}).value_counts()"
   ]
  },
  {
   "cell_type": "code",
   "execution_count": 11,
   "metadata": {},
   "outputs": [
    {
     "data": {
      "text/plain": [
       "1          337\n",
       "2          590\n",
       "3          272\n",
       "4+         160\n",
       "Missing     65\n",
       "Name: sib, dtype: int64"
      ]
     },
     "execution_count": 11,
     "metadata": {},
     "output_type": "execute_result"
    }
   ],
   "source": [
    "data_4yo.sib.replace({0:'1', 1:'2', 2:'3', 3:'4+', np.nan:'Missing'}).value_counts().sort_index()"
   ]
  },
  {
   "cell_type": "code",
   "execution_count": 12,
   "metadata": {},
   "outputs": [
    {
     "data": {
      "text/plain": [
       "Ideal Participation      455\n",
       "Good Participation       381\n",
       "Average Participation    320\n",
       "Missing                  151\n",
       "Below Average             95\n",
       "Limited Participation     22\n",
       "Name: family_inv, dtype: int64"
      ]
     },
     "execution_count": 12,
     "metadata": {},
     "output_type": "execute_result"
    }
   ],
   "source": [
    "family_lookup = {0:\"Ideal Participation\",\n",
    "1:\"Good Participation\",\n",
    "2:\"Average Participation\",\n",
    "3:\"Below Average\",\n",
    "4:\"Limited Participation\",\n",
    "np.nan:\"Missing\"}\n",
    "\n",
    "data_4yo.family_inv.replace(family_lookup).value_counts()"
   ]
  },
  {
   "cell_type": "markdown",
   "metadata": {},
   "source": [
    "## Hearing loss"
   ]
  },
  {
   "cell_type": "code",
   "execution_count": 13,
   "metadata": {},
   "outputs": [
    {
     "data": {
      "text/plain": [
       "187"
      ]
     },
     "execution_count": 13,
     "metadata": {},
     "output_type": "execute_result"
    }
   ],
   "source": [
    "data_4yo.deg_hl_below6.isnull().sum()"
   ]
  },
  {
   "cell_type": "code",
   "execution_count": 14,
   "metadata": {},
   "outputs": [],
   "source": [
    "hl_data = data_4yo.set_index('student_idx')[['bilateral_snhl',\n",
    "                     'bilateral_ansd',\n",
    "                     'bilateral_mixed',\n",
    "                     'bilateral_cond',\n",
    "                     'bilateral_normal',\n",
    "                     'bilateral_unk',\n",
    "                     'unilateral_snhl',\n",
    "                     'unilateral_ansd',\n",
    "                     'unilateral_mixed',\n",
    "                     'unilateral_cond',\n",
    "                     'unilateral_unk',\n",
    "                     'assymetrical']]"
   ]
  },
  {
   "cell_type": "markdown",
   "metadata": {},
   "source": [
    "One or both parents with hearing loss"
   ]
  },
  {
   "cell_type": "code",
   "execution_count": 15,
   "metadata": {},
   "outputs": [
    {
     "data": {
      "text/plain": [
       "0.0    1164\n",
       "1.0      88\n",
       "Name: one_or_both_parent_hl, dtype: int64"
      ]
     },
     "execution_count": 15,
     "metadata": {},
     "output_type": "execute_result"
    }
   ],
   "source": [
    "data_4yo.one_or_both_parent_hl.value_counts()"
   ]
  },
  {
   "cell_type": "code",
   "execution_count": 16,
   "metadata": {},
   "outputs": [
    {
     "data": {
      "text/plain": [
       "172"
      ]
     },
     "execution_count": 16,
     "metadata": {},
     "output_type": "execute_result"
    }
   ],
   "source": [
    "data_4yo.one_or_both_parent_hl.isnull().sum()"
   ]
  },
  {
   "cell_type": "markdown",
   "metadata": {},
   "source": [
    "Individuals with no hearing loss type"
   ]
  },
  {
   "cell_type": "code",
   "execution_count": 17,
   "metadata": {},
   "outputs": [
    {
     "data": {
      "text/plain": [
       "bilateral_snhl      1089\n",
       "bilateral_cond        43\n",
       "bilateral_ansd        38\n",
       "assymetrical          34\n",
       "bilateral_mixed       27\n",
       "unilateral_unk         0\n",
       "unilateral_cond        0\n",
       "unilateral_mixed       0\n",
       "unilateral_ansd        0\n",
       "unilateral_snhl        0\n",
       "bilateral_unk          0\n",
       "bilateral_normal       0\n",
       "dtype: int64"
      ]
     },
     "execution_count": 17,
     "metadata": {},
     "output_type": "execute_result"
    }
   ],
   "source": [
    "hl_data.sum().astype(int).sort_values(ascending=False)"
   ]
  },
  {
   "cell_type": "code",
   "execution_count": 18,
   "metadata": {},
   "outputs": [
    {
     "data": {
      "text/plain": [
       "bilateral_snhl      0.76\n",
       "bilateral_cond      0.03\n",
       "bilateral_ansd      0.03\n",
       "assymetrical        0.02\n",
       "bilateral_mixed     0.02\n",
       "unilateral_unk      0.00\n",
       "unilateral_cond     0.00\n",
       "unilateral_mixed    0.00\n",
       "unilateral_ansd     0.00\n",
       "unilateral_snhl     0.00\n",
       "bilateral_unk       0.00\n",
       "bilateral_normal    0.00\n",
       "dtype: float64"
      ]
     },
     "execution_count": 18,
     "metadata": {},
     "output_type": "execute_result"
    }
   ],
   "source": [
    "hl_data.mean().round(2).sort_values(ascending=False)"
   ]
  },
  {
   "cell_type": "code",
   "execution_count": 19,
   "metadata": {},
   "outputs": [],
   "source": [
    "tech_data = data_4yo.set_index('student_idx')[['bilateral_ha',\n",
    "                     'bilateral_ci',\n",
    "                     'bimodal',\n",
    "                     'bilateral_other',\n",
    "                     'unilateral_ha',\n",
    "                     'unilateral_ci',\n",
    "                     'unilateral_other']]"
   ]
  },
  {
   "cell_type": "code",
   "execution_count": 20,
   "metadata": {},
   "outputs": [
    {
     "data": {
      "text/plain": [
       "bilateral_ci        1054\n",
       "bilateral_ha         268\n",
       "bimodal               75\n",
       "unilateral_ci         13\n",
       "unilateral_ha          5\n",
       "unilateral_other       1\n",
       "bilateral_other        1\n",
       "dtype: int64"
      ]
     },
     "execution_count": 20,
     "metadata": {},
     "output_type": "execute_result"
    }
   ],
   "source": [
    "tech_data.sum().astype(int).sort_values(ascending=False)"
   ]
  },
  {
   "cell_type": "code",
   "execution_count": 21,
   "metadata": {},
   "outputs": [
    {
     "data": {
      "text/plain": [
       "bilateral_ci        0.74\n",
       "bilateral_ha        0.19\n",
       "bimodal             0.05\n",
       "unilateral_ci       0.01\n",
       "unilateral_other    0.00\n",
       "unilateral_ha       0.00\n",
       "bilateral_other     0.00\n",
       "dtype: float64"
      ]
     },
     "execution_count": 21,
     "metadata": {},
     "output_type": "execute_result"
    }
   ],
   "source": [
    "tech_data.mean().round(2).sort_values(ascending=False)"
   ]
  },
  {
   "cell_type": "markdown",
   "metadata": {},
   "source": [
    "Individuals with no technology type"
   ]
  },
  {
   "cell_type": "code",
   "execution_count": 22,
   "metadata": {},
   "outputs": [
    {
     "data": {
      "text/plain": [
       "array([3517, 3178, 2701, 6132,  296,  139, 3953])"
      ]
     },
     "execution_count": 22,
     "metadata": {},
     "output_type": "execute_result"
    }
   ],
   "source": [
    "tech_data[tech_data.sum(1)==0].index.values"
   ]
  },
  {
   "cell_type": "markdown",
   "metadata": {},
   "source": [
    "## Hearing Loss"
   ]
  },
  {
   "cell_type": "code",
   "execution_count": 23,
   "metadata": {},
   "outputs": [
    {
     "data": {
      "text/plain": [
       "Index(['bilateral_hl_normal', 'unilateral_hl_severe', 'unilateral_hl_mild',\n",
       "       'unilateral_hl_slight', 'bilateral_hl_severe', 'bilateral_hl_slight',\n",
       "       'unilateral_hl_moderate', 'bilateral_hl_mild', 'bilateral_hl_moderate',\n",
       "       'unilateral_hl_modsev', 'bilateral_hl_profound', 'deg_hl_below6',\n",
       "       'unilateral_hl_profound', 'bilateral_hl_modsev'],\n",
       "      dtype='object')"
      ]
     },
     "execution_count": 23,
     "metadata": {},
     "output_type": "execute_result"
    }
   ],
   "source": [
    "data_4yo.columns[data_4yo.columns.str.contains('_hl_')]"
   ]
  },
  {
   "cell_type": "code",
   "execution_count": 24,
   "metadata": {},
   "outputs": [],
   "source": [
    "hl_data = data_4yo.set_index('student_idx')[['bilateral_hl_normal', 'bilateral_hl_slight', 'bilateral_hl_mild',\n",
    "       'bilateral_hl_moderate', 'bilateral_hl_modsev', 'bilateral_hl_severe',\n",
    "       'bilateral_hl_profound', 'unilateral_hl_slight', 'unilateral_hl_mild',\n",
    "       'unilateral_hl_moderate', 'unilateral_hl_modsev',\n",
    "       'unilateral_hl_severe', 'unilateral_hl_profound']]"
   ]
  },
  {
   "cell_type": "code",
   "execution_count": 25,
   "metadata": {},
   "outputs": [
    {
     "data": {
      "text/plain": [
       "bilateral_hl_profound     487\n",
       "bilateral_hl_moderate     144\n",
       "bilateral_hl_modsev       119\n",
       "bilateral_hl_severe        88\n",
       "bilateral_hl_mild          53\n",
       "bilateral_hl_slight        10\n",
       "unilateral_hl_slight        2\n",
       "unilateral_hl_modsev        1\n",
       "unilateral_hl_mild          1\n",
       "unilateral_hl_profound      0\n",
       "unilateral_hl_severe        0\n",
       "unilateral_hl_moderate      0\n",
       "bilateral_hl_normal         0\n",
       "dtype: int64"
      ]
     },
     "execution_count": 25,
     "metadata": {},
     "output_type": "execute_result"
    }
   ],
   "source": [
    "hl_data.sum().astype(int).sort_values(ascending=False)"
   ]
  },
  {
   "cell_type": "code",
   "execution_count": 26,
   "metadata": {},
   "outputs": [
    {
     "data": {
      "text/plain": [
       "bilateral_hl_profound     0.34\n",
       "bilateral_hl_moderate     0.10\n",
       "bilateral_hl_modsev       0.08\n",
       "bilateral_hl_severe       0.06\n",
       "bilateral_hl_mild         0.04\n",
       "bilateral_hl_slight       0.01\n",
       "unilateral_hl_profound    0.00\n",
       "unilateral_hl_severe      0.00\n",
       "unilateral_hl_modsev      0.00\n",
       "unilateral_hl_moderate    0.00\n",
       "unilateral_hl_mild        0.00\n",
       "unilateral_hl_slight      0.00\n",
       "bilateral_hl_normal       0.00\n",
       "dtype: float64"
      ]
     },
     "execution_count": 26,
     "metadata": {},
     "output_type": "execute_result"
    }
   ],
   "source": [
    "hl_data.mean().round(2).sort_values(ascending=False)"
   ]
  },
  {
   "cell_type": "markdown",
   "metadata": {},
   "source": [
    "## Summary of scores by domain"
   ]
  },
  {
   "cell_type": "code",
   "execution_count": 27,
   "metadata": {},
   "outputs": [],
   "source": [
    "test_scores = analysis_subset[age_mask].copy()"
   ]
  },
  {
   "cell_type": "code",
   "execution_count": 28,
   "metadata": {},
   "outputs": [],
   "source": [
    "test_scores.loc[(test_scores.domain=='Language') & (test_scores.test_type=='receptive'), \n",
    "           'domain'] = 'Receptive Language'\n",
    "test_scores.loc[(test_scores.domain=='Language') & (test_scores.test_type=='expressive'), \n",
    "           'domain'] = 'Expressive Language'"
   ]
  },
  {
   "cell_type": "code",
   "execution_count": 29,
   "metadata": {},
   "outputs": [
    {
     "data": {
      "text/html": [
       "<div>\n",
       "<style scoped>\n",
       "    .dataframe tbody tr th:only-of-type {\n",
       "        vertical-align: middle;\n",
       "    }\n",
       "\n",
       "    .dataframe tbody tr th {\n",
       "        vertical-align: top;\n",
       "    }\n",
       "\n",
       "    .dataframe thead th {\n",
       "        text-align: right;\n",
       "    }\n",
       "</style>\n",
       "<table border=\"1\" class=\"dataframe\">\n",
       "  <thead>\n",
       "    <tr style=\"text-align: right;\">\n",
       "      <th></th>\n",
       "      <th>count</th>\n",
       "      <th>mean</th>\n",
       "      <th>std</th>\n",
       "      <th>min</th>\n",
       "      <th>25%</th>\n",
       "      <th>50%</th>\n",
       "      <th>75%</th>\n",
       "      <th>max</th>\n",
       "    </tr>\n",
       "    <tr>\n",
       "      <th>domain</th>\n",
       "      <th></th>\n",
       "      <th></th>\n",
       "      <th></th>\n",
       "      <th></th>\n",
       "      <th></th>\n",
       "      <th></th>\n",
       "      <th></th>\n",
       "      <th></th>\n",
       "    </tr>\n",
       "  </thead>\n",
       "  <tbody>\n",
       "    <tr>\n",
       "      <td>Articulation</td>\n",
       "      <td>927.0</td>\n",
       "      <td>86.4</td>\n",
       "      <td>20.0</td>\n",
       "      <td>0.0</td>\n",
       "      <td>74.0</td>\n",
       "      <td>89.0</td>\n",
       "      <td>102.0</td>\n",
       "      <td>123.0</td>\n",
       "    </tr>\n",
       "    <tr>\n",
       "      <td>Expressive Language</td>\n",
       "      <td>1183.0</td>\n",
       "      <td>86.4</td>\n",
       "      <td>19.8</td>\n",
       "      <td>45.0</td>\n",
       "      <td>71.0</td>\n",
       "      <td>86.0</td>\n",
       "      <td>101.0</td>\n",
       "      <td>141.0</td>\n",
       "    </tr>\n",
       "    <tr>\n",
       "      <td>Expressive Vocabulary</td>\n",
       "      <td>1275.0</td>\n",
       "      <td>98.2</td>\n",
       "      <td>20.0</td>\n",
       "      <td>0.0</td>\n",
       "      <td>86.0</td>\n",
       "      <td>99.0</td>\n",
       "      <td>113.0</td>\n",
       "      <td>147.0</td>\n",
       "    </tr>\n",
       "    <tr>\n",
       "      <td>Language</td>\n",
       "      <td>1218.0</td>\n",
       "      <td>88.3</td>\n",
       "      <td>20.5</td>\n",
       "      <td>40.0</td>\n",
       "      <td>73.0</td>\n",
       "      <td>88.0</td>\n",
       "      <td>102.8</td>\n",
       "      <td>163.0</td>\n",
       "    </tr>\n",
       "    <tr>\n",
       "      <td>Receptive Language</td>\n",
       "      <td>1187.0</td>\n",
       "      <td>90.9</td>\n",
       "      <td>19.1</td>\n",
       "      <td>50.0</td>\n",
       "      <td>77.0</td>\n",
       "      <td>92.0</td>\n",
       "      <td>105.0</td>\n",
       "      <td>149.0</td>\n",
       "    </tr>\n",
       "    <tr>\n",
       "      <td>Receptive Vocabulary</td>\n",
       "      <td>1289.0</td>\n",
       "      <td>95.4</td>\n",
       "      <td>18.7</td>\n",
       "      <td>0.0</td>\n",
       "      <td>83.0</td>\n",
       "      <td>97.0</td>\n",
       "      <td>109.0</td>\n",
       "      <td>159.0</td>\n",
       "    </tr>\n",
       "  </tbody>\n",
       "</table>\n",
       "</div>"
      ],
      "text/plain": [
       "                        count  mean   std   min   25%   50%    75%    max\n",
       "domain                                                                   \n",
       "Articulation            927.0  86.4  20.0   0.0  74.0  89.0  102.0  123.0\n",
       "Expressive Language    1183.0  86.4  19.8  45.0  71.0  86.0  101.0  141.0\n",
       "Expressive Vocabulary  1275.0  98.2  20.0   0.0  86.0  99.0  113.0  147.0\n",
       "Language               1218.0  88.3  20.5  40.0  73.0  88.0  102.8  163.0\n",
       "Receptive Language     1187.0  90.9  19.1  50.0  77.0  92.0  105.0  149.0\n",
       "Receptive Vocabulary   1289.0  95.4  18.7   0.0  83.0  97.0  109.0  159.0"
      ]
     },
     "execution_count": 29,
     "metadata": {},
     "output_type": "execute_result"
    }
   ],
   "source": [
    "test_scores.groupby('domain').score.describe().round(1)"
   ]
  },
  {
   "cell_type": "code",
   "execution_count": 30,
   "metadata": {},
   "outputs": [
    {
     "data": {
      "text/plain": [
       "array(['Expressive Vocabulary', 'Receptive Language',\n",
       "       'Expressive Language', 'Language', 'Receptive Vocabulary',\n",
       "       'Articulation'], dtype=object)"
      ]
     },
     "execution_count": 30,
     "metadata": {},
     "output_type": "execute_result"
    }
   ],
   "source": [
    "test_scores.domain.unique()"
   ]
  },
  {
   "cell_type": "code",
   "execution_count": 31,
   "metadata": {},
   "outputs": [],
   "source": [
    "test_scores['domain_labels'] = test_scores.domain.replace({'Expressive Vocabulary': 'Expressive\\nVocabulary', \n",
    "                                                           'Receptive Vocabulary': 'Receptive\\nVocabulary',\n",
    "                                                           'Receptive Language': 'Receptive\\nLanguage', \n",
    "                                                           'Expressive Language': 'Expressive\\nLanguage', \n",
    "                                                           'Language': 'Total\\nLanguage'})"
   ]
  },
  {
   "cell_type": "code",
   "execution_count": 32,
   "metadata": {},
   "outputs": [
    {
     "data": {
      "image/png": "[encoded data removed]",
      "text/plain": [
       "<Figure size 864x360 with 1 Axes>"
      ]
     },
     "metadata": {},
     "output_type": "display_data"
    }
   ],
   "source": [
    "sns.catplot(\"domain_labels\", y=\"score\", data=test_scores)\n",
    "fig = plt.gcf()\n",
    "fig.set_size_inches(12, 5)\n",
    "fig.axes[0].set_xlabel('');"
   ]
  },
  {
   "cell_type": "code",
   "execution_count": 33,
   "metadata": {},
   "outputs": [
    {
     "data": {
      "image/png": "[encoded data removed]",
      "text/plain": [
       "<Figure size 864x360 with 1 Axes>"
      ]
     },
     "metadata": {},
     "output_type": "display_data"
    }
   ],
   "source": [
    "sns.catplot(\"domain_labels\", y=\"score\", data=test_scores, kind=\"box\", color='white', fliersize=0)\n",
    "fig = plt.gcf()\n",
    "fig.set_size_inches(12, 5)\n",
    "fig.axes[0].set_xlabel('');"
   ]
  },
  {
   "cell_type": "markdown",
   "metadata": {},
   "source": [
    "## Domain-specific summaries\n",
    "\n",
    "Age of amplification greater than 6mo."
   ]
  },
  {
   "cell_type": "code",
   "execution_count": 34,
   "metadata": {},
   "outputs": [
    {
     "data": {
      "text/html": [
       "<div>\n",
       "<style scoped>\n",
       "    .dataframe tbody tr th:only-of-type {\n",
       "        vertical-align: middle;\n",
       "    }\n",
       "\n",
       "    .dataframe tbody tr th {\n",
       "        vertical-align: top;\n",
       "    }\n",
       "\n",
       "    .dataframe thead th {\n",
       "        text-align: right;\n",
       "    }\n",
       "</style>\n",
       "<table border=\"1\" class=\"dataframe\">\n",
       "  <thead>\n",
       "    <tr style=\"text-align: right;\">\n",
       "      <th></th>\n",
       "      <th></th>\n",
       "      <th>count</th>\n",
       "      <th>mean</th>\n",
       "      <th>std</th>\n",
       "      <th>min</th>\n",
       "      <th>25%</th>\n",
       "      <th>50%</th>\n",
       "      <th>75%</th>\n",
       "      <th>max</th>\n",
       "    </tr>\n",
       "    <tr>\n",
       "      <th>domain</th>\n",
       "      <th>age_amp_greater_6</th>\n",
       "      <th></th>\n",
       "      <th></th>\n",
       "      <th></th>\n",
       "      <th></th>\n",
       "      <th></th>\n",
       "      <th></th>\n",
       "      <th></th>\n",
       "      <th></th>\n",
       "    </tr>\n",
       "  </thead>\n",
       "  <tbody>\n",
       "    <tr>\n",
       "      <td rowspan=\"2\" valign=\"top\">Articulation</td>\n",
       "      <td>False</td>\n",
       "      <td>512.0</td>\n",
       "      <td>91.417969</td>\n",
       "      <td>17.980450</td>\n",
       "      <td>40.0</td>\n",
       "      <td>81.00</td>\n",
       "      <td>94.0</td>\n",
       "      <td>106.00</td>\n",
       "      <td>123.0</td>\n",
       "    </tr>\n",
       "    <tr>\n",
       "      <td>True</td>\n",
       "      <td>415.0</td>\n",
       "      <td>80.306024</td>\n",
       "      <td>20.580121</td>\n",
       "      <td>0.0</td>\n",
       "      <td>67.00</td>\n",
       "      <td>83.0</td>\n",
       "      <td>97.00</td>\n",
       "      <td>118.0</td>\n",
       "    </tr>\n",
       "    <tr>\n",
       "      <td rowspan=\"2\" valign=\"top\">Expressive Language</td>\n",
       "      <td>False</td>\n",
       "      <td>576.0</td>\n",
       "      <td>90.942708</td>\n",
       "      <td>18.589811</td>\n",
       "      <td>45.0</td>\n",
       "      <td>77.00</td>\n",
       "      <td>92.0</td>\n",
       "      <td>104.00</td>\n",
       "      <td>141.0</td>\n",
       "    </tr>\n",
       "    <tr>\n",
       "      <td>True</td>\n",
       "      <td>607.0</td>\n",
       "      <td>82.069193</td>\n",
       "      <td>19.899960</td>\n",
       "      <td>45.0</td>\n",
       "      <td>67.00</td>\n",
       "      <td>80.0</td>\n",
       "      <td>96.50</td>\n",
       "      <td>136.0</td>\n",
       "    </tr>\n",
       "    <tr>\n",
       "      <td rowspan=\"2\" valign=\"top\">Expressive Vocabulary</td>\n",
       "      <td>False</td>\n",
       "      <td>705.0</td>\n",
       "      <td>101.946099</td>\n",
       "      <td>18.199102</td>\n",
       "      <td>41.0</td>\n",
       "      <td>90.00</td>\n",
       "      <td>103.0</td>\n",
       "      <td>116.00</td>\n",
       "      <td>146.0</td>\n",
       "    </tr>\n",
       "    <tr>\n",
       "      <td>True</td>\n",
       "      <td>570.0</td>\n",
       "      <td>93.471930</td>\n",
       "      <td>21.055957</td>\n",
       "      <td>0.0</td>\n",
       "      <td>80.00</td>\n",
       "      <td>94.0</td>\n",
       "      <td>107.00</td>\n",
       "      <td>147.0</td>\n",
       "    </tr>\n",
       "    <tr>\n",
       "      <td rowspan=\"2\" valign=\"top\">Language</td>\n",
       "      <td>False</td>\n",
       "      <td>591.0</td>\n",
       "      <td>92.710660</td>\n",
       "      <td>18.952730</td>\n",
       "      <td>45.0</td>\n",
       "      <td>79.00</td>\n",
       "      <td>94.0</td>\n",
       "      <td>106.00</td>\n",
       "      <td>141.0</td>\n",
       "    </tr>\n",
       "    <tr>\n",
       "      <td>True</td>\n",
       "      <td>627.0</td>\n",
       "      <td>84.177033</td>\n",
       "      <td>21.051107</td>\n",
       "      <td>40.0</td>\n",
       "      <td>69.00</td>\n",
       "      <td>83.0</td>\n",
       "      <td>98.00</td>\n",
       "      <td>163.0</td>\n",
       "    </tr>\n",
       "    <tr>\n",
       "      <td rowspan=\"2\" valign=\"top\">Receptive Language</td>\n",
       "      <td>False</td>\n",
       "      <td>582.0</td>\n",
       "      <td>95.082474</td>\n",
       "      <td>17.413274</td>\n",
       "      <td>50.0</td>\n",
       "      <td>85.00</td>\n",
       "      <td>96.0</td>\n",
       "      <td>107.00</td>\n",
       "      <td>145.0</td>\n",
       "    </tr>\n",
       "    <tr>\n",
       "      <td>True</td>\n",
       "      <td>605.0</td>\n",
       "      <td>86.874380</td>\n",
       "      <td>19.875375</td>\n",
       "      <td>50.0</td>\n",
       "      <td>71.00</td>\n",
       "      <td>88.0</td>\n",
       "      <td>101.00</td>\n",
       "      <td>149.0</td>\n",
       "    </tr>\n",
       "    <tr>\n",
       "      <td rowspan=\"2\" valign=\"top\">Receptive Vocabulary</td>\n",
       "      <td>False</td>\n",
       "      <td>709.0</td>\n",
       "      <td>99.471086</td>\n",
       "      <td>17.448417</td>\n",
       "      <td>38.0</td>\n",
       "      <td>88.00</td>\n",
       "      <td>100.0</td>\n",
       "      <td>112.00</td>\n",
       "      <td>149.0</td>\n",
       "    </tr>\n",
       "    <tr>\n",
       "      <td>True</td>\n",
       "      <td>580.0</td>\n",
       "      <td>90.386207</td>\n",
       "      <td>18.869312</td>\n",
       "      <td>0.0</td>\n",
       "      <td>78.75</td>\n",
       "      <td>91.0</td>\n",
       "      <td>103.25</td>\n",
       "      <td>159.0</td>\n",
       "    </tr>\n",
       "  </tbody>\n",
       "</table>\n",
       "</div>"
      ],
      "text/plain": [
       "                                         count        mean        std   min  \\\n",
       "domain                age_amp_greater_6                                       \n",
       "Articulation          False              512.0   91.417969  17.980450  40.0   \n",
       "                      True               415.0   80.306024  20.580121   0.0   \n",
       "Expressive Language   False              576.0   90.942708  18.589811  45.0   \n",
       "                      True               607.0   82.069193  19.899960  45.0   \n",
       "Expressive Vocabulary False              705.0  101.946099  18.199102  41.0   \n",
       "                      True               570.0   93.471930  21.055957   0.0   \n",
       "Language              False              591.0   92.710660  18.952730  45.0   \n",
       "                      True               627.0   84.177033  21.051107  40.0   \n",
       "Receptive Language    False              582.0   95.082474  17.413274  50.0   \n",
       "                      True               605.0   86.874380  19.875375  50.0   \n",
       "Receptive Vocabulary  False              709.0   99.471086  17.448417  38.0   \n",
       "                      True               580.0   90.386207  18.869312   0.0   \n",
       "\n",
       "                                           25%    50%     75%    max  \n",
       "domain                age_amp_greater_6                               \n",
       "Articulation          False              81.00   94.0  106.00  123.0  \n",
       "                      True               67.00   83.0   97.00  118.0  \n",
       "Expressive Language   False              77.00   92.0  104.00  141.0  \n",
       "                      True               67.00   80.0   96.50  136.0  \n",
       "Expressive Vocabulary False              90.00  103.0  116.00  146.0  \n",
       "                      True               80.00   94.0  107.00  147.0  \n",
       "Language              False              79.00   94.0  106.00  141.0  \n",
       "                      True               69.00   83.0   98.00  163.0  \n",
       "Receptive Language    False              85.00   96.0  107.00  145.0  \n",
       "                      True               71.00   88.0  101.00  149.0  \n",
       "Receptive Vocabulary  False              88.00  100.0  112.00  149.0  \n",
       "                      True               78.75   91.0  103.25  159.0  "
      ]
     },
     "execution_count": 34,
     "metadata": {},
     "output_type": "execute_result"
    }
   ],
   "source": [
    "(test_scores.assign(age_amp_greater_6=test_scores.age_amp>6)\n",
    "         .groupby(['domain', 'age_amp_greater_6'])\n",
    "         .score.describe())"
   ]
  },
  {
   "cell_type": "code",
   "execution_count": 35,
   "metadata": {},
   "outputs": [
    {
     "data": {
      "image/png": "[encoded data removed]",
      "text/plain": [
       "<Figure size 864x360 with 1 Axes>"
      ]
     },
     "metadata": {},
     "output_type": "display_data"
    }
   ],
   "source": [
    "sns.catplot(\"domain_labels\", y=\"score\", hue='age_amp_greater_6', data=test_scores.assign(age_amp_greater_6=test_scores.age_amp>6),\n",
    "            kind=\"box\", color='white', fliersize=0)\n",
    "fig = plt.gcf()\n",
    "fig.set_size_inches(12, 5)\n",
    "fig.axes[0].set_xlabel('');"
   ]
  },
  {
   "cell_type": "markdown",
   "metadata": {},
   "source": [
    "Age of enrollment greater than 6mo."
   ]
  },
  {
   "cell_type": "code",
   "execution_count": 36,
   "metadata": {},
   "outputs": [
    {
     "data": {
      "text/html": [
       "<div>\n",
       "<style scoped>\n",
       "    .dataframe tbody tr th:only-of-type {\n",
       "        vertical-align: middle;\n",
       "    }\n",
       "\n",
       "    .dataframe tbody tr th {\n",
       "        vertical-align: top;\n",
       "    }\n",
       "\n",
       "    .dataframe thead th {\n",
       "        text-align: right;\n",
       "    }\n",
       "</style>\n",
       "<table border=\"1\" class=\"dataframe\">\n",
       "  <thead>\n",
       "    <tr style=\"text-align: right;\">\n",
       "      <th></th>\n",
       "      <th></th>\n",
       "      <th>count</th>\n",
       "      <th>mean</th>\n",
       "      <th>std</th>\n",
       "      <th>min</th>\n",
       "      <th>25%</th>\n",
       "      <th>50%</th>\n",
       "      <th>75%</th>\n",
       "      <th>max</th>\n",
       "    </tr>\n",
       "    <tr>\n",
       "      <th>domain</th>\n",
       "      <th>age_enroll_greater_6</th>\n",
       "      <th></th>\n",
       "      <th></th>\n",
       "      <th></th>\n",
       "      <th></th>\n",
       "      <th></th>\n",
       "      <th></th>\n",
       "      <th></th>\n",
       "      <th></th>\n",
       "    </tr>\n",
       "  </thead>\n",
       "  <tbody>\n",
       "    <tr>\n",
       "      <td rowspan=\"2\" valign=\"top\">Articulation</td>\n",
       "      <td>False</td>\n",
       "      <td>512.0</td>\n",
       "      <td>89.833984</td>\n",
       "      <td>19.649019</td>\n",
       "      <td>0.0</td>\n",
       "      <td>79.0</td>\n",
       "      <td>93.0</td>\n",
       "      <td>105.0</td>\n",
       "      <td>123.0</td>\n",
       "    </tr>\n",
       "    <tr>\n",
       "      <td>True</td>\n",
       "      <td>415.0</td>\n",
       "      <td>82.260241</td>\n",
       "      <td>19.561367</td>\n",
       "      <td>40.0</td>\n",
       "      <td>69.0</td>\n",
       "      <td>84.0</td>\n",
       "      <td>97.5</td>\n",
       "      <td>121.0</td>\n",
       "    </tr>\n",
       "    <tr>\n",
       "      <td rowspan=\"2\" valign=\"top\">Expressive Language</td>\n",
       "      <td>False</td>\n",
       "      <td>576.0</td>\n",
       "      <td>89.508681</td>\n",
       "      <td>19.403091</td>\n",
       "      <td>45.0</td>\n",
       "      <td>75.0</td>\n",
       "      <td>91.0</td>\n",
       "      <td>104.0</td>\n",
       "      <td>141.0</td>\n",
       "    </tr>\n",
       "    <tr>\n",
       "      <td>True</td>\n",
       "      <td>607.0</td>\n",
       "      <td>83.429984</td>\n",
       "      <td>19.674110</td>\n",
       "      <td>45.0</td>\n",
       "      <td>69.0</td>\n",
       "      <td>83.0</td>\n",
       "      <td>98.0</td>\n",
       "      <td>136.0</td>\n",
       "    </tr>\n",
       "    <tr>\n",
       "      <td rowspan=\"2\" valign=\"top\">Expressive Vocabulary</td>\n",
       "      <td>False</td>\n",
       "      <td>696.0</td>\n",
       "      <td>101.225575</td>\n",
       "      <td>19.908481</td>\n",
       "      <td>0.0</td>\n",
       "      <td>89.0</td>\n",
       "      <td>103.0</td>\n",
       "      <td>116.0</td>\n",
       "      <td>146.0</td>\n",
       "    </tr>\n",
       "    <tr>\n",
       "      <td>True</td>\n",
       "      <td>579.0</td>\n",
       "      <td>94.469775</td>\n",
       "      <td>19.428879</td>\n",
       "      <td>0.0</td>\n",
       "      <td>82.0</td>\n",
       "      <td>96.0</td>\n",
       "      <td>107.0</td>\n",
       "      <td>147.0</td>\n",
       "    </tr>\n",
       "    <tr>\n",
       "      <td rowspan=\"2\" valign=\"top\">Language</td>\n",
       "      <td>False</td>\n",
       "      <td>591.0</td>\n",
       "      <td>91.294416</td>\n",
       "      <td>19.789347</td>\n",
       "      <td>45.0</td>\n",
       "      <td>77.5</td>\n",
       "      <td>92.0</td>\n",
       "      <td>106.0</td>\n",
       "      <td>141.0</td>\n",
       "    </tr>\n",
       "    <tr>\n",
       "      <td>True</td>\n",
       "      <td>627.0</td>\n",
       "      <td>85.511962</td>\n",
       "      <td>20.778409</td>\n",
       "      <td>40.0</td>\n",
       "      <td>69.0</td>\n",
       "      <td>85.0</td>\n",
       "      <td>100.0</td>\n",
       "      <td>163.0</td>\n",
       "    </tr>\n",
       "    <tr>\n",
       "      <td rowspan=\"2\" valign=\"top\">Receptive Language</td>\n",
       "      <td>False</td>\n",
       "      <td>581.0</td>\n",
       "      <td>94.008606</td>\n",
       "      <td>18.401881</td>\n",
       "      <td>50.0</td>\n",
       "      <td>83.0</td>\n",
       "      <td>94.0</td>\n",
       "      <td>107.0</td>\n",
       "      <td>145.0</td>\n",
       "    </tr>\n",
       "    <tr>\n",
       "      <td>True</td>\n",
       "      <td>606.0</td>\n",
       "      <td>87.917492</td>\n",
       "      <td>19.385002</td>\n",
       "      <td>50.0</td>\n",
       "      <td>73.0</td>\n",
       "      <td>88.5</td>\n",
       "      <td>101.0</td>\n",
       "      <td>149.0</td>\n",
       "    </tr>\n",
       "    <tr>\n",
       "      <td rowspan=\"2\" valign=\"top\">Receptive Vocabulary</td>\n",
       "      <td>False</td>\n",
       "      <td>703.0</td>\n",
       "      <td>97.987198</td>\n",
       "      <td>18.882938</td>\n",
       "      <td>0.0</td>\n",
       "      <td>86.0</td>\n",
       "      <td>99.0</td>\n",
       "      <td>111.0</td>\n",
       "      <td>149.0</td>\n",
       "    </tr>\n",
       "    <tr>\n",
       "      <td>True</td>\n",
       "      <td>586.0</td>\n",
       "      <td>92.259386</td>\n",
       "      <td>17.890387</td>\n",
       "      <td>40.0</td>\n",
       "      <td>80.0</td>\n",
       "      <td>93.0</td>\n",
       "      <td>105.0</td>\n",
       "      <td>159.0</td>\n",
       "    </tr>\n",
       "  </tbody>\n",
       "</table>\n",
       "</div>"
      ],
      "text/plain": [
       "                                            count        mean        std  \\\n",
       "domain                age_enroll_greater_6                                 \n",
       "Articulation          False                 512.0   89.833984  19.649019   \n",
       "                      True                  415.0   82.260241  19.561367   \n",
       "Expressive Language   False                 576.0   89.508681  19.403091   \n",
       "                      True                  607.0   83.429984  19.674110   \n",
       "Expressive Vocabulary False                 696.0  101.225575  19.908481   \n",
       "                      True                  579.0   94.469775  19.428879   \n",
       "Language              False                 591.0   91.294416  19.789347   \n",
       "                      True                  627.0   85.511962  20.778409   \n",
       "Receptive Language    False                 581.0   94.008606  18.401881   \n",
       "                      True                  606.0   87.917492  19.385002   \n",
       "Receptive Vocabulary  False                 703.0   97.987198  18.882938   \n",
       "                      True                  586.0   92.259386  17.890387   \n",
       "\n",
       "                                             min   25%    50%    75%    max  \n",
       "domain                age_enroll_greater_6                                   \n",
       "Articulation          False                  0.0  79.0   93.0  105.0  123.0  \n",
       "                      True                  40.0  69.0   84.0   97.5  121.0  \n",
       "Expressive Language   False                 45.0  75.0   91.0  104.0  141.0  \n",
       "                      True                  45.0  69.0   83.0   98.0  136.0  \n",
       "Expressive Vocabulary False                  0.0  89.0  103.0  116.0  146.0  \n",
       "                      True                   0.0  82.0   96.0  107.0  147.0  \n",
       "Language              False                 45.0  77.5   92.0  106.0  141.0  \n",
       "                      True                  40.0  69.0   85.0  100.0  163.0  \n",
       "Receptive Language    False                 50.0  83.0   94.0  107.0  145.0  \n",
       "                      True                  50.0  73.0   88.5  101.0  149.0  \n",
       "Receptive Vocabulary  False                  0.0  86.0   99.0  111.0  149.0  \n",
       "                      True                  40.0  80.0   93.0  105.0  159.0  "
      ]
     },
     "execution_count": 36,
     "metadata": {},
     "output_type": "execute_result"
    }
   ],
   "source": [
    "(test_scores.assign(age_enroll_greater_6=test_scores.age_int>6)\n",
    "         .groupby(['domain', 'age_enroll_greater_6'])\n",
    "         .score.describe())"
   ]
  },
  {
   "cell_type": "code",
   "execution_count": 37,
   "metadata": {},
   "outputs": [
    {
     "data": {
      "image/png": "[encoded data removed]",
      "text/plain": [
       "<Figure size 864x360 with 1 Axes>"
      ]
     },
     "metadata": {},
     "output_type": "display_data"
    }
   ],
   "source": [
    "sns.catplot(\"domain_labels\", y=\"score\", hue='age_enroll_greater_6', data=test_scores.assign(age_enroll_greater_6=test_scores.age_int>6),\n",
    "            kind=\"box\", color='white', fliersize=0)\n",
    "fig = plt.gcf()\n",
    "fig.set_size_inches(12, 5)\n",
    "fig.axes[0].set_xlabel('');"
   ]
  },
  {
   "cell_type": "markdown",
   "metadata": {},
   "source": [
    "(Non-)Profound hearing loss"
   ]
  },
  {
   "cell_type": "code",
   "execution_count": 38,
   "metadata": {},
   "outputs": [
    {
     "data": {
      "text/html": [
       "<div>\n",
       "<style scoped>\n",
       "    .dataframe tbody tr th:only-of-type {\n",
       "        vertical-align: middle;\n",
       "    }\n",
       "\n",
       "    .dataframe tbody tr th {\n",
       "        vertical-align: top;\n",
       "    }\n",
       "\n",
       "    .dataframe thead th {\n",
       "        text-align: right;\n",
       "    }\n",
       "</style>\n",
       "<table border=\"1\" class=\"dataframe\">\n",
       "  <thead>\n",
       "    <tr style=\"text-align: right;\">\n",
       "      <th></th>\n",
       "      <th></th>\n",
       "      <th>count</th>\n",
       "      <th>mean</th>\n",
       "      <th>std</th>\n",
       "      <th>min</th>\n",
       "      <th>25%</th>\n",
       "      <th>50%</th>\n",
       "      <th>75%</th>\n",
       "      <th>max</th>\n",
       "    </tr>\n",
       "    <tr>\n",
       "      <th>domain</th>\n",
       "      <th>non_profound_hl</th>\n",
       "      <th></th>\n",
       "      <th></th>\n",
       "      <th></th>\n",
       "      <th></th>\n",
       "      <th></th>\n",
       "      <th></th>\n",
       "      <th></th>\n",
       "      <th></th>\n",
       "    </tr>\n",
       "  </thead>\n",
       "  <tbody>\n",
       "    <tr>\n",
       "      <td rowspan=\"2\" valign=\"top\">Articulation</td>\n",
       "      <td>0.0</td>\n",
       "      <td>380.0</td>\n",
       "      <td>82.931579</td>\n",
       "      <td>20.736583</td>\n",
       "      <td>0.0</td>\n",
       "      <td>68.75</td>\n",
       "      <td>86.0</td>\n",
       "      <td>98.25</td>\n",
       "      <td>121.0</td>\n",
       "    </tr>\n",
       "    <tr>\n",
       "      <td>1.0</td>\n",
       "      <td>373.0</td>\n",
       "      <td>86.662198</td>\n",
       "      <td>18.767496</td>\n",
       "      <td>41.0</td>\n",
       "      <td>74.00</td>\n",
       "      <td>88.0</td>\n",
       "      <td>102.00</td>\n",
       "      <td>120.0</td>\n",
       "    </tr>\n",
       "    <tr>\n",
       "      <td rowspan=\"2\" valign=\"top\">Expressive Language</td>\n",
       "      <td>0.0</td>\n",
       "      <td>589.0</td>\n",
       "      <td>81.551783</td>\n",
       "      <td>19.493749</td>\n",
       "      <td>45.0</td>\n",
       "      <td>67.00</td>\n",
       "      <td>80.0</td>\n",
       "      <td>96.00</td>\n",
       "      <td>141.0</td>\n",
       "    </tr>\n",
       "    <tr>\n",
       "      <td>1.0</td>\n",
       "      <td>545.0</td>\n",
       "      <td>91.297248</td>\n",
       "      <td>18.914759</td>\n",
       "      <td>45.0</td>\n",
       "      <td>77.00</td>\n",
       "      <td>92.0</td>\n",
       "      <td>105.00</td>\n",
       "      <td>136.0</td>\n",
       "    </tr>\n",
       "    <tr>\n",
       "      <td rowspan=\"2\" valign=\"top\">Expressive Vocabulary</td>\n",
       "      <td>0.0</td>\n",
       "      <td>552.0</td>\n",
       "      <td>93.862319</td>\n",
       "      <td>20.913248</td>\n",
       "      <td>0.0</td>\n",
       "      <td>80.00</td>\n",
       "      <td>95.5</td>\n",
       "      <td>108.00</td>\n",
       "      <td>146.0</td>\n",
       "    </tr>\n",
       "    <tr>\n",
       "      <td>1.0</td>\n",
       "      <td>528.0</td>\n",
       "      <td>99.613636</td>\n",
       "      <td>18.193623</td>\n",
       "      <td>0.0</td>\n",
       "      <td>89.00</td>\n",
       "      <td>100.0</td>\n",
       "      <td>113.00</td>\n",
       "      <td>147.0</td>\n",
       "    </tr>\n",
       "    <tr>\n",
       "      <td rowspan=\"2\" valign=\"top\">Language</td>\n",
       "      <td>0.0</td>\n",
       "      <td>606.0</td>\n",
       "      <td>83.313531</td>\n",
       "      <td>20.273764</td>\n",
       "      <td>48.0</td>\n",
       "      <td>68.00</td>\n",
       "      <td>83.0</td>\n",
       "      <td>98.00</td>\n",
       "      <td>139.0</td>\n",
       "    </tr>\n",
       "    <tr>\n",
       "      <td>1.0</td>\n",
       "      <td>563.0</td>\n",
       "      <td>93.349911</td>\n",
       "      <td>19.599008</td>\n",
       "      <td>40.0</td>\n",
       "      <td>80.00</td>\n",
       "      <td>94.0</td>\n",
       "      <td>108.00</td>\n",
       "      <td>163.0</td>\n",
       "    </tr>\n",
       "    <tr>\n",
       "      <td rowspan=\"2\" valign=\"top\">Receptive Language</td>\n",
       "      <td>0.0</td>\n",
       "      <td>589.0</td>\n",
       "      <td>86.444822</td>\n",
       "      <td>19.595113</td>\n",
       "      <td>50.0</td>\n",
       "      <td>71.00</td>\n",
       "      <td>88.0</td>\n",
       "      <td>101.00</td>\n",
       "      <td>145.0</td>\n",
       "    </tr>\n",
       "    <tr>\n",
       "      <td>1.0</td>\n",
       "      <td>549.0</td>\n",
       "      <td>95.320583</td>\n",
       "      <td>17.663190</td>\n",
       "      <td>50.0</td>\n",
       "      <td>83.00</td>\n",
       "      <td>96.0</td>\n",
       "      <td>107.00</td>\n",
       "      <td>149.0</td>\n",
       "    </tr>\n",
       "    <tr>\n",
       "      <td rowspan=\"2\" valign=\"top\">Receptive Vocabulary</td>\n",
       "      <td>0.0</td>\n",
       "      <td>563.0</td>\n",
       "      <td>90.438721</td>\n",
       "      <td>18.630545</td>\n",
       "      <td>0.0</td>\n",
       "      <td>79.00</td>\n",
       "      <td>91.0</td>\n",
       "      <td>104.00</td>\n",
       "      <td>133.0</td>\n",
       "    </tr>\n",
       "    <tr>\n",
       "      <td>1.0</td>\n",
       "      <td>529.0</td>\n",
       "      <td>96.879017</td>\n",
       "      <td>16.866244</td>\n",
       "      <td>44.0</td>\n",
       "      <td>86.00</td>\n",
       "      <td>98.0</td>\n",
       "      <td>109.00</td>\n",
       "      <td>159.0</td>\n",
       "    </tr>\n",
       "  </tbody>\n",
       "</table>\n",
       "</div>"
      ],
      "text/plain": [
       "                                       count       mean        std   min  \\\n",
       "domain                non_profound_hl                                      \n",
       "Articulation          0.0              380.0  82.931579  20.736583   0.0   \n",
       "                      1.0              373.0  86.662198  18.767496  41.0   \n",
       "Expressive Language   0.0              589.0  81.551783  19.493749  45.0   \n",
       "                      1.0              545.0  91.297248  18.914759  45.0   \n",
       "Expressive Vocabulary 0.0              552.0  93.862319  20.913248   0.0   \n",
       "                      1.0              528.0  99.613636  18.193623   0.0   \n",
       "Language              0.0              606.0  83.313531  20.273764  48.0   \n",
       "                      1.0              563.0  93.349911  19.599008  40.0   \n",
       "Receptive Language    0.0              589.0  86.444822  19.595113  50.0   \n",
       "                      1.0              549.0  95.320583  17.663190  50.0   \n",
       "Receptive Vocabulary  0.0              563.0  90.438721  18.630545   0.0   \n",
       "                      1.0              529.0  96.879017  16.866244  44.0   \n",
       "\n",
       "                                         25%    50%     75%    max  \n",
       "domain                non_profound_hl                               \n",
       "Articulation          0.0              68.75   86.0   98.25  121.0  \n",
       "                      1.0              74.00   88.0  102.00  120.0  \n",
       "Expressive Language   0.0              67.00   80.0   96.00  141.0  \n",
       "                      1.0              77.00   92.0  105.00  136.0  \n",
       "Expressive Vocabulary 0.0              80.00   95.5  108.00  146.0  \n",
       "                      1.0              89.00  100.0  113.00  147.0  \n",
       "Language              0.0              68.00   83.0   98.00  139.0  \n",
       "                      1.0              80.00   94.0  108.00  163.0  \n",
       "Receptive Language    0.0              71.00   88.0  101.00  145.0  \n",
       "                      1.0              83.00   96.0  107.00  149.0  \n",
       "Receptive Vocabulary  0.0              79.00   91.0  104.00  133.0  \n",
       "                      1.0              86.00   98.0  109.00  159.0  "
      ]
     },
     "execution_count": 38,
     "metadata": {},
     "output_type": "execute_result"
    }
   ],
   "source": [
    "(test_scores.assign(non_profound_hl=test_scores.deg_hl_below6)\n",
    "         .groupby(['domain', 'non_profound_hl'])\n",
    "         .score.describe())"
   ]
  },
  {
   "cell_type": "code",
   "execution_count": 39,
   "metadata": {},
   "outputs": [
    {
     "data": {
      "image/png": "[encoded data removed]",
      "text/plain": [
       "<Figure size 864x360 with 1 Axes>"
      ]
     },
     "metadata": {},
     "output_type": "display_data"
    }
   ],
   "source": [
    "sns.catplot(\"domain_labels\", y=\"score\", hue='non_profound_hl', data=test_scores.assign(non_profound_hl=test_scores.deg_hl_below6),\n",
    "            kind=\"box\", color='white', fliersize=0)\n",
    "fig = plt.gcf()\n",
    "fig.set_size_inches(12, 5)\n",
    "fig.axes[0].set_xlabel('');"
   ]
  },
  {
   "cell_type": "markdown",
   "metadata": {},
   "source": [
    "Mother with(out) college education"
   ]
  },
  {
   "cell_type": "code",
   "execution_count": 40,
   "metadata": {},
   "outputs": [
    {
     "data": {
      "text/html": [
       "<div>\n",
       "<style scoped>\n",
       "    .dataframe tbody tr th:only-of-type {\n",
       "        vertical-align: middle;\n",
       "    }\n",
       "\n",
       "    .dataframe tbody tr th {\n",
       "        vertical-align: top;\n",
       "    }\n",
       "\n",
       "    .dataframe thead th {\n",
       "        text-align: right;\n",
       "    }\n",
       "</style>\n",
       "<table border=\"1\" class=\"dataframe\">\n",
       "  <thead>\n",
       "    <tr style=\"text-align: right;\">\n",
       "      <th></th>\n",
       "      <th></th>\n",
       "      <th>count</th>\n",
       "      <th>mean</th>\n",
       "      <th>std</th>\n",
       "      <th>min</th>\n",
       "      <th>25%</th>\n",
       "      <th>50%</th>\n",
       "      <th>75%</th>\n",
       "      <th>max</th>\n",
       "    </tr>\n",
       "    <tr>\n",
       "      <th>domain</th>\n",
       "      <th>mother_college</th>\n",
       "      <th></th>\n",
       "      <th></th>\n",
       "      <th></th>\n",
       "      <th></th>\n",
       "      <th></th>\n",
       "      <th></th>\n",
       "      <th></th>\n",
       "      <th></th>\n",
       "    </tr>\n",
       "  </thead>\n",
       "  <tbody>\n",
       "    <tr>\n",
       "      <td rowspan=\"2\" valign=\"top\">Articulation</td>\n",
       "      <td>0.0</td>\n",
       "      <td>485.0</td>\n",
       "      <td>84.853608</td>\n",
       "      <td>19.612918</td>\n",
       "      <td>0.0</td>\n",
       "      <td>72.00</td>\n",
       "      <td>86.0</td>\n",
       "      <td>101.00</td>\n",
       "      <td>121.0</td>\n",
       "    </tr>\n",
       "    <tr>\n",
       "      <td>1.0</td>\n",
       "      <td>130.0</td>\n",
       "      <td>87.723077</td>\n",
       "      <td>19.872468</td>\n",
       "      <td>40.0</td>\n",
       "      <td>75.25</td>\n",
       "      <td>89.5</td>\n",
       "      <td>103.00</td>\n",
       "      <td>121.0</td>\n",
       "    </tr>\n",
       "    <tr>\n",
       "      <td rowspan=\"2\" valign=\"top\">Expressive Language</td>\n",
       "      <td>0.0</td>\n",
       "      <td>710.0</td>\n",
       "      <td>84.794366</td>\n",
       "      <td>18.938173</td>\n",
       "      <td>45.0</td>\n",
       "      <td>69.00</td>\n",
       "      <td>85.0</td>\n",
       "      <td>99.75</td>\n",
       "      <td>141.0</td>\n",
       "    </tr>\n",
       "    <tr>\n",
       "      <td>1.0</td>\n",
       "      <td>230.0</td>\n",
       "      <td>96.095652</td>\n",
       "      <td>20.233559</td>\n",
       "      <td>45.0</td>\n",
       "      <td>81.00</td>\n",
       "      <td>98.0</td>\n",
       "      <td>111.00</td>\n",
       "      <td>140.0</td>\n",
       "    </tr>\n",
       "    <tr>\n",
       "      <td rowspan=\"2\" valign=\"top\">Expressive Vocabulary</td>\n",
       "      <td>0.0</td>\n",
       "      <td>702.0</td>\n",
       "      <td>96.188034</td>\n",
       "      <td>19.850841</td>\n",
       "      <td>0.0</td>\n",
       "      <td>83.00</td>\n",
       "      <td>97.0</td>\n",
       "      <td>110.00</td>\n",
       "      <td>146.0</td>\n",
       "    </tr>\n",
       "    <tr>\n",
       "      <td>1.0</td>\n",
       "      <td>226.0</td>\n",
       "      <td>103.938053</td>\n",
       "      <td>18.784051</td>\n",
       "      <td>49.0</td>\n",
       "      <td>93.00</td>\n",
       "      <td>105.0</td>\n",
       "      <td>117.00</td>\n",
       "      <td>147.0</td>\n",
       "    </tr>\n",
       "    <tr>\n",
       "      <td rowspan=\"2\" valign=\"top\">Language</td>\n",
       "      <td>0.0</td>\n",
       "      <td>735.0</td>\n",
       "      <td>86.576871</td>\n",
       "      <td>19.684342</td>\n",
       "      <td>48.0</td>\n",
       "      <td>72.00</td>\n",
       "      <td>86.0</td>\n",
       "      <td>100.00</td>\n",
       "      <td>139.0</td>\n",
       "    </tr>\n",
       "    <tr>\n",
       "      <td>1.0</td>\n",
       "      <td>237.0</td>\n",
       "      <td>98.717300</td>\n",
       "      <td>20.354492</td>\n",
       "      <td>48.0</td>\n",
       "      <td>83.00</td>\n",
       "      <td>100.0</td>\n",
       "      <td>114.00</td>\n",
       "      <td>163.0</td>\n",
       "    </tr>\n",
       "    <tr>\n",
       "      <td rowspan=\"2\" valign=\"top\">Receptive Language</td>\n",
       "      <td>0.0</td>\n",
       "      <td>716.0</td>\n",
       "      <td>89.607542</td>\n",
       "      <td>18.420979</td>\n",
       "      <td>50.0</td>\n",
       "      <td>75.00</td>\n",
       "      <td>90.0</td>\n",
       "      <td>103.00</td>\n",
       "      <td>138.0</td>\n",
       "    </tr>\n",
       "    <tr>\n",
       "      <td>1.0</td>\n",
       "      <td>229.0</td>\n",
       "      <td>99.593886</td>\n",
       "      <td>18.546673</td>\n",
       "      <td>50.0</td>\n",
       "      <td>87.00</td>\n",
       "      <td>101.0</td>\n",
       "      <td>114.00</td>\n",
       "      <td>149.0</td>\n",
       "    </tr>\n",
       "    <tr>\n",
       "      <td rowspan=\"2\" valign=\"top\">Receptive Vocabulary</td>\n",
       "      <td>0.0</td>\n",
       "      <td>708.0</td>\n",
       "      <td>93.281073</td>\n",
       "      <td>17.992182</td>\n",
       "      <td>38.0</td>\n",
       "      <td>82.00</td>\n",
       "      <td>95.0</td>\n",
       "      <td>107.00</td>\n",
       "      <td>136.0</td>\n",
       "    </tr>\n",
       "    <tr>\n",
       "      <td>1.0</td>\n",
       "      <td>230.0</td>\n",
       "      <td>101.591304</td>\n",
       "      <td>17.526472</td>\n",
       "      <td>42.0</td>\n",
       "      <td>91.00</td>\n",
       "      <td>103.0</td>\n",
       "      <td>113.00</td>\n",
       "      <td>159.0</td>\n",
       "    </tr>\n",
       "  </tbody>\n",
       "</table>\n",
       "</div>"
      ],
      "text/plain": [
       "                                      count        mean        std   min  \\\n",
       "domain                mother_college                                       \n",
       "Articulation          0.0             485.0   84.853608  19.612918   0.0   \n",
       "                      1.0             130.0   87.723077  19.872468  40.0   \n",
       "Expressive Language   0.0             710.0   84.794366  18.938173  45.0   \n",
       "                      1.0             230.0   96.095652  20.233559  45.0   \n",
       "Expressive Vocabulary 0.0             702.0   96.188034  19.850841   0.0   \n",
       "                      1.0             226.0  103.938053  18.784051  49.0   \n",
       "Language              0.0             735.0   86.576871  19.684342  48.0   \n",
       "                      1.0             237.0   98.717300  20.354492  48.0   \n",
       "Receptive Language    0.0             716.0   89.607542  18.420979  50.0   \n",
       "                      1.0             229.0   99.593886  18.546673  50.0   \n",
       "Receptive Vocabulary  0.0             708.0   93.281073  17.992182  38.0   \n",
       "                      1.0             230.0  101.591304  17.526472  42.0   \n",
       "\n",
       "                                        25%    50%     75%    max  \n",
       "domain                mother_college                               \n",
       "Articulation          0.0             72.00   86.0  101.00  121.0  \n",
       "                      1.0             75.25   89.5  103.00  121.0  \n",
       "Expressive Language   0.0             69.00   85.0   99.75  141.0  \n",
       "                      1.0             81.00   98.0  111.00  140.0  \n",
       "Expressive Vocabulary 0.0             83.00   97.0  110.00  146.0  \n",
       "                      1.0             93.00  105.0  117.00  147.0  \n",
       "Language              0.0             72.00   86.0  100.00  139.0  \n",
       "                      1.0             83.00  100.0  114.00  163.0  \n",
       "Receptive Language    0.0             75.00   90.0  103.00  138.0  \n",
       "                      1.0             87.00  101.0  114.00  149.0  \n",
       "Receptive Vocabulary  0.0             82.00   95.0  107.00  136.0  \n",
       "                      1.0             91.00  103.0  113.00  159.0  "
      ]
     },
     "execution_count": 40,
     "metadata": {},
     "output_type": "execute_result"
    }
   ],
   "source": [
    "test_scores.groupby(['domain', 'mother_college']).score.describe()"
   ]
  },
  {
   "cell_type": "code",
   "execution_count": 41,
   "metadata": {},
   "outputs": [
    {
     "data": {
      "image/png": "[encoded data removed]",
      "text/plain": [
       "<Figure size 864x360 with 1 Axes>"
      ]
     },
     "metadata": {},
     "output_type": "display_data"
    }
   ],
   "source": [
    "sns.catplot(\"domain_labels\", y=\"score\", hue='mother_college', data=test_scores,\n",
    "            kind=\"box\", color='white', fliersize=0)\n",
    "fig = plt.gcf()\n",
    "fig.set_size_inches(12, 5)\n",
    "fig.axes[0].set_xlabel('');"
   ]
  }
 ],
 "metadata": {
  "kernelspec": {
   "display_name": "Python 3",
   "language": "python",
   "name": "python3"
  },
  "language_info": {
   "codemirror_mode": {
    "name": "ipython",
    "version": 3
   },
   "file_extension": ".py",
   "mimetype": "text/x-python",
   "name": "python",
   "nbconvert_exporter": "python",
   "pygments_lexer": "ipython3",
   "version": "3.7.3"
  }
 },
 "nbformat": 4,
 "nbformat_minor": 4
}
