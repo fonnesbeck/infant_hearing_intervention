{
 "cells": [
  {
   "cell_type": "code",
   "execution_count": 1,
   "metadata": {},
   "outputs": [],
   "source": [
    "# Import modules and set options\n",
    "%matplotlib inline\n",
    "import matplotlib.pyplot as plt\n",
    "import pandas as pd\n",
    "import numpy as np\n",
    "import seaborn as sns\n",
    "# import pandas_profiling\n",
    "\n",
    "sns.set(context='notebook', style='ticks')"
   ]
  },
  {
   "cell_type": "code",
   "execution_count": 2,
   "metadata": {},
   "outputs": [],
   "source": [
    "lsl_dr = (pd.read_csv('../data/clean/lsl_dr_frozen_09272019.csv', index_col=0, low_memory=False)\n",
    "                  .rename({'onset_1':'identify_mo'}, axis=1))"
   ]
  },
  {
   "cell_type": "code",
   "execution_count": 3,
   "metadata": {},
   "outputs": [
    {
     "data": {
      "text/plain": [
       "(65064, 246)"
      ]
     },
     "execution_count": 3,
     "metadata": {},
     "output_type": "execute_result"
    }
   ],
   "source": [
    "lsl_dr.shape"
   ]
  },
  {
   "cell_type": "markdown",
   "metadata": {},
   "source": [
    "Exclusions"
   ]
  },
  {
   "cell_type": "code",
   "execution_count": 4,
   "metadata": {},
   "outputs": [],
   "source": [
    "other_etiology = (lsl_dr[['etiology_3___2', 'etiology_3___4', 'etiology_3___5', 'etiology_3___6', 'etiology_3___9',\n",
    "       'etiology_oth___1', 'etiology_oth___3', 'etiology_oth___4', 'etiology_oth___8', 'etiology_oth___9']]\n",
    "                      .sum(1).astype(bool))"
   ]
  },
  {
   "cell_type": "code",
   "execution_count": 5,
   "metadata": {},
   "outputs": [],
   "source": [
    "inclusion_mask = (~lsl_dr.non_english.astype(bool) \n",
    "                  & (lsl_dr.hl==0)\n",
    "                  & ((lsl_dr.autism==0)))"
   ]
  },
  {
   "cell_type": "code",
   "execution_count": 6,
   "metadata": {},
   "outputs": [
    {
     "data": {
      "text/plain": [
       "(4527, 246)"
      ]
     },
     "execution_count": 6,
     "metadata": {},
     "output_type": "execute_result"
    }
   ],
   "source": [
    "autism_subset = lsl_dr[inclusion_mask]\n",
    "autism_subset.drop_duplicates(subset='study_id').shape"
   ]
  },
  {
   "cell_type": "markdown",
   "metadata": {},
   "source": [
    "## Demographics"
   ]
  },
  {
   "cell_type": "code",
   "execution_count": 7,
   "metadata": {},
   "outputs": [
    {
     "data": {
      "text/plain": [
       "Male      25089\n",
       "Female    23836\n",
       "Name: male, dtype: int64"
      ]
     },
     "execution_count": 7,
     "metadata": {},
     "output_type": "execute_result"
    }
   ],
   "source": [
    "autism_subset.male.replace({1: 'Male', 0: 'Female', np.nan: 'Missing'}).value_counts()"
   ]
  },
  {
   "cell_type": "code",
   "execution_count": 8,
   "metadata": {},
   "outputs": [
    {
     "data": {
      "text/plain": [
       "White       29629\n",
       "Black        5819\n",
       "Hispanic     5264\n",
       "Other        4741\n",
       "Asian        2736\n",
       "Missing       736\n",
       "Name: race, dtype: int64"
      ]
     },
     "execution_count": 8,
     "metadata": {},
     "output_type": "execute_result"
    }
   ],
   "source": [
    "autism_subset.race.replace({0:'White', 1:'Black', 2:'Hispanic', 3:'Asian', 4:'Other', np.nan:'Missing'}).value_counts()"
   ]
  },
  {
   "cell_type": "code",
   "execution_count": 9,
   "metadata": {},
   "outputs": [
    {
     "data": {
      "text/plain": [
       ">=36 weeks    36412\n",
       "<36 weeks     12513\n",
       "Name: premature_age, dtype: int64"
      ]
     },
     "execution_count": 9,
     "metadata": {},
     "output_type": "execute_result"
    }
   ],
   "source": [
    "(autism_subset.premature_age.replace({9:None})==8).replace({True: '>=36 weeks', False: '<36 weeks', \n",
    "                                                            np.nan: 'Unknown'}).value_counts()"
   ]
  },
  {
   "cell_type": "code",
   "execution_count": 10,
   "metadata": {},
   "outputs": [
    {
     "data": {
      "text/plain": [
       "1          11841\n",
       "2          19200\n",
       "3           9712\n",
       "4+          5594\n",
       "Missing     2578\n",
       "Name: sib, dtype: int64"
      ]
     },
     "execution_count": 10,
     "metadata": {},
     "output_type": "execute_result"
    }
   ],
   "source": [
    "autism_subset.sib.replace({0:'1', 1:'2', 2:'3', 3:'4+', np.nan:'Missing'}).value_counts().sort_index()"
   ]
  },
  {
   "cell_type": "code",
   "execution_count": 11,
   "metadata": {},
   "outputs": [
    {
     "data": {
      "text/plain": [
       "Some high school           15042\n",
       "High school diploma/GED    13364\n",
       "Unknown                    12054\n",
       "Some college                7232\n",
       "8th grade or less           1233\n",
       "Name: mother_ed, dtype: int64"
      ]
     },
     "execution_count": 11,
     "metadata": {},
     "output_type": "execute_result"
    }
   ],
   "source": [
    "ed_lookup = {0:\"8th grade or less\",\n",
    "1:\"Some high school\",\n",
    "2:\"High school diploma/GED\",\n",
    "3:\"Some college\",\n",
    "4:\"Bachelor's degree\",\n",
    "5:\"Post graduate degree\",\n",
    "6:\"Unknown\",\n",
    "np.nan:\"Unknown\"}\n",
    "\n",
    "autism_subset.mother_ed.replace(ed_lookup).value_counts()"
   ]
  },
  {
   "cell_type": "code",
   "execution_count": 12,
   "metadata": {},
   "outputs": [
    {
     "data": {
      "text/plain": [
       "Unknown                    14724\n",
       "Bachelor's degree          11192\n",
       "High school diploma/GED     7518\n",
       "Some college                7290\n",
       "Post graduate degree        6853\n",
       "Some high school            1181\n",
       "8th grade or less            167\n",
       "Name: father_ed, dtype: int64"
      ]
     },
     "execution_count": 12,
     "metadata": {},
     "output_type": "execute_result"
    }
   ],
   "source": [
    "autism_subset.father_ed.replace(ed_lookup).value_counts()"
   ]
  },
  {
   "cell_type": "code",
   "execution_count": 13,
   "metadata": {},
   "outputs": [
    {
     "data": {
      "text/plain": [
       "Ideal Participation      15477\n",
       "Good Participation       12505\n",
       "Average Participation    10828\n",
       "Missing                   5806\n",
       "Below Average             3377\n",
       "Limited Participation      932\n",
       "Name: family_inv, dtype: int64"
      ]
     },
     "execution_count": 13,
     "metadata": {},
     "output_type": "execute_result"
    }
   ],
   "source": [
    "family_lookup = {0:\"Ideal Participation\",\n",
    "1:\"Good Participation\",\n",
    "2:\"Average Participation\",\n",
    "3:\"Below Average\",\n",
    "4:\"Limited Participation\",\n",
    "np.nan:\"Missing\"}\n",
    "\n",
    "autism_subset.family_inv.replace(family_lookup).value_counts()"
   ]
  },
  {
   "cell_type": "code",
   "execution_count": 14,
   "metadata": {},
   "outputs": [
    {
     "data": {
      "text/html": [
       "<div>\n",
       "<style scoped>\n",
       "    .dataframe tbody tr th:only-of-type {\n",
       "        vertical-align: middle;\n",
       "    }\n",
       "\n",
       "    .dataframe tbody tr th {\n",
       "        vertical-align: top;\n",
       "    }\n",
       "\n",
       "    .dataframe thead th {\n",
       "        text-align: right;\n",
       "    }\n",
       "</style>\n",
       "<table border=\"1\" class=\"dataframe\">\n",
       "  <thead>\n",
       "    <tr style=\"text-align: right;\">\n",
       "      <th></th>\n",
       "      <th>age_diag</th>\n",
       "      <th>age_amp</th>\n",
       "      <th>age_int</th>\n",
       "      <th>age</th>\n",
       "    </tr>\n",
       "  </thead>\n",
       "  <tbody>\n",
       "    <tr>\n",
       "      <th>count</th>\n",
       "      <td>43804.000000</td>\n",
       "      <td>42062.000000</td>\n",
       "      <td>40601.000000</td>\n",
       "      <td>48649.000000</td>\n",
       "    </tr>\n",
       "    <tr>\n",
       "      <th>mean</th>\n",
       "      <td>11.532114</td>\n",
       "      <td>16.586462</td>\n",
       "      <td>17.147829</td>\n",
       "      <td>29.260817</td>\n",
       "    </tr>\n",
       "    <tr>\n",
       "      <th>std</th>\n",
       "      <td>16.524365</td>\n",
       "      <td>17.338081</td>\n",
       "      <td>17.523954</td>\n",
       "      <td>24.888271</td>\n",
       "    </tr>\n",
       "    <tr>\n",
       "      <th>min</th>\n",
       "      <td>0.000000</td>\n",
       "      <td>0.000000</td>\n",
       "      <td>0.000000</td>\n",
       "      <td>0.000000</td>\n",
       "    </tr>\n",
       "    <tr>\n",
       "      <th>25%</th>\n",
       "      <td>1.000000</td>\n",
       "      <td>4.000000</td>\n",
       "      <td>4.000000</td>\n",
       "      <td>10.000000</td>\n",
       "    </tr>\n",
       "    <tr>\n",
       "      <th>50%</th>\n",
       "      <td>3.000000</td>\n",
       "      <td>10.000000</td>\n",
       "      <td>12.000000</td>\n",
       "      <td>25.000000</td>\n",
       "    </tr>\n",
       "    <tr>\n",
       "      <th>75%</th>\n",
       "      <td>18.000000</td>\n",
       "      <td>24.000000</td>\n",
       "      <td>24.000000</td>\n",
       "      <td>39.000000</td>\n",
       "    </tr>\n",
       "    <tr>\n",
       "      <th>max</th>\n",
       "      <td>160.000000</td>\n",
       "      <td>173.000000</td>\n",
       "      <td>200.000000</td>\n",
       "      <td>227.000000</td>\n",
       "    </tr>\n",
       "  </tbody>\n",
       "</table>\n",
       "</div>"
      ],
      "text/plain": [
       "           age_diag       age_amp       age_int           age\n",
       "count  43804.000000  42062.000000  40601.000000  48649.000000\n",
       "mean      11.532114     16.586462     17.147829     29.260817\n",
       "std       16.524365     17.338081     17.523954     24.888271\n",
       "min        0.000000      0.000000      0.000000      0.000000\n",
       "25%        1.000000      4.000000      4.000000     10.000000\n",
       "50%        3.000000     10.000000     12.000000     25.000000\n",
       "75%       18.000000     24.000000     24.000000     39.000000\n",
       "max      160.000000    173.000000    200.000000    227.000000"
      ]
     },
     "execution_count": 14,
     "metadata": {},
     "output_type": "execute_result"
    }
   ],
   "source": [
    "autism_subset[[\"age_diag\", \"age_amp\", \"age_int\", \"age\"]].describe()"
   ]
  },
  {
   "cell_type": "code",
   "execution_count": 15,
   "metadata": {},
   "outputs": [
    {
     "data": {
      "text/plain": [
       "OPTION only         25370\n",
       "OPTION + outside     8355\n",
       "Missing              5764\n",
       "Name: otherserv, dtype: int64"
      ]
     },
     "execution_count": 15,
     "metadata": {},
     "output_type": "execute_result"
    }
   ],
   "source": [
    "autism_subset.otherserv.replace({0: \"OPTION + outside\", 1: \"OPTION only\", 2: \"Missing\"}).value_counts()"
   ]
  },
  {
   "cell_type": "markdown",
   "metadata": {},
   "source": [
    "## Hearing loss"
   ]
  },
  {
   "cell_type": "code",
   "execution_count": 16,
   "metadata": {},
   "outputs": [
    {
     "data": {
      "text/plain": [
       "1093"
      ]
     },
     "execution_count": 16,
     "metadata": {},
     "output_type": "execute_result"
    }
   ],
   "source": [
    "autism_subset.degree_hl_ad.isnull().sum()"
   ]
  },
  {
   "cell_type": "code",
   "execution_count": 17,
   "metadata": {},
   "outputs": [
    {
     "data": {
      "text/plain": [
       "1173"
      ]
     },
     "execution_count": 17,
     "metadata": {},
     "output_type": "execute_result"
    }
   ],
   "source": [
    "autism_subset.degree_hl_as.isnull().sum()"
   ]
  },
  {
   "cell_type": "code",
   "execution_count": 18,
   "metadata": {},
   "outputs": [
    {
     "data": {
      "text/plain": [
       "6.0    21448\n",
       "3.0     6974\n",
       "4.0     6730\n",
       "5.0     6119\n",
       "2.0     3851\n",
       "0.0     1499\n",
       "1.0     1211\n",
       "Name: degree_hl_ad, dtype: int64"
      ]
     },
     "execution_count": 18,
     "metadata": {},
     "output_type": "execute_result"
    }
   ],
   "source": [
    "autism_subset.degree_hl_ad.value_counts()"
   ]
  },
  {
   "cell_type": "code",
   "execution_count": 19,
   "metadata": {},
   "outputs": [
    {
     "data": {
      "text/plain": [
       "6.0    21367\n",
       "3.0     7311\n",
       "4.0     6347\n",
       "5.0     5889\n",
       "2.0     3712\n",
       "0.0     1797\n",
       "1.0     1329\n",
       "Name: degree_hl_as, dtype: int64"
      ]
     },
     "execution_count": 19,
     "metadata": {},
     "output_type": "execute_result"
    }
   ],
   "source": [
    "autism_subset.degree_hl_as.value_counts()"
   ]
  },
  {
   "cell_type": "code",
   "execution_count": 20,
   "metadata": {},
   "outputs": [],
   "source": [
    "hl_data = autism_subset.set_index('study_id')[['bilateral_snhl',\n",
    "                     'bilateral_ansd',\n",
    "                     'bilateral_mixed',\n",
    "                     'bilateral_cond',\n",
    "                     'bilateral_normal',\n",
    "                     'bilateral_unk',\n",
    "                     'unilateral_snhl',\n",
    "                     'unilateral_ansd',\n",
    "                     'unilateral_mixed',\n",
    "                     'unilateral_cond',\n",
    "                     'unilateral_unk',\n",
    "                     'assymetrical']]"
   ]
  },
  {
   "cell_type": "markdown",
   "metadata": {},
   "source": [
    "One or both parents with hearing loss"
   ]
  },
  {
   "cell_type": "code",
   "execution_count": 21,
   "metadata": {},
   "outputs": [
    {
     "data": {
      "text/plain": [
       "0.0    38305\n",
       "1.0     2526\n",
       "Name: one_or_both_parent_hl, dtype: int64"
      ]
     },
     "execution_count": 21,
     "metadata": {},
     "output_type": "execute_result"
    }
   ],
   "source": [
    "autism_subset.one_or_both_parent_hl.value_counts()"
   ]
  },
  {
   "cell_type": "code",
   "execution_count": 22,
   "metadata": {},
   "outputs": [
    {
     "data": {
      "text/plain": [
       "8094"
      ]
     },
     "execution_count": 22,
     "metadata": {},
     "output_type": "execute_result"
    }
   ],
   "source": [
    "autism_subset.one_or_both_parent_hl.isnull().sum()"
   ]
  },
  {
   "cell_type": "markdown",
   "metadata": {},
   "source": [
    "Individuals with no hearing loss type"
   ]
  },
  {
   "cell_type": "code",
   "execution_count": 23,
   "metadata": {},
   "outputs": [
    {
     "data": {
      "text/plain": [
       "array(['0625-2018-0055', '0625-2018-0055', '0625-2018-0055', ...,\n",
       "       '0102-2010-3021', '0102-2010-3021', '0102-2010-3021'], dtype=object)"
      ]
     },
     "execution_count": 23,
     "metadata": {},
     "output_type": "execute_result"
    }
   ],
   "source": [
    "hl_data[hl_data.sum(1)==0].index.values"
   ]
  },
  {
   "cell_type": "code",
   "execution_count": 24,
   "metadata": {},
   "outputs": [
    {
     "data": {
      "text/plain": [
       "bilateral_snhl      37814\n",
       "unilateral_snhl      2009\n",
       "bilateral_cond       1838\n",
       "bilateral_ansd       1612\n",
       "assymetrical         1337\n",
       "bilateral_mixed      1173\n",
       "unilateral_cond      1086\n",
       "unilateral_mixed      172\n",
       "unilateral_ansd       159\n",
       "bilateral_normal       52\n",
       "unilateral_unk          0\n",
       "bilateral_unk           0\n",
       "dtype: int64"
      ]
     },
     "execution_count": 24,
     "metadata": {},
     "output_type": "execute_result"
    }
   ],
   "source": [
    "hl_data.sum().astype(int).sort_values(ascending=False)"
   ]
  },
  {
   "cell_type": "code",
   "execution_count": 25,
   "metadata": {},
   "outputs": [
    {
     "data": {
      "text/plain": [
       "bilateral_snhl      0.77\n",
       "unilateral_snhl     0.04\n",
       "bilateral_cond      0.04\n",
       "assymetrical        0.03\n",
       "bilateral_ansd      0.03\n",
       "unilateral_cond     0.02\n",
       "bilateral_mixed     0.02\n",
       "unilateral_unk      0.00\n",
       "unilateral_mixed    0.00\n",
       "unilateral_ansd     0.00\n",
       "bilateral_unk       0.00\n",
       "bilateral_normal    0.00\n",
       "dtype: float64"
      ]
     },
     "execution_count": 25,
     "metadata": {},
     "output_type": "execute_result"
    }
   ],
   "source": [
    "hl_data.mean().round(2).sort_values(ascending=False)"
   ]
  },
  {
   "cell_type": "code",
   "execution_count": 26,
   "metadata": {},
   "outputs": [],
   "source": [
    "tech_data = autism_subset.set_index('study_id')[['bilateral_ha',\n",
    "                     'bilateral_ci',\n",
    "                     'bimodal',\n",
    "                     'bilateral_other',\n",
    "                     'unilateral_ha',\n",
    "                     'unilateral_ci',\n",
    "                     'unilateral_other']]"
   ]
  },
  {
   "cell_type": "code",
   "execution_count": 27,
   "metadata": {},
   "outputs": [
    {
     "data": {
      "text/plain": [
       "bilateral_ci        32238\n",
       "bilateral_ha         9872\n",
       "bimodal              2999\n",
       "unilateral_ha        1387\n",
       "unilateral_ci        1018\n",
       "bilateral_other       166\n",
       "unilateral_other       69\n",
       "dtype: int64"
      ]
     },
     "execution_count": 27,
     "metadata": {},
     "output_type": "execute_result"
    }
   ],
   "source": [
    "tech_data.sum().astype(int).sort_values(ascending=False)"
   ]
  },
  {
   "cell_type": "code",
   "execution_count": 28,
   "metadata": {},
   "outputs": [
    {
     "data": {
      "text/plain": [
       "bilateral_ci        0.66\n",
       "bilateral_ha        0.20\n",
       "bimodal             0.06\n",
       "unilateral_ha       0.03\n",
       "unilateral_ci       0.02\n",
       "unilateral_other    0.00\n",
       "bilateral_other     0.00\n",
       "dtype: float64"
      ]
     },
     "execution_count": 28,
     "metadata": {},
     "output_type": "execute_result"
    }
   ],
   "source": [
    "tech_data.mean().round(2).sort_values(ascending=False)"
   ]
  },
  {
   "cell_type": "markdown",
   "metadata": {},
   "source": [
    "## Hearing Loss"
   ]
  },
  {
   "cell_type": "code",
   "execution_count": 29,
   "metadata": {},
   "outputs": [
    {
     "data": {
      "text/plain": [
       "Index(['degree_hl_ad', 'type_hl_ad', 'degree_hl_as', 'type_hl_as',\n",
       "       'bilateral_hl_normal', 'bilateral_hl_slight', 'bilateral_hl_mild',\n",
       "       'bilateral_hl_moderate', 'bilateral_hl_modsev', 'bilateral_hl_severe',\n",
       "       'bilateral_hl_profound', 'unilateral_hl_slight', 'unilateral_hl_mild',\n",
       "       'unilateral_hl_moderate', 'unilateral_hl_modsev',\n",
       "       'unilateral_hl_severe', 'unilateral_hl_profound'],\n",
       "      dtype='object')"
      ]
     },
     "execution_count": 29,
     "metadata": {},
     "output_type": "execute_result"
    }
   ],
   "source": [
    "autism_subset.columns[autism_subset.columns.str.contains('_hl_')]"
   ]
  },
  {
   "cell_type": "code",
   "execution_count": 30,
   "metadata": {},
   "outputs": [],
   "source": [
    "hl_data = autism_subset.set_index('study_id')[['bilateral_hl_normal', 'bilateral_hl_slight', 'bilateral_hl_mild',\n",
    "       'bilateral_hl_moderate', 'bilateral_hl_modsev', 'bilateral_hl_severe',\n",
    "       'bilateral_hl_profound', 'unilateral_hl_slight', 'unilateral_hl_mild',\n",
    "       'unilateral_hl_moderate', 'unilateral_hl_modsev',\n",
    "       'unilateral_hl_severe', 'unilateral_hl_profound']]"
   ]
  },
  {
   "cell_type": "code",
   "execution_count": 31,
   "metadata": {},
   "outputs": [
    {
     "data": {
      "text/plain": [
       "bilateral_hl_profound     18244\n",
       "bilateral_hl_moderate      4710\n",
       "bilateral_hl_modsev        3501\n",
       "bilateral_hl_severe        2947\n",
       "bilateral_hl_mild          2243\n",
       "unilateral_hl_modsev        778\n",
       "unilateral_hl_profound      771\n",
       "unilateral_hl_severe        590\n",
       "unilateral_hl_moderate      521\n",
       "bilateral_hl_slight         468\n",
       "unilateral_hl_mild          353\n",
       "unilateral_hl_slight        161\n",
       "bilateral_hl_normal          49\n",
       "dtype: int64"
      ]
     },
     "execution_count": 31,
     "metadata": {},
     "output_type": "execute_result"
    }
   ],
   "source": [
    "hl_data.sum().astype(int).sort_values(ascending=False)"
   ]
  },
  {
   "cell_type": "code",
   "execution_count": 32,
   "metadata": {},
   "outputs": [
    {
     "data": {
      "text/plain": [
       "bilateral_hl_profound     0.37\n",
       "bilateral_hl_moderate     0.10\n",
       "bilateral_hl_modsev       0.07\n",
       "bilateral_hl_severe       0.06\n",
       "bilateral_hl_mild         0.05\n",
       "unilateral_hl_profound    0.02\n",
       "unilateral_hl_modsev      0.02\n",
       "unilateral_hl_severe      0.01\n",
       "unilateral_hl_moderate    0.01\n",
       "unilateral_hl_mild        0.01\n",
       "bilateral_hl_slight       0.01\n",
       "unilateral_hl_slight      0.00\n",
       "bilateral_hl_normal       0.00\n",
       "dtype: float64"
      ]
     },
     "execution_count": 32,
     "metadata": {},
     "output_type": "execute_result"
    }
   ],
   "source": [
    "hl_data.mean().round(2).sort_values(ascending=False)"
   ]
  },
  {
   "cell_type": "markdown",
   "metadata": {},
   "source": [
    "Missing one or both hearing loss values (left/right)"
   ]
  },
  {
   "cell_type": "code",
   "execution_count": 33,
   "metadata": {},
   "outputs": [
    {
     "data": {
      "text/plain": [
       "1207"
      ]
     },
     "execution_count": 33,
     "metadata": {},
     "output_type": "execute_result"
    }
   ],
   "source": [
    "(autism_subset[['degree_hl_ad', 'degree_hl_as']].isnull().sum(1) > 0).sum()"
   ]
  },
  {
   "cell_type": "markdown",
   "metadata": {},
   "source": [
    "## Summary of scores by domain"
   ]
  },
  {
   "cell_type": "code",
   "execution_count": 34,
   "metadata": {},
   "outputs": [],
   "source": [
    "test_scores = lsl_dr[inclusion_mask].copy()"
   ]
  },
  {
   "cell_type": "code",
   "execution_count": 35,
   "metadata": {},
   "outputs": [],
   "source": [
    "test_scores.loc[(test_scores.domain=='Language') & (test_scores.test_type=='receptive'), \n",
    "           'domain'] = 'Receptive Language'\n",
    "test_scores.loc[(test_scores.domain=='Language') & (test_scores.test_type=='expressive'), \n",
    "           'domain'] = 'Expressive Language'"
   ]
  },
  {
   "cell_type": "code",
   "execution_count": 36,
   "metadata": {},
   "outputs": [
    {
     "data": {
      "text/html": [
       "<div>\n",
       "<style scoped>\n",
       "    .dataframe tbody tr th:only-of-type {\n",
       "        vertical-align: middle;\n",
       "    }\n",
       "\n",
       "    .dataframe tbody tr th {\n",
       "        vertical-align: top;\n",
       "    }\n",
       "\n",
       "    .dataframe thead th {\n",
       "        text-align: right;\n",
       "    }\n",
       "</style>\n",
       "<table border=\"1\" class=\"dataframe\">\n",
       "  <thead>\n",
       "    <tr style=\"text-align: right;\">\n",
       "      <th></th>\n",
       "      <th>count</th>\n",
       "      <th>mean</th>\n",
       "      <th>std</th>\n",
       "      <th>min</th>\n",
       "      <th>25%</th>\n",
       "      <th>50%</th>\n",
       "      <th>75%</th>\n",
       "      <th>max</th>\n",
       "    </tr>\n",
       "    <tr>\n",
       "      <th>domain</th>\n",
       "      <th></th>\n",
       "      <th></th>\n",
       "      <th></th>\n",
       "      <th></th>\n",
       "      <th></th>\n",
       "      <th></th>\n",
       "      <th></th>\n",
       "      <th></th>\n",
       "    </tr>\n",
       "  </thead>\n",
       "  <tbody>\n",
       "    <tr>\n",
       "      <th>Articulation</th>\n",
       "      <td>5082.0</td>\n",
       "      <td>79.5</td>\n",
       "      <td>17.5</td>\n",
       "      <td>9.7</td>\n",
       "      <td>69.5</td>\n",
       "      <td>80.9</td>\n",
       "      <td>92.4</td>\n",
       "      <td>121.5</td>\n",
       "    </tr>\n",
       "    <tr>\n",
       "      <th>Expressive Language</th>\n",
       "      <td>9596.0</td>\n",
       "      <td>84.2</td>\n",
       "      <td>20.7</td>\n",
       "      <td>0.0</td>\n",
       "      <td>69.0</td>\n",
       "      <td>85.0</td>\n",
       "      <td>99.0</td>\n",
       "      <td>150.0</td>\n",
       "    </tr>\n",
       "    <tr>\n",
       "      <th>Expressive Vocabulary</th>\n",
       "      <td>7336.0</td>\n",
       "      <td>90.4</td>\n",
       "      <td>19.0</td>\n",
       "      <td>0.0</td>\n",
       "      <td>78.0</td>\n",
       "      <td>91.0</td>\n",
       "      <td>103.0</td>\n",
       "      <td>150.0</td>\n",
       "    </tr>\n",
       "    <tr>\n",
       "      <th>Language</th>\n",
       "      <td>9788.0</td>\n",
       "      <td>84.3</td>\n",
       "      <td>21.7</td>\n",
       "      <td>0.0</td>\n",
       "      <td>68.0</td>\n",
       "      <td>84.0</td>\n",
       "      <td>100.0</td>\n",
       "      <td>250.0</td>\n",
       "    </tr>\n",
       "    <tr>\n",
       "      <th>Receptive Language</th>\n",
       "      <td>9510.0</td>\n",
       "      <td>86.6</td>\n",
       "      <td>20.3</td>\n",
       "      <td>0.0</td>\n",
       "      <td>72.6</td>\n",
       "      <td>87.0</td>\n",
       "      <td>101.0</td>\n",
       "      <td>150.2</td>\n",
       "    </tr>\n",
       "    <tr>\n",
       "      <th>Receptive Vocabulary</th>\n",
       "      <td>7613.0</td>\n",
       "      <td>88.5</td>\n",
       "      <td>17.9</td>\n",
       "      <td>10.0</td>\n",
       "      <td>77.0</td>\n",
       "      <td>89.0</td>\n",
       "      <td>101.0</td>\n",
       "      <td>160.0</td>\n",
       "    </tr>\n",
       "  </tbody>\n",
       "</table>\n",
       "</div>"
      ],
      "text/plain": [
       "                        count  mean   std   min   25%   50%    75%    max\n",
       "domain                                                                   \n",
       "Articulation           5082.0  79.5  17.5   9.7  69.5  80.9   92.4  121.5\n",
       "Expressive Language    9596.0  84.2  20.7   0.0  69.0  85.0   99.0  150.0\n",
       "Expressive Vocabulary  7336.0  90.4  19.0   0.0  78.0  91.0  103.0  150.0\n",
       "Language               9788.0  84.3  21.7   0.0  68.0  84.0  100.0  250.0\n",
       "Receptive Language     9510.0  86.6  20.3   0.0  72.6  87.0  101.0  150.2\n",
       "Receptive Vocabulary   7613.0  88.5  17.9  10.0  77.0  89.0  101.0  160.0"
      ]
     },
     "execution_count": 36,
     "metadata": {},
     "output_type": "execute_result"
    }
   ],
   "source": [
    "test_scores.groupby('domain').score_adj.describe().round(1)"
   ]
  },
  {
   "cell_type": "code",
   "execution_count": 37,
   "metadata": {},
   "outputs": [
    {
     "data": {
      "text/plain": [
       "array(['Expressive Vocabulary', 'Receptive Language',\n",
       "       'Expressive Language', 'Language', 'Receptive Vocabulary',\n",
       "       'Articulation'], dtype=object)"
      ]
     },
     "execution_count": 37,
     "metadata": {},
     "output_type": "execute_result"
    }
   ],
   "source": [
    "test_scores.domain.unique()"
   ]
  },
  {
   "cell_type": "code",
   "execution_count": 38,
   "metadata": {},
   "outputs": [],
   "source": [
    "test_scores['domain_labels'] = test_scores.domain.replace({'Expressive Vocabulary': 'Expressive\\nVocabulary', \n",
    "                                                           'Receptive Vocabulary': 'Receptive\\nVocabulary',\n",
    "                                                           'Receptive Language': 'Receptive\\nLanguage', \n",
    "                                                           'Expressive Language': 'Expressive\\nLanguage', \n",
    "                                                           'Language': 'Total\\nLanguage'})"
   ]
  },
  {
   "cell_type": "code",
   "execution_count": 39,
   "metadata": {},
   "outputs": [
    {
     "data": {
      "image/png": "[encoded data removed]",
      "text/plain": [
       "<Figure size 864x360 with 1 Axes>"
      ]
     },
     "metadata": {},
     "output_type": "display_data"
    }
   ],
   "source": [
    "sns.catplot(\"domain_labels\", y=\"score_adj\", data=test_scores, kind=\"box\", color='white', fliersize=0)\n",
    "# sns.swarmplot(\"domain_labels\", y=\"score\", data=test_scores, color='grey', alpha=0.5)\n",
    "fig = plt.gcf()\n",
    "fig.set_size_inches(12, 5)\n",
    "fig.axes[0].set_xlabel('');"
   ]
  },
  {
   "cell_type": "markdown",
   "metadata": {},
   "source": [
    "## Domain-specific summaries\n",
    "\n",
    "Age of amplification greater than 6mo."
   ]
  },
  {
   "cell_type": "code",
   "execution_count": 40,
   "metadata": {},
   "outputs": [
    {
     "data": {
      "text/html": [
       "<div>\n",
       "<style scoped>\n",
       "    .dataframe tbody tr th:only-of-type {\n",
       "        vertical-align: middle;\n",
       "    }\n",
       "\n",
       "    .dataframe tbody tr th {\n",
       "        vertical-align: top;\n",
       "    }\n",
       "\n",
       "    .dataframe thead th {\n",
       "        text-align: right;\n",
       "    }\n",
       "</style>\n",
       "<table border=\"1\" class=\"dataframe\">\n",
       "  <thead>\n",
       "    <tr style=\"text-align: right;\">\n",
       "      <th></th>\n",
       "      <th></th>\n",
       "      <th>count</th>\n",
       "      <th>mean</th>\n",
       "      <th>std</th>\n",
       "      <th>min</th>\n",
       "      <th>25%</th>\n",
       "      <th>50%</th>\n",
       "      <th>75%</th>\n",
       "      <th>max</th>\n",
       "    </tr>\n",
       "    <tr>\n",
       "      <th>domain</th>\n",
       "      <th>age_amp_greater_6</th>\n",
       "      <th></th>\n",
       "      <th></th>\n",
       "      <th></th>\n",
       "      <th></th>\n",
       "      <th></th>\n",
       "      <th></th>\n",
       "      <th></th>\n",
       "      <th></th>\n",
       "    </tr>\n",
       "  </thead>\n",
       "  <tbody>\n",
       "    <tr>\n",
       "      <th rowspan=\"2\" valign=\"top\">Articulation</th>\n",
       "      <th>False</th>\n",
       "      <td>2356.0</td>\n",
       "      <td>82.322105</td>\n",
       "      <td>16.809380</td>\n",
       "      <td>26.117271</td>\n",
       "      <td>73.491316</td>\n",
       "      <td>82.487141</td>\n",
       "      <td>94.613301</td>\n",
       "      <td>121.467040</td>\n",
       "    </tr>\n",
       "    <tr>\n",
       "      <th>True</th>\n",
       "      <td>2726.0</td>\n",
       "      <td>77.132105</td>\n",
       "      <td>17.662482</td>\n",
       "      <td>9.694174</td>\n",
       "      <td>65.938168</td>\n",
       "      <td>79.606387</td>\n",
       "      <td>90.325474</td>\n",
       "      <td>116.920355</td>\n",
       "    </tr>\n",
       "    <tr>\n",
       "      <th rowspan=\"2\" valign=\"top\">Expressive Language</th>\n",
       "      <th>False</th>\n",
       "      <td>4831.0</td>\n",
       "      <td>88.513758</td>\n",
       "      <td>20.575571</td>\n",
       "      <td>0.000000</td>\n",
       "      <td>74.000000</td>\n",
       "      <td>89.000000</td>\n",
       "      <td>103.000000</td>\n",
       "      <td>150.000000</td>\n",
       "    </tr>\n",
       "    <tr>\n",
       "      <th>True</th>\n",
       "      <td>4765.0</td>\n",
       "      <td>79.778243</td>\n",
       "      <td>19.959542</td>\n",
       "      <td>9.000000</td>\n",
       "      <td>65.000000</td>\n",
       "      <td>79.778804</td>\n",
       "      <td>94.000000</td>\n",
       "      <td>150.000000</td>\n",
       "    </tr>\n",
       "    <tr>\n",
       "      <th rowspan=\"2\" valign=\"top\">Expressive Vocabulary</th>\n",
       "      <th>False</th>\n",
       "      <td>3426.0</td>\n",
       "      <td>92.881518</td>\n",
       "      <td>19.123941</td>\n",
       "      <td>0.000000</td>\n",
       "      <td>80.000000</td>\n",
       "      <td>94.000000</td>\n",
       "      <td>106.000000</td>\n",
       "      <td>146.000000</td>\n",
       "    </tr>\n",
       "    <tr>\n",
       "      <th>True</th>\n",
       "      <td>3910.0</td>\n",
       "      <td>88.252228</td>\n",
       "      <td>18.665724</td>\n",
       "      <td>0.000000</td>\n",
       "      <td>76.038912</td>\n",
       "      <td>89.000000</td>\n",
       "      <td>100.000000</td>\n",
       "      <td>150.000000</td>\n",
       "    </tr>\n",
       "    <tr>\n",
       "      <th rowspan=\"2\" valign=\"top\">Language</th>\n",
       "      <th>False</th>\n",
       "      <td>4892.0</td>\n",
       "      <td>88.626939</td>\n",
       "      <td>21.698223</td>\n",
       "      <td>0.000000</td>\n",
       "      <td>74.000000</td>\n",
       "      <td>89.000000</td>\n",
       "      <td>104.000000</td>\n",
       "      <td>250.000000</td>\n",
       "    </tr>\n",
       "    <tr>\n",
       "      <th>True</th>\n",
       "      <td>4896.0</td>\n",
       "      <td>80.056737</td>\n",
       "      <td>20.879201</td>\n",
       "      <td>34.725726</td>\n",
       "      <td>64.000000</td>\n",
       "      <td>79.000000</td>\n",
       "      <td>95.000000</td>\n",
       "      <td>186.000000</td>\n",
       "    </tr>\n",
       "    <tr>\n",
       "      <th rowspan=\"2\" valign=\"top\">Receptive Language</th>\n",
       "      <th>False</th>\n",
       "      <td>4806.0</td>\n",
       "      <td>90.334700</td>\n",
       "      <td>20.165788</td>\n",
       "      <td>0.000000</td>\n",
       "      <td>76.000000</td>\n",
       "      <td>91.000000</td>\n",
       "      <td>105.000000</td>\n",
       "      <td>150.000000</td>\n",
       "    </tr>\n",
       "    <tr>\n",
       "      <th>True</th>\n",
       "      <td>4704.0</td>\n",
       "      <td>82.729101</td>\n",
       "      <td>19.792679</td>\n",
       "      <td>11.000000</td>\n",
       "      <td>67.923996</td>\n",
       "      <td>83.000000</td>\n",
       "      <td>97.000000</td>\n",
       "      <td>150.150059</td>\n",
       "    </tr>\n",
       "    <tr>\n",
       "      <th rowspan=\"2\" valign=\"top\">Receptive Vocabulary</th>\n",
       "      <th>False</th>\n",
       "      <td>3559.0</td>\n",
       "      <td>91.123542</td>\n",
       "      <td>17.847161</td>\n",
       "      <td>10.000000</td>\n",
       "      <td>80.000000</td>\n",
       "      <td>92.000000</td>\n",
       "      <td>104.000000</td>\n",
       "      <td>160.000000</td>\n",
       "    </tr>\n",
       "    <tr>\n",
       "      <th>True</th>\n",
       "      <td>4054.0</td>\n",
       "      <td>86.161415</td>\n",
       "      <td>17.658441</td>\n",
       "      <td>10.778705</td>\n",
       "      <td>74.759262</td>\n",
       "      <td>86.147331</td>\n",
       "      <td>98.000000</td>\n",
       "      <td>159.000000</td>\n",
       "    </tr>\n",
       "  </tbody>\n",
       "</table>\n",
       "</div>"
      ],
      "text/plain": [
       "                                          count       mean        std  \\\n",
       "domain                age_amp_greater_6                                 \n",
       "Articulation          False              2356.0  82.322105  16.809380   \n",
       "                      True               2726.0  77.132105  17.662482   \n",
       "Expressive Language   False              4831.0  88.513758  20.575571   \n",
       "                      True               4765.0  79.778243  19.959542   \n",
       "Expressive Vocabulary False              3426.0  92.881518  19.123941   \n",
       "                      True               3910.0  88.252228  18.665724   \n",
       "Language              False              4892.0  88.626939  21.698223   \n",
       "                      True               4896.0  80.056737  20.879201   \n",
       "Receptive Language    False              4806.0  90.334700  20.165788   \n",
       "                      True               4704.0  82.729101  19.792679   \n",
       "Receptive Vocabulary  False              3559.0  91.123542  17.847161   \n",
       "                      True               4054.0  86.161415  17.658441   \n",
       "\n",
       "                                               min        25%        50%  \\\n",
       "domain                age_amp_greater_6                                    \n",
       "Articulation          False              26.117271  73.491316  82.487141   \n",
       "                      True                9.694174  65.938168  79.606387   \n",
       "Expressive Language   False               0.000000  74.000000  89.000000   \n",
       "                      True                9.000000  65.000000  79.778804   \n",
       "Expressive Vocabulary False               0.000000  80.000000  94.000000   \n",
       "                      True                0.000000  76.038912  89.000000   \n",
       "Language              False               0.000000  74.000000  89.000000   \n",
       "                      True               34.725726  64.000000  79.000000   \n",
       "Receptive Language    False               0.000000  76.000000  91.000000   \n",
       "                      True               11.000000  67.923996  83.000000   \n",
       "Receptive Vocabulary  False              10.000000  80.000000  92.000000   \n",
       "                      True               10.778705  74.759262  86.147331   \n",
       "\n",
       "                                                75%         max  \n",
       "domain                age_amp_greater_6                          \n",
       "Articulation          False               94.613301  121.467040  \n",
       "                      True                90.325474  116.920355  \n",
       "Expressive Language   False              103.000000  150.000000  \n",
       "                      True                94.000000  150.000000  \n",
       "Expressive Vocabulary False              106.000000  146.000000  \n",
       "                      True               100.000000  150.000000  \n",
       "Language              False              104.000000  250.000000  \n",
       "                      True                95.000000  186.000000  \n",
       "Receptive Language    False              105.000000  150.000000  \n",
       "                      True                97.000000  150.150059  \n",
       "Receptive Vocabulary  False              104.000000  160.000000  \n",
       "                      True                98.000000  159.000000  "
      ]
     },
     "execution_count": 40,
     "metadata": {},
     "output_type": "execute_result"
    }
   ],
   "source": [
    "(test_scores.assign(age_amp_greater_6=test_scores.age_amp>6)\n",
    "         .groupby(['domain', 'age_amp_greater_6'])\n",
    "         .score_adj.describe())"
   ]
  },
  {
   "cell_type": "markdown",
   "metadata": {},
   "source": [
    "Age of enrollment greater than 6mo."
   ]
  },
  {
   "cell_type": "code",
   "execution_count": 41,
   "metadata": {},
   "outputs": [
    {
     "data": {
      "text/html": [
       "<div>\n",
       "<style scoped>\n",
       "    .dataframe tbody tr th:only-of-type {\n",
       "        vertical-align: middle;\n",
       "    }\n",
       "\n",
       "    .dataframe tbody tr th {\n",
       "        vertical-align: top;\n",
       "    }\n",
       "\n",
       "    .dataframe thead th {\n",
       "        text-align: right;\n",
       "    }\n",
       "</style>\n",
       "<table border=\"1\" class=\"dataframe\">\n",
       "  <thead>\n",
       "    <tr style=\"text-align: right;\">\n",
       "      <th></th>\n",
       "      <th></th>\n",
       "      <th>count</th>\n",
       "      <th>mean</th>\n",
       "      <th>std</th>\n",
       "      <th>min</th>\n",
       "      <th>25%</th>\n",
       "      <th>50%</th>\n",
       "      <th>75%</th>\n",
       "      <th>max</th>\n",
       "    </tr>\n",
       "    <tr>\n",
       "      <th>domain</th>\n",
       "      <th>age_enroll_greater_6</th>\n",
       "      <th></th>\n",
       "      <th></th>\n",
       "      <th></th>\n",
       "      <th></th>\n",
       "      <th></th>\n",
       "      <th></th>\n",
       "      <th></th>\n",
       "      <th></th>\n",
       "    </tr>\n",
       "  </thead>\n",
       "  <tbody>\n",
       "    <tr>\n",
       "      <th rowspan=\"2\" valign=\"top\">Articulation</th>\n",
       "      <th>False</th>\n",
       "      <td>2423.0</td>\n",
       "      <td>81.481716</td>\n",
       "      <td>17.136844</td>\n",
       "      <td>10.778705</td>\n",
       "      <td>72.190529</td>\n",
       "      <td>81.592593</td>\n",
       "      <td>94.189179</td>\n",
       "      <td>121.467040</td>\n",
       "    </tr>\n",
       "    <tr>\n",
       "      <th>True</th>\n",
       "      <td>2659.0</td>\n",
       "      <td>77.767130</td>\n",
       "      <td>17.572740</td>\n",
       "      <td>9.694174</td>\n",
       "      <td>67.158697</td>\n",
       "      <td>80.063849</td>\n",
       "      <td>90.823545</td>\n",
       "      <td>116.920355</td>\n",
       "    </tr>\n",
       "    <tr>\n",
       "      <th rowspan=\"2\" valign=\"top\">Expressive Language</th>\n",
       "      <th>False</th>\n",
       "      <td>4711.0</td>\n",
       "      <td>87.506598</td>\n",
       "      <td>20.744108</td>\n",
       "      <td>26.000000</td>\n",
       "      <td>73.000000</td>\n",
       "      <td>88.000000</td>\n",
       "      <td>102.000000</td>\n",
       "      <td>150.000000</td>\n",
       "    </tr>\n",
       "    <tr>\n",
       "      <th>True</th>\n",
       "      <td>4885.0</td>\n",
       "      <td>80.964117</td>\n",
       "      <td>20.217414</td>\n",
       "      <td>0.000000</td>\n",
       "      <td>66.000000</td>\n",
       "      <td>80.554492</td>\n",
       "      <td>95.000000</td>\n",
       "      <td>150.000000</td>\n",
       "    </tr>\n",
       "    <tr>\n",
       "      <th rowspan=\"2\" valign=\"top\">Expressive Vocabulary</th>\n",
       "      <th>False</th>\n",
       "      <td>3472.0</td>\n",
       "      <td>91.943576</td>\n",
       "      <td>19.479807</td>\n",
       "      <td>0.000000</td>\n",
       "      <td>78.987935</td>\n",
       "      <td>93.000000</td>\n",
       "      <td>105.000000</td>\n",
       "      <td>146.000000</td>\n",
       "    </tr>\n",
       "    <tr>\n",
       "      <th>True</th>\n",
       "      <td>3864.0</td>\n",
       "      <td>89.039906</td>\n",
       "      <td>18.493187</td>\n",
       "      <td>0.000000</td>\n",
       "      <td>77.000000</td>\n",
       "      <td>89.526477</td>\n",
       "      <td>100.744855</td>\n",
       "      <td>150.000000</td>\n",
       "    </tr>\n",
       "    <tr>\n",
       "      <th rowspan=\"2\" valign=\"top\">Language</th>\n",
       "      <th>False</th>\n",
       "      <td>4794.0</td>\n",
       "      <td>87.530079</td>\n",
       "      <td>21.982402</td>\n",
       "      <td>35.374013</td>\n",
       "      <td>73.000000</td>\n",
       "      <td>88.000000</td>\n",
       "      <td>102.931672</td>\n",
       "      <td>250.000000</td>\n",
       "    </tr>\n",
       "    <tr>\n",
       "      <th>True</th>\n",
       "      <td>4994.0</td>\n",
       "      <td>81.277849</td>\n",
       "      <td>21.013233</td>\n",
       "      <td>0.000000</td>\n",
       "      <td>65.000000</td>\n",
       "      <td>81.000000</td>\n",
       "      <td>96.000000</td>\n",
       "      <td>186.000000</td>\n",
       "    </tr>\n",
       "    <tr>\n",
       "      <th rowspan=\"2\" valign=\"top\">Receptive Language</th>\n",
       "      <th>False</th>\n",
       "      <td>4698.0</td>\n",
       "      <td>89.412331</td>\n",
       "      <td>20.328673</td>\n",
       "      <td>27.000000</td>\n",
       "      <td>75.000000</td>\n",
       "      <td>90.000000</td>\n",
       "      <td>104.000000</td>\n",
       "      <td>150.000000</td>\n",
       "    </tr>\n",
       "    <tr>\n",
       "      <th>True</th>\n",
       "      <td>4812.0</td>\n",
       "      <td>83.800317</td>\n",
       "      <td>19.966622</td>\n",
       "      <td>0.000000</td>\n",
       "      <td>69.000000</td>\n",
       "      <td>84.000000</td>\n",
       "      <td>98.000000</td>\n",
       "      <td>150.150059</td>\n",
       "    </tr>\n",
       "    <tr>\n",
       "      <th rowspan=\"2\" valign=\"top\">Receptive Vocabulary</th>\n",
       "      <th>False</th>\n",
       "      <td>3578.0</td>\n",
       "      <td>89.823009</td>\n",
       "      <td>17.985478</td>\n",
       "      <td>10.778705</td>\n",
       "      <td>78.099164</td>\n",
       "      <td>90.928907</td>\n",
       "      <td>102.493823</td>\n",
       "      <td>160.000000</td>\n",
       "    </tr>\n",
       "    <tr>\n",
       "      <th>True</th>\n",
       "      <td>4035.0</td>\n",
       "      <td>87.291285</td>\n",
       "      <td>17.774954</td>\n",
       "      <td>10.000000</td>\n",
       "      <td>76.000000</td>\n",
       "      <td>87.352000</td>\n",
       "      <td>100.000000</td>\n",
       "      <td>159.000000</td>\n",
       "    </tr>\n",
       "  </tbody>\n",
       "</table>\n",
       "</div>"
      ],
      "text/plain": [
       "                                             count       mean        std  \\\n",
       "domain                age_enroll_greater_6                                 \n",
       "Articulation          False                 2423.0  81.481716  17.136844   \n",
       "                      True                  2659.0  77.767130  17.572740   \n",
       "Expressive Language   False                 4711.0  87.506598  20.744108   \n",
       "                      True                  4885.0  80.964117  20.217414   \n",
       "Expressive Vocabulary False                 3472.0  91.943576  19.479807   \n",
       "                      True                  3864.0  89.039906  18.493187   \n",
       "Language              False                 4794.0  87.530079  21.982402   \n",
       "                      True                  4994.0  81.277849  21.013233   \n",
       "Receptive Language    False                 4698.0  89.412331  20.328673   \n",
       "                      True                  4812.0  83.800317  19.966622   \n",
       "Receptive Vocabulary  False                 3578.0  89.823009  17.985478   \n",
       "                      True                  4035.0  87.291285  17.774954   \n",
       "\n",
       "                                                  min        25%        50%  \\\n",
       "domain                age_enroll_greater_6                                    \n",
       "Articulation          False                 10.778705  72.190529  81.592593   \n",
       "                      True                   9.694174  67.158697  80.063849   \n",
       "Expressive Language   False                 26.000000  73.000000  88.000000   \n",
       "                      True                   0.000000  66.000000  80.554492   \n",
       "Expressive Vocabulary False                  0.000000  78.987935  93.000000   \n",
       "                      True                   0.000000  77.000000  89.526477   \n",
       "Language              False                 35.374013  73.000000  88.000000   \n",
       "                      True                   0.000000  65.000000  81.000000   \n",
       "Receptive Language    False                 27.000000  75.000000  90.000000   \n",
       "                      True                   0.000000  69.000000  84.000000   \n",
       "Receptive Vocabulary  False                 10.778705  78.099164  90.928907   \n",
       "                      True                  10.000000  76.000000  87.352000   \n",
       "\n",
       "                                                   75%         max  \n",
       "domain                age_enroll_greater_6                          \n",
       "Articulation          False                  94.189179  121.467040  \n",
       "                      True                   90.823545  116.920355  \n",
       "Expressive Language   False                 102.000000  150.000000  \n",
       "                      True                   95.000000  150.000000  \n",
       "Expressive Vocabulary False                 105.000000  146.000000  \n",
       "                      True                  100.744855  150.000000  \n",
       "Language              False                 102.931672  250.000000  \n",
       "                      True                   96.000000  186.000000  \n",
       "Receptive Language    False                 104.000000  150.000000  \n",
       "                      True                   98.000000  150.150059  \n",
       "Receptive Vocabulary  False                 102.493823  160.000000  \n",
       "                      True                  100.000000  159.000000  "
      ]
     },
     "execution_count": 41,
     "metadata": {},
     "output_type": "execute_result"
    }
   ],
   "source": [
    "(test_scores.assign(age_enroll_greater_6=test_scores.age_int>6)\n",
    "         .groupby(['domain', 'age_enroll_greater_6'])\n",
    "         .score_adj.describe())"
   ]
  },
  {
   "cell_type": "markdown",
   "metadata": {},
   "source": [
    "(Non-)Profound hearing loss"
   ]
  },
  {
   "cell_type": "code",
   "execution_count": 42,
   "metadata": {},
   "outputs": [
    {
     "data": {
      "text/html": [
       "<div>\n",
       "<style scoped>\n",
       "    .dataframe tbody tr th:only-of-type {\n",
       "        vertical-align: middle;\n",
       "    }\n",
       "\n",
       "    .dataframe tbody tr th {\n",
       "        vertical-align: top;\n",
       "    }\n",
       "\n",
       "    .dataframe thead th {\n",
       "        text-align: right;\n",
       "    }\n",
       "</style>\n",
       "<table border=\"1\" class=\"dataframe\">\n",
       "  <thead>\n",
       "    <tr style=\"text-align: right;\">\n",
       "      <th></th>\n",
       "      <th></th>\n",
       "      <th>count</th>\n",
       "      <th>mean</th>\n",
       "      <th>std</th>\n",
       "      <th>min</th>\n",
       "      <th>25%</th>\n",
       "      <th>50%</th>\n",
       "      <th>75%</th>\n",
       "      <th>max</th>\n",
       "    </tr>\n",
       "    <tr>\n",
       "      <th>domain</th>\n",
       "      <th>profound_hl</th>\n",
       "      <th></th>\n",
       "      <th></th>\n",
       "      <th></th>\n",
       "      <th></th>\n",
       "      <th></th>\n",
       "      <th></th>\n",
       "      <th></th>\n",
       "      <th></th>\n",
       "    </tr>\n",
       "  </thead>\n",
       "  <tbody>\n",
       "    <tr>\n",
       "      <th rowspan=\"2\" valign=\"top\">Articulation</th>\n",
       "      <th>False</th>\n",
       "      <td>2466.0</td>\n",
       "      <td>81.996747</td>\n",
       "      <td>16.916165</td>\n",
       "      <td>9.694174</td>\n",
       "      <td>72.562555</td>\n",
       "      <td>82.640131</td>\n",
       "      <td>94.371998</td>\n",
       "      <td>121.467040</td>\n",
       "    </tr>\n",
       "    <tr>\n",
       "      <th>True</th>\n",
       "      <td>2616.0</td>\n",
       "      <td>77.220573</td>\n",
       "      <td>17.656432</td>\n",
       "      <td>10.778705</td>\n",
       "      <td>66.375717</td>\n",
       "      <td>79.601910</td>\n",
       "      <td>89.899346</td>\n",
       "      <td>117.648230</td>\n",
       "    </tr>\n",
       "    <tr>\n",
       "      <th rowspan=\"2\" valign=\"top\">Expressive Language</th>\n",
       "      <th>False</th>\n",
       "      <td>4898.0</td>\n",
       "      <td>89.598005</td>\n",
       "      <td>19.702870</td>\n",
       "      <td>9.000000</td>\n",
       "      <td>76.000000</td>\n",
       "      <td>90.000000</td>\n",
       "      <td>104.000000</td>\n",
       "      <td>150.000000</td>\n",
       "    </tr>\n",
       "    <tr>\n",
       "      <th>True</th>\n",
       "      <td>4698.0</td>\n",
       "      <td>78.523258</td>\n",
       "      <td>20.273916</td>\n",
       "      <td>0.000000</td>\n",
       "      <td>63.000000</td>\n",
       "      <td>78.000000</td>\n",
       "      <td>92.000000</td>\n",
       "      <td>146.000000</td>\n",
       "    </tr>\n",
       "    <tr>\n",
       "      <th rowspan=\"2\" valign=\"top\">Expressive Vocabulary</th>\n",
       "      <th>False</th>\n",
       "      <td>3565.0</td>\n",
       "      <td>94.082919</td>\n",
       "      <td>18.020106</td>\n",
       "      <td>0.000000</td>\n",
       "      <td>83.000000</td>\n",
       "      <td>94.813236</td>\n",
       "      <td>106.000000</td>\n",
       "      <td>147.000000</td>\n",
       "    </tr>\n",
       "    <tr>\n",
       "      <th>True</th>\n",
       "      <td>3771.0</td>\n",
       "      <td>86.945819</td>\n",
       "      <td>19.291210</td>\n",
       "      <td>10.778705</td>\n",
       "      <td>74.532638</td>\n",
       "      <td>87.000000</td>\n",
       "      <td>99.765643</td>\n",
       "      <td>150.000000</td>\n",
       "    </tr>\n",
       "    <tr>\n",
       "      <th rowspan=\"2\" valign=\"top\">Language</th>\n",
       "      <th>False</th>\n",
       "      <td>5014.0</td>\n",
       "      <td>90.012792</td>\n",
       "      <td>20.732824</td>\n",
       "      <td>35.374013</td>\n",
       "      <td>76.000000</td>\n",
       "      <td>90.000000</td>\n",
       "      <td>104.000000</td>\n",
       "      <td>250.000000</td>\n",
       "    </tr>\n",
       "    <tr>\n",
       "      <th>True</th>\n",
       "      <td>4774.0</td>\n",
       "      <td>78.382202</td>\n",
       "      <td>21.128635</td>\n",
       "      <td>0.000000</td>\n",
       "      <td>61.748692</td>\n",
       "      <td>78.000000</td>\n",
       "      <td>93.000000</td>\n",
       "      <td>186.000000</td>\n",
       "    </tr>\n",
       "    <tr>\n",
       "      <th rowspan=\"2\" valign=\"top\">Receptive Language</th>\n",
       "      <th>False</th>\n",
       "      <td>4831.0</td>\n",
       "      <td>91.342985</td>\n",
       "      <td>19.501208</td>\n",
       "      <td>11.000000</td>\n",
       "      <td>78.000000</td>\n",
       "      <td>92.000000</td>\n",
       "      <td>105.000000</td>\n",
       "      <td>150.150059</td>\n",
       "    </tr>\n",
       "    <tr>\n",
       "      <th>True</th>\n",
       "      <td>4679.0</td>\n",
       "      <td>81.647424</td>\n",
       "      <td>20.013015</td>\n",
       "      <td>0.000000</td>\n",
       "      <td>67.000000</td>\n",
       "      <td>81.000000</td>\n",
       "      <td>96.000000</td>\n",
       "      <td>150.000000</td>\n",
       "    </tr>\n",
       "    <tr>\n",
       "      <th rowspan=\"2\" valign=\"top\">Receptive Vocabulary</th>\n",
       "      <th>False</th>\n",
       "      <td>3673.0</td>\n",
       "      <td>92.674856</td>\n",
       "      <td>16.797855</td>\n",
       "      <td>12.863725</td>\n",
       "      <td>82.082283</td>\n",
       "      <td>94.000000</td>\n",
       "      <td>104.000000</td>\n",
       "      <td>159.000000</td>\n",
       "    </tr>\n",
       "    <tr>\n",
       "      <th>True</th>\n",
       "      <td>3940.0</td>\n",
       "      <td>84.571655</td>\n",
       "      <td>18.046470</td>\n",
       "      <td>10.000000</td>\n",
       "      <td>73.000000</td>\n",
       "      <td>84.890913</td>\n",
       "      <td>97.000000</td>\n",
       "      <td>160.000000</td>\n",
       "    </tr>\n",
       "  </tbody>\n",
       "</table>\n",
       "</div>"
      ],
      "text/plain": [
       "                                    count       mean        std        min  \\\n",
       "domain                profound_hl                                            \n",
       "Articulation          False        2466.0  81.996747  16.916165   9.694174   \n",
       "                      True         2616.0  77.220573  17.656432  10.778705   \n",
       "Expressive Language   False        4898.0  89.598005  19.702870   9.000000   \n",
       "                      True         4698.0  78.523258  20.273916   0.000000   \n",
       "Expressive Vocabulary False        3565.0  94.082919  18.020106   0.000000   \n",
       "                      True         3771.0  86.945819  19.291210  10.778705   \n",
       "Language              False        5014.0  90.012792  20.732824  35.374013   \n",
       "                      True         4774.0  78.382202  21.128635   0.000000   \n",
       "Receptive Language    False        4831.0  91.342985  19.501208  11.000000   \n",
       "                      True         4679.0  81.647424  20.013015   0.000000   \n",
       "Receptive Vocabulary  False        3673.0  92.674856  16.797855  12.863725   \n",
       "                      True         3940.0  84.571655  18.046470  10.000000   \n",
       "\n",
       "                                         25%        50%         75%  \\\n",
       "domain                profound_hl                                     \n",
       "Articulation          False        72.562555  82.640131   94.371998   \n",
       "                      True         66.375717  79.601910   89.899346   \n",
       "Expressive Language   False        76.000000  90.000000  104.000000   \n",
       "                      True         63.000000  78.000000   92.000000   \n",
       "Expressive Vocabulary False        83.000000  94.813236  106.000000   \n",
       "                      True         74.532638  87.000000   99.765643   \n",
       "Language              False        76.000000  90.000000  104.000000   \n",
       "                      True         61.748692  78.000000   93.000000   \n",
       "Receptive Language    False        78.000000  92.000000  105.000000   \n",
       "                      True         67.000000  81.000000   96.000000   \n",
       "Receptive Vocabulary  False        82.082283  94.000000  104.000000   \n",
       "                      True         73.000000  84.890913   97.000000   \n",
       "\n",
       "                                          max  \n",
       "domain                profound_hl              \n",
       "Articulation          False        121.467040  \n",
       "                      True         117.648230  \n",
       "Expressive Language   False        150.000000  \n",
       "                      True         146.000000  \n",
       "Expressive Vocabulary False        147.000000  \n",
       "                      True         150.000000  \n",
       "Language              False        250.000000  \n",
       "                      True         186.000000  \n",
       "Receptive Language    False        150.150059  \n",
       "                      True         150.000000  \n",
       "Receptive Vocabulary  False        159.000000  \n",
       "                      True         160.000000  "
      ]
     },
     "execution_count": 42,
     "metadata": {},
     "output_type": "execute_result"
    }
   ],
   "source": [
    "(test_scores.assign(profound_hl=test_scores.degree_hl==6)\n",
    "         .groupby(['domain', 'profound_hl'])\n",
    "         .score_adj.describe())"
   ]
  },
  {
   "cell_type": "markdown",
   "metadata": {},
   "source": [
    "Parent with(out) hearing loss"
   ]
  },
  {
   "cell_type": "code",
   "execution_count": 43,
   "metadata": {},
   "outputs": [
    {
     "data": {
      "text/html": [
       "<div>\n",
       "<style scoped>\n",
       "    .dataframe tbody tr th:only-of-type {\n",
       "        vertical-align: middle;\n",
       "    }\n",
       "\n",
       "    .dataframe tbody tr th {\n",
       "        vertical-align: top;\n",
       "    }\n",
       "\n",
       "    .dataframe thead th {\n",
       "        text-align: right;\n",
       "    }\n",
       "</style>\n",
       "<table border=\"1\" class=\"dataframe\">\n",
       "  <thead>\n",
       "    <tr style=\"text-align: right;\">\n",
       "      <th></th>\n",
       "      <th></th>\n",
       "      <th>count</th>\n",
       "      <th>mean</th>\n",
       "      <th>std</th>\n",
       "      <th>min</th>\n",
       "      <th>25%</th>\n",
       "      <th>50%</th>\n",
       "      <th>75%</th>\n",
       "      <th>max</th>\n",
       "    </tr>\n",
       "    <tr>\n",
       "      <th>domain</th>\n",
       "      <th>parent_with_hl</th>\n",
       "      <th></th>\n",
       "      <th></th>\n",
       "      <th></th>\n",
       "      <th></th>\n",
       "      <th></th>\n",
       "      <th></th>\n",
       "      <th></th>\n",
       "      <th></th>\n",
       "    </tr>\n",
       "  </thead>\n",
       "  <tbody>\n",
       "    <tr>\n",
       "      <th rowspan=\"2\" valign=\"top\">Articulation</th>\n",
       "      <th>False</th>\n",
       "      <td>4814.0</td>\n",
       "      <td>79.471270</td>\n",
       "      <td>17.510145</td>\n",
       "      <td>9.694174</td>\n",
       "      <td>69.440519</td>\n",
       "      <td>80.899306</td>\n",
       "      <td>92.292696</td>\n",
       "      <td>121.467040</td>\n",
       "    </tr>\n",
       "    <tr>\n",
       "      <th>True</th>\n",
       "      <td>268.0</td>\n",
       "      <td>80.739932</td>\n",
       "      <td>16.586977</td>\n",
       "      <td>38.131117</td>\n",
       "      <td>70.514598</td>\n",
       "      <td>80.691309</td>\n",
       "      <td>93.452524</td>\n",
       "      <td>113.032979</td>\n",
       "    </tr>\n",
       "    <tr>\n",
       "      <th rowspan=\"2\" valign=\"top\">Expressive Language</th>\n",
       "      <th>False</th>\n",
       "      <td>9113.0</td>\n",
       "      <td>84.009176</td>\n",
       "      <td>20.764490</td>\n",
       "      <td>0.000000</td>\n",
       "      <td>69.000000</td>\n",
       "      <td>85.000000</td>\n",
       "      <td>99.000000</td>\n",
       "      <td>150.000000</td>\n",
       "    </tr>\n",
       "    <tr>\n",
       "      <th>True</th>\n",
       "      <td>483.0</td>\n",
       "      <td>87.324371</td>\n",
       "      <td>19.955752</td>\n",
       "      <td>38.613241</td>\n",
       "      <td>73.216233</td>\n",
       "      <td>87.000000</td>\n",
       "      <td>102.000000</td>\n",
       "      <td>144.000000</td>\n",
       "    </tr>\n",
       "    <tr>\n",
       "      <th rowspan=\"2\" valign=\"top\">Expressive Vocabulary</th>\n",
       "      <th>False</th>\n",
       "      <td>6938.0</td>\n",
       "      <td>90.271050</td>\n",
       "      <td>19.047381</td>\n",
       "      <td>0.000000</td>\n",
       "      <td>78.000000</td>\n",
       "      <td>91.000000</td>\n",
       "      <td>103.000000</td>\n",
       "      <td>150.000000</td>\n",
       "    </tr>\n",
       "    <tr>\n",
       "      <th>True</th>\n",
       "      <td>398.0</td>\n",
       "      <td>92.908912</td>\n",
       "      <td>18.391969</td>\n",
       "      <td>0.000000</td>\n",
       "      <td>81.224714</td>\n",
       "      <td>95.042809</td>\n",
       "      <td>104.026564</td>\n",
       "      <td>133.611605</td>\n",
       "    </tr>\n",
       "    <tr>\n",
       "      <th rowspan=\"2\" valign=\"top\">Language</th>\n",
       "      <th>False</th>\n",
       "      <td>9295.0</td>\n",
       "      <td>84.139889</td>\n",
       "      <td>21.661091</td>\n",
       "      <td>0.000000</td>\n",
       "      <td>68.000000</td>\n",
       "      <td>84.000000</td>\n",
       "      <td>100.000000</td>\n",
       "      <td>250.000000</td>\n",
       "    </tr>\n",
       "    <tr>\n",
       "      <th>True</th>\n",
       "      <td>493.0</td>\n",
       "      <td>88.114613</td>\n",
       "      <td>22.462140</td>\n",
       "      <td>38.613241</td>\n",
       "      <td>73.516571</td>\n",
       "      <td>88.000000</td>\n",
       "      <td>102.000000</td>\n",
       "      <td>195.000000</td>\n",
       "    </tr>\n",
       "    <tr>\n",
       "      <th rowspan=\"2\" valign=\"top\">Receptive Language</th>\n",
       "      <th>False</th>\n",
       "      <td>9030.0</td>\n",
       "      <td>86.449309</td>\n",
       "      <td>20.373878</td>\n",
       "      <td>0.000000</td>\n",
       "      <td>72.000000</td>\n",
       "      <td>87.000000</td>\n",
       "      <td>101.000000</td>\n",
       "      <td>150.150059</td>\n",
       "    </tr>\n",
       "    <tr>\n",
       "      <th>True</th>\n",
       "      <td>480.0</td>\n",
       "      <td>88.893741</td>\n",
       "      <td>19.561646</td>\n",
       "      <td>38.613241</td>\n",
       "      <td>76.000000</td>\n",
       "      <td>89.000000</td>\n",
       "      <td>102.000000</td>\n",
       "      <td>139.000000</td>\n",
       "    </tr>\n",
       "    <tr>\n",
       "      <th rowspan=\"2\" valign=\"top\">Receptive Vocabulary</th>\n",
       "      <th>False</th>\n",
       "      <td>7209.0</td>\n",
       "      <td>88.318547</td>\n",
       "      <td>17.949626</td>\n",
       "      <td>10.000000</td>\n",
       "      <td>76.957744</td>\n",
       "      <td>88.786432</td>\n",
       "      <td>101.000000</td>\n",
       "      <td>160.000000</td>\n",
       "    </tr>\n",
       "    <tr>\n",
       "      <th>True</th>\n",
       "      <td>404.0</td>\n",
       "      <td>91.382826</td>\n",
       "      <td>17.099989</td>\n",
       "      <td>40.000000</td>\n",
       "      <td>80.872471</td>\n",
       "      <td>92.578940</td>\n",
       "      <td>102.097973</td>\n",
       "      <td>135.042366</td>\n",
       "    </tr>\n",
       "  </tbody>\n",
       "</table>\n",
       "</div>"
      ],
      "text/plain": [
       "                                       count       mean        std        min  \\\n",
       "domain                parent_with_hl                                            \n",
       "Articulation          False           4814.0  79.471270  17.510145   9.694174   \n",
       "                      True             268.0  80.739932  16.586977  38.131117   \n",
       "Expressive Language   False           9113.0  84.009176  20.764490   0.000000   \n",
       "                      True             483.0  87.324371  19.955752  38.613241   \n",
       "Expressive Vocabulary False           6938.0  90.271050  19.047381   0.000000   \n",
       "                      True             398.0  92.908912  18.391969   0.000000   \n",
       "Language              False           9295.0  84.139889  21.661091   0.000000   \n",
       "                      True             493.0  88.114613  22.462140  38.613241   \n",
       "Receptive Language    False           9030.0  86.449309  20.373878   0.000000   \n",
       "                      True             480.0  88.893741  19.561646  38.613241   \n",
       "Receptive Vocabulary  False           7209.0  88.318547  17.949626  10.000000   \n",
       "                      True             404.0  91.382826  17.099989  40.000000   \n",
       "\n",
       "                                            25%        50%         75%  \\\n",
       "domain                parent_with_hl                                     \n",
       "Articulation          False           69.440519  80.899306   92.292696   \n",
       "                      True            70.514598  80.691309   93.452524   \n",
       "Expressive Language   False           69.000000  85.000000   99.000000   \n",
       "                      True            73.216233  87.000000  102.000000   \n",
       "Expressive Vocabulary False           78.000000  91.000000  103.000000   \n",
       "                      True            81.224714  95.042809  104.026564   \n",
       "Language              False           68.000000  84.000000  100.000000   \n",
       "                      True            73.516571  88.000000  102.000000   \n",
       "Receptive Language    False           72.000000  87.000000  101.000000   \n",
       "                      True            76.000000  89.000000  102.000000   \n",
       "Receptive Vocabulary  False           76.957744  88.786432  101.000000   \n",
       "                      True            80.872471  92.578940  102.097973   \n",
       "\n",
       "                                             max  \n",
       "domain                parent_with_hl              \n",
       "Articulation          False           121.467040  \n",
       "                      True            113.032979  \n",
       "Expressive Language   False           150.000000  \n",
       "                      True            144.000000  \n",
       "Expressive Vocabulary False           150.000000  \n",
       "                      True            133.611605  \n",
       "Language              False           250.000000  \n",
       "                      True            195.000000  \n",
       "Receptive Language    False           150.150059  \n",
       "                      True            139.000000  \n",
       "Receptive Vocabulary  False           160.000000  \n",
       "                      True            135.042366  "
      ]
     },
     "execution_count": 43,
     "metadata": {},
     "output_type": "execute_result"
    }
   ],
   "source": [
    "test_scores.loc[test_scores.parent_hearing_loss=='Unknown', 'parent_hearing_loss'] = np.nan\n",
    "(test_scores.assign(parent_with_hl=test_scores.parent_hearing_loss.isin(['Both parents have hearing loss',\n",
    "                                                                       'Father has hearing loss',\n",
    "                                                                       'Mother has hearing loss']))\n",
    "         .groupby(['domain', 'parent_with_hl'])\n",
    "         .score_adj.describe())"
   ]
  },
  {
   "cell_type": "markdown",
   "metadata": {},
   "source": [
    "Mother with(out) college education"
   ]
  },
  {
   "cell_type": "code",
   "execution_count": 44,
   "metadata": {},
   "outputs": [
    {
     "data": {
      "text/html": [
       "<div>\n",
       "<style scoped>\n",
       "    .dataframe tbody tr th:only-of-type {\n",
       "        vertical-align: middle;\n",
       "    }\n",
       "\n",
       "    .dataframe tbody tr th {\n",
       "        vertical-align: top;\n",
       "    }\n",
       "\n",
       "    .dataframe thead th {\n",
       "        text-align: right;\n",
       "    }\n",
       "</style>\n",
       "<table border=\"1\" class=\"dataframe\">\n",
       "  <thead>\n",
       "    <tr style=\"text-align: right;\">\n",
       "      <th></th>\n",
       "      <th></th>\n",
       "      <th>count</th>\n",
       "      <th>mean</th>\n",
       "      <th>std</th>\n",
       "      <th>min</th>\n",
       "      <th>25%</th>\n",
       "      <th>50%</th>\n",
       "      <th>75%</th>\n",
       "      <th>max</th>\n",
       "    </tr>\n",
       "    <tr>\n",
       "      <th>domain</th>\n",
       "      <th>mother_college</th>\n",
       "      <th></th>\n",
       "      <th></th>\n",
       "      <th></th>\n",
       "      <th></th>\n",
       "      <th></th>\n",
       "      <th></th>\n",
       "      <th></th>\n",
       "      <th></th>\n",
       "    </tr>\n",
       "  </thead>\n",
       "  <tbody>\n",
       "    <tr>\n",
       "      <th rowspan=\"2\" valign=\"top\">Articulation</th>\n",
       "      <th>0.0</th>\n",
       "      <td>2997.0</td>\n",
       "      <td>79.570182</td>\n",
       "      <td>17.130875</td>\n",
       "      <td>9.694174</td>\n",
       "      <td>69.558821</td>\n",
       "      <td>80.908135</td>\n",
       "      <td>92.155774</td>\n",
       "      <td>119.464394</td>\n",
       "    </tr>\n",
       "    <tr>\n",
       "      <th>1.0</th>\n",
       "      <td>715.0</td>\n",
       "      <td>81.835401</td>\n",
       "      <td>17.220650</td>\n",
       "      <td>28.680906</td>\n",
       "      <td>73.605130</td>\n",
       "      <td>82.580120</td>\n",
       "      <td>93.926181</td>\n",
       "      <td>121.467040</td>\n",
       "    </tr>\n",
       "    <tr>\n",
       "      <th rowspan=\"2\" valign=\"top\">Expressive Language</th>\n",
       "      <th>0.0</th>\n",
       "      <td>5892.0</td>\n",
       "      <td>83.135733</td>\n",
       "      <td>20.125435</td>\n",
       "      <td>0.000000</td>\n",
       "      <td>68.485979</td>\n",
       "      <td>83.000000</td>\n",
       "      <td>97.764659</td>\n",
       "      <td>150.000000</td>\n",
       "    </tr>\n",
       "    <tr>\n",
       "      <th>1.0</th>\n",
       "      <td>1424.0</td>\n",
       "      <td>91.653103</td>\n",
       "      <td>22.026131</td>\n",
       "      <td>40.000000</td>\n",
       "      <td>76.000000</td>\n",
       "      <td>92.000000</td>\n",
       "      <td>107.000000</td>\n",
       "      <td>150.000000</td>\n",
       "    </tr>\n",
       "    <tr>\n",
       "      <th rowspan=\"2\" valign=\"top\">Expressive Vocabulary</th>\n",
       "      <th>0.0</th>\n",
       "      <td>4375.0</td>\n",
       "      <td>89.941728</td>\n",
       "      <td>18.637007</td>\n",
       "      <td>0.000000</td>\n",
       "      <td>78.000000</td>\n",
       "      <td>91.000000</td>\n",
       "      <td>102.049716</td>\n",
       "      <td>146.000000</td>\n",
       "    </tr>\n",
       "    <tr>\n",
       "      <th>1.0</th>\n",
       "      <td>1089.0</td>\n",
       "      <td>98.091155</td>\n",
       "      <td>19.026750</td>\n",
       "      <td>25.000000</td>\n",
       "      <td>86.037270</td>\n",
       "      <td>99.000000</td>\n",
       "      <td>111.977719</td>\n",
       "      <td>150.000000</td>\n",
       "    </tr>\n",
       "    <tr>\n",
       "      <th rowspan=\"2\" valign=\"top\">Language</th>\n",
       "      <th>0.0</th>\n",
       "      <td>6013.0</td>\n",
       "      <td>83.313153</td>\n",
       "      <td>21.201644</td>\n",
       "      <td>0.000000</td>\n",
       "      <td>67.000000</td>\n",
       "      <td>83.000000</td>\n",
       "      <td>98.000000</td>\n",
       "      <td>250.000000</td>\n",
       "    </tr>\n",
       "    <tr>\n",
       "      <th>1.0</th>\n",
       "      <td>1451.0</td>\n",
       "      <td>92.373550</td>\n",
       "      <td>22.677267</td>\n",
       "      <td>40.000000</td>\n",
       "      <td>77.000000</td>\n",
       "      <td>94.000000</td>\n",
       "      <td>108.000000</td>\n",
       "      <td>169.578690</td>\n",
       "    </tr>\n",
       "    <tr>\n",
       "      <th rowspan=\"2\" valign=\"top\">Receptive Language</th>\n",
       "      <th>0.0</th>\n",
       "      <td>5845.0</td>\n",
       "      <td>85.686268</td>\n",
       "      <td>19.764471</td>\n",
       "      <td>0.000000</td>\n",
       "      <td>71.269508</td>\n",
       "      <td>86.000000</td>\n",
       "      <td>100.000000</td>\n",
       "      <td>147.000000</td>\n",
       "    </tr>\n",
       "    <tr>\n",
       "      <th>1.0</th>\n",
       "      <td>1410.0</td>\n",
       "      <td>93.943476</td>\n",
       "      <td>21.310290</td>\n",
       "      <td>40.000000</td>\n",
       "      <td>79.000000</td>\n",
       "      <td>96.000000</td>\n",
       "      <td>109.990767</td>\n",
       "      <td>150.150059</td>\n",
       "    </tr>\n",
       "    <tr>\n",
       "      <th rowspan=\"2\" valign=\"top\">Receptive Vocabulary</th>\n",
       "      <th>0.0</th>\n",
       "      <td>4517.0</td>\n",
       "      <td>88.110406</td>\n",
       "      <td>17.511491</td>\n",
       "      <td>10.000000</td>\n",
       "      <td>77.000000</td>\n",
       "      <td>88.145615</td>\n",
       "      <td>100.232553</td>\n",
       "      <td>144.000000</td>\n",
       "    </tr>\n",
       "    <tr>\n",
       "      <th>1.0</th>\n",
       "      <td>1143.0</td>\n",
       "      <td>94.904422</td>\n",
       "      <td>18.708761</td>\n",
       "      <td>12.863725</td>\n",
       "      <td>84.000000</td>\n",
       "      <td>97.000000</td>\n",
       "      <td>108.000000</td>\n",
       "      <td>159.000000</td>\n",
       "    </tr>\n",
       "  </tbody>\n",
       "</table>\n",
       "</div>"
      ],
      "text/plain": [
       "                                       count       mean        std        min  \\\n",
       "domain                mother_college                                            \n",
       "Articulation          0.0             2997.0  79.570182  17.130875   9.694174   \n",
       "                      1.0              715.0  81.835401  17.220650  28.680906   \n",
       "Expressive Language   0.0             5892.0  83.135733  20.125435   0.000000   \n",
       "                      1.0             1424.0  91.653103  22.026131  40.000000   \n",
       "Expressive Vocabulary 0.0             4375.0  89.941728  18.637007   0.000000   \n",
       "                      1.0             1089.0  98.091155  19.026750  25.000000   \n",
       "Language              0.0             6013.0  83.313153  21.201644   0.000000   \n",
       "                      1.0             1451.0  92.373550  22.677267  40.000000   \n",
       "Receptive Language    0.0             5845.0  85.686268  19.764471   0.000000   \n",
       "                      1.0             1410.0  93.943476  21.310290  40.000000   \n",
       "Receptive Vocabulary  0.0             4517.0  88.110406  17.511491  10.000000   \n",
       "                      1.0             1143.0  94.904422  18.708761  12.863725   \n",
       "\n",
       "                                            25%        50%         75%  \\\n",
       "domain                mother_college                                     \n",
       "Articulation          0.0             69.558821  80.908135   92.155774   \n",
       "                      1.0             73.605130  82.580120   93.926181   \n",
       "Expressive Language   0.0             68.485979  83.000000   97.764659   \n",
       "                      1.0             76.000000  92.000000  107.000000   \n",
       "Expressive Vocabulary 0.0             78.000000  91.000000  102.049716   \n",
       "                      1.0             86.037270  99.000000  111.977719   \n",
       "Language              0.0             67.000000  83.000000   98.000000   \n",
       "                      1.0             77.000000  94.000000  108.000000   \n",
       "Receptive Language    0.0             71.269508  86.000000  100.000000   \n",
       "                      1.0             79.000000  96.000000  109.990767   \n",
       "Receptive Vocabulary  0.0             77.000000  88.145615  100.232553   \n",
       "                      1.0             84.000000  97.000000  108.000000   \n",
       "\n",
       "                                             max  \n",
       "domain                mother_college              \n",
       "Articulation          0.0             119.464394  \n",
       "                      1.0             121.467040  \n",
       "Expressive Language   0.0             150.000000  \n",
       "                      1.0             150.000000  \n",
       "Expressive Vocabulary 0.0             146.000000  \n",
       "                      1.0             150.000000  \n",
       "Language              0.0             250.000000  \n",
       "                      1.0             169.578690  \n",
       "Receptive Language    0.0             147.000000  \n",
       "                      1.0             150.150059  \n",
       "Receptive Vocabulary  0.0             144.000000  \n",
       "                      1.0             159.000000  "
      ]
     },
     "execution_count": 44,
     "metadata": {},
     "output_type": "execute_result"
    }
   ],
   "source": [
    "test_scores.groupby(['domain', 'mother_college']).score_adj.describe()"
   ]
  },
  {
   "cell_type": "code",
   "execution_count": null,
   "metadata": {},
   "outputs": [],
   "source": []
  }
 ],
 "metadata": {
  "kernelspec": {
   "display_name": "Python 3",
   "language": "python",
   "name": "python3"
  },
  "language_info": {
   "codemirror_mode": {
    "name": "ipython",
    "version": 3
   },
   "file_extension": ".py",
   "mimetype": "text/x-python",
   "name": "python",
   "nbconvert_exporter": "python",
   "pygments_lexer": "ipython3",
   "version": "3.6.7"
  }
 },
 "nbformat": 4,
 "nbformat_minor": 4
}
