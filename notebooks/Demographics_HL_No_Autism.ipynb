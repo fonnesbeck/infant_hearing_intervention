{
 "cells": [
  {
   "cell_type": "code",
   "execution_count": 1,
   "metadata": {},
   "outputs": [],
   "source": [
    "# Import modules and set options\n",
    "%matplotlib inline\n",
    "import matplotlib.pyplot as plt\n",
    "import pandas as pd\n",
    "import numpy as np\n",
    "import seaborn as sns\n",
    "import pandas_profiling\n",
    "\n",
    "sns.set(context='notebook', style='ticks')"
   ]
  },
  {
   "cell_type": "code",
   "execution_count": 2,
   "metadata": {},
   "outputs": [],
   "source": [
    "lsl_dr = (pd.read_csv('../data/clean/lsl_dr.csv', index_col=0, low_memory=False)\n",
    "                  .rename({'onset_1':'identify_mo'}, axis=1))"
   ]
  },
  {
   "cell_type": "code",
   "execution_count": 3,
   "metadata": {},
   "outputs": [
    {
     "data": {
      "text/plain": [
       "(59537, 246)"
      ]
     },
     "execution_count": 3,
     "metadata": {},
     "output_type": "execute_result"
    }
   ],
   "source": [
    "lsl_dr.shape"
   ]
  },
  {
   "cell_type": "markdown",
   "metadata": {},
   "source": [
    "Exclusions"
   ]
  },
  {
   "cell_type": "code",
   "execution_count": 4,
   "metadata": {},
   "outputs": [],
   "source": [
    "other_etiology = (lsl_dr[['etiology_3___2', 'etiology_3___4', 'etiology_3___5', 'etiology_3___6', 'etiology_3___9',\n",
    "       'etiology_oth___1', 'etiology_oth___3', 'etiology_oth___4', 'etiology_oth___8', 'etiology_oth___9']]\n",
    "                      .sum(1).astype(bool))"
   ]
  },
  {
   "cell_type": "code",
   "execution_count": 5,
   "metadata": {},
   "outputs": [],
   "source": [
    "inclusion_mask = (~lsl_dr.non_english.astype(bool) \n",
    "                  & (lsl_dr.hl==0)\n",
    "                  & ((lsl_dr.autism==0)))"
   ]
  },
  {
   "cell_type": "code",
   "execution_count": 6,
   "metadata": {},
   "outputs": [
    {
     "data": {
      "text/plain": [
       "(4074, 246)"
      ]
     },
     "execution_count": 6,
     "metadata": {},
     "output_type": "execute_result"
    }
   ],
   "source": [
    "autism_subset = lsl_dr[inclusion_mask]\n",
    "autism_subset.drop_duplicates(subset='study_id').shape"
   ]
  },
  {
   "cell_type": "markdown",
   "metadata": {},
   "source": [
    "## Demographics"
   ]
  },
  {
   "cell_type": "code",
   "execution_count": 7,
   "metadata": {},
   "outputs": [
    {
     "data": {
      "text/plain": [
       "Male      22736\n",
       "Female    21793\n",
       "Name: male, dtype: int64"
      ]
     },
     "execution_count": 7,
     "metadata": {},
     "output_type": "execute_result"
    }
   ],
   "source": [
    "autism_subset.male.replace({1: 'Male', 0: 'Female', np.nan: 'Missing'}).value_counts()"
   ]
  },
  {
   "cell_type": "code",
   "execution_count": 8,
   "metadata": {},
   "outputs": [
    {
     "data": {
      "text/plain": [
       "White       27064\n",
       "Black        5272\n",
       "Hispanic     4786\n",
       "Other        4305\n",
       "Asian        2431\n",
       "Missing       671\n",
       "Name: race, dtype: int64"
      ]
     },
     "execution_count": 8,
     "metadata": {},
     "output_type": "execute_result"
    }
   ],
   "source": [
    "autism_subset.race.replace({0:'White', 1:'Black', 2:'Hispanic', 3:'Asian', 4:'Other', np.nan:'Missing'}).value_counts()"
   ]
  },
  {
   "cell_type": "code",
   "execution_count": 9,
   "metadata": {},
   "outputs": [
    {
     "data": {
      "text/plain": [
       ">=36 weeks    32789\n",
       "<36 weeks     11740\n",
       "Name: premature_age, dtype: int64"
      ]
     },
     "execution_count": 9,
     "metadata": {},
     "output_type": "execute_result"
    }
   ],
   "source": [
    "(autism_subset.premature_age.replace({9:None})==8).replace({True: '>=36 weeks', False: '<36 weeks', \n",
    "                                                            np.nan: 'Unknown'}).value_counts()"
   ]
  },
  {
   "cell_type": "code",
   "execution_count": 10,
   "metadata": {},
   "outputs": [
    {
     "data": {
      "text/plain": [
       "1          10759\n",
       "2          17384\n",
       "3           8762\n",
       "4+          5101\n",
       "Missing     2523\n",
       "Name: sib, dtype: int64"
      ]
     },
     "execution_count": 10,
     "metadata": {},
     "output_type": "execute_result"
    }
   ],
   "source": [
    "autism_subset.sib.replace({0:'1', 1:'2', 2:'3', 3:'4+', np.nan:'Missing'}).value_counts().sort_index()"
   ]
  },
  {
   "cell_type": "code",
   "execution_count": 11,
   "metadata": {},
   "outputs": [
    {
     "data": {
      "text/plain": [
       "Some high school           13365\n",
       "High school diploma/GED    12036\n",
       "Unknown                    11624\n",
       "Some college                6365\n",
       "8th grade or less           1139\n",
       "Name: mother_ed, dtype: int64"
      ]
     },
     "execution_count": 11,
     "metadata": {},
     "output_type": "execute_result"
    }
   ],
   "source": [
    "ed_lookup = {0:\"8th grade or less\",\n",
    "1:\"Some high school\",\n",
    "2:\"High school diploma/GED\",\n",
    "3:\"Some college\",\n",
    "4:\"Bachelor's degree\",\n",
    "5:\"Post graduate degree\",\n",
    "6:\"Unknown\",\n",
    "np.nan:\"Unknown\"}\n",
    "\n",
    "autism_subset.mother_ed.replace(ed_lookup).value_counts()"
   ]
  },
  {
   "cell_type": "code",
   "execution_count": 12,
   "metadata": {},
   "outputs": [
    {
     "data": {
      "text/plain": [
       "Unknown                    14139\n",
       "Bachelor's degree          10002\n",
       "High school diploma/GED     6634\n",
       "Some college                6479\n",
       "Post graduate degree        6050\n",
       "Some high school            1063\n",
       "8th grade or less            162\n",
       "Name: father_ed, dtype: int64"
      ]
     },
     "execution_count": 12,
     "metadata": {},
     "output_type": "execute_result"
    }
   ],
   "source": [
    "autism_subset.father_ed.replace(ed_lookup).value_counts()"
   ]
  },
  {
   "cell_type": "code",
   "execution_count": 13,
   "metadata": {},
   "outputs": [
    {
     "data": {
      "text/plain": [
       "Ideal Participation      14192\n",
       "Good Participation       11102\n",
       "Average Participation     9837\n",
       "Missing                   5512\n",
       "Below Average             3022\n",
       "Limited Participation      864\n",
       "Name: family_inv, dtype: int64"
      ]
     },
     "execution_count": 13,
     "metadata": {},
     "output_type": "execute_result"
    }
   ],
   "source": [
    "family_lookup = {0:\"Ideal Participation\",\n",
    "1:\"Good Participation\",\n",
    "2:\"Average Participation\",\n",
    "3:\"Below Average\",\n",
    "4:\"Limited Participation\",\n",
    "np.nan:\"Missing\"}\n",
    "\n",
    "autism_subset.family_inv.replace(family_lookup).value_counts()"
   ]
  },
  {
   "cell_type": "code",
   "execution_count": 14,
   "metadata": {},
   "outputs": [
    {
     "data": {
      "text/html": [
       "<div>\n",
       "<style scoped>\n",
       "    .dataframe tbody tr th:only-of-type {\n",
       "        vertical-align: middle;\n",
       "    }\n",
       "\n",
       "    .dataframe tbody tr th {\n",
       "        vertical-align: top;\n",
       "    }\n",
       "\n",
       "    .dataframe thead th {\n",
       "        text-align: right;\n",
       "    }\n",
       "</style>\n",
       "<table border=\"1\" class=\"dataframe\">\n",
       "  <thead>\n",
       "    <tr style=\"text-align: right;\">\n",
       "      <th></th>\n",
       "      <th>age_diag</th>\n",
       "      <th>age_amp</th>\n",
       "      <th>age_int</th>\n",
       "      <th>age</th>\n",
       "    </tr>\n",
       "  </thead>\n",
       "  <tbody>\n",
       "    <tr>\n",
       "      <th>count</th>\n",
       "      <td>39572.000000</td>\n",
       "      <td>37920.000000</td>\n",
       "      <td>35954.000000</td>\n",
       "      <td>44218.000000</td>\n",
       "    </tr>\n",
       "    <tr>\n",
       "      <th>mean</th>\n",
       "      <td>11.620931</td>\n",
       "      <td>16.687737</td>\n",
       "      <td>17.423889</td>\n",
       "      <td>29.833405</td>\n",
       "    </tr>\n",
       "    <tr>\n",
       "      <th>std</th>\n",
       "      <td>16.491708</td>\n",
       "      <td>17.335948</td>\n",
       "      <td>17.735059</td>\n",
       "      <td>24.748746</td>\n",
       "    </tr>\n",
       "    <tr>\n",
       "      <th>min</th>\n",
       "      <td>0.000000</td>\n",
       "      <td>0.000000</td>\n",
       "      <td>0.000000</td>\n",
       "      <td>0.000000</td>\n",
       "    </tr>\n",
       "    <tr>\n",
       "      <th>25%</th>\n",
       "      <td>1.000000</td>\n",
       "      <td>4.000000</td>\n",
       "      <td>4.000000</td>\n",
       "      <td>10.000000</td>\n",
       "    </tr>\n",
       "    <tr>\n",
       "      <th>50%</th>\n",
       "      <td>3.000000</td>\n",
       "      <td>11.000000</td>\n",
       "      <td>12.000000</td>\n",
       "      <td>26.000000</td>\n",
       "    </tr>\n",
       "    <tr>\n",
       "      <th>75%</th>\n",
       "      <td>18.000000</td>\n",
       "      <td>24.000000</td>\n",
       "      <td>25.000000</td>\n",
       "      <td>40.000000</td>\n",
       "    </tr>\n",
       "    <tr>\n",
       "      <th>max</th>\n",
       "      <td>160.000000</td>\n",
       "      <td>173.000000</td>\n",
       "      <td>200.000000</td>\n",
       "      <td>227.000000</td>\n",
       "    </tr>\n",
       "  </tbody>\n",
       "</table>\n",
       "</div>"
      ],
      "text/plain": [
       "           age_diag       age_amp       age_int           age\n",
       "count  39572.000000  37920.000000  35954.000000  44218.000000\n",
       "mean      11.620931     16.687737     17.423889     29.833405\n",
       "std       16.491708     17.335948     17.735059     24.748746\n",
       "min        0.000000      0.000000      0.000000      0.000000\n",
       "25%        1.000000      4.000000      4.000000     10.000000\n",
       "50%        3.000000     11.000000     12.000000     26.000000\n",
       "75%       18.000000     24.000000     25.000000     40.000000\n",
       "max      160.000000    173.000000    200.000000    227.000000"
      ]
     },
     "execution_count": 14,
     "metadata": {},
     "output_type": "execute_result"
    }
   ],
   "source": [
    "autism_subset[[\"age_diag\", \"age_amp\", \"age_int\", \"age\"]].describe()"
   ]
  },
  {
   "cell_type": "code",
   "execution_count": 15,
   "metadata": {},
   "outputs": [
    {
     "data": {
      "text/plain": [
       "OPTION only         22140\n",
       "OPTION + outside     7333\n",
       "Missing              5681\n",
       "Name: otherserv, dtype: int64"
      ]
     },
     "execution_count": 15,
     "metadata": {},
     "output_type": "execute_result"
    }
   ],
   "source": [
    "autism_subset.otherserv.replace({0: \"OPTION + outside\", 1: \"OPTION only\", 2: \"Missing\"}).value_counts()"
   ]
  },
  {
   "cell_type": "markdown",
   "metadata": {},
   "source": [
    "## Hearing loss"
   ]
  },
  {
   "cell_type": "code",
   "execution_count": 16,
   "metadata": {},
   "outputs": [
    {
     "data": {
      "text/plain": [
       "958"
      ]
     },
     "execution_count": 16,
     "metadata": {},
     "output_type": "execute_result"
    }
   ],
   "source": [
    "autism_subset.degree_hl_ad.isnull().sum()"
   ]
  },
  {
   "cell_type": "code",
   "execution_count": 17,
   "metadata": {},
   "outputs": [
    {
     "data": {
      "text/plain": [
       "1004"
      ]
     },
     "execution_count": 17,
     "metadata": {},
     "output_type": "execute_result"
    }
   ],
   "source": [
    "autism_subset.degree_hl_as.isnull().sum()"
   ]
  },
  {
   "cell_type": "code",
   "execution_count": 18,
   "metadata": {},
   "outputs": [
    {
     "data": {
      "text/plain": [
       "6.0    19643\n",
       "4.0     6254\n",
       "3.0     6232\n",
       "5.0     5686\n",
       "2.0     3423\n",
       "0.0     1274\n",
       "1.0     1059\n",
       "Name: degree_hl_ad, dtype: int64"
      ]
     },
     "execution_count": 18,
     "metadata": {},
     "output_type": "execute_result"
    }
   ],
   "source": [
    "autism_subset.degree_hl_ad.value_counts()"
   ]
  },
  {
   "cell_type": "code",
   "execution_count": 19,
   "metadata": {},
   "outputs": [
    {
     "data": {
      "text/plain": [
       "6.0    19605\n",
       "3.0     6557\n",
       "4.0     5813\n",
       "5.0     5520\n",
       "2.0     3304\n",
       "0.0     1548\n",
       "1.0     1178\n",
       "Name: degree_hl_as, dtype: int64"
      ]
     },
     "execution_count": 19,
     "metadata": {},
     "output_type": "execute_result"
    }
   ],
   "source": [
    "autism_subset.degree_hl_as.value_counts()"
   ]
  },
  {
   "cell_type": "code",
   "execution_count": 20,
   "metadata": {},
   "outputs": [],
   "source": [
    "hl_data = autism_subset.set_index('study_id')[['bilateral_snhl',\n",
    "                     'bilateral_ansd',\n",
    "                     'bilateral_mixed',\n",
    "                     'bilateral_cond',\n",
    "                     'bilateral_normal',\n",
    "                     'bilateral_unk',\n",
    "                     'unilateral_snhl',\n",
    "                     'unilateral_ansd',\n",
    "                     'unilateral_mixed',\n",
    "                     'unilateral_cond',\n",
    "                     'unilateral_unk',\n",
    "                     'assymetrical']]"
   ]
  },
  {
   "cell_type": "markdown",
   "metadata": {},
   "source": [
    "One or both parents with hearing loss"
   ]
  },
  {
   "cell_type": "code",
   "execution_count": 21,
   "metadata": {},
   "outputs": [
    {
     "data": {
      "text/plain": [
       "0.0    34396\n",
       "1.0     2194\n",
       "Name: one_or_both_parent_hl, dtype: int64"
      ]
     },
     "execution_count": 21,
     "metadata": {},
     "output_type": "execute_result"
    }
   ],
   "source": [
    "autism_subset.one_or_both_parent_hl.value_counts()"
   ]
  },
  {
   "cell_type": "code",
   "execution_count": 22,
   "metadata": {},
   "outputs": [
    {
     "data": {
      "text/plain": [
       "7939"
      ]
     },
     "execution_count": 22,
     "metadata": {},
     "output_type": "execute_result"
    }
   ],
   "source": [
    "autism_subset.one_or_both_parent_hl.isnull().sum()"
   ]
  },
  {
   "cell_type": "markdown",
   "metadata": {},
   "source": [
    "Individuals with no hearing loss type"
   ]
  },
  {
   "cell_type": "code",
   "execution_count": 23,
   "metadata": {},
   "outputs": [
    {
     "data": {
      "text/plain": [
       "array(['0625-2018-0014', '0625-2018-0014', '0625-2018-0014', ...,\n",
       "       '0102-2010-3021', '0102-2010-3021', '0102-2010-3021'], dtype=object)"
      ]
     },
     "execution_count": 23,
     "metadata": {},
     "output_type": "execute_result"
    }
   ],
   "source": [
    "hl_data[hl_data.sum(1)==0].index.values"
   ]
  },
  {
   "cell_type": "code",
   "execution_count": 24,
   "metadata": {},
   "outputs": [
    {
     "data": {
      "text/plain": [
       "bilateral_snhl      34566\n",
       "unilateral_snhl      1734\n",
       "bilateral_cond       1692\n",
       "bilateral_ansd       1509\n",
       "assymetrical         1196\n",
       "bilateral_mixed      1098\n",
       "unilateral_cond       930\n",
       "unilateral_mixed      150\n",
       "unilateral_ansd       130\n",
       "bilateral_normal       55\n",
       "unilateral_unk          0\n",
       "bilateral_unk           0\n",
       "dtype: int64"
      ]
     },
     "execution_count": 24,
     "metadata": {},
     "output_type": "execute_result"
    }
   ],
   "source": [
    "hl_data.sum().astype(int).sort_values(ascending=False)"
   ]
  },
  {
   "cell_type": "code",
   "execution_count": 25,
   "metadata": {},
   "outputs": [
    {
     "data": {
      "text/plain": [
       "bilateral_snhl      0.78\n",
       "unilateral_snhl     0.04\n",
       "bilateral_cond      0.04\n",
       "assymetrical        0.03\n",
       "bilateral_ansd      0.03\n",
       "unilateral_cond     0.02\n",
       "bilateral_mixed     0.02\n",
       "unilateral_unk      0.00\n",
       "unilateral_mixed    0.00\n",
       "unilateral_ansd     0.00\n",
       "bilateral_unk       0.00\n",
       "bilateral_normal    0.00\n",
       "dtype: float64"
      ]
     },
     "execution_count": 25,
     "metadata": {},
     "output_type": "execute_result"
    }
   ],
   "source": [
    "hl_data.mean().round(2).sort_values(ascending=False)"
   ]
  },
  {
   "cell_type": "code",
   "execution_count": 26,
   "metadata": {},
   "outputs": [],
   "source": [
    "tech_data = autism_subset.set_index('study_id')[['bilateral_ha',\n",
    "                     'bilateral_ci',\n",
    "                     'bimodal',\n",
    "                     'bilateral_other',\n",
    "                     'unilateral_ha',\n",
    "                     'unilateral_ci',\n",
    "                     'unilateral_other']]"
   ]
  },
  {
   "cell_type": "code",
   "execution_count": 27,
   "metadata": {},
   "outputs": [
    {
     "data": {
      "text/plain": [
       "bilateral_ci        29190\n",
       "bilateral_ha         9135\n",
       "bimodal              2800\n",
       "unilateral_ha        1227\n",
       "unilateral_ci         974\n",
       "bilateral_other       153\n",
       "unilateral_other       69\n",
       "dtype: int64"
      ]
     },
     "execution_count": 27,
     "metadata": {},
     "output_type": "execute_result"
    }
   ],
   "source": [
    "tech_data.sum().astype(int).sort_values(ascending=False)"
   ]
  },
  {
   "cell_type": "code",
   "execution_count": 28,
   "metadata": {},
   "outputs": [
    {
     "data": {
      "text/plain": [
       "bilateral_ci        0.66\n",
       "bilateral_ha        0.21\n",
       "bimodal             0.06\n",
       "unilateral_ha       0.03\n",
       "unilateral_ci       0.02\n",
       "unilateral_other    0.00\n",
       "bilateral_other     0.00\n",
       "dtype: float64"
      ]
     },
     "execution_count": 28,
     "metadata": {},
     "output_type": "execute_result"
    }
   ],
   "source": [
    "tech_data.mean().round(2).sort_values(ascending=False)"
   ]
  },
  {
   "cell_type": "markdown",
   "metadata": {},
   "source": [
    "## Hearing Loss"
   ]
  },
  {
   "cell_type": "code",
   "execution_count": 30,
   "metadata": {},
   "outputs": [
    {
     "data": {
      "text/plain": [
       "Index(['degree_hl_ad', 'type_hl_ad', 'degree_hl_as', 'type_hl_as',\n",
       "       'bilateral_hl_normal', 'bilateral_hl_slight', 'bilateral_hl_mild',\n",
       "       'bilateral_hl_moderate', 'bilateral_hl_modsev', 'bilateral_hl_severe',\n",
       "       'bilateral_hl_profound', 'unilateral_hl_slight', 'unilateral_hl_mild',\n",
       "       'unilateral_hl_moderate', 'unilateral_hl_modsev',\n",
       "       'unilateral_hl_severe', 'unilateral_hl_profound'],\n",
       "      dtype='object')"
      ]
     },
     "execution_count": 30,
     "metadata": {},
     "output_type": "execute_result"
    }
   ],
   "source": [
    "autism_subset.columns[autism_subset.columns.str.contains('_hl_')]"
   ]
  },
  {
   "cell_type": "code",
   "execution_count": 31,
   "metadata": {},
   "outputs": [],
   "source": [
    "hl_data = autism_subset.set_index('study_id')[['bilateral_hl_normal', 'bilateral_hl_slight', 'bilateral_hl_mild',\n",
    "       'bilateral_hl_moderate', 'bilateral_hl_modsev', 'bilateral_hl_severe',\n",
    "       'bilateral_hl_profound', 'unilateral_hl_slight', 'unilateral_hl_mild',\n",
    "       'unilateral_hl_moderate', 'unilateral_hl_modsev',\n",
    "       'unilateral_hl_severe', 'unilateral_hl_profound']]"
   ]
  },
  {
   "cell_type": "code",
   "execution_count": 32,
   "metadata": {},
   "outputs": [
    {
     "data": {
      "text/plain": [
       "bilateral_hl_profound     16765\n",
       "bilateral_hl_moderate      4215\n",
       "bilateral_hl_modsev        3288\n",
       "bilateral_hl_severe        2806\n",
       "bilateral_hl_mild          1990\n",
       "unilateral_hl_profound      659\n",
       "unilateral_hl_modsev        656\n",
       "unilateral_hl_severe        538\n",
       "unilateral_hl_moderate      445\n",
       "bilateral_hl_slight         430\n",
       "unilateral_hl_mild          298\n",
       "unilateral_hl_slight        131\n",
       "bilateral_hl_normal          40\n",
       "dtype: int64"
      ]
     },
     "execution_count": 32,
     "metadata": {},
     "output_type": "execute_result"
    }
   ],
   "source": [
    "hl_data.sum().astype(int).sort_values(ascending=False)"
   ]
  },
  {
   "cell_type": "code",
   "execution_count": 33,
   "metadata": {},
   "outputs": [
    {
     "data": {
      "text/plain": [
       "bilateral_hl_profound     0.38\n",
       "bilateral_hl_moderate     0.09\n",
       "bilateral_hl_modsev       0.07\n",
       "bilateral_hl_severe       0.06\n",
       "bilateral_hl_mild         0.04\n",
       "unilateral_hl_profound    0.01\n",
       "unilateral_hl_severe      0.01\n",
       "unilateral_hl_modsev      0.01\n",
       "unilateral_hl_moderate    0.01\n",
       "unilateral_hl_mild        0.01\n",
       "bilateral_hl_slight       0.01\n",
       "unilateral_hl_slight      0.00\n",
       "bilateral_hl_normal       0.00\n",
       "dtype: float64"
      ]
     },
     "execution_count": 33,
     "metadata": {},
     "output_type": "execute_result"
    }
   ],
   "source": [
    "hl_data.mean().round(2).sort_values(ascending=False)"
   ]
  },
  {
   "cell_type": "markdown",
   "metadata": {},
   "source": [
    "Missing one or both hearing loss values (left/right)"
   ]
  },
  {
   "cell_type": "code",
   "execution_count": 34,
   "metadata": {},
   "outputs": [
    {
     "data": {
      "text/plain": [
       "1042"
      ]
     },
     "execution_count": 34,
     "metadata": {},
     "output_type": "execute_result"
    }
   ],
   "source": [
    "(autism_subset[['degree_hl_ad', 'degree_hl_as']].isnull().sum(1) > 0).sum()"
   ]
  },
  {
   "cell_type": "markdown",
   "metadata": {},
   "source": [
    "## Summary of scores by domain"
   ]
  },
  {
   "cell_type": "code",
   "execution_count": 35,
   "metadata": {},
   "outputs": [],
   "source": [
    "test_scores = lsl_dr[inclusion_mask].copy()"
   ]
  },
  {
   "cell_type": "code",
   "execution_count": 36,
   "metadata": {},
   "outputs": [],
   "source": [
    "test_scores.loc[(test_scores.domain=='Language') & (test_scores.test_type=='receptive'), \n",
    "           'domain'] = 'Receptive Language'\n",
    "test_scores.loc[(test_scores.domain=='Language') & (test_scores.test_type=='expressive'), \n",
    "           'domain'] = 'Expressive Language'"
   ]
  },
  {
   "cell_type": "code",
   "execution_count": 37,
   "metadata": {},
   "outputs": [
    {
     "data": {
      "text/html": [
       "<div>\n",
       "<style scoped>\n",
       "    .dataframe tbody tr th:only-of-type {\n",
       "        vertical-align: middle;\n",
       "    }\n",
       "\n",
       "    .dataframe tbody tr th {\n",
       "        vertical-align: top;\n",
       "    }\n",
       "\n",
       "    .dataframe thead th {\n",
       "        text-align: right;\n",
       "    }\n",
       "</style>\n",
       "<table border=\"1\" class=\"dataframe\">\n",
       "  <thead>\n",
       "    <tr style=\"text-align: right;\">\n",
       "      <th></th>\n",
       "      <th>count</th>\n",
       "      <th>mean</th>\n",
       "      <th>std</th>\n",
       "      <th>min</th>\n",
       "      <th>25%</th>\n",
       "      <th>50%</th>\n",
       "      <th>75%</th>\n",
       "      <th>max</th>\n",
       "    </tr>\n",
       "    <tr>\n",
       "      <th>domain</th>\n",
       "      <th></th>\n",
       "      <th></th>\n",
       "      <th></th>\n",
       "      <th></th>\n",
       "      <th></th>\n",
       "      <th></th>\n",
       "      <th></th>\n",
       "      <th></th>\n",
       "    </tr>\n",
       "  </thead>\n",
       "  <tbody>\n",
       "    <tr>\n",
       "      <th>Articulation</th>\n",
       "      <td>4941.0</td>\n",
       "      <td>82.0</td>\n",
       "      <td>19.8</td>\n",
       "      <td>0.0</td>\n",
       "      <td>69.0</td>\n",
       "      <td>84.0</td>\n",
       "      <td>98.0</td>\n",
       "      <td>128.0</td>\n",
       "    </tr>\n",
       "    <tr>\n",
       "      <th>Expressive Language</th>\n",
       "      <td>8585.0</td>\n",
       "      <td>84.1</td>\n",
       "      <td>20.6</td>\n",
       "      <td>0.0</td>\n",
       "      <td>69.0</td>\n",
       "      <td>85.0</td>\n",
       "      <td>99.0</td>\n",
       "      <td>150.0</td>\n",
       "    </tr>\n",
       "    <tr>\n",
       "      <th>Expressive Vocabulary</th>\n",
       "      <td>6780.0</td>\n",
       "      <td>91.6</td>\n",
       "      <td>19.6</td>\n",
       "      <td>0.0</td>\n",
       "      <td>79.0</td>\n",
       "      <td>93.0</td>\n",
       "      <td>105.0</td>\n",
       "      <td>150.0</td>\n",
       "    </tr>\n",
       "    <tr>\n",
       "      <th>Language</th>\n",
       "      <td>8733.0</td>\n",
       "      <td>84.3</td>\n",
       "      <td>21.6</td>\n",
       "      <td>0.0</td>\n",
       "      <td>68.0</td>\n",
       "      <td>84.0</td>\n",
       "      <td>100.0</td>\n",
       "      <td>250.0</td>\n",
       "    </tr>\n",
       "    <tr>\n",
       "      <th>Receptive Language</th>\n",
       "      <td>8511.0</td>\n",
       "      <td>86.6</td>\n",
       "      <td>20.1</td>\n",
       "      <td>0.0</td>\n",
       "      <td>73.0</td>\n",
       "      <td>87.0</td>\n",
       "      <td>101.0</td>\n",
       "      <td>150.0</td>\n",
       "    </tr>\n",
       "    <tr>\n",
       "      <th>Receptive Vocabulary</th>\n",
       "      <td>6979.0</td>\n",
       "      <td>89.3</td>\n",
       "      <td>18.4</td>\n",
       "      <td>0.0</td>\n",
       "      <td>77.0</td>\n",
       "      <td>90.0</td>\n",
       "      <td>102.0</td>\n",
       "      <td>160.0</td>\n",
       "    </tr>\n",
       "  </tbody>\n",
       "</table>\n",
       "</div>"
      ],
      "text/plain": [
       "                        count  mean   std  min   25%   50%    75%    max\n",
       "domain                                                                  \n",
       "Articulation           4941.0  82.0  19.8  0.0  69.0  84.0   98.0  128.0\n",
       "Expressive Language    8585.0  84.1  20.6  0.0  69.0  85.0   99.0  150.0\n",
       "Expressive Vocabulary  6780.0  91.6  19.6  0.0  79.0  93.0  105.0  150.0\n",
       "Language               8733.0  84.3  21.6  0.0  68.0  84.0  100.0  250.0\n",
       "Receptive Language     8511.0  86.6  20.1  0.0  73.0  87.0  101.0  150.0\n",
       "Receptive Vocabulary   6979.0  89.3  18.4  0.0  77.0  90.0  102.0  160.0"
      ]
     },
     "execution_count": 37,
     "metadata": {},
     "output_type": "execute_result"
    }
   ],
   "source": [
    "test_scores.groupby('domain').score.describe().round(1)"
   ]
  },
  {
   "cell_type": "code",
   "execution_count": 38,
   "metadata": {},
   "outputs": [
    {
     "data": {
      "text/plain": [
       "array(['Expressive Vocabulary', 'Receptive Language',\n",
       "       'Expressive Language', 'Language', 'Articulation',\n",
       "       'Receptive Vocabulary'], dtype=object)"
      ]
     },
     "execution_count": 38,
     "metadata": {},
     "output_type": "execute_result"
    }
   ],
   "source": [
    "test_scores.domain.unique()"
   ]
  },
  {
   "cell_type": "code",
   "execution_count": 39,
   "metadata": {},
   "outputs": [],
   "source": [
    "test_scores['domain_labels'] = test_scores.domain.replace({'Expressive Vocabulary': 'Expressive\\nVocabulary', \n",
    "                                                           'Receptive Vocabulary': 'Receptive\\nVocabulary',\n",
    "                                                           'Receptive Language': 'Receptive\\nLanguage', \n",
    "                                                           'Expressive Language': 'Expressive\\nLanguage', \n",
    "                                                           'Language': 'Total\\nLanguage'})"
   ]
  },
  {
   "cell_type": "code",
   "execution_count": null,
   "metadata": {},
   "outputs": [],
   "source": [
    "sns.catplot(\"domain_labels\", y=\"score\", data=test_scores, kind=\"box\", color='white', fliersize=0)\n",
    "sns.swarmplot(\"domain_labels\", y=\"score\", data=test_scores, color='grey', alpha=0.5)\n",
    "fig = plt.gcf()\n",
    "fig.set_size_inches(12, 5)\n",
    "fig.axes[0].set_xlabel('');"
   ]
  },
  {
   "cell_type": "markdown",
   "metadata": {},
   "source": [
    "## Domain-specific summaries\n",
    "\n",
    "Age of amplification greater than 6mo."
   ]
  },
  {
   "cell_type": "code",
   "execution_count": 41,
   "metadata": {},
   "outputs": [
    {
     "data": {
      "text/html": [
       "<div>\n",
       "<style scoped>\n",
       "    .dataframe tbody tr th:only-of-type {\n",
       "        vertical-align: middle;\n",
       "    }\n",
       "\n",
       "    .dataframe tbody tr th {\n",
       "        vertical-align: top;\n",
       "    }\n",
       "\n",
       "    .dataframe thead th {\n",
       "        text-align: right;\n",
       "    }\n",
       "</style>\n",
       "<table border=\"1\" class=\"dataframe\">\n",
       "  <thead>\n",
       "    <tr style=\"text-align: right;\">\n",
       "      <th></th>\n",
       "      <th></th>\n",
       "      <th>count</th>\n",
       "      <th>mean</th>\n",
       "      <th>std</th>\n",
       "      <th>min</th>\n",
       "      <th>25%</th>\n",
       "      <th>50%</th>\n",
       "      <th>75%</th>\n",
       "      <th>max</th>\n",
       "    </tr>\n",
       "    <tr>\n",
       "      <th>domain</th>\n",
       "      <th>age_amp_greater_6</th>\n",
       "      <th></th>\n",
       "      <th></th>\n",
       "      <th></th>\n",
       "      <th></th>\n",
       "      <th></th>\n",
       "      <th></th>\n",
       "      <th></th>\n",
       "      <th></th>\n",
       "    </tr>\n",
       "  </thead>\n",
       "  <tbody>\n",
       "    <tr>\n",
       "      <th rowspan=\"2\" valign=\"top\">Articulation</th>\n",
       "      <th>False</th>\n",
       "      <td>2260.0</td>\n",
       "      <td>84.341593</td>\n",
       "      <td>19.095625</td>\n",
       "      <td>39.0</td>\n",
       "      <td>72.0</td>\n",
       "      <td>87.0</td>\n",
       "      <td>100.0</td>\n",
       "      <td>128.0</td>\n",
       "    </tr>\n",
       "    <tr>\n",
       "      <th>True</th>\n",
       "      <td>2681.0</td>\n",
       "      <td>80.031332</td>\n",
       "      <td>20.138896</td>\n",
       "      <td>0.0</td>\n",
       "      <td>66.0</td>\n",
       "      <td>82.0</td>\n",
       "      <td>97.0</td>\n",
       "      <td>122.0</td>\n",
       "    </tr>\n",
       "    <tr>\n",
       "      <th rowspan=\"2\" valign=\"top\">Expressive Language</th>\n",
       "      <th>False</th>\n",
       "      <td>4334.0</td>\n",
       "      <td>88.292340</td>\n",
       "      <td>20.498308</td>\n",
       "      <td>0.0</td>\n",
       "      <td>74.0</td>\n",
       "      <td>89.0</td>\n",
       "      <td>103.0</td>\n",
       "      <td>150.0</td>\n",
       "    </tr>\n",
       "    <tr>\n",
       "      <th>True</th>\n",
       "      <td>4251.0</td>\n",
       "      <td>79.918843</td>\n",
       "      <td>19.748376</td>\n",
       "      <td>9.0</td>\n",
       "      <td>65.0</td>\n",
       "      <td>79.0</td>\n",
       "      <td>94.0</td>\n",
       "      <td>150.0</td>\n",
       "    </tr>\n",
       "    <tr>\n",
       "      <th rowspan=\"2\" valign=\"top\">Expressive Vocabulary</th>\n",
       "      <th>False</th>\n",
       "      <td>3182.0</td>\n",
       "      <td>93.758014</td>\n",
       "      <td>20.000280</td>\n",
       "      <td>0.0</td>\n",
       "      <td>80.0</td>\n",
       "      <td>95.0</td>\n",
       "      <td>108.0</td>\n",
       "      <td>146.0</td>\n",
       "    </tr>\n",
       "    <tr>\n",
       "      <th>True</th>\n",
       "      <td>3598.0</td>\n",
       "      <td>89.757921</td>\n",
       "      <td>19.105142</td>\n",
       "      <td>0.0</td>\n",
       "      <td>78.0</td>\n",
       "      <td>90.0</td>\n",
       "      <td>102.0</td>\n",
       "      <td>150.0</td>\n",
       "    </tr>\n",
       "    <tr>\n",
       "      <th rowspan=\"2\" valign=\"top\">Language</th>\n",
       "      <th>False</th>\n",
       "      <td>4366.0</td>\n",
       "      <td>88.308978</td>\n",
       "      <td>21.725678</td>\n",
       "      <td>0.0</td>\n",
       "      <td>74.0</td>\n",
       "      <td>89.0</td>\n",
       "      <td>103.0</td>\n",
       "      <td>250.0</td>\n",
       "    </tr>\n",
       "    <tr>\n",
       "      <th>True</th>\n",
       "      <td>4367.0</td>\n",
       "      <td>80.219831</td>\n",
       "      <td>20.769270</td>\n",
       "      <td>40.0</td>\n",
       "      <td>64.0</td>\n",
       "      <td>79.0</td>\n",
       "      <td>95.0</td>\n",
       "      <td>186.0</td>\n",
       "    </tr>\n",
       "    <tr>\n",
       "      <th rowspan=\"2\" valign=\"top\">Receptive Language</th>\n",
       "      <th>False</th>\n",
       "      <td>4313.0</td>\n",
       "      <td>90.111060</td>\n",
       "      <td>20.035901</td>\n",
       "      <td>0.0</td>\n",
       "      <td>76.0</td>\n",
       "      <td>91.0</td>\n",
       "      <td>104.0</td>\n",
       "      <td>150.0</td>\n",
       "    </tr>\n",
       "    <tr>\n",
       "      <th>True</th>\n",
       "      <td>4198.0</td>\n",
       "      <td>83.028109</td>\n",
       "      <td>19.623394</td>\n",
       "      <td>11.0</td>\n",
       "      <td>68.0</td>\n",
       "      <td>83.0</td>\n",
       "      <td>98.0</td>\n",
       "      <td>150.0</td>\n",
       "    </tr>\n",
       "    <tr>\n",
       "      <th rowspan=\"2\" valign=\"top\">Receptive Vocabulary</th>\n",
       "      <th>False</th>\n",
       "      <td>3279.0</td>\n",
       "      <td>91.769747</td>\n",
       "      <td>18.369530</td>\n",
       "      <td>10.0</td>\n",
       "      <td>80.0</td>\n",
       "      <td>93.0</td>\n",
       "      <td>105.0</td>\n",
       "      <td>160.0</td>\n",
       "    </tr>\n",
       "    <tr>\n",
       "      <th>True</th>\n",
       "      <td>3700.0</td>\n",
       "      <td>87.104595</td>\n",
       "      <td>18.112700</td>\n",
       "      <td>0.0</td>\n",
       "      <td>75.0</td>\n",
       "      <td>87.0</td>\n",
       "      <td>99.0</td>\n",
       "      <td>159.0</td>\n",
       "    </tr>\n",
       "  </tbody>\n",
       "</table>\n",
       "</div>"
      ],
      "text/plain": [
       "                                          count       mean        std   min  \\\n",
       "domain                age_amp_greater_6                                       \n",
       "Articulation          False              2260.0  84.341593  19.095625  39.0   \n",
       "                      True               2681.0  80.031332  20.138896   0.0   \n",
       "Expressive Language   False              4334.0  88.292340  20.498308   0.0   \n",
       "                      True               4251.0  79.918843  19.748376   9.0   \n",
       "Expressive Vocabulary False              3182.0  93.758014  20.000280   0.0   \n",
       "                      True               3598.0  89.757921  19.105142   0.0   \n",
       "Language              False              4366.0  88.308978  21.725678   0.0   \n",
       "                      True               4367.0  80.219831  20.769270  40.0   \n",
       "Receptive Language    False              4313.0  90.111060  20.035901   0.0   \n",
       "                      True               4198.0  83.028109  19.623394  11.0   \n",
       "Receptive Vocabulary  False              3279.0  91.769747  18.369530  10.0   \n",
       "                      True               3700.0  87.104595  18.112700   0.0   \n",
       "\n",
       "                                          25%   50%    75%    max  \n",
       "domain                age_amp_greater_6                            \n",
       "Articulation          False              72.0  87.0  100.0  128.0  \n",
       "                      True               66.0  82.0   97.0  122.0  \n",
       "Expressive Language   False              74.0  89.0  103.0  150.0  \n",
       "                      True               65.0  79.0   94.0  150.0  \n",
       "Expressive Vocabulary False              80.0  95.0  108.0  146.0  \n",
       "                      True               78.0  90.0  102.0  150.0  \n",
       "Language              False              74.0  89.0  103.0  250.0  \n",
       "                      True               64.0  79.0   95.0  186.0  \n",
       "Receptive Language    False              76.0  91.0  104.0  150.0  \n",
       "                      True               68.0  83.0   98.0  150.0  \n",
       "Receptive Vocabulary  False              80.0  93.0  105.0  160.0  \n",
       "                      True               75.0  87.0   99.0  159.0  "
      ]
     },
     "execution_count": 41,
     "metadata": {},
     "output_type": "execute_result"
    }
   ],
   "source": [
    "(test_scores.assign(age_amp_greater_6=test_scores.age_amp>6)\n",
    "         .groupby(['domain', 'age_amp_greater_6'])\n",
    "         .score.describe())"
   ]
  },
  {
   "cell_type": "markdown",
   "metadata": {},
   "source": [
    "Age of enrollment greater than 6mo."
   ]
  },
  {
   "cell_type": "code",
   "execution_count": 42,
   "metadata": {},
   "outputs": [
    {
     "data": {
      "text/html": [
       "<div>\n",
       "<style scoped>\n",
       "    .dataframe tbody tr th:only-of-type {\n",
       "        vertical-align: middle;\n",
       "    }\n",
       "\n",
       "    .dataframe tbody tr th {\n",
       "        vertical-align: top;\n",
       "    }\n",
       "\n",
       "    .dataframe thead th {\n",
       "        text-align: right;\n",
       "    }\n",
       "</style>\n",
       "<table border=\"1\" class=\"dataframe\">\n",
       "  <thead>\n",
       "    <tr style=\"text-align: right;\">\n",
       "      <th></th>\n",
       "      <th></th>\n",
       "      <th>count</th>\n",
       "      <th>mean</th>\n",
       "      <th>std</th>\n",
       "      <th>min</th>\n",
       "      <th>25%</th>\n",
       "      <th>50%</th>\n",
       "      <th>75%</th>\n",
       "      <th>max</th>\n",
       "    </tr>\n",
       "    <tr>\n",
       "      <th>domain</th>\n",
       "      <th>age_enroll_greater_6</th>\n",
       "      <th></th>\n",
       "      <th></th>\n",
       "      <th></th>\n",
       "      <th></th>\n",
       "      <th></th>\n",
       "      <th></th>\n",
       "      <th></th>\n",
       "      <th></th>\n",
       "    </tr>\n",
       "  </thead>\n",
       "  <tbody>\n",
       "    <tr>\n",
       "      <th rowspan=\"2\" valign=\"top\">Articulation</th>\n",
       "      <th>False</th>\n",
       "      <td>2356.0</td>\n",
       "      <td>83.515705</td>\n",
       "      <td>19.362016</td>\n",
       "      <td>0.0</td>\n",
       "      <td>71.0</td>\n",
       "      <td>86.0</td>\n",
       "      <td>99.0</td>\n",
       "      <td>128.0</td>\n",
       "    </tr>\n",
       "    <tr>\n",
       "      <th>True</th>\n",
       "      <td>2585.0</td>\n",
       "      <td>80.623985</td>\n",
       "      <td>20.064568</td>\n",
       "      <td>3.0</td>\n",
       "      <td>67.0</td>\n",
       "      <td>83.0</td>\n",
       "      <td>97.0</td>\n",
       "      <td>122.0</td>\n",
       "    </tr>\n",
       "    <tr>\n",
       "      <th rowspan=\"2\" valign=\"top\">Expressive Language</th>\n",
       "      <th>False</th>\n",
       "      <td>4306.0</td>\n",
       "      <td>87.093126</td>\n",
       "      <td>20.593864</td>\n",
       "      <td>26.0</td>\n",
       "      <td>73.0</td>\n",
       "      <td>87.0</td>\n",
       "      <td>102.0</td>\n",
       "      <td>150.0</td>\n",
       "    </tr>\n",
       "    <tr>\n",
       "      <th>True</th>\n",
       "      <td>4279.0</td>\n",
       "      <td>81.180416</td>\n",
       "      <td>20.096731</td>\n",
       "      <td>0.0</td>\n",
       "      <td>67.0</td>\n",
       "      <td>81.0</td>\n",
       "      <td>95.0</td>\n",
       "      <td>150.0</td>\n",
       "    </tr>\n",
       "    <tr>\n",
       "      <th rowspan=\"2\" valign=\"top\">Expressive Vocabulary</th>\n",
       "      <th>False</th>\n",
       "      <td>3278.0</td>\n",
       "      <td>92.895973</td>\n",
       "      <td>20.074317</td>\n",
       "      <td>0.0</td>\n",
       "      <td>79.0</td>\n",
       "      <td>94.0</td>\n",
       "      <td>107.0</td>\n",
       "      <td>146.0</td>\n",
       "    </tr>\n",
       "    <tr>\n",
       "      <th>True</th>\n",
       "      <td>3502.0</td>\n",
       "      <td>90.455168</td>\n",
       "      <td>19.133892</td>\n",
       "      <td>0.0</td>\n",
       "      <td>78.0</td>\n",
       "      <td>91.0</td>\n",
       "      <td>103.0</td>\n",
       "      <td>150.0</td>\n",
       "    </tr>\n",
       "    <tr>\n",
       "      <th rowspan=\"2\" valign=\"top\">Language</th>\n",
       "      <th>False</th>\n",
       "      <td>4358.0</td>\n",
       "      <td>87.104865</td>\n",
       "      <td>21.946840</td>\n",
       "      <td>19.0</td>\n",
       "      <td>72.0</td>\n",
       "      <td>87.0</td>\n",
       "      <td>102.0</td>\n",
       "      <td>250.0</td>\n",
       "    </tr>\n",
       "    <tr>\n",
       "      <th>True</th>\n",
       "      <td>4375.0</td>\n",
       "      <td>81.434057</td>\n",
       "      <td>20.938610</td>\n",
       "      <td>0.0</td>\n",
       "      <td>66.0</td>\n",
       "      <td>81.0</td>\n",
       "      <td>96.0</td>\n",
       "      <td>186.0</td>\n",
       "    </tr>\n",
       "    <tr>\n",
       "      <th rowspan=\"2\" valign=\"top\">Receptive Language</th>\n",
       "      <th>False</th>\n",
       "      <td>4296.0</td>\n",
       "      <td>89.185754</td>\n",
       "      <td>20.097943</td>\n",
       "      <td>27.0</td>\n",
       "      <td>75.0</td>\n",
       "      <td>90.0</td>\n",
       "      <td>103.0</td>\n",
       "      <td>150.0</td>\n",
       "    </tr>\n",
       "    <tr>\n",
       "      <th>True</th>\n",
       "      <td>4215.0</td>\n",
       "      <td>83.999763</td>\n",
       "      <td>19.858344</td>\n",
       "      <td>0.0</td>\n",
       "      <td>69.0</td>\n",
       "      <td>84.0</td>\n",
       "      <td>98.0</td>\n",
       "      <td>150.0</td>\n",
       "    </tr>\n",
       "    <tr>\n",
       "      <th rowspan=\"2\" valign=\"top\">Receptive Vocabulary</th>\n",
       "      <th>False</th>\n",
       "      <td>3348.0</td>\n",
       "      <td>90.581243</td>\n",
       "      <td>18.352513</td>\n",
       "      <td>0.0</td>\n",
       "      <td>79.0</td>\n",
       "      <td>91.0</td>\n",
       "      <td>104.0</td>\n",
       "      <td>160.0</td>\n",
       "    </tr>\n",
       "    <tr>\n",
       "      <th>True</th>\n",
       "      <td>3631.0</td>\n",
       "      <td>88.111815</td>\n",
       "      <td>18.329330</td>\n",
       "      <td>0.0</td>\n",
       "      <td>76.0</td>\n",
       "      <td>88.0</td>\n",
       "      <td>101.0</td>\n",
       "      <td>159.0</td>\n",
       "    </tr>\n",
       "  </tbody>\n",
       "</table>\n",
       "</div>"
      ],
      "text/plain": [
       "                                             count       mean        std  \\\n",
       "domain                age_enroll_greater_6                                 \n",
       "Articulation          False                 2356.0  83.515705  19.362016   \n",
       "                      True                  2585.0  80.623985  20.064568   \n",
       "Expressive Language   False                 4306.0  87.093126  20.593864   \n",
       "                      True                  4279.0  81.180416  20.096731   \n",
       "Expressive Vocabulary False                 3278.0  92.895973  20.074317   \n",
       "                      True                  3502.0  90.455168  19.133892   \n",
       "Language              False                 4358.0  87.104865  21.946840   \n",
       "                      True                  4375.0  81.434057  20.938610   \n",
       "Receptive Language    False                 4296.0  89.185754  20.097943   \n",
       "                      True                  4215.0  83.999763  19.858344   \n",
       "Receptive Vocabulary  False                 3348.0  90.581243  18.352513   \n",
       "                      True                  3631.0  88.111815  18.329330   \n",
       "\n",
       "                                             min   25%   50%    75%    max  \n",
       "domain                age_enroll_greater_6                                  \n",
       "Articulation          False                  0.0  71.0  86.0   99.0  128.0  \n",
       "                      True                   3.0  67.0  83.0   97.0  122.0  \n",
       "Expressive Language   False                 26.0  73.0  87.0  102.0  150.0  \n",
       "                      True                   0.0  67.0  81.0   95.0  150.0  \n",
       "Expressive Vocabulary False                  0.0  79.0  94.0  107.0  146.0  \n",
       "                      True                   0.0  78.0  91.0  103.0  150.0  \n",
       "Language              False                 19.0  72.0  87.0  102.0  250.0  \n",
       "                      True                   0.0  66.0  81.0   96.0  186.0  \n",
       "Receptive Language    False                 27.0  75.0  90.0  103.0  150.0  \n",
       "                      True                   0.0  69.0  84.0   98.0  150.0  \n",
       "Receptive Vocabulary  False                  0.0  79.0  91.0  104.0  160.0  \n",
       "                      True                   0.0  76.0  88.0  101.0  159.0  "
      ]
     },
     "execution_count": 42,
     "metadata": {},
     "output_type": "execute_result"
    }
   ],
   "source": [
    "(test_scores.assign(age_enroll_greater_6=test_scores.age_int>6)\n",
    "         .groupby(['domain', 'age_enroll_greater_6'])\n",
    "         .score.describe())"
   ]
  },
  {
   "cell_type": "markdown",
   "metadata": {},
   "source": [
    "(Non-)Profound hearing loss"
   ]
  },
  {
   "cell_type": "code",
   "execution_count": 43,
   "metadata": {},
   "outputs": [
    {
     "data": {
      "text/html": [
       "<div>\n",
       "<style scoped>\n",
       "    .dataframe tbody tr th:only-of-type {\n",
       "        vertical-align: middle;\n",
       "    }\n",
       "\n",
       "    .dataframe tbody tr th {\n",
       "        vertical-align: top;\n",
       "    }\n",
       "\n",
       "    .dataframe thead th {\n",
       "        text-align: right;\n",
       "    }\n",
       "</style>\n",
       "<table border=\"1\" class=\"dataframe\">\n",
       "  <thead>\n",
       "    <tr style=\"text-align: right;\">\n",
       "      <th></th>\n",
       "      <th></th>\n",
       "      <th>count</th>\n",
       "      <th>mean</th>\n",
       "      <th>std</th>\n",
       "      <th>min</th>\n",
       "      <th>25%</th>\n",
       "      <th>50%</th>\n",
       "      <th>75%</th>\n",
       "      <th>max</th>\n",
       "    </tr>\n",
       "    <tr>\n",
       "      <th>domain</th>\n",
       "      <th>profound_hl</th>\n",
       "      <th></th>\n",
       "      <th></th>\n",
       "      <th></th>\n",
       "      <th></th>\n",
       "      <th></th>\n",
       "      <th></th>\n",
       "      <th></th>\n",
       "      <th></th>\n",
       "    </tr>\n",
       "  </thead>\n",
       "  <tbody>\n",
       "    <tr>\n",
       "      <th rowspan=\"2\" valign=\"top\">Articulation</th>\n",
       "      <th>False</th>\n",
       "      <td>2381.0</td>\n",
       "      <td>84.438891</td>\n",
       "      <td>19.422745</td>\n",
       "      <td>3.0</td>\n",
       "      <td>72.0</td>\n",
       "      <td>87.0</td>\n",
       "      <td>100.0</td>\n",
       "      <td>126.0</td>\n",
       "    </tr>\n",
       "    <tr>\n",
       "      <th>True</th>\n",
       "      <td>2560.0</td>\n",
       "      <td>79.737109</td>\n",
       "      <td>19.850379</td>\n",
       "      <td>0.0</td>\n",
       "      <td>67.0</td>\n",
       "      <td>82.0</td>\n",
       "      <td>96.0</td>\n",
       "      <td>128.0</td>\n",
       "    </tr>\n",
       "    <tr>\n",
       "      <th rowspan=\"2\" valign=\"top\">Expressive Language</th>\n",
       "      <th>False</th>\n",
       "      <td>4359.0</td>\n",
       "      <td>89.585685</td>\n",
       "      <td>19.668943</td>\n",
       "      <td>9.0</td>\n",
       "      <td>75.5</td>\n",
       "      <td>90.0</td>\n",
       "      <td>104.0</td>\n",
       "      <td>150.0</td>\n",
       "    </tr>\n",
       "    <tr>\n",
       "      <th>True</th>\n",
       "      <td>4226.0</td>\n",
       "      <td>78.535258</td>\n",
       "      <td>19.944415</td>\n",
       "      <td>0.0</td>\n",
       "      <td>63.0</td>\n",
       "      <td>77.0</td>\n",
       "      <td>92.0</td>\n",
       "      <td>146.0</td>\n",
       "    </tr>\n",
       "    <tr>\n",
       "      <th rowspan=\"2\" valign=\"top\">Expressive Vocabulary</th>\n",
       "      <th>False</th>\n",
       "      <td>3272.0</td>\n",
       "      <td>95.301345</td>\n",
       "      <td>18.699942</td>\n",
       "      <td>0.0</td>\n",
       "      <td>84.0</td>\n",
       "      <td>96.0</td>\n",
       "      <td>108.0</td>\n",
       "      <td>147.0</td>\n",
       "    </tr>\n",
       "    <tr>\n",
       "      <th>True</th>\n",
       "      <td>3508.0</td>\n",
       "      <td>88.215792</td>\n",
       "      <td>19.862370</td>\n",
       "      <td>0.0</td>\n",
       "      <td>76.0</td>\n",
       "      <td>88.0</td>\n",
       "      <td>101.0</td>\n",
       "      <td>150.0</td>\n",
       "    </tr>\n",
       "    <tr>\n",
       "      <th rowspan=\"2\" valign=\"top\">Language</th>\n",
       "      <th>False</th>\n",
       "      <td>4458.0</td>\n",
       "      <td>89.930013</td>\n",
       "      <td>20.793633</td>\n",
       "      <td>40.0</td>\n",
       "      <td>76.0</td>\n",
       "      <td>90.0</td>\n",
       "      <td>104.0</td>\n",
       "      <td>250.0</td>\n",
       "    </tr>\n",
       "    <tr>\n",
       "      <th>True</th>\n",
       "      <td>4275.0</td>\n",
       "      <td>78.355322</td>\n",
       "      <td>20.900556</td>\n",
       "      <td>0.0</td>\n",
       "      <td>62.0</td>\n",
       "      <td>78.0</td>\n",
       "      <td>93.0</td>\n",
       "      <td>186.0</td>\n",
       "    </tr>\n",
       "    <tr>\n",
       "      <th rowspan=\"2\" valign=\"top\">Receptive Language</th>\n",
       "      <th>False</th>\n",
       "      <td>4299.0</td>\n",
       "      <td>91.347290</td>\n",
       "      <td>19.470674</td>\n",
       "      <td>11.0</td>\n",
       "      <td>78.0</td>\n",
       "      <td>92.0</td>\n",
       "      <td>105.0</td>\n",
       "      <td>150.0</td>\n",
       "    </tr>\n",
       "    <tr>\n",
       "      <th>True</th>\n",
       "      <td>4212.0</td>\n",
       "      <td>81.789886</td>\n",
       "      <td>19.675321</td>\n",
       "      <td>0.0</td>\n",
       "      <td>67.0</td>\n",
       "      <td>81.0</td>\n",
       "      <td>96.0</td>\n",
       "      <td>150.0</td>\n",
       "    </tr>\n",
       "    <tr>\n",
       "      <th rowspan=\"2\" valign=\"top\">Receptive Vocabulary</th>\n",
       "      <th>False</th>\n",
       "      <td>3361.0</td>\n",
       "      <td>93.367153</td>\n",
       "      <td>17.327680</td>\n",
       "      <td>0.0</td>\n",
       "      <td>82.0</td>\n",
       "      <td>94.0</td>\n",
       "      <td>105.0</td>\n",
       "      <td>159.0</td>\n",
       "    </tr>\n",
       "    <tr>\n",
       "      <th>True</th>\n",
       "      <td>3618.0</td>\n",
       "      <td>85.514925</td>\n",
       "      <td>18.524697</td>\n",
       "      <td>0.0</td>\n",
       "      <td>73.0</td>\n",
       "      <td>86.0</td>\n",
       "      <td>98.0</td>\n",
       "      <td>160.0</td>\n",
       "    </tr>\n",
       "  </tbody>\n",
       "</table>\n",
       "</div>"
      ],
      "text/plain": [
       "                                    count       mean        std   min   25%  \\\n",
       "domain                profound_hl                                             \n",
       "Articulation          False        2381.0  84.438891  19.422745   3.0  72.0   \n",
       "                      True         2560.0  79.737109  19.850379   0.0  67.0   \n",
       "Expressive Language   False        4359.0  89.585685  19.668943   9.0  75.5   \n",
       "                      True         4226.0  78.535258  19.944415   0.0  63.0   \n",
       "Expressive Vocabulary False        3272.0  95.301345  18.699942   0.0  84.0   \n",
       "                      True         3508.0  88.215792  19.862370   0.0  76.0   \n",
       "Language              False        4458.0  89.930013  20.793633  40.0  76.0   \n",
       "                      True         4275.0  78.355322  20.900556   0.0  62.0   \n",
       "Receptive Language    False        4299.0  91.347290  19.470674  11.0  78.0   \n",
       "                      True         4212.0  81.789886  19.675321   0.0  67.0   \n",
       "Receptive Vocabulary  False        3361.0  93.367153  17.327680   0.0  82.0   \n",
       "                      True         3618.0  85.514925  18.524697   0.0  73.0   \n",
       "\n",
       "                                    50%    75%    max  \n",
       "domain                profound_hl                      \n",
       "Articulation          False        87.0  100.0  126.0  \n",
       "                      True         82.0   96.0  128.0  \n",
       "Expressive Language   False        90.0  104.0  150.0  \n",
       "                      True         77.0   92.0  146.0  \n",
       "Expressive Vocabulary False        96.0  108.0  147.0  \n",
       "                      True         88.0  101.0  150.0  \n",
       "Language              False        90.0  104.0  250.0  \n",
       "                      True         78.0   93.0  186.0  \n",
       "Receptive Language    False        92.0  105.0  150.0  \n",
       "                      True         81.0   96.0  150.0  \n",
       "Receptive Vocabulary  False        94.0  105.0  159.0  \n",
       "                      True         86.0   98.0  160.0  "
      ]
     },
     "execution_count": 43,
     "metadata": {},
     "output_type": "execute_result"
    }
   ],
   "source": [
    "(test_scores.assign(profound_hl=test_scores.degree_hl==6)\n",
    "         .groupby(['domain', 'profound_hl'])\n",
    "         .score.describe())"
   ]
  },
  {
   "cell_type": "markdown",
   "metadata": {},
   "source": [
    "Parent with(out) hearing loss"
   ]
  },
  {
   "cell_type": "code",
   "execution_count": 44,
   "metadata": {},
   "outputs": [
    {
     "data": {
      "text/html": [
       "<div>\n",
       "<style scoped>\n",
       "    .dataframe tbody tr th:only-of-type {\n",
       "        vertical-align: middle;\n",
       "    }\n",
       "\n",
       "    .dataframe tbody tr th {\n",
       "        vertical-align: top;\n",
       "    }\n",
       "\n",
       "    .dataframe thead th {\n",
       "        text-align: right;\n",
       "    }\n",
       "</style>\n",
       "<table border=\"1\" class=\"dataframe\">\n",
       "  <thead>\n",
       "    <tr style=\"text-align: right;\">\n",
       "      <th></th>\n",
       "      <th></th>\n",
       "      <th>count</th>\n",
       "      <th>mean</th>\n",
       "      <th>std</th>\n",
       "      <th>min</th>\n",
       "      <th>25%</th>\n",
       "      <th>50%</th>\n",
       "      <th>75%</th>\n",
       "      <th>max</th>\n",
       "    </tr>\n",
       "    <tr>\n",
       "      <th>domain</th>\n",
       "      <th>parent_with_hl</th>\n",
       "      <th></th>\n",
       "      <th></th>\n",
       "      <th></th>\n",
       "      <th></th>\n",
       "      <th></th>\n",
       "      <th></th>\n",
       "      <th></th>\n",
       "      <th></th>\n",
       "    </tr>\n",
       "  </thead>\n",
       "  <tbody>\n",
       "    <tr>\n",
       "      <th rowspan=\"2\" valign=\"top\">Articulation</th>\n",
       "      <th>False</th>\n",
       "      <td>4686.0</td>\n",
       "      <td>81.969484</td>\n",
       "      <td>19.806053</td>\n",
       "      <td>0.0</td>\n",
       "      <td>69.00</td>\n",
       "      <td>84.0</td>\n",
       "      <td>98.00</td>\n",
       "      <td>128.0</td>\n",
       "    </tr>\n",
       "    <tr>\n",
       "      <th>True</th>\n",
       "      <td>255.0</td>\n",
       "      <td>82.615686</td>\n",
       "      <td>19.392378</td>\n",
       "      <td>39.0</td>\n",
       "      <td>69.50</td>\n",
       "      <td>84.0</td>\n",
       "      <td>99.00</td>\n",
       "      <td>117.0</td>\n",
       "    </tr>\n",
       "    <tr>\n",
       "      <th rowspan=\"2\" valign=\"top\">Expressive Language</th>\n",
       "      <th>False</th>\n",
       "      <td>8178.0</td>\n",
       "      <td>84.030203</td>\n",
       "      <td>20.594602</td>\n",
       "      <td>0.0</td>\n",
       "      <td>69.00</td>\n",
       "      <td>85.0</td>\n",
       "      <td>99.00</td>\n",
       "      <td>150.0</td>\n",
       "    </tr>\n",
       "    <tr>\n",
       "      <th>True</th>\n",
       "      <td>407.0</td>\n",
       "      <td>86.474201</td>\n",
       "      <td>19.734536</td>\n",
       "      <td>45.0</td>\n",
       "      <td>73.00</td>\n",
       "      <td>87.0</td>\n",
       "      <td>101.00</td>\n",
       "      <td>144.0</td>\n",
       "    </tr>\n",
       "    <tr>\n",
       "      <th rowspan=\"2\" valign=\"top\">Expressive Vocabulary</th>\n",
       "      <th>False</th>\n",
       "      <td>6424.0</td>\n",
       "      <td>91.513543</td>\n",
       "      <td>19.637136</td>\n",
       "      <td>0.0</td>\n",
       "      <td>79.00</td>\n",
       "      <td>92.0</td>\n",
       "      <td>105.00</td>\n",
       "      <td>150.0</td>\n",
       "    </tr>\n",
       "    <tr>\n",
       "      <th>True</th>\n",
       "      <td>356.0</td>\n",
       "      <td>93.831461</td>\n",
       "      <td>19.410458</td>\n",
       "      <td>0.0</td>\n",
       "      <td>82.00</td>\n",
       "      <td>96.0</td>\n",
       "      <td>107.00</td>\n",
       "      <td>138.0</td>\n",
       "    </tr>\n",
       "    <tr>\n",
       "      <th rowspan=\"2\" valign=\"top\">Language</th>\n",
       "      <th>False</th>\n",
       "      <td>8319.0</td>\n",
       "      <td>84.124053</td>\n",
       "      <td>21.571963</td>\n",
       "      <td>0.0</td>\n",
       "      <td>68.00</td>\n",
       "      <td>84.0</td>\n",
       "      <td>100.00</td>\n",
       "      <td>250.0</td>\n",
       "    </tr>\n",
       "    <tr>\n",
       "      <th>True</th>\n",
       "      <td>414.0</td>\n",
       "      <td>87.074879</td>\n",
       "      <td>22.671391</td>\n",
       "      <td>40.0</td>\n",
       "      <td>71.00</td>\n",
       "      <td>87.0</td>\n",
       "      <td>100.00</td>\n",
       "      <td>195.0</td>\n",
       "    </tr>\n",
       "    <tr>\n",
       "      <th rowspan=\"2\" valign=\"top\">Receptive Language</th>\n",
       "      <th>False</th>\n",
       "      <td>8105.0</td>\n",
       "      <td>86.556817</td>\n",
       "      <td>20.190712</td>\n",
       "      <td>0.0</td>\n",
       "      <td>72.00</td>\n",
       "      <td>87.0</td>\n",
       "      <td>101.00</td>\n",
       "      <td>150.0</td>\n",
       "    </tr>\n",
       "    <tr>\n",
       "      <th>True</th>\n",
       "      <td>406.0</td>\n",
       "      <td>87.827586</td>\n",
       "      <td>19.216372</td>\n",
       "      <td>47.0</td>\n",
       "      <td>74.25</td>\n",
       "      <td>88.0</td>\n",
       "      <td>100.75</td>\n",
       "      <td>139.0</td>\n",
       "    </tr>\n",
       "    <tr>\n",
       "      <th rowspan=\"2\" valign=\"top\">Receptive Vocabulary</th>\n",
       "      <th>False</th>\n",
       "      <td>6623.0</td>\n",
       "      <td>89.157934</td>\n",
       "      <td>18.423427</td>\n",
       "      <td>0.0</td>\n",
       "      <td>77.00</td>\n",
       "      <td>89.0</td>\n",
       "      <td>102.00</td>\n",
       "      <td>160.0</td>\n",
       "    </tr>\n",
       "    <tr>\n",
       "      <th>True</th>\n",
       "      <td>356.0</td>\n",
       "      <td>91.873596</td>\n",
       "      <td>17.388948</td>\n",
       "      <td>40.0</td>\n",
       "      <td>80.00</td>\n",
       "      <td>94.0</td>\n",
       "      <td>103.25</td>\n",
       "      <td>143.0</td>\n",
       "    </tr>\n",
       "  </tbody>\n",
       "</table>\n",
       "</div>"
      ],
      "text/plain": [
       "                                       count       mean        std   min  \\\n",
       "domain                parent_with_hl                                       \n",
       "Articulation          False           4686.0  81.969484  19.806053   0.0   \n",
       "                      True             255.0  82.615686  19.392378  39.0   \n",
       "Expressive Language   False           8178.0  84.030203  20.594602   0.0   \n",
       "                      True             407.0  86.474201  19.734536  45.0   \n",
       "Expressive Vocabulary False           6424.0  91.513543  19.637136   0.0   \n",
       "                      True             356.0  93.831461  19.410458   0.0   \n",
       "Language              False           8319.0  84.124053  21.571963   0.0   \n",
       "                      True             414.0  87.074879  22.671391  40.0   \n",
       "Receptive Language    False           8105.0  86.556817  20.190712   0.0   \n",
       "                      True             406.0  87.827586  19.216372  47.0   \n",
       "Receptive Vocabulary  False           6623.0  89.157934  18.423427   0.0   \n",
       "                      True             356.0  91.873596  17.388948  40.0   \n",
       "\n",
       "                                        25%   50%     75%    max  \n",
       "domain                parent_with_hl                              \n",
       "Articulation          False           69.00  84.0   98.00  128.0  \n",
       "                      True            69.50  84.0   99.00  117.0  \n",
       "Expressive Language   False           69.00  85.0   99.00  150.0  \n",
       "                      True            73.00  87.0  101.00  144.0  \n",
       "Expressive Vocabulary False           79.00  92.0  105.00  150.0  \n",
       "                      True            82.00  96.0  107.00  138.0  \n",
       "Language              False           68.00  84.0  100.00  250.0  \n",
       "                      True            71.00  87.0  100.00  195.0  \n",
       "Receptive Language    False           72.00  87.0  101.00  150.0  \n",
       "                      True            74.25  88.0  100.75  139.0  \n",
       "Receptive Vocabulary  False           77.00  89.0  102.00  160.0  \n",
       "                      True            80.00  94.0  103.25  143.0  "
      ]
     },
     "execution_count": 44,
     "metadata": {},
     "output_type": "execute_result"
    }
   ],
   "source": [
    "test_scores.loc[test_scores.parent_hearing_loss=='Unknown', 'parent_hearing_loss'] = np.nan\n",
    "(test_scores.assign(parent_with_hl=test_scores.parent_hearing_loss.isin(['Both parents have hearing loss',\n",
    "                                                                       'Father has hearing loss',\n",
    "                                                                       'Mother has hearing loss']))\n",
    "         .groupby(['domain', 'parent_with_hl'])\n",
    "         .score.describe())"
   ]
  },
  {
   "cell_type": "markdown",
   "metadata": {},
   "source": [
    "Mother with(out) college education"
   ]
  },
  {
   "cell_type": "code",
   "execution_count": 45,
   "metadata": {},
   "outputs": [
    {
     "data": {
      "text/html": [
       "<div>\n",
       "<style scoped>\n",
       "    .dataframe tbody tr th:only-of-type {\n",
       "        vertical-align: middle;\n",
       "    }\n",
       "\n",
       "    .dataframe tbody tr th {\n",
       "        vertical-align: top;\n",
       "    }\n",
       "\n",
       "    .dataframe thead th {\n",
       "        text-align: right;\n",
       "    }\n",
       "</style>\n",
       "<table border=\"1\" class=\"dataframe\">\n",
       "  <thead>\n",
       "    <tr style=\"text-align: right;\">\n",
       "      <th></th>\n",
       "      <th></th>\n",
       "      <th>count</th>\n",
       "      <th>mean</th>\n",
       "      <th>std</th>\n",
       "      <th>min</th>\n",
       "      <th>25%</th>\n",
       "      <th>50%</th>\n",
       "      <th>75%</th>\n",
       "      <th>max</th>\n",
       "    </tr>\n",
       "    <tr>\n",
       "      <th>domain</th>\n",
       "      <th>mother_college</th>\n",
       "      <th></th>\n",
       "      <th></th>\n",
       "      <th></th>\n",
       "      <th></th>\n",
       "      <th></th>\n",
       "      <th></th>\n",
       "      <th></th>\n",
       "      <th></th>\n",
       "    </tr>\n",
       "  </thead>\n",
       "  <tbody>\n",
       "    <tr>\n",
       "      <th rowspan=\"2\" valign=\"top\">Articulation</th>\n",
       "      <th>0</th>\n",
       "      <td>2961.0</td>\n",
       "      <td>80.165147</td>\n",
       "      <td>20.031447</td>\n",
       "      <td>0.0</td>\n",
       "      <td>67.00</td>\n",
       "      <td>82.0</td>\n",
       "      <td>97.0</td>\n",
       "      <td>121.0</td>\n",
       "    </tr>\n",
       "    <tr>\n",
       "      <th>1</th>\n",
       "      <td>1980.0</td>\n",
       "      <td>84.751010</td>\n",
       "      <td>19.084295</td>\n",
       "      <td>0.0</td>\n",
       "      <td>73.00</td>\n",
       "      <td>87.0</td>\n",
       "      <td>100.0</td>\n",
       "      <td>128.0</td>\n",
       "    </tr>\n",
       "    <tr>\n",
       "      <th rowspan=\"2\" valign=\"top\">Expressive Language</th>\n",
       "      <th>0</th>\n",
       "      <td>4998.0</td>\n",
       "      <td>80.925170</td>\n",
       "      <td>19.358514</td>\n",
       "      <td>0.0</td>\n",
       "      <td>67.00</td>\n",
       "      <td>81.0</td>\n",
       "      <td>94.0</td>\n",
       "      <td>150.0</td>\n",
       "    </tr>\n",
       "    <tr>\n",
       "      <th>1</th>\n",
       "      <td>3587.0</td>\n",
       "      <td>88.633956</td>\n",
       "      <td>21.332326</td>\n",
       "      <td>0.0</td>\n",
       "      <td>73.00</td>\n",
       "      <td>90.0</td>\n",
       "      <td>104.0</td>\n",
       "      <td>150.0</td>\n",
       "    </tr>\n",
       "    <tr>\n",
       "      <th rowspan=\"2\" valign=\"top\">Expressive Vocabulary</th>\n",
       "      <th>0</th>\n",
       "      <td>4000.0</td>\n",
       "      <td>87.819500</td>\n",
       "      <td>18.939934</td>\n",
       "      <td>0.0</td>\n",
       "      <td>76.00</td>\n",
       "      <td>89.0</td>\n",
       "      <td>100.0</td>\n",
       "      <td>146.0</td>\n",
       "    </tr>\n",
       "    <tr>\n",
       "      <th>1</th>\n",
       "      <td>2780.0</td>\n",
       "      <td>97.125540</td>\n",
       "      <td>19.306240</td>\n",
       "      <td>0.0</td>\n",
       "      <td>84.00</td>\n",
       "      <td>98.0</td>\n",
       "      <td>110.0</td>\n",
       "      <td>150.0</td>\n",
       "    </tr>\n",
       "    <tr>\n",
       "      <th rowspan=\"2\" valign=\"top\">Language</th>\n",
       "      <th>0</th>\n",
       "      <td>5099.0</td>\n",
       "      <td>80.658168</td>\n",
       "      <td>20.484267</td>\n",
       "      <td>0.0</td>\n",
       "      <td>65.00</td>\n",
       "      <td>81.0</td>\n",
       "      <td>95.0</td>\n",
       "      <td>209.0</td>\n",
       "    </tr>\n",
       "    <tr>\n",
       "      <th>1</th>\n",
       "      <td>3634.0</td>\n",
       "      <td>89.323335</td>\n",
       "      <td>22.184740</td>\n",
       "      <td>0.0</td>\n",
       "      <td>73.25</td>\n",
       "      <td>90.0</td>\n",
       "      <td>105.0</td>\n",
       "      <td>250.0</td>\n",
       "    </tr>\n",
       "    <tr>\n",
       "      <th rowspan=\"2\" valign=\"top\">Receptive Language</th>\n",
       "      <th>0</th>\n",
       "      <td>4967.0</td>\n",
       "      <td>83.281659</td>\n",
       "      <td>19.144463</td>\n",
       "      <td>11.0</td>\n",
       "      <td>69.00</td>\n",
       "      <td>83.0</td>\n",
       "      <td>97.0</td>\n",
       "      <td>145.0</td>\n",
       "    </tr>\n",
       "    <tr>\n",
       "      <th>1</th>\n",
       "      <td>3544.0</td>\n",
       "      <td>91.292607</td>\n",
       "      <td>20.583306</td>\n",
       "      <td>0.0</td>\n",
       "      <td>77.00</td>\n",
       "      <td>92.0</td>\n",
       "      <td>106.0</td>\n",
       "      <td>150.0</td>\n",
       "    </tr>\n",
       "    <tr>\n",
       "      <th rowspan=\"2\" valign=\"top\">Receptive Vocabulary</th>\n",
       "      <th>0</th>\n",
       "      <td>4103.0</td>\n",
       "      <td>86.128443</td>\n",
       "      <td>17.781362</td>\n",
       "      <td>0.0</td>\n",
       "      <td>75.00</td>\n",
       "      <td>87.0</td>\n",
       "      <td>98.0</td>\n",
       "      <td>160.0</td>\n",
       "    </tr>\n",
       "    <tr>\n",
       "      <th>1</th>\n",
       "      <td>2876.0</td>\n",
       "      <td>93.816064</td>\n",
       "      <td>18.279070</td>\n",
       "      <td>0.0</td>\n",
       "      <td>82.00</td>\n",
       "      <td>95.0</td>\n",
       "      <td>107.0</td>\n",
       "      <td>159.0</td>\n",
       "    </tr>\n",
       "  </tbody>\n",
       "</table>\n",
       "</div>"
      ],
      "text/plain": [
       "                                       count       mean        std   min  \\\n",
       "domain                mother_college                                       \n",
       "Articulation          0               2961.0  80.165147  20.031447   0.0   \n",
       "                      1               1980.0  84.751010  19.084295   0.0   \n",
       "Expressive Language   0               4998.0  80.925170  19.358514   0.0   \n",
       "                      1               3587.0  88.633956  21.332326   0.0   \n",
       "Expressive Vocabulary 0               4000.0  87.819500  18.939934   0.0   \n",
       "                      1               2780.0  97.125540  19.306240   0.0   \n",
       "Language              0               5099.0  80.658168  20.484267   0.0   \n",
       "                      1               3634.0  89.323335  22.184740   0.0   \n",
       "Receptive Language    0               4967.0  83.281659  19.144463  11.0   \n",
       "                      1               3544.0  91.292607  20.583306   0.0   \n",
       "Receptive Vocabulary  0               4103.0  86.128443  17.781362   0.0   \n",
       "                      1               2876.0  93.816064  18.279070   0.0   \n",
       "\n",
       "                                        25%   50%    75%    max  \n",
       "domain                mother_college                             \n",
       "Articulation          0               67.00  82.0   97.0  121.0  \n",
       "                      1               73.00  87.0  100.0  128.0  \n",
       "Expressive Language   0               67.00  81.0   94.0  150.0  \n",
       "                      1               73.00  90.0  104.0  150.0  \n",
       "Expressive Vocabulary 0               76.00  89.0  100.0  146.0  \n",
       "                      1               84.00  98.0  110.0  150.0  \n",
       "Language              0               65.00  81.0   95.0  209.0  \n",
       "                      1               73.25  90.0  105.0  250.0  \n",
       "Receptive Language    0               69.00  83.0   97.0  145.0  \n",
       "                      1               77.00  92.0  106.0  150.0  \n",
       "Receptive Vocabulary  0               75.00  87.0   98.0  160.0  \n",
       "                      1               82.00  95.0  107.0  159.0  "
      ]
     },
     "execution_count": 45,
     "metadata": {},
     "output_type": "execute_result"
    }
   ],
   "source": [
    "test_scores.groupby(['domain', 'mother_college']).score.describe()"
   ]
  }
 ],
 "metadata": {
  "kernelspec": {
   "display_name": "Python 3",
   "language": "python",
   "name": "python3"
  },
  "language_info": {
   "codemirror_mode": {
    "name": "ipython",
    "version": 3
   },
   "file_extension": ".py",
   "mimetype": "text/x-python",
   "name": "python",
   "nbconvert_exporter": "python",
   "pygments_lexer": "ipython3",
   "version": "3.7.3"
  }
 },
 "nbformat": 4,
 "nbformat_minor": 2
}
