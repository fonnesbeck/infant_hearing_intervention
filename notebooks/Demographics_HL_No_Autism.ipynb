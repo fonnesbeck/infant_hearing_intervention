{
 "cells": [
  {
   "cell_type": "code",
   "execution_count": 1,
   "metadata": {},
   "outputs": [],
   "source": [
    "# Import modules and set options\n",
    "%matplotlib inline\n",
    "import matplotlib.pyplot as plt\n",
    "import pandas as pd\n",
    "import numpy as np\n",
    "import seaborn as sns\n",
    "# import pandas_profiling\n",
    "\n",
    "sns.set(context='notebook', style='ticks')"
   ]
  },
  {
   "cell_type": "code",
   "execution_count": 2,
   "metadata": {},
   "outputs": [],
   "source": [
    "lsl_dr = (pd.read_csv('../data/clean/lsl_dr_frozen_09272019.csv', index_col=0, low_memory=False)\n",
    "                  .rename({'onset_1':'identify_mo'}, axis=1))"
   ]
  },
  {
   "cell_type": "code",
   "execution_count": 3,
   "metadata": {},
   "outputs": [
    {
     "data": {
      "text/plain": [
       "(65064, 246)"
      ]
     },
     "execution_count": 3,
     "metadata": {},
     "output_type": "execute_result"
    }
   ],
   "source": [
    "lsl_dr.shape"
   ]
  },
  {
   "cell_type": "markdown",
   "metadata": {},
   "source": [
    "Exclusions"
   ]
  },
  {
   "cell_type": "code",
   "execution_count": 4,
   "metadata": {},
   "outputs": [],
   "source": [
    "other_etiology = (lsl_dr[['etiology_3___2', 'etiology_3___4', 'etiology_3___5', 'etiology_3___6', 'etiology_3___9',\n",
    "       'etiology_oth___1', 'etiology_oth___3', 'etiology_oth___4', 'etiology_oth___8', 'etiology_oth___9']]\n",
    "                      .sum(1).astype(bool))"
   ]
  },
  {
   "cell_type": "code",
   "execution_count": 5,
   "metadata": {},
   "outputs": [],
   "source": [
    "inclusion_mask = (~lsl_dr.non_english.astype(bool) \n",
    "                  & (lsl_dr.hl==0)\n",
    "                  & ((lsl_dr.autism==0)))"
   ]
  },
  {
   "cell_type": "code",
   "execution_count": 6,
   "metadata": {},
   "outputs": [
    {
     "data": {
      "text/plain": [
       "(4527, 246)"
      ]
     },
     "execution_count": 6,
     "metadata": {},
     "output_type": "execute_result"
    }
   ],
   "source": [
    "autism_subset = lsl_dr[inclusion_mask]\n",
    "autism_subset.drop_duplicates(subset='study_id').shape"
   ]
  },
  {
   "cell_type": "markdown",
   "metadata": {},
   "source": [
    "## Demographics"
   ]
  },
  {
   "cell_type": "code",
   "execution_count": 7,
   "metadata": {},
   "outputs": [
    {
     "data": {
      "text/plain": [
       "Male      25089\n",
       "Female    23836\n",
       "Name: male, dtype: int64"
      ]
     },
     "execution_count": 7,
     "metadata": {},
     "output_type": "execute_result"
    }
   ],
   "source": [
    "autism_subset.male.replace({1: 'Male', 0: 'Female', np.nan: 'Missing'}).value_counts()"
   ]
  },
  {
   "cell_type": "code",
   "execution_count": 8,
   "metadata": {},
   "outputs": [
    {
     "data": {
      "text/plain": [
       "White       29629\n",
       "Black        5819\n",
       "Hispanic     5264\n",
       "Other        4741\n",
       "Asian        2736\n",
       "Missing       736\n",
       "Name: race, dtype: int64"
      ]
     },
     "execution_count": 8,
     "metadata": {},
     "output_type": "execute_result"
    }
   ],
   "source": [
    "autism_subset.race.replace({0:'White', 1:'Black', 2:'Hispanic', 3:'Asian', 4:'Other', np.nan:'Missing'}).value_counts()"
   ]
  },
  {
   "cell_type": "code",
   "execution_count": 9,
   "metadata": {},
   "outputs": [
    {
     "data": {
      "text/plain": [
       ">=36 weeks    36412\n",
       "<36 weeks     12513\n",
       "Name: premature_age, dtype: int64"
      ]
     },
     "execution_count": 9,
     "metadata": {},
     "output_type": "execute_result"
    }
   ],
   "source": [
    "(autism_subset.premature_age.replace({9:None})==8).replace({True: '>=36 weeks', False: '<36 weeks', \n",
    "                                                            np.nan: 'Unknown'}).value_counts()"
   ]
  },
  {
   "cell_type": "code",
   "execution_count": 10,
   "metadata": {},
   "outputs": [
    {
     "data": {
      "text/plain": [
       "1          11841\n",
       "2          19200\n",
       "3           9712\n",
       "4+          5594\n",
       "Missing     2578\n",
       "Name: sib, dtype: int64"
      ]
     },
     "execution_count": 10,
     "metadata": {},
     "output_type": "execute_result"
    }
   ],
   "source": [
    "autism_subset.sib.replace({0:'1', 1:'2', 2:'3', 3:'4+', np.nan:'Missing'}).value_counts().sort_index()"
   ]
  },
  {
   "cell_type": "code",
   "execution_count": 11,
   "metadata": {},
   "outputs": [
    {
     "data": {
      "text/plain": [
       "Some high school           15042\n",
       "High school diploma/GED    13364\n",
       "Unknown                    12054\n",
       "Some college                7232\n",
       "8th grade or less           1233\n",
       "Name: mother_ed, dtype: int64"
      ]
     },
     "execution_count": 11,
     "metadata": {},
     "output_type": "execute_result"
    }
   ],
   "source": [
    "ed_lookup = {0:\"8th grade or less\",\n",
    "1:\"Some high school\",\n",
    "2:\"High school diploma/GED\",\n",
    "3:\"Some college\",\n",
    "4:\"Bachelor's degree\",\n",
    "5:\"Post graduate degree\",\n",
    "6:\"Unknown\",\n",
    "np.nan:\"Unknown\"}\n",
    "\n",
    "autism_subset.mother_ed.replace(ed_lookup).value_counts()"
   ]
  },
  {
   "cell_type": "code",
   "execution_count": 12,
   "metadata": {},
   "outputs": [
    {
     "data": {
      "text/plain": [
       "Unknown                    14724\n",
       "Bachelor's degree          11192\n",
       "High school diploma/GED     7518\n",
       "Some college                7290\n",
       "Post graduate degree        6853\n",
       "Some high school            1181\n",
       "8th grade or less            167\n",
       "Name: father_ed, dtype: int64"
      ]
     },
     "execution_count": 12,
     "metadata": {},
     "output_type": "execute_result"
    }
   ],
   "source": [
    "autism_subset.father_ed.replace(ed_lookup).value_counts()"
   ]
  },
  {
   "cell_type": "code",
   "execution_count": 13,
   "metadata": {},
   "outputs": [
    {
     "data": {
      "text/plain": [
       "Ideal Participation      15477\n",
       "Good Participation       12505\n",
       "Average Participation    10828\n",
       "Missing                   5806\n",
       "Below Average             3377\n",
       "Limited Participation      932\n",
       "Name: family_inv, dtype: int64"
      ]
     },
     "execution_count": 13,
     "metadata": {},
     "output_type": "execute_result"
    }
   ],
   "source": [
    "family_lookup = {0:\"Ideal Participation\",\n",
    "1:\"Good Participation\",\n",
    "2:\"Average Participation\",\n",
    "3:\"Below Average\",\n",
    "4:\"Limited Participation\",\n",
    "np.nan:\"Missing\"}\n",
    "\n",
    "autism_subset.family_inv.replace(family_lookup).value_counts()"
   ]
  },
  {
   "cell_type": "code",
   "execution_count": 14,
   "metadata": {},
   "outputs": [
    {
     "data": {
      "text/html": [
       "<div>\n",
       "<style scoped>\n",
       "    .dataframe tbody tr th:only-of-type {\n",
       "        vertical-align: middle;\n",
       "    }\n",
       "\n",
       "    .dataframe tbody tr th {\n",
       "        vertical-align: top;\n",
       "    }\n",
       "\n",
       "    .dataframe thead th {\n",
       "        text-align: right;\n",
       "    }\n",
       "</style>\n",
       "<table border=\"1\" class=\"dataframe\">\n",
       "  <thead>\n",
       "    <tr style=\"text-align: right;\">\n",
       "      <th></th>\n",
       "      <th>age_diag</th>\n",
       "      <th>age_amp</th>\n",
       "      <th>age_int</th>\n",
       "      <th>age</th>\n",
       "    </tr>\n",
       "  </thead>\n",
       "  <tbody>\n",
       "    <tr>\n",
       "      <td>count</td>\n",
       "      <td>43804.000000</td>\n",
       "      <td>42062.000000</td>\n",
       "      <td>40601.000000</td>\n",
       "      <td>48649.000000</td>\n",
       "    </tr>\n",
       "    <tr>\n",
       "      <td>mean</td>\n",
       "      <td>11.532114</td>\n",
       "      <td>16.586462</td>\n",
       "      <td>17.147829</td>\n",
       "      <td>29.260817</td>\n",
       "    </tr>\n",
       "    <tr>\n",
       "      <td>std</td>\n",
       "      <td>16.524365</td>\n",
       "      <td>17.338081</td>\n",
       "      <td>17.523954</td>\n",
       "      <td>24.888271</td>\n",
       "    </tr>\n",
       "    <tr>\n",
       "      <td>min</td>\n",
       "      <td>0.000000</td>\n",
       "      <td>0.000000</td>\n",
       "      <td>0.000000</td>\n",
       "      <td>0.000000</td>\n",
       "    </tr>\n",
       "    <tr>\n",
       "      <td>25%</td>\n",
       "      <td>1.000000</td>\n",
       "      <td>4.000000</td>\n",
       "      <td>4.000000</td>\n",
       "      <td>10.000000</td>\n",
       "    </tr>\n",
       "    <tr>\n",
       "      <td>50%</td>\n",
       "      <td>3.000000</td>\n",
       "      <td>10.000000</td>\n",
       "      <td>12.000000</td>\n",
       "      <td>25.000000</td>\n",
       "    </tr>\n",
       "    <tr>\n",
       "      <td>75%</td>\n",
       "      <td>18.000000</td>\n",
       "      <td>24.000000</td>\n",
       "      <td>24.000000</td>\n",
       "      <td>39.000000</td>\n",
       "    </tr>\n",
       "    <tr>\n",
       "      <td>max</td>\n",
       "      <td>160.000000</td>\n",
       "      <td>173.000000</td>\n",
       "      <td>200.000000</td>\n",
       "      <td>227.000000</td>\n",
       "    </tr>\n",
       "  </tbody>\n",
       "</table>\n",
       "</div>"
      ],
      "text/plain": [
       "           age_diag       age_amp       age_int           age\n",
       "count  43804.000000  42062.000000  40601.000000  48649.000000\n",
       "mean      11.532114     16.586462     17.147829     29.260817\n",
       "std       16.524365     17.338081     17.523954     24.888271\n",
       "min        0.000000      0.000000      0.000000      0.000000\n",
       "25%        1.000000      4.000000      4.000000     10.000000\n",
       "50%        3.000000     10.000000     12.000000     25.000000\n",
       "75%       18.000000     24.000000     24.000000     39.000000\n",
       "max      160.000000    173.000000    200.000000    227.000000"
      ]
     },
     "execution_count": 14,
     "metadata": {},
     "output_type": "execute_result"
    }
   ],
   "source": [
    "autism_subset[[\"age_diag\", \"age_amp\", \"age_int\", \"age\"]].describe()"
   ]
  },
  {
   "cell_type": "code",
   "execution_count": 15,
   "metadata": {},
   "outputs": [
    {
     "data": {
      "text/plain": [
       "OPTION only         25370\n",
       "OPTION + outside     8355\n",
       "Missing              5764\n",
       "Name: otherserv, dtype: int64"
      ]
     },
     "execution_count": 15,
     "metadata": {},
     "output_type": "execute_result"
    }
   ],
   "source": [
    "autism_subset.otherserv.replace({0: \"OPTION + outside\", 1: \"OPTION only\", 2: \"Missing\"}).value_counts()"
   ]
  },
  {
   "cell_type": "markdown",
   "metadata": {},
   "source": [
    "## Hearing loss"
   ]
  },
  {
   "cell_type": "code",
   "execution_count": 16,
   "metadata": {},
   "outputs": [
    {
     "data": {
      "text/plain": [
       "1093"
      ]
     },
     "execution_count": 16,
     "metadata": {},
     "output_type": "execute_result"
    }
   ],
   "source": [
    "autism_subset.degree_hl_ad.isnull().sum()"
   ]
  },
  {
   "cell_type": "code",
   "execution_count": 17,
   "metadata": {},
   "outputs": [
    {
     "data": {
      "text/plain": [
       "1173"
      ]
     },
     "execution_count": 17,
     "metadata": {},
     "output_type": "execute_result"
    }
   ],
   "source": [
    "autism_subset.degree_hl_as.isnull().sum()"
   ]
  },
  {
   "cell_type": "code",
   "execution_count": 18,
   "metadata": {},
   "outputs": [
    {
     "data": {
      "text/plain": [
       "6.0    21448\n",
       "3.0     6974\n",
       "4.0     6730\n",
       "5.0     6119\n",
       "2.0     3851\n",
       "0.0     1499\n",
       "1.0     1211\n",
       "Name: degree_hl_ad, dtype: int64"
      ]
     },
     "execution_count": 18,
     "metadata": {},
     "output_type": "execute_result"
    }
   ],
   "source": [
    "autism_subset.degree_hl_ad.value_counts()"
   ]
  },
  {
   "cell_type": "code",
   "execution_count": 19,
   "metadata": {},
   "outputs": [
    {
     "data": {
      "text/plain": [
       "6.0    21367\n",
       "3.0     7311\n",
       "4.0     6347\n",
       "5.0     5889\n",
       "2.0     3712\n",
       "0.0     1797\n",
       "1.0     1329\n",
       "Name: degree_hl_as, dtype: int64"
      ]
     },
     "execution_count": 19,
     "metadata": {},
     "output_type": "execute_result"
    }
   ],
   "source": [
    "autism_subset.degree_hl_as.value_counts()"
   ]
  },
  {
   "cell_type": "code",
   "execution_count": 20,
   "metadata": {},
   "outputs": [],
   "source": [
    "hl_data = autism_subset.set_index('study_id')[['bilateral_snhl',\n",
    "                     'bilateral_ansd',\n",
    "                     'bilateral_mixed',\n",
    "                     'bilateral_cond',\n",
    "                     'bilateral_normal',\n",
    "                     'bilateral_unk',\n",
    "                     'unilateral_snhl',\n",
    "                     'unilateral_ansd',\n",
    "                     'unilateral_mixed',\n",
    "                     'unilateral_cond',\n",
    "                     'unilateral_unk',\n",
    "                     'assymetrical']]"
   ]
  },
  {
   "cell_type": "markdown",
   "metadata": {},
   "source": [
    "One or both parents with hearing loss"
   ]
  },
  {
   "cell_type": "code",
   "execution_count": 21,
   "metadata": {},
   "outputs": [
    {
     "data": {
      "text/plain": [
       "0.0    38305\n",
       "1.0     2526\n",
       "Name: one_or_both_parent_hl, dtype: int64"
      ]
     },
     "execution_count": 21,
     "metadata": {},
     "output_type": "execute_result"
    }
   ],
   "source": [
    "autism_subset.one_or_both_parent_hl.value_counts()"
   ]
  },
  {
   "cell_type": "code",
   "execution_count": 22,
   "metadata": {},
   "outputs": [
    {
     "data": {
      "text/plain": [
       "8094"
      ]
     },
     "execution_count": 22,
     "metadata": {},
     "output_type": "execute_result"
    }
   ],
   "source": [
    "autism_subset.one_or_both_parent_hl.isnull().sum()"
   ]
  },
  {
   "cell_type": "markdown",
   "metadata": {},
   "source": [
    "Individuals with no hearing loss type"
   ]
  },
  {
   "cell_type": "code",
   "execution_count": 23,
   "metadata": {},
   "outputs": [
    {
     "data": {
      "text/plain": [
       "array(['0625-2018-0055', '0625-2018-0055', '0625-2018-0055', ...,\n",
       "       '0102-2010-3021', '0102-2010-3021', '0102-2010-3021'], dtype=object)"
      ]
     },
     "execution_count": 23,
     "metadata": {},
     "output_type": "execute_result"
    }
   ],
   "source": [
    "hl_data[hl_data.sum(1)==0].index.values"
   ]
  },
  {
   "cell_type": "code",
   "execution_count": 24,
   "metadata": {},
   "outputs": [
    {
     "data": {
      "text/plain": [
       "bilateral_snhl      37814\n",
       "unilateral_snhl      2009\n",
       "bilateral_cond       1838\n",
       "bilateral_ansd       1612\n",
       "assymetrical         1337\n",
       "bilateral_mixed      1173\n",
       "unilateral_cond      1086\n",
       "unilateral_mixed      172\n",
       "unilateral_ansd       159\n",
       "bilateral_normal       52\n",
       "unilateral_unk          0\n",
       "bilateral_unk           0\n",
       "dtype: int64"
      ]
     },
     "execution_count": 24,
     "metadata": {},
     "output_type": "execute_result"
    }
   ],
   "source": [
    "hl_data.sum().astype(int).sort_values(ascending=False)"
   ]
  },
  {
   "cell_type": "code",
   "execution_count": 25,
   "metadata": {},
   "outputs": [
    {
     "data": {
      "text/plain": [
       "bilateral_snhl      0.77\n",
       "unilateral_snhl     0.04\n",
       "bilateral_cond      0.04\n",
       "assymetrical        0.03\n",
       "bilateral_ansd      0.03\n",
       "unilateral_cond     0.02\n",
       "bilateral_mixed     0.02\n",
       "unilateral_unk      0.00\n",
       "unilateral_mixed    0.00\n",
       "unilateral_ansd     0.00\n",
       "bilateral_unk       0.00\n",
       "bilateral_normal    0.00\n",
       "dtype: float64"
      ]
     },
     "execution_count": 25,
     "metadata": {},
     "output_type": "execute_result"
    }
   ],
   "source": [
    "hl_data.mean().round(2).sort_values(ascending=False)"
   ]
  },
  {
   "cell_type": "code",
   "execution_count": 26,
   "metadata": {},
   "outputs": [],
   "source": [
    "tech_data = autism_subset.set_index('study_id')[['bilateral_ha',\n",
    "                     'bilateral_ci',\n",
    "                     'bimodal',\n",
    "                     'bilateral_other',\n",
    "                     'unilateral_ha',\n",
    "                     'unilateral_ci',\n",
    "                     'unilateral_other']]"
   ]
  },
  {
   "cell_type": "code",
   "execution_count": 27,
   "metadata": {},
   "outputs": [
    {
     "data": {
      "text/plain": [
       "bilateral_ci        32238\n",
       "bilateral_ha         9872\n",
       "bimodal              2999\n",
       "unilateral_ha        1387\n",
       "unilateral_ci        1018\n",
       "bilateral_other       166\n",
       "unilateral_other       69\n",
       "dtype: int64"
      ]
     },
     "execution_count": 27,
     "metadata": {},
     "output_type": "execute_result"
    }
   ],
   "source": [
    "tech_data.sum().astype(int).sort_values(ascending=False)"
   ]
  },
  {
   "cell_type": "code",
   "execution_count": 28,
   "metadata": {},
   "outputs": [
    {
     "data": {
      "text/plain": [
       "bilateral_ci        0.66\n",
       "bilateral_ha        0.20\n",
       "bimodal             0.06\n",
       "unilateral_ha       0.03\n",
       "unilateral_ci       0.02\n",
       "unilateral_other    0.00\n",
       "bilateral_other     0.00\n",
       "dtype: float64"
      ]
     },
     "execution_count": 28,
     "metadata": {},
     "output_type": "execute_result"
    }
   ],
   "source": [
    "tech_data.mean().round(2).sort_values(ascending=False)"
   ]
  },
  {
   "cell_type": "markdown",
   "metadata": {},
   "source": [
    "## Hearing Loss"
   ]
  },
  {
   "cell_type": "code",
   "execution_count": 29,
   "metadata": {},
   "outputs": [
    {
     "data": {
      "text/plain": [
       "Index(['degree_hl_ad', 'type_hl_ad', 'degree_hl_as', 'type_hl_as',\n",
       "       'bilateral_hl_normal', 'bilateral_hl_slight', 'bilateral_hl_mild',\n",
       "       'bilateral_hl_moderate', 'bilateral_hl_modsev', 'bilateral_hl_severe',\n",
       "       'bilateral_hl_profound', 'unilateral_hl_slight', 'unilateral_hl_mild',\n",
       "       'unilateral_hl_moderate', 'unilateral_hl_modsev',\n",
       "       'unilateral_hl_severe', 'unilateral_hl_profound'],\n",
       "      dtype='object')"
      ]
     },
     "execution_count": 29,
     "metadata": {},
     "output_type": "execute_result"
    }
   ],
   "source": [
    "autism_subset.columns[autism_subset.columns.str.contains('_hl_')]"
   ]
  },
  {
   "cell_type": "code",
   "execution_count": 30,
   "metadata": {},
   "outputs": [],
   "source": [
    "hl_data = autism_subset.set_index('study_id')[['bilateral_hl_normal', 'bilateral_hl_slight', 'bilateral_hl_mild',\n",
    "       'bilateral_hl_moderate', 'bilateral_hl_modsev', 'bilateral_hl_severe',\n",
    "       'bilateral_hl_profound', 'unilateral_hl_slight', 'unilateral_hl_mild',\n",
    "       'unilateral_hl_moderate', 'unilateral_hl_modsev',\n",
    "       'unilateral_hl_severe', 'unilateral_hl_profound']]"
   ]
  },
  {
   "cell_type": "code",
   "execution_count": 31,
   "metadata": {},
   "outputs": [
    {
     "data": {
      "text/plain": [
       "bilateral_hl_profound     18244\n",
       "bilateral_hl_moderate      4710\n",
       "bilateral_hl_modsev        3501\n",
       "bilateral_hl_severe        2947\n",
       "bilateral_hl_mild          2243\n",
       "unilateral_hl_modsev        778\n",
       "unilateral_hl_profound      771\n",
       "unilateral_hl_severe        590\n",
       "unilateral_hl_moderate      521\n",
       "bilateral_hl_slight         468\n",
       "unilateral_hl_mild          353\n",
       "unilateral_hl_slight        161\n",
       "bilateral_hl_normal          49\n",
       "dtype: int64"
      ]
     },
     "execution_count": 31,
     "metadata": {},
     "output_type": "execute_result"
    }
   ],
   "source": [
    "hl_data.sum().astype(int).sort_values(ascending=False)"
   ]
  },
  {
   "cell_type": "code",
   "execution_count": 32,
   "metadata": {},
   "outputs": [
    {
     "data": {
      "text/plain": [
       "bilateral_hl_profound     0.37\n",
       "bilateral_hl_moderate     0.10\n",
       "bilateral_hl_modsev       0.07\n",
       "bilateral_hl_severe       0.06\n",
       "bilateral_hl_mild         0.05\n",
       "unilateral_hl_profound    0.02\n",
       "unilateral_hl_modsev      0.02\n",
       "unilateral_hl_severe      0.01\n",
       "unilateral_hl_moderate    0.01\n",
       "unilateral_hl_mild        0.01\n",
       "bilateral_hl_slight       0.01\n",
       "unilateral_hl_slight      0.00\n",
       "bilateral_hl_normal       0.00\n",
       "dtype: float64"
      ]
     },
     "execution_count": 32,
     "metadata": {},
     "output_type": "execute_result"
    }
   ],
   "source": [
    "hl_data.mean().round(2).sort_values(ascending=False)"
   ]
  },
  {
   "cell_type": "markdown",
   "metadata": {},
   "source": [
    "Missing one or both hearing loss values (left/right)"
   ]
  },
  {
   "cell_type": "code",
   "execution_count": 33,
   "metadata": {},
   "outputs": [
    {
     "data": {
      "text/plain": [
       "1207"
      ]
     },
     "execution_count": 33,
     "metadata": {},
     "output_type": "execute_result"
    }
   ],
   "source": [
    "(autism_subset[['degree_hl_ad', 'degree_hl_as']].isnull().sum(1) > 0).sum()"
   ]
  },
  {
   "cell_type": "markdown",
   "metadata": {},
   "source": [
    "## Summary of scores by domain"
   ]
  },
  {
   "cell_type": "code",
   "execution_count": 34,
   "metadata": {},
   "outputs": [],
   "source": [
    "test_scores = lsl_dr[inclusion_mask].copy()"
   ]
  },
  {
   "cell_type": "code",
   "execution_count": 35,
   "metadata": {},
   "outputs": [],
   "source": [
    "test_scores.loc[(test_scores.domain=='Language') & (test_scores.test_type=='receptive'), \n",
    "           'domain'] = 'Receptive Language'\n",
    "test_scores.loc[(test_scores.domain=='Language') & (test_scores.test_type=='expressive'), \n",
    "           'domain'] = 'Expressive Language'"
   ]
  },
  {
   "cell_type": "code",
   "execution_count": 36,
   "metadata": {},
   "outputs": [
    {
     "data": {
      "text/html": [
       "<div>\n",
       "<style scoped>\n",
       "    .dataframe tbody tr th:only-of-type {\n",
       "        vertical-align: middle;\n",
       "    }\n",
       "\n",
       "    .dataframe tbody tr th {\n",
       "        vertical-align: top;\n",
       "    }\n",
       "\n",
       "    .dataframe thead th {\n",
       "        text-align: right;\n",
       "    }\n",
       "</style>\n",
       "<table border=\"1\" class=\"dataframe\">\n",
       "  <thead>\n",
       "    <tr style=\"text-align: right;\">\n",
       "      <th></th>\n",
       "      <th>count</th>\n",
       "      <th>mean</th>\n",
       "      <th>std</th>\n",
       "      <th>min</th>\n",
       "      <th>25%</th>\n",
       "      <th>50%</th>\n",
       "      <th>75%</th>\n",
       "      <th>max</th>\n",
       "    </tr>\n",
       "    <tr>\n",
       "      <th>domain</th>\n",
       "      <th></th>\n",
       "      <th></th>\n",
       "      <th></th>\n",
       "      <th></th>\n",
       "      <th></th>\n",
       "      <th></th>\n",
       "      <th></th>\n",
       "      <th></th>\n",
       "    </tr>\n",
       "  </thead>\n",
       "  <tbody>\n",
       "    <tr>\n",
       "      <td>Articulation</td>\n",
       "      <td>5082.0</td>\n",
       "      <td>82.1</td>\n",
       "      <td>19.8</td>\n",
       "      <td>0.0</td>\n",
       "      <td>69.0</td>\n",
       "      <td>85.0</td>\n",
       "      <td>98.0</td>\n",
       "      <td>128.0</td>\n",
       "    </tr>\n",
       "    <tr>\n",
       "      <td>Expressive Language</td>\n",
       "      <td>9596.0</td>\n",
       "      <td>84.4</td>\n",
       "      <td>20.5</td>\n",
       "      <td>0.0</td>\n",
       "      <td>69.0</td>\n",
       "      <td>85.0</td>\n",
       "      <td>99.0</td>\n",
       "      <td>150.0</td>\n",
       "    </tr>\n",
       "    <tr>\n",
       "      <td>Expressive Vocabulary</td>\n",
       "      <td>7336.0</td>\n",
       "      <td>91.8</td>\n",
       "      <td>19.6</td>\n",
       "      <td>0.0</td>\n",
       "      <td>79.0</td>\n",
       "      <td>93.0</td>\n",
       "      <td>105.0</td>\n",
       "      <td>150.0</td>\n",
       "    </tr>\n",
       "    <tr>\n",
       "      <td>Language</td>\n",
       "      <td>9788.0</td>\n",
       "      <td>84.6</td>\n",
       "      <td>21.5</td>\n",
       "      <td>0.0</td>\n",
       "      <td>69.0</td>\n",
       "      <td>84.0</td>\n",
       "      <td>100.0</td>\n",
       "      <td>250.0</td>\n",
       "    </tr>\n",
       "    <tr>\n",
       "      <td>Receptive Language</td>\n",
       "      <td>9510.0</td>\n",
       "      <td>86.8</td>\n",
       "      <td>20.1</td>\n",
       "      <td>0.0</td>\n",
       "      <td>73.0</td>\n",
       "      <td>87.0</td>\n",
       "      <td>101.0</td>\n",
       "      <td>150.0</td>\n",
       "    </tr>\n",
       "    <tr>\n",
       "      <td>Receptive Vocabulary</td>\n",
       "      <td>7613.0</td>\n",
       "      <td>89.6</td>\n",
       "      <td>18.4</td>\n",
       "      <td>0.0</td>\n",
       "      <td>78.0</td>\n",
       "      <td>90.0</td>\n",
       "      <td>103.0</td>\n",
       "      <td>160.0</td>\n",
       "    </tr>\n",
       "  </tbody>\n",
       "</table>\n",
       "</div>"
      ],
      "text/plain": [
       "                        count  mean   std  min   25%   50%    75%    max\n",
       "domain                                                                  \n",
       "Articulation           5082.0  82.1  19.8  0.0  69.0  85.0   98.0  128.0\n",
       "Expressive Language    9596.0  84.4  20.5  0.0  69.0  85.0   99.0  150.0\n",
       "Expressive Vocabulary  7336.0  91.8  19.6  0.0  79.0  93.0  105.0  150.0\n",
       "Language               9788.0  84.6  21.5  0.0  69.0  84.0  100.0  250.0\n",
       "Receptive Language     9510.0  86.8  20.1  0.0  73.0  87.0  101.0  150.0\n",
       "Receptive Vocabulary   7613.0  89.6  18.4  0.0  78.0  90.0  103.0  160.0"
      ]
     },
     "execution_count": 36,
     "metadata": {},
     "output_type": "execute_result"
    }
   ],
   "source": [
    "test_scores.groupby('domain').score.describe().round(1)"
   ]
  },
  {
   "cell_type": "code",
   "execution_count": 37,
   "metadata": {},
   "outputs": [
    {
     "data": {
      "text/plain": [
       "array(['Expressive Vocabulary', 'Receptive Language',\n",
       "       'Expressive Language', 'Language', 'Receptive Vocabulary',\n",
       "       'Articulation'], dtype=object)"
      ]
     },
     "execution_count": 37,
     "metadata": {},
     "output_type": "execute_result"
    }
   ],
   "source": [
    "test_scores.domain.unique()"
   ]
  },
  {
   "cell_type": "code",
   "execution_count": 38,
   "metadata": {},
   "outputs": [],
   "source": [
    "test_scores['domain_labels'] = test_scores.domain.replace({'Expressive Vocabulary': 'Expressive\\nVocabulary', \n",
    "                                                           'Receptive Vocabulary': 'Receptive\\nVocabulary',\n",
    "                                                           'Receptive Language': 'Receptive\\nLanguage', \n",
    "                                                           'Expressive Language': 'Expressive\\nLanguage', \n",
    "                                                           'Language': 'Total\\nLanguage'})"
   ]
  },
  {
   "cell_type": "code",
   "execution_count": 39,
   "metadata": {},
   "outputs": [
    {
     "data": {
      "image/png": "[encoded data removed]",
      "text/plain": [
       "<Figure size 864x360 with 1 Axes>"
      ]
     },
     "metadata": {
      "needs_background": "light"
     },
     "output_type": "display_data"
    }
   ],
   "source": [
    "sns.catplot(\"domain_labels\", y=\"score\", data=test_scores, kind=\"box\", color='white', fliersize=0)\n",
    "# sns.swarmplot(\"domain_labels\", y=\"score\", data=test_scores, color='grey', alpha=0.5)\n",
    "fig = plt.gcf()\n",
    "fig.set_size_inches(12, 5)\n",
    "fig.axes[0].set_xlabel('');"
   ]
  },
  {
   "cell_type": "markdown",
   "metadata": {},
   "source": [
    "## Domain-specific summaries\n",
    "\n",
    "Age of amplification greater than 6mo."
   ]
  },
  {
   "cell_type": "code",
   "execution_count": 40,
   "metadata": {},
   "outputs": [
    {
     "data": {
      "text/html": [
       "<div>\n",
       "<style scoped>\n",
       "    .dataframe tbody tr th:only-of-type {\n",
       "        vertical-align: middle;\n",
       "    }\n",
       "\n",
       "    .dataframe tbody tr th {\n",
       "        vertical-align: top;\n",
       "    }\n",
       "\n",
       "    .dataframe thead th {\n",
       "        text-align: right;\n",
       "    }\n",
       "</style>\n",
       "<table border=\"1\" class=\"dataframe\">\n",
       "  <thead>\n",
       "    <tr style=\"text-align: right;\">\n",
       "      <th></th>\n",
       "      <th></th>\n",
       "      <th>count</th>\n",
       "      <th>mean</th>\n",
       "      <th>std</th>\n",
       "      <th>min</th>\n",
       "      <th>25%</th>\n",
       "      <th>50%</th>\n",
       "      <th>75%</th>\n",
       "      <th>max</th>\n",
       "    </tr>\n",
       "    <tr>\n",
       "      <th>domain</th>\n",
       "      <th>age_amp_greater_6</th>\n",
       "      <th></th>\n",
       "      <th></th>\n",
       "      <th></th>\n",
       "      <th></th>\n",
       "      <th></th>\n",
       "      <th></th>\n",
       "      <th></th>\n",
       "      <th></th>\n",
       "    </tr>\n",
       "  </thead>\n",
       "  <tbody>\n",
       "    <tr>\n",
       "      <td rowspan=\"2\" valign=\"top\">Articulation</td>\n",
       "      <td>False</td>\n",
       "      <td>2356.0</td>\n",
       "      <td>84.389643</td>\n",
       "      <td>19.000663</td>\n",
       "      <td>39.0</td>\n",
       "      <td>72.00</td>\n",
       "      <td>87.0</td>\n",
       "      <td>99.0</td>\n",
       "      <td>128.0</td>\n",
       "    </tr>\n",
       "    <tr>\n",
       "      <td>True</td>\n",
       "      <td>2726.0</td>\n",
       "      <td>80.111519</td>\n",
       "      <td>20.204370</td>\n",
       "      <td>0.0</td>\n",
       "      <td>66.25</td>\n",
       "      <td>82.0</td>\n",
       "      <td>97.0</td>\n",
       "      <td>122.0</td>\n",
       "    </tr>\n",
       "    <tr>\n",
       "      <td rowspan=\"2\" valign=\"top\">Expressive Language</td>\n",
       "      <td>False</td>\n",
       "      <td>4831.0</td>\n",
       "      <td>88.554337</td>\n",
       "      <td>20.402470</td>\n",
       "      <td>0.0</td>\n",
       "      <td>74.00</td>\n",
       "      <td>89.0</td>\n",
       "      <td>103.0</td>\n",
       "      <td>150.0</td>\n",
       "    </tr>\n",
       "    <tr>\n",
       "      <td>True</td>\n",
       "      <td>4765.0</td>\n",
       "      <td>80.250157</td>\n",
       "      <td>19.693047</td>\n",
       "      <td>9.0</td>\n",
       "      <td>66.00</td>\n",
       "      <td>80.0</td>\n",
       "      <td>94.0</td>\n",
       "      <td>150.0</td>\n",
       "    </tr>\n",
       "    <tr>\n",
       "      <td rowspan=\"2\" valign=\"top\">Expressive Vocabulary</td>\n",
       "      <td>False</td>\n",
       "      <td>3426.0</td>\n",
       "      <td>94.194104</td>\n",
       "      <td>19.876700</td>\n",
       "      <td>0.0</td>\n",
       "      <td>81.00</td>\n",
       "      <td>96.0</td>\n",
       "      <td>108.0</td>\n",
       "      <td>146.0</td>\n",
       "    </tr>\n",
       "    <tr>\n",
       "      <td>True</td>\n",
       "      <td>3910.0</td>\n",
       "      <td>89.688491</td>\n",
       "      <td>19.171618</td>\n",
       "      <td>0.0</td>\n",
       "      <td>78.00</td>\n",
       "      <td>90.0</td>\n",
       "      <td>102.0</td>\n",
       "      <td>150.0</td>\n",
       "    </tr>\n",
       "    <tr>\n",
       "      <td rowspan=\"2\" valign=\"top\">Language</td>\n",
       "      <td>False</td>\n",
       "      <td>4892.0</td>\n",
       "      <td>88.665576</td>\n",
       "      <td>21.538547</td>\n",
       "      <td>0.0</td>\n",
       "      <td>74.00</td>\n",
       "      <td>89.0</td>\n",
       "      <td>104.0</td>\n",
       "      <td>250.0</td>\n",
       "    </tr>\n",
       "    <tr>\n",
       "      <td>True</td>\n",
       "      <td>4896.0</td>\n",
       "      <td>80.512051</td>\n",
       "      <td>20.661162</td>\n",
       "      <td>40.0</td>\n",
       "      <td>65.00</td>\n",
       "      <td>80.0</td>\n",
       "      <td>95.0</td>\n",
       "      <td>186.0</td>\n",
       "    </tr>\n",
       "    <tr>\n",
       "      <td rowspan=\"2\" valign=\"top\">Receptive Language</td>\n",
       "      <td>False</td>\n",
       "      <td>4806.0</td>\n",
       "      <td>90.375156</td>\n",
       "      <td>19.984055</td>\n",
       "      <td>0.0</td>\n",
       "      <td>76.00</td>\n",
       "      <td>91.0</td>\n",
       "      <td>105.0</td>\n",
       "      <td>150.0</td>\n",
       "    </tr>\n",
       "    <tr>\n",
       "      <td>True</td>\n",
       "      <td>4704.0</td>\n",
       "      <td>83.204932</td>\n",
       "      <td>19.570415</td>\n",
       "      <td>11.0</td>\n",
       "      <td>69.00</td>\n",
       "      <td>83.0</td>\n",
       "      <td>98.0</td>\n",
       "      <td>150.0</td>\n",
       "    </tr>\n",
       "    <tr>\n",
       "      <td rowspan=\"2\" valign=\"top\">Receptive Vocabulary</td>\n",
       "      <td>False</td>\n",
       "      <td>3559.0</td>\n",
       "      <td>92.185164</td>\n",
       "      <td>18.338466</td>\n",
       "      <td>10.0</td>\n",
       "      <td>80.00</td>\n",
       "      <td>94.0</td>\n",
       "      <td>105.0</td>\n",
       "      <td>160.0</td>\n",
       "    </tr>\n",
       "    <tr>\n",
       "      <td>True</td>\n",
       "      <td>4054.0</td>\n",
       "      <td>87.277750</td>\n",
       "      <td>18.181428</td>\n",
       "      <td>0.0</td>\n",
       "      <td>75.00</td>\n",
       "      <td>88.0</td>\n",
       "      <td>100.0</td>\n",
       "      <td>159.0</td>\n",
       "    </tr>\n",
       "  </tbody>\n",
       "</table>\n",
       "</div>"
      ],
      "text/plain": [
       "                                          count       mean        std   min  \\\n",
       "domain                age_amp_greater_6                                       \n",
       "Articulation          False              2356.0  84.389643  19.000663  39.0   \n",
       "                      True               2726.0  80.111519  20.204370   0.0   \n",
       "Expressive Language   False              4831.0  88.554337  20.402470   0.0   \n",
       "                      True               4765.0  80.250157  19.693047   9.0   \n",
       "Expressive Vocabulary False              3426.0  94.194104  19.876700   0.0   \n",
       "                      True               3910.0  89.688491  19.171618   0.0   \n",
       "Language              False              4892.0  88.665576  21.538547   0.0   \n",
       "                      True               4896.0  80.512051  20.661162  40.0   \n",
       "Receptive Language    False              4806.0  90.375156  19.984055   0.0   \n",
       "                      True               4704.0  83.204932  19.570415  11.0   \n",
       "Receptive Vocabulary  False              3559.0  92.185164  18.338466  10.0   \n",
       "                      True               4054.0  87.277750  18.181428   0.0   \n",
       "\n",
       "                                           25%   50%    75%    max  \n",
       "domain                age_amp_greater_6                             \n",
       "Articulation          False              72.00  87.0   99.0  128.0  \n",
       "                      True               66.25  82.0   97.0  122.0  \n",
       "Expressive Language   False              74.00  89.0  103.0  150.0  \n",
       "                      True               66.00  80.0   94.0  150.0  \n",
       "Expressive Vocabulary False              81.00  96.0  108.0  146.0  \n",
       "                      True               78.00  90.0  102.0  150.0  \n",
       "Language              False              74.00  89.0  104.0  250.0  \n",
       "                      True               65.00  80.0   95.0  186.0  \n",
       "Receptive Language    False              76.00  91.0  105.0  150.0  \n",
       "                      True               69.00  83.0   98.0  150.0  \n",
       "Receptive Vocabulary  False              80.00  94.0  105.0  160.0  \n",
       "                      True               75.00  88.0  100.0  159.0  "
      ]
     },
     "execution_count": 40,
     "metadata": {},
     "output_type": "execute_result"
    }
   ],
   "source": [
    "(test_scores.assign(age_amp_greater_6=test_scores.age_amp>6)\n",
    "         .groupby(['domain', 'age_amp_greater_6'])\n",
    "         .score.describe())"
   ]
  },
  {
   "cell_type": "markdown",
   "metadata": {},
   "source": [
    "Age of enrollment greater than 6mo."
   ]
  },
  {
   "cell_type": "code",
   "execution_count": 41,
   "metadata": {},
   "outputs": [
    {
     "data": {
      "text/html": [
       "<div>\n",
       "<style scoped>\n",
       "    .dataframe tbody tr th:only-of-type {\n",
       "        vertical-align: middle;\n",
       "    }\n",
       "\n",
       "    .dataframe tbody tr th {\n",
       "        vertical-align: top;\n",
       "    }\n",
       "\n",
       "    .dataframe thead th {\n",
       "        text-align: right;\n",
       "    }\n",
       "</style>\n",
       "<table border=\"1\" class=\"dataframe\">\n",
       "  <thead>\n",
       "    <tr style=\"text-align: right;\">\n",
       "      <th></th>\n",
       "      <th></th>\n",
       "      <th>count</th>\n",
       "      <th>mean</th>\n",
       "      <th>std</th>\n",
       "      <th>min</th>\n",
       "      <th>25%</th>\n",
       "      <th>50%</th>\n",
       "      <th>75%</th>\n",
       "      <th>max</th>\n",
       "    </tr>\n",
       "    <tr>\n",
       "      <th>domain</th>\n",
       "      <th>age_enroll_greater_6</th>\n",
       "      <th></th>\n",
       "      <th></th>\n",
       "      <th></th>\n",
       "      <th></th>\n",
       "      <th></th>\n",
       "      <th></th>\n",
       "      <th></th>\n",
       "      <th></th>\n",
       "    </tr>\n",
       "  </thead>\n",
       "  <tbody>\n",
       "    <tr>\n",
       "      <td rowspan=\"2\" valign=\"top\">Articulation</td>\n",
       "      <td>False</td>\n",
       "      <td>2423.0</td>\n",
       "      <td>83.796946</td>\n",
       "      <td>19.263162</td>\n",
       "      <td>0.0</td>\n",
       "      <td>71.0</td>\n",
       "      <td>86.0</td>\n",
       "      <td>99.0</td>\n",
       "      <td>128.0</td>\n",
       "    </tr>\n",
       "    <tr>\n",
       "      <td>True</td>\n",
       "      <td>2659.0</td>\n",
       "      <td>80.543813</td>\n",
       "      <td>20.097464</td>\n",
       "      <td>3.0</td>\n",
       "      <td>67.0</td>\n",
       "      <td>83.0</td>\n",
       "      <td>97.0</td>\n",
       "      <td>122.0</td>\n",
       "    </tr>\n",
       "    <tr>\n",
       "      <td rowspan=\"2\" valign=\"top\">Expressive Language</td>\n",
       "      <td>False</td>\n",
       "      <td>4711.0</td>\n",
       "      <td>87.690087</td>\n",
       "      <td>20.499731</td>\n",
       "      <td>26.0</td>\n",
       "      <td>73.0</td>\n",
       "      <td>88.0</td>\n",
       "      <td>102.0</td>\n",
       "      <td>150.0</td>\n",
       "    </tr>\n",
       "    <tr>\n",
       "      <td>True</td>\n",
       "      <td>4885.0</td>\n",
       "      <td>81.287615</td>\n",
       "      <td>19.960490</td>\n",
       "      <td>0.0</td>\n",
       "      <td>67.0</td>\n",
       "      <td>81.0</td>\n",
       "      <td>95.0</td>\n",
       "      <td>150.0</td>\n",
       "    </tr>\n",
       "    <tr>\n",
       "      <td rowspan=\"2\" valign=\"top\">Expressive Vocabulary</td>\n",
       "      <td>False</td>\n",
       "      <td>3472.0</td>\n",
       "      <td>93.384217</td>\n",
       "      <td>20.130684</td>\n",
       "      <td>0.0</td>\n",
       "      <td>80.0</td>\n",
       "      <td>94.0</td>\n",
       "      <td>107.0</td>\n",
       "      <td>146.0</td>\n",
       "    </tr>\n",
       "    <tr>\n",
       "      <td>True</td>\n",
       "      <td>3864.0</td>\n",
       "      <td>90.362578</td>\n",
       "      <td>19.062176</td>\n",
       "      <td>0.0</td>\n",
       "      <td>78.0</td>\n",
       "      <td>91.0</td>\n",
       "      <td>103.0</td>\n",
       "      <td>150.0</td>\n",
       "    </tr>\n",
       "    <tr>\n",
       "      <td rowspan=\"2\" valign=\"top\">Language</td>\n",
       "      <td>False</td>\n",
       "      <td>4794.0</td>\n",
       "      <td>87.708385</td>\n",
       "      <td>21.768524</td>\n",
       "      <td>40.0</td>\n",
       "      <td>73.0</td>\n",
       "      <td>88.0</td>\n",
       "      <td>103.0</td>\n",
       "      <td>250.0</td>\n",
       "    </tr>\n",
       "    <tr>\n",
       "      <td>True</td>\n",
       "      <td>4994.0</td>\n",
       "      <td>81.590909</td>\n",
       "      <td>20.791764</td>\n",
       "      <td>0.0</td>\n",
       "      <td>66.0</td>\n",
       "      <td>81.0</td>\n",
       "      <td>96.0</td>\n",
       "      <td>186.0</td>\n",
       "    </tr>\n",
       "    <tr>\n",
       "      <td rowspan=\"2\" valign=\"top\">Receptive Language</td>\n",
       "      <td>False</td>\n",
       "      <td>4698.0</td>\n",
       "      <td>89.594508</td>\n",
       "      <td>20.094828</td>\n",
       "      <td>27.0</td>\n",
       "      <td>75.0</td>\n",
       "      <td>90.0</td>\n",
       "      <td>104.0</td>\n",
       "      <td>150.0</td>\n",
       "    </tr>\n",
       "    <tr>\n",
       "      <td>True</td>\n",
       "      <td>4812.0</td>\n",
       "      <td>84.128013</td>\n",
       "      <td>19.740128</td>\n",
       "      <td>0.0</td>\n",
       "      <td>70.0</td>\n",
       "      <td>84.0</td>\n",
       "      <td>98.0</td>\n",
       "      <td>150.0</td>\n",
       "    </tr>\n",
       "    <tr>\n",
       "      <td rowspan=\"2\" valign=\"top\">Receptive Vocabulary</td>\n",
       "      <td>False</td>\n",
       "      <td>3578.0</td>\n",
       "      <td>91.032700</td>\n",
       "      <td>18.480064</td>\n",
       "      <td>0.0</td>\n",
       "      <td>79.0</td>\n",
       "      <td>92.0</td>\n",
       "      <td>104.0</td>\n",
       "      <td>160.0</td>\n",
       "    </tr>\n",
       "    <tr>\n",
       "      <td>True</td>\n",
       "      <td>4035.0</td>\n",
       "      <td>88.276580</td>\n",
       "      <td>18.266301</td>\n",
       "      <td>0.0</td>\n",
       "      <td>76.0</td>\n",
       "      <td>89.0</td>\n",
       "      <td>101.0</td>\n",
       "      <td>159.0</td>\n",
       "    </tr>\n",
       "  </tbody>\n",
       "</table>\n",
       "</div>"
      ],
      "text/plain": [
       "                                             count       mean        std  \\\n",
       "domain                age_enroll_greater_6                                 \n",
       "Articulation          False                 2423.0  83.796946  19.263162   \n",
       "                      True                  2659.0  80.543813  20.097464   \n",
       "Expressive Language   False                 4711.0  87.690087  20.499731   \n",
       "                      True                  4885.0  81.287615  19.960490   \n",
       "Expressive Vocabulary False                 3472.0  93.384217  20.130684   \n",
       "                      True                  3864.0  90.362578  19.062176   \n",
       "Language              False                 4794.0  87.708385  21.768524   \n",
       "                      True                  4994.0  81.590909  20.791764   \n",
       "Receptive Language    False                 4698.0  89.594508  20.094828   \n",
       "                      True                  4812.0  84.128013  19.740128   \n",
       "Receptive Vocabulary  False                 3578.0  91.032700  18.480064   \n",
       "                      True                  4035.0  88.276580  18.266301   \n",
       "\n",
       "                                             min   25%   50%    75%    max  \n",
       "domain                age_enroll_greater_6                                  \n",
       "Articulation          False                  0.0  71.0  86.0   99.0  128.0  \n",
       "                      True                   3.0  67.0  83.0   97.0  122.0  \n",
       "Expressive Language   False                 26.0  73.0  88.0  102.0  150.0  \n",
       "                      True                   0.0  67.0  81.0   95.0  150.0  \n",
       "Expressive Vocabulary False                  0.0  80.0  94.0  107.0  146.0  \n",
       "                      True                   0.0  78.0  91.0  103.0  150.0  \n",
       "Language              False                 40.0  73.0  88.0  103.0  250.0  \n",
       "                      True                   0.0  66.0  81.0   96.0  186.0  \n",
       "Receptive Language    False                 27.0  75.0  90.0  104.0  150.0  \n",
       "                      True                   0.0  70.0  84.0   98.0  150.0  \n",
       "Receptive Vocabulary  False                  0.0  79.0  92.0  104.0  160.0  \n",
       "                      True                   0.0  76.0  89.0  101.0  159.0  "
      ]
     },
     "execution_count": 41,
     "metadata": {},
     "output_type": "execute_result"
    }
   ],
   "source": [
    "(test_scores.assign(age_enroll_greater_6=test_scores.age_int>6)\n",
    "         .groupby(['domain', 'age_enroll_greater_6'])\n",
    "         .score.describe())"
   ]
  },
  {
   "cell_type": "markdown",
   "metadata": {},
   "source": [
    "(Non-)Profound hearing loss"
   ]
  },
  {
   "cell_type": "code",
   "execution_count": 42,
   "metadata": {},
   "outputs": [
    {
     "data": {
      "text/html": [
       "<div>\n",
       "<style scoped>\n",
       "    .dataframe tbody tr th:only-of-type {\n",
       "        vertical-align: middle;\n",
       "    }\n",
       "\n",
       "    .dataframe tbody tr th {\n",
       "        vertical-align: top;\n",
       "    }\n",
       "\n",
       "    .dataframe thead th {\n",
       "        text-align: right;\n",
       "    }\n",
       "</style>\n",
       "<table border=\"1\" class=\"dataframe\">\n",
       "  <thead>\n",
       "    <tr style=\"text-align: right;\">\n",
       "      <th></th>\n",
       "      <th></th>\n",
       "      <th>count</th>\n",
       "      <th>mean</th>\n",
       "      <th>std</th>\n",
       "      <th>min</th>\n",
       "      <th>25%</th>\n",
       "      <th>50%</th>\n",
       "      <th>75%</th>\n",
       "      <th>max</th>\n",
       "    </tr>\n",
       "    <tr>\n",
       "      <th>domain</th>\n",
       "      <th>profound_hl</th>\n",
       "      <th></th>\n",
       "      <th></th>\n",
       "      <th></th>\n",
       "      <th></th>\n",
       "      <th></th>\n",
       "      <th></th>\n",
       "      <th></th>\n",
       "      <th></th>\n",
       "    </tr>\n",
       "  </thead>\n",
       "  <tbody>\n",
       "    <tr>\n",
       "      <td rowspan=\"2\" valign=\"top\">Articulation</td>\n",
       "      <td>False</td>\n",
       "      <td>2466.0</td>\n",
       "      <td>84.624088</td>\n",
       "      <td>19.331490</td>\n",
       "      <td>3.0</td>\n",
       "      <td>72.0</td>\n",
       "      <td>87.0</td>\n",
       "      <td>100.0</td>\n",
       "      <td>126.0</td>\n",
       "    </tr>\n",
       "    <tr>\n",
       "      <td>True</td>\n",
       "      <td>2616.0</td>\n",
       "      <td>79.710627</td>\n",
       "      <td>19.884003</td>\n",
       "      <td>0.0</td>\n",
       "      <td>67.0</td>\n",
       "      <td>82.0</td>\n",
       "      <td>96.0</td>\n",
       "      <td>128.0</td>\n",
       "    </tr>\n",
       "    <tr>\n",
       "      <td rowspan=\"2\" valign=\"top\">Expressive Language</td>\n",
       "      <td>False</td>\n",
       "      <td>4898.0</td>\n",
       "      <td>89.855247</td>\n",
       "      <td>19.466629</td>\n",
       "      <td>9.0</td>\n",
       "      <td>76.0</td>\n",
       "      <td>90.0</td>\n",
       "      <td>104.0</td>\n",
       "      <td>150.0</td>\n",
       "    </tr>\n",
       "    <tr>\n",
       "      <td>True</td>\n",
       "      <td>4698.0</td>\n",
       "      <td>78.775436</td>\n",
       "      <td>19.971377</td>\n",
       "      <td>0.0</td>\n",
       "      <td>63.0</td>\n",
       "      <td>78.0</td>\n",
       "      <td>92.0</td>\n",
       "      <td>146.0</td>\n",
       "    </tr>\n",
       "    <tr>\n",
       "      <td rowspan=\"2\" valign=\"top\">Expressive Vocabulary</td>\n",
       "      <td>False</td>\n",
       "      <td>3565.0</td>\n",
       "      <td>95.510519</td>\n",
       "      <td>18.689762</td>\n",
       "      <td>0.0</td>\n",
       "      <td>84.0</td>\n",
       "      <td>96.0</td>\n",
       "      <td>108.0</td>\n",
       "      <td>147.0</td>\n",
       "    </tr>\n",
       "    <tr>\n",
       "      <td>True</td>\n",
       "      <td>3771.0</td>\n",
       "      <td>88.277910</td>\n",
       "      <td>19.854863</td>\n",
       "      <td>0.0</td>\n",
       "      <td>76.0</td>\n",
       "      <td>89.0</td>\n",
       "      <td>101.0</td>\n",
       "      <td>150.0</td>\n",
       "    </tr>\n",
       "    <tr>\n",
       "      <td rowspan=\"2\" valign=\"top\">Language</td>\n",
       "      <td>False</td>\n",
       "      <td>5014.0</td>\n",
       "      <td>90.263263</td>\n",
       "      <td>20.537999</td>\n",
       "      <td>40.0</td>\n",
       "      <td>76.0</td>\n",
       "      <td>90.0</td>\n",
       "      <td>104.0</td>\n",
       "      <td>250.0</td>\n",
       "    </tr>\n",
       "    <tr>\n",
       "      <td>True</td>\n",
       "      <td>4774.0</td>\n",
       "      <td>78.625681</td>\n",
       "      <td>20.852932</td>\n",
       "      <td>0.0</td>\n",
       "      <td>62.0</td>\n",
       "      <td>78.0</td>\n",
       "      <td>93.0</td>\n",
       "      <td>186.0</td>\n",
       "    </tr>\n",
       "    <tr>\n",
       "      <td rowspan=\"2\" valign=\"top\">Receptive Language</td>\n",
       "      <td>False</td>\n",
       "      <td>4831.0</td>\n",
       "      <td>91.602774</td>\n",
       "      <td>19.311304</td>\n",
       "      <td>11.0</td>\n",
       "      <td>78.0</td>\n",
       "      <td>92.0</td>\n",
       "      <td>105.0</td>\n",
       "      <td>150.0</td>\n",
       "    </tr>\n",
       "    <tr>\n",
       "      <td>True</td>\n",
       "      <td>4679.0</td>\n",
       "      <td>81.899124</td>\n",
       "      <td>19.710194</td>\n",
       "      <td>0.0</td>\n",
       "      <td>67.0</td>\n",
       "      <td>81.0</td>\n",
       "      <td>96.0</td>\n",
       "      <td>150.0</td>\n",
       "    </tr>\n",
       "    <tr>\n",
       "      <td rowspan=\"2\" valign=\"top\">Receptive Vocabulary</td>\n",
       "      <td>False</td>\n",
       "      <td>3673.0</td>\n",
       "      <td>93.780833</td>\n",
       "      <td>17.254649</td>\n",
       "      <td>0.0</td>\n",
       "      <td>83.0</td>\n",
       "      <td>95.0</td>\n",
       "      <td>106.0</td>\n",
       "      <td>159.0</td>\n",
       "    </tr>\n",
       "    <tr>\n",
       "      <td>True</td>\n",
       "      <td>3940.0</td>\n",
       "      <td>85.648223</td>\n",
       "      <td>18.601856</td>\n",
       "      <td>0.0</td>\n",
       "      <td>73.0</td>\n",
       "      <td>86.0</td>\n",
       "      <td>99.0</td>\n",
       "      <td>160.0</td>\n",
       "    </tr>\n",
       "  </tbody>\n",
       "</table>\n",
       "</div>"
      ],
      "text/plain": [
       "                                    count       mean        std   min   25%  \\\n",
       "domain                profound_hl                                             \n",
       "Articulation          False        2466.0  84.624088  19.331490   3.0  72.0   \n",
       "                      True         2616.0  79.710627  19.884003   0.0  67.0   \n",
       "Expressive Language   False        4898.0  89.855247  19.466629   9.0  76.0   \n",
       "                      True         4698.0  78.775436  19.971377   0.0  63.0   \n",
       "Expressive Vocabulary False        3565.0  95.510519  18.689762   0.0  84.0   \n",
       "                      True         3771.0  88.277910  19.854863   0.0  76.0   \n",
       "Language              False        5014.0  90.263263  20.537999  40.0  76.0   \n",
       "                      True         4774.0  78.625681  20.852932   0.0  62.0   \n",
       "Receptive Language    False        4831.0  91.602774  19.311304  11.0  78.0   \n",
       "                      True         4679.0  81.899124  19.710194   0.0  67.0   \n",
       "Receptive Vocabulary  False        3673.0  93.780833  17.254649   0.0  83.0   \n",
       "                      True         3940.0  85.648223  18.601856   0.0  73.0   \n",
       "\n",
       "                                    50%    75%    max  \n",
       "domain                profound_hl                      \n",
       "Articulation          False        87.0  100.0  126.0  \n",
       "                      True         82.0   96.0  128.0  \n",
       "Expressive Language   False        90.0  104.0  150.0  \n",
       "                      True         78.0   92.0  146.0  \n",
       "Expressive Vocabulary False        96.0  108.0  147.0  \n",
       "                      True         89.0  101.0  150.0  \n",
       "Language              False        90.0  104.0  250.0  \n",
       "                      True         78.0   93.0  186.0  \n",
       "Receptive Language    False        92.0  105.0  150.0  \n",
       "                      True         81.0   96.0  150.0  \n",
       "Receptive Vocabulary  False        95.0  106.0  159.0  \n",
       "                      True         86.0   99.0  160.0  "
      ]
     },
     "execution_count": 42,
     "metadata": {},
     "output_type": "execute_result"
    }
   ],
   "source": [
    "(test_scores.assign(profound_hl=test_scores.degree_hl==6)\n",
    "         .groupby(['domain', 'profound_hl'])\n",
    "         .score.describe())"
   ]
  },
  {
   "cell_type": "markdown",
   "metadata": {},
   "source": [
    "Parent with(out) hearing loss"
   ]
  },
  {
   "cell_type": "code",
   "execution_count": 43,
   "metadata": {},
   "outputs": [
    {
     "data": {
      "text/html": [
       "<div>\n",
       "<style scoped>\n",
       "    .dataframe tbody tr th:only-of-type {\n",
       "        vertical-align: middle;\n",
       "    }\n",
       "\n",
       "    .dataframe tbody tr th {\n",
       "        vertical-align: top;\n",
       "    }\n",
       "\n",
       "    .dataframe thead th {\n",
       "        text-align: right;\n",
       "    }\n",
       "</style>\n",
       "<table border=\"1\" class=\"dataframe\">\n",
       "  <thead>\n",
       "    <tr style=\"text-align: right;\">\n",
       "      <th></th>\n",
       "      <th></th>\n",
       "      <th>count</th>\n",
       "      <th>mean</th>\n",
       "      <th>std</th>\n",
       "      <th>min</th>\n",
       "      <th>25%</th>\n",
       "      <th>50%</th>\n",
       "      <th>75%</th>\n",
       "      <th>max</th>\n",
       "    </tr>\n",
       "    <tr>\n",
       "      <th>domain</th>\n",
       "      <th>parent_with_hl</th>\n",
       "      <th></th>\n",
       "      <th></th>\n",
       "      <th></th>\n",
       "      <th></th>\n",
       "      <th></th>\n",
       "      <th></th>\n",
       "      <th></th>\n",
       "      <th></th>\n",
       "    </tr>\n",
       "  </thead>\n",
       "  <tbody>\n",
       "    <tr>\n",
       "      <td rowspan=\"2\" valign=\"top\">Articulation</td>\n",
       "      <td>False</td>\n",
       "      <td>4814.0</td>\n",
       "      <td>82.035314</td>\n",
       "      <td>19.782266</td>\n",
       "      <td>0.0</td>\n",
       "      <td>69.00</td>\n",
       "      <td>84.0</td>\n",
       "      <td>98.00</td>\n",
       "      <td>128.0</td>\n",
       "    </tr>\n",
       "    <tr>\n",
       "      <td>True</td>\n",
       "      <td>268.0</td>\n",
       "      <td>83.164179</td>\n",
       "      <td>19.535886</td>\n",
       "      <td>39.0</td>\n",
       "      <td>70.00</td>\n",
       "      <td>85.0</td>\n",
       "      <td>100.00</td>\n",
       "      <td>117.0</td>\n",
       "    </tr>\n",
       "    <tr>\n",
       "      <td rowspan=\"2\" valign=\"top\">Expressive Language</td>\n",
       "      <td>False</td>\n",
       "      <td>9113.0</td>\n",
       "      <td>84.267749</td>\n",
       "      <td>20.509818</td>\n",
       "      <td>0.0</td>\n",
       "      <td>69.00</td>\n",
       "      <td>85.0</td>\n",
       "      <td>99.00</td>\n",
       "      <td>150.0</td>\n",
       "    </tr>\n",
       "    <tr>\n",
       "      <td>True</td>\n",
       "      <td>483.0</td>\n",
       "      <td>87.507246</td>\n",
       "      <td>19.629384</td>\n",
       "      <td>45.0</td>\n",
       "      <td>73.00</td>\n",
       "      <td>87.0</td>\n",
       "      <td>102.00</td>\n",
       "      <td>144.0</td>\n",
       "    </tr>\n",
       "    <tr>\n",
       "      <td rowspan=\"2\" valign=\"top\">Expressive Vocabulary</td>\n",
       "      <td>False</td>\n",
       "      <td>6938.0</td>\n",
       "      <td>91.629288</td>\n",
       "      <td>19.636485</td>\n",
       "      <td>0.0</td>\n",
       "      <td>79.00</td>\n",
       "      <td>92.0</td>\n",
       "      <td>105.00</td>\n",
       "      <td>150.0</td>\n",
       "    </tr>\n",
       "    <tr>\n",
       "      <td>True</td>\n",
       "      <td>398.0</td>\n",
       "      <td>94.640704</td>\n",
       "      <td>19.355069</td>\n",
       "      <td>0.0</td>\n",
       "      <td>83.00</td>\n",
       "      <td>97.0</td>\n",
       "      <td>108.00</td>\n",
       "      <td>138.0</td>\n",
       "    </tr>\n",
       "    <tr>\n",
       "      <td rowspan=\"2\" valign=\"top\">Language</td>\n",
       "      <td>False</td>\n",
       "      <td>9295.0</td>\n",
       "      <td>84.391931</td>\n",
       "      <td>21.434892</td>\n",
       "      <td>0.0</td>\n",
       "      <td>69.00</td>\n",
       "      <td>84.0</td>\n",
       "      <td>100.00</td>\n",
       "      <td>250.0</td>\n",
       "    </tr>\n",
       "    <tr>\n",
       "      <td>True</td>\n",
       "      <td>493.0</td>\n",
       "      <td>88.267748</td>\n",
       "      <td>22.271726</td>\n",
       "      <td>40.0</td>\n",
       "      <td>73.00</td>\n",
       "      <td>88.0</td>\n",
       "      <td>102.00</td>\n",
       "      <td>195.0</td>\n",
       "    </tr>\n",
       "    <tr>\n",
       "      <td rowspan=\"2\" valign=\"top\">Receptive Language</td>\n",
       "      <td>False</td>\n",
       "      <td>9030.0</td>\n",
       "      <td>86.710078</td>\n",
       "      <td>20.139229</td>\n",
       "      <td>0.0</td>\n",
       "      <td>73.00</td>\n",
       "      <td>87.0</td>\n",
       "      <td>101.00</td>\n",
       "      <td>150.0</td>\n",
       "    </tr>\n",
       "    <tr>\n",
       "      <td>True</td>\n",
       "      <td>480.0</td>\n",
       "      <td>89.056250</td>\n",
       "      <td>19.268539</td>\n",
       "      <td>47.0</td>\n",
       "      <td>76.00</td>\n",
       "      <td>89.0</td>\n",
       "      <td>101.25</td>\n",
       "      <td>139.0</td>\n",
       "    </tr>\n",
       "    <tr>\n",
       "      <td rowspan=\"2\" valign=\"top\">Receptive Vocabulary</td>\n",
       "      <td>False</td>\n",
       "      <td>7209.0</td>\n",
       "      <td>89.399917</td>\n",
       "      <td>18.449928</td>\n",
       "      <td>0.0</td>\n",
       "      <td>77.00</td>\n",
       "      <td>90.0</td>\n",
       "      <td>103.00</td>\n",
       "      <td>160.0</td>\n",
       "    </tr>\n",
       "    <tr>\n",
       "      <td>True</td>\n",
       "      <td>404.0</td>\n",
       "      <td>92.641089</td>\n",
       "      <td>17.565966</td>\n",
       "      <td>40.0</td>\n",
       "      <td>81.75</td>\n",
       "      <td>94.0</td>\n",
       "      <td>104.00</td>\n",
       "      <td>143.0</td>\n",
       "    </tr>\n",
       "  </tbody>\n",
       "</table>\n",
       "</div>"
      ],
      "text/plain": [
       "                                       count       mean        std   min  \\\n",
       "domain                parent_with_hl                                       \n",
       "Articulation          False           4814.0  82.035314  19.782266   0.0   \n",
       "                      True             268.0  83.164179  19.535886  39.0   \n",
       "Expressive Language   False           9113.0  84.267749  20.509818   0.0   \n",
       "                      True             483.0  87.507246  19.629384  45.0   \n",
       "Expressive Vocabulary False           6938.0  91.629288  19.636485   0.0   \n",
       "                      True             398.0  94.640704  19.355069   0.0   \n",
       "Language              False           9295.0  84.391931  21.434892   0.0   \n",
       "                      True             493.0  88.267748  22.271726  40.0   \n",
       "Receptive Language    False           9030.0  86.710078  20.139229   0.0   \n",
       "                      True             480.0  89.056250  19.268539  47.0   \n",
       "Receptive Vocabulary  False           7209.0  89.399917  18.449928   0.0   \n",
       "                      True             404.0  92.641089  17.565966  40.0   \n",
       "\n",
       "                                        25%   50%     75%    max  \n",
       "domain                parent_with_hl                              \n",
       "Articulation          False           69.00  84.0   98.00  128.0  \n",
       "                      True            70.00  85.0  100.00  117.0  \n",
       "Expressive Language   False           69.00  85.0   99.00  150.0  \n",
       "                      True            73.00  87.0  102.00  144.0  \n",
       "Expressive Vocabulary False           79.00  92.0  105.00  150.0  \n",
       "                      True            83.00  97.0  108.00  138.0  \n",
       "Language              False           69.00  84.0  100.00  250.0  \n",
       "                      True            73.00  88.0  102.00  195.0  \n",
       "Receptive Language    False           73.00  87.0  101.00  150.0  \n",
       "                      True            76.00  89.0  101.25  139.0  \n",
       "Receptive Vocabulary  False           77.00  90.0  103.00  160.0  \n",
       "                      True            81.75  94.0  104.00  143.0  "
      ]
     },
     "execution_count": 43,
     "metadata": {},
     "output_type": "execute_result"
    }
   ],
   "source": [
    "test_scores.loc[test_scores.parent_hearing_loss=='Unknown', 'parent_hearing_loss'] = np.nan\n",
    "(test_scores.assign(parent_with_hl=test_scores.parent_hearing_loss.isin(['Both parents have hearing loss',\n",
    "                                                                       'Father has hearing loss',\n",
    "                                                                       'Mother has hearing loss']))\n",
    "         .groupby(['domain', 'parent_with_hl'])\n",
    "         .score.describe())"
   ]
  },
  {
   "cell_type": "markdown",
   "metadata": {},
   "source": [
    "Mother with(out) college education"
   ]
  },
  {
   "cell_type": "code",
   "execution_count": 44,
   "metadata": {},
   "outputs": [
    {
     "data": {
      "text/html": [
       "<div>\n",
       "<style scoped>\n",
       "    .dataframe tbody tr th:only-of-type {\n",
       "        vertical-align: middle;\n",
       "    }\n",
       "\n",
       "    .dataframe tbody tr th {\n",
       "        vertical-align: top;\n",
       "    }\n",
       "\n",
       "    .dataframe thead th {\n",
       "        text-align: right;\n",
       "    }\n",
       "</style>\n",
       "<table border=\"1\" class=\"dataframe\">\n",
       "  <thead>\n",
       "    <tr style=\"text-align: right;\">\n",
       "      <th></th>\n",
       "      <th></th>\n",
       "      <th>count</th>\n",
       "      <th>mean</th>\n",
       "      <th>std</th>\n",
       "      <th>min</th>\n",
       "      <th>25%</th>\n",
       "      <th>50%</th>\n",
       "      <th>75%</th>\n",
       "      <th>max</th>\n",
       "    </tr>\n",
       "    <tr>\n",
       "      <th>domain</th>\n",
       "      <th>mother_college</th>\n",
       "      <th></th>\n",
       "      <th></th>\n",
       "      <th></th>\n",
       "      <th></th>\n",
       "      <th></th>\n",
       "      <th></th>\n",
       "      <th></th>\n",
       "      <th></th>\n",
       "    </tr>\n",
       "  </thead>\n",
       "  <tbody>\n",
       "    <tr>\n",
       "      <td rowspan=\"2\" valign=\"top\">Articulation</td>\n",
       "      <td>0.0</td>\n",
       "      <td>2997.0</td>\n",
       "      <td>82.008675</td>\n",
       "      <td>19.541983</td>\n",
       "      <td>0.0</td>\n",
       "      <td>69.0</td>\n",
       "      <td>84.0</td>\n",
       "      <td>98.0</td>\n",
       "      <td>122.0</td>\n",
       "    </tr>\n",
       "    <tr>\n",
       "      <td>1.0</td>\n",
       "      <td>715.0</td>\n",
       "      <td>84.447552</td>\n",
       "      <td>19.102656</td>\n",
       "      <td>39.0</td>\n",
       "      <td>73.0</td>\n",
       "      <td>87.0</td>\n",
       "      <td>100.0</td>\n",
       "      <td>128.0</td>\n",
       "    </tr>\n",
       "    <tr>\n",
       "      <td rowspan=\"2\" valign=\"top\">Expressive Language</td>\n",
       "      <td>0.0</td>\n",
       "      <td>5892.0</td>\n",
       "      <td>83.381025</td>\n",
       "      <td>19.868023</td>\n",
       "      <td>0.0</td>\n",
       "      <td>69.0</td>\n",
       "      <td>83.0</td>\n",
       "      <td>98.0</td>\n",
       "      <td>150.0</td>\n",
       "    </tr>\n",
       "    <tr>\n",
       "      <td>1.0</td>\n",
       "      <td>1424.0</td>\n",
       "      <td>91.873596</td>\n",
       "      <td>21.830453</td>\n",
       "      <td>40.0</td>\n",
       "      <td>77.0</td>\n",
       "      <td>92.0</td>\n",
       "      <td>107.0</td>\n",
       "      <td>150.0</td>\n",
       "    </tr>\n",
       "    <tr>\n",
       "      <td rowspan=\"2\" valign=\"top\">Expressive Vocabulary</td>\n",
       "      <td>0.0</td>\n",
       "      <td>4375.0</td>\n",
       "      <td>91.154743</td>\n",
       "      <td>19.205958</td>\n",
       "      <td>0.0</td>\n",
       "      <td>79.0</td>\n",
       "      <td>92.0</td>\n",
       "      <td>104.0</td>\n",
       "      <td>146.0</td>\n",
       "    </tr>\n",
       "    <tr>\n",
       "      <td>1.0</td>\n",
       "      <td>1089.0</td>\n",
       "      <td>99.561065</td>\n",
       "      <td>19.793701</td>\n",
       "      <td>25.0</td>\n",
       "      <td>87.0</td>\n",
       "      <td>100.0</td>\n",
       "      <td>113.0</td>\n",
       "      <td>150.0</td>\n",
       "    </tr>\n",
       "    <tr>\n",
       "      <td rowspan=\"2\" valign=\"top\">Language</td>\n",
       "      <td>0.0</td>\n",
       "      <td>6013.0</td>\n",
       "      <td>83.554299</td>\n",
       "      <td>20.982201</td>\n",
       "      <td>0.0</td>\n",
       "      <td>68.0</td>\n",
       "      <td>83.0</td>\n",
       "      <td>98.0</td>\n",
       "      <td>250.0</td>\n",
       "    </tr>\n",
       "    <tr>\n",
       "      <td>1.0</td>\n",
       "      <td>1451.0</td>\n",
       "      <td>92.588560</td>\n",
       "      <td>22.482566</td>\n",
       "      <td>40.0</td>\n",
       "      <td>77.0</td>\n",
       "      <td>94.0</td>\n",
       "      <td>108.0</td>\n",
       "      <td>163.0</td>\n",
       "    </tr>\n",
       "    <tr>\n",
       "      <td rowspan=\"2\" valign=\"top\">Receptive Language</td>\n",
       "      <td>0.0</td>\n",
       "      <td>5845.0</td>\n",
       "      <td>85.932250</td>\n",
       "      <td>19.539589</td>\n",
       "      <td>0.0</td>\n",
       "      <td>72.0</td>\n",
       "      <td>86.0</td>\n",
       "      <td>100.0</td>\n",
       "      <td>147.0</td>\n",
       "    </tr>\n",
       "    <tr>\n",
       "      <td>1.0</td>\n",
       "      <td>1410.0</td>\n",
       "      <td>94.165957</td>\n",
       "      <td>21.131028</td>\n",
       "      <td>40.0</td>\n",
       "      <td>79.0</td>\n",
       "      <td>96.0</td>\n",
       "      <td>110.0</td>\n",
       "      <td>150.0</td>\n",
       "    </tr>\n",
       "    <tr>\n",
       "      <td rowspan=\"2\" valign=\"top\">Receptive Vocabulary</td>\n",
       "      <td>0.0</td>\n",
       "      <td>4517.0</td>\n",
       "      <td>89.102280</td>\n",
       "      <td>18.025513</td>\n",
       "      <td>10.0</td>\n",
       "      <td>77.0</td>\n",
       "      <td>89.0</td>\n",
       "      <td>102.0</td>\n",
       "      <td>144.0</td>\n",
       "    </tr>\n",
       "    <tr>\n",
       "      <td>1.0</td>\n",
       "      <td>1143.0</td>\n",
       "      <td>95.899388</td>\n",
       "      <td>19.352781</td>\n",
       "      <td>0.0</td>\n",
       "      <td>84.0</td>\n",
       "      <td>98.0</td>\n",
       "      <td>109.5</td>\n",
       "      <td>159.0</td>\n",
       "    </tr>\n",
       "  </tbody>\n",
       "</table>\n",
       "</div>"
      ],
      "text/plain": [
       "                                       count       mean        std   min  \\\n",
       "domain                mother_college                                       \n",
       "Articulation          0.0             2997.0  82.008675  19.541983   0.0   \n",
       "                      1.0              715.0  84.447552  19.102656  39.0   \n",
       "Expressive Language   0.0             5892.0  83.381025  19.868023   0.0   \n",
       "                      1.0             1424.0  91.873596  21.830453  40.0   \n",
       "Expressive Vocabulary 0.0             4375.0  91.154743  19.205958   0.0   \n",
       "                      1.0             1089.0  99.561065  19.793701  25.0   \n",
       "Language              0.0             6013.0  83.554299  20.982201   0.0   \n",
       "                      1.0             1451.0  92.588560  22.482566  40.0   \n",
       "Receptive Language    0.0             5845.0  85.932250  19.539589   0.0   \n",
       "                      1.0             1410.0  94.165957  21.131028  40.0   \n",
       "Receptive Vocabulary  0.0             4517.0  89.102280  18.025513  10.0   \n",
       "                      1.0             1143.0  95.899388  19.352781   0.0   \n",
       "\n",
       "                                       25%    50%    75%    max  \n",
       "domain                mother_college                             \n",
       "Articulation          0.0             69.0   84.0   98.0  122.0  \n",
       "                      1.0             73.0   87.0  100.0  128.0  \n",
       "Expressive Language   0.0             69.0   83.0   98.0  150.0  \n",
       "                      1.0             77.0   92.0  107.0  150.0  \n",
       "Expressive Vocabulary 0.0             79.0   92.0  104.0  146.0  \n",
       "                      1.0             87.0  100.0  113.0  150.0  \n",
       "Language              0.0             68.0   83.0   98.0  250.0  \n",
       "                      1.0             77.0   94.0  108.0  163.0  \n",
       "Receptive Language    0.0             72.0   86.0  100.0  147.0  \n",
       "                      1.0             79.0   96.0  110.0  150.0  \n",
       "Receptive Vocabulary  0.0             77.0   89.0  102.0  144.0  \n",
       "                      1.0             84.0   98.0  109.5  159.0  "
      ]
     },
     "execution_count": 44,
     "metadata": {},
     "output_type": "execute_result"
    }
   ],
   "source": [
    "test_scores.groupby(['domain', 'mother_college']).score.describe()"
   ]
  }
 ],
 "metadata": {
  "kernelspec": {
   "display_name": "Python 3",
   "language": "python",
   "name": "python3"
  },
  "language_info": {
   "codemirror_mode": {
    "name": "ipython",
    "version": 3
   },
   "file_extension": ".py",
   "mimetype": "text/x-python",
   "name": "python",
   "nbconvert_exporter": "python",
   "pygments_lexer": "ipython3",
   "version": "3.7.3"
  }
 },
 "nbformat": 4,
 "nbformat_minor": 4
}
