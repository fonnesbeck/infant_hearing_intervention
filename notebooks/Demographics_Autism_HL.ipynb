{
 "cells": [
  {
   "cell_type": "code",
   "execution_count": 1,
   "metadata": {},
   "outputs": [],
   "source": [
    "# Import modules and set options\n",
    "%matplotlib inline\n",
    "import matplotlib.pyplot as plt\n",
    "import pandas as pd\n",
    "import numpy as np\n",
    "import seaborn as sns\n",
    "# import pandas_profiling\n",
    "\n",
    "sns.set(context='notebook', style='ticks')"
   ]
  },
  {
   "cell_type": "code",
   "execution_count": 2,
   "metadata": {},
   "outputs": [],
   "source": [
    "lsl_dr = (pd.read_csv('../data/clean/lsl_dr_frozen_09272019.csv', index_col=0, low_memory=False)\n",
    "                  .rename({'onset_1':'identify_mo'}, axis=1))"
   ]
  },
  {
   "cell_type": "code",
   "execution_count": 3,
   "metadata": {},
   "outputs": [
    {
     "data": {
      "text/plain": [
       "(65064, 246)"
      ]
     },
     "execution_count": 3,
     "metadata": {},
     "output_type": "execute_result"
    }
   ],
   "source": [
    "lsl_dr.shape"
   ]
  },
  {
   "cell_type": "markdown",
   "metadata": {},
   "source": [
    "Exclusions"
   ]
  },
  {
   "cell_type": "code",
   "execution_count": 4,
   "metadata": {},
   "outputs": [],
   "source": [
    "other_etiology = (lsl_dr[['etiology_3___2', 'etiology_3___4', 'etiology_3___5', 'etiology_3___6', 'etiology_3___9',\n",
    "       'etiology_oth___1', 'etiology_oth___3', 'etiology_oth___4', 'etiology_oth___8', 'etiology_oth___9']]\n",
    "                      .sum(1).astype(bool))"
   ]
  },
  {
   "cell_type": "code",
   "execution_count": 5,
   "metadata": {},
   "outputs": [],
   "source": [
    "inclusion_mask = (~lsl_dr.non_english.astype(bool) \n",
    "                  & (lsl_dr.hl==0)\n",
    "                  & ((lsl_dr.autism==1)))"
   ]
  },
  {
   "cell_type": "code",
   "execution_count": 6,
   "metadata": {},
   "outputs": [
    {
     "data": {
      "text/plain": [
       "(36, 246)"
      ]
     },
     "execution_count": 6,
     "metadata": {},
     "output_type": "execute_result"
    }
   ],
   "source": [
    "autism_subset = lsl_dr[inclusion_mask]\n",
    "autism_subset.drop_duplicates(subset='study_id').shape"
   ]
  },
  {
   "cell_type": "markdown",
   "metadata": {},
   "source": [
    "## Demographics"
   ]
  },
  {
   "cell_type": "code",
   "execution_count": 7,
   "metadata": {},
   "outputs": [
    {
     "data": {
      "text/plain": [
       "Male      116\n",
       "Female     41\n",
       "Name: male, dtype: int64"
      ]
     },
     "execution_count": 7,
     "metadata": {},
     "output_type": "execute_result"
    }
   ],
   "source": [
    "autism_subset.male.replace({1: 'Male', 0: 'Female', np.nan: 'Missing'}).value_counts()"
   ]
  },
  {
   "cell_type": "code",
   "execution_count": 8,
   "metadata": {},
   "outputs": [
    {
     "data": {
      "text/plain": [
       "White       88\n",
       "Other       38\n",
       "Black       14\n",
       "Hispanic     9\n",
       "Asian        8\n",
       "Name: race, dtype: int64"
      ]
     },
     "execution_count": 8,
     "metadata": {},
     "output_type": "execute_result"
    }
   ],
   "source": [
    "autism_subset.race.replace({0:'White', 1:'Black', 2:'Hispanic', 3:'Asian', 4:'Other', np.nan:'Missing'}).value_counts()"
   ]
  },
  {
   "cell_type": "code",
   "execution_count": 9,
   "metadata": {},
   "outputs": [
    {
     "data": {
      "text/plain": [
       ">=36 weeks    121\n",
       "<36 weeks      36\n",
       "Name: premature_age, dtype: int64"
      ]
     },
     "execution_count": 9,
     "metadata": {},
     "output_type": "execute_result"
    }
   ],
   "source": [
    "(autism_subset.premature_age.replace({9:None})==8).replace({True: '>=36 weeks', False: '<36 weeks', \n",
    "                                                            np.nan: 'Unknown'}).value_counts()"
   ]
  },
  {
   "cell_type": "code",
   "execution_count": 10,
   "metadata": {},
   "outputs": [
    {
     "data": {
      "text/plain": [
       "1          46\n",
       "2          63\n",
       "3          19\n",
       "4+         10\n",
       "Missing    19\n",
       "Name: sib, dtype: int64"
      ]
     },
     "execution_count": 10,
     "metadata": {},
     "output_type": "execute_result"
    }
   ],
   "source": [
    "autism_subset.sib.replace({0:'1', 1:'2', 2:'3', 3:'4+', np.nan:'Missing'}).value_counts().sort_index()"
   ]
  },
  {
   "cell_type": "code",
   "execution_count": 11,
   "metadata": {},
   "outputs": [
    {
     "data": {
      "text/plain": [
       "High school diploma/GED    66\n",
       "Unknown                    40\n",
       "Some college               30\n",
       "Some high school           21\n",
       "Name: mother_ed, dtype: int64"
      ]
     },
     "execution_count": 11,
     "metadata": {},
     "output_type": "execute_result"
    }
   ],
   "source": [
    "ed_lookup = {0:\"8th grade or less\",\n",
    "1:\"Some high school\",\n",
    "2:\"High school diploma/GED\",\n",
    "3:\"Some college\",\n",
    "4:\"Bachelor's degree\",\n",
    "5:\"Post graduate degree\",\n",
    "6:\"Unknown\",\n",
    "np.nan:\"Unknown\"}\n",
    "\n",
    "autism_subset.mother_ed.replace(ed_lookup).value_counts()"
   ]
  },
  {
   "cell_type": "code",
   "execution_count": 12,
   "metadata": {},
   "outputs": [
    {
     "data": {
      "text/plain": [
       "Unknown                    52\n",
       "Bachelor's degree          44\n",
       "Post graduate degree       37\n",
       "High school diploma/GED    13\n",
       "Some college               11\n",
       "Name: father_ed, dtype: int64"
      ]
     },
     "execution_count": 12,
     "metadata": {},
     "output_type": "execute_result"
    }
   ],
   "source": [
    "autism_subset.father_ed.replace(ed_lookup).value_counts()"
   ]
  },
  {
   "cell_type": "code",
   "execution_count": 13,
   "metadata": {},
   "outputs": [
    {
     "data": {
      "text/plain": [
       "Average Participation    60\n",
       "Ideal Participation      52\n",
       "Missing                  20\n",
       "Good Participation       17\n",
       "Below Average             8\n",
       "Name: family_inv, dtype: int64"
      ]
     },
     "execution_count": 13,
     "metadata": {},
     "output_type": "execute_result"
    }
   ],
   "source": [
    "family_lookup = {0:\"Ideal Participation\",\n",
    "1:\"Good Participation\",\n",
    "2:\"Average Participation\",\n",
    "3:\"Below Average\",\n",
    "4:\"Limited Participation\",\n",
    "np.nan:\"Missing\"}\n",
    "\n",
    "autism_subset.family_inv.replace(family_lookup).value_counts()"
   ]
  },
  {
   "cell_type": "code",
   "execution_count": 14,
   "metadata": {},
   "outputs": [
    {
     "data": {
      "text/html": [
       "<div>\n",
       "<style scoped>\n",
       "    .dataframe tbody tr th:only-of-type {\n",
       "        vertical-align: middle;\n",
       "    }\n",
       "\n",
       "    .dataframe tbody tr th {\n",
       "        vertical-align: top;\n",
       "    }\n",
       "\n",
       "    .dataframe thead th {\n",
       "        text-align: right;\n",
       "    }\n",
       "</style>\n",
       "<table border=\"1\" class=\"dataframe\">\n",
       "  <thead>\n",
       "    <tr style=\"text-align: right;\">\n",
       "      <th></th>\n",
       "      <th>age_diag</th>\n",
       "      <th>age_amp</th>\n",
       "      <th>age_int</th>\n",
       "      <th>age</th>\n",
       "    </tr>\n",
       "  </thead>\n",
       "  <tbody>\n",
       "    <tr>\n",
       "      <th>count</th>\n",
       "      <td>146.000000</td>\n",
       "      <td>142.000000</td>\n",
       "      <td>127.000000</td>\n",
       "      <td>157.000000</td>\n",
       "    </tr>\n",
       "    <tr>\n",
       "      <th>mean</th>\n",
       "      <td>15.767123</td>\n",
       "      <td>20.204225</td>\n",
       "      <td>20.055118</td>\n",
       "      <td>33.000000</td>\n",
       "    </tr>\n",
       "    <tr>\n",
       "      <th>std</th>\n",
       "      <td>18.262092</td>\n",
       "      <td>18.261512</td>\n",
       "      <td>17.763127</td>\n",
       "      <td>20.496716</td>\n",
       "    </tr>\n",
       "    <tr>\n",
       "      <th>min</th>\n",
       "      <td>0.000000</td>\n",
       "      <td>1.000000</td>\n",
       "      <td>1.000000</td>\n",
       "      <td>1.000000</td>\n",
       "    </tr>\n",
       "    <tr>\n",
       "      <th>25%</th>\n",
       "      <td>1.000000</td>\n",
       "      <td>3.250000</td>\n",
       "      <td>5.000000</td>\n",
       "      <td>19.000000</td>\n",
       "    </tr>\n",
       "    <tr>\n",
       "      <th>50%</th>\n",
       "      <td>10.000000</td>\n",
       "      <td>19.000000</td>\n",
       "      <td>20.000000</td>\n",
       "      <td>33.000000</td>\n",
       "    </tr>\n",
       "    <tr>\n",
       "      <th>75%</th>\n",
       "      <td>21.000000</td>\n",
       "      <td>27.000000</td>\n",
       "      <td>25.000000</td>\n",
       "      <td>46.000000</td>\n",
       "    </tr>\n",
       "    <tr>\n",
       "      <th>max</th>\n",
       "      <td>83.000000</td>\n",
       "      <td>83.000000</td>\n",
       "      <td>83.000000</td>\n",
       "      <td>83.000000</td>\n",
       "    </tr>\n",
       "  </tbody>\n",
       "</table>\n",
       "</div>"
      ],
      "text/plain": [
       "         age_diag     age_amp     age_int         age\n",
       "count  146.000000  142.000000  127.000000  157.000000\n",
       "mean    15.767123   20.204225   20.055118   33.000000\n",
       "std     18.262092   18.261512   17.763127   20.496716\n",
       "min      0.000000    1.000000    1.000000    1.000000\n",
       "25%      1.000000    3.250000    5.000000   19.000000\n",
       "50%     10.000000   19.000000   20.000000   33.000000\n",
       "75%     21.000000   27.000000   25.000000   46.000000\n",
       "max     83.000000   83.000000   83.000000   83.000000"
      ]
     },
     "execution_count": 14,
     "metadata": {},
     "output_type": "execute_result"
    }
   ],
   "source": [
    "autism_subset[[\"age_diag\", \"age_amp\", \"age_int\", \"age\"]].describe()"
   ]
  },
  {
   "cell_type": "code",
   "execution_count": 15,
   "metadata": {},
   "outputs": [
    {
     "data": {
      "text/plain": [
       "OPTION + outside    112\n",
       "OPTION only          31\n",
       "Name: otherserv, dtype: int64"
      ]
     },
     "execution_count": 15,
     "metadata": {},
     "output_type": "execute_result"
    }
   ],
   "source": [
    "autism_subset.otherserv.replace({0: \"OPTION + outside\", 1: \"OPTION only\", 2: \"Missing\"}).value_counts()"
   ]
  },
  {
   "cell_type": "markdown",
   "metadata": {},
   "source": [
    "## Hearing loss"
   ]
  },
  {
   "cell_type": "code",
   "execution_count": 16,
   "metadata": {},
   "outputs": [
    {
     "data": {
      "text/plain": [
       "11"
      ]
     },
     "execution_count": 16,
     "metadata": {},
     "output_type": "execute_result"
    }
   ],
   "source": [
    "autism_subset.degree_hl_ad.isnull().sum()"
   ]
  },
  {
   "cell_type": "code",
   "execution_count": 17,
   "metadata": {},
   "outputs": [
    {
     "data": {
      "text/plain": [
       "11"
      ]
     },
     "execution_count": 17,
     "metadata": {},
     "output_type": "execute_result"
    }
   ],
   "source": [
    "autism_subset.degree_hl_as.isnull().sum()"
   ]
  },
  {
   "cell_type": "code",
   "execution_count": 18,
   "metadata": {},
   "outputs": [
    {
     "data": {
      "text/plain": [
       "6.0    84\n",
       "3.0    23\n",
       "4.0    13\n",
       "5.0    13\n",
       "1.0     8\n",
       "2.0     5\n",
       "Name: degree_hl_ad, dtype: int64"
      ]
     },
     "execution_count": 18,
     "metadata": {},
     "output_type": "execute_result"
    }
   ],
   "source": [
    "autism_subset.degree_hl_ad.value_counts()"
   ]
  },
  {
   "cell_type": "code",
   "execution_count": 19,
   "metadata": {},
   "outputs": [
    {
     "data": {
      "text/plain": [
       "6.0    72\n",
       "3.0    22\n",
       "5.0    18\n",
       "2.0    16\n",
       "0.0     9\n",
       "4.0     7\n",
       "1.0     2\n",
       "Name: degree_hl_as, dtype: int64"
      ]
     },
     "execution_count": 19,
     "metadata": {},
     "output_type": "execute_result"
    }
   ],
   "source": [
    "autism_subset.degree_hl_as.value_counts()"
   ]
  },
  {
   "cell_type": "code",
   "execution_count": 20,
   "metadata": {},
   "outputs": [],
   "source": [
    "hl_data = autism_subset.set_index('study_id')[['bilateral_snhl',\n",
    "                     'bilateral_ansd',\n",
    "                     'bilateral_mixed',\n",
    "                     'bilateral_cond',\n",
    "                     'bilateral_normal',\n",
    "                     'bilateral_unk',\n",
    "                     'unilateral_snhl',\n",
    "                     'unilateral_ansd',\n",
    "                     'unilateral_mixed',\n",
    "                     'unilateral_cond',\n",
    "                     'unilateral_unk',\n",
    "                     'assymetrical']]"
   ]
  },
  {
   "cell_type": "markdown",
   "metadata": {},
   "source": [
    "One or both parents with hearing loss"
   ]
  },
  {
   "cell_type": "code",
   "execution_count": 21,
   "metadata": {},
   "outputs": [
    {
     "data": {
      "text/plain": [
       "0.0    128\n",
       "1.0     12\n",
       "Name: one_or_both_parent_hl, dtype: int64"
      ]
     },
     "execution_count": 21,
     "metadata": {},
     "output_type": "execute_result"
    }
   ],
   "source": [
    "autism_subset.one_or_both_parent_hl.value_counts()"
   ]
  },
  {
   "cell_type": "code",
   "execution_count": 22,
   "metadata": {},
   "outputs": [
    {
     "data": {
      "text/plain": [
       "17"
      ]
     },
     "execution_count": 22,
     "metadata": {},
     "output_type": "execute_result"
    }
   ],
   "source": [
    "autism_subset.one_or_both_parent_hl.isnull().sum()"
   ]
  },
  {
   "cell_type": "markdown",
   "metadata": {},
   "source": [
    "Individuals with no hearing loss type"
   ]
  },
  {
   "cell_type": "code",
   "execution_count": 23,
   "metadata": {},
   "outputs": [
    {
     "data": {
      "text/plain": [
       "array(['0416-2012-8486', '0416-2012-8486', '0416-2012-8486',\n",
       "       '0416-2012-8486', '0416-2012-8486', '0416-2012-8486',\n",
       "       '0735-2011-0006', '0735-2011-0006', '0735-2011-0006',\n",
       "       '0735-2011-0006', '0735-2011-0006'], dtype=object)"
      ]
     },
     "execution_count": 23,
     "metadata": {},
     "output_type": "execute_result"
    }
   ],
   "source": [
    "hl_data[hl_data.sum(1)==0].index.values"
   ]
  },
  {
   "cell_type": "code",
   "execution_count": 24,
   "metadata": {},
   "outputs": [
    {
     "data": {
      "text/plain": [
       "bilateral_snhl      133\n",
       "unilateral_snhl       6\n",
       "unilateral_mixed      3\n",
       "assymetrical          2\n",
       "bilateral_mixed       2\n",
       "unilateral_unk        0\n",
       "unilateral_cond       0\n",
       "unilateral_ansd       0\n",
       "bilateral_unk         0\n",
       "bilateral_normal      0\n",
       "bilateral_cond        0\n",
       "bilateral_ansd        0\n",
       "dtype: int64"
      ]
     },
     "execution_count": 24,
     "metadata": {},
     "output_type": "execute_result"
    }
   ],
   "source": [
    "hl_data.sum().astype(int).sort_values(ascending=False)"
   ]
  },
  {
   "cell_type": "code",
   "execution_count": 25,
   "metadata": {},
   "outputs": [
    {
     "data": {
      "text/plain": [
       "bilateral_snhl      0.85\n",
       "unilateral_snhl     0.04\n",
       "unilateral_mixed    0.02\n",
       "assymetrical        0.01\n",
       "bilateral_mixed     0.01\n",
       "unilateral_unk      0.00\n",
       "unilateral_cond     0.00\n",
       "unilateral_ansd     0.00\n",
       "bilateral_unk       0.00\n",
       "bilateral_normal    0.00\n",
       "bilateral_cond      0.00\n",
       "bilateral_ansd      0.00\n",
       "dtype: float64"
      ]
     },
     "execution_count": 25,
     "metadata": {},
     "output_type": "execute_result"
    }
   ],
   "source": [
    "hl_data.mean().round(2).sort_values(ascending=False)"
   ]
  },
  {
   "cell_type": "code",
   "execution_count": 26,
   "metadata": {},
   "outputs": [],
   "source": [
    "tech_data = autism_subset.set_index('study_id')[['bilateral_ha',\n",
    "                     'bilateral_ci',\n",
    "                     'bimodal',\n",
    "                     'bilateral_other',\n",
    "                     'unilateral_ha',\n",
    "                     'unilateral_ci',\n",
    "                     'unilateral_other']]"
   ]
  },
  {
   "cell_type": "code",
   "execution_count": 27,
   "metadata": {},
   "outputs": [
    {
     "data": {
      "text/plain": [
       "bilateral_ci        111\n",
       "bilateral_ha         20\n",
       "unilateral_ci        14\n",
       "bimodal              10\n",
       "unilateral_other      0\n",
       "unilateral_ha         0\n",
       "bilateral_other       0\n",
       "dtype: int64"
      ]
     },
     "execution_count": 27,
     "metadata": {},
     "output_type": "execute_result"
    }
   ],
   "source": [
    "tech_data.sum().astype(int).sort_values(ascending=False)"
   ]
  },
  {
   "cell_type": "code",
   "execution_count": 28,
   "metadata": {},
   "outputs": [
    {
     "data": {
      "text/plain": [
       "bilateral_ci        0.71\n",
       "bilateral_ha        0.13\n",
       "unilateral_ci       0.09\n",
       "bimodal             0.06\n",
       "unilateral_other    0.00\n",
       "unilateral_ha       0.00\n",
       "bilateral_other     0.00\n",
       "dtype: float64"
      ]
     },
     "execution_count": 28,
     "metadata": {},
     "output_type": "execute_result"
    }
   ],
   "source": [
    "tech_data.mean().round(2).sort_values(ascending=False)"
   ]
  },
  {
   "cell_type": "markdown",
   "metadata": {},
   "source": [
    "Individuals with no technology type"
   ]
  },
  {
   "cell_type": "code",
   "execution_count": 29,
   "metadata": {},
   "outputs": [
    {
     "data": {
      "text/plain": [
       "array(['0735-2019-0020', '0735-2019-0020'], dtype=object)"
      ]
     },
     "execution_count": 29,
     "metadata": {},
     "output_type": "execute_result"
    }
   ],
   "source": [
    "tech_data[tech_data.sum(1)==0].index.values"
   ]
  },
  {
   "cell_type": "markdown",
   "metadata": {},
   "source": [
    "## Hearing Loss"
   ]
  },
  {
   "cell_type": "code",
   "execution_count": 30,
   "metadata": {},
   "outputs": [
    {
     "data": {
      "text/plain": [
       "Index(['degree_hl_ad', 'type_hl_ad', 'degree_hl_as', 'type_hl_as',\n",
       "       'bilateral_hl_normal', 'bilateral_hl_slight', 'bilateral_hl_mild',\n",
       "       'bilateral_hl_moderate', 'bilateral_hl_modsev', 'bilateral_hl_severe',\n",
       "       'bilateral_hl_profound', 'unilateral_hl_slight', 'unilateral_hl_mild',\n",
       "       'unilateral_hl_moderate', 'unilateral_hl_modsev',\n",
       "       'unilateral_hl_severe', 'unilateral_hl_profound'],\n",
       "      dtype='object')"
      ]
     },
     "execution_count": 30,
     "metadata": {},
     "output_type": "execute_result"
    }
   ],
   "source": [
    "autism_subset.columns[autism_subset.columns.str.contains('_hl_')]"
   ]
  },
  {
   "cell_type": "code",
   "execution_count": 31,
   "metadata": {},
   "outputs": [],
   "source": [
    "hl_data = autism_subset.set_index('study_id')[['bilateral_hl_normal', 'bilateral_hl_slight', 'bilateral_hl_mild',\n",
    "       'bilateral_hl_moderate', 'bilateral_hl_modsev', 'bilateral_hl_severe',\n",
    "       'bilateral_hl_profound', 'unilateral_hl_slight', 'unilateral_hl_mild',\n",
    "       'unilateral_hl_moderate', 'unilateral_hl_modsev',\n",
    "       'unilateral_hl_severe', 'unilateral_hl_profound']]"
   ]
  },
  {
   "cell_type": "code",
   "execution_count": 32,
   "metadata": {},
   "outputs": [
    {
     "data": {
      "text/plain": [
       "bilateral_hl_profound     69\n",
       "bilateral_hl_moderate     14\n",
       "bilateral_hl_severe       13\n",
       "unilateral_hl_modsev       9\n",
       "bilateral_hl_mild          3\n",
       "bilateral_hl_slight        2\n",
       "unilateral_hl_profound     0\n",
       "unilateral_hl_severe       0\n",
       "unilateral_hl_moderate     0\n",
       "unilateral_hl_mild         0\n",
       "unilateral_hl_slight       0\n",
       "bilateral_hl_modsev        0\n",
       "bilateral_hl_normal        0\n",
       "dtype: int64"
      ]
     },
     "execution_count": 32,
     "metadata": {},
     "output_type": "execute_result"
    }
   ],
   "source": [
    "hl_data.sum().astype(int).sort_values(ascending=False)"
   ]
  },
  {
   "cell_type": "code",
   "execution_count": 33,
   "metadata": {},
   "outputs": [
    {
     "data": {
      "text/plain": [
       "bilateral_hl_profound     0.44\n",
       "bilateral_hl_moderate     0.09\n",
       "bilateral_hl_severe       0.08\n",
       "unilateral_hl_modsev      0.06\n",
       "bilateral_hl_mild         0.02\n",
       "bilateral_hl_slight       0.01\n",
       "unilateral_hl_profound    0.00\n",
       "unilateral_hl_severe      0.00\n",
       "unilateral_hl_moderate    0.00\n",
       "unilateral_hl_mild        0.00\n",
       "unilateral_hl_slight      0.00\n",
       "bilateral_hl_modsev       0.00\n",
       "bilateral_hl_normal       0.00\n",
       "dtype: float64"
      ]
     },
     "execution_count": 33,
     "metadata": {},
     "output_type": "execute_result"
    }
   ],
   "source": [
    "hl_data.mean().round(2).sort_values(ascending=False)"
   ]
  },
  {
   "cell_type": "markdown",
   "metadata": {},
   "source": [
    "Missing one or both hearing loss values (left/right)"
   ]
  },
  {
   "cell_type": "code",
   "execution_count": 34,
   "metadata": {},
   "outputs": [
    {
     "data": {
      "text/plain": [
       "11"
      ]
     },
     "execution_count": 34,
     "metadata": {},
     "output_type": "execute_result"
    }
   ],
   "source": [
    "(autism_subset[['degree_hl_ad', 'degree_hl_as']].isnull().sum(1) > 0).sum()"
   ]
  },
  {
   "cell_type": "markdown",
   "metadata": {},
   "source": [
    "## Summary of scores by domain"
   ]
  },
  {
   "cell_type": "code",
   "execution_count": 35,
   "metadata": {},
   "outputs": [],
   "source": [
    "test_scores = lsl_dr[inclusion_mask].copy()"
   ]
  },
  {
   "cell_type": "code",
   "execution_count": 36,
   "metadata": {},
   "outputs": [],
   "source": [
    "test_scores.loc[(test_scores.domain=='Language') & (test_scores.test_type=='receptive'), \n",
    "           'domain'] = 'Receptive Language'\n",
    "test_scores.loc[(test_scores.domain=='Language') & (test_scores.test_type=='expressive'), \n",
    "           'domain'] = 'Expressive Language'"
   ]
  },
  {
   "cell_type": "code",
   "execution_count": 37,
   "metadata": {},
   "outputs": [
    {
     "data": {
      "text/html": [
       "<div>\n",
       "<style scoped>\n",
       "    .dataframe tbody tr th:only-of-type {\n",
       "        vertical-align: middle;\n",
       "    }\n",
       "\n",
       "    .dataframe tbody tr th {\n",
       "        vertical-align: top;\n",
       "    }\n",
       "\n",
       "    .dataframe thead th {\n",
       "        text-align: right;\n",
       "    }\n",
       "</style>\n",
       "<table border=\"1\" class=\"dataframe\">\n",
       "  <thead>\n",
       "    <tr style=\"text-align: right;\">\n",
       "      <th></th>\n",
       "      <th>count</th>\n",
       "      <th>mean</th>\n",
       "      <th>std</th>\n",
       "      <th>min</th>\n",
       "      <th>25%</th>\n",
       "      <th>50%</th>\n",
       "      <th>75%</th>\n",
       "      <th>max</th>\n",
       "    </tr>\n",
       "    <tr>\n",
       "      <th>domain</th>\n",
       "      <th></th>\n",
       "      <th></th>\n",
       "      <th></th>\n",
       "      <th></th>\n",
       "      <th></th>\n",
       "      <th></th>\n",
       "      <th></th>\n",
       "      <th></th>\n",
       "    </tr>\n",
       "  </thead>\n",
       "  <tbody>\n",
       "    <tr>\n",
       "      <th>Articulation</th>\n",
       "      <td>9.0</td>\n",
       "      <td>77.2</td>\n",
       "      <td>14.8</td>\n",
       "      <td>51.7</td>\n",
       "      <td>77.4</td>\n",
       "      <td>78.7</td>\n",
       "      <td>83.2</td>\n",
       "      <td>98.3</td>\n",
       "    </tr>\n",
       "    <tr>\n",
       "      <th>Expressive Language</th>\n",
       "      <td>34.0</td>\n",
       "      <td>69.4</td>\n",
       "      <td>20.7</td>\n",
       "      <td>42.0</td>\n",
       "      <td>54.2</td>\n",
       "      <td>63.0</td>\n",
       "      <td>82.3</td>\n",
       "      <td>115.0</td>\n",
       "    </tr>\n",
       "    <tr>\n",
       "      <th>Expressive Vocabulary</th>\n",
       "      <td>23.0</td>\n",
       "      <td>76.9</td>\n",
       "      <td>24.1</td>\n",
       "      <td>20.0</td>\n",
       "      <td>66.5</td>\n",
       "      <td>76.3</td>\n",
       "      <td>92.7</td>\n",
       "      <td>124.0</td>\n",
       "    </tr>\n",
       "    <tr>\n",
       "      <th>Language</th>\n",
       "      <td>33.0</td>\n",
       "      <td>66.8</td>\n",
       "      <td>22.5</td>\n",
       "      <td>42.0</td>\n",
       "      <td>51.0</td>\n",
       "      <td>58.0</td>\n",
       "      <td>73.0</td>\n",
       "      <td>129.0</td>\n",
       "    </tr>\n",
       "    <tr>\n",
       "      <th>Receptive Language</th>\n",
       "      <td>33.0</td>\n",
       "      <td>67.5</td>\n",
       "      <td>20.7</td>\n",
       "      <td>45.8</td>\n",
       "      <td>50.7</td>\n",
       "      <td>64.0</td>\n",
       "      <td>74.0</td>\n",
       "      <td>140.0</td>\n",
       "    </tr>\n",
       "    <tr>\n",
       "      <th>Receptive Vocabulary</th>\n",
       "      <td>25.0</td>\n",
       "      <td>77.9</td>\n",
       "      <td>25.2</td>\n",
       "      <td>34.0</td>\n",
       "      <td>63.0</td>\n",
       "      <td>71.0</td>\n",
       "      <td>86.0</td>\n",
       "      <td>141.0</td>\n",
       "    </tr>\n",
       "  </tbody>\n",
       "</table>\n",
       "</div>"
      ],
      "text/plain": [
       "                       count  mean   std   min   25%   50%   75%    max\n",
       "domain                                                                 \n",
       "Articulation             9.0  77.2  14.8  51.7  77.4  78.7  83.2   98.3\n",
       "Expressive Language     34.0  69.4  20.7  42.0  54.2  63.0  82.3  115.0\n",
       "Expressive Vocabulary   23.0  76.9  24.1  20.0  66.5  76.3  92.7  124.0\n",
       "Language                33.0  66.8  22.5  42.0  51.0  58.0  73.0  129.0\n",
       "Receptive Language      33.0  67.5  20.7  45.8  50.7  64.0  74.0  140.0\n",
       "Receptive Vocabulary    25.0  77.9  25.2  34.0  63.0  71.0  86.0  141.0"
      ]
     },
     "execution_count": 37,
     "metadata": {},
     "output_type": "execute_result"
    }
   ],
   "source": [
    "test_scores.groupby('domain').score_adj.describe().round(1)"
   ]
  },
  {
   "cell_type": "code",
   "execution_count": 38,
   "metadata": {},
   "outputs": [
    {
     "data": {
      "text/plain": [
       "array(['Expressive Vocabulary', 'Receptive Vocabulary',\n",
       "       'Receptive Language', 'Expressive Language', 'Language',\n",
       "       'Articulation'], dtype=object)"
      ]
     },
     "execution_count": 38,
     "metadata": {},
     "output_type": "execute_result"
    }
   ],
   "source": [
    "test_scores.domain.unique()"
   ]
  },
  {
   "cell_type": "code",
   "execution_count": 39,
   "metadata": {},
   "outputs": [],
   "source": [
    "test_scores['domain_labels'] = test_scores.domain.replace({'Expressive Vocabulary': 'Expressive\\nVocabulary', \n",
    "                                                           'Receptive Vocabulary': 'Receptive\\nVocabulary',\n",
    "                                                           'Receptive Language': 'Receptive\\nLanguage', \n",
    "                                                           'Expressive Language': 'Expressive\\nLanguage', \n",
    "                                                           'Language': 'Total\\nLanguage'})"
   ]
  },
  {
   "cell_type": "code",
   "execution_count": 40,
   "metadata": {},
   "outputs": [
    {
     "data": {
      "image/png": "[encoded data removed]",
      "text/plain": [
       "<Figure size 864x360 with 1 Axes>"
      ]
     },
     "metadata": {},
     "output_type": "display_data"
    }
   ],
   "source": [
    "sns.catplot(\"domain_labels\", y=\"score\", data=test_scores, kind=\"box\", color='white', fliersize=0)\n",
    "sns.swarmplot(\"domain_labels\", y=\"score\", data=test_scores, color='grey')\n",
    "fig = plt.gcf()\n",
    "fig.set_size_inches(12, 5)\n",
    "fig.axes[0].set_xlabel('');"
   ]
  },
  {
   "cell_type": "markdown",
   "metadata": {},
   "source": [
    "## Domain-specific summaries\n",
    "\n",
    "Age of amplification greater than 6mo."
   ]
  },
  {
   "cell_type": "code",
   "execution_count": 43,
   "metadata": {},
   "outputs": [
    {
     "data": {
      "text/html": [
       "<div>\n",
       "<style scoped>\n",
       "    .dataframe tbody tr th:only-of-type {\n",
       "        vertical-align: middle;\n",
       "    }\n",
       "\n",
       "    .dataframe tbody tr th {\n",
       "        vertical-align: top;\n",
       "    }\n",
       "\n",
       "    .dataframe thead th {\n",
       "        text-align: right;\n",
       "    }\n",
       "</style>\n",
       "<table border=\"1\" class=\"dataframe\">\n",
       "  <thead>\n",
       "    <tr style=\"text-align: right;\">\n",
       "      <th></th>\n",
       "      <th></th>\n",
       "      <th>count</th>\n",
       "      <th>mean</th>\n",
       "      <th>std</th>\n",
       "      <th>min</th>\n",
       "      <th>25%</th>\n",
       "      <th>50%</th>\n",
       "      <th>75%</th>\n",
       "      <th>max</th>\n",
       "    </tr>\n",
       "    <tr>\n",
       "      <th>domain</th>\n",
       "      <th>age_amp_greater_6</th>\n",
       "      <th></th>\n",
       "      <th></th>\n",
       "      <th></th>\n",
       "      <th></th>\n",
       "      <th></th>\n",
       "      <th></th>\n",
       "      <th></th>\n",
       "      <th></th>\n",
       "    </tr>\n",
       "  </thead>\n",
       "  <tbody>\n",
       "    <tr>\n",
       "      <th rowspan=\"2\" valign=\"top\">Articulation</th>\n",
       "      <th>False</th>\n",
       "      <td>3.0</td>\n",
       "      <td>73.803439</td>\n",
       "      <td>20.080849</td>\n",
       "      <td>51.721630</td>\n",
       "      <td>65.219663</td>\n",
       "      <td>78.717696</td>\n",
       "      <td>84.844343</td>\n",
       "      <td>90.970990</td>\n",
       "    </tr>\n",
       "    <tr>\n",
       "      <th>True</th>\n",
       "      <td>6.0</td>\n",
       "      <td>78.886760</td>\n",
       "      <td>13.412183</td>\n",
       "      <td>56.462598</td>\n",
       "      <td>77.714229</td>\n",
       "      <td>78.986999</td>\n",
       "      <td>82.239163</td>\n",
       "      <td>98.270773</td>\n",
       "    </tr>\n",
       "    <tr>\n",
       "      <th rowspan=\"2\" valign=\"top\">Expressive Language</th>\n",
       "      <th>False</th>\n",
       "      <td>14.0</td>\n",
       "      <td>75.171120</td>\n",
       "      <td>24.256958</td>\n",
       "      <td>42.000000</td>\n",
       "      <td>60.226505</td>\n",
       "      <td>65.500000</td>\n",
       "      <td>96.500000</td>\n",
       "      <td>115.000000</td>\n",
       "    </tr>\n",
       "    <tr>\n",
       "      <th>True</th>\n",
       "      <td>20.0</td>\n",
       "      <td>65.343310</td>\n",
       "      <td>17.376545</td>\n",
       "      <td>48.866200</td>\n",
       "      <td>51.500000</td>\n",
       "      <td>62.000000</td>\n",
       "      <td>69.000000</td>\n",
       "      <td>112.000000</td>\n",
       "    </tr>\n",
       "    <tr>\n",
       "      <th rowspan=\"2\" valign=\"top\">Expressive Vocabulary</th>\n",
       "      <th>False</th>\n",
       "      <td>8.0</td>\n",
       "      <td>79.306960</td>\n",
       "      <td>27.376713</td>\n",
       "      <td>30.000000</td>\n",
       "      <td>71.750000</td>\n",
       "      <td>78.637372</td>\n",
       "      <td>86.545234</td>\n",
       "      <td>124.000000</td>\n",
       "    </tr>\n",
       "    <tr>\n",
       "      <th>True</th>\n",
       "      <td>15.0</td>\n",
       "      <td>75.691109</td>\n",
       "      <td>23.064933</td>\n",
       "      <td>20.000000</td>\n",
       "      <td>64.500000</td>\n",
       "      <td>73.000000</td>\n",
       "      <td>92.701415</td>\n",
       "      <td>110.000000</td>\n",
       "    </tr>\n",
       "    <tr>\n",
       "      <th rowspan=\"2\" valign=\"top\">Language</th>\n",
       "      <th>False</th>\n",
       "      <td>14.0</td>\n",
       "      <td>71.875985</td>\n",
       "      <td>27.934802</td>\n",
       "      <td>42.000000</td>\n",
       "      <td>53.500000</td>\n",
       "      <td>57.789406</td>\n",
       "      <td>86.500000</td>\n",
       "      <td>129.000000</td>\n",
       "    </tr>\n",
       "    <tr>\n",
       "      <th>True</th>\n",
       "      <td>19.0</td>\n",
       "      <td>63.094254</td>\n",
       "      <td>17.335585</td>\n",
       "      <td>44.790831</td>\n",
       "      <td>50.500000</td>\n",
       "      <td>58.000000</td>\n",
       "      <td>69.000000</td>\n",
       "      <td>113.000000</td>\n",
       "    </tr>\n",
       "    <tr>\n",
       "      <th rowspan=\"2\" valign=\"top\">Receptive Language</th>\n",
       "      <th>False</th>\n",
       "      <td>14.0</td>\n",
       "      <td>72.026917</td>\n",
       "      <td>27.521984</td>\n",
       "      <td>48.000000</td>\n",
       "      <td>50.162641</td>\n",
       "      <td>64.500000</td>\n",
       "      <td>77.750000</td>\n",
       "      <td>140.000000</td>\n",
       "    </tr>\n",
       "    <tr>\n",
       "      <th>True</th>\n",
       "      <td>19.0</td>\n",
       "      <td>64.200509</td>\n",
       "      <td>13.723710</td>\n",
       "      <td>45.809673</td>\n",
       "      <td>53.500000</td>\n",
       "      <td>64.000000</td>\n",
       "      <td>73.000000</td>\n",
       "      <td>100.000000</td>\n",
       "    </tr>\n",
       "    <tr>\n",
       "      <th rowspan=\"2\" valign=\"top\">Receptive Vocabulary</th>\n",
       "      <th>False</th>\n",
       "      <td>9.0</td>\n",
       "      <td>84.173445</td>\n",
       "      <td>33.543602</td>\n",
       "      <td>44.000000</td>\n",
       "      <td>63.000000</td>\n",
       "      <td>71.000000</td>\n",
       "      <td>95.561004</td>\n",
       "      <td>141.000000</td>\n",
       "    </tr>\n",
       "    <tr>\n",
       "      <th>True</th>\n",
       "      <td>16.0</td>\n",
       "      <td>74.395828</td>\n",
       "      <td>19.382111</td>\n",
       "      <td>34.000000</td>\n",
       "      <td>63.229390</td>\n",
       "      <td>72.500000</td>\n",
       "      <td>85.229645</td>\n",
       "      <td>107.000000</td>\n",
       "    </tr>\n",
       "  </tbody>\n",
       "</table>\n",
       "</div>"
      ],
      "text/plain": [
       "                                         count       mean        std  \\\n",
       "domain                age_amp_greater_6                                \n",
       "Articulation          False                3.0  73.803439  20.080849   \n",
       "                      True                 6.0  78.886760  13.412183   \n",
       "Expressive Language   False               14.0  75.171120  24.256958   \n",
       "                      True                20.0  65.343310  17.376545   \n",
       "Expressive Vocabulary False                8.0  79.306960  27.376713   \n",
       "                      True                15.0  75.691109  23.064933   \n",
       "Language              False               14.0  71.875985  27.934802   \n",
       "                      True                19.0  63.094254  17.335585   \n",
       "Receptive Language    False               14.0  72.026917  27.521984   \n",
       "                      True                19.0  64.200509  13.723710   \n",
       "Receptive Vocabulary  False                9.0  84.173445  33.543602   \n",
       "                      True                16.0  74.395828  19.382111   \n",
       "\n",
       "                                               min        25%        50%  \\\n",
       "domain                age_amp_greater_6                                    \n",
       "Articulation          False              51.721630  65.219663  78.717696   \n",
       "                      True               56.462598  77.714229  78.986999   \n",
       "Expressive Language   False              42.000000  60.226505  65.500000   \n",
       "                      True               48.866200  51.500000  62.000000   \n",
       "Expressive Vocabulary False              30.000000  71.750000  78.637372   \n",
       "                      True               20.000000  64.500000  73.000000   \n",
       "Language              False              42.000000  53.500000  57.789406   \n",
       "                      True               44.790831  50.500000  58.000000   \n",
       "Receptive Language    False              48.000000  50.162641  64.500000   \n",
       "                      True               45.809673  53.500000  64.000000   \n",
       "Receptive Vocabulary  False              44.000000  63.000000  71.000000   \n",
       "                      True               34.000000  63.229390  72.500000   \n",
       "\n",
       "                                               75%         max  \n",
       "domain                age_amp_greater_6                         \n",
       "Articulation          False              84.844343   90.970990  \n",
       "                      True               82.239163   98.270773  \n",
       "Expressive Language   False              96.500000  115.000000  \n",
       "                      True               69.000000  112.000000  \n",
       "Expressive Vocabulary False              86.545234  124.000000  \n",
       "                      True               92.701415  110.000000  \n",
       "Language              False              86.500000  129.000000  \n",
       "                      True               69.000000  113.000000  \n",
       "Receptive Language    False              77.750000  140.000000  \n",
       "                      True               73.000000  100.000000  \n",
       "Receptive Vocabulary  False              95.561004  141.000000  \n",
       "                      True               85.229645  107.000000  "
      ]
     },
     "execution_count": 43,
     "metadata": {},
     "output_type": "execute_result"
    }
   ],
   "source": [
    "(test_scores.assign(age_amp_greater_6=test_scores.age_amp>6)\n",
    "         .groupby(['domain', 'age_amp_greater_6'])\n",
    "         .score_adj.describe())"
   ]
  },
  {
   "cell_type": "markdown",
   "metadata": {},
   "source": [
    "Age of enrollment greater than 6mo."
   ]
  },
  {
   "cell_type": "code",
   "execution_count": 42,
   "metadata": {},
   "outputs": [
    {
     "data": {
      "text/html": [
       "<div>\n",
       "<style scoped>\n",
       "    .dataframe tbody tr th:only-of-type {\n",
       "        vertical-align: middle;\n",
       "    }\n",
       "\n",
       "    .dataframe tbody tr th {\n",
       "        vertical-align: top;\n",
       "    }\n",
       "\n",
       "    .dataframe thead th {\n",
       "        text-align: right;\n",
       "    }\n",
       "</style>\n",
       "<table border=\"1\" class=\"dataframe\">\n",
       "  <thead>\n",
       "    <tr style=\"text-align: right;\">\n",
       "      <th></th>\n",
       "      <th></th>\n",
       "      <th>count</th>\n",
       "      <th>mean</th>\n",
       "      <th>std</th>\n",
       "      <th>min</th>\n",
       "      <th>25%</th>\n",
       "      <th>50%</th>\n",
       "      <th>75%</th>\n",
       "      <th>max</th>\n",
       "    </tr>\n",
       "    <tr>\n",
       "      <th>domain</th>\n",
       "      <th>age_enroll_greater_6</th>\n",
       "      <th></th>\n",
       "      <th></th>\n",
       "      <th></th>\n",
       "      <th></th>\n",
       "      <th></th>\n",
       "      <th></th>\n",
       "      <th></th>\n",
       "      <th></th>\n",
       "    </tr>\n",
       "  </thead>\n",
       "  <tbody>\n",
       "    <tr>\n",
       "      <th rowspan=\"2\" valign=\"top\">Articulation</th>\n",
       "      <th>False</th>\n",
       "      <td>3.0</td>\n",
       "      <td>82.734837</td>\n",
       "      <td>7.133432</td>\n",
       "      <td>78.515824</td>\n",
       "      <td>78.616760</td>\n",
       "      <td>78.717696</td>\n",
       "      <td>84.844343</td>\n",
       "      <td>90.970990</td>\n",
       "    </tr>\n",
       "    <tr>\n",
       "      <th>True</th>\n",
       "      <td>6.0</td>\n",
       "      <td>74.421061</td>\n",
       "      <td>17.421740</td>\n",
       "      <td>51.721630</td>\n",
       "      <td>61.708706</td>\n",
       "      <td>78.452603</td>\n",
       "      <td>82.239163</td>\n",
       "      <td>98.270773</td>\n",
       "    </tr>\n",
       "    <tr>\n",
       "      <th rowspan=\"2\" valign=\"top\">Expressive Language</th>\n",
       "      <th>False</th>\n",
       "      <td>14.0</td>\n",
       "      <td>71.028263</td>\n",
       "      <td>24.230883</td>\n",
       "      <td>42.000000</td>\n",
       "      <td>54.250000</td>\n",
       "      <td>62.500000</td>\n",
       "      <td>82.282155</td>\n",
       "      <td>115.000000</td>\n",
       "    </tr>\n",
       "    <tr>\n",
       "      <th>True</th>\n",
       "      <td>20.0</td>\n",
       "      <td>68.243310</td>\n",
       "      <td>18.474617</td>\n",
       "      <td>48.866200</td>\n",
       "      <td>54.500000</td>\n",
       "      <td>64.000000</td>\n",
       "      <td>73.750000</td>\n",
       "      <td>112.000000</td>\n",
       "    </tr>\n",
       "    <tr>\n",
       "      <th rowspan=\"2\" valign=\"top\">Expressive Vocabulary</th>\n",
       "      <th>False</th>\n",
       "      <td>10.0</td>\n",
       "      <td>79.118094</td>\n",
       "      <td>27.140741</td>\n",
       "      <td>30.000000</td>\n",
       "      <td>67.000000</td>\n",
       "      <td>77.500000</td>\n",
       "      <td>97.635702</td>\n",
       "      <td>124.000000</td>\n",
       "    </tr>\n",
       "    <tr>\n",
       "      <th>True</th>\n",
       "      <td>13.0</td>\n",
       "      <td>75.280106</td>\n",
       "      <td>22.452998</td>\n",
       "      <td>20.000000</td>\n",
       "      <td>68.000000</td>\n",
       "      <td>76.274745</td>\n",
       "      <td>92.402830</td>\n",
       "      <td>110.000000</td>\n",
       "    </tr>\n",
       "    <tr>\n",
       "      <th rowspan=\"2\" valign=\"top\">Language</th>\n",
       "      <th>False</th>\n",
       "      <td>14.0</td>\n",
       "      <td>69.161699</td>\n",
       "      <td>27.989041</td>\n",
       "      <td>42.000000</td>\n",
       "      <td>51.500000</td>\n",
       "      <td>55.789406</td>\n",
       "      <td>76.777444</td>\n",
       "      <td>129.000000</td>\n",
       "    </tr>\n",
       "    <tr>\n",
       "      <th>True</th>\n",
       "      <td>19.0</td>\n",
       "      <td>65.094254</td>\n",
       "      <td>18.040451</td>\n",
       "      <td>44.790831</td>\n",
       "      <td>51.500000</td>\n",
       "      <td>59.000000</td>\n",
       "      <td>72.000000</td>\n",
       "      <td>113.000000</td>\n",
       "    </tr>\n",
       "    <tr>\n",
       "      <th rowspan=\"2\" valign=\"top\">Receptive Language</th>\n",
       "      <th>False</th>\n",
       "      <td>14.0</td>\n",
       "      <td>70.884060</td>\n",
       "      <td>27.820234</td>\n",
       "      <td>48.000000</td>\n",
       "      <td>50.162641</td>\n",
       "      <td>61.798828</td>\n",
       "      <td>73.750000</td>\n",
       "      <td>140.000000</td>\n",
       "    </tr>\n",
       "    <tr>\n",
       "      <th>True</th>\n",
       "      <td>19.0</td>\n",
       "      <td>65.042614</td>\n",
       "      <td>13.732027</td>\n",
       "      <td>45.809673</td>\n",
       "      <td>55.500000</td>\n",
       "      <td>64.000000</td>\n",
       "      <td>75.000000</td>\n",
       "      <td>100.000000</td>\n",
       "    </tr>\n",
       "    <tr>\n",
       "      <th rowspan=\"2\" valign=\"top\">Receptive Vocabulary</th>\n",
       "      <th>False</th>\n",
       "      <td>11.0</td>\n",
       "      <td>84.960091</td>\n",
       "      <td>31.171329</td>\n",
       "      <td>44.000000</td>\n",
       "      <td>66.500000</td>\n",
       "      <td>71.000000</td>\n",
       "      <td>101.280502</td>\n",
       "      <td>141.000000</td>\n",
       "    </tr>\n",
       "    <tr>\n",
       "      <th>True</th>\n",
       "      <td>14.0</td>\n",
       "      <td>72.380946</td>\n",
       "      <td>18.596529</td>\n",
       "      <td>34.000000</td>\n",
       "      <td>59.688169</td>\n",
       "      <td>72.500000</td>\n",
       "      <td>84.229645</td>\n",
       "      <td>103.000000</td>\n",
       "    </tr>\n",
       "  </tbody>\n",
       "</table>\n",
       "</div>"
      ],
      "text/plain": [
       "                                            count       mean        std  \\\n",
       "domain                age_enroll_greater_6                                \n",
       "Articulation          False                   3.0  82.734837   7.133432   \n",
       "                      True                    6.0  74.421061  17.421740   \n",
       "Expressive Language   False                  14.0  71.028263  24.230883   \n",
       "                      True                   20.0  68.243310  18.474617   \n",
       "Expressive Vocabulary False                  10.0  79.118094  27.140741   \n",
       "                      True                   13.0  75.280106  22.452998   \n",
       "Language              False                  14.0  69.161699  27.989041   \n",
       "                      True                   19.0  65.094254  18.040451   \n",
       "Receptive Language    False                  14.0  70.884060  27.820234   \n",
       "                      True                   19.0  65.042614  13.732027   \n",
       "Receptive Vocabulary  False                  11.0  84.960091  31.171329   \n",
       "                      True                   14.0  72.380946  18.596529   \n",
       "\n",
       "                                                  min        25%        50%  \\\n",
       "domain                age_enroll_greater_6                                    \n",
       "Articulation          False                 78.515824  78.616760  78.717696   \n",
       "                      True                  51.721630  61.708706  78.452603   \n",
       "Expressive Language   False                 42.000000  54.250000  62.500000   \n",
       "                      True                  48.866200  54.500000  64.000000   \n",
       "Expressive Vocabulary False                 30.000000  67.000000  77.500000   \n",
       "                      True                  20.000000  68.000000  76.274745   \n",
       "Language              False                 42.000000  51.500000  55.789406   \n",
       "                      True                  44.790831  51.500000  59.000000   \n",
       "Receptive Language    False                 48.000000  50.162641  61.798828   \n",
       "                      True                  45.809673  55.500000  64.000000   \n",
       "Receptive Vocabulary  False                 44.000000  66.500000  71.000000   \n",
       "                      True                  34.000000  59.688169  72.500000   \n",
       "\n",
       "                                                   75%         max  \n",
       "domain                age_enroll_greater_6                          \n",
       "Articulation          False                  84.844343   90.970990  \n",
       "                      True                   82.239163   98.270773  \n",
       "Expressive Language   False                  82.282155  115.000000  \n",
       "                      True                   73.750000  112.000000  \n",
       "Expressive Vocabulary False                  97.635702  124.000000  \n",
       "                      True                   92.402830  110.000000  \n",
       "Language              False                  76.777444  129.000000  \n",
       "                      True                   72.000000  113.000000  \n",
       "Receptive Language    False                  73.750000  140.000000  \n",
       "                      True                   75.000000  100.000000  \n",
       "Receptive Vocabulary  False                 101.280502  141.000000  \n",
       "                      True                   84.229645  103.000000  "
      ]
     },
     "execution_count": 42,
     "metadata": {},
     "output_type": "execute_result"
    }
   ],
   "source": [
    "(test_scores.assign(age_enroll_greater_6=test_scores.age_int>6)\n",
    "         .groupby(['domain', 'age_enroll_greater_6'])\n",
    "         .score_adj.describe())"
   ]
  },
  {
   "cell_type": "markdown",
   "metadata": {},
   "source": [
    "(Non-)Profound hearing loss"
   ]
  },
  {
   "cell_type": "code",
   "execution_count": 44,
   "metadata": {},
   "outputs": [
    {
     "data": {
      "text/html": [
       "<div>\n",
       "<style scoped>\n",
       "    .dataframe tbody tr th:only-of-type {\n",
       "        vertical-align: middle;\n",
       "    }\n",
       "\n",
       "    .dataframe tbody tr th {\n",
       "        vertical-align: top;\n",
       "    }\n",
       "\n",
       "    .dataframe thead th {\n",
       "        text-align: right;\n",
       "    }\n",
       "</style>\n",
       "<table border=\"1\" class=\"dataframe\">\n",
       "  <thead>\n",
       "    <tr style=\"text-align: right;\">\n",
       "      <th></th>\n",
       "      <th></th>\n",
       "      <th>count</th>\n",
       "      <th>mean</th>\n",
       "      <th>std</th>\n",
       "      <th>min</th>\n",
       "      <th>25%</th>\n",
       "      <th>50%</th>\n",
       "      <th>75%</th>\n",
       "      <th>max</th>\n",
       "    </tr>\n",
       "    <tr>\n",
       "      <th>domain</th>\n",
       "      <th>profound_hl</th>\n",
       "      <th></th>\n",
       "      <th></th>\n",
       "      <th></th>\n",
       "      <th></th>\n",
       "      <th></th>\n",
       "      <th></th>\n",
       "      <th></th>\n",
       "      <th></th>\n",
       "    </tr>\n",
       "  </thead>\n",
       "  <tbody>\n",
       "    <tr>\n",
       "      <th rowspan=\"2\" valign=\"top\">Articulation</th>\n",
       "      <th>False</th>\n",
       "      <td>6.0</td>\n",
       "      <td>80.064152</td>\n",
       "      <td>14.272583</td>\n",
       "      <td>56.462598</td>\n",
       "      <td>77.714229</td>\n",
       "      <td>78.616760</td>\n",
       "      <td>87.907667</td>\n",
       "      <td>98.270773</td>\n",
       "    </tr>\n",
       "    <tr>\n",
       "      <th>True</th>\n",
       "      <td>3.0</td>\n",
       "      <td>71.448655</td>\n",
       "      <td>17.184409</td>\n",
       "      <td>51.721630</td>\n",
       "      <td>65.589902</td>\n",
       "      <td>79.458174</td>\n",
       "      <td>81.312167</td>\n",
       "      <td>83.166159</td>\n",
       "    </tr>\n",
       "    <tr>\n",
       "      <th rowspan=\"2\" valign=\"top\">Expressive Language</th>\n",
       "      <th>False</th>\n",
       "      <td>15.0</td>\n",
       "      <td>67.617804</td>\n",
       "      <td>18.860711</td>\n",
       "      <td>49.631723</td>\n",
       "      <td>54.500000</td>\n",
       "      <td>62.000000</td>\n",
       "      <td>77.000000</td>\n",
       "      <td>112.000000</td>\n",
       "    </tr>\n",
       "    <tr>\n",
       "      <th>True</th>\n",
       "      <td>19.0</td>\n",
       "      <td>70.789201</td>\n",
       "      <td>22.505650</td>\n",
       "      <td>42.000000</td>\n",
       "      <td>53.500000</td>\n",
       "      <td>65.000000</td>\n",
       "      <td>78.564310</td>\n",
       "      <td>115.000000</td>\n",
       "    </tr>\n",
       "    <tr>\n",
       "      <th rowspan=\"2\" valign=\"top\">Expressive Vocabulary</th>\n",
       "      <th>False</th>\n",
       "      <td>10.0</td>\n",
       "      <td>77.240283</td>\n",
       "      <td>23.616543</td>\n",
       "      <td>30.000000</td>\n",
       "      <td>70.750000</td>\n",
       "      <td>77.500000</td>\n",
       "      <td>89.802122</td>\n",
       "      <td>110.000000</td>\n",
       "    </tr>\n",
       "    <tr>\n",
       "      <th>True</th>\n",
       "      <td>13.0</td>\n",
       "      <td>76.724576</td>\n",
       "      <td>25.398996</td>\n",
       "      <td>20.000000</td>\n",
       "      <td>65.000000</td>\n",
       "      <td>76.274745</td>\n",
       "      <td>93.000000</td>\n",
       "      <td>124.000000</td>\n",
       "    </tr>\n",
       "    <tr>\n",
       "      <th rowspan=\"2\" valign=\"top\">Language</th>\n",
       "      <th>False</th>\n",
       "      <td>14.0</td>\n",
       "      <td>64.082429</td>\n",
       "      <td>18.865114</td>\n",
       "      <td>46.575196</td>\n",
       "      <td>52.000000</td>\n",
       "      <td>57.500000</td>\n",
       "      <td>65.750000</td>\n",
       "      <td>113.000000</td>\n",
       "    </tr>\n",
       "    <tr>\n",
       "      <th>True</th>\n",
       "      <td>19.0</td>\n",
       "      <td>68.836874</td>\n",
       "      <td>25.129454</td>\n",
       "      <td>42.000000</td>\n",
       "      <td>51.500000</td>\n",
       "      <td>59.000000</td>\n",
       "      <td>76.000000</td>\n",
       "      <td>129.000000</td>\n",
       "    </tr>\n",
       "    <tr>\n",
       "      <th rowspan=\"2\" valign=\"top\">Receptive Language</th>\n",
       "      <th>False</th>\n",
       "      <td>14.0</td>\n",
       "      <td>65.160587</td>\n",
       "      <td>13.186065</td>\n",
       "      <td>48.000000</td>\n",
       "      <td>57.149414</td>\n",
       "      <td>64.500000</td>\n",
       "      <td>71.250000</td>\n",
       "      <td>100.000000</td>\n",
       "    </tr>\n",
       "    <tr>\n",
       "      <th>True</th>\n",
       "      <td>19.0</td>\n",
       "      <td>69.259910</td>\n",
       "      <td>25.094310</td>\n",
       "      <td>45.809673</td>\n",
       "      <td>50.000000</td>\n",
       "      <td>63.000000</td>\n",
       "      <td>78.000000</td>\n",
       "      <td>140.000000</td>\n",
       "    </tr>\n",
       "    <tr>\n",
       "      <th rowspan=\"2\" valign=\"top\">Receptive Vocabulary</th>\n",
       "      <th>False</th>\n",
       "      <td>11.0</td>\n",
       "      <td>74.949348</td>\n",
       "      <td>20.267062</td>\n",
       "      <td>44.000000</td>\n",
       "      <td>61.500000</td>\n",
       "      <td>70.000000</td>\n",
       "      <td>88.221413</td>\n",
       "      <td>107.000000</td>\n",
       "    </tr>\n",
       "    <tr>\n",
       "      <th>True</th>\n",
       "      <td>14.0</td>\n",
       "      <td>80.246530</td>\n",
       "      <td>28.965042</td>\n",
       "      <td>34.000000</td>\n",
       "      <td>65.500000</td>\n",
       "      <td>75.500000</td>\n",
       "      <td>85.743215</td>\n",
       "      <td>141.000000</td>\n",
       "    </tr>\n",
       "  </tbody>\n",
       "</table>\n",
       "</div>"
      ],
      "text/plain": [
       "                                   count       mean        std        min  \\\n",
       "domain                profound_hl                                           \n",
       "Articulation          False          6.0  80.064152  14.272583  56.462598   \n",
       "                      True           3.0  71.448655  17.184409  51.721630   \n",
       "Expressive Language   False         15.0  67.617804  18.860711  49.631723   \n",
       "                      True          19.0  70.789201  22.505650  42.000000   \n",
       "Expressive Vocabulary False         10.0  77.240283  23.616543  30.000000   \n",
       "                      True          13.0  76.724576  25.398996  20.000000   \n",
       "Language              False         14.0  64.082429  18.865114  46.575196   \n",
       "                      True          19.0  68.836874  25.129454  42.000000   \n",
       "Receptive Language    False         14.0  65.160587  13.186065  48.000000   \n",
       "                      True          19.0  69.259910  25.094310  45.809673   \n",
       "Receptive Vocabulary  False         11.0  74.949348  20.267062  44.000000   \n",
       "                      True          14.0  80.246530  28.965042  34.000000   \n",
       "\n",
       "                                         25%        50%        75%         max  \n",
       "domain                profound_hl                                               \n",
       "Articulation          False        77.714229  78.616760  87.907667   98.270773  \n",
       "                      True         65.589902  79.458174  81.312167   83.166159  \n",
       "Expressive Language   False        54.500000  62.000000  77.000000  112.000000  \n",
       "                      True         53.500000  65.000000  78.564310  115.000000  \n",
       "Expressive Vocabulary False        70.750000  77.500000  89.802122  110.000000  \n",
       "                      True         65.000000  76.274745  93.000000  124.000000  \n",
       "Language              False        52.000000  57.500000  65.750000  113.000000  \n",
       "                      True         51.500000  59.000000  76.000000  129.000000  \n",
       "Receptive Language    False        57.149414  64.500000  71.250000  100.000000  \n",
       "                      True         50.000000  63.000000  78.000000  140.000000  \n",
       "Receptive Vocabulary  False        61.500000  70.000000  88.221413  107.000000  \n",
       "                      True         65.500000  75.500000  85.743215  141.000000  "
      ]
     },
     "execution_count": 44,
     "metadata": {},
     "output_type": "execute_result"
    }
   ],
   "source": [
    "(test_scores.assign(profound_hl=test_scores.degree_hl==6)\n",
    "         .groupby(['domain', 'profound_hl'])\n",
    "         .score_adj.describe())"
   ]
  },
  {
   "cell_type": "markdown",
   "metadata": {},
   "source": [
    "Parent with(out) hearing loss"
   ]
  },
  {
   "cell_type": "code",
   "execution_count": 45,
   "metadata": {},
   "outputs": [
    {
     "data": {
      "text/html": [
       "<div>\n",
       "<style scoped>\n",
       "    .dataframe tbody tr th:only-of-type {\n",
       "        vertical-align: middle;\n",
       "    }\n",
       "\n",
       "    .dataframe tbody tr th {\n",
       "        vertical-align: top;\n",
       "    }\n",
       "\n",
       "    .dataframe thead th {\n",
       "        text-align: right;\n",
       "    }\n",
       "</style>\n",
       "<table border=\"1\" class=\"dataframe\">\n",
       "  <thead>\n",
       "    <tr style=\"text-align: right;\">\n",
       "      <th></th>\n",
       "      <th></th>\n",
       "      <th>count</th>\n",
       "      <th>mean</th>\n",
       "      <th>std</th>\n",
       "      <th>min</th>\n",
       "      <th>25%</th>\n",
       "      <th>50%</th>\n",
       "      <th>75%</th>\n",
       "      <th>max</th>\n",
       "    </tr>\n",
       "    <tr>\n",
       "      <th>domain</th>\n",
       "      <th>parent_with_hl</th>\n",
       "      <th></th>\n",
       "      <th></th>\n",
       "      <th></th>\n",
       "      <th></th>\n",
       "      <th></th>\n",
       "      <th></th>\n",
       "      <th></th>\n",
       "      <th></th>\n",
       "    </tr>\n",
       "  </thead>\n",
       "  <tbody>\n",
       "    <tr>\n",
       "      <th rowspan=\"2\" valign=\"top\">Articulation</th>\n",
       "      <th>False</th>\n",
       "      <td>7.0</td>\n",
       "      <td>74.900245</td>\n",
       "      <td>15.946961</td>\n",
       "      <td>51.721630</td>\n",
       "      <td>66.954815</td>\n",
       "      <td>78.515824</td>\n",
       "      <td>80.941928</td>\n",
       "      <td>98.270773</td>\n",
       "    </tr>\n",
       "    <tr>\n",
       "      <th>True</th>\n",
       "      <td>2.0</td>\n",
       "      <td>85.214582</td>\n",
       "      <td>8.140790</td>\n",
       "      <td>79.458174</td>\n",
       "      <td>82.336378</td>\n",
       "      <td>85.214582</td>\n",
       "      <td>88.092786</td>\n",
       "      <td>90.970990</td>\n",
       "    </tr>\n",
       "    <tr>\n",
       "      <th rowspan=\"2\" valign=\"top\">Expressive Language</th>\n",
       "      <th>False</th>\n",
       "      <td>32.0</td>\n",
       "      <td>70.262365</td>\n",
       "      <td>21.007959</td>\n",
       "      <td>42.000000</td>\n",
       "      <td>54.750000</td>\n",
       "      <td>64.000000</td>\n",
       "      <td>86.500000</td>\n",
       "      <td>115.000000</td>\n",
       "    </tr>\n",
       "    <tr>\n",
       "      <th>True</th>\n",
       "      <td>2.0</td>\n",
       "      <td>55.433100</td>\n",
       "      <td>9.286999</td>\n",
       "      <td>48.866200</td>\n",
       "      <td>52.149650</td>\n",
       "      <td>55.433100</td>\n",
       "      <td>58.716550</td>\n",
       "      <td>62.000000</td>\n",
       "    </tr>\n",
       "    <tr>\n",
       "      <th rowspan=\"2\" valign=\"top\">Expressive Vocabulary</th>\n",
       "      <th>False</th>\n",
       "      <td>21.0</td>\n",
       "      <td>77.515348</td>\n",
       "      <td>24.984959</td>\n",
       "      <td>20.000000</td>\n",
       "      <td>68.000000</td>\n",
       "      <td>76.274745</td>\n",
       "      <td>93.000000</td>\n",
       "      <td>124.000000</td>\n",
       "    </tr>\n",
       "    <tr>\n",
       "      <th>True</th>\n",
       "      <td>2.0</td>\n",
       "      <td>71.000000</td>\n",
       "      <td>14.142136</td>\n",
       "      <td>61.000000</td>\n",
       "      <td>66.000000</td>\n",
       "      <td>71.000000</td>\n",
       "      <td>76.000000</td>\n",
       "      <td>81.000000</td>\n",
       "    </tr>\n",
       "    <tr>\n",
       "      <th rowspan=\"2\" valign=\"top\">Language</th>\n",
       "      <th>False</th>\n",
       "      <td>31.0</td>\n",
       "      <td>67.911735</td>\n",
       "      <td>22.740328</td>\n",
       "      <td>42.000000</td>\n",
       "      <td>52.000000</td>\n",
       "      <td>59.000000</td>\n",
       "      <td>76.000000</td>\n",
       "      <td>129.000000</td>\n",
       "    </tr>\n",
       "    <tr>\n",
       "      <th>True</th>\n",
       "      <td>2.0</td>\n",
       "      <td>49.895415</td>\n",
       "      <td>7.218973</td>\n",
       "      <td>44.790831</td>\n",
       "      <td>47.343123</td>\n",
       "      <td>49.895415</td>\n",
       "      <td>52.447708</td>\n",
       "      <td>55.000000</td>\n",
       "    </tr>\n",
       "    <tr>\n",
       "      <th rowspan=\"2\" valign=\"top\">Receptive Language</th>\n",
       "      <th>False</th>\n",
       "      <td>31.0</td>\n",
       "      <td>68.270221</td>\n",
       "      <td>21.007726</td>\n",
       "      <td>46.000000</td>\n",
       "      <td>51.825282</td>\n",
       "      <td>64.000000</td>\n",
       "      <td>75.500000</td>\n",
       "      <td>140.000000</td>\n",
       "    </tr>\n",
       "    <tr>\n",
       "      <th>True</th>\n",
       "      <td>2.0</td>\n",
       "      <td>55.904837</td>\n",
       "      <td>14.276717</td>\n",
       "      <td>45.809673</td>\n",
       "      <td>50.857255</td>\n",
       "      <td>55.904837</td>\n",
       "      <td>60.952418</td>\n",
       "      <td>66.000000</td>\n",
       "    </tr>\n",
       "    <tr>\n",
       "      <th rowspan=\"2\" valign=\"top\">Receptive Vocabulary</th>\n",
       "      <th>False</th>\n",
       "      <td>23.0</td>\n",
       "      <td>78.951924</td>\n",
       "      <td>25.752653</td>\n",
       "      <td>34.000000</td>\n",
       "      <td>64.000000</td>\n",
       "      <td>71.000000</td>\n",
       "      <td>90.780502</td>\n",
       "      <td>141.000000</td>\n",
       "    </tr>\n",
       "    <tr>\n",
       "      <th>True</th>\n",
       "      <td>2.0</td>\n",
       "      <td>66.000000</td>\n",
       "      <td>16.970563</td>\n",
       "      <td>54.000000</td>\n",
       "      <td>60.000000</td>\n",
       "      <td>66.000000</td>\n",
       "      <td>72.000000</td>\n",
       "      <td>78.000000</td>\n",
       "    </tr>\n",
       "  </tbody>\n",
       "</table>\n",
       "</div>"
      ],
      "text/plain": [
       "                                      count       mean        std        min  \\\n",
       "domain                parent_with_hl                                           \n",
       "Articulation          False             7.0  74.900245  15.946961  51.721630   \n",
       "                      True              2.0  85.214582   8.140790  79.458174   \n",
       "Expressive Language   False            32.0  70.262365  21.007959  42.000000   \n",
       "                      True              2.0  55.433100   9.286999  48.866200   \n",
       "Expressive Vocabulary False            21.0  77.515348  24.984959  20.000000   \n",
       "                      True              2.0  71.000000  14.142136  61.000000   \n",
       "Language              False            31.0  67.911735  22.740328  42.000000   \n",
       "                      True              2.0  49.895415   7.218973  44.790831   \n",
       "Receptive Language    False            31.0  68.270221  21.007726  46.000000   \n",
       "                      True              2.0  55.904837  14.276717  45.809673   \n",
       "Receptive Vocabulary  False            23.0  78.951924  25.752653  34.000000   \n",
       "                      True              2.0  66.000000  16.970563  54.000000   \n",
       "\n",
       "                                            25%        50%        75%  \\\n",
       "domain                parent_with_hl                                    \n",
       "Articulation          False           66.954815  78.515824  80.941928   \n",
       "                      True            82.336378  85.214582  88.092786   \n",
       "Expressive Language   False           54.750000  64.000000  86.500000   \n",
       "                      True            52.149650  55.433100  58.716550   \n",
       "Expressive Vocabulary False           68.000000  76.274745  93.000000   \n",
       "                      True            66.000000  71.000000  76.000000   \n",
       "Language              False           52.000000  59.000000  76.000000   \n",
       "                      True            47.343123  49.895415  52.447708   \n",
       "Receptive Language    False           51.825282  64.000000  75.500000   \n",
       "                      True            50.857255  55.904837  60.952418   \n",
       "Receptive Vocabulary  False           64.000000  71.000000  90.780502   \n",
       "                      True            60.000000  66.000000  72.000000   \n",
       "\n",
       "                                             max  \n",
       "domain                parent_with_hl              \n",
       "Articulation          False            98.270773  \n",
       "                      True             90.970990  \n",
       "Expressive Language   False           115.000000  \n",
       "                      True             62.000000  \n",
       "Expressive Vocabulary False           124.000000  \n",
       "                      True             81.000000  \n",
       "Language              False           129.000000  \n",
       "                      True             55.000000  \n",
       "Receptive Language    False           140.000000  \n",
       "                      True             66.000000  \n",
       "Receptive Vocabulary  False           141.000000  \n",
       "                      True             78.000000  "
      ]
     },
     "execution_count": 45,
     "metadata": {},
     "output_type": "execute_result"
    }
   ],
   "source": [
    "test_scores.loc[test_scores.parent_hearing_loss=='Unknown', 'parent_hearing_loss'] = np.nan\n",
    "(test_scores.assign(parent_with_hl=test_scores.parent_hearing_loss.isin(['Both parents have hearing loss',\n",
    "                                                                       'Father has hearing loss',\n",
    "                                                                       'Mother has hearing loss']))\n",
    "         .groupby(['domain', 'parent_with_hl'])\n",
    "         .score_adj.describe())"
   ]
  },
  {
   "cell_type": "markdown",
   "metadata": {},
   "source": [
    "Mother with(out) college education"
   ]
  },
  {
   "cell_type": "code",
   "execution_count": 46,
   "metadata": {},
   "outputs": [
    {
     "data": {
      "text/html": [
       "<div>\n",
       "<style scoped>\n",
       "    .dataframe tbody tr th:only-of-type {\n",
       "        vertical-align: middle;\n",
       "    }\n",
       "\n",
       "    .dataframe tbody tr th {\n",
       "        vertical-align: top;\n",
       "    }\n",
       "\n",
       "    .dataframe thead th {\n",
       "        text-align: right;\n",
       "    }\n",
       "</style>\n",
       "<table border=\"1\" class=\"dataframe\">\n",
       "  <thead>\n",
       "    <tr style=\"text-align: right;\">\n",
       "      <th></th>\n",
       "      <th></th>\n",
       "      <th>count</th>\n",
       "      <th>mean</th>\n",
       "      <th>std</th>\n",
       "      <th>min</th>\n",
       "      <th>25%</th>\n",
       "      <th>50%</th>\n",
       "      <th>75%</th>\n",
       "      <th>max</th>\n",
       "    </tr>\n",
       "    <tr>\n",
       "      <th>domain</th>\n",
       "      <th>mother_college</th>\n",
       "      <th></th>\n",
       "      <th></th>\n",
       "      <th></th>\n",
       "      <th></th>\n",
       "      <th></th>\n",
       "      <th></th>\n",
       "      <th></th>\n",
       "      <th></th>\n",
       "    </tr>\n",
       "  </thead>\n",
       "  <tbody>\n",
       "    <tr>\n",
       "      <th rowspan=\"2\" valign=\"top\">Articulation</th>\n",
       "      <th>0.0</th>\n",
       "      <td>5.0</td>\n",
       "      <td>81.477269</td>\n",
       "      <td>15.886384</td>\n",
       "      <td>56.462598</td>\n",
       "      <td>78.515824</td>\n",
       "      <td>83.166159</td>\n",
       "      <td>90.970990</td>\n",
       "      <td>98.270773</td>\n",
       "    </tr>\n",
       "    <tr>\n",
       "      <th>1.0</th>\n",
       "      <td>3.0</td>\n",
       "      <td>78.540967</td>\n",
       "      <td>1.017152</td>\n",
       "      <td>77.447031</td>\n",
       "      <td>78.082364</td>\n",
       "      <td>78.717696</td>\n",
       "      <td>79.087935</td>\n",
       "      <td>79.458174</td>\n",
       "    </tr>\n",
       "    <tr>\n",
       "      <th rowspan=\"2\" valign=\"top\">Expressive Language</th>\n",
       "      <th>0.0</th>\n",
       "      <td>18.0</td>\n",
       "      <td>67.340479</td>\n",
       "      <td>16.951416</td>\n",
       "      <td>42.000000</td>\n",
       "      <td>56.250000</td>\n",
       "      <td>64.000000</td>\n",
       "      <td>70.596464</td>\n",
       "      <td>108.000000</td>\n",
       "    </tr>\n",
       "    <tr>\n",
       "      <th>1.0</th>\n",
       "      <td>6.0</td>\n",
       "      <td>80.916923</td>\n",
       "      <td>26.922067</td>\n",
       "      <td>48.866200</td>\n",
       "      <td>61.226505</td>\n",
       "      <td>77.000000</td>\n",
       "      <td>105.250000</td>\n",
       "      <td>112.000000</td>\n",
       "    </tr>\n",
       "    <tr>\n",
       "      <th rowspan=\"2\" valign=\"top\">Expressive Vocabulary</th>\n",
       "      <th>0.0</th>\n",
       "      <td>14.0</td>\n",
       "      <td>77.010339</td>\n",
       "      <td>21.794083</td>\n",
       "      <td>20.000000</td>\n",
       "      <td>68.750000</td>\n",
       "      <td>80.023123</td>\n",
       "      <td>90.250000</td>\n",
       "      <td>106.000000</td>\n",
       "    </tr>\n",
       "    <tr>\n",
       "      <th>1.0</th>\n",
       "      <td>4.0</td>\n",
       "      <td>84.350707</td>\n",
       "      <td>21.409621</td>\n",
       "      <td>61.000000</td>\n",
       "      <td>70.750000</td>\n",
       "      <td>83.201415</td>\n",
       "      <td>96.802122</td>\n",
       "      <td>110.000000</td>\n",
       "    </tr>\n",
       "    <tr>\n",
       "      <th rowspan=\"2\" valign=\"top\">Language</th>\n",
       "      <th>0.0</th>\n",
       "      <td>17.0</td>\n",
       "      <td>65.124105</td>\n",
       "      <td>16.931568</td>\n",
       "      <td>42.000000</td>\n",
       "      <td>55.000000</td>\n",
       "      <td>62.000000</td>\n",
       "      <td>71.000000</td>\n",
       "      <td>109.000000</td>\n",
       "    </tr>\n",
       "    <tr>\n",
       "      <th>1.0</th>\n",
       "      <td>6.0</td>\n",
       "      <td>77.394941</td>\n",
       "      <td>30.392498</td>\n",
       "      <td>44.790831</td>\n",
       "      <td>55.394703</td>\n",
       "      <td>68.789406</td>\n",
       "      <td>105.000000</td>\n",
       "      <td>114.000000</td>\n",
       "    </tr>\n",
       "    <tr>\n",
       "      <th rowspan=\"2\" valign=\"top\">Receptive Language</th>\n",
       "      <th>0.0</th>\n",
       "      <td>17.0</td>\n",
       "      <td>66.419331</td>\n",
       "      <td>13.872891</td>\n",
       "      <td>46.000000</td>\n",
       "      <td>59.000000</td>\n",
       "      <td>66.000000</td>\n",
       "      <td>73.000000</td>\n",
       "      <td>102.000000</td>\n",
       "    </tr>\n",
       "    <tr>\n",
       "      <th>1.0</th>\n",
       "      <td>6.0</td>\n",
       "      <td>73.234555</td>\n",
       "      <td>26.631620</td>\n",
       "      <td>45.809673</td>\n",
       "      <td>51.899414</td>\n",
       "      <td>67.298828</td>\n",
       "      <td>94.250000</td>\n",
       "      <td>109.000000</td>\n",
       "    </tr>\n",
       "    <tr>\n",
       "      <th rowspan=\"2\" valign=\"top\">Receptive Vocabulary</th>\n",
       "      <th>0.0</th>\n",
       "      <td>16.0</td>\n",
       "      <td>74.590714</td>\n",
       "      <td>16.279522</td>\n",
       "      <td>34.000000</td>\n",
       "      <td>69.250000</td>\n",
       "      <td>73.000000</td>\n",
       "      <td>82.743215</td>\n",
       "      <td>107.000000</td>\n",
       "    </tr>\n",
       "    <tr>\n",
       "      <th>1.0</th>\n",
       "      <td>5.0</td>\n",
       "      <td>90.088565</td>\n",
       "      <td>33.396265</td>\n",
       "      <td>54.000000</td>\n",
       "      <td>60.000000</td>\n",
       "      <td>98.442827</td>\n",
       "      <td>103.000000</td>\n",
       "      <td>135.000000</td>\n",
       "    </tr>\n",
       "  </tbody>\n",
       "</table>\n",
       "</div>"
      ],
      "text/plain": [
       "                                      count       mean        std        min  \\\n",
       "domain                mother_college                                           \n",
       "Articulation          0.0               5.0  81.477269  15.886384  56.462598   \n",
       "                      1.0               3.0  78.540967   1.017152  77.447031   \n",
       "Expressive Language   0.0              18.0  67.340479  16.951416  42.000000   \n",
       "                      1.0               6.0  80.916923  26.922067  48.866200   \n",
       "Expressive Vocabulary 0.0              14.0  77.010339  21.794083  20.000000   \n",
       "                      1.0               4.0  84.350707  21.409621  61.000000   \n",
       "Language              0.0              17.0  65.124105  16.931568  42.000000   \n",
       "                      1.0               6.0  77.394941  30.392498  44.790831   \n",
       "Receptive Language    0.0              17.0  66.419331  13.872891  46.000000   \n",
       "                      1.0               6.0  73.234555  26.631620  45.809673   \n",
       "Receptive Vocabulary  0.0              16.0  74.590714  16.279522  34.000000   \n",
       "                      1.0               5.0  90.088565  33.396265  54.000000   \n",
       "\n",
       "                                            25%        50%         75%  \\\n",
       "domain                mother_college                                     \n",
       "Articulation          0.0             78.515824  83.166159   90.970990   \n",
       "                      1.0             78.082364  78.717696   79.087935   \n",
       "Expressive Language   0.0             56.250000  64.000000   70.596464   \n",
       "                      1.0             61.226505  77.000000  105.250000   \n",
       "Expressive Vocabulary 0.0             68.750000  80.023123   90.250000   \n",
       "                      1.0             70.750000  83.201415   96.802122   \n",
       "Language              0.0             55.000000  62.000000   71.000000   \n",
       "                      1.0             55.394703  68.789406  105.000000   \n",
       "Receptive Language    0.0             59.000000  66.000000   73.000000   \n",
       "                      1.0             51.899414  67.298828   94.250000   \n",
       "Receptive Vocabulary  0.0             69.250000  73.000000   82.743215   \n",
       "                      1.0             60.000000  98.442827  103.000000   \n",
       "\n",
       "                                             max  \n",
       "domain                mother_college              \n",
       "Articulation          0.0              98.270773  \n",
       "                      1.0              79.458174  \n",
       "Expressive Language   0.0             108.000000  \n",
       "                      1.0             112.000000  \n",
       "Expressive Vocabulary 0.0             106.000000  \n",
       "                      1.0             110.000000  \n",
       "Language              0.0             109.000000  \n",
       "                      1.0             114.000000  \n",
       "Receptive Language    0.0             102.000000  \n",
       "                      1.0             109.000000  \n",
       "Receptive Vocabulary  0.0             107.000000  \n",
       "                      1.0             135.000000  "
      ]
     },
     "execution_count": 46,
     "metadata": {},
     "output_type": "execute_result"
    }
   ],
   "source": [
    "test_scores.groupby(['domain', 'mother_college']).score_adj.describe()"
   ]
  }
 ],
 "metadata": {
  "kernelspec": {
   "display_name": "Python 3",
   "language": "python",
   "name": "python3"
  },
  "language_info": {
   "codemirror_mode": {
    "name": "ipython",
    "version": 3
   },
   "file_extension": ".py",
   "mimetype": "text/x-python",
   "name": "python",
   "nbconvert_exporter": "python",
   "pygments_lexer": "ipython3",
   "version": "3.6.7"
  }
 },
 "nbformat": 4,
 "nbformat_minor": 4
}
