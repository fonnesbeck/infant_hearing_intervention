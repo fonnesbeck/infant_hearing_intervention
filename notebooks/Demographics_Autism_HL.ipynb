{
 "cells": [
  {
   "cell_type": "code",
   "execution_count": 1,
   "metadata": {},
   "outputs": [],
   "source": [
    "# Import modules and set options\n",
    "%matplotlib inline\n",
    "import matplotlib.pyplot as plt\n",
    "import pandas as pd\n",
    "import numpy as np\n",
    "import seaborn as sns\n",
    "import pandas_profiling\n",
    "\n",
    "sns.set(context='notebook', style='ticks')"
   ]
  },
  {
   "cell_type": "code",
   "execution_count": 2,
   "metadata": {},
   "outputs": [],
   "source": [
    "lsl_dr = (pd.read_csv('../data/clean/lsl_dr_frozen_09272019.csv', index_col=0, low_memory=False)\n",
    "                  .rename({'onset_1':'identify_mo'}, axis=1))"
   ]
  },
  {
   "cell_type": "code",
   "execution_count": 3,
   "metadata": {},
   "outputs": [
    {
     "data": {
      "text/plain": [
       "(65064, 246)"
      ]
     },
     "execution_count": 3,
     "metadata": {},
     "output_type": "execute_result"
    }
   ],
   "source": [
    "lsl_dr.shape"
   ]
  },
  {
   "cell_type": "markdown",
   "metadata": {},
   "source": [
    "Exclusions"
   ]
  },
  {
   "cell_type": "code",
   "execution_count": 4,
   "metadata": {},
   "outputs": [],
   "source": [
    "other_etiology = (lsl_dr[['etiology_3___2', 'etiology_3___4', 'etiology_3___5', 'etiology_3___6', 'etiology_3___9',\n",
    "       'etiology_oth___1', 'etiology_oth___3', 'etiology_oth___4', 'etiology_oth___8', 'etiology_oth___9']]\n",
    "                      .sum(1).astype(bool))"
   ]
  },
  {
   "cell_type": "code",
   "execution_count": 5,
   "metadata": {},
   "outputs": [],
   "source": [
    "inclusion_mask = (~lsl_dr.non_english.astype(bool) \n",
    "                  & (lsl_dr.hl==0)\n",
    "                  & ((lsl_dr.autism==1)))"
   ]
  },
  {
   "cell_type": "code",
   "execution_count": 6,
   "metadata": {},
   "outputs": [
    {
     "data": {
      "text/plain": [
       "(36, 246)"
      ]
     },
     "execution_count": 6,
     "metadata": {},
     "output_type": "execute_result"
    }
   ],
   "source": [
    "autism_subset = lsl_dr[inclusion_mask]\n",
    "autism_subset.drop_duplicates(subset='study_id').shape"
   ]
  },
  {
   "cell_type": "markdown",
   "metadata": {},
   "source": [
    "## Demographics"
   ]
  },
  {
   "cell_type": "code",
   "execution_count": 7,
   "metadata": {},
   "outputs": [
    {
     "data": {
      "text/plain": [
       "Male      116\n",
       "Female     41\n",
       "Name: male, dtype: int64"
      ]
     },
     "execution_count": 7,
     "metadata": {},
     "output_type": "execute_result"
    }
   ],
   "source": [
    "autism_subset.male.replace({1: 'Male', 0: 'Female', np.nan: 'Missing'}).value_counts()"
   ]
  },
  {
   "cell_type": "code",
   "execution_count": 8,
   "metadata": {},
   "outputs": [
    {
     "data": {
      "text/plain": [
       "White       88\n",
       "Other       38\n",
       "Black       14\n",
       "Hispanic     9\n",
       "Asian        8\n",
       "Name: race, dtype: int64"
      ]
     },
     "execution_count": 8,
     "metadata": {},
     "output_type": "execute_result"
    }
   ],
   "source": [
    "autism_subset.race.replace({0:'White', 1:'Black', 2:'Hispanic', 3:'Asian', 4:'Other', np.nan:'Missing'}).value_counts()"
   ]
  },
  {
   "cell_type": "code",
   "execution_count": 9,
   "metadata": {},
   "outputs": [
    {
     "data": {
      "text/plain": [
       ">=36 weeks    121\n",
       "<36 weeks      36\n",
       "Name: premature_age, dtype: int64"
      ]
     },
     "execution_count": 9,
     "metadata": {},
     "output_type": "execute_result"
    }
   ],
   "source": [
    "(autism_subset.premature_age.replace({9:None})==8).replace({True: '>=36 weeks', False: '<36 weeks', \n",
    "                                                            np.nan: 'Unknown'}).value_counts()"
   ]
  },
  {
   "cell_type": "code",
   "execution_count": 10,
   "metadata": {},
   "outputs": [
    {
     "data": {
      "text/plain": [
       "1          46\n",
       "2          63\n",
       "3          19\n",
       "4+         10\n",
       "Missing    19\n",
       "Name: sib, dtype: int64"
      ]
     },
     "execution_count": 10,
     "metadata": {},
     "output_type": "execute_result"
    }
   ],
   "source": [
    "autism_subset.sib.replace({0:'1', 1:'2', 2:'3', 3:'4+', np.nan:'Missing'}).value_counts().sort_index()"
   ]
  },
  {
   "cell_type": "code",
   "execution_count": 11,
   "metadata": {},
   "outputs": [
    {
     "data": {
      "text/plain": [
       "High school diploma/GED    66\n",
       "Unknown                    40\n",
       "Some college               30\n",
       "Some high school           21\n",
       "Name: mother_ed, dtype: int64"
      ]
     },
     "execution_count": 11,
     "metadata": {},
     "output_type": "execute_result"
    }
   ],
   "source": [
    "ed_lookup = {0:\"8th grade or less\",\n",
    "1:\"Some high school\",\n",
    "2:\"High school diploma/GED\",\n",
    "3:\"Some college\",\n",
    "4:\"Bachelor's degree\",\n",
    "5:\"Post graduate degree\",\n",
    "6:\"Unknown\",\n",
    "np.nan:\"Unknown\"}\n",
    "\n",
    "autism_subset.mother_ed.replace(ed_lookup).value_counts()"
   ]
  },
  {
   "cell_type": "code",
   "execution_count": 12,
   "metadata": {},
   "outputs": [
    {
     "data": {
      "text/plain": [
       "Unknown                    52\n",
       "Bachelor's degree          44\n",
       "Post graduate degree       37\n",
       "High school diploma/GED    13\n",
       "Some college               11\n",
       "Name: father_ed, dtype: int64"
      ]
     },
     "execution_count": 12,
     "metadata": {},
     "output_type": "execute_result"
    }
   ],
   "source": [
    "autism_subset.father_ed.replace(ed_lookup).value_counts()"
   ]
  },
  {
   "cell_type": "code",
   "execution_count": 13,
   "metadata": {},
   "outputs": [
    {
     "data": {
      "text/plain": [
       "Average Participation    60\n",
       "Ideal Participation      52\n",
       "Missing                  20\n",
       "Good Participation       17\n",
       "Below Average             8\n",
       "Name: family_inv, dtype: int64"
      ]
     },
     "execution_count": 13,
     "metadata": {},
     "output_type": "execute_result"
    }
   ],
   "source": [
    "family_lookup = {0:\"Ideal Participation\",\n",
    "1:\"Good Participation\",\n",
    "2:\"Average Participation\",\n",
    "3:\"Below Average\",\n",
    "4:\"Limited Participation\",\n",
    "np.nan:\"Missing\"}\n",
    "\n",
    "autism_subset.family_inv.replace(family_lookup).value_counts()"
   ]
  },
  {
   "cell_type": "code",
   "execution_count": 14,
   "metadata": {},
   "outputs": [
    {
     "data": {
      "text/html": [
       "<div>\n",
       "<style scoped>\n",
       "    .dataframe tbody tr th:only-of-type {\n",
       "        vertical-align: middle;\n",
       "    }\n",
       "\n",
       "    .dataframe tbody tr th {\n",
       "        vertical-align: top;\n",
       "    }\n",
       "\n",
       "    .dataframe thead th {\n",
       "        text-align: right;\n",
       "    }\n",
       "</style>\n",
       "<table border=\"1\" class=\"dataframe\">\n",
       "  <thead>\n",
       "    <tr style=\"text-align: right;\">\n",
       "      <th></th>\n",
       "      <th>age_diag</th>\n",
       "      <th>age_amp</th>\n",
       "      <th>age_int</th>\n",
       "      <th>age</th>\n",
       "    </tr>\n",
       "  </thead>\n",
       "  <tbody>\n",
       "    <tr>\n",
       "      <th>count</th>\n",
       "      <td>146.000000</td>\n",
       "      <td>142.000000</td>\n",
       "      <td>127.000000</td>\n",
       "      <td>157.000000</td>\n",
       "    </tr>\n",
       "    <tr>\n",
       "      <th>mean</th>\n",
       "      <td>15.767123</td>\n",
       "      <td>20.204225</td>\n",
       "      <td>20.055118</td>\n",
       "      <td>33.000000</td>\n",
       "    </tr>\n",
       "    <tr>\n",
       "      <th>std</th>\n",
       "      <td>18.262092</td>\n",
       "      <td>18.261512</td>\n",
       "      <td>17.763127</td>\n",
       "      <td>20.496716</td>\n",
       "    </tr>\n",
       "    <tr>\n",
       "      <th>min</th>\n",
       "      <td>0.000000</td>\n",
       "      <td>1.000000</td>\n",
       "      <td>1.000000</td>\n",
       "      <td>1.000000</td>\n",
       "    </tr>\n",
       "    <tr>\n",
       "      <th>25%</th>\n",
       "      <td>1.000000</td>\n",
       "      <td>3.250000</td>\n",
       "      <td>5.000000</td>\n",
       "      <td>19.000000</td>\n",
       "    </tr>\n",
       "    <tr>\n",
       "      <th>50%</th>\n",
       "      <td>10.000000</td>\n",
       "      <td>19.000000</td>\n",
       "      <td>20.000000</td>\n",
       "      <td>33.000000</td>\n",
       "    </tr>\n",
       "    <tr>\n",
       "      <th>75%</th>\n",
       "      <td>21.000000</td>\n",
       "      <td>27.000000</td>\n",
       "      <td>25.000000</td>\n",
       "      <td>46.000000</td>\n",
       "    </tr>\n",
       "    <tr>\n",
       "      <th>max</th>\n",
       "      <td>83.000000</td>\n",
       "      <td>83.000000</td>\n",
       "      <td>83.000000</td>\n",
       "      <td>83.000000</td>\n",
       "    </tr>\n",
       "  </tbody>\n",
       "</table>\n",
       "</div>"
      ],
      "text/plain": [
       "         age_diag     age_amp     age_int         age\n",
       "count  146.000000  142.000000  127.000000  157.000000\n",
       "mean    15.767123   20.204225   20.055118   33.000000\n",
       "std     18.262092   18.261512   17.763127   20.496716\n",
       "min      0.000000    1.000000    1.000000    1.000000\n",
       "25%      1.000000    3.250000    5.000000   19.000000\n",
       "50%     10.000000   19.000000   20.000000   33.000000\n",
       "75%     21.000000   27.000000   25.000000   46.000000\n",
       "max     83.000000   83.000000   83.000000   83.000000"
      ]
     },
     "execution_count": 14,
     "metadata": {},
     "output_type": "execute_result"
    }
   ],
   "source": [
    "autism_subset[[\"age_diag\", \"age_amp\", \"age_int\", \"age\"]].describe()"
   ]
  },
  {
   "cell_type": "code",
   "execution_count": 15,
   "metadata": {},
   "outputs": [
    {
     "data": {
      "text/plain": [
       "OPTION + outside    112\n",
       "OPTION only          31\n",
       "Name: otherserv, dtype: int64"
      ]
     },
     "execution_count": 15,
     "metadata": {},
     "output_type": "execute_result"
    }
   ],
   "source": [
    "autism_subset.otherserv.replace({0: \"OPTION + outside\", 1: \"OPTION only\", 2: \"Missing\"}).value_counts()"
   ]
  },
  {
   "cell_type": "markdown",
   "metadata": {},
   "source": [
    "## Hearing loss"
   ]
  },
  {
   "cell_type": "code",
   "execution_count": 16,
   "metadata": {},
   "outputs": [
    {
     "data": {
      "text/plain": [
       "11"
      ]
     },
     "execution_count": 16,
     "metadata": {},
     "output_type": "execute_result"
    }
   ],
   "source": [
    "autism_subset.degree_hl_ad.isnull().sum()"
   ]
  },
  {
   "cell_type": "code",
   "execution_count": 17,
   "metadata": {},
   "outputs": [
    {
     "data": {
      "text/plain": [
       "11"
      ]
     },
     "execution_count": 17,
     "metadata": {},
     "output_type": "execute_result"
    }
   ],
   "source": [
    "autism_subset.degree_hl_as.isnull().sum()"
   ]
  },
  {
   "cell_type": "code",
   "execution_count": 18,
   "metadata": {},
   "outputs": [
    {
     "data": {
      "text/plain": [
       "6.0    84\n",
       "3.0    23\n",
       "4.0    13\n",
       "5.0    13\n",
       "1.0     8\n",
       "2.0     5\n",
       "Name: degree_hl_ad, dtype: int64"
      ]
     },
     "execution_count": 18,
     "metadata": {},
     "output_type": "execute_result"
    }
   ],
   "source": [
    "autism_subset.degree_hl_ad.value_counts()"
   ]
  },
  {
   "cell_type": "code",
   "execution_count": 19,
   "metadata": {},
   "outputs": [
    {
     "data": {
      "text/plain": [
       "6.0    72\n",
       "3.0    22\n",
       "5.0    18\n",
       "2.0    16\n",
       "0.0     9\n",
       "4.0     7\n",
       "1.0     2\n",
       "Name: degree_hl_as, dtype: int64"
      ]
     },
     "execution_count": 19,
     "metadata": {},
     "output_type": "execute_result"
    }
   ],
   "source": [
    "autism_subset.degree_hl_as.value_counts()"
   ]
  },
  {
   "cell_type": "code",
   "execution_count": 20,
   "metadata": {},
   "outputs": [],
   "source": [
    "hl_data = autism_subset.set_index('study_id')[['bilateral_snhl',\n",
    "                     'bilateral_ansd',\n",
    "                     'bilateral_mixed',\n",
    "                     'bilateral_cond',\n",
    "                     'bilateral_normal',\n",
    "                     'bilateral_unk',\n",
    "                     'unilateral_snhl',\n",
    "                     'unilateral_ansd',\n",
    "                     'unilateral_mixed',\n",
    "                     'unilateral_cond',\n",
    "                     'unilateral_unk',\n",
    "                     'assymetrical']]"
   ]
  },
  {
   "cell_type": "markdown",
   "metadata": {},
   "source": [
    "One or both parents with hearing loss"
   ]
  },
  {
   "cell_type": "code",
   "execution_count": 21,
   "metadata": {},
   "outputs": [
    {
     "data": {
      "text/plain": [
       "0.0    128\n",
       "1.0     12\n",
       "Name: one_or_both_parent_hl, dtype: int64"
      ]
     },
     "execution_count": 21,
     "metadata": {},
     "output_type": "execute_result"
    }
   ],
   "source": [
    "autism_subset.one_or_both_parent_hl.value_counts()"
   ]
  },
  {
   "cell_type": "code",
   "execution_count": 22,
   "metadata": {},
   "outputs": [
    {
     "data": {
      "text/plain": [
       "17"
      ]
     },
     "execution_count": 22,
     "metadata": {},
     "output_type": "execute_result"
    }
   ],
   "source": [
    "autism_subset.one_or_both_parent_hl.isnull().sum()"
   ]
  },
  {
   "cell_type": "markdown",
   "metadata": {},
   "source": [
    "Individuals with no hearing loss type"
   ]
  },
  {
   "cell_type": "code",
   "execution_count": 23,
   "metadata": {},
   "outputs": [
    {
     "data": {
      "text/plain": [
       "array(['0416-2012-8486', '0416-2012-8486', '0416-2012-8486',\n",
       "       '0416-2012-8486', '0416-2012-8486', '0416-2012-8486',\n",
       "       '0735-2011-0006', '0735-2011-0006', '0735-2011-0006',\n",
       "       '0735-2011-0006', '0735-2011-0006'], dtype=object)"
      ]
     },
     "execution_count": 23,
     "metadata": {},
     "output_type": "execute_result"
    }
   ],
   "source": [
    "hl_data[hl_data.sum(1)==0].index.values"
   ]
  },
  {
   "cell_type": "code",
   "execution_count": 24,
   "metadata": {},
   "outputs": [
    {
     "data": {
      "text/plain": [
       "bilateral_snhl      133\n",
       "unilateral_snhl       6\n",
       "unilateral_mixed      3\n",
       "assymetrical          2\n",
       "bilateral_mixed       2\n",
       "unilateral_unk        0\n",
       "unilateral_cond       0\n",
       "unilateral_ansd       0\n",
       "bilateral_unk         0\n",
       "bilateral_normal      0\n",
       "bilateral_cond        0\n",
       "bilateral_ansd        0\n",
       "dtype: int64"
      ]
     },
     "execution_count": 24,
     "metadata": {},
     "output_type": "execute_result"
    }
   ],
   "source": [
    "hl_data.sum().astype(int).sort_values(ascending=False)"
   ]
  },
  {
   "cell_type": "code",
   "execution_count": 25,
   "metadata": {},
   "outputs": [
    {
     "data": {
      "text/plain": [
       "bilateral_snhl      0.85\n",
       "unilateral_snhl     0.04\n",
       "unilateral_mixed    0.02\n",
       "assymetrical        0.01\n",
       "bilateral_mixed     0.01\n",
       "unilateral_unk      0.00\n",
       "unilateral_cond     0.00\n",
       "unilateral_ansd     0.00\n",
       "bilateral_unk       0.00\n",
       "bilateral_normal    0.00\n",
       "bilateral_cond      0.00\n",
       "bilateral_ansd      0.00\n",
       "dtype: float64"
      ]
     },
     "execution_count": 25,
     "metadata": {},
     "output_type": "execute_result"
    }
   ],
   "source": [
    "hl_data.mean().round(2).sort_values(ascending=False)"
   ]
  },
  {
   "cell_type": "code",
   "execution_count": 26,
   "metadata": {},
   "outputs": [],
   "source": [
    "tech_data = autism_subset.set_index('study_id')[['bilateral_ha',\n",
    "                     'bilateral_ci',\n",
    "                     'bimodal',\n",
    "                     'bilateral_other',\n",
    "                     'unilateral_ha',\n",
    "                     'unilateral_ci',\n",
    "                     'unilateral_other']]"
   ]
  },
  {
   "cell_type": "code",
   "execution_count": 27,
   "metadata": {},
   "outputs": [
    {
     "data": {
      "text/plain": [
       "bilateral_ci        111\n",
       "bilateral_ha         20\n",
       "unilateral_ci        14\n",
       "bimodal              10\n",
       "unilateral_other      0\n",
       "unilateral_ha         0\n",
       "bilateral_other       0\n",
       "dtype: int64"
      ]
     },
     "execution_count": 27,
     "metadata": {},
     "output_type": "execute_result"
    }
   ],
   "source": [
    "tech_data.sum().astype(int).sort_values(ascending=False)"
   ]
  },
  {
   "cell_type": "code",
   "execution_count": 28,
   "metadata": {},
   "outputs": [
    {
     "data": {
      "text/plain": [
       "bilateral_ci        0.71\n",
       "bilateral_ha        0.13\n",
       "unilateral_ci       0.09\n",
       "bimodal             0.06\n",
       "unilateral_other    0.00\n",
       "unilateral_ha       0.00\n",
       "bilateral_other     0.00\n",
       "dtype: float64"
      ]
     },
     "execution_count": 28,
     "metadata": {},
     "output_type": "execute_result"
    }
   ],
   "source": [
    "tech_data.mean().round(2).sort_values(ascending=False)"
   ]
  },
  {
   "cell_type": "markdown",
   "metadata": {},
   "source": [
    "Individuals with no technology type"
   ]
  },
  {
   "cell_type": "code",
   "execution_count": 29,
   "metadata": {},
   "outputs": [
    {
     "data": {
      "text/plain": [
       "array(['0735-2019-0020', '0735-2019-0020'], dtype=object)"
      ]
     },
     "execution_count": 29,
     "metadata": {},
     "output_type": "execute_result"
    }
   ],
   "source": [
    "tech_data[tech_data.sum(1)==0].index.values"
   ]
  },
  {
   "cell_type": "markdown",
   "metadata": {},
   "source": [
    "## Hearing Loss"
   ]
  },
  {
   "cell_type": "code",
   "execution_count": 30,
   "metadata": {},
   "outputs": [
    {
     "data": {
      "text/plain": [
       "Index(['degree_hl_ad', 'type_hl_ad', 'degree_hl_as', 'type_hl_as',\n",
       "       'bilateral_hl_normal', 'bilateral_hl_slight', 'bilateral_hl_mild',\n",
       "       'bilateral_hl_moderate', 'bilateral_hl_modsev', 'bilateral_hl_severe',\n",
       "       'bilateral_hl_profound', 'unilateral_hl_slight', 'unilateral_hl_mild',\n",
       "       'unilateral_hl_moderate', 'unilateral_hl_modsev',\n",
       "       'unilateral_hl_severe', 'unilateral_hl_profound'],\n",
       "      dtype='object')"
      ]
     },
     "execution_count": 30,
     "metadata": {},
     "output_type": "execute_result"
    }
   ],
   "source": [
    "autism_subset.columns[autism_subset.columns.str.contains('_hl_')]"
   ]
  },
  {
   "cell_type": "code",
   "execution_count": 31,
   "metadata": {},
   "outputs": [],
   "source": [
    "hl_data = autism_subset.set_index('study_id')[['bilateral_hl_normal', 'bilateral_hl_slight', 'bilateral_hl_mild',\n",
    "       'bilateral_hl_moderate', 'bilateral_hl_modsev', 'bilateral_hl_severe',\n",
    "       'bilateral_hl_profound', 'unilateral_hl_slight', 'unilateral_hl_mild',\n",
    "       'unilateral_hl_moderate', 'unilateral_hl_modsev',\n",
    "       'unilateral_hl_severe', 'unilateral_hl_profound']]"
   ]
  },
  {
   "cell_type": "code",
   "execution_count": 32,
   "metadata": {},
   "outputs": [
    {
     "data": {
      "text/plain": [
       "bilateral_hl_profound     69\n",
       "bilateral_hl_moderate     14\n",
       "bilateral_hl_severe       13\n",
       "unilateral_hl_modsev       9\n",
       "bilateral_hl_mild          3\n",
       "bilateral_hl_slight        2\n",
       "unilateral_hl_profound     0\n",
       "unilateral_hl_severe       0\n",
       "unilateral_hl_moderate     0\n",
       "unilateral_hl_mild         0\n",
       "unilateral_hl_slight       0\n",
       "bilateral_hl_modsev        0\n",
       "bilateral_hl_normal        0\n",
       "dtype: int64"
      ]
     },
     "execution_count": 32,
     "metadata": {},
     "output_type": "execute_result"
    }
   ],
   "source": [
    "hl_data.sum().astype(int).sort_values(ascending=False)"
   ]
  },
  {
   "cell_type": "code",
   "execution_count": 33,
   "metadata": {},
   "outputs": [
    {
     "data": {
      "text/plain": [
       "bilateral_hl_profound     0.44\n",
       "bilateral_hl_moderate     0.09\n",
       "bilateral_hl_severe       0.08\n",
       "unilateral_hl_modsev      0.06\n",
       "bilateral_hl_mild         0.02\n",
       "bilateral_hl_slight       0.01\n",
       "unilateral_hl_profound    0.00\n",
       "unilateral_hl_severe      0.00\n",
       "unilateral_hl_moderate    0.00\n",
       "unilateral_hl_mild        0.00\n",
       "unilateral_hl_slight      0.00\n",
       "bilateral_hl_modsev       0.00\n",
       "bilateral_hl_normal       0.00\n",
       "dtype: float64"
      ]
     },
     "execution_count": 33,
     "metadata": {},
     "output_type": "execute_result"
    }
   ],
   "source": [
    "hl_data.mean().round(2).sort_values(ascending=False)"
   ]
  },
  {
   "cell_type": "markdown",
   "metadata": {},
   "source": [
    "Missing one or both hearing loss values (left/right)"
   ]
  },
  {
   "cell_type": "code",
   "execution_count": 34,
   "metadata": {},
   "outputs": [
    {
     "data": {
      "text/plain": [
       "11"
      ]
     },
     "execution_count": 34,
     "metadata": {},
     "output_type": "execute_result"
    }
   ],
   "source": [
    "(autism_subset[['degree_hl_ad', 'degree_hl_as']].isnull().sum(1) > 0).sum()"
   ]
  },
  {
   "cell_type": "markdown",
   "metadata": {},
   "source": [
    "## Summary of scores by domain"
   ]
  },
  {
   "cell_type": "code",
   "execution_count": 35,
   "metadata": {},
   "outputs": [],
   "source": [
    "test_scores = lsl_dr[inclusion_mask].copy()"
   ]
  },
  {
   "cell_type": "code",
   "execution_count": 36,
   "metadata": {},
   "outputs": [],
   "source": [
    "test_scores.loc[(test_scores.domain=='Language') & (test_scores.test_type=='receptive'), \n",
    "           'domain'] = 'Receptive Language'\n",
    "test_scores.loc[(test_scores.domain=='Language') & (test_scores.test_type=='expressive'), \n",
    "           'domain'] = 'Expressive Language'"
   ]
  },
  {
   "cell_type": "code",
   "execution_count": 37,
   "metadata": {},
   "outputs": [
    {
     "data": {
      "text/html": [
       "<div>\n",
       "<style scoped>\n",
       "    .dataframe tbody tr th:only-of-type {\n",
       "        vertical-align: middle;\n",
       "    }\n",
       "\n",
       "    .dataframe tbody tr th {\n",
       "        vertical-align: top;\n",
       "    }\n",
       "\n",
       "    .dataframe thead th {\n",
       "        text-align: right;\n",
       "    }\n",
       "</style>\n",
       "<table border=\"1\" class=\"dataframe\">\n",
       "  <thead>\n",
       "    <tr style=\"text-align: right;\">\n",
       "      <th></th>\n",
       "      <th>count</th>\n",
       "      <th>mean</th>\n",
       "      <th>std</th>\n",
       "      <th>min</th>\n",
       "      <th>25%</th>\n",
       "      <th>50%</th>\n",
       "      <th>75%</th>\n",
       "      <th>max</th>\n",
       "    </tr>\n",
       "    <tr>\n",
       "      <th>domain</th>\n",
       "      <th></th>\n",
       "      <th></th>\n",
       "      <th></th>\n",
       "      <th></th>\n",
       "      <th></th>\n",
       "      <th></th>\n",
       "      <th></th>\n",
       "      <th></th>\n",
       "    </tr>\n",
       "  </thead>\n",
       "  <tbody>\n",
       "    <tr>\n",
       "      <th>Articulation</th>\n",
       "      <td>9.0</td>\n",
       "      <td>78.1</td>\n",
       "      <td>17.4</td>\n",
       "      <td>49.0</td>\n",
       "      <td>70.0</td>\n",
       "      <td>78.0</td>\n",
       "      <td>85.0</td>\n",
       "      <td>102.0</td>\n",
       "    </tr>\n",
       "    <tr>\n",
       "      <th>Expressive Language</th>\n",
       "      <td>34.0</td>\n",
       "      <td>70.3</td>\n",
       "      <td>20.2</td>\n",
       "      <td>42.0</td>\n",
       "      <td>56.2</td>\n",
       "      <td>64.5</td>\n",
       "      <td>82.8</td>\n",
       "      <td>115.0</td>\n",
       "    </tr>\n",
       "    <tr>\n",
       "      <th>Expressive Vocabulary</th>\n",
       "      <td>23.0</td>\n",
       "      <td>77.3</td>\n",
       "      <td>24.7</td>\n",
       "      <td>20.0</td>\n",
       "      <td>66.5</td>\n",
       "      <td>78.0</td>\n",
       "      <td>94.0</td>\n",
       "      <td>124.0</td>\n",
       "    </tr>\n",
       "    <tr>\n",
       "      <th>Language</th>\n",
       "      <td>33.0</td>\n",
       "      <td>67.8</td>\n",
       "      <td>21.9</td>\n",
       "      <td>42.0</td>\n",
       "      <td>53.0</td>\n",
       "      <td>59.0</td>\n",
       "      <td>73.0</td>\n",
       "      <td>129.0</td>\n",
       "    </tr>\n",
       "    <tr>\n",
       "      <th>Receptive Language</th>\n",
       "      <td>33.0</td>\n",
       "      <td>68.5</td>\n",
       "      <td>20.2</td>\n",
       "      <td>46.0</td>\n",
       "      <td>54.0</td>\n",
       "      <td>65.0</td>\n",
       "      <td>74.0</td>\n",
       "      <td>140.0</td>\n",
       "    </tr>\n",
       "    <tr>\n",
       "      <th>Receptive Vocabulary</th>\n",
       "      <td>25.0</td>\n",
       "      <td>78.2</td>\n",
       "      <td>25.6</td>\n",
       "      <td>34.0</td>\n",
       "      <td>63.0</td>\n",
       "      <td>71.0</td>\n",
       "      <td>87.0</td>\n",
       "      <td>141.0</td>\n",
       "    </tr>\n",
       "  </tbody>\n",
       "</table>\n",
       "</div>"
      ],
      "text/plain": [
       "                       count  mean   std   min   25%   50%   75%    max\n",
       "domain                                                                 \n",
       "Articulation             9.0  78.1  17.4  49.0  70.0  78.0  85.0  102.0\n",
       "Expressive Language     34.0  70.3  20.2  42.0  56.2  64.5  82.8  115.0\n",
       "Expressive Vocabulary   23.0  77.3  24.7  20.0  66.5  78.0  94.0  124.0\n",
       "Language                33.0  67.8  21.9  42.0  53.0  59.0  73.0  129.0\n",
       "Receptive Language      33.0  68.5  20.2  46.0  54.0  65.0  74.0  140.0\n",
       "Receptive Vocabulary    25.0  78.2  25.6  34.0  63.0  71.0  87.0  141.0"
      ]
     },
     "execution_count": 37,
     "metadata": {},
     "output_type": "execute_result"
    }
   ],
   "source": [
    "test_scores.groupby('domain').score.describe().round(1)"
   ]
  },
  {
   "cell_type": "code",
   "execution_count": 38,
   "metadata": {},
   "outputs": [
    {
     "data": {
      "text/plain": [
       "array(['Expressive Vocabulary', 'Receptive Vocabulary',\n",
       "       'Receptive Language', 'Expressive Language', 'Language',\n",
       "       'Articulation'], dtype=object)"
      ]
     },
     "execution_count": 38,
     "metadata": {},
     "output_type": "execute_result"
    }
   ],
   "source": [
    "test_scores.domain.unique()"
   ]
  },
  {
   "cell_type": "code",
   "execution_count": 39,
   "metadata": {},
   "outputs": [],
   "source": [
    "test_scores['domain_labels'] = test_scores.domain.replace({'Expressive Vocabulary': 'Expressive\\nVocabulary', \n",
    "                                                           'Receptive Vocabulary': 'Receptive\\nVocabulary',\n",
    "                                                           'Receptive Language': 'Receptive\\nLanguage', \n",
    "                                                           'Expressive Language': 'Expressive\\nLanguage', \n",
    "                                                           'Language': 'Total\\nLanguage'})"
   ]
  },
  {
   "cell_type": "code",
   "execution_count": 40,
   "metadata": {},
   "outputs": [
    {
     "data": {
      "image/png": "[encoded data removed]",
      "text/plain": [
       "<Figure size 864x360 with 1 Axes>"
      ]
     },
     "metadata": {
      "needs_background": "light"
     },
     "output_type": "display_data"
    }
   ],
   "source": [
    "sns.catplot(\"domain_labels\", y=\"score\", data=test_scores, kind=\"box\", color='white', fliersize=0)\n",
    "sns.swarmplot(\"domain_labels\", y=\"score\", data=test_scores, color='grey')\n",
    "fig = plt.gcf()\n",
    "fig.set_size_inches(12, 5)\n",
    "fig.axes[0].set_xlabel('');"
   ]
  },
  {
   "cell_type": "markdown",
   "metadata": {},
   "source": [
    "## Domain-specific summaries\n",
    "\n",
    "Age of amplification greater than 6mo."
   ]
  },
  {
   "cell_type": "code",
   "execution_count": 41,
   "metadata": {},
   "outputs": [
    {
     "data": {
      "text/html": [
       "<div>\n",
       "<style scoped>\n",
       "    .dataframe tbody tr th:only-of-type {\n",
       "        vertical-align: middle;\n",
       "    }\n",
       "\n",
       "    .dataframe tbody tr th {\n",
       "        vertical-align: top;\n",
       "    }\n",
       "\n",
       "    .dataframe thead th {\n",
       "        text-align: right;\n",
       "    }\n",
       "</style>\n",
       "<table border=\"1\" class=\"dataframe\">\n",
       "  <thead>\n",
       "    <tr style=\"text-align: right;\">\n",
       "      <th></th>\n",
       "      <th></th>\n",
       "      <th>count</th>\n",
       "      <th>mean</th>\n",
       "      <th>std</th>\n",
       "      <th>min</th>\n",
       "      <th>25%</th>\n",
       "      <th>50%</th>\n",
       "      <th>75%</th>\n",
       "      <th>max</th>\n",
       "    </tr>\n",
       "    <tr>\n",
       "      <th>domain</th>\n",
       "      <th>age_amp_greater_6</th>\n",
       "      <th></th>\n",
       "      <th></th>\n",
       "      <th></th>\n",
       "      <th></th>\n",
       "      <th></th>\n",
       "      <th></th>\n",
       "      <th></th>\n",
       "      <th></th>\n",
       "    </tr>\n",
       "  </thead>\n",
       "  <tbody>\n",
       "    <tr>\n",
       "      <th rowspan=\"2\" valign=\"top\">Articulation</th>\n",
       "      <th>False</th>\n",
       "      <td>3.0</td>\n",
       "      <td>72.666667</td>\n",
       "      <td>25.106440</td>\n",
       "      <td>49.0</td>\n",
       "      <td>59.50</td>\n",
       "      <td>70.0</td>\n",
       "      <td>84.50</td>\n",
       "      <td>99.0</td>\n",
       "    </tr>\n",
       "    <tr>\n",
       "      <th>True</th>\n",
       "      <td>6.0</td>\n",
       "      <td>80.833333</td>\n",
       "      <td>14.330620</td>\n",
       "      <td>58.0</td>\n",
       "      <td>77.25</td>\n",
       "      <td>81.5</td>\n",
       "      <td>85.00</td>\n",
       "      <td>102.0</td>\n",
       "    </tr>\n",
       "    <tr>\n",
       "      <th rowspan=\"2\" valign=\"top\">Expressive Language</th>\n",
       "      <th>False</th>\n",
       "      <td>14.0</td>\n",
       "      <td>76.357143</td>\n",
       "      <td>23.404822</td>\n",
       "      <td>42.0</td>\n",
       "      <td>62.25</td>\n",
       "      <td>66.5</td>\n",
       "      <td>96.50</td>\n",
       "      <td>115.0</td>\n",
       "    </tr>\n",
       "    <tr>\n",
       "      <th>True</th>\n",
       "      <td>20.0</td>\n",
       "      <td>66.100000</td>\n",
       "      <td>16.945423</td>\n",
       "      <td>50.0</td>\n",
       "      <td>54.25</td>\n",
       "      <td>63.0</td>\n",
       "      <td>69.00</td>\n",
       "      <td>112.0</td>\n",
       "    </tr>\n",
       "    <tr>\n",
       "      <th rowspan=\"2\" valign=\"top\">Expressive Vocabulary</th>\n",
       "      <th>False</th>\n",
       "      <td>8.0</td>\n",
       "      <td>80.375000</td>\n",
       "      <td>28.289006</td>\n",
       "      <td>30.0</td>\n",
       "      <td>71.75</td>\n",
       "      <td>79.5</td>\n",
       "      <td>88.25</td>\n",
       "      <td>124.0</td>\n",
       "    </tr>\n",
       "    <tr>\n",
       "      <th>True</th>\n",
       "      <td>15.0</td>\n",
       "      <td>75.666667</td>\n",
       "      <td>23.457154</td>\n",
       "      <td>20.0</td>\n",
       "      <td>64.50</td>\n",
       "      <td>73.0</td>\n",
       "      <td>94.00</td>\n",
       "      <td>110.0</td>\n",
       "    </tr>\n",
       "    <tr>\n",
       "      <th rowspan=\"2\" valign=\"top\">Language</th>\n",
       "      <th>False</th>\n",
       "      <td>14.0</td>\n",
       "      <td>73.071429</td>\n",
       "      <td>27.215562</td>\n",
       "      <td>42.0</td>\n",
       "      <td>54.25</td>\n",
       "      <td>61.5</td>\n",
       "      <td>86.50</td>\n",
       "      <td>129.0</td>\n",
       "    </tr>\n",
       "    <tr>\n",
       "      <th>True</th>\n",
       "      <td>19.0</td>\n",
       "      <td>63.894737</td>\n",
       "      <td>16.785889</td>\n",
       "      <td>45.0</td>\n",
       "      <td>52.00</td>\n",
       "      <td>59.0</td>\n",
       "      <td>69.00</td>\n",
       "      <td>113.0</td>\n",
       "    </tr>\n",
       "    <tr>\n",
       "      <th rowspan=\"2\" valign=\"top\">Receptive Language</th>\n",
       "      <th>False</th>\n",
       "      <td>14.0</td>\n",
       "      <td>73.214286</td>\n",
       "      <td>26.902040</td>\n",
       "      <td>48.0</td>\n",
       "      <td>52.00</td>\n",
       "      <td>65.5</td>\n",
       "      <td>77.75</td>\n",
       "      <td>140.0</td>\n",
       "    </tr>\n",
       "    <tr>\n",
       "      <th>True</th>\n",
       "      <td>19.0</td>\n",
       "      <td>65.000000</td>\n",
       "      <td>13.017083</td>\n",
       "      <td>46.0</td>\n",
       "      <td>55.50</td>\n",
       "      <td>64.0</td>\n",
       "      <td>73.00</td>\n",
       "      <td>100.0</td>\n",
       "    </tr>\n",
       "    <tr>\n",
       "      <th rowspan=\"2\" valign=\"top\">Receptive Vocabulary</th>\n",
       "      <th>False</th>\n",
       "      <td>9.0</td>\n",
       "      <td>84.777778</td>\n",
       "      <td>33.822248</td>\n",
       "      <td>44.0</td>\n",
       "      <td>63.00</td>\n",
       "      <td>71.0</td>\n",
       "      <td>101.00</td>\n",
       "      <td>141.0</td>\n",
       "    </tr>\n",
       "    <tr>\n",
       "      <th>True</th>\n",
       "      <td>16.0</td>\n",
       "      <td>74.500000</td>\n",
       "      <td>20.016660</td>\n",
       "      <td>34.0</td>\n",
       "      <td>62.75</td>\n",
       "      <td>72.5</td>\n",
       "      <td>86.25</td>\n",
       "      <td>107.0</td>\n",
       "    </tr>\n",
       "  </tbody>\n",
       "</table>\n",
       "</div>"
      ],
      "text/plain": [
       "                                         count       mean        std   min  \\\n",
       "domain                age_amp_greater_6                                      \n",
       "Articulation          False                3.0  72.666667  25.106440  49.0   \n",
       "                      True                 6.0  80.833333  14.330620  58.0   \n",
       "Expressive Language   False               14.0  76.357143  23.404822  42.0   \n",
       "                      True                20.0  66.100000  16.945423  50.0   \n",
       "Expressive Vocabulary False                8.0  80.375000  28.289006  30.0   \n",
       "                      True                15.0  75.666667  23.457154  20.0   \n",
       "Language              False               14.0  73.071429  27.215562  42.0   \n",
       "                      True                19.0  63.894737  16.785889  45.0   \n",
       "Receptive Language    False               14.0  73.214286  26.902040  48.0   \n",
       "                      True                19.0  65.000000  13.017083  46.0   \n",
       "Receptive Vocabulary  False                9.0  84.777778  33.822248  44.0   \n",
       "                      True                16.0  74.500000  20.016660  34.0   \n",
       "\n",
       "                                           25%   50%     75%    max  \n",
       "domain                age_amp_greater_6                              \n",
       "Articulation          False              59.50  70.0   84.50   99.0  \n",
       "                      True               77.25  81.5   85.00  102.0  \n",
       "Expressive Language   False              62.25  66.5   96.50  115.0  \n",
       "                      True               54.25  63.0   69.00  112.0  \n",
       "Expressive Vocabulary False              71.75  79.5   88.25  124.0  \n",
       "                      True               64.50  73.0   94.00  110.0  \n",
       "Language              False              54.25  61.5   86.50  129.0  \n",
       "                      True               52.00  59.0   69.00  113.0  \n",
       "Receptive Language    False              52.00  65.5   77.75  140.0  \n",
       "                      True               55.50  64.0   73.00  100.0  \n",
       "Receptive Vocabulary  False              63.00  71.0  101.00  141.0  \n",
       "                      True               62.75  72.5   86.25  107.0  "
      ]
     },
     "execution_count": 41,
     "metadata": {},
     "output_type": "execute_result"
    }
   ],
   "source": [
    "(test_scores.assign(age_amp_greater_6=test_scores.age_amp>6)\n",
    "         .groupby(['domain', 'age_amp_greater_6'])\n",
    "         .score.describe())"
   ]
  },
  {
   "cell_type": "markdown",
   "metadata": {},
   "source": [
    "Age of enrollment greater than 6mo."
   ]
  },
  {
   "cell_type": "code",
   "execution_count": 42,
   "metadata": {},
   "outputs": [
    {
     "data": {
      "text/html": [
       "<div>\n",
       "<style scoped>\n",
       "    .dataframe tbody tr th:only-of-type {\n",
       "        vertical-align: middle;\n",
       "    }\n",
       "\n",
       "    .dataframe tbody tr th {\n",
       "        vertical-align: top;\n",
       "    }\n",
       "\n",
       "    .dataframe thead th {\n",
       "        text-align: right;\n",
       "    }\n",
       "</style>\n",
       "<table border=\"1\" class=\"dataframe\">\n",
       "  <thead>\n",
       "    <tr style=\"text-align: right;\">\n",
       "      <th></th>\n",
       "      <th></th>\n",
       "      <th>count</th>\n",
       "      <th>mean</th>\n",
       "      <th>std</th>\n",
       "      <th>min</th>\n",
       "      <th>25%</th>\n",
       "      <th>50%</th>\n",
       "      <th>75%</th>\n",
       "      <th>max</th>\n",
       "    </tr>\n",
       "    <tr>\n",
       "      <th>domain</th>\n",
       "      <th>age_enroll_greater_6</th>\n",
       "      <th></th>\n",
       "      <th></th>\n",
       "      <th></th>\n",
       "      <th></th>\n",
       "      <th></th>\n",
       "      <th></th>\n",
       "      <th></th>\n",
       "      <th></th>\n",
       "    </tr>\n",
       "  </thead>\n",
       "  <tbody>\n",
       "    <tr>\n",
       "      <th rowspan=\"2\" valign=\"top\">Articulation</th>\n",
       "      <th>False</th>\n",
       "      <td>3.0</td>\n",
       "      <td>82.333333</td>\n",
       "      <td>14.977761</td>\n",
       "      <td>70.0</td>\n",
       "      <td>74.00</td>\n",
       "      <td>78.0</td>\n",
       "      <td>88.50</td>\n",
       "      <td>99.0</td>\n",
       "    </tr>\n",
       "    <tr>\n",
       "      <th>True</th>\n",
       "      <td>6.0</td>\n",
       "      <td>76.000000</td>\n",
       "      <td>19.452506</td>\n",
       "      <td>49.0</td>\n",
       "      <td>62.75</td>\n",
       "      <td>81.0</td>\n",
       "      <td>85.00</td>\n",
       "      <td>102.0</td>\n",
       "    </tr>\n",
       "    <tr>\n",
       "      <th rowspan=\"2\" valign=\"top\">Expressive Language</th>\n",
       "      <th>False</th>\n",
       "      <td>14.0</td>\n",
       "      <td>72.214286</td>\n",
       "      <td>23.603059</td>\n",
       "      <td>42.0</td>\n",
       "      <td>55.50</td>\n",
       "      <td>64.5</td>\n",
       "      <td>82.75</td>\n",
       "      <td>115.0</td>\n",
       "    </tr>\n",
       "    <tr>\n",
       "      <th>True</th>\n",
       "      <td>20.0</td>\n",
       "      <td>69.000000</td>\n",
       "      <td>17.941425</td>\n",
       "      <td>50.0</td>\n",
       "      <td>56.75</td>\n",
       "      <td>64.5</td>\n",
       "      <td>73.75</td>\n",
       "      <td>112.0</td>\n",
       "    </tr>\n",
       "    <tr>\n",
       "      <th rowspan=\"2\" valign=\"top\">Expressive Vocabulary</th>\n",
       "      <th>False</th>\n",
       "      <td>10.0</td>\n",
       "      <td>79.800000</td>\n",
       "      <td>27.887871</td>\n",
       "      <td>30.0</td>\n",
       "      <td>67.00</td>\n",
       "      <td>77.5</td>\n",
       "      <td>99.75</td>\n",
       "      <td>124.0</td>\n",
       "    </tr>\n",
       "    <tr>\n",
       "      <th>True</th>\n",
       "      <td>13.0</td>\n",
       "      <td>75.384615</td>\n",
       "      <td>22.933013</td>\n",
       "      <td>20.0</td>\n",
       "      <td>68.00</td>\n",
       "      <td>78.0</td>\n",
       "      <td>93.00</td>\n",
       "      <td>110.0</td>\n",
       "    </tr>\n",
       "    <tr>\n",
       "      <th rowspan=\"2\" valign=\"top\">Language</th>\n",
       "      <th>False</th>\n",
       "      <td>14.0</td>\n",
       "      <td>70.357143</td>\n",
       "      <td>27.399066</td>\n",
       "      <td>42.0</td>\n",
       "      <td>53.25</td>\n",
       "      <td>57.0</td>\n",
       "      <td>77.25</td>\n",
       "      <td>129.0</td>\n",
       "    </tr>\n",
       "    <tr>\n",
       "      <th>True</th>\n",
       "      <td>19.0</td>\n",
       "      <td>65.894737</td>\n",
       "      <td>17.416132</td>\n",
       "      <td>45.0</td>\n",
       "      <td>54.00</td>\n",
       "      <td>60.0</td>\n",
       "      <td>72.00</td>\n",
       "      <td>113.0</td>\n",
       "    </tr>\n",
       "    <tr>\n",
       "      <th rowspan=\"2\" valign=\"top\">Receptive Language</th>\n",
       "      <th>False</th>\n",
       "      <td>14.0</td>\n",
       "      <td>72.071429</td>\n",
       "      <td>27.260747</td>\n",
       "      <td>48.0</td>\n",
       "      <td>50.75</td>\n",
       "      <td>65.5</td>\n",
       "      <td>73.75</td>\n",
       "      <td>140.0</td>\n",
       "    </tr>\n",
       "    <tr>\n",
       "      <th>True</th>\n",
       "      <td>19.0</td>\n",
       "      <td>65.842105</td>\n",
       "      <td>12.971178</td>\n",
       "      <td>46.0</td>\n",
       "      <td>58.00</td>\n",
       "      <td>64.0</td>\n",
       "      <td>75.00</td>\n",
       "      <td>100.0</td>\n",
       "    </tr>\n",
       "    <tr>\n",
       "      <th rowspan=\"2\" valign=\"top\">Receptive Vocabulary</th>\n",
       "      <th>False</th>\n",
       "      <td>11.0</td>\n",
       "      <td>85.454545</td>\n",
       "      <td>31.398610</td>\n",
       "      <td>44.0</td>\n",
       "      <td>66.50</td>\n",
       "      <td>71.0</td>\n",
       "      <td>104.00</td>\n",
       "      <td>141.0</td>\n",
       "    </tr>\n",
       "    <tr>\n",
       "      <th>True</th>\n",
       "      <td>14.0</td>\n",
       "      <td>72.500000</td>\n",
       "      <td>19.369881</td>\n",
       "      <td>34.0</td>\n",
       "      <td>58.25</td>\n",
       "      <td>72.5</td>\n",
       "      <td>85.00</td>\n",
       "      <td>103.0</td>\n",
       "    </tr>\n",
       "  </tbody>\n",
       "</table>\n",
       "</div>"
      ],
      "text/plain": [
       "                                            count       mean        std   min  \\\n",
       "domain                age_enroll_greater_6                                      \n",
       "Articulation          False                   3.0  82.333333  14.977761  70.0   \n",
       "                      True                    6.0  76.000000  19.452506  49.0   \n",
       "Expressive Language   False                  14.0  72.214286  23.603059  42.0   \n",
       "                      True                   20.0  69.000000  17.941425  50.0   \n",
       "Expressive Vocabulary False                  10.0  79.800000  27.887871  30.0   \n",
       "                      True                   13.0  75.384615  22.933013  20.0   \n",
       "Language              False                  14.0  70.357143  27.399066  42.0   \n",
       "                      True                   19.0  65.894737  17.416132  45.0   \n",
       "Receptive Language    False                  14.0  72.071429  27.260747  48.0   \n",
       "                      True                   19.0  65.842105  12.971178  46.0   \n",
       "Receptive Vocabulary  False                  11.0  85.454545  31.398610  44.0   \n",
       "                      True                   14.0  72.500000  19.369881  34.0   \n",
       "\n",
       "                                              25%   50%     75%    max  \n",
       "domain                age_enroll_greater_6                              \n",
       "Articulation          False                 74.00  78.0   88.50   99.0  \n",
       "                      True                  62.75  81.0   85.00  102.0  \n",
       "Expressive Language   False                 55.50  64.5   82.75  115.0  \n",
       "                      True                  56.75  64.5   73.75  112.0  \n",
       "Expressive Vocabulary False                 67.00  77.5   99.75  124.0  \n",
       "                      True                  68.00  78.0   93.00  110.0  \n",
       "Language              False                 53.25  57.0   77.25  129.0  \n",
       "                      True                  54.00  60.0   72.00  113.0  \n",
       "Receptive Language    False                 50.75  65.5   73.75  140.0  \n",
       "                      True                  58.00  64.0   75.00  100.0  \n",
       "Receptive Vocabulary  False                 66.50  71.0  104.00  141.0  \n",
       "                      True                  58.25  72.5   85.00  103.0  "
      ]
     },
     "execution_count": 42,
     "metadata": {},
     "output_type": "execute_result"
    }
   ],
   "source": [
    "(test_scores.assign(age_enroll_greater_6=test_scores.age_int>6)\n",
    "         .groupby(['domain', 'age_enroll_greater_6'])\n",
    "         .score.describe())"
   ]
  },
  {
   "cell_type": "markdown",
   "metadata": {},
   "source": [
    "(Non-)Profound hearing loss"
   ]
  },
  {
   "cell_type": "code",
   "execution_count": 43,
   "metadata": {},
   "outputs": [
    {
     "data": {
      "text/html": [
       "<div>\n",
       "<style scoped>\n",
       "    .dataframe tbody tr th:only-of-type {\n",
       "        vertical-align: middle;\n",
       "    }\n",
       "\n",
       "    .dataframe tbody tr th {\n",
       "        vertical-align: top;\n",
       "    }\n",
       "\n",
       "    .dataframe thead th {\n",
       "        text-align: right;\n",
       "    }\n",
       "</style>\n",
       "<table border=\"1\" class=\"dataframe\">\n",
       "  <thead>\n",
       "    <tr style=\"text-align: right;\">\n",
       "      <th></th>\n",
       "      <th></th>\n",
       "      <th>count</th>\n",
       "      <th>mean</th>\n",
       "      <th>std</th>\n",
       "      <th>min</th>\n",
       "      <th>25%</th>\n",
       "      <th>50%</th>\n",
       "      <th>75%</th>\n",
       "      <th>max</th>\n",
       "    </tr>\n",
       "    <tr>\n",
       "      <th>domain</th>\n",
       "      <th>profound_hl</th>\n",
       "      <th></th>\n",
       "      <th></th>\n",
       "      <th></th>\n",
       "      <th></th>\n",
       "      <th></th>\n",
       "      <th></th>\n",
       "      <th></th>\n",
       "      <th></th>\n",
       "    </tr>\n",
       "  </thead>\n",
       "  <tbody>\n",
       "    <tr>\n",
       "      <th rowspan=\"2\" valign=\"top\">Articulation</th>\n",
       "      <th>False</th>\n",
       "      <td>6.0</td>\n",
       "      <td>80.666667</td>\n",
       "      <td>16.966634</td>\n",
       "      <td>58.0</td>\n",
       "      <td>71.75</td>\n",
       "      <td>77.5</td>\n",
       "      <td>93.75</td>\n",
       "      <td>102.0</td>\n",
       "    </tr>\n",
       "    <tr>\n",
       "      <th>True</th>\n",
       "      <td>3.0</td>\n",
       "      <td>73.000000</td>\n",
       "      <td>20.784610</td>\n",
       "      <td>49.0</td>\n",
       "      <td>67.00</td>\n",
       "      <td>85.0</td>\n",
       "      <td>85.00</td>\n",
       "      <td>85.0</td>\n",
       "    </tr>\n",
       "    <tr>\n",
       "      <th rowspan=\"2\" valign=\"top\">Expressive Language</th>\n",
       "      <th>False</th>\n",
       "      <td>15.0</td>\n",
       "      <td>68.600000</td>\n",
       "      <td>18.306127</td>\n",
       "      <td>50.0</td>\n",
       "      <td>55.50</td>\n",
       "      <td>63.0</td>\n",
       "      <td>77.50</td>\n",
       "      <td>112.0</td>\n",
       "    </tr>\n",
       "    <tr>\n",
       "      <th>True</th>\n",
       "      <td>19.0</td>\n",
       "      <td>71.684211</td>\n",
       "      <td>21.949570</td>\n",
       "      <td>42.0</td>\n",
       "      <td>59.00</td>\n",
       "      <td>65.0</td>\n",
       "      <td>79.50</td>\n",
       "      <td>115.0</td>\n",
       "    </tr>\n",
       "    <tr>\n",
       "      <th rowspan=\"2\" valign=\"top\">Expressive Vocabulary</th>\n",
       "      <th>False</th>\n",
       "      <td>10.0</td>\n",
       "      <td>77.500000</td>\n",
       "      <td>23.815261</td>\n",
       "      <td>30.0</td>\n",
       "      <td>70.75</td>\n",
       "      <td>77.5</td>\n",
       "      <td>91.75</td>\n",
       "      <td>110.0</td>\n",
       "    </tr>\n",
       "    <tr>\n",
       "      <th>True</th>\n",
       "      <td>13.0</td>\n",
       "      <td>77.153846</td>\n",
       "      <td>26.324406</td>\n",
       "      <td>20.0</td>\n",
       "      <td>65.00</td>\n",
       "      <td>78.0</td>\n",
       "      <td>93.00</td>\n",
       "      <td>124.0</td>\n",
       "    </tr>\n",
       "    <tr>\n",
       "      <th rowspan=\"2\" valign=\"top\">Language</th>\n",
       "      <th>False</th>\n",
       "      <td>14.0</td>\n",
       "      <td>65.142857</td>\n",
       "      <td>18.291895</td>\n",
       "      <td>49.0</td>\n",
       "      <td>54.25</td>\n",
       "      <td>58.5</td>\n",
       "      <td>66.25</td>\n",
       "      <td>113.0</td>\n",
       "    </tr>\n",
       "    <tr>\n",
       "      <th>True</th>\n",
       "      <td>19.0</td>\n",
       "      <td>69.736842</td>\n",
       "      <td>24.562487</td>\n",
       "      <td>42.0</td>\n",
       "      <td>53.00</td>\n",
       "      <td>60.0</td>\n",
       "      <td>76.00</td>\n",
       "      <td>129.0</td>\n",
       "    </tr>\n",
       "    <tr>\n",
       "      <th rowspan=\"2\" valign=\"top\">Receptive Language</th>\n",
       "      <th>False</th>\n",
       "      <td>14.0</td>\n",
       "      <td>66.214286</td>\n",
       "      <td>12.491096</td>\n",
       "      <td>48.0</td>\n",
       "      <td>59.25</td>\n",
       "      <td>65.0</td>\n",
       "      <td>71.25</td>\n",
       "      <td>100.0</td>\n",
       "    </tr>\n",
       "    <tr>\n",
       "      <th>True</th>\n",
       "      <td>19.0</td>\n",
       "      <td>70.157895</td>\n",
       "      <td>24.549866</td>\n",
       "      <td>46.0</td>\n",
       "      <td>50.00</td>\n",
       "      <td>63.0</td>\n",
       "      <td>78.00</td>\n",
       "      <td>140.0</td>\n",
       "    </tr>\n",
       "    <tr>\n",
       "      <th rowspan=\"2\" valign=\"top\">Receptive Vocabulary</th>\n",
       "      <th>False</th>\n",
       "      <td>11.0</td>\n",
       "      <td>75.272727</td>\n",
       "      <td>20.703096</td>\n",
       "      <td>44.0</td>\n",
       "      <td>61.50</td>\n",
       "      <td>70.0</td>\n",
       "      <td>90.00</td>\n",
       "      <td>107.0</td>\n",
       "    </tr>\n",
       "    <tr>\n",
       "      <th>True</th>\n",
       "      <td>14.0</td>\n",
       "      <td>80.500000</td>\n",
       "      <td>29.502933</td>\n",
       "      <td>34.0</td>\n",
       "      <td>65.50</td>\n",
       "      <td>75.5</td>\n",
       "      <td>86.75</td>\n",
       "      <td>141.0</td>\n",
       "    </tr>\n",
       "  </tbody>\n",
       "</table>\n",
       "</div>"
      ],
      "text/plain": [
       "                                   count       mean        std   min    25%  \\\n",
       "domain                profound_hl                                             \n",
       "Articulation          False          6.0  80.666667  16.966634  58.0  71.75   \n",
       "                      True           3.0  73.000000  20.784610  49.0  67.00   \n",
       "Expressive Language   False         15.0  68.600000  18.306127  50.0  55.50   \n",
       "                      True          19.0  71.684211  21.949570  42.0  59.00   \n",
       "Expressive Vocabulary False         10.0  77.500000  23.815261  30.0  70.75   \n",
       "                      True          13.0  77.153846  26.324406  20.0  65.00   \n",
       "Language              False         14.0  65.142857  18.291895  49.0  54.25   \n",
       "                      True          19.0  69.736842  24.562487  42.0  53.00   \n",
       "Receptive Language    False         14.0  66.214286  12.491096  48.0  59.25   \n",
       "                      True          19.0  70.157895  24.549866  46.0  50.00   \n",
       "Receptive Vocabulary  False         11.0  75.272727  20.703096  44.0  61.50   \n",
       "                      True          14.0  80.500000  29.502933  34.0  65.50   \n",
       "\n",
       "                                    50%    75%    max  \n",
       "domain                profound_hl                      \n",
       "Articulation          False        77.5  93.75  102.0  \n",
       "                      True         85.0  85.00   85.0  \n",
       "Expressive Language   False        63.0  77.50  112.0  \n",
       "                      True         65.0  79.50  115.0  \n",
       "Expressive Vocabulary False        77.5  91.75  110.0  \n",
       "                      True         78.0  93.00  124.0  \n",
       "Language              False        58.5  66.25  113.0  \n",
       "                      True         60.0  76.00  129.0  \n",
       "Receptive Language    False        65.0  71.25  100.0  \n",
       "                      True         63.0  78.00  140.0  \n",
       "Receptive Vocabulary  False        70.0  90.00  107.0  \n",
       "                      True         75.5  86.75  141.0  "
      ]
     },
     "execution_count": 43,
     "metadata": {},
     "output_type": "execute_result"
    }
   ],
   "source": [
    "(test_scores.assign(profound_hl=test_scores.degree_hl==6)\n",
    "         .groupby(['domain', 'profound_hl'])\n",
    "         .score.describe())"
   ]
  },
  {
   "cell_type": "markdown",
   "metadata": {},
   "source": [
    "Parent with(out) hearing loss"
   ]
  },
  {
   "cell_type": "code",
   "execution_count": 44,
   "metadata": {},
   "outputs": [
    {
     "data": {
      "text/html": [
       "<div>\n",
       "<style scoped>\n",
       "    .dataframe tbody tr th:only-of-type {\n",
       "        vertical-align: middle;\n",
       "    }\n",
       "\n",
       "    .dataframe tbody tr th {\n",
       "        vertical-align: top;\n",
       "    }\n",
       "\n",
       "    .dataframe thead th {\n",
       "        text-align: right;\n",
       "    }\n",
       "</style>\n",
       "<table border=\"1\" class=\"dataframe\">\n",
       "  <thead>\n",
       "    <tr style=\"text-align: right;\">\n",
       "      <th></th>\n",
       "      <th></th>\n",
       "      <th>count</th>\n",
       "      <th>mean</th>\n",
       "      <th>std</th>\n",
       "      <th>min</th>\n",
       "      <th>25%</th>\n",
       "      <th>50%</th>\n",
       "      <th>75%</th>\n",
       "      <th>max</th>\n",
       "    </tr>\n",
       "    <tr>\n",
       "      <th>domain</th>\n",
       "      <th>parent_with_hl</th>\n",
       "      <th></th>\n",
       "      <th></th>\n",
       "      <th></th>\n",
       "      <th></th>\n",
       "      <th></th>\n",
       "      <th></th>\n",
       "      <th></th>\n",
       "      <th></th>\n",
       "    </tr>\n",
       "  </thead>\n",
       "  <tbody>\n",
       "    <tr>\n",
       "      <th rowspan=\"2\" valign=\"top\">Articulation</th>\n",
       "      <th>False</th>\n",
       "      <td>7.0</td>\n",
       "      <td>74.142857</td>\n",
       "      <td>17.449246</td>\n",
       "      <td>49.0</td>\n",
       "      <td>64.00</td>\n",
       "      <td>77.0</td>\n",
       "      <td>81.50</td>\n",
       "      <td>102.0</td>\n",
       "    </tr>\n",
       "    <tr>\n",
       "      <th>True</th>\n",
       "      <td>2.0</td>\n",
       "      <td>92.000000</td>\n",
       "      <td>9.899495</td>\n",
       "      <td>85.0</td>\n",
       "      <td>88.50</td>\n",
       "      <td>92.0</td>\n",
       "      <td>95.50</td>\n",
       "      <td>99.0</td>\n",
       "    </tr>\n",
       "    <tr>\n",
       "      <th rowspan=\"2\" valign=\"top\">Expressive Language</th>\n",
       "      <th>False</th>\n",
       "      <td>32.0</td>\n",
       "      <td>70.781250</td>\n",
       "      <td>20.734472</td>\n",
       "      <td>42.0</td>\n",
       "      <td>55.75</td>\n",
       "      <td>65.0</td>\n",
       "      <td>86.50</td>\n",
       "      <td>115.0</td>\n",
       "    </tr>\n",
       "    <tr>\n",
       "      <th>True</th>\n",
       "      <td>2.0</td>\n",
       "      <td>63.000000</td>\n",
       "      <td>1.414214</td>\n",
       "      <td>62.0</td>\n",
       "      <td>62.50</td>\n",
       "      <td>63.0</td>\n",
       "      <td>63.50</td>\n",
       "      <td>64.0</td>\n",
       "    </tr>\n",
       "    <tr>\n",
       "      <th rowspan=\"2\" valign=\"top\">Expressive Vocabulary</th>\n",
       "      <th>False</th>\n",
       "      <td>21.0</td>\n",
       "      <td>77.904762</td>\n",
       "      <td>25.625973</td>\n",
       "      <td>20.0</td>\n",
       "      <td>68.00</td>\n",
       "      <td>78.0</td>\n",
       "      <td>95.00</td>\n",
       "      <td>124.0</td>\n",
       "    </tr>\n",
       "    <tr>\n",
       "      <th>True</th>\n",
       "      <td>2.0</td>\n",
       "      <td>71.000000</td>\n",
       "      <td>14.142136</td>\n",
       "      <td>61.0</td>\n",
       "      <td>66.00</td>\n",
       "      <td>71.0</td>\n",
       "      <td>76.00</td>\n",
       "      <td>81.0</td>\n",
       "    </tr>\n",
       "    <tr>\n",
       "      <th rowspan=\"2\" valign=\"top\">Language</th>\n",
       "      <th>False</th>\n",
       "      <td>31.0</td>\n",
       "      <td>68.451613</td>\n",
       "      <td>22.466032</td>\n",
       "      <td>42.0</td>\n",
       "      <td>53.00</td>\n",
       "      <td>59.0</td>\n",
       "      <td>76.00</td>\n",
       "      <td>129.0</td>\n",
       "    </tr>\n",
       "    <tr>\n",
       "      <th>True</th>\n",
       "      <td>2.0</td>\n",
       "      <td>57.500000</td>\n",
       "      <td>3.535534</td>\n",
       "      <td>55.0</td>\n",
       "      <td>56.25</td>\n",
       "      <td>57.5</td>\n",
       "      <td>58.75</td>\n",
       "      <td>60.0</td>\n",
       "    </tr>\n",
       "    <tr>\n",
       "      <th rowspan=\"2\" valign=\"top\">Receptive Language</th>\n",
       "      <th>False</th>\n",
       "      <td>31.0</td>\n",
       "      <td>68.806452</td>\n",
       "      <td>20.766029</td>\n",
       "      <td>46.0</td>\n",
       "      <td>53.50</td>\n",
       "      <td>65.0</td>\n",
       "      <td>75.50</td>\n",
       "      <td>140.0</td>\n",
       "    </tr>\n",
       "    <tr>\n",
       "      <th>True</th>\n",
       "      <td>2.0</td>\n",
       "      <td>63.500000</td>\n",
       "      <td>3.535534</td>\n",
       "      <td>61.0</td>\n",
       "      <td>62.25</td>\n",
       "      <td>63.5</td>\n",
       "      <td>64.75</td>\n",
       "      <td>66.0</td>\n",
       "    </tr>\n",
       "    <tr>\n",
       "      <th rowspan=\"2\" valign=\"top\">Receptive Vocabulary</th>\n",
       "      <th>False</th>\n",
       "      <td>23.0</td>\n",
       "      <td>79.260870</td>\n",
       "      <td>26.249186</td>\n",
       "      <td>34.0</td>\n",
       "      <td>64.00</td>\n",
       "      <td>71.0</td>\n",
       "      <td>94.00</td>\n",
       "      <td>141.0</td>\n",
       "    </tr>\n",
       "    <tr>\n",
       "      <th>True</th>\n",
       "      <td>2.0</td>\n",
       "      <td>66.000000</td>\n",
       "      <td>16.970563</td>\n",
       "      <td>54.0</td>\n",
       "      <td>60.00</td>\n",
       "      <td>66.0</td>\n",
       "      <td>72.00</td>\n",
       "      <td>78.0</td>\n",
       "    </tr>\n",
       "  </tbody>\n",
       "</table>\n",
       "</div>"
      ],
      "text/plain": [
       "                                      count       mean        std   min  \\\n",
       "domain                parent_with_hl                                      \n",
       "Articulation          False             7.0  74.142857  17.449246  49.0   \n",
       "                      True              2.0  92.000000   9.899495  85.0   \n",
       "Expressive Language   False            32.0  70.781250  20.734472  42.0   \n",
       "                      True              2.0  63.000000   1.414214  62.0   \n",
       "Expressive Vocabulary False            21.0  77.904762  25.625973  20.0   \n",
       "                      True              2.0  71.000000  14.142136  61.0   \n",
       "Language              False            31.0  68.451613  22.466032  42.0   \n",
       "                      True              2.0  57.500000   3.535534  55.0   \n",
       "Receptive Language    False            31.0  68.806452  20.766029  46.0   \n",
       "                      True              2.0  63.500000   3.535534  61.0   \n",
       "Receptive Vocabulary  False            23.0  79.260870  26.249186  34.0   \n",
       "                      True              2.0  66.000000  16.970563  54.0   \n",
       "\n",
       "                                        25%   50%    75%    max  \n",
       "domain                parent_with_hl                             \n",
       "Articulation          False           64.00  77.0  81.50  102.0  \n",
       "                      True            88.50  92.0  95.50   99.0  \n",
       "Expressive Language   False           55.75  65.0  86.50  115.0  \n",
       "                      True            62.50  63.0  63.50   64.0  \n",
       "Expressive Vocabulary False           68.00  78.0  95.00  124.0  \n",
       "                      True            66.00  71.0  76.00   81.0  \n",
       "Language              False           53.00  59.0  76.00  129.0  \n",
       "                      True            56.25  57.5  58.75   60.0  \n",
       "Receptive Language    False           53.50  65.0  75.50  140.0  \n",
       "                      True            62.25  63.5  64.75   66.0  \n",
       "Receptive Vocabulary  False           64.00  71.0  94.00  141.0  \n",
       "                      True            60.00  66.0  72.00   78.0  "
      ]
     },
     "execution_count": 44,
     "metadata": {},
     "output_type": "execute_result"
    }
   ],
   "source": [
    "test_scores.loc[test_scores.parent_hearing_loss=='Unknown', 'parent_hearing_loss'] = np.nan\n",
    "(test_scores.assign(parent_with_hl=test_scores.parent_hearing_loss.isin(['Both parents have hearing loss',\n",
    "                                                                       'Father has hearing loss',\n",
    "                                                                       'Mother has hearing loss']))\n",
    "         .groupby(['domain', 'parent_with_hl'])\n",
    "         .score.describe())"
   ]
  },
  {
   "cell_type": "markdown",
   "metadata": {},
   "source": [
    "Mother with(out) college education"
   ]
  },
  {
   "cell_type": "code",
   "execution_count": 45,
   "metadata": {},
   "outputs": [
    {
     "data": {
      "text/html": [
       "<div>\n",
       "<style scoped>\n",
       "    .dataframe tbody tr th:only-of-type {\n",
       "        vertical-align: middle;\n",
       "    }\n",
       "\n",
       "    .dataframe tbody tr th {\n",
       "        vertical-align: top;\n",
       "    }\n",
       "\n",
       "    .dataframe thead th {\n",
       "        text-align: right;\n",
       "    }\n",
       "</style>\n",
       "<table border=\"1\" class=\"dataframe\">\n",
       "  <thead>\n",
       "    <tr style=\"text-align: right;\">\n",
       "      <th></th>\n",
       "      <th></th>\n",
       "      <th>count</th>\n",
       "      <th>mean</th>\n",
       "      <th>std</th>\n",
       "      <th>min</th>\n",
       "      <th>25%</th>\n",
       "      <th>50%</th>\n",
       "      <th>75%</th>\n",
       "      <th>max</th>\n",
       "    </tr>\n",
       "    <tr>\n",
       "      <th>domain</th>\n",
       "      <th>mother_college</th>\n",
       "      <th></th>\n",
       "      <th></th>\n",
       "      <th></th>\n",
       "      <th></th>\n",
       "      <th></th>\n",
       "      <th></th>\n",
       "      <th></th>\n",
       "      <th></th>\n",
       "    </tr>\n",
       "  </thead>\n",
       "  <tbody>\n",
       "    <tr>\n",
       "      <th rowspan=\"2\" valign=\"top\">Articulation</th>\n",
       "      <th>0.0</th>\n",
       "      <td>5.0</td>\n",
       "      <td>84.400000</td>\n",
       "      <td>17.756689</td>\n",
       "      <td>58.0</td>\n",
       "      <td>78.00</td>\n",
       "      <td>85.0</td>\n",
       "      <td>99.00</td>\n",
       "      <td>102.0</td>\n",
       "    </tr>\n",
       "    <tr>\n",
       "      <th>1.0</th>\n",
       "      <td>3.0</td>\n",
       "      <td>77.333333</td>\n",
       "      <td>7.505553</td>\n",
       "      <td>70.0</td>\n",
       "      <td>73.50</td>\n",
       "      <td>77.0</td>\n",
       "      <td>81.00</td>\n",
       "      <td>85.0</td>\n",
       "    </tr>\n",
       "    <tr>\n",
       "      <th rowspan=\"2\" valign=\"top\">Expressive Language</th>\n",
       "      <th>0.0</th>\n",
       "      <td>18.0</td>\n",
       "      <td>67.444444</td>\n",
       "      <td>16.981728</td>\n",
       "      <td>42.0</td>\n",
       "      <td>56.25</td>\n",
       "      <td>64.0</td>\n",
       "      <td>72.00</td>\n",
       "      <td>108.0</td>\n",
       "    </tr>\n",
       "    <tr>\n",
       "      <th>1.0</th>\n",
       "      <td>6.0</td>\n",
       "      <td>84.666667</td>\n",
       "      <td>22.535897</td>\n",
       "      <td>64.0</td>\n",
       "      <td>66.25</td>\n",
       "      <td>77.5</td>\n",
       "      <td>105.25</td>\n",
       "      <td>112.0</td>\n",
       "    </tr>\n",
       "    <tr>\n",
       "      <th rowspan=\"2\" valign=\"top\">Expressive Vocabulary</th>\n",
       "      <th>0.0</th>\n",
       "      <td>14.0</td>\n",
       "      <td>77.285714</td>\n",
       "      <td>22.781330</td>\n",
       "      <td>20.0</td>\n",
       "      <td>68.75</td>\n",
       "      <td>80.5</td>\n",
       "      <td>90.25</td>\n",
       "      <td>110.0</td>\n",
       "    </tr>\n",
       "    <tr>\n",
       "      <th>1.0</th>\n",
       "      <td>4.0</td>\n",
       "      <td>85.000000</td>\n",
       "      <td>21.771541</td>\n",
       "      <td>61.0</td>\n",
       "      <td>70.75</td>\n",
       "      <td>84.5</td>\n",
       "      <td>98.75</td>\n",
       "      <td>110.0</td>\n",
       "    </tr>\n",
       "    <tr>\n",
       "      <th rowspan=\"2\" valign=\"top\">Language</th>\n",
       "      <th>0.0</th>\n",
       "      <td>17.0</td>\n",
       "      <td>65.235294</td>\n",
       "      <td>16.972512</td>\n",
       "      <td>42.0</td>\n",
       "      <td>55.00</td>\n",
       "      <td>62.0</td>\n",
       "      <td>72.00</td>\n",
       "      <td>109.0</td>\n",
       "    </tr>\n",
       "    <tr>\n",
       "      <th>1.0</th>\n",
       "      <td>6.0</td>\n",
       "      <td>81.166667</td>\n",
       "      <td>26.528601</td>\n",
       "      <td>55.0</td>\n",
       "      <td>61.00</td>\n",
       "      <td>72.5</td>\n",
       "      <td>105.00</td>\n",
       "      <td>114.0</td>\n",
       "    </tr>\n",
       "    <tr>\n",
       "      <th rowspan=\"2\" valign=\"top\">Receptive Language</th>\n",
       "      <th>0.0</th>\n",
       "      <td>17.0</td>\n",
       "      <td>66.529412</td>\n",
       "      <td>13.919939</td>\n",
       "      <td>46.0</td>\n",
       "      <td>59.00</td>\n",
       "      <td>66.0</td>\n",
       "      <td>73.00</td>\n",
       "      <td>102.0</td>\n",
       "    </tr>\n",
       "    <tr>\n",
       "      <th>1.0</th>\n",
       "      <td>6.0</td>\n",
       "      <td>77.000000</td>\n",
       "      <td>23.160311</td>\n",
       "      <td>50.0</td>\n",
       "      <td>62.00</td>\n",
       "      <td>71.0</td>\n",
       "      <td>94.25</td>\n",
       "      <td>109.0</td>\n",
       "    </tr>\n",
       "    <tr>\n",
       "      <th rowspan=\"2\" valign=\"top\">Receptive Vocabulary</th>\n",
       "      <th>0.0</th>\n",
       "      <td>16.0</td>\n",
       "      <td>74.812500</td>\n",
       "      <td>17.174472</td>\n",
       "      <td>34.0</td>\n",
       "      <td>69.25</td>\n",
       "      <td>73.0</td>\n",
       "      <td>83.00</td>\n",
       "      <td>107.0</td>\n",
       "    </tr>\n",
       "    <tr>\n",
       "      <th>1.0</th>\n",
       "      <td>5.0</td>\n",
       "      <td>90.800000</td>\n",
       "      <td>33.655609</td>\n",
       "      <td>54.0</td>\n",
       "      <td>60.00</td>\n",
       "      <td>102.0</td>\n",
       "      <td>103.00</td>\n",
       "      <td>135.0</td>\n",
       "    </tr>\n",
       "  </tbody>\n",
       "</table>\n",
       "</div>"
      ],
      "text/plain": [
       "                                      count       mean        std   min  \\\n",
       "domain                mother_college                                      \n",
       "Articulation          0.0               5.0  84.400000  17.756689  58.0   \n",
       "                      1.0               3.0  77.333333   7.505553  70.0   \n",
       "Expressive Language   0.0              18.0  67.444444  16.981728  42.0   \n",
       "                      1.0               6.0  84.666667  22.535897  64.0   \n",
       "Expressive Vocabulary 0.0              14.0  77.285714  22.781330  20.0   \n",
       "                      1.0               4.0  85.000000  21.771541  61.0   \n",
       "Language              0.0              17.0  65.235294  16.972512  42.0   \n",
       "                      1.0               6.0  81.166667  26.528601  55.0   \n",
       "Receptive Language    0.0              17.0  66.529412  13.919939  46.0   \n",
       "                      1.0               6.0  77.000000  23.160311  50.0   \n",
       "Receptive Vocabulary  0.0              16.0  74.812500  17.174472  34.0   \n",
       "                      1.0               5.0  90.800000  33.655609  54.0   \n",
       "\n",
       "                                        25%    50%     75%    max  \n",
       "domain                mother_college                               \n",
       "Articulation          0.0             78.00   85.0   99.00  102.0  \n",
       "                      1.0             73.50   77.0   81.00   85.0  \n",
       "Expressive Language   0.0             56.25   64.0   72.00  108.0  \n",
       "                      1.0             66.25   77.5  105.25  112.0  \n",
       "Expressive Vocabulary 0.0             68.75   80.5   90.25  110.0  \n",
       "                      1.0             70.75   84.5   98.75  110.0  \n",
       "Language              0.0             55.00   62.0   72.00  109.0  \n",
       "                      1.0             61.00   72.5  105.00  114.0  \n",
       "Receptive Language    0.0             59.00   66.0   73.00  102.0  \n",
       "                      1.0             62.00   71.0   94.25  109.0  \n",
       "Receptive Vocabulary  0.0             69.25   73.0   83.00  107.0  \n",
       "                      1.0             60.00  102.0  103.00  135.0  "
      ]
     },
     "execution_count": 45,
     "metadata": {},
     "output_type": "execute_result"
    }
   ],
   "source": [
    "test_scores.groupby(['domain', 'mother_college']).score.describe()"
   ]
  }
 ],
 "metadata": {
  "kernelspec": {
   "display_name": "Python 3",
   "language": "python",
   "name": "python3"
  },
  "language_info": {
   "codemirror_mode": {
    "name": "ipython",
    "version": 3
   },
   "file_extension": ".py",
   "mimetype": "text/x-python",
   "name": "python",
   "nbconvert_exporter": "python",
   "pygments_lexer": "ipython3",
   "version": "3.7.3"
  }
 },
 "nbformat": 4,
 "nbformat_minor": 4
}
