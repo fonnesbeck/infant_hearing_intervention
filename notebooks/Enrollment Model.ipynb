{
 "cells": [
  {
   "cell_type": "markdown",
   "metadata": {},
   "source": [
    "# Impact of age of enrollment on the Five Domains of Speech-Language in Children with Hearing Loss at age 4 years\n",
    "\n",
    "Paper 2"
   ]
  },
  {
   "cell_type": "code",
   "execution_count": 1,
   "metadata": {},
   "outputs": [],
   "source": [
    "# Import modules and set options\n",
    "%matplotlib inline\n",
    "import matplotlib.pyplot as plt\n",
    "import pandas as pd\n",
    "import numpy as np\n",
    "import seaborn as sns\n",
    "import arviz as az\n",
    "from pathlib import Path\n",
    "\n",
    "sns.set(context='notebook', style='ticks')"
   ]
  },
  {
   "cell_type": "markdown",
   "metadata": {},
   "source": [
    "Import data"
   ]
  },
  {
   "cell_type": "code",
   "execution_count": 2,
   "metadata": {},
   "outputs": [],
   "source": [
    "lsl_dr = (pd.read_csv(str(Path.home()) + '/infant_hearing_intervention/data/clean/lsl_dr_frozen_09272019.csv', low_memory=False)\n",
    "                  .rename({'onset_1':'identify_mo'}, axis=1))"
   ]
  },
  {
   "cell_type": "code",
   "execution_count": 3,
   "metadata": {},
   "outputs": [
    {
     "data": {
      "text/html": [
       "<div>\n",
       "<style scoped>\n",
       "    .dataframe tbody tr th:only-of-type {\n",
       "        vertical-align: middle;\n",
       "    }\n",
       "\n",
       "    .dataframe tbody tr th {\n",
       "        vertical-align: top;\n",
       "    }\n",
       "\n",
       "    .dataframe thead th {\n",
       "        text-align: right;\n",
       "    }\n",
       "</style>\n",
       "<table border=\"1\" class=\"dataframe\">\n",
       "  <thead>\n",
       "    <tr style=\"text-align: right;\">\n",
       "      <th></th>\n",
       "      <th>redcap_event_name</th>\n",
       "      <th>academic_year_rv</th>\n",
       "      <th>hl</th>\n",
       "      <th>male</th>\n",
       "      <th>_race</th>\n",
       "      <th>prim_lang</th>\n",
       "      <th>sib</th>\n",
       "      <th>_mother_ed</th>\n",
       "      <th>father_ed</th>\n",
       "      <th>par1_ed</th>\n",
       "      <th>...</th>\n",
       "      <th>gf3_siw_ss</th>\n",
       "      <th>gf_version</th>\n",
       "      <th>ppvt_f</th>\n",
       "      <th>ppvt_ss</th>\n",
       "      <th>rowpvt_ss</th>\n",
       "      <th>school</th>\n",
       "      <th>score</th>\n",
       "      <th>test_name</th>\n",
       "      <th>test_type</th>\n",
       "      <th>score_adj</th>\n",
       "    </tr>\n",
       "  </thead>\n",
       "  <tbody>\n",
       "    <tr>\n",
       "      <th>0</th>\n",
       "      <td>initial_assessment_arm_1</td>\n",
       "      <td>2002.0</td>\n",
       "      <td>0.0</td>\n",
       "      <td>0.0</td>\n",
       "      <td>0.0</td>\n",
       "      <td>0.0</td>\n",
       "      <td>1.0</td>\n",
       "      <td>6.0</td>\n",
       "      <td>6.0</td>\n",
       "      <td>NaN</td>\n",
       "      <td>...</td>\n",
       "      <td>NaN</td>\n",
       "      <td>NaN</td>\n",
       "      <td>NaN</td>\n",
       "      <td>NaN</td>\n",
       "      <td>NaN</td>\n",
       "      <td>101</td>\n",
       "      <td>58.0</td>\n",
       "      <td>NaN</td>\n",
       "      <td>EOWPVT</td>\n",
       "      <td>59.847785</td>\n",
       "    </tr>\n",
       "    <tr>\n",
       "      <th>1</th>\n",
       "      <td>initial_assessment_arm_1</td>\n",
       "      <td>2002.0</td>\n",
       "      <td>0.0</td>\n",
       "      <td>0.0</td>\n",
       "      <td>0.0</td>\n",
       "      <td>0.0</td>\n",
       "      <td>1.0</td>\n",
       "      <td>6.0</td>\n",
       "      <td>6.0</td>\n",
       "      <td>NaN</td>\n",
       "      <td>...</td>\n",
       "      <td>NaN</td>\n",
       "      <td>NaN</td>\n",
       "      <td>NaN</td>\n",
       "      <td>NaN</td>\n",
       "      <td>NaN</td>\n",
       "      <td>101</td>\n",
       "      <td>51.0</td>\n",
       "      <td>PLS</td>\n",
       "      <td>receptive</td>\n",
       "      <td>48.176390</td>\n",
       "    </tr>\n",
       "    <tr>\n",
       "      <th>2</th>\n",
       "      <td>initial_assessment_arm_1</td>\n",
       "      <td>2002.0</td>\n",
       "      <td>0.0</td>\n",
       "      <td>0.0</td>\n",
       "      <td>0.0</td>\n",
       "      <td>0.0</td>\n",
       "      <td>1.0</td>\n",
       "      <td>6.0</td>\n",
       "      <td>6.0</td>\n",
       "      <td>NaN</td>\n",
       "      <td>...</td>\n",
       "      <td>NaN</td>\n",
       "      <td>NaN</td>\n",
       "      <td>NaN</td>\n",
       "      <td>NaN</td>\n",
       "      <td>NaN</td>\n",
       "      <td>101</td>\n",
       "      <td>60.0</td>\n",
       "      <td>PLS</td>\n",
       "      <td>expressive</td>\n",
       "      <td>57.345971</td>\n",
       "    </tr>\n",
       "    <tr>\n",
       "      <th>3</th>\n",
       "      <td>initial_assessment_arm_1</td>\n",
       "      <td>2002.0</td>\n",
       "      <td>0.0</td>\n",
       "      <td>0.0</td>\n",
       "      <td>0.0</td>\n",
       "      <td>0.0</td>\n",
       "      <td>1.0</td>\n",
       "      <td>6.0</td>\n",
       "      <td>6.0</td>\n",
       "      <td>NaN</td>\n",
       "      <td>...</td>\n",
       "      <td>NaN</td>\n",
       "      <td>NaN</td>\n",
       "      <td>NaN</td>\n",
       "      <td>NaN</td>\n",
       "      <td>NaN</td>\n",
       "      <td>101</td>\n",
       "      <td>54.0</td>\n",
       "      <td>PLS</td>\n",
       "      <td>total</td>\n",
       "      <td>51.232917</td>\n",
       "    </tr>\n",
       "    <tr>\n",
       "      <th>4</th>\n",
       "      <td>initial_assessment_arm_1</td>\n",
       "      <td>2011.0</td>\n",
       "      <td>0.0</td>\n",
       "      <td>0.0</td>\n",
       "      <td>2.0</td>\n",
       "      <td>0.0</td>\n",
       "      <td>1.0</td>\n",
       "      <td>5.0</td>\n",
       "      <td>5.0</td>\n",
       "      <td>NaN</td>\n",
       "      <td>...</td>\n",
       "      <td>NaN</td>\n",
       "      <td>NaN</td>\n",
       "      <td>NaN</td>\n",
       "      <td>NaN</td>\n",
       "      <td>NaN</td>\n",
       "      <td>626</td>\n",
       "      <td>50.0</td>\n",
       "      <td>PLS</td>\n",
       "      <td>receptive</td>\n",
       "      <td>50.000000</td>\n",
       "    </tr>\n",
       "  </tbody>\n",
       "</table>\n",
       "<p>5 rows × 247 columns</p>\n",
       "</div>"
      ],
      "text/plain": [
       "          redcap_event_name  academic_year_rv   hl  male  _race  prim_lang  \\\n",
       "0  initial_assessment_arm_1            2002.0  0.0   0.0    0.0        0.0   \n",
       "1  initial_assessment_arm_1            2002.0  0.0   0.0    0.0        0.0   \n",
       "2  initial_assessment_arm_1            2002.0  0.0   0.0    0.0        0.0   \n",
       "3  initial_assessment_arm_1            2002.0  0.0   0.0    0.0        0.0   \n",
       "4  initial_assessment_arm_1            2011.0  0.0   0.0    2.0        0.0   \n",
       "\n",
       "   sib  _mother_ed  father_ed  par1_ed  ...  gf3_siw_ss  gf_version  ppvt_f  \\\n",
       "0  1.0         6.0        6.0      NaN  ...         NaN         NaN     NaN   \n",
       "1  1.0         6.0        6.0      NaN  ...         NaN         NaN     NaN   \n",
       "2  1.0         6.0        6.0      NaN  ...         NaN         NaN     NaN   \n",
       "3  1.0         6.0        6.0      NaN  ...         NaN         NaN     NaN   \n",
       "4  1.0         5.0        5.0      NaN  ...         NaN         NaN     NaN   \n",
       "\n",
       "   ppvt_ss  rowpvt_ss  school  score  test_name   test_type  score_adj  \n",
       "0      NaN        NaN     101   58.0        NaN      EOWPVT  59.847785  \n",
       "1      NaN        NaN     101   51.0        PLS   receptive  48.176390  \n",
       "2      NaN        NaN     101   60.0        PLS  expressive  57.345971  \n",
       "3      NaN        NaN     101   54.0        PLS       total  51.232917  \n",
       "4      NaN        NaN     626   50.0        PLS   receptive  50.000000  \n",
       "\n",
       "[5 rows x 247 columns]"
      ]
     },
     "execution_count": 3,
     "metadata": {},
     "output_type": "execute_result"
    }
   ],
   "source": [
    "lsl_dr.head()"
   ]
  },
  {
   "cell_type": "markdown",
   "metadata": {},
   "source": [
    "Indicator for non-profound hearing loss"
   ]
  },
  {
   "cell_type": "code",
   "execution_count": 4,
   "metadata": {},
   "outputs": [],
   "source": [
    "lsl_dr['deg_hl_below6'] = lsl_dr.degree_hl<6\n",
    "lsl_dr.loc[lsl_dr.degree_hl.isnull(), 'deg_hl_below6'] = np.nan"
   ]
  },
  {
   "cell_type": "markdown",
   "metadata": {},
   "source": [
    "Indicator for first intervention outside OPTION"
   ]
  },
  {
   "cell_type": "code",
   "execution_count": 5,
   "metadata": {},
   "outputs": [],
   "source": [
    "lsl_dr['int_outside_option'] = lsl_dr.age > lsl_dr.age_int\n",
    "lsl_dr.loc[lsl_dr.age < lsl_dr.age_int, 'int_outside_option'] = np.nan"
   ]
  },
  {
   "cell_type": "markdown",
   "metadata": {},
   "source": [
    "Indicator for high school graduation of mother"
   ]
  },
  {
   "cell_type": "code",
   "execution_count": 6,
   "metadata": {},
   "outputs": [],
   "source": [
    "lsl_dr['mother_college'] = lsl_dr.mother_ed >= 3\n",
    "lsl_dr.loc[lsl_dr.mother_ed.isnull(), 'mother_college'] = None"
   ]
  },
  {
   "cell_type": "markdown",
   "metadata": {},
   "source": [
    "Create age in years variable"
   ]
  },
  {
   "cell_type": "code",
   "execution_count": 7,
   "metadata": {},
   "outputs": [],
   "source": [
    "lsl_dr['age_years'] = lsl_dr.age/12."
   ]
  },
  {
   "cell_type": "markdown",
   "metadata": {},
   "source": [
    "Create school index"
   ]
  },
  {
   "cell_type": "code",
   "execution_count": 8,
   "metadata": {},
   "outputs": [],
   "source": [
    "schools_unique = np.sort(lsl_dr.school.unique())\n",
    "school_lookup = dict(zip(schools_unique, range(len(schools_unique))))"
   ]
  },
  {
   "cell_type": "code",
   "execution_count": 9,
   "metadata": {},
   "outputs": [],
   "source": [
    "lsl_dr['school_idx'] = lsl_dr.school.replace(school_lookup)"
   ]
  },
  {
   "cell_type": "markdown",
   "metadata": {},
   "source": [
    "Create student index"
   ]
  },
  {
   "cell_type": "code",
   "execution_count": 10,
   "metadata": {},
   "outputs": [],
   "source": [
    "student_unique = np.sort(lsl_dr.study_id.unique())\n",
    "student_lookup = dict(zip(student_unique, range(len(student_unique))))"
   ]
  },
  {
   "cell_type": "code",
   "execution_count": 11,
   "metadata": {},
   "outputs": [],
   "source": [
    "lsl_dr['student_idx'] = lsl_dr.study_id.replace(student_lookup)"
   ]
  },
  {
   "cell_type": "markdown",
   "metadata": {},
   "source": [
    "Add expressive and receptive to langauge test domains"
   ]
  },
  {
   "cell_type": "code",
   "execution_count": 12,
   "metadata": {},
   "outputs": [],
   "source": [
    "lsl_dr.loc[(lsl_dr.domain=='Language') & (lsl_dr.test_type=='receptive'), \n",
    "           'domain'] = 'Receptive Language'\n",
    "lsl_dr.loc[(lsl_dr.domain=='Language') & (lsl_dr.test_type=='expressive'), \n",
    "           'domain'] = 'Expressive Language'\n",
    "lsl_dr.loc[(lsl_dr.domain=='Language') & (lsl_dr.test_type=='total'), \n",
    "           'domain'] = 'Total Language'"
   ]
  },
  {
   "cell_type": "code",
   "execution_count": 13,
   "metadata": {},
   "outputs": [],
   "source": [
    "lsl_dr['ident_3mo'] = lsl_dr.identify_mo <=3\n",
    "lsl_dr.loc[lsl_dr.identify_mo.isnull(), 'ident_3mo'] = None\n",
    "lsl_dr['int_6mo'] = lsl_dr.age_int <= 6\n",
    "lsl_dr.loc[lsl_dr.identify_mo.isnull(), 'int_6mo'] = None"
   ]
  },
  {
   "cell_type": "markdown",
   "metadata": {},
   "source": [
    "Drop records with missing race and age at ernollment, since there is less than 1% of them"
   ]
  },
  {
   "cell_type": "code",
   "execution_count": 14,
   "metadata": {},
   "outputs": [],
   "source": [
    "lsl_dr = lsl_dr.dropna(subset=['race', 'age_years', 'int_outside_option'])"
   ]
  },
  {
   "cell_type": "markdown",
   "metadata": {},
   "source": [
    "### Exclusions\n",
    "\n",
    "Drop non-english and other disabilities, filter for hearing loss"
   ]
  },
  {
   "cell_type": "code",
   "execution_count": 15,
   "metadata": {},
   "outputs": [],
   "source": [
    "other_etiology = (lsl_dr[['etiology_3___2', 'etiology_3___4', 'etiology_3___5', 'etiology_3___6', 'etiology_3___9',\n",
    "       'etiology_oth___1', 'etiology_oth___3', 'etiology_oth___4', 'etiology_oth___8', 'etiology_oth___9']]\n",
    "                      .sum(1).astype(bool))\n",
    "NON_ENGLISH = lsl_dr.non_english.astype(bool) "
   ]
  },
  {
   "cell_type": "code",
   "execution_count": 16,
   "metadata": {},
   "outputs": [],
   "source": [
    "SECONDARY_DISABILITY = (lsl_dr.synd_or_disab.astype(bool) \n",
    "     | ~(lsl_dr.etiology_2.isin([0,4]))\n",
    "     | (lsl_dr.etiology_2.isnull() & other_etiology))"
   ]
  },
  {
   "cell_type": "code",
   "execution_count": 17,
   "metadata": {},
   "outputs": [],
   "source": [
    "# no secondary distability, english first language\n",
    "inclusion_mask_1 = ((lsl_dr.degree_hl!=0)\n",
    "                  & ~SECONDARY_DISABILITY\n",
    "                  & ~NON_ENGLISH)\n",
    "\n",
    "# secondary disability, english first language\n",
    "inclusion_mask_2 = ((lsl_dr.degree_hl!=0)\n",
    "                  & SECONDARY_DISABILITY\n",
    "                  & ~NON_ENGLISH)\n",
    "\n",
    "# no secondary disability, non-english\n",
    "inclusion_mask_3 = ((lsl_dr.degree_hl!=0)\n",
    "                  & ~SECONDARY_DISABILITY\n",
    "                  & NON_ENGLISH)\n",
    "\n",
    "# secondary disability, non-english\n",
    "inclusion_mask_4 = ((lsl_dr.degree_hl!=0)\n",
    "                  & SECONDARY_DISABILITY\n",
    "                  & NON_ENGLISH)"
   ]
  },
  {
   "cell_type": "code",
   "execution_count": 18,
   "metadata": {},
   "outputs": [],
   "source": [
    "masks = {'no secondary disability, english': inclusion_mask_1, \n",
    "         'secondary disability, english': inclusion_mask_2, \n",
    "         'no secondary disability, non-english': inclusion_mask_3, \n",
    "         'secondary disability, non-english': inclusion_mask_4}"
   ]
  },
  {
   "cell_type": "code",
   "execution_count": 19,
   "metadata": {},
   "outputs": [],
   "source": [
    "covariates = ['score_adj', 'student_idx', 'school_idx', 'male', 'sib', 'family_inv', 'race', 'age_test', \n",
    "              'domain', 'deg_hl_below6', 'mother_college', 'age_years', 'test_type', 'time', 'bilateral_ci',\n",
    "              'bilateral_ha', 'unilateral_ci', 'unilateral_ha', 'bimodal', 'age_amp',\n",
    "              'ident_3mo', 'int_outside_option', 'int_6mo']"
   ]
  },
  {
   "cell_type": "code",
   "execution_count": 20,
   "metadata": {},
   "outputs": [],
   "source": [
    "group = 'no secondary disability, english'\n",
    "filename_stub = ''"
   ]
  },
  {
   "cell_type": "code",
   "execution_count": 21,
   "metadata": {},
   "outputs": [
    {
     "data": {
      "text/plain": [
       "31454"
      ]
     },
     "execution_count": 21,
     "metadata": {},
     "output_type": "execute_result"
    }
   ],
   "source": [
    "analysis_subset = lsl_dr.loc[masks[group], covariates].copy().dropna(subset=['time', 'score_adj', 'age_test']) \n",
    "analysis_subset.shape[0]"
   ]
  },
  {
   "cell_type": "code",
   "execution_count": 22,
   "metadata": {},
   "outputs": [
    {
     "data": {
      "text/plain": [
       "3074"
      ]
     },
     "execution_count": 22,
     "metadata": {},
     "output_type": "execute_result"
    }
   ],
   "source": [
    "unique_students = analysis_subset.drop_duplicates(subset='student_idx')\n",
    "unique_students.shape[0]"
   ]
  },
  {
   "cell_type": "code",
   "execution_count": 23,
   "metadata": {},
   "outputs": [
    {
     "data": {
      "text/plain": [
       "mother_college    0.25\n",
       "age_amp           0.15\n",
       "int_6mo           0.12\n",
       "ident_3mo         0.12\n",
       "family_inv        0.09\n",
       "deg_hl_below6     0.07\n",
       "sib               0.05\n",
       "dtype: float64"
      ]
     },
     "execution_count": 23,
     "metadata": {},
     "output_type": "execute_result"
    }
   ],
   "source": [
    "null_prop = analysis_subset.isnull().mean()\n",
    "null_prop[null_prop>0].round(2).sort_values(ascending=False)"
   ]
  },
  {
   "cell_type": "markdown",
   "metadata": {},
   "source": [
    "## Model specification"
   ]
  },
  {
   "cell_type": "code",
   "execution_count": 24,
   "metadata": {},
   "outputs": [
    {
     "data": {
      "text/plain": [
       "masked_array(data=[0.4, --, 5.0],\n",
       "             mask=[False,  True, False],\n",
       "       fill_value=0.5)"
      ]
     },
     "execution_count": 24,
     "metadata": {},
     "output_type": "execute_result"
    }
   ],
   "source": [
    "def fillna(x, value):\n",
    "    x_masked = np.ma.masked_invalid(x)\n",
    "    np.ma.set_fill_value(x_masked, value)\n",
    "    return x_masked\n",
    "\n",
    "fillna(np.array([0.4, np.nan, 5]), 0.5)"
   ]
  },
  {
   "cell_type": "code",
   "execution_count": 29,
   "metadata": {},
   "outputs": [],
   "source": [
    "from pymc3 import Bernoulli, Normal, Uniform, Dirichlet, Categorical, Beta, HalfCauchy\n",
    "from pymc3 import Gamma, Exponential, Multinomial, HalfNormal, NormalMixture, Lognormal\n",
    "from pymc3 import Model, Deterministic, Metropolis\n",
    "from pymc3 import sample\n",
    "\n",
    "from numpy.ma import masked_values, set_fill_value, masked_invalid\n",
    "import theano.tensor as tt\n",
    "from theano import shared\n",
    "\n",
    "def generate_model(dataset, cohort_age=4):\n",
    "    \n",
    "    if cohort_age==2:\n",
    "        mask = (dataset.age_test>=24) & (dataset.age_test<36)\n",
    "    elif cohort_age==3:\n",
    "        mask = (dataset.age_test>=36) & (dataset.age_test<48)\n",
    "    elif cohort_age==4:\n",
    "        mask = (dataset.age_test>=48) & (dataset.age_test<60)\n",
    "    elif cohort_age==5:\n",
    "        mask = (dataset.age_test>=60) & (dataset.age_test<72)\n",
    "    elif cohort_age==6:\n",
    "        mask = (dataset.age_test>=72) & (dataset.age_test<84)\n",
    "    else:\n",
    "        print('Invalid age!')\n",
    "        return\n",
    "    \n",
    "    # Generate mean scores\n",
    "    cohort_dataset = dataset[mask]\n",
    "    dataset_unique = cohort_dataset.loc[cohort_dataset.groupby('student_idx').age_test.idxmax()]\n",
    "\n",
    "    assert not dataset_unique.score_adj.isnull().sum()\n",
    "#     mean_scores = dataset[mask].groupby('student_idx').score.mean()\n",
    "#     dataset_unique = dataset[mask].drop_duplicates(subset='student_idx')\n",
    "#     dataset_unique.set_index('student_idx').drop('score', axis=1).join(mean_scores)\n",
    "#     assert not dataset_unique.score.isnull().sum()\n",
    "    \n",
    "    (family_inv, school, \n",
    "     time, sib,\n",
    "     mother_college, age_amp,\n",
    "     ident_3mo, int_outside_option, \n",
    "     int_6mo, score) = dataset_unique[['family_inv', 'school_idx',  \n",
    "                                       'time', 'sib', \n",
    "                                       'mother_college','age_amp', \n",
    "                                       'ident_3mo', 'int_outside_option', \n",
    "                                       'int_6mo', 'score_adj']].astype(float).T.values\n",
    "\n",
    "    int_option = (~int_outside_option.astype(bool)).astype(int)\n",
    "\n",
    "    with Model() as model:\n",
    "        \n",
    "        # Imputation of age of amplification\n",
    "        if np.isnan(age_amp).sum():\n",
    "            m_age_amp = Normal(\"m_age_amp\", 0, sd=5, shape=2)\n",
    "            s_age_amp = Exponential(\"s_age_amp\", 1)\n",
    "            p_age_amp = Beta('p_age_amp', 1, 1)\n",
    "            _x_age_amp = NormalMixture('x_age_amp', [p_age_amp, 1-p_age_amp], m_age_amp, \n",
    "                                       sd=s_age_amp,\n",
    "                                       observed=masked_invalid(np.log(age_amp+0.1)))\n",
    "            x_age_amp = (tt.exp(_x_age_amp) - 0.1) / 12\n",
    "        else:\n",
    "            x_age_amp = age_amp / 12\n",
    "        \n",
    "        # Imputation of family involvement\n",
    "        if np.isnan(family_inv).sum():\n",
    "            p_family_inv = Dirichlet(\"p_family_inv\", np.ones(5))\n",
    "            x_family_inv = Categorical('x_family_inv', p_family_inv, \n",
    "                                       observed=masked_invalid(family_inv))\n",
    "        else:\n",
    "            x_family_inv = family_inv\n",
    "            \n",
    "        # Imputation of siblings\n",
    "        if np.isnan(sib).sum():\n",
    "            n_sib_cats = len(dataset.sib.unique())\n",
    "            p_sib = Dirichlet(\"p_sib\", np.ones(n_sib_cats))\n",
    "            x_sib = Categorical('x_sib', p_sib, observed=masked_invalid(sib))\n",
    "        else:\n",
    "            x_sib = sib\n",
    "            \n",
    "        # Imputation of 3 month identification\n",
    "        if np.isnan(ident_3mo).sum():\n",
    "            p_3mo = Beta(\"p_3mo\", 1, 1)\n",
    "            x_3mo = Bernoulli('x_3mo', p_3mo, observed=masked_invalid(ident_3mo))\n",
    "        else:\n",
    "            x_3mo = ident_3mo\n",
    "            \n",
    "        # Imputation of 6 month intervention\n",
    "        if np.isnan(int_6mo).sum():\n",
    "            p_6mo = Beta(\"p_6mo\", 1, 1)\n",
    "            x_6mo = Bernoulli('x_6mo', p_6mo, observed=masked_invalid(int_6mo))\n",
    "        else:\n",
    "            x_6mo = int_6mo\n",
    "            \n",
    "        # Imputation of mother's college education\n",
    "        if np.isnan(mother_college).sum():\n",
    "            p_mother_college = Beta(\"p_mother_college\", 1, 1)\n",
    "            x_mother_college = Bernoulli('x_mother_college', p_mother_college, observed=masked_invalid(mother_college))\n",
    "        else:\n",
    "            x_mother_college = mother_college\n",
    "            \n",
    "        # Indices to school random effects\n",
    "        unique_schools = np.unique(school)\n",
    "        school_index = [list(unique_schools).index(s) for s in school]\n",
    "\n",
    "        # School random effect (non-centered parameterization)\n",
    "        μ_school = Normal('μ_school', 90, sd=10)\n",
    "        σ_school = HalfCauchy(\"σ_school\", 1)\n",
    "        z_school = Normal('z_school', mu=0, sd=1, shape=len(unique_schools))\n",
    "        α_school = μ_school + z_school*σ_school\n",
    "        \n",
    "        # Random intercepts\n",
    "        intercept = α_school[school_index]\n",
    "\n",
    "        # Covariates\n",
    "        X = [x_age_amp, \n",
    "             x_family_inv, \n",
    "             x_sib,\n",
    "             x_mother_college, \n",
    "             time,\n",
    "             x_3mo,\n",
    "             x_6mo,\n",
    "             int_option,\n",
    "             int_option*x_6mo]\n",
    "\n",
    "        assert not np.isnan(time).any()\n",
    "        assert not np.isnan(int_option).any()\n",
    "\n",
    "\n",
    "        # Fixed effects\n",
    "        β = Normal(\"β\", 0, sd=10, shape=len(X))\n",
    "        θ = intercept + β.dot(tt.stack(X))\n",
    "        σ = HalfNormal(\"σ\", sd=25)\n",
    "        score_like = Normal(\"score_like\", mu=θ, sd=σ, observed=score)\n",
    "\n",
    "        option_after_6mo = Deterministic('option_after_6mo', β[-3:].sum())\n",
    "\n",
    "\n",
    "    return model"
   ]
  },
  {
   "cell_type": "markdown",
   "metadata": {},
   "source": [
    "## Receptive Language Test Score Model"
   ]
  },
  {
   "cell_type": "code",
   "execution_count": 26,
   "metadata": {},
   "outputs": [
    {
     "data": {
      "text/plain": [
       "6047"
      ]
     },
     "execution_count": 26,
     "metadata": {},
     "output_type": "execute_result"
    }
   ],
   "source": [
    "receptive_language_dataset = analysis_subset[(analysis_subset.domain=='Receptive Language')]\n",
    "\n",
    "receptive_language_dataset.shape[0]"
   ]
  },
  {
   "cell_type": "code",
   "execution_count": 27,
   "metadata": {},
   "outputs": [
    {
     "name": "stderr",
     "output_type": "stream",
     "text": [
      "/home/fonnesbeck_gmail_com/anaconda3/envs/dev/lib/python3.7/site-packages/pymc3/model.py:1430: ImputationWarning: Data in x_age_amp contains missing values and will be automatically imputed from the sampling distribution.\n",
      "  warnings.warn(impute_message, ImputationWarning)\n",
      "/home/fonnesbeck_gmail_com/anaconda3/envs/dev/lib/python3.7/site-packages/pymc3/model.py:1430: ImputationWarning: Data in x_family_inv contains missing values and will be automatically imputed from the sampling distribution.\n",
      "  warnings.warn(impute_message, ImputationWarning)\n",
      "/home/fonnesbeck_gmail_com/anaconda3/envs/dev/lib/python3.7/site-packages/pymc3/model.py:1430: ImputationWarning: Data in x_sib contains missing values and will be automatically imputed from the sampling distribution.\n",
      "  warnings.warn(impute_message, ImputationWarning)\n",
      "/home/fonnesbeck_gmail_com/anaconda3/envs/dev/lib/python3.7/site-packages/pymc3/model.py:1430: ImputationWarning: Data in x_3mo contains missing values and will be automatically imputed from the sampling distribution.\n",
      "  warnings.warn(impute_message, ImputationWarning)\n",
      "/home/fonnesbeck_gmail_com/anaconda3/envs/dev/lib/python3.7/site-packages/pymc3/model.py:1430: ImputationWarning: Data in x_6mo contains missing values and will be automatically imputed from the sampling distribution.\n",
      "  warnings.warn(impute_message, ImputationWarning)\n",
      "/home/fonnesbeck_gmail_com/anaconda3/envs/dev/lib/python3.7/site-packages/pymc3/model.py:1430: ImputationWarning: Data in x_mother_college contains missing values and will be automatically imputed from the sampling distribution.\n",
      "  warnings.warn(impute_message, ImputationWarning)\n"
     ]
    }
   ],
   "source": [
    "receptive_language_4 = generate_model(receptive_language_dataset, 4)"
   ]
  },
  {
   "cell_type": "code",
   "execution_count": 26,
   "metadata": {},
   "outputs": [],
   "source": [
    "iterations = 1000\n",
    "tuning = 4000"
   ]
  },
  {
   "cell_type": "code",
   "execution_count": 29,
   "metadata": {},
   "outputs": [
    {
     "name": "stdout",
     "output_type": "stream",
     "text": [
      "m_age_amp                         -5.06\n",
      "s_age_amp_log__                   -1.06\n",
      "p_age_amp_logodds__               -1.39\n",
      "x_age_amp_missing                  0.00\n",
      "p_family_inv_stickbreaking__      -4.87\n",
      "x_family_inv_missing               0.00\n",
      "p_sib_stickbreaking__             -4.87\n",
      "x_sib_missing                      0.00\n",
      "p_3mo_logodds__                   -1.39\n",
      "x_3mo_missing                      0.00\n",
      "p_6mo_logodds__                   -1.39\n",
      "x_6mo_missing                      0.00\n",
      "p_mother_college_logodds__        -1.39\n",
      "x_mother_college_missing           0.00\n",
      "μ_school                          -3.22\n",
      "σ_school_log__                    -1.14\n",
      "z_school                         -37.68\n",
      "β                                -28.99\n",
      "σ_log__                           -0.77\n",
      "x_age_amp                      -6490.98\n",
      "x_family_inv                   -1654.50\n",
      "x_sib                          -1654.50\n",
      "x_3mo                           -712.56\n",
      "x_6mo                           -712.56\n",
      "x_mother_college                -712.56\n",
      "score_like                     -4549.85\n",
      "Name: Log-probability of test_point, dtype: float64\n"
     ]
    }
   ],
   "source": [
    "CHECK_MODEL = True\n",
    "\n",
    "if CHECK_MODEL:\n",
    "    print(receptive_language_4.check_test_point())"
   ]
  },
  {
   "cell_type": "code",
   "execution_count": 30,
   "metadata": {},
   "outputs": [
    {
     "name": "stderr",
     "output_type": "stream",
     "text": [
      "Multiprocess sampling (2 chains in 2 jobs)\n",
      "CompoundStep\n",
      ">NUTS: [σ, β, z_school, σ_school, μ_school, p_mother_college, p_6mo, p_3mo, p_sib, p_family_inv, x_age_amp_missing, p_age_amp, s_age_amp, m_age_amp]\n",
      ">CategoricalGibbsMetropolis: [x_sib_missing, x_family_inv_missing]\n",
      ">BinaryGibbsMetropolis: [x_3mo_missing, x_6mo_missing, x_mother_college_missing]\n"
     ]
    },
    {
     "data": {
      "text/html": [
       "\n",
       "    <div>\n",
       "        <style>\n",
       "            /* Turns off some styling */\n",
       "            progress {\n",
       "                /* gets rid of default border in Firefox and Opera. */\n",
       "                border: none;\n",
       "                /* Needs to be in here for Safari polyfill so background images work as expected. */\n",
       "                background-size: auto;\n",
       "            }\n",
       "            .progress-bar-interrupted, .progress-bar-interrupted::-webkit-progress-bar {\n",
       "                background: #F44336;\n",
       "            }\n",
       "        </style>\n",
       "      <progress value='10000' class='' max='10000', style='width:300px; height:20px; vertical-align: middle;'></progress>\n",
       "      100.00% [10000/10000 22:42<00:00 Sampling 2 chains, 0 divergences]\n",
       "    </div>\n",
       "    "
      ],
      "text/plain": [
       "<IPython.core.display.HTML object>"
      ]
     },
     "metadata": {},
     "output_type": "display_data"
    }
   ],
   "source": [
    "with receptive_language_4:\n",
    "    rec_lang_4_trace = sample(iterations, tune=tuning, chains=2, cores=2)"
   ]
  },
  {
   "cell_type": "code",
   "execution_count": 27,
   "metadata": {},
   "outputs": [],
   "source": [
    "labels = ['Age at amplification',\n",
    "          'Family Involvement Score', \n",
    "          'Number of siblings',\n",
    "          'Mother with College Ed',\n",
    "          'Years in program',\n",
    "          'Identified <= 3mo',          \n",
    "          'Intervention <= 6mo',\n",
    "          'Intervention with OPTION',\n",
    "          'Interaction']"
   ]
  },
  {
   "cell_type": "code",
   "execution_count": 28,
   "metadata": {},
   "outputs": [],
   "source": [
    "x_range = -10, 15"
   ]
  },
  {
   "cell_type": "code",
   "execution_count": 33,
   "metadata": {},
   "outputs": [
    {
     "data": {
      "image/png": "[encoded data removed]",
      "text/plain": [
       "<Figure size 432x352.8 with 1 Axes>"
      ]
     },
     "metadata": {
      "needs_background": "light"
     },
     "output_type": "display_data"
    }
   ],
   "source": [
    "_,axes = az.plot_forest(rec_lang_4_trace, \n",
    "               var_names=['β'],\n",
    "              combined=True)\n",
    "axes[0].set_title('Receptive Language')\n",
    "axes[0].vlines(0, *axes[0].get_ylim(), linestyles='dotted')\n",
    "axes[0].set_yticklabels(labels[::-1]);"
   ]
  },
  {
   "cell_type": "code",
   "execution_count": 34,
   "metadata": {},
   "outputs": [
    {
     "data": {
      "text/plain": [
       "<matplotlib.axes._subplots.AxesSubplot at 0x7fab1c9ec128>"
      ]
     },
     "execution_count": 34,
     "metadata": {},
     "output_type": "execute_result"
    },
    {
     "data": {
      "image/png": "[encoded data removed]",
      "text/plain": [
       "<Figure size 432x288 with 1 Axes>"
      ]
     },
     "metadata": {},
     "output_type": "display_data"
    }
   ],
   "source": [
    "az.plot_energy(rec_lang_4_trace)"
   ]
  },
  {
   "cell_type": "markdown",
   "metadata": {},
   "source": [
    "The school random effect standard deviation is a measure of how variable scores are among schools. The estimated standard deviation is about 4 points for this domain."
   ]
  },
  {
   "cell_type": "code",
   "execution_count": 35,
   "metadata": {},
   "outputs": [
    {
     "data": {
      "text/plain": [
       "array([[<matplotlib.axes._subplots.AxesSubplot object at 0x7fab19e871d0>,\n",
       "        <matplotlib.axes._subplots.AxesSubplot object at 0x7fab19e52cc0>]],\n",
       "      dtype=object)"
      ]
     },
     "execution_count": 35,
     "metadata": {},
     "output_type": "execute_result"
    },
    {
     "data": {
      "image/png": "[encoded data removed]",
      "text/plain": [
       "<Figure size 864x144 with 2 Axes>"
      ]
     },
     "metadata": {
      "needs_background": "light"
     },
     "output_type": "display_data"
    }
   ],
   "source": [
    "az.plot_trace(rec_lang_4_trace, var_names=['σ_school'])"
   ]
  },
  {
   "cell_type": "code",
   "execution_count": 73,
   "metadata": {},
   "outputs": [
    {
     "data": {
      "text/html": [
       "<div>\n",
       "<style scoped>\n",
       "    .dataframe tbody tr th:only-of-type {\n",
       "        vertical-align: middle;\n",
       "    }\n",
       "\n",
       "    .dataframe tbody tr th {\n",
       "        vertical-align: top;\n",
       "    }\n",
       "\n",
       "    .dataframe thead th {\n",
       "        text-align: right;\n",
       "    }\n",
       "</style>\n",
       "<table border=\"1\" class=\"dataframe\">\n",
       "  <thead>\n",
       "    <tr style=\"text-align: right;\">\n",
       "      <th></th>\n",
       "      <th>mean</th>\n",
       "      <th>sd</th>\n",
       "      <th>hpd_3%</th>\n",
       "      <th>hpd_97%</th>\n",
       "    </tr>\n",
       "  </thead>\n",
       "  <tbody>\n",
       "    <tr>\n",
       "      <th>Age at amplification</th>\n",
       "      <td>-4.101</td>\n",
       "      <td>0.699</td>\n",
       "      <td>-5.411</td>\n",
       "      <td>-2.825</td>\n",
       "    </tr>\n",
       "    <tr>\n",
       "      <th>Family Involvement Score</th>\n",
       "      <td>-6.016</td>\n",
       "      <td>0.557</td>\n",
       "      <td>-7.039</td>\n",
       "      <td>-4.960</td>\n",
       "    </tr>\n",
       "    <tr>\n",
       "      <th>Number of siblings</th>\n",
       "      <td>0.594</td>\n",
       "      <td>0.604</td>\n",
       "      <td>-0.516</td>\n",
       "      <td>1.765</td>\n",
       "    </tr>\n",
       "    <tr>\n",
       "      <th>Mother with College Ed</th>\n",
       "      <td>6.540</td>\n",
       "      <td>1.382</td>\n",
       "      <td>4.036</td>\n",
       "      <td>9.240</td>\n",
       "    </tr>\n",
       "    <tr>\n",
       "      <th>Years in program</th>\n",
       "      <td>0.959</td>\n",
       "      <td>0.522</td>\n",
       "      <td>-0.066</td>\n",
       "      <td>1.865</td>\n",
       "    </tr>\n",
       "    <tr>\n",
       "      <th>Identified &lt;= 3mo</th>\n",
       "      <td>-1.537</td>\n",
       "      <td>1.584</td>\n",
       "      <td>-4.377</td>\n",
       "      <td>1.468</td>\n",
       "    </tr>\n",
       "    <tr>\n",
       "      <th>Intervention &lt;= 6mo</th>\n",
       "      <td>5.268</td>\n",
       "      <td>2.004</td>\n",
       "      <td>1.356</td>\n",
       "      <td>9.004</td>\n",
       "    </tr>\n",
       "    <tr>\n",
       "      <th>Intervention with OPTION</th>\n",
       "      <td>4.582</td>\n",
       "      <td>1.485</td>\n",
       "      <td>1.607</td>\n",
       "      <td>7.288</td>\n",
       "    </tr>\n",
       "    <tr>\n",
       "      <th>Interaction</th>\n",
       "      <td>-4.728</td>\n",
       "      <td>2.328</td>\n",
       "      <td>-8.951</td>\n",
       "      <td>-0.410</td>\n",
       "    </tr>\n",
       "    <tr>\n",
       "      <th>OPTION &lt; 6mo</th>\n",
       "      <td>5.121</td>\n",
       "      <td>2.264</td>\n",
       "      <td>1.059</td>\n",
       "      <td>9.348</td>\n",
       "    </tr>\n",
       "  </tbody>\n",
       "</table>\n",
       "</div>"
      ],
      "text/plain": [
       "                           mean     sd  hpd_3%  hpd_97%\n",
       "Age at amplification     -4.101  0.699  -5.411   -2.825\n",
       "Family Involvement Score -6.016  0.557  -7.039   -4.960\n",
       "Number of siblings        0.594  0.604  -0.516    1.765\n",
       "Mother with College Ed    6.540  1.382   4.036    9.240\n",
       "Years in program          0.959  0.522  -0.066    1.865\n",
       "Identified <= 3mo        -1.537  1.584  -4.377    1.468\n",
       "Intervention <= 6mo       5.268  2.004   1.356    9.004\n",
       "Intervention with OPTION  4.582  1.485   1.607    7.288\n",
       "Interaction              -4.728  2.328  -8.951   -0.410\n",
       "OPTION < 6mo              5.121  2.264   1.059    9.348"
      ]
     },
     "execution_count": 73,
     "metadata": {},
     "output_type": "execute_result"
    }
   ],
   "source": [
    "rec_lang_table = az.summary(rec_lang_4_trace, \n",
    "                            var_names=['β', 'option_after_6mo']).set_index(pd.Index(labels + ['OPTION < 6mo'])).iloc[:, :4]\n",
    "rec_lang_table"
   ]
  },
  {
   "cell_type": "code",
   "execution_count": 74,
   "metadata": {},
   "outputs": [],
   "source": [
    "rec_lang_table.to_csv('rec_lang_EI.csv')"
   ]
  },
  {
   "cell_type": "markdown",
   "metadata": {},
   "source": [
    "## Expressive Language Model"
   ]
  },
  {
   "cell_type": "code",
   "execution_count": 41,
   "metadata": {},
   "outputs": [],
   "source": [
    "expressive_language_dataset = analysis_subset[(analysis_subset.domain=='Expressive Language')]"
   ]
  },
  {
   "cell_type": "code",
   "execution_count": 42,
   "metadata": {},
   "outputs": [
    {
     "name": "stderr",
     "output_type": "stream",
     "text": [
      "/home/fonnesbeck_gmail_com/anaconda3/envs/dev/lib/python3.7/site-packages/pymc3/model.py:1430: ImputationWarning: Data in x_age_amp contains missing values and will be automatically imputed from the sampling distribution.\n",
      "  warnings.warn(impute_message, ImputationWarning)\n",
      "/home/fonnesbeck_gmail_com/anaconda3/envs/dev/lib/python3.7/site-packages/pymc3/model.py:1430: ImputationWarning: Data in x_family_inv contains missing values and will be automatically imputed from the sampling distribution.\n",
      "  warnings.warn(impute_message, ImputationWarning)\n",
      "/home/fonnesbeck_gmail_com/anaconda3/envs/dev/lib/python3.7/site-packages/pymc3/model.py:1430: ImputationWarning: Data in x_sib contains missing values and will be automatically imputed from the sampling distribution.\n",
      "  warnings.warn(impute_message, ImputationWarning)\n",
      "/home/fonnesbeck_gmail_com/anaconda3/envs/dev/lib/python3.7/site-packages/pymc3/model.py:1430: ImputationWarning: Data in x_3mo contains missing values and will be automatically imputed from the sampling distribution.\n",
      "  warnings.warn(impute_message, ImputationWarning)\n",
      "/home/fonnesbeck_gmail_com/anaconda3/envs/dev/lib/python3.7/site-packages/pymc3/model.py:1430: ImputationWarning: Data in x_6mo contains missing values and will be automatically imputed from the sampling distribution.\n",
      "  warnings.warn(impute_message, ImputationWarning)\n",
      "/home/fonnesbeck_gmail_com/anaconda3/envs/dev/lib/python3.7/site-packages/pymc3/model.py:1430: ImputationWarning: Data in x_mother_college contains missing values and will be automatically imputed from the sampling distribution.\n",
      "  warnings.warn(impute_message, ImputationWarning)\n"
     ]
    }
   ],
   "source": [
    "expressive_language_4 = generate_model(expressive_language_dataset, 4)"
   ]
  },
  {
   "cell_type": "code",
   "execution_count": 43,
   "metadata": {},
   "outputs": [
    {
     "name": "stderr",
     "output_type": "stream",
     "text": [
      "Multiprocess sampling (4 chains in 4 jobs)\n",
      "CompoundStep\n",
      ">NUTS: [σ, β, z_school, σ_school, μ_school, p_mother_college, p_6mo, p_3mo, p_sib, p_family_inv, x_age_amp_missing, p_age_amp, s_age_amp, m_age_amp]\n",
      ">CategoricalGibbsMetropolis: [x_sib_missing, x_family_inv_missing]\n",
      ">BinaryGibbsMetropolis: [x_3mo_missing, x_6mo_missing, x_mother_college_missing]\n"
     ]
    },
    {
     "data": {
      "text/html": [
       "\n",
       "    <div>\n",
       "        <style>\n",
       "            /* Turns off some styling */\n",
       "            progress {\n",
       "                /* gets rid of default border in Firefox and Opera. */\n",
       "                border: none;\n",
       "                /* Needs to be in here for Safari polyfill so background images work as expected. */\n",
       "                background-size: auto;\n",
       "            }\n",
       "            .progress-bar-interrupted, .progress-bar-interrupted::-webkit-progress-bar {\n",
       "                background: #F44336;\n",
       "            }\n",
       "        </style>\n",
       "      <progress value='20000' class='' max='20000', style='width:300px; height:20px; vertical-align: middle;'></progress>\n",
       "      100.00% [20000/20000 23:04<00:00 Sampling 4 chains, 0 divergences]\n",
       "    </div>\n",
       "    "
      ],
      "text/plain": [
       "<IPython.core.display.HTML object>"
      ]
     },
     "metadata": {},
     "output_type": "display_data"
    },
    {
     "name": "stderr",
     "output_type": "stream",
     "text": [
      "The rhat statistic is larger than 1.4 for some parameters. The sampler did not converge.\n",
      "The estimated number of effective samples is smaller than 200 for some parameters.\n"
     ]
    }
   ],
   "source": [
    "with expressive_language_4:\n",
    "    \n",
    "    exp_lang_4_trace = sample(iterations, tune=tuning)"
   ]
  },
  {
   "cell_type": "code",
   "execution_count": 44,
   "metadata": {},
   "outputs": [
    {
     "data": {
      "image/png": "[encoded data removed]",
      "text/plain": [
       "<Figure size 432x352.8 with 1 Axes>"
      ]
     },
     "metadata": {
      "needs_background": "light"
     },
     "output_type": "display_data"
    }
   ],
   "source": [
    "_,axes = az.plot_forest(exp_lang_4_trace, \n",
    "               var_names=['β'],\n",
    "              combined=True)\n",
    "axes[0].set_title('Expressive Language')\n",
    "axes[0].vlines(0, *axes[0].get_ylim(), linestyles='dotted')\n",
    "axes[0].set_yticklabels(labels[::-1]);"
   ]
  },
  {
   "cell_type": "code",
   "execution_count": 45,
   "metadata": {},
   "outputs": [
    {
     "data": {
      "text/plain": [
       "<matplotlib.axes._subplots.AxesSubplot at 0x7fab18fe8828>"
      ]
     },
     "execution_count": 45,
     "metadata": {},
     "output_type": "execute_result"
    },
    {
     "data": {
      "image/png": "[encoded data removed]",
      "text/plain": [
       "<Figure size 432x288 with 1 Axes>"
      ]
     },
     "metadata": {},
     "output_type": "display_data"
    }
   ],
   "source": [
    "az.plot_energy(exp_lang_4_trace)"
   ]
  },
  {
   "cell_type": "code",
   "execution_count": 75,
   "metadata": {},
   "outputs": [
    {
     "data": {
      "text/html": [
       "<div>\n",
       "<style scoped>\n",
       "    .dataframe tbody tr th:only-of-type {\n",
       "        vertical-align: middle;\n",
       "    }\n",
       "\n",
       "    .dataframe tbody tr th {\n",
       "        vertical-align: top;\n",
       "    }\n",
       "\n",
       "    .dataframe thead th {\n",
       "        text-align: right;\n",
       "    }\n",
       "</style>\n",
       "<table border=\"1\" class=\"dataframe\">\n",
       "  <thead>\n",
       "    <tr style=\"text-align: right;\">\n",
       "      <th></th>\n",
       "      <th>mean</th>\n",
       "      <th>sd</th>\n",
       "      <th>hpd_3%</th>\n",
       "      <th>hpd_97%</th>\n",
       "    </tr>\n",
       "  </thead>\n",
       "  <tbody>\n",
       "    <tr>\n",
       "      <th>Age at amplification</th>\n",
       "      <td>-3.772</td>\n",
       "      <td>0.735</td>\n",
       "      <td>-5.164</td>\n",
       "      <td>-2.434</td>\n",
       "    </tr>\n",
       "    <tr>\n",
       "      <th>Family Involvement Score</th>\n",
       "      <td>-5.942</td>\n",
       "      <td>0.606</td>\n",
       "      <td>-7.054</td>\n",
       "      <td>-4.811</td>\n",
       "    </tr>\n",
       "    <tr>\n",
       "      <th>Number of siblings</th>\n",
       "      <td>0.564</td>\n",
       "      <td>0.620</td>\n",
       "      <td>-0.540</td>\n",
       "      <td>1.775</td>\n",
       "    </tr>\n",
       "    <tr>\n",
       "      <th>Mother with College Ed</th>\n",
       "      <td>8.350</td>\n",
       "      <td>1.477</td>\n",
       "      <td>5.648</td>\n",
       "      <td>11.122</td>\n",
       "    </tr>\n",
       "    <tr>\n",
       "      <th>Years in program</th>\n",
       "      <td>1.292</td>\n",
       "      <td>0.538</td>\n",
       "      <td>0.297</td>\n",
       "      <td>2.284</td>\n",
       "    </tr>\n",
       "    <tr>\n",
       "      <th>Identified &lt;= 3mo</th>\n",
       "      <td>0.308</td>\n",
       "      <td>1.639</td>\n",
       "      <td>-2.582</td>\n",
       "      <td>3.490</td>\n",
       "    </tr>\n",
       "    <tr>\n",
       "      <th>Intervention &lt;= 6mo</th>\n",
       "      <td>3.921</td>\n",
       "      <td>2.091</td>\n",
       "      <td>-0.055</td>\n",
       "      <td>7.720</td>\n",
       "    </tr>\n",
       "    <tr>\n",
       "      <th>Intervention with OPTION</th>\n",
       "      <td>3.069</td>\n",
       "      <td>1.558</td>\n",
       "      <td>0.269</td>\n",
       "      <td>6.155</td>\n",
       "    </tr>\n",
       "    <tr>\n",
       "      <th>Interaction</th>\n",
       "      <td>-4.185</td>\n",
       "      <td>2.480</td>\n",
       "      <td>-8.833</td>\n",
       "      <td>0.577</td>\n",
       "    </tr>\n",
       "    <tr>\n",
       "      <th>OPTION &lt; 6mo</th>\n",
       "      <td>2.805</td>\n",
       "      <td>2.387</td>\n",
       "      <td>-1.740</td>\n",
       "      <td>7.240</td>\n",
       "    </tr>\n",
       "  </tbody>\n",
       "</table>\n",
       "</div>"
      ],
      "text/plain": [
       "                           mean     sd  hpd_3%  hpd_97%\n",
       "Age at amplification     -3.772  0.735  -5.164   -2.434\n",
       "Family Involvement Score -5.942  0.606  -7.054   -4.811\n",
       "Number of siblings        0.564  0.620  -0.540    1.775\n",
       "Mother with College Ed    8.350  1.477   5.648   11.122\n",
       "Years in program          1.292  0.538   0.297    2.284\n",
       "Identified <= 3mo         0.308  1.639  -2.582    3.490\n",
       "Intervention <= 6mo       3.921  2.091  -0.055    7.720\n",
       "Intervention with OPTION  3.069  1.558   0.269    6.155\n",
       "Interaction              -4.185  2.480  -8.833    0.577\n",
       "OPTION < 6mo              2.805  2.387  -1.740    7.240"
      ]
     },
     "execution_count": 75,
     "metadata": {},
     "output_type": "execute_result"
    }
   ],
   "source": [
    "exp_lang_table = az.summary(exp_lang_4_trace, \n",
    "                            var_names=['β', 'option_after_6mo']).set_index(pd.Index(labels + ['OPTION < 6mo'])).iloc[:, :4]\n",
    "exp_lang_table"
   ]
  },
  {
   "cell_type": "code",
   "execution_count": 76,
   "metadata": {},
   "outputs": [],
   "source": [
    "exp_lang_table.to_csv('exp_lang_EI.csv')"
   ]
  },
  {
   "cell_type": "markdown",
   "metadata": {},
   "source": [
    "## Total Language"
   ]
  },
  {
   "cell_type": "code",
   "execution_count": 48,
   "metadata": {},
   "outputs": [
    {
     "data": {
      "text/plain": [
       "(6205, 23)"
      ]
     },
     "execution_count": 48,
     "metadata": {},
     "output_type": "execute_result"
    }
   ],
   "source": [
    "total_language_dataset = analysis_subset[(analysis_subset.domain=='Total Language')]\n",
    "total_language_dataset.shape"
   ]
  },
  {
   "cell_type": "code",
   "execution_count": 49,
   "metadata": {},
   "outputs": [
    {
     "name": "stderr",
     "output_type": "stream",
     "text": [
      "/home/fonnesbeck_gmail_com/anaconda3/envs/dev/lib/python3.7/site-packages/pymc3/model.py:1430: ImputationWarning: Data in x_age_amp contains missing values and will be automatically imputed from the sampling distribution.\n",
      "  warnings.warn(impute_message, ImputationWarning)\n",
      "/home/fonnesbeck_gmail_com/anaconda3/envs/dev/lib/python3.7/site-packages/pymc3/model.py:1430: ImputationWarning: Data in x_family_inv contains missing values and will be automatically imputed from the sampling distribution.\n",
      "  warnings.warn(impute_message, ImputationWarning)\n",
      "/home/fonnesbeck_gmail_com/anaconda3/envs/dev/lib/python3.7/site-packages/pymc3/model.py:1430: ImputationWarning: Data in x_sib contains missing values and will be automatically imputed from the sampling distribution.\n",
      "  warnings.warn(impute_message, ImputationWarning)\n",
      "/home/fonnesbeck_gmail_com/anaconda3/envs/dev/lib/python3.7/site-packages/pymc3/model.py:1430: ImputationWarning: Data in x_3mo contains missing values and will be automatically imputed from the sampling distribution.\n",
      "  warnings.warn(impute_message, ImputationWarning)\n",
      "/home/fonnesbeck_gmail_com/anaconda3/envs/dev/lib/python3.7/site-packages/pymc3/model.py:1430: ImputationWarning: Data in x_6mo contains missing values and will be automatically imputed from the sampling distribution.\n",
      "  warnings.warn(impute_message, ImputationWarning)\n",
      "/home/fonnesbeck_gmail_com/anaconda3/envs/dev/lib/python3.7/site-packages/pymc3/model.py:1430: ImputationWarning: Data in x_mother_college contains missing values and will be automatically imputed from the sampling distribution.\n",
      "  warnings.warn(impute_message, ImputationWarning)\n"
     ]
    }
   ],
   "source": [
    "total_language_4 = generate_model(total_language_dataset, 4)"
   ]
  },
  {
   "cell_type": "code",
   "execution_count": 50,
   "metadata": {},
   "outputs": [
    {
     "name": "stderr",
     "output_type": "stream",
     "text": [
      "Multiprocess sampling (4 chains in 4 jobs)\n",
      "CompoundStep\n",
      ">NUTS: [σ, β, z_school, σ_school, μ_school, p_mother_college, p_6mo, p_3mo, p_sib, p_family_inv, x_age_amp_missing, p_age_amp, s_age_amp, m_age_amp]\n",
      ">CategoricalGibbsMetropolis: [x_sib_missing, x_family_inv_missing]\n",
      ">BinaryGibbsMetropolis: [x_3mo_missing, x_6mo_missing, x_mother_college_missing]\n"
     ]
    },
    {
     "data": {
      "text/html": [
       "\n",
       "    <div>\n",
       "        <style>\n",
       "            /* Turns off some styling */\n",
       "            progress {\n",
       "                /* gets rid of default border in Firefox and Opera. */\n",
       "                border: none;\n",
       "                /* Needs to be in here for Safari polyfill so background images work as expected. */\n",
       "                background-size: auto;\n",
       "            }\n",
       "            .progress-bar-interrupted, .progress-bar-interrupted::-webkit-progress-bar {\n",
       "                background: #F44336;\n",
       "            }\n",
       "        </style>\n",
       "      <progress value='20000' class='' max='20000', style='width:300px; height:20px; vertical-align: middle;'></progress>\n",
       "      100.00% [20000/20000 23:51<00:00 Sampling 4 chains, 0 divergences]\n",
       "    </div>\n",
       "    "
      ],
      "text/plain": [
       "<IPython.core.display.HTML object>"
      ]
     },
     "metadata": {},
     "output_type": "display_data"
    },
    {
     "name": "stderr",
     "output_type": "stream",
     "text": [
      "The rhat statistic is larger than 1.4 for some parameters. The sampler did not converge.\n",
      "The estimated number of effective samples is smaller than 200 for some parameters.\n"
     ]
    }
   ],
   "source": [
    "with total_language_4:\n",
    "    \n",
    "    total_lang_4_trace = sample(iterations, tune=tuning)"
   ]
  },
  {
   "cell_type": "code",
   "execution_count": 51,
   "metadata": {},
   "outputs": [
    {
     "data": {
      "image/png": "[encoded data removed]",
      "text/plain": [
       "<Figure size 432x352.8 with 1 Axes>"
      ]
     },
     "metadata": {
      "needs_background": "light"
     },
     "output_type": "display_data"
    }
   ],
   "source": [
    "_,axes = az.plot_forest(total_lang_4_trace, \n",
    "               var_names=['β'],\n",
    "              combined=True)\n",
    "axes[0].set_title('Total Language')\n",
    "axes[0].vlines(0, *axes[0].get_ylim(), linestyles='dotted')\n",
    "axes[0].set_yticklabels(labels[::-1]);"
   ]
  },
  {
   "cell_type": "code",
   "execution_count": 52,
   "metadata": {},
   "outputs": [
    {
     "data": {
      "text/plain": [
       "<matplotlib.axes._subplots.AxesSubplot at 0x7fab28f81630>"
      ]
     },
     "execution_count": 52,
     "metadata": {},
     "output_type": "execute_result"
    },
    {
     "data": {
      "image/png": "[encoded data removed]",
      "text/plain": [
       "<Figure size 432x288 with 1 Axes>"
      ]
     },
     "metadata": {},
     "output_type": "display_data"
    }
   ],
   "source": [
    "az.plot_energy(total_lang_4_trace)"
   ]
  },
  {
   "cell_type": "code",
   "execution_count": 77,
   "metadata": {},
   "outputs": [
    {
     "data": {
      "text/html": [
       "<div>\n",
       "<style scoped>\n",
       "    .dataframe tbody tr th:only-of-type {\n",
       "        vertical-align: middle;\n",
       "    }\n",
       "\n",
       "    .dataframe tbody tr th {\n",
       "        vertical-align: top;\n",
       "    }\n",
       "\n",
       "    .dataframe thead th {\n",
       "        text-align: right;\n",
       "    }\n",
       "</style>\n",
       "<table border=\"1\" class=\"dataframe\">\n",
       "  <thead>\n",
       "    <tr style=\"text-align: right;\">\n",
       "      <th></th>\n",
       "      <th>mean</th>\n",
       "      <th>sd</th>\n",
       "      <th>hpd_3%</th>\n",
       "      <th>hpd_97%</th>\n",
       "    </tr>\n",
       "  </thead>\n",
       "  <tbody>\n",
       "    <tr>\n",
       "      <th>Age at amplification</th>\n",
       "      <td>-3.850</td>\n",
       "      <td>0.753</td>\n",
       "      <td>-5.307</td>\n",
       "      <td>-2.484</td>\n",
       "    </tr>\n",
       "    <tr>\n",
       "      <th>Family Involvement Score</th>\n",
       "      <td>-6.190</td>\n",
       "      <td>0.621</td>\n",
       "      <td>-7.354</td>\n",
       "      <td>-5.035</td>\n",
       "    </tr>\n",
       "    <tr>\n",
       "      <th>Number of siblings</th>\n",
       "      <td>0.248</td>\n",
       "      <td>0.637</td>\n",
       "      <td>-0.976</td>\n",
       "      <td>1.418</td>\n",
       "    </tr>\n",
       "    <tr>\n",
       "      <th>Mother with College Ed</th>\n",
       "      <td>7.979</td>\n",
       "      <td>1.523</td>\n",
       "      <td>5.045</td>\n",
       "      <td>10.691</td>\n",
       "    </tr>\n",
       "    <tr>\n",
       "      <th>Years in program</th>\n",
       "      <td>1.487</td>\n",
       "      <td>0.533</td>\n",
       "      <td>0.471</td>\n",
       "      <td>2.467</td>\n",
       "    </tr>\n",
       "    <tr>\n",
       "      <th>Identified &lt;= 3mo</th>\n",
       "      <td>-0.940</td>\n",
       "      <td>1.575</td>\n",
       "      <td>-3.993</td>\n",
       "      <td>1.838</td>\n",
       "    </tr>\n",
       "    <tr>\n",
       "      <th>Intervention &lt;= 6mo</th>\n",
       "      <td>5.238</td>\n",
       "      <td>2.108</td>\n",
       "      <td>1.468</td>\n",
       "      <td>9.342</td>\n",
       "    </tr>\n",
       "    <tr>\n",
       "      <th>Intervention with OPTION</th>\n",
       "      <td>4.529</td>\n",
       "      <td>1.641</td>\n",
       "      <td>1.501</td>\n",
       "      <td>7.628</td>\n",
       "    </tr>\n",
       "    <tr>\n",
       "      <th>Interaction</th>\n",
       "      <td>-6.099</td>\n",
       "      <td>2.498</td>\n",
       "      <td>-10.531</td>\n",
       "      <td>-1.107</td>\n",
       "    </tr>\n",
       "    <tr>\n",
       "      <th>OPTION &lt; 6mo</th>\n",
       "      <td>3.668</td>\n",
       "      <td>2.367</td>\n",
       "      <td>-0.920</td>\n",
       "      <td>7.992</td>\n",
       "    </tr>\n",
       "  </tbody>\n",
       "</table>\n",
       "</div>"
      ],
      "text/plain": [
       "                           mean     sd  hpd_3%  hpd_97%\n",
       "Age at amplification     -3.850  0.753  -5.307   -2.484\n",
       "Family Involvement Score -6.190  0.621  -7.354   -5.035\n",
       "Number of siblings        0.248  0.637  -0.976    1.418\n",
       "Mother with College Ed    7.979  1.523   5.045   10.691\n",
       "Years in program          1.487  0.533   0.471    2.467\n",
       "Identified <= 3mo        -0.940  1.575  -3.993    1.838\n",
       "Intervention <= 6mo       5.238  2.108   1.468    9.342\n",
       "Intervention with OPTION  4.529  1.641   1.501    7.628\n",
       "Interaction              -6.099  2.498 -10.531   -1.107\n",
       "OPTION < 6mo              3.668  2.367  -0.920    7.992"
      ]
     },
     "execution_count": 77,
     "metadata": {},
     "output_type": "execute_result"
    }
   ],
   "source": [
    "total_lang_table = az.summary(total_lang_4_trace, \n",
    "                              var_names=['β', 'option_after_6mo']).set_index(pd.Index(labels + ['OPTION < 6mo'])).iloc[:, :4]\n",
    "total_lang_table"
   ]
  },
  {
   "cell_type": "code",
   "execution_count": 78,
   "metadata": {},
   "outputs": [],
   "source": [
    "total_lang_table.to_csv('total_lang_EI.csv')"
   ]
  },
  {
   "cell_type": "markdown",
   "metadata": {},
   "source": [
    "## Articulation Model"
   ]
  },
  {
   "cell_type": "code",
   "execution_count": 55,
   "metadata": {},
   "outputs": [],
   "source": [
    "articulation_dataset = analysis_subset[(analysis_subset.domain=='Articulation')]"
   ]
  },
  {
   "cell_type": "code",
   "execution_count": 56,
   "metadata": {},
   "outputs": [
    {
     "name": "stderr",
     "output_type": "stream",
     "text": [
      "/home/fonnesbeck_gmail_com/anaconda3/envs/dev/lib/python3.7/site-packages/pymc3/model.py:1430: ImputationWarning: Data in x_age_amp contains missing values and will be automatically imputed from the sampling distribution.\n",
      "  warnings.warn(impute_message, ImputationWarning)\n",
      "/home/fonnesbeck_gmail_com/anaconda3/envs/dev/lib/python3.7/site-packages/pymc3/model.py:1430: ImputationWarning: Data in x_family_inv contains missing values and will be automatically imputed from the sampling distribution.\n",
      "  warnings.warn(impute_message, ImputationWarning)\n",
      "/home/fonnesbeck_gmail_com/anaconda3/envs/dev/lib/python3.7/site-packages/pymc3/model.py:1430: ImputationWarning: Data in x_sib contains missing values and will be automatically imputed from the sampling distribution.\n",
      "  warnings.warn(impute_message, ImputationWarning)\n",
      "/home/fonnesbeck_gmail_com/anaconda3/envs/dev/lib/python3.7/site-packages/pymc3/model.py:1430: ImputationWarning: Data in x_3mo contains missing values and will be automatically imputed from the sampling distribution.\n",
      "  warnings.warn(impute_message, ImputationWarning)\n",
      "/home/fonnesbeck_gmail_com/anaconda3/envs/dev/lib/python3.7/site-packages/pymc3/model.py:1430: ImputationWarning: Data in x_6mo contains missing values and will be automatically imputed from the sampling distribution.\n",
      "  warnings.warn(impute_message, ImputationWarning)\n",
      "/home/fonnesbeck_gmail_com/anaconda3/envs/dev/lib/python3.7/site-packages/pymc3/model.py:1430: ImputationWarning: Data in x_mother_college contains missing values and will be automatically imputed from the sampling distribution.\n",
      "  warnings.warn(impute_message, ImputationWarning)\n"
     ]
    }
   ],
   "source": [
    "articulation_4 = generate_model(articulation_dataset, 4)"
   ]
  },
  {
   "cell_type": "code",
   "execution_count": 57,
   "metadata": {},
   "outputs": [
    {
     "name": "stderr",
     "output_type": "stream",
     "text": [
      "Multiprocess sampling (4 chains in 4 jobs)\n",
      "CompoundStep\n",
      ">NUTS: [σ, β, z_school, σ_school, μ_school, p_mother_college, p_6mo, p_3mo, p_sib, p_family_inv, x_age_amp_missing, p_age_amp, s_age_amp, m_age_amp]\n",
      ">CategoricalGibbsMetropolis: [x_sib_missing, x_family_inv_missing]\n",
      ">BinaryGibbsMetropolis: [x_3mo_missing, x_6mo_missing, x_mother_college_missing]\n"
     ]
    },
    {
     "data": {
      "text/html": [
       "\n",
       "    <div>\n",
       "        <style>\n",
       "            /* Turns off some styling */\n",
       "            progress {\n",
       "                /* gets rid of default border in Firefox and Opera. */\n",
       "                border: none;\n",
       "                /* Needs to be in here for Safari polyfill so background images work as expected. */\n",
       "                background-size: auto;\n",
       "            }\n",
       "            .progress-bar-interrupted, .progress-bar-interrupted::-webkit-progress-bar {\n",
       "                background: #F44336;\n",
       "            }\n",
       "        </style>\n",
       "      <progress value='20000' class='' max='20000', style='width:300px; height:20px; vertical-align: middle;'></progress>\n",
       "      100.00% [20000/20000 32:23<00:00 Sampling 4 chains, 0 divergences]\n",
       "    </div>\n",
       "    "
      ],
      "text/plain": [
       "<IPython.core.display.HTML object>"
      ]
     },
     "metadata": {},
     "output_type": "display_data"
    },
    {
     "name": "stderr",
     "output_type": "stream",
     "text": [
      "The rhat statistic is larger than 1.4 for some parameters. The sampler did not converge.\n",
      "The estimated number of effective samples is smaller than 200 for some parameters.\n"
     ]
    }
   ],
   "source": [
    "with articulation_4:\n",
    "    \n",
    "    artic_4_trace = sample(iterations, tune=tuning)"
   ]
  },
  {
   "cell_type": "code",
   "execution_count": 58,
   "metadata": {},
   "outputs": [
    {
     "data": {
      "image/png": "[encoded data removed]",
      "text/plain": [
       "<Figure size 432x352.8 with 1 Axes>"
      ]
     },
     "metadata": {
      "needs_background": "light"
     },
     "output_type": "display_data"
    }
   ],
   "source": [
    "_,axes = az.plot_forest(artic_4_trace, \n",
    "               var_names=['β'],\n",
    "              combined=True)\n",
    "axes[0].set_title('Articulation')\n",
    "axes[0].vlines(0, *axes[0].get_ylim(), linestyles='dotted')\n",
    "axes[0].set_yticklabels(labels[::-1]);"
   ]
  },
  {
   "cell_type": "code",
   "execution_count": 59,
   "metadata": {},
   "outputs": [
    {
     "data": {
      "text/plain": [
       "<matplotlib.axes._subplots.AxesSubplot at 0x7fab2962fc18>"
      ]
     },
     "execution_count": 59,
     "metadata": {},
     "output_type": "execute_result"
    },
    {
     "data": {
      "image/png": "[encoded data removed]",
      "text/plain": [
       "<Figure size 432x288 with 1 Axes>"
      ]
     },
     "metadata": {},
     "output_type": "display_data"
    }
   ],
   "source": [
    "az.plot_energy(artic_4_trace)"
   ]
  },
  {
   "cell_type": "code",
   "execution_count": 79,
   "metadata": {},
   "outputs": [
    {
     "data": {
      "text/html": [
       "<div>\n",
       "<style scoped>\n",
       "    .dataframe tbody tr th:only-of-type {\n",
       "        vertical-align: middle;\n",
       "    }\n",
       "\n",
       "    .dataframe tbody tr th {\n",
       "        vertical-align: top;\n",
       "    }\n",
       "\n",
       "    .dataframe thead th {\n",
       "        text-align: right;\n",
       "    }\n",
       "</style>\n",
       "<table border=\"1\" class=\"dataframe\">\n",
       "  <thead>\n",
       "    <tr style=\"text-align: right;\">\n",
       "      <th></th>\n",
       "      <th>mean</th>\n",
       "      <th>sd</th>\n",
       "      <th>hpd_3%</th>\n",
       "      <th>hpd_97%</th>\n",
       "    </tr>\n",
       "  </thead>\n",
       "  <tbody>\n",
       "    <tr>\n",
       "      <th>Age at amplification</th>\n",
       "      <td>-2.896</td>\n",
       "      <td>0.721</td>\n",
       "      <td>-4.229</td>\n",
       "      <td>-1.537</td>\n",
       "    </tr>\n",
       "    <tr>\n",
       "      <th>Family Involvement Score</th>\n",
       "      <td>-3.389</td>\n",
       "      <td>0.592</td>\n",
       "      <td>-4.493</td>\n",
       "      <td>-2.271</td>\n",
       "    </tr>\n",
       "    <tr>\n",
       "      <th>Number of siblings</th>\n",
       "      <td>0.200</td>\n",
       "      <td>0.610</td>\n",
       "      <td>-0.926</td>\n",
       "      <td>1.368</td>\n",
       "    </tr>\n",
       "    <tr>\n",
       "      <th>Mother with College Ed</th>\n",
       "      <td>0.275</td>\n",
       "      <td>1.637</td>\n",
       "      <td>-2.853</td>\n",
       "      <td>3.370</td>\n",
       "    </tr>\n",
       "    <tr>\n",
       "      <th>Years in program</th>\n",
       "      <td>1.017</td>\n",
       "      <td>0.528</td>\n",
       "      <td>0.034</td>\n",
       "      <td>2.006</td>\n",
       "    </tr>\n",
       "    <tr>\n",
       "      <th>Identified &lt;= 3mo</th>\n",
       "      <td>-2.322</td>\n",
       "      <td>1.502</td>\n",
       "      <td>-5.172</td>\n",
       "      <td>0.461</td>\n",
       "    </tr>\n",
       "    <tr>\n",
       "      <th>Intervention &lt;= 6mo</th>\n",
       "      <td>5.119</td>\n",
       "      <td>2.093</td>\n",
       "      <td>1.081</td>\n",
       "      <td>9.057</td>\n",
       "    </tr>\n",
       "    <tr>\n",
       "      <th>Intervention with OPTION</th>\n",
       "      <td>5.594</td>\n",
       "      <td>1.587</td>\n",
       "      <td>2.710</td>\n",
       "      <td>8.675</td>\n",
       "    </tr>\n",
       "    <tr>\n",
       "      <th>Interaction</th>\n",
       "      <td>-3.137</td>\n",
       "      <td>2.552</td>\n",
       "      <td>-8.019</td>\n",
       "      <td>1.490</td>\n",
       "    </tr>\n",
       "    <tr>\n",
       "      <th>OPTION &lt; 6mo</th>\n",
       "      <td>7.575</td>\n",
       "      <td>2.286</td>\n",
       "      <td>3.143</td>\n",
       "      <td>11.694</td>\n",
       "    </tr>\n",
       "  </tbody>\n",
       "</table>\n",
       "</div>"
      ],
      "text/plain": [
       "                           mean     sd  hpd_3%  hpd_97%\n",
       "Age at amplification     -2.896  0.721  -4.229   -1.537\n",
       "Family Involvement Score -3.389  0.592  -4.493   -2.271\n",
       "Number of siblings        0.200  0.610  -0.926    1.368\n",
       "Mother with College Ed    0.275  1.637  -2.853    3.370\n",
       "Years in program          1.017  0.528   0.034    2.006\n",
       "Identified <= 3mo        -2.322  1.502  -5.172    0.461\n",
       "Intervention <= 6mo       5.119  2.093   1.081    9.057\n",
       "Intervention with OPTION  5.594  1.587   2.710    8.675\n",
       "Interaction              -3.137  2.552  -8.019    1.490\n",
       "OPTION < 6mo              7.575  2.286   3.143   11.694"
      ]
     },
     "execution_count": 79,
     "metadata": {},
     "output_type": "execute_result"
    }
   ],
   "source": [
    "artic_table = az.summary(artic_4_trace, \n",
    "                         var_names=['β', 'option_after_6mo']).set_index(pd.Index(labels + ['OPTION < 6mo'])).iloc[:, :4]\n",
    "artic_table"
   ]
  },
  {
   "cell_type": "code",
   "execution_count": 80,
   "metadata": {},
   "outputs": [],
   "source": [
    "artic_table.to_csv('artic_EI.csv')"
   ]
  },
  {
   "cell_type": "markdown",
   "metadata": {},
   "source": [
    "## Expressive Vocabulary Model"
   ]
  },
  {
   "cell_type": "code",
   "execution_count": 62,
   "metadata": {},
   "outputs": [],
   "source": [
    "expressive_vocab_dataset = analysis_subset[(analysis_subset.domain=='Expressive Vocabulary')]"
   ]
  },
  {
   "cell_type": "code",
   "execution_count": 63,
   "metadata": {},
   "outputs": [
    {
     "name": "stderr",
     "output_type": "stream",
     "text": [
      "/home/fonnesbeck_gmail_com/anaconda3/envs/dev/lib/python3.7/site-packages/pymc3/model.py:1430: ImputationWarning: Data in x_age_amp contains missing values and will be automatically imputed from the sampling distribution.\n",
      "  warnings.warn(impute_message, ImputationWarning)\n",
      "/home/fonnesbeck_gmail_com/anaconda3/envs/dev/lib/python3.7/site-packages/pymc3/model.py:1430: ImputationWarning: Data in x_family_inv contains missing values and will be automatically imputed from the sampling distribution.\n",
      "  warnings.warn(impute_message, ImputationWarning)\n",
      "/home/fonnesbeck_gmail_com/anaconda3/envs/dev/lib/python3.7/site-packages/pymc3/model.py:1430: ImputationWarning: Data in x_sib contains missing values and will be automatically imputed from the sampling distribution.\n",
      "  warnings.warn(impute_message, ImputationWarning)\n",
      "/home/fonnesbeck_gmail_com/anaconda3/envs/dev/lib/python3.7/site-packages/pymc3/model.py:1430: ImputationWarning: Data in x_3mo contains missing values and will be automatically imputed from the sampling distribution.\n",
      "  warnings.warn(impute_message, ImputationWarning)\n",
      "/home/fonnesbeck_gmail_com/anaconda3/envs/dev/lib/python3.7/site-packages/pymc3/model.py:1430: ImputationWarning: Data in x_6mo contains missing values and will be automatically imputed from the sampling distribution.\n",
      "  warnings.warn(impute_message, ImputationWarning)\n",
      "/home/fonnesbeck_gmail_com/anaconda3/envs/dev/lib/python3.7/site-packages/pymc3/model.py:1430: ImputationWarning: Data in x_mother_college contains missing values and will be automatically imputed from the sampling distribution.\n",
      "  warnings.warn(impute_message, ImputationWarning)\n"
     ]
    }
   ],
   "source": [
    "expressive_vocab_4 = generate_model(expressive_vocab_dataset, 4)"
   ]
  },
  {
   "cell_type": "code",
   "execution_count": 64,
   "metadata": {},
   "outputs": [
    {
     "name": "stderr",
     "output_type": "stream",
     "text": [
      "Multiprocess sampling (4 chains in 4 jobs)\n",
      "CompoundStep\n",
      ">NUTS: [σ, β, z_school, σ_school, μ_school, p_mother_college, p_6mo, p_3mo, p_sib, p_family_inv, x_age_amp_missing, p_age_amp, s_age_amp, m_age_amp]\n",
      ">CategoricalGibbsMetropolis: [x_sib_missing, x_family_inv_missing]\n",
      ">BinaryGibbsMetropolis: [x_3mo_missing, x_6mo_missing, x_mother_college_missing]\n"
     ]
    },
    {
     "data": {
      "text/html": [
       "\n",
       "    <div>\n",
       "        <style>\n",
       "            /* Turns off some styling */\n",
       "            progress {\n",
       "                /* gets rid of default border in Firefox and Opera. */\n",
       "                border: none;\n",
       "                /* Needs to be in here for Safari polyfill so background images work as expected. */\n",
       "                background-size: auto;\n",
       "            }\n",
       "            .progress-bar-interrupted, .progress-bar-interrupted::-webkit-progress-bar {\n",
       "                background: #F44336;\n",
       "            }\n",
       "        </style>\n",
       "      <progress value='20000' class='' max='20000', style='width:300px; height:20px; vertical-align: middle;'></progress>\n",
       "      100.00% [20000/20000 40:45<00:00 Sampling 4 chains, 0 divergences]\n",
       "    </div>\n",
       "    "
      ],
      "text/plain": [
       "<IPython.core.display.HTML object>"
      ]
     },
     "metadata": {},
     "output_type": "display_data"
    },
    {
     "name": "stderr",
     "output_type": "stream",
     "text": [
      "The rhat statistic is larger than 1.4 for some parameters. The sampler did not converge.\n",
      "The estimated number of effective samples is smaller than 200 for some parameters.\n"
     ]
    }
   ],
   "source": [
    "with expressive_vocab_4:\n",
    "    \n",
    "    expressive_vocab_4_trace = sample(iterations, tune=tuning)"
   ]
  },
  {
   "cell_type": "code",
   "execution_count": 65,
   "metadata": {},
   "outputs": [
    {
     "data": {
      "image/png": "[encoded data removed]",
      "text/plain": [
       "<Figure size 432x352.8 with 1 Axes>"
      ]
     },
     "metadata": {
      "needs_background": "light"
     },
     "output_type": "display_data"
    }
   ],
   "source": [
    "_,axes = az.plot_forest(expressive_vocab_4_trace, \n",
    "               var_names=['β'],\n",
    "              combined=True)\n",
    "axes[0].set_title('Expressive vocabulary')\n",
    "axes[0].vlines(0, *axes[0].get_ylim(), linestyles='dotted')\n",
    "axes[0].set_yticklabels(labels[::-1]);"
   ]
  },
  {
   "cell_type": "code",
   "execution_count": 66,
   "metadata": {},
   "outputs": [
    {
     "data": {
      "text/plain": [
       "<matplotlib.axes._subplots.AxesSubplot at 0x7fab19179470>"
      ]
     },
     "execution_count": 66,
     "metadata": {},
     "output_type": "execute_result"
    },
    {
     "data": {
      "image/png": "[encoded data removed]",
      "text/plain": [
       "<Figure size 432x288 with 1 Axes>"
      ]
     },
     "metadata": {},
     "output_type": "display_data"
    }
   ],
   "source": [
    "az.plot_energy(expressive_vocab_4_trace)"
   ]
  },
  {
   "cell_type": "code",
   "execution_count": 81,
   "metadata": {},
   "outputs": [],
   "source": [
    "exp_vocab_table = az.summary(expressive_vocab_4_trace, \n",
    "                             var_names=['β', 'option_after_6mo']).set_index(pd.Index(labels + ['OPTION < 6mo'])).iloc[:, :4]"
   ]
  },
  {
   "cell_type": "code",
   "execution_count": 82,
   "metadata": {},
   "outputs": [],
   "source": [
    "exp_vocab_table.to_csv('exp_vocab_EI.csv')"
   ]
  },
  {
   "cell_type": "markdown",
   "metadata": {},
   "source": [
    "## Receptive Vocabulary Model"
   ]
  },
  {
   "cell_type": "code",
   "execution_count": 30,
   "metadata": {},
   "outputs": [],
   "source": [
    "receptive_vocab_dataset = analysis_subset[(analysis_subset.domain=='Receptive Vocabulary')]"
   ]
  },
  {
   "cell_type": "code",
   "execution_count": 31,
   "metadata": {},
   "outputs": [
    {
     "name": "stderr",
     "output_type": "stream",
     "text": [
      "/home/fonnesbeck_gmail_com/anaconda3/envs/dev/lib/python3.7/site-packages/pymc3/model.py:1430: ImputationWarning: Data in x_age_amp contains missing values and will be automatically imputed from the sampling distribution.\n",
      "  warnings.warn(impute_message, ImputationWarning)\n",
      "/home/fonnesbeck_gmail_com/anaconda3/envs/dev/lib/python3.7/site-packages/pymc3/model.py:1430: ImputationWarning: Data in x_family_inv contains missing values and will be automatically imputed from the sampling distribution.\n",
      "  warnings.warn(impute_message, ImputationWarning)\n",
      "/home/fonnesbeck_gmail_com/anaconda3/envs/dev/lib/python3.7/site-packages/pymc3/model.py:1430: ImputationWarning: Data in x_sib contains missing values and will be automatically imputed from the sampling distribution.\n",
      "  warnings.warn(impute_message, ImputationWarning)\n",
      "/home/fonnesbeck_gmail_com/anaconda3/envs/dev/lib/python3.7/site-packages/pymc3/model.py:1430: ImputationWarning: Data in x_3mo contains missing values and will be automatically imputed from the sampling distribution.\n",
      "  warnings.warn(impute_message, ImputationWarning)\n",
      "/home/fonnesbeck_gmail_com/anaconda3/envs/dev/lib/python3.7/site-packages/pymc3/model.py:1430: ImputationWarning: Data in x_6mo contains missing values and will be automatically imputed from the sampling distribution.\n",
      "  warnings.warn(impute_message, ImputationWarning)\n",
      "/home/fonnesbeck_gmail_com/anaconda3/envs/dev/lib/python3.7/site-packages/pymc3/model.py:1430: ImputationWarning: Data in x_mother_college contains missing values and will be automatically imputed from the sampling distribution.\n",
      "  warnings.warn(impute_message, ImputationWarning)\n"
     ]
    }
   ],
   "source": [
    "receptive_vocab_4 = generate_model(receptive_vocab_dataset, 4)"
   ]
  },
  {
   "cell_type": "code",
   "execution_count": 33,
   "metadata": {},
   "outputs": [
    {
     "name": "stderr",
     "output_type": "stream",
     "text": [
      "Multiprocess sampling (4 chains in 4 jobs)\n",
      "CompoundStep\n",
      ">NUTS: [σ, β, z_school, σ_school, μ_school, p_mother_college, p_6mo, p_3mo, p_sib, p_family_inv, x_age_amp_missing, p_age_amp, s_age_amp, m_age_amp]\n",
      ">CategoricalGibbsMetropolis: [x_sib_missing, x_family_inv_missing]\n",
      ">BinaryGibbsMetropolis: [x_3mo_missing, x_6mo_missing, x_mother_college_missing]\n"
     ]
    },
    {
     "data": {
      "text/html": [
       "\n",
       "    <div>\n",
       "        <style>\n",
       "            /* Turns off some styling */\n",
       "            progress {\n",
       "                /* gets rid of default border in Firefox and Opera. */\n",
       "                border: none;\n",
       "                /* Needs to be in here for Safari polyfill so background images work as expected. */\n",
       "                background-size: auto;\n",
       "            }\n",
       "            .progress-bar-interrupted, .progress-bar-interrupted::-webkit-progress-bar {\n",
       "                background: #F44336;\n",
       "            }\n",
       "        </style>\n",
       "      <progress value='20000' class='' max='20000', style='width:300px; height:20px; vertical-align: middle;'></progress>\n",
       "      100.00% [20000/20000 41:05<00:00 Sampling 4 chains, 0 divergences]\n",
       "    </div>\n",
       "    "
      ],
      "text/plain": [
       "<IPython.core.display.HTML object>"
      ]
     },
     "metadata": {},
     "output_type": "display_data"
    },
    {
     "name": "stderr",
     "output_type": "stream",
     "text": [
      "The number of effective samples is smaller than 25% for some parameters.\n"
     ]
    }
   ],
   "source": [
    "with receptive_vocab_4:\n",
    "    \n",
    "    receptive_vocab_4_trace = sample(iterations, tune=tuning)"
   ]
  },
  {
   "cell_type": "code",
   "execution_count": 34,
   "metadata": {},
   "outputs": [
    {
     "data": {
      "image/png": "[encoded data removed]",
      "text/plain": [
       "<Figure size 432x352.8 with 1 Axes>"
      ]
     },
     "metadata": {
      "needs_background": "light"
     },
     "output_type": "display_data"
    }
   ],
   "source": [
    "_,axes = az.plot_forest(receptive_vocab_4_trace, \n",
    "               var_names=['β'],\n",
    "              combined=True)\n",
    "axes[0].set_title('Receptive vocabulary')\n",
    "axes[0].vlines(0, *axes[0].get_ylim(), linestyles='dotted')\n",
    "axes[0].set_yticklabels(labels[::-1]);"
   ]
  },
  {
   "cell_type": "code",
   "execution_count": 35,
   "metadata": {},
   "outputs": [
    {
     "data": {
      "text/plain": [
       "<matplotlib.axes._subplots.AxesSubplot at 0x7fe4aca59f98>"
      ]
     },
     "execution_count": 35,
     "metadata": {},
     "output_type": "execute_result"
    },
    {
     "data": {
      "image/png": "[encoded data removed]",
      "text/plain": [
       "<Figure size 432x288 with 1 Axes>"
      ]
     },
     "metadata": {},
     "output_type": "display_data"
    }
   ],
   "source": [
    "az.plot_energy(receptive_vocab_4_trace)"
   ]
  },
  {
   "cell_type": "code",
   "execution_count": 36,
   "metadata": {},
   "outputs": [],
   "source": [
    "rec_vocab_table = az.summary(receptive_vocab_4_trace, \n",
    "                             var_names=['β', 'option_after_6mo']).set_index(pd.Index(labels + ['OPTION < 6mo'])).iloc[:, :4]"
   ]
  },
  {
   "cell_type": "code",
   "execution_count": 37,
   "metadata": {},
   "outputs": [],
   "source": [
    "rec_vocab_table.to_csv('rec_vocab_EI.csv')"
   ]
  }
 ],
 "metadata": {
  "kernelspec": {
   "display_name": "Python 3",
   "language": "python",
   "name": "python3"
  },
  "language_info": {
   "codemirror_mode": {
    "name": "ipython",
    "version": 3
   },
   "file_extension": ".py",
   "mimetype": "text/x-python",
   "name": "python",
   "nbconvert_exporter": "python",
   "pygments_lexer": "ipython3",
   "version": "3.7.3"
  }
 },
 "nbformat": 4,
 "nbformat_minor": 4
}
