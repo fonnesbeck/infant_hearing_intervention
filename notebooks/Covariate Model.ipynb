{
 "cells": [
  {
   "cell_type": "markdown",
   "metadata": {},
   "source": [
    "# Factors that Influence Outcomes of the Five Domains of Speech-Language in Children with Hearing Loss at age 4 years\n",
    "\n",
    "Paper 1"
   ]
  },
  {
   "cell_type": "code",
   "execution_count": 1,
   "metadata": {},
   "outputs": [],
   "source": [
    "# Import modules and set options\n",
    "%matplotlib inline\n",
    "import matplotlib.pyplot as plt\n",
    "import pandas as pd\n",
    "import numpy as np\n",
    "import seaborn as sns\n",
    "\n",
    "sns.set(context='notebook', style='ticks')"
   ]
  },
  {
   "cell_type": "markdown",
   "metadata": {},
   "source": [
    "Import data"
   ]
  },
  {
   "cell_type": "code",
   "execution_count": 2,
   "metadata": {},
   "outputs": [],
   "source": [
    "lsl_dr = (pd.read_csv('../data/clean/lsl_dr.csv', index_col=0, low_memory=False)\n",
    "                  .rename({'onset_1':'identify_mo'}, axis=1))"
   ]
  },
  {
   "cell_type": "code",
   "execution_count": 3,
   "metadata": {},
   "outputs": [
    {
     "data": {
      "text/html": [
       "<div>\n",
       "<style scoped>\n",
       "    .dataframe tbody tr th:only-of-type {\n",
       "        vertical-align: middle;\n",
       "    }\n",
       "\n",
       "    .dataframe tbody tr th {\n",
       "        vertical-align: top;\n",
       "    }\n",
       "\n",
       "    .dataframe thead th {\n",
       "        text-align: right;\n",
       "    }\n",
       "</style>\n",
       "<table border=\"1\" class=\"dataframe\">\n",
       "  <thead>\n",
       "    <tr style=\"text-align: right;\">\n",
       "      <th></th>\n",
       "      <th>redcap_event_name</th>\n",
       "      <th>academic_year_rv</th>\n",
       "      <th>hl</th>\n",
       "      <th>male</th>\n",
       "      <th>_race</th>\n",
       "      <th>prim_lang</th>\n",
       "      <th>sib</th>\n",
       "      <th>_mother_ed</th>\n",
       "      <th>father_ed</th>\n",
       "      <th>par1_ed</th>\n",
       "      <th>...</th>\n",
       "      <th>gf3_sis_ss</th>\n",
       "      <th>gf3_siw_ss</th>\n",
       "      <th>gf_version</th>\n",
       "      <th>ppvt_f</th>\n",
       "      <th>ppvt_ss</th>\n",
       "      <th>rowpvt_ss</th>\n",
       "      <th>school</th>\n",
       "      <th>score</th>\n",
       "      <th>test_name</th>\n",
       "      <th>test_type</th>\n",
       "    </tr>\n",
       "  </thead>\n",
       "  <tbody>\n",
       "    <tr>\n",
       "      <th>0</th>\n",
       "      <td>initial_assessment_arm_1</td>\n",
       "      <td>2002.0</td>\n",
       "      <td>0.0</td>\n",
       "      <td>0.0</td>\n",
       "      <td>0.0</td>\n",
       "      <td>0.0</td>\n",
       "      <td>1.0</td>\n",
       "      <td>6.0</td>\n",
       "      <td>6.0</td>\n",
       "      <td>NaN</td>\n",
       "      <td>...</td>\n",
       "      <td>NaN</td>\n",
       "      <td>NaN</td>\n",
       "      <td>NaN</td>\n",
       "      <td>NaN</td>\n",
       "      <td>NaN</td>\n",
       "      <td>NaN</td>\n",
       "      <td>101</td>\n",
       "      <td>58.0</td>\n",
       "      <td>NaN</td>\n",
       "      <td>EOWPVT</td>\n",
       "    </tr>\n",
       "    <tr>\n",
       "      <th>1</th>\n",
       "      <td>initial_assessment_arm_1</td>\n",
       "      <td>2002.0</td>\n",
       "      <td>0.0</td>\n",
       "      <td>0.0</td>\n",
       "      <td>0.0</td>\n",
       "      <td>0.0</td>\n",
       "      <td>1.0</td>\n",
       "      <td>6.0</td>\n",
       "      <td>6.0</td>\n",
       "      <td>NaN</td>\n",
       "      <td>...</td>\n",
       "      <td>NaN</td>\n",
       "      <td>NaN</td>\n",
       "      <td>NaN</td>\n",
       "      <td>NaN</td>\n",
       "      <td>NaN</td>\n",
       "      <td>NaN</td>\n",
       "      <td>101</td>\n",
       "      <td>51.0</td>\n",
       "      <td>PLS</td>\n",
       "      <td>receptive</td>\n",
       "    </tr>\n",
       "    <tr>\n",
       "      <th>2</th>\n",
       "      <td>initial_assessment_arm_1</td>\n",
       "      <td>2002.0</td>\n",
       "      <td>0.0</td>\n",
       "      <td>0.0</td>\n",
       "      <td>0.0</td>\n",
       "      <td>0.0</td>\n",
       "      <td>1.0</td>\n",
       "      <td>6.0</td>\n",
       "      <td>6.0</td>\n",
       "      <td>NaN</td>\n",
       "      <td>...</td>\n",
       "      <td>NaN</td>\n",
       "      <td>NaN</td>\n",
       "      <td>NaN</td>\n",
       "      <td>NaN</td>\n",
       "      <td>NaN</td>\n",
       "      <td>NaN</td>\n",
       "      <td>101</td>\n",
       "      <td>60.0</td>\n",
       "      <td>PLS</td>\n",
       "      <td>expressive</td>\n",
       "    </tr>\n",
       "    <tr>\n",
       "      <th>3</th>\n",
       "      <td>initial_assessment_arm_1</td>\n",
       "      <td>2014.0</td>\n",
       "      <td>0.0</td>\n",
       "      <td>0.0</td>\n",
       "      <td>0.0</td>\n",
       "      <td>0.0</td>\n",
       "      <td>2.0</td>\n",
       "      <td>4.0</td>\n",
       "      <td>5.0</td>\n",
       "      <td>NaN</td>\n",
       "      <td>...</td>\n",
       "      <td>NaN</td>\n",
       "      <td>NaN</td>\n",
       "      <td>NaN</td>\n",
       "      <td>NaN</td>\n",
       "      <td>NaN</td>\n",
       "      <td>NaN</td>\n",
       "      <td>626</td>\n",
       "      <td>89.0</td>\n",
       "      <td>PLS</td>\n",
       "      <td>receptive</td>\n",
       "    </tr>\n",
       "    <tr>\n",
       "      <th>4</th>\n",
       "      <td>initial_assessment_arm_1</td>\n",
       "      <td>2014.0</td>\n",
       "      <td>0.0</td>\n",
       "      <td>0.0</td>\n",
       "      <td>0.0</td>\n",
       "      <td>0.0</td>\n",
       "      <td>2.0</td>\n",
       "      <td>4.0</td>\n",
       "      <td>5.0</td>\n",
       "      <td>NaN</td>\n",
       "      <td>...</td>\n",
       "      <td>NaN</td>\n",
       "      <td>NaN</td>\n",
       "      <td>NaN</td>\n",
       "      <td>NaN</td>\n",
       "      <td>NaN</td>\n",
       "      <td>NaN</td>\n",
       "      <td>626</td>\n",
       "      <td>88.0</td>\n",
       "      <td>PLS</td>\n",
       "      <td>expressive</td>\n",
       "    </tr>\n",
       "  </tbody>\n",
       "</table>\n",
       "<p>5 rows × 214 columns</p>\n",
       "</div>"
      ],
      "text/plain": [
       "          redcap_event_name  academic_year_rv   hl  male  _race  prim_lang  \\\n",
       "0  initial_assessment_arm_1            2002.0  0.0   0.0    0.0        0.0   \n",
       "1  initial_assessment_arm_1            2002.0  0.0   0.0    0.0        0.0   \n",
       "2  initial_assessment_arm_1            2002.0  0.0   0.0    0.0        0.0   \n",
       "3  initial_assessment_arm_1            2014.0  0.0   0.0    0.0        0.0   \n",
       "4  initial_assessment_arm_1            2014.0  0.0   0.0    0.0        0.0   \n",
       "\n",
       "   sib  _mother_ed  father_ed  par1_ed     ...      gf3_sis_ss  gf3_siw_ss  \\\n",
       "0  1.0         6.0        6.0      NaN     ...             NaN         NaN   \n",
       "1  1.0         6.0        6.0      NaN     ...             NaN         NaN   \n",
       "2  1.0         6.0        6.0      NaN     ...             NaN         NaN   \n",
       "3  2.0         4.0        5.0      NaN     ...             NaN         NaN   \n",
       "4  2.0         4.0        5.0      NaN     ...             NaN         NaN   \n",
       "\n",
       "   gf_version  ppvt_f  ppvt_ss  rowpvt_ss  school  score  test_name  \\\n",
       "0         NaN     NaN      NaN        NaN     101   58.0        NaN   \n",
       "1         NaN     NaN      NaN        NaN     101   51.0        PLS   \n",
       "2         NaN     NaN      NaN        NaN     101   60.0        PLS   \n",
       "3         NaN     NaN      NaN        NaN     626   89.0        PLS   \n",
       "4         NaN     NaN      NaN        NaN     626   88.0        PLS   \n",
       "\n",
       "    test_type  \n",
       "0      EOWPVT  \n",
       "1   receptive  \n",
       "2  expressive  \n",
       "3   receptive  \n",
       "4  expressive  \n",
       "\n",
       "[5 rows x 214 columns]"
      ]
     },
     "execution_count": 3,
     "metadata": {},
     "output_type": "execute_result"
    }
   ],
   "source": [
    "lsl_dr.head()"
   ]
  },
  {
   "cell_type": "markdown",
   "metadata": {},
   "source": [
    "Indicator for non-profound hearing loss"
   ]
  },
  {
   "cell_type": "code",
   "execution_count": 4,
   "metadata": {},
   "outputs": [],
   "source": [
    "lsl_dr['deg_hl_below6'] = lsl_dr.degree_hl<6\n",
    "lsl_dr.loc[lsl_dr.degree_hl.isnull(), 'deg_hl_below6'] = np.nan"
   ]
  },
  {
   "cell_type": "markdown",
   "metadata": {},
   "source": [
    "Indicator for first intervention outside OPTION"
   ]
  },
  {
   "cell_type": "code",
   "execution_count": 5,
   "metadata": {},
   "outputs": [],
   "source": [
    "lsl_dr['int_outside_option'] = lsl_dr.age > lsl_dr.age_int\n",
    "lsl_dr.loc[lsl_dr.age < lsl_dr.age_int, 'int_outside_option'] = np.nan"
   ]
  },
  {
   "cell_type": "markdown",
   "metadata": {},
   "source": [
    "Indicator for high school graduation of mother"
   ]
  },
  {
   "cell_type": "code",
   "execution_count": 6,
   "metadata": {},
   "outputs": [],
   "source": [
    "lsl_dr['mother_hs'] = lsl_dr.mother_ed > 1\n",
    "lsl_dr.loc[lsl_dr.mother_ed.isnull(), 'mother_hs'] = None"
   ]
  },
  {
   "cell_type": "markdown",
   "metadata": {},
   "source": [
    "Create age in years variable"
   ]
  },
  {
   "cell_type": "code",
   "execution_count": 7,
   "metadata": {},
   "outputs": [],
   "source": [
    "lsl_dr['age_years'] = lsl_dr.age/12."
   ]
  },
  {
   "cell_type": "markdown",
   "metadata": {},
   "source": [
    "Create school index"
   ]
  },
  {
   "cell_type": "code",
   "execution_count": 8,
   "metadata": {},
   "outputs": [],
   "source": [
    "schools_unique = np.sort(lsl_dr.school.unique())\n",
    "school_lookup = dict(zip(schools_unique, range(len(schools_unique))))"
   ]
  },
  {
   "cell_type": "code",
   "execution_count": 9,
   "metadata": {},
   "outputs": [],
   "source": [
    "lsl_dr['school_idx'] = lsl_dr.school.replace(school_lookup)"
   ]
  },
  {
   "cell_type": "markdown",
   "metadata": {},
   "source": [
    "Create student index"
   ]
  },
  {
   "cell_type": "code",
   "execution_count": 10,
   "metadata": {},
   "outputs": [],
   "source": [
    "student_unique = np.sort(lsl_dr.study_id.unique())\n",
    "student_lookup = dict(zip(student_unique, range(len(student_unique))))"
   ]
  },
  {
   "cell_type": "code",
   "execution_count": 11,
   "metadata": {},
   "outputs": [],
   "source": [
    "lsl_dr['student_idx'] = lsl_dr.study_id.replace(student_lookup)"
   ]
  },
  {
   "cell_type": "markdown",
   "metadata": {},
   "source": [
    "### Exclusions\n",
    "\n",
    "Drop non-english and other disabilities, filter for hearing loss"
   ]
  },
  {
   "cell_type": "code",
   "execution_count": 12,
   "metadata": {},
   "outputs": [],
   "source": [
    "other_etiology = (lsl_dr[['etiology_3___2', 'etiology_3___4', 'etiology_3___5', 'etiology_3___6', 'etiology_3___9',\n",
    "       'etiology_oth___1', 'etiology_oth___3', 'etiology_oth___4', 'etiology_oth___8', 'etiology_oth___9']]\n",
    "                      .sum(1).astype(bool))"
   ]
  },
  {
   "cell_type": "code",
   "execution_count": 13,
   "metadata": {},
   "outputs": [],
   "source": [
    "inclusion_mask = (~lsl_dr.non_english.astype(bool) \n",
    "                  & ~lsl_dr.synd_or_disab.astype(bool) \n",
    "                  & (lsl_dr.degree_hl!=0)\n",
    "                  & ((lsl_dr.etiology_2==0)\n",
    "                  | (lsl_dr.etiology_2.isnull() & ~other_etiology)))"
   ]
  },
  {
   "cell_type": "code",
   "execution_count": 14,
   "metadata": {},
   "outputs": [],
   "source": [
    "covariates = ['score', 'student_idx', 'school_idx', 'male', 'sib', 'family_inv', 'race', 'age_test', \n",
    "              'domain', 'deg_hl_below6', 'mother_hs', 'age_years', 'test_type', 'time', 'bilateral_ci',\n",
    "              'bilateral_ha', 'unilateral_ci', 'unilateral_ha', 'bimodal']"
   ]
  },
  {
   "cell_type": "code",
   "execution_count": 15,
   "metadata": {},
   "outputs": [
    {
     "data": {
      "text/plain": [
       "(8112, 19)"
      ]
     },
     "execution_count": 15,
     "metadata": {},
     "output_type": "execute_result"
    }
   ],
   "source": [
    "analysis_subset = lsl_dr.loc[inclusion_mask, covariates].copy().dropna(subset=['time'])\n",
    "analysis_subset.shape"
   ]
  },
  {
   "cell_type": "code",
   "execution_count": 16,
   "metadata": {},
   "outputs": [
    {
     "data": {
      "text/plain": [
       "bilateral_ci     0.637327\n",
       "bilateral_ha     0.217209\n",
       "unilateral_ci    0.093935\n",
       "unilateral_ha    0.101948\n",
       "bimodal          0.072732\n",
       "dtype: float64"
      ]
     },
     "execution_count": 16,
     "metadata": {},
     "output_type": "execute_result"
    }
   ],
   "source": [
    "analysis_subset[['bilateral_ci',\n",
    "              'bilateral_ha', 'unilateral_ci', 'unilateral_ha', 'bimodal']].mean()"
   ]
  },
  {
   "cell_type": "markdown",
   "metadata": {},
   "source": [
    "## Summary Statistics"
   ]
  },
  {
   "cell_type": "code",
   "execution_count": 17,
   "metadata": {},
   "outputs": [
    {
     "data": {
      "text/plain": [
       "(999, 19)"
      ]
     },
     "execution_count": 17,
     "metadata": {},
     "output_type": "execute_result"
    }
   ],
   "source": [
    "unique_students = analysis_subset.drop_duplicates(subset='student_idx')\n",
    "unique_students.shape"
   ]
  },
  {
   "cell_type": "code",
   "execution_count": 18,
   "metadata": {},
   "outputs": [
    {
     "data": {
      "text/plain": [
       "<matplotlib.axes._subplots.AxesSubplot at 0x7fec2dfe1978>"
      ]
     },
     "execution_count": 18,
     "metadata": {},
     "output_type": "execute_result"
    },
    {
     "data": {
      "image/png": "[encoded data removed]",
      "text/plain": [
       "<Figure size 432x288 with 1 Axes>"
      ]
     },
     "metadata": {},
     "output_type": "display_data"
    }
   ],
   "source": [
    "unique_students.age_years.hist()"
   ]
  },
  {
   "cell_type": "code",
   "execution_count": 19,
   "metadata": {},
   "outputs": [
    {
     "data": {
      "text/plain": [
       "0.48848848848848847"
      ]
     },
     "execution_count": 19,
     "metadata": {},
     "output_type": "execute_result"
    }
   ],
   "source": [
    "unique_students.male.mean()"
   ]
  },
  {
   "cell_type": "code",
   "execution_count": 20,
   "metadata": {},
   "outputs": [
    {
     "data": {
      "text/plain": [
       "Articulation             457\n",
       "Language                 345\n",
       "Expressive Vocabulary    190\n",
       "Receptive Vocabulary       7\n",
       "Name: domain, dtype: int64"
      ]
     },
     "execution_count": 20,
     "metadata": {},
     "output_type": "execute_result"
    }
   ],
   "source": [
    "unique_students.domain.value_counts()"
   ]
  },
  {
   "cell_type": "code",
   "execution_count": 21,
   "metadata": {},
   "outputs": [
    {
     "data": {
      "text/plain": [
       "<matplotlib.axes._subplots.AxesSubplot at 0x7fec2a8771d0>"
      ]
     },
     "execution_count": 21,
     "metadata": {},
     "output_type": "execute_result"
    },
    {
     "data": {
      "image/png": "[encoded data removed]",
      "text/plain": [
       "<Figure size 432x288 with 1 Axes>"
      ]
     },
     "metadata": {},
     "output_type": "display_data"
    }
   ],
   "source": [
    "unique_students.sib.hist()"
   ]
  },
  {
   "cell_type": "code",
   "execution_count": 22,
   "metadata": {},
   "outputs": [
    {
     "data": {
      "text/plain": [
       "0.5665188470066519"
      ]
     },
     "execution_count": 22,
     "metadata": {},
     "output_type": "execute_result"
    }
   ],
   "source": [
    "unique_students.deg_hl_below6.mean()"
   ]
  },
  {
   "cell_type": "code",
   "execution_count": 23,
   "metadata": {},
   "outputs": [
    {
     "data": {
      "text/plain": [
       "0.5523672883787661"
      ]
     },
     "execution_count": 23,
     "metadata": {},
     "output_type": "execute_result"
    }
   ],
   "source": [
    "unique_students.mother_hs.mean()"
   ]
  },
  {
   "cell_type": "markdown",
   "metadata": {},
   "source": [
    "Add expressive and receptive to langauge test domains"
   ]
  },
  {
   "cell_type": "code",
   "execution_count": 24,
   "metadata": {},
   "outputs": [],
   "source": [
    "analysis_subset.loc[(analysis_subset.domain=='Language') & (analysis_subset.test_type=='receptive'), \n",
    "           'domain'] = 'Receptive Language'\n",
    "analysis_subset.loc[(analysis_subset.domain=='Language') & (analysis_subset.test_type=='expressive'), \n",
    "           'domain'] = 'Expressive Language'"
   ]
  },
  {
   "cell_type": "code",
   "execution_count": 25,
   "metadata": {},
   "outputs": [
    {
     "data": {
      "text/plain": [
       "<matplotlib.axes._subplots.AxesSubplot at 0x7fec2a7efb00>"
      ]
     },
     "execution_count": 25,
     "metadata": {},
     "output_type": "execute_result"
    },
    {
     "data": {
      "image/png": "[encoded data removed]",
      "text/plain": [
       "<Figure size 432x288 with 1 Axes>"
      ]
     },
     "metadata": {},
     "output_type": "display_data"
    }
   ],
   "source": [
    "analysis_subset[analysis_subset.age_test<100].age_test.hist()"
   ]
  },
  {
   "cell_type": "code",
   "execution_count": 26,
   "metadata": {},
   "outputs": [
    {
     "data": {
      "text/plain": [
       "score            0.00\n",
       "student_idx      0.00\n",
       "school_idx       0.00\n",
       "male             0.00\n",
       "sib              0.06\n",
       "family_inv       0.16\n",
       "race             0.02\n",
       "age_test         0.00\n",
       "domain           0.00\n",
       "deg_hl_below6    0.07\n",
       "mother_hs        0.28\n",
       "age_years        0.00\n",
       "test_type        0.00\n",
       "time             0.00\n",
       "bilateral_ci     0.00\n",
       "bilateral_ha     0.00\n",
       "unilateral_ci    0.00\n",
       "unilateral_ha    0.00\n",
       "bimodal          0.00\n",
       "dtype: float64"
      ]
     },
     "execution_count": 26,
     "metadata": {},
     "output_type": "execute_result"
    }
   ],
   "source": [
    "(analysis_subset.isnull().sum() / analysis_subset.shape[0]).round(2)"
   ]
  },
  {
   "cell_type": "markdown",
   "metadata": {},
   "source": [
    "Drop records with missing race and age at ernollment, since there is less than 1% of them"
   ]
  },
  {
   "cell_type": "code",
   "execution_count": 27,
   "metadata": {},
   "outputs": [],
   "source": [
    "analysis_subset = analysis_subset.dropna(subset=['race', 'age_years', 'age_test'])"
   ]
  },
  {
   "cell_type": "code",
   "execution_count": 29,
   "metadata": {},
   "outputs": [
    {
     "data": {
      "text/plain": [
       "0.0    1224\n",
       "1.0     212\n",
       "2.0     183\n",
       "4.0     137\n",
       "3.0      74\n",
       "Name: race, dtype: int64"
      ]
     },
     "execution_count": 29,
     "metadata": {},
     "output_type": "execute_result"
    }
   ],
   "source": [
    "analysis_subset.race.value_counts()"
   ]
  },
  {
   "cell_type": "markdown",
   "metadata": {},
   "source": [
    "## Covariate model specification\n",
    "\n",
    "Student test scores were modeled across five domains: receptive language, expressive \n",
    "language, articulation, receptive vocabulary, and expressive vocabulary. Each domain was modeled separately, using the same general model structure, a Bayesian hierarchical mixed-effects linear model.\n",
    "\n",
    "Consistent with the goals of the analysis, namely evaluating speech and language outcomes at 4 years of age, the subset of the dataset analyzed was restricted to children between the ages 48 and 60 months at the time of testing. Due to this age restriction, most students in the dataset contributed only one test score to the analysis, but several individuals (on the order of 100-200, depending on the test) contributed two or more. Rather than address the repeated measures (and resulting lack of independence) statistically, the mean test score was used for each student with more than one reported score within each domain.\n",
    "\n",
    "Eight potential predictor variables (covariates) were included in the model as fixed effects, based on a priori expert opinion that considered them to be possibly influential for predicting test scores, and on the presence of reasonable variation in the predictor variable across subjects; variables that had identical values over a large portion of subjects were excluded. The final subset of covariates included gender, family involvement index, number of siblings in household, degree of hearing loss, mother’s education, age of enrollment, and time in the program. The family involvement scale is a 5-category ordinal variable that ranges from ideal participation by family (0) to limited participation (4) (Moeller, 2000). Mother’s education was coded as a binary variable that identifie children whose mother ha at least a high school diploma as the highest level of completed education. The degree of hearing loss was coded as a binary variable that took the value 1 if the degree of loss (based on PTA or ABR results) was less than 6 (profound), resulting in a variable that indicate non-profound hearing loss. Since degree of loss was considered important a priori, we wished to include it in the model, but the lack of variation among non-profound scores (<6) necessitated recoding into fewer categories. These variables were included together in a multivariate mixed effects model so that the estimates of each covariate effect re adjusted for the effects of the others. For example, the effect of decreased family involvement s the estimated effect after taking into account the other variables in the model.\n",
    "\n",
    "In addition to the fixed effects specified above, we included a random effect to account for the variation in test scores among schools, over and above the variation explained by our variables of interest. This random effect estimates the mean and variance of the population of schools comprising this multi-center study. Hence, the predicted score for any particular student is a combination of the fixed effect predictors and the random effect from his or her school. The residual variation from the model is assumed to be normally distributed. \n",
    "\n",
    "The LSL-DR dataset includes several covariates of interest that have observations missing for some records. In order to avoid conducting complete case analysis, we imputed missing values using Bayesian statistical methods, which allows us to use all available data in our model (REF). We included covariates where one third were missing for the subset of data corresponding to a particular test. Missing values were imputed in the model by constructing distributions of values based on the non-missing values, and sampling from this distribution at every iteration of the Markov Chain Monte Carlo (MCMC) sampling procedure used to estimate the model. This approach assumes that covariate values are \n",
    "missing completely at random (MCAR). As an ad hoc measure for checking for obvious violations of this assumption, we calculated mean values for other variables according to whether each covariate was missing; if means differed strongly according to missingness, this would suggest that missingness may not be completely at random.\n",
    "\n",
    "All models were estimated using Markov chain Monte Carlo (Brooks et al. 2011) methods. We specified vague priors to all unknown model parameters. Specifically, standard deviations of the random effects and the sampling distribution were given half-Cauchy priors with scale parameter set to 1, covariates were specified with zero-mean Gaussian priors with standard deviation 100, and the overall mean score also as Gaussian, but with a mean value of 100. Each model was run for 5000 iterations using the PyMC 3.5 software package (Salvatier et al. 2016), with 4000 iterations conservatively discarded as the burn-in interval, leaving 1000 for inference. Model convergence was checked by running a second MCMC chain, and calculating the Gelman-Rubin statistic (Gelman and Rubin 1992) using both chains. Model goodness-of-fit was evaluated using posterior predictive checks, by simulating mean outcome differences from the model and comparing the distribution of simulated differences to the observed mean difference. "
   ]
  },
  {
   "cell_type": "markdown",
   "metadata": {},
   "source": [
    "Utility function for filling NA values"
   ]
  },
  {
   "cell_type": "code",
   "execution_count": 35,
   "metadata": {},
   "outputs": [
    {
     "data": {
      "text/plain": [
       "masked_array(data=[0.4, --, 5.0],\n",
       "             mask=[False,  True, False],\n",
       "       fill_value=0.5)"
      ]
     },
     "execution_count": 35,
     "metadata": {},
     "output_type": "execute_result"
    }
   ],
   "source": [
    "def fillna(x, value):\n",
    "    x_masked = np.ma.masked_invalid(x)\n",
    "    np.ma.set_fill_value(x_masked, value)\n",
    "    return x_masked\n",
    "\n",
    "fillna(np.array([0.4, np.nan, 5]), 0.5)"
   ]
  },
  {
   "cell_type": "code",
   "execution_count": 36,
   "metadata": {},
   "outputs": [],
   "source": [
    "from pymc3 import Bernoulli, Normal, Uniform, Dirichlet, Categorical, Beta, HalfCauchy, Exponential, Multinomial\n",
    "from pymc3 import Model, Deterministic, Metropolis\n",
    "from numpy.ma import masked_values, set_fill_value, masked_invalid\n",
    "import theano.tensor as tt\n",
    "from theano import shared\n",
    "\n",
    "def generate_model(dataset, cohort_age):\n",
    "    \n",
    "    if cohort_age==2:\n",
    "        mask = (dataset.age_test>=24) & (dataset.age_test<36)\n",
    "    elif cohort_age==3:\n",
    "        mask = (dataset.age_test>=36) & (dataset.age_test<48)\n",
    "    elif cohort_age==4:\n",
    "        mask = (dataset.age_test>=48) & (dataset.age_test<60)\n",
    "    elif cohort_age==5:\n",
    "        mask = (dataset.age_test>=60) & (dataset.age_test<72)\n",
    "    elif cohort_age==6:\n",
    "        mask = (dataset.age_test>=72) & (dataset.age_test<84)\n",
    "    else:\n",
    "        print('Invalid age!')\n",
    "        return\n",
    "    \n",
    "    # Generate mean scores\n",
    "    mean_scores = dataset[mask].groupby('student_idx').score.mean()\n",
    "    dataset_unique = dataset[mask].drop_duplicates(subset='student_idx')\n",
    "    dataset_unique.set_index('student_idx').drop('score', axis=1).join(mean_scores)\n",
    "    assert not dataset_unique.score.isnull().sum()\n",
    "    \n",
    "    (male, sib, family_inv, race, school, time, \n",
    "             non_severe, mom_hs, age_enroll, score) = dataset_unique[['male', 'sib','family_inv', 'race', 'school_idx',\n",
    "                                                    'time', 'deg_hl_below6', 'mother_hs', \n",
    "                                                    'age_years', 'score']].astype(float).T.values\n",
    "\n",
    "    # Transform some data\n",
    "    age_enroll_std = age_enroll - age_enroll.mean()\n",
    "\n",
    "    with Model() as model:\n",
    "\n",
    "        # Imputation of family involvement\n",
    "        if np.isnan(family_inv).sum():\n",
    "            p_family_inv = Dirichlet(\"p_family_inv\", np.ones(5))\n",
    "            x_family_inv = Categorical('x_family_inv', p_family_inv, \n",
    "                                       observed=masked_invalid(family_inv))\n",
    "        else:\n",
    "            x_family_inv = family_inv\n",
    "        \n",
    "        # Imputation of hearing loss\n",
    "        if np.isnan(non_severe).sum():\n",
    "            p_hl = Beta(\"p_hl\", 1, 1, testval=0.9)\n",
    "            x_hl = Bernoulli('x_hl', p_hl, observed=masked_invalid(non_severe))\n",
    "        else:\n",
    "            x_hl = non_severe\n",
    "            \n",
    "        # Imputation of maternal education\n",
    "        if np.isnan(mom_hs).sum():\n",
    "            p_mother_hs = Beta(\"p_mother_hs\", 1, 1)\n",
    "            x_mother_hs = Bernoulli('x_mother_hs', p_mother_hs, \n",
    "                                    observed=masked_values(fillna(mom_hs, 0.5), value=0.5))\n",
    "        else:\n",
    "            x_mother_hs = mom_hs\n",
    "\n",
    "        # Imputation of siblings\n",
    "        if np.isnan(sib).sum():\n",
    "            n_sib_cats = len(dataset.sib.unique())\n",
    "            p_sib = Dirichlet(\"p_sib\", np.ones(n_sib_cats))\n",
    "            x_sib = Categorical('x_sib', p_sib, observed=masked_values(fillna(sib, 0.5), value=0.5))\n",
    "        else:\n",
    "            x_sib = sib\n",
    "            \n",
    "        # Indices to school random effects\n",
    "        unique_schools = np.unique(school)\n",
    "        school_index = [list(unique_schools).index(s) for s in school]\n",
    "\n",
    "        # School random effect\n",
    "        μ_school = Normal('μ_school', 90, sd=10)\n",
    "        σ_school = Exponential(\"σ_school\", 1)\n",
    "        z_school = Normal('z_school', mu=0, sd=1, shape=len(unique_schools))\n",
    "        α_school = Deterministic(\"α_school\", μ_school + z_school*σ_school)\n",
    "        \n",
    "        # Random intercepts\n",
    "        intercept = α_school[school_index]\n",
    "        \n",
    "        # Race effect\n",
    "        β_race = Normal(\"β_race\", 0, sd=10, shape=4)\n",
    "        race_effect = tt.concatenate([[0], β_race])[race.astype(int)]\n",
    "        \n",
    "        X = [male, x_family_inv, x_sib, x_hl, x_mother_hs, age_enroll_std, time]\n",
    "        # Fixed effects\n",
    "        β = Normal(\"β\", 0, sd=100, shape=len(X))\n",
    "        θ = intercept + race_effect + β.dot(tt.stack(X))\n",
    "    \n",
    "        σ = HalfCauchy(\"σ\", 1, testval=100)\n",
    "        score_like = Normal(\"score_like\", mu=θ, sd=σ, observed=score)\n",
    "        \n",
    "        # Predictions:\n",
    "        # [male, x_family_inv, x_sib, x_hl, x_mother_hs, age_enroll_std, time, tech]\n",
    "        # Caucasian girl, normal family involvement, \n",
    "        # 2 siblings, non-profound hearing loss,\n",
    "        # mother with HS, average age\n",
    "        # 2 years in program\n",
    "        # bilateral CI\n",
    "        x1 = [0, 1, 2, 1, 1, 0, 2]\n",
    "\n",
    "        # Hispanic boy, ideal family involvement, \n",
    "        # no siblings, profound hearing loss,\n",
    "        # mother without HS diploma, 6 months younger than average\n",
    "        # 1 year in program\n",
    "        # bimodal\n",
    "        x2 = [1, 0, 0, 1, 0, -0.5, 1,]\n",
    "\n",
    "        # Black boy, poor family involvement, \n",
    "        # 1 sibling, non-profound hearing loss,\n",
    "        # mother without HS diploma, 1.5 years older than average\n",
    "        # 6 years in program\n",
    "        # bilateral HA\n",
    "        x3 = [1, 4, 1, 0, 0, 1.5, 6,]\n",
    "\n",
    "        # Black girl, impaired family involvement, \n",
    "        # 3 siblings, profound hearing loss,\n",
    "        # mother with HS diploma, 6 months older than average\n",
    "        # 3 years in program\n",
    "        # bilateral CI\n",
    "        x4 = [0, 3, 3, 1, 1, 0.5, 3,]\n",
    "\n",
    "        X_new = tt.stack([x1, x2, x3, x4])\n",
    "\n",
    "        θ_pred = μ_school + β.dot(X_new.T) + β_race[np.array([0,2,1,1])]\n",
    "        predictions = Normal('predictions', mu=θ_pred, sd=σ, shape=4)\n",
    "    \n",
    "    return model"
   ]
  },
  {
   "cell_type": "markdown",
   "metadata": {},
   "source": [
    "### Making predictions\n",
    "\n",
    "Though these models were constructed primarily for inference, that is, to provide insights on the relative effects of a suite of factors on expected test scores, there is the potential for using them to predict speech-language outcomes. To explore this, we contrived four predictive scenarios, whereby children with different values of the set of predictor variables were specified, and predictions for them were generated by our models. \n",
    "\n",
    "The Bayesian hierarchical modeling approach makes generating predictions straightforward, via the posterior predictive distribution, which generates predicted values of outcomes conditional on the outcomes observed in the dataset. The variation of these predictions includes both the residual uncertainty in the model parameters and the aleatory sampling variability of the test outcomes. Our test cases were specified as follows:\n",
    "\n",
    "**Case 1** 👧\n",
    "\n",
    "* female\n",
    "* average age\n",
    "* normal family involvement\n",
    "* 2 siblings\n",
    "* non-profound hearing loss\n",
    "* mother with HS\n",
    "* no previous disability\n",
    "* JCIH criterion met\n",
    "\n",
    "**Case 2** 👦\n",
    "\n",
    "* male \n",
    "* 6 months younger than average\n",
    "* normal family involvement\n",
    "* no siblings\n",
    "* profound hearing loss\n",
    "* mother without HS diploma\n",
    "* previous disability\n",
    "* JCIH criterion met\n",
    "\n",
    "**Case 3** 👶\n",
    "\n",
    "* male \n",
    "* 1.5 years older than average\n",
    "* poor family involvement\n",
    "* 1 sibling\n",
    "* non-profound hearing loss\n",
    "* mother without HS diploma\n",
    "* previous disability\n",
    "* no JCIH\n",
    "\n",
    "**Case 4** 🙎\n",
    "\n",
    "* female \n",
    "* 6 months older than average\n",
    "* impaired family involvement\n",
    "* 3 siblings\n",
    "* profound hearing loss\n",
    "* mother with HS diploma\n",
    "* no previous disability\n",
    "* JCIH criterion met"
   ]
  },
  {
   "cell_type": "code",
   "execution_count": 37,
   "metadata": {
    "scrolled": false
   },
   "outputs": [],
   "source": [
    "receptive_language_4 = generate_model(receptive_language_dataset, 4)"
   ]
  },
  {
   "cell_type": "code",
   "execution_count": 38,
   "metadata": {},
   "outputs": [],
   "source": [
    "iterations = 1000\n",
    "tuning = 4000"
   ]
  },
  {
   "cell_type": "code",
   "execution_count": 39,
   "metadata": {},
   "outputs": [
    {
     "name": "stderr",
     "output_type": "stream",
     "text": [
      "Multiprocess sampling (2 chains in 2 jobs)\n",
      "CompoundStep\n",
      ">NUTS: [predictions, σ, β, β_race, z_school, σ_school, μ_school, p_sib, p_mother_hs, p_hl, p_family_inv]\n",
      ">CategoricalGibbsMetropolis: [x_sib_missing, x_family_inv_missing]\n",
      ">BinaryGibbsMetropolis: [x_hl_missing, x_mother_hs_missing]\n",
      "Sampling 2 chains: 100%|██████████| 10000/10000 [07:03<00:00, 13.13draws/s]\n",
      "The estimated number of effective samples is smaller than 200 for some parameters.\n"
     ]
    }
   ],
   "source": [
    "from pymc3 import sample\n",
    "\n",
    "with receptive_language_4:\n",
    "    \n",
    "    rec_lang_4_trace = sample(iterations, tune=tuning, nuts_kwargs={'target_accept': 0.95})"
   ]
  },
  {
   "cell_type": "code",
   "execution_count": 40,
   "metadata": {},
   "outputs": [],
   "source": [
    "labels = ['Male', \n",
    "          'Family Involvement Score', \n",
    "          'Sibling Count',\n",
    "          'Non-profound Hearing Loss',\n",
    "          'Mother with HS Diploma',\n",
    "          'Age at enrollment',\n",
    "          'Years in program']"
   ]
  },
  {
   "cell_type": "code",
   "execution_count": 41,
   "metadata": {},
   "outputs": [
    {
     "data": {
      "text/plain": [
       "<matplotlib.gridspec.GridSpec at 0x7febe3c06d68>"
      ]
     },
     "execution_count": 41,
     "metadata": {},
     "output_type": "execute_result"
    },
    {
     "data": {
      "image/png": "[encoded data removed]",
      "text/plain": [
       "<Figure size 432x288 with 2 Axes>"
      ]
     },
     "metadata": {},
     "output_type": "display_data"
    }
   ],
   "source": [
    "from pymc3 import forestplot\n",
    "\n",
    "forestplot(rec_lang_4_trace, varnames=['β'], ylabels=labels, main='Receptive Language')"
   ]
  },
  {
   "cell_type": "code",
   "execution_count": 42,
   "metadata": {},
   "outputs": [
    {
     "data": {
      "text/plain": [
       "<matplotlib.gridspec.GridSpec at 0x7febe3d79e48>"
      ]
     },
     "execution_count": 42,
     "metadata": {},
     "output_type": "execute_result"
    },
    {
     "data": {
      "image/png": "[encoded data removed]",
      "text/plain": [
       "<Figure size 432x288 with 2 Axes>"
      ]
     },
     "metadata": {},
     "output_type": "display_data"
    }
   ],
   "source": [
    "forestplot(rec_lang_4_trace, varnames=['α_school'])"
   ]
  },
  {
   "cell_type": "code",
   "execution_count": 44,
   "metadata": {},
   "outputs": [
    {
     "data": {
      "text/plain": [
       "<matplotlib.axes._subplots.AxesSubplot at 0x7febe30ad208>"
      ]
     },
     "execution_count": 44,
     "metadata": {},
     "output_type": "execute_result"
    },
    {
     "data": {
      "image/png": "[encoded data removed]",
      "text/plain": [
       "<Figure size 432x288 with 1 Axes>"
      ]
     },
     "metadata": {},
     "output_type": "display_data"
    }
   ],
   "source": [
    "from pymc3 import energyplot\n",
    "\n",
    "energyplot(rec_lang_4_trace)"
   ]
  },
  {
   "cell_type": "code",
   "execution_count": 46,
   "metadata": {},
   "outputs": [
    {
     "data": {
      "text/plain": [
       "<matplotlib.gridspec.GridSpec at 0x7febe4251c18>"
      ]
     },
     "execution_count": 46,
     "metadata": {},
     "output_type": "execute_result"
    },
    {
     "data": {
      "image/png": "[encoded data removed]",
      "text/plain": [
       "<Figure size 432x288 with 2 Axes>"
      ]
     },
     "metadata": {},
     "output_type": "display_data"
    }
   ],
   "source": [
    "forestplot(rec_lang_4_trace, varnames=['β_race'], ylabels=['Black', 'Hispanic', 'Asian', 'Other'])"
   ]
  },
  {
   "cell_type": "markdown",
   "metadata": {},
   "source": [
    "The school random effect standard deviation is a measure of how variable scores are among schools. The estimated standard deviation is about 4 points for this domain."
   ]
  },
  {
   "cell_type": "code",
   "execution_count": 47,
   "metadata": {},
   "outputs": [
    {
     "data": {
      "text/plain": [
       "array([[<matplotlib.axes._subplots.AxesSubplot object at 0x7febe3d6e160>,\n",
       "        <matplotlib.axes._subplots.AxesSubplot object at 0x7febe3bbe4a8>]],\n",
       "      dtype=object)"
      ]
     },
     "execution_count": 47,
     "metadata": {},
     "output_type": "execute_result"
    },
    {
     "data": {
      "image/png": "[encoded data removed]",
      "text/plain": [
       "<Figure size 864x144 with 2 Axes>"
      ]
     },
     "metadata": {},
     "output_type": "display_data"
    }
   ],
   "source": [
    "from pymc3 import traceplot\n",
    "\n",
    "traceplot(rec_lang_4_trace, varnames=['σ_school'])"
   ]
  },
  {
   "cell_type": "code",
   "execution_count": 48,
   "metadata": {},
   "outputs": [
    {
     "data": {
      "text/html": [
       "<div>\n",
       "<style scoped>\n",
       "    .dataframe tbody tr th:only-of-type {\n",
       "        vertical-align: middle;\n",
       "    }\n",
       "\n",
       "    .dataframe tbody tr th {\n",
       "        vertical-align: top;\n",
       "    }\n",
       "\n",
       "    .dataframe thead th {\n",
       "        text-align: right;\n",
       "    }\n",
       "</style>\n",
       "<table border=\"1\" class=\"dataframe\">\n",
       "  <thead>\n",
       "    <tr style=\"text-align: right;\">\n",
       "      <th></th>\n",
       "      <th>mean</th>\n",
       "      <th>sd</th>\n",
       "      <th>mc_error</th>\n",
       "      <th>hpd_2.5</th>\n",
       "      <th>hpd_97.5</th>\n",
       "      <th>n_eff</th>\n",
       "      <th>Rhat</th>\n",
       "    </tr>\n",
       "  </thead>\n",
       "  <tbody>\n",
       "    <tr>\n",
       "      <th>Male</th>\n",
       "      <td>3.144407</td>\n",
       "      <td>1.678124</td>\n",
       "      <td>0.027022</td>\n",
       "      <td>-0.152311</td>\n",
       "      <td>6.309970</td>\n",
       "      <td>3174.168141</td>\n",
       "      <td>0.999828</td>\n",
       "    </tr>\n",
       "    <tr>\n",
       "      <th>Family Involvement Score</th>\n",
       "      <td>-4.901740</td>\n",
       "      <td>0.877953</td>\n",
       "      <td>0.025759</td>\n",
       "      <td>-6.727514</td>\n",
       "      <td>-3.334663</td>\n",
       "      <td>1136.141492</td>\n",
       "      <td>0.999917</td>\n",
       "    </tr>\n",
       "    <tr>\n",
       "      <th>Sibling Count</th>\n",
       "      <td>-0.085063</td>\n",
       "      <td>0.937663</td>\n",
       "      <td>0.019162</td>\n",
       "      <td>-1.932784</td>\n",
       "      <td>1.691947</td>\n",
       "      <td>2253.895349</td>\n",
       "      <td>1.000735</td>\n",
       "    </tr>\n",
       "    <tr>\n",
       "      <th>Non-profound Hearing Loss</th>\n",
       "      <td>7.735532</td>\n",
       "      <td>1.798658</td>\n",
       "      <td>0.030733</td>\n",
       "      <td>4.128843</td>\n",
       "      <td>11.212174</td>\n",
       "      <td>3056.759075</td>\n",
       "      <td>0.999599</td>\n",
       "    </tr>\n",
       "    <tr>\n",
       "      <th>Mother with HS Diploma</th>\n",
       "      <td>7.061404</td>\n",
       "      <td>2.083957</td>\n",
       "      <td>0.051267</td>\n",
       "      <td>2.947831</td>\n",
       "      <td>10.948416</td>\n",
       "      <td>1842.888841</td>\n",
       "      <td>0.999686</td>\n",
       "    </tr>\n",
       "    <tr>\n",
       "      <th>Age at enrollment</th>\n",
       "      <td>-1.814418</td>\n",
       "      <td>0.965315</td>\n",
       "      <td>0.022029</td>\n",
       "      <td>-3.600189</td>\n",
       "      <td>0.164260</td>\n",
       "      <td>1707.197094</td>\n",
       "      <td>0.999656</td>\n",
       "    </tr>\n",
       "    <tr>\n",
       "      <th>Years in program</th>\n",
       "      <td>1.637571</td>\n",
       "      <td>0.869217</td>\n",
       "      <td>0.022425</td>\n",
       "      <td>-0.065347</td>\n",
       "      <td>3.272541</td>\n",
       "      <td>1373.136754</td>\n",
       "      <td>0.999523</td>\n",
       "    </tr>\n",
       "  </tbody>\n",
       "</table>\n",
       "</div>"
      ],
      "text/plain": [
       "                               mean        sd  mc_error   hpd_2.5   hpd_97.5  \\\n",
       "Male                       3.144407  1.678124  0.027022 -0.152311   6.309970   \n",
       "Family Involvement Score  -4.901740  0.877953  0.025759 -6.727514  -3.334663   \n",
       "Sibling Count             -0.085063  0.937663  0.019162 -1.932784   1.691947   \n",
       "Non-profound Hearing Loss  7.735532  1.798658  0.030733  4.128843  11.212174   \n",
       "Mother with HS Diploma     7.061404  2.083957  0.051267  2.947831  10.948416   \n",
       "Age at enrollment         -1.814418  0.965315  0.022029 -3.600189   0.164260   \n",
       "Years in program           1.637571  0.869217  0.022425 -0.065347   3.272541   \n",
       "\n",
       "                                 n_eff      Rhat  \n",
       "Male                       3174.168141  0.999828  \n",
       "Family Involvement Score   1136.141492  0.999917  \n",
       "Sibling Count              2253.895349  1.000735  \n",
       "Non-profound Hearing Loss  3056.759075  0.999599  \n",
       "Mother with HS Diploma     1842.888841  0.999686  \n",
       "Age at enrollment          1707.197094  0.999656  \n",
       "Years in program           1373.136754  0.999523  "
      ]
     },
     "execution_count": 48,
     "metadata": {},
     "output_type": "execute_result"
    }
   ],
   "source": [
    "from pymc3 import summary\n",
    "\n",
    "summary(rec_lang_4_trace, varnames=['β']).set_index(pd.Index(labels))"
   ]
  },
  {
   "cell_type": "code",
   "execution_count": 49,
   "metadata": {},
   "outputs": [
    {
     "data": {
      "image/png": "[encoded data removed]",
      "text/plain": [
       "<Figure size 432x288 with 1 Axes>"
      ]
     },
     "metadata": {},
     "output_type": "display_data"
    }
   ],
   "source": [
    "forestplot(rec_lang_4_trace, varnames=[\"predictions\"], rhat=False, \n",
    "           ylabels=['Student {}'.format(i) for i in range(1,5)],\n",
    "           main='Predicted receptive language scores');"
   ]
  },
  {
   "cell_type": "markdown",
   "metadata": {},
   "source": [
    "## Expressive Language Model"
   ]
  },
  {
   "cell_type": "code",
   "execution_count": 50,
   "metadata": {},
   "outputs": [],
   "source": [
    "expressive_language_dataset = analysis_subset[(analysis_subset.domain=='Expressive Language')]"
   ]
  },
  {
   "cell_type": "code",
   "execution_count": 51,
   "metadata": {},
   "outputs": [],
   "source": [
    "expressive_language_4 = generate_model(expressive_language_dataset, 4)"
   ]
  },
  {
   "cell_type": "code",
   "execution_count": 52,
   "metadata": {},
   "outputs": [
    {
     "name": "stderr",
     "output_type": "stream",
     "text": [
      "Multiprocess sampling (2 chains in 2 jobs)\n",
      "CompoundStep\n",
      ">NUTS: [predictions, σ, β, β_race, z_school, σ_school, μ_school, p_sib, p_mother_hs, p_hl, p_family_inv]\n",
      ">CategoricalGibbsMetropolis: [x_sib_missing, x_family_inv_missing]\n",
      ">BinaryGibbsMetropolis: [x_hl_missing, x_mother_hs_missing]\n",
      "Sampling 2 chains: 100%|██████████| 10000/10000 [06:09<00:00, 27.09draws/s]\n",
      "There was 1 divergence after tuning. Increase `target_accept` or reparameterize.\n",
      "The number of effective samples is smaller than 25% for some parameters.\n"
     ]
    }
   ],
   "source": [
    "with expressive_language_4:\n",
    "    \n",
    "    exp_lang_4_trace = sample(iterations, tune=tuning)"
   ]
  },
  {
   "cell_type": "code",
   "execution_count": 53,
   "metadata": {},
   "outputs": [
    {
     "data": {
      "text/plain": [
       "<matplotlib.gridspec.GridSpec at 0x7febf1dcc4e0>"
      ]
     },
     "execution_count": 53,
     "metadata": {},
     "output_type": "execute_result"
    },
    {
     "data": {
      "image/png": "[encoded data removed]",
      "text/plain": [
       "<Figure size 432x288 with 2 Axes>"
      ]
     },
     "metadata": {},
     "output_type": "display_data"
    }
   ],
   "source": [
    "forestplot(exp_lang_4_trace, varnames=['β'], ylabels=labels, main='Receptive Language')"
   ]
  },
  {
   "cell_type": "code",
   "execution_count": 54,
   "metadata": {},
   "outputs": [
    {
     "data": {
      "text/plain": [
       "<matplotlib.gridspec.GridSpec at 0x7febe1ba64a8>"
      ]
     },
     "execution_count": 54,
     "metadata": {},
     "output_type": "execute_result"
    },
    {
     "data": {
      "image/png": "[encoded data removed]",
      "text/plain": [
       "<Figure size 432x288 with 1 Axes>"
      ]
     },
     "metadata": {},
     "output_type": "display_data"
    }
   ],
   "source": [
    "forestplot(exp_lang_4_trace, varnames=[\"predictions\"], rhat=False, \n",
    "           ylabels=['Student {}'.format(i) for i in range(1,5)],\n",
    "           main='Predicted receptive language scores')"
   ]
  },
  {
   "cell_type": "markdown",
   "metadata": {},
   "source": [
    "## Articulation Model"
   ]
  },
  {
   "cell_type": "code",
   "execution_count": 55,
   "metadata": {},
   "outputs": [],
   "source": [
    "articulation_dataset = analysis_subset[(analysis_subset.domain=='Articulation')]"
   ]
  },
  {
   "cell_type": "code",
   "execution_count": 56,
   "metadata": {},
   "outputs": [],
   "source": [
    "articulation_4 = generate_model(articulation_dataset, 4)"
   ]
  },
  {
   "cell_type": "code",
   "execution_count": 57,
   "metadata": {},
   "outputs": [
    {
     "name": "stderr",
     "output_type": "stream",
     "text": [
      "Multiprocess sampling (2 chains in 2 jobs)\n",
      "CompoundStep\n",
      ">NUTS: [predictions, σ, β, β_race, z_school, σ_school, μ_school, p_sib, p_mother_hs, p_hl, p_family_inv]\n",
      ">CategoricalGibbsMetropolis: [x_sib_missing, x_family_inv_missing]\n",
      ">BinaryGibbsMetropolis: [x_hl_missing, x_mother_hs_missing]\n",
      "Sampling 2 chains: 100%|██████████| 10000/10000 [05:53<00:00, 17.57draws/s]\n"
     ]
    }
   ],
   "source": [
    "with articulation_4:\n",
    "    \n",
    "    artic_4_trace = sample(iterations, tune=tuning)"
   ]
  },
  {
   "cell_type": "code",
   "execution_count": 58,
   "metadata": {},
   "outputs": [
    {
     "data": {
      "text/plain": [
       "<matplotlib.gridspec.GridSpec at 0x7febf17bac88>"
      ]
     },
     "execution_count": 58,
     "metadata": {},
     "output_type": "execute_result"
    },
    {
     "data": {
      "image/png": "[encoded data removed]",
      "text/plain": [
       "<Figure size 432x288 with 2 Axes>"
      ]
     },
     "metadata": {},
     "output_type": "display_data"
    }
   ],
   "source": [
    "forestplot(artic_4_trace, varnames=['β'], ylabels=labels, main='Receptive Language')"
   ]
  },
  {
   "cell_type": "code",
   "execution_count": 59,
   "metadata": {},
   "outputs": [
    {
     "data": {
      "text/plain": [
       "<matplotlib.gridspec.GridSpec at 0x7febe70ce160>"
      ]
     },
     "execution_count": 59,
     "metadata": {},
     "output_type": "execute_result"
    },
    {
     "data": {
      "image/png": "[encoded data removed]",
      "text/plain": [
       "<Figure size 432x288 with 1 Axes>"
      ]
     },
     "metadata": {},
     "output_type": "display_data"
    }
   ],
   "source": [
    "forestplot(artic_4_trace, varnames=[\"predictions\"], rhat=False, \n",
    "           ylabels=['Student {}'.format(i) for i in range(1,5)],\n",
    "           main='Predicted receptive language scores')"
   ]
  },
  {
   "cell_type": "markdown",
   "metadata": {},
   "source": [
    "## Expressive Vocabulary Model"
   ]
  },
  {
   "cell_type": "code",
   "execution_count": 60,
   "metadata": {},
   "outputs": [],
   "source": [
    "expressive_vocab_dataset = analysis_subset[(analysis_subset.domain=='Expressive Vocabulary')]"
   ]
  },
  {
   "cell_type": "code",
   "execution_count": 61,
   "metadata": {},
   "outputs": [],
   "source": [
    "expressive_vocab_4 = generate_model(expressive_vocab_dataset, 4)"
   ]
  },
  {
   "cell_type": "code",
   "execution_count": 62,
   "metadata": {},
   "outputs": [
    {
     "name": "stderr",
     "output_type": "stream",
     "text": [
      "Multiprocess sampling (2 chains in 2 jobs)\n",
      "CompoundStep\n",
      ">NUTS: [predictions, σ, β, β_race, z_school, σ_school, μ_school, p_sib, p_mother_hs, p_hl, p_family_inv]\n",
      ">CategoricalGibbsMetropolis: [x_sib_missing, x_family_inv_missing]\n",
      ">BinaryGibbsMetropolis: [x_hl_missing, x_mother_hs_missing]\n",
      "Sampling 2 chains: 100%|██████████| 10000/10000 [06:32<00:00, 25.46draws/s]\n",
      "The number of effective samples is smaller than 25% for some parameters.\n"
     ]
    }
   ],
   "source": [
    "with expressive_vocab_4:\n",
    "    \n",
    "    expressive_vocab_4_trace = sample(iterations, tune=tuning)"
   ]
  },
  {
   "cell_type": "code",
   "execution_count": 63,
   "metadata": {},
   "outputs": [
    {
     "data": {
      "text/plain": [
       "<matplotlib.gridspec.GridSpec at 0x7febe70ceb38>"
      ]
     },
     "execution_count": 63,
     "metadata": {},
     "output_type": "execute_result"
    },
    {
     "data": {
      "image/png": "[encoded data removed]",
      "text/plain": [
       "<Figure size 432x288 with 2 Axes>"
      ]
     },
     "metadata": {},
     "output_type": "display_data"
    }
   ],
   "source": [
    "forestplot(expressive_vocab_4_trace, varnames=['β'], ylabels=labels, main='Receptive Language')"
   ]
  },
  {
   "cell_type": "code",
   "execution_count": 64,
   "metadata": {},
   "outputs": [
    {
     "data": {
      "text/plain": [
       "<matplotlib.gridspec.GridSpec at 0x7febe2d40358>"
      ]
     },
     "execution_count": 64,
     "metadata": {},
     "output_type": "execute_result"
    },
    {
     "data": {
      "image/png": "[encoded data removed]",
      "text/plain": [
       "<Figure size 432x288 with 1 Axes>"
      ]
     },
     "metadata": {},
     "output_type": "display_data"
    }
   ],
   "source": [
    "forestplot(expressive_vocab_4_trace, varnames=[\"predictions\"], rhat=False, \n",
    "           ylabels=['Student {}'.format(i) for i in range(1,5)],\n",
    "           main='Predicted receptive language scores')"
   ]
  },
  {
   "cell_type": "markdown",
   "metadata": {},
   "source": [
    "## Receptive Vocabulary Model"
   ]
  },
  {
   "cell_type": "code",
   "execution_count": 65,
   "metadata": {},
   "outputs": [],
   "source": [
    "receptive_vocab_dataset = analysis_subset[(analysis_subset.domain=='Receptive Vocabulary')]"
   ]
  },
  {
   "cell_type": "code",
   "execution_count": 66,
   "metadata": {},
   "outputs": [],
   "source": [
    "receptive_vocab_4 = generate_model(receptive_vocab_dataset, 4)"
   ]
  },
  {
   "cell_type": "code",
   "execution_count": null,
   "metadata": {},
   "outputs": [
    {
     "name": "stderr",
     "output_type": "stream",
     "text": [
      "Multiprocess sampling (2 chains in 2 jobs)\n",
      "CompoundStep\n",
      ">NUTS: [predictions, σ, β, β_race, z_school, σ_school, μ_school, p_sib, p_mother_hs, p_hl, p_family_inv]\n",
      ">CategoricalGibbsMetropolis: [x_sib_missing, x_family_inv_missing]\n",
      ">BinaryGibbsMetropolis: [x_hl_missing, x_mother_hs_missing]\n",
      "Sampling 2 chains:  89%|████████▉ | 8894/10000 [06:09<00:46, 24.03draws/s]"
     ]
    }
   ],
   "source": [
    "with receptive_vocab_4:\n",
    "    \n",
    "    receptive_vocab_4_trace = sample(iterations, tune=tuning)"
   ]
  },
  {
   "cell_type": "code",
   "execution_count": null,
   "metadata": {},
   "outputs": [],
   "source": [
    "forestplot(receptive_vocab_4_trace, varnames=['β'], ylabels=labels, main='Receptive Language')"
   ]
  },
  {
   "cell_type": "code",
   "execution_count": null,
   "metadata": {},
   "outputs": [],
   "source": [
    "forestplot(receptive_vocab_4_trace, varnames=[\"predictions\"], rhat=False, \n",
    "           ylabels=['Student {}'.format(i) for i in range(1,5)],\n",
    "           main='Predicted receptive language scores')"
   ]
  }
 ],
 "metadata": {
  "kernelspec": {
   "display_name": "Python 3",
   "language": "python",
   "name": "python3"
  },
  "language_info": {
   "codemirror_mode": {
    "name": "ipython",
    "version": 3
   },
   "file_extension": ".py",
   "mimetype": "text/x-python",
   "name": "python",
   "nbconvert_exporter": "python",
   "pygments_lexer": "ipython3",
   "version": "3.6.6"
  }
 },
 "nbformat": 4,
 "nbformat_minor": 2
}
