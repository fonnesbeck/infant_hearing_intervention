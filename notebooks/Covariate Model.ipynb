{
 "cells": [
  {
   "cell_type": "markdown",
   "metadata": {},
   "source": [
    "# Factors that Influence Outcomes of the Five Domains of Speech-Language in Children with Hearing Loss at age 4 years\n",
    "\n",
    "Paper 1"
   ]
  },
  {
   "cell_type": "code",
   "execution_count": 1,
   "metadata": {},
   "outputs": [],
   "source": [
    "# Import modules and set options\n",
    "%matplotlib inline\n",
    "import matplotlib.pyplot as plt\n",
    "import pandas as pd\n",
    "import numpy as np\n",
    "import seaborn as sns\n",
    "\n",
    "sns.set(context='notebook', style='ticks')"
   ]
  },
  {
   "cell_type": "markdown",
   "metadata": {},
   "source": [
    "Import data"
   ]
  },
  {
   "cell_type": "code",
   "execution_count": 2,
   "metadata": {},
   "outputs": [],
   "source": [
    "lsl_dr = (pd.read_csv('../data/clean/lsl_dr.csv', index_col=0, low_memory=False)\n",
    "                  .rename({'onset_1':'identify_mo'}, axis=1))"
   ]
  },
  {
   "cell_type": "code",
   "execution_count": 3,
   "metadata": {},
   "outputs": [
    {
     "data": {
      "text/html": [
       "<div>\n",
       "<style scoped>\n",
       "    .dataframe tbody tr th:only-of-type {\n",
       "        vertical-align: middle;\n",
       "    }\n",
       "\n",
       "    .dataframe tbody tr th {\n",
       "        vertical-align: top;\n",
       "    }\n",
       "\n",
       "    .dataframe thead th {\n",
       "        text-align: right;\n",
       "    }\n",
       "</style>\n",
       "<table border=\"1\" class=\"dataframe\">\n",
       "  <thead>\n",
       "    <tr style=\"text-align: right;\">\n",
       "      <th></th>\n",
       "      <th>redcap_event_name</th>\n",
       "      <th>academic_year_rv</th>\n",
       "      <th>hl</th>\n",
       "      <th>male</th>\n",
       "      <th>_race</th>\n",
       "      <th>prim_lang</th>\n",
       "      <th>sib</th>\n",
       "      <th>_mother_ed</th>\n",
       "      <th>father_ed</th>\n",
       "      <th>par1_ed</th>\n",
       "      <th>...</th>\n",
       "      <th>gf3_sis_ss</th>\n",
       "      <th>gf3_siw_ss</th>\n",
       "      <th>gf_version</th>\n",
       "      <th>ppvt_f</th>\n",
       "      <th>ppvt_ss</th>\n",
       "      <th>rowpvt_ss</th>\n",
       "      <th>school</th>\n",
       "      <th>score</th>\n",
       "      <th>test_name</th>\n",
       "      <th>test_type</th>\n",
       "    </tr>\n",
       "  </thead>\n",
       "  <tbody>\n",
       "    <tr>\n",
       "      <th>0</th>\n",
       "      <td>initial_assessment_arm_1</td>\n",
       "      <td>2002.0</td>\n",
       "      <td>0.0</td>\n",
       "      <td>0.0</td>\n",
       "      <td>0.0</td>\n",
       "      <td>0.0</td>\n",
       "      <td>1.0</td>\n",
       "      <td>6.0</td>\n",
       "      <td>6.0</td>\n",
       "      <td>NaN</td>\n",
       "      <td>...</td>\n",
       "      <td>NaN</td>\n",
       "      <td>NaN</td>\n",
       "      <td>NaN</td>\n",
       "      <td>NaN</td>\n",
       "      <td>NaN</td>\n",
       "      <td>NaN</td>\n",
       "      <td>101</td>\n",
       "      <td>58.0</td>\n",
       "      <td>NaN</td>\n",
       "      <td>EOWPVT</td>\n",
       "    </tr>\n",
       "    <tr>\n",
       "      <th>1</th>\n",
       "      <td>initial_assessment_arm_1</td>\n",
       "      <td>2002.0</td>\n",
       "      <td>0.0</td>\n",
       "      <td>0.0</td>\n",
       "      <td>0.0</td>\n",
       "      <td>0.0</td>\n",
       "      <td>1.0</td>\n",
       "      <td>6.0</td>\n",
       "      <td>6.0</td>\n",
       "      <td>NaN</td>\n",
       "      <td>...</td>\n",
       "      <td>NaN</td>\n",
       "      <td>NaN</td>\n",
       "      <td>NaN</td>\n",
       "      <td>NaN</td>\n",
       "      <td>NaN</td>\n",
       "      <td>NaN</td>\n",
       "      <td>101</td>\n",
       "      <td>51.0</td>\n",
       "      <td>PLS</td>\n",
       "      <td>receptive</td>\n",
       "    </tr>\n",
       "    <tr>\n",
       "      <th>2</th>\n",
       "      <td>initial_assessment_arm_1</td>\n",
       "      <td>2002.0</td>\n",
       "      <td>0.0</td>\n",
       "      <td>0.0</td>\n",
       "      <td>0.0</td>\n",
       "      <td>0.0</td>\n",
       "      <td>1.0</td>\n",
       "      <td>6.0</td>\n",
       "      <td>6.0</td>\n",
       "      <td>NaN</td>\n",
       "      <td>...</td>\n",
       "      <td>NaN</td>\n",
       "      <td>NaN</td>\n",
       "      <td>NaN</td>\n",
       "      <td>NaN</td>\n",
       "      <td>NaN</td>\n",
       "      <td>NaN</td>\n",
       "      <td>101</td>\n",
       "      <td>60.0</td>\n",
       "      <td>PLS</td>\n",
       "      <td>expressive</td>\n",
       "    </tr>\n",
       "    <tr>\n",
       "      <th>3</th>\n",
       "      <td>initial_assessment_arm_1</td>\n",
       "      <td>2002.0</td>\n",
       "      <td>0.0</td>\n",
       "      <td>0.0</td>\n",
       "      <td>0.0</td>\n",
       "      <td>0.0</td>\n",
       "      <td>1.0</td>\n",
       "      <td>6.0</td>\n",
       "      <td>6.0</td>\n",
       "      <td>NaN</td>\n",
       "      <td>...</td>\n",
       "      <td>NaN</td>\n",
       "      <td>NaN</td>\n",
       "      <td>NaN</td>\n",
       "      <td>NaN</td>\n",
       "      <td>NaN</td>\n",
       "      <td>NaN</td>\n",
       "      <td>101</td>\n",
       "      <td>54.0</td>\n",
       "      <td>PLS</td>\n",
       "      <td>total</td>\n",
       "    </tr>\n",
       "    <tr>\n",
       "      <th>4</th>\n",
       "      <td>initial_assessment_arm_1</td>\n",
       "      <td>2012.0</td>\n",
       "      <td>0.0</td>\n",
       "      <td>1.0</td>\n",
       "      <td>1.0</td>\n",
       "      <td>0.0</td>\n",
       "      <td>3.0</td>\n",
       "      <td>1.0</td>\n",
       "      <td>1.0</td>\n",
       "      <td>NaN</td>\n",
       "      <td>...</td>\n",
       "      <td>NaN</td>\n",
       "      <td>NaN</td>\n",
       "      <td>2.0</td>\n",
       "      <td>NaN</td>\n",
       "      <td>NaN</td>\n",
       "      <td>NaN</td>\n",
       "      <td>626</td>\n",
       "      <td>80.0</td>\n",
       "      <td>NaN</td>\n",
       "      <td>Goldman</td>\n",
       "    </tr>\n",
       "  </tbody>\n",
       "</table>\n",
       "<p>5 rows × 231 columns</p>\n",
       "</div>"
      ],
      "text/plain": [
       "          redcap_event_name  academic_year_rv   hl  male  _race  prim_lang  \\\n",
       "0  initial_assessment_arm_1            2002.0  0.0   0.0    0.0        0.0   \n",
       "1  initial_assessment_arm_1            2002.0  0.0   0.0    0.0        0.0   \n",
       "2  initial_assessment_arm_1            2002.0  0.0   0.0    0.0        0.0   \n",
       "3  initial_assessment_arm_1            2002.0  0.0   0.0    0.0        0.0   \n",
       "4  initial_assessment_arm_1            2012.0  0.0   1.0    1.0        0.0   \n",
       "\n",
       "   sib  _mother_ed  father_ed  par1_ed     ...      gf3_sis_ss  gf3_siw_ss  \\\n",
       "0  1.0         6.0        6.0      NaN     ...             NaN         NaN   \n",
       "1  1.0         6.0        6.0      NaN     ...             NaN         NaN   \n",
       "2  1.0         6.0        6.0      NaN     ...             NaN         NaN   \n",
       "3  1.0         6.0        6.0      NaN     ...             NaN         NaN   \n",
       "4  3.0         1.0        1.0      NaN     ...             NaN         NaN   \n",
       "\n",
       "   gf_version  ppvt_f  ppvt_ss  rowpvt_ss  school  score  test_name  \\\n",
       "0         NaN     NaN      NaN        NaN     101   58.0        NaN   \n",
       "1         NaN     NaN      NaN        NaN     101   51.0        PLS   \n",
       "2         NaN     NaN      NaN        NaN     101   60.0        PLS   \n",
       "3         NaN     NaN      NaN        NaN     101   54.0        PLS   \n",
       "4         2.0     NaN      NaN        NaN     626   80.0        NaN   \n",
       "\n",
       "    test_type  \n",
       "0      EOWPVT  \n",
       "1   receptive  \n",
       "2  expressive  \n",
       "3       total  \n",
       "4     Goldman  \n",
       "\n",
       "[5 rows x 231 columns]"
      ]
     },
     "execution_count": 3,
     "metadata": {},
     "output_type": "execute_result"
    }
   ],
   "source": [
    "lsl_dr.head()"
   ]
  },
  {
   "cell_type": "markdown",
   "metadata": {},
   "source": [
    "Indicator for non-profound hearing loss"
   ]
  },
  {
   "cell_type": "code",
   "execution_count": 4,
   "metadata": {},
   "outputs": [],
   "source": [
    "lsl_dr['deg_hl_below6'] = lsl_dr.degree_hl<6\n",
    "lsl_dr.loc[lsl_dr.degree_hl.isnull(), 'deg_hl_below6'] = np.nan"
   ]
  },
  {
   "cell_type": "markdown",
   "metadata": {},
   "source": [
    "Indicator for first intervention outside OPTION"
   ]
  },
  {
   "cell_type": "code",
   "execution_count": 5,
   "metadata": {},
   "outputs": [],
   "source": [
    "lsl_dr['int_outside_option'] = lsl_dr.age > lsl_dr.age_int\n",
    "lsl_dr.loc[lsl_dr.age < lsl_dr.age_int, 'int_outside_option'] = np.nan"
   ]
  },
  {
   "cell_type": "markdown",
   "metadata": {},
   "source": [
    "Indicator for high school graduation of mother"
   ]
  },
  {
   "cell_type": "code",
   "execution_count": 6,
   "metadata": {},
   "outputs": [],
   "source": [
    "lsl_dr['mother_hs'] = lsl_dr.mother_ed > 1\n",
    "lsl_dr.loc[lsl_dr.mother_ed.isnull(), 'mother_hs'] = None"
   ]
  },
  {
   "cell_type": "markdown",
   "metadata": {},
   "source": [
    "Create age in years variable"
   ]
  },
  {
   "cell_type": "code",
   "execution_count": 7,
   "metadata": {},
   "outputs": [],
   "source": [
    "lsl_dr['age_years'] = lsl_dr.age/12."
   ]
  },
  {
   "cell_type": "markdown",
   "metadata": {},
   "source": [
    "Create school index"
   ]
  },
  {
   "cell_type": "code",
   "execution_count": 8,
   "metadata": {},
   "outputs": [],
   "source": [
    "schools_unique = np.sort(lsl_dr.school.unique())\n",
    "school_lookup = dict(zip(schools_unique, range(len(schools_unique))))"
   ]
  },
  {
   "cell_type": "code",
   "execution_count": 9,
   "metadata": {},
   "outputs": [],
   "source": [
    "lsl_dr['school_idx'] = lsl_dr.school.replace(school_lookup)"
   ]
  },
  {
   "cell_type": "markdown",
   "metadata": {},
   "source": [
    "Create student index"
   ]
  },
  {
   "cell_type": "code",
   "execution_count": 10,
   "metadata": {},
   "outputs": [],
   "source": [
    "student_unique = np.sort(lsl_dr.study_id.unique())\n",
    "student_lookup = dict(zip(student_unique, range(len(student_unique))))"
   ]
  },
  {
   "cell_type": "code",
   "execution_count": 11,
   "metadata": {},
   "outputs": [],
   "source": [
    "lsl_dr['student_idx'] = lsl_dr.study_id.replace(student_lookup)"
   ]
  },
  {
   "cell_type": "markdown",
   "metadata": {},
   "source": [
    "### Exclusions\n",
    "\n",
    "Drop non-english and other disabilities, filter for hearing loss"
   ]
  },
  {
   "cell_type": "code",
   "execution_count": 12,
   "metadata": {},
   "outputs": [],
   "source": [
    "other_etiology = (lsl_dr[['etiology_3___2', 'etiology_3___4', 'etiology_3___5', 'etiology_3___6', 'etiology_3___9',\n",
    "       'etiology_oth___1', 'etiology_oth___3', 'etiology_oth___4', 'etiology_oth___8', 'etiology_oth___9']]\n",
    "                      .sum(1).astype(bool))"
   ]
  },
  {
   "cell_type": "code",
   "execution_count": 13,
   "metadata": {},
   "outputs": [],
   "source": [
    "inclusion_mask = (~lsl_dr.non_english.astype(bool) \n",
    "                  & (lsl_dr.degree_hl!=0)\n",
    "                  & ((lsl_dr.etiology_2==0)\n",
    "                  | (lsl_dr.etiology_2.isnull() & ~other_etiology)))"
   ]
  },
  {
   "cell_type": "code",
   "execution_count": 14,
   "metadata": {},
   "outputs": [],
   "source": [
    "covariates = ['score', 'student_idx', 'school_idx', 'male', 'sib', 'family_inv', 'race', \n",
    "              'age_test', 'premature_weeks', 'age_amp', 'parent_hl',\n",
    "              'domain', 'deg_hl_below6', 'mother_hs', 'mother_college', 'age_years', 'test_type', \n",
    "              'time', 'bilateral_ci', 'one_or_both_parent_hl',\n",
    "              'bilateral_ha', 'unilateral_ci', 'unilateral_ha', 'bimodal', 'assymetrical']"
   ]
  },
  {
   "cell_type": "code",
   "execution_count": 15,
   "metadata": {},
   "outputs": [],
   "source": [
    "hl_type_cols = lsl_dr.columns[lsl_dr.columns.str.contains('lateral')].values.tolist()"
   ]
  },
  {
   "cell_type": "code",
   "execution_count": 16,
   "metadata": {},
   "outputs": [],
   "source": [
    "covariates += list(set(hl_type_cols))\n",
    "covariates = list(set(covariates))"
   ]
  },
  {
   "cell_type": "code",
   "execution_count": 17,
   "metadata": {},
   "outputs": [
    {
     "data": {
      "text/plain": [
       "(13097, 37)"
      ]
     },
     "execution_count": 17,
     "metadata": {},
     "output_type": "execute_result"
    }
   ],
   "source": [
    "analysis_subset = lsl_dr.loc[inclusion_mask, covariates].copy().dropna(subset=['time'])\n",
    "analysis_subset.shape"
   ]
  },
  {
   "cell_type": "code",
   "execution_count": 18,
   "metadata": {},
   "outputs": [
    {
     "data": {
      "text/plain": [
       "bilateral_ci     0.628923\n",
       "bilateral_ha     0.214706\n",
       "unilateral_ci    0.023440\n",
       "unilateral_ha    0.030160\n",
       "bimodal          0.070474\n",
       "dtype: float64"
      ]
     },
     "execution_count": 18,
     "metadata": {},
     "output_type": "execute_result"
    }
   ],
   "source": [
    "analysis_subset[['bilateral_ci',\n",
    "              'bilateral_ha', 'unilateral_ci', 'unilateral_ha', 'bimodal']].mean()"
   ]
  },
  {
   "cell_type": "code",
   "execution_count": 19,
   "metadata": {},
   "outputs": [],
   "source": [
    "analysis_subset['premature'] = (analysis_subset.premature_weeks>0).astype(float)\n",
    "analysis_subset.loc[analysis_subset.premature_weeks.isnull(), 'premature'] = np.nan"
   ]
  },
  {
   "cell_type": "markdown",
   "metadata": {},
   "source": [
    "## Summary Statistics"
   ]
  },
  {
   "cell_type": "code",
   "execution_count": 20,
   "metadata": {},
   "outputs": [
    {
     "data": {
      "text/plain": [
       "(1287, 38)"
      ]
     },
     "execution_count": 20,
     "metadata": {},
     "output_type": "execute_result"
    }
   ],
   "source": [
    "unique_students = analysis_subset.drop_duplicates(subset='student_idx')\n",
    "unique_students.shape"
   ]
  },
  {
   "cell_type": "code",
   "execution_count": 21,
   "metadata": {},
   "outputs": [
    {
     "data": {
      "text/plain": [
       "<matplotlib.axes._subplots.AxesSubplot at 0x7f058d6292e8>"
      ]
     },
     "execution_count": 21,
     "metadata": {},
     "output_type": "execute_result"
    },
    {
     "data": {
      "image/png": "[encoded data removed]",
      "text/plain": [
       "<Figure size 432x288 with 1 Axes>"
      ]
     },
     "metadata": {},
     "output_type": "display_data"
    }
   ],
   "source": [
    "unique_students.age_years.hist()"
   ]
  },
  {
   "cell_type": "code",
   "execution_count": 22,
   "metadata": {},
   "outputs": [
    {
     "data": {
      "text/plain": [
       "0.49417249417249415"
      ]
     },
     "execution_count": 22,
     "metadata": {},
     "output_type": "execute_result"
    }
   ],
   "source": [
    "unique_students.male.mean()"
   ]
  },
  {
   "cell_type": "code",
   "execution_count": 23,
   "metadata": {},
   "outputs": [
    {
     "data": {
      "text/plain": [
       "Articulation             554\n",
       "Language                 448\n",
       "Expressive Vocabulary    269\n",
       "Receptive Vocabulary      16\n",
       "Name: domain, dtype: int64"
      ]
     },
     "execution_count": 23,
     "metadata": {},
     "output_type": "execute_result"
    }
   ],
   "source": [
    "unique_students.domain.value_counts()"
   ]
  },
  {
   "cell_type": "code",
   "execution_count": 24,
   "metadata": {},
   "outputs": [
    {
     "data": {
      "text/plain": [
       "<matplotlib.axes._subplots.AxesSubplot at 0x7f058d5d4f28>"
      ]
     },
     "execution_count": 24,
     "metadata": {},
     "output_type": "execute_result"
    },
    {
     "data": {
      "image/png": "[encoded data removed]",
      "text/plain": [
       "<Figure size 432x288 with 1 Axes>"
      ]
     },
     "metadata": {},
     "output_type": "display_data"
    }
   ],
   "source": [
    "unique_students.sib.hist()"
   ]
  },
  {
   "cell_type": "code",
   "execution_count": 25,
   "metadata": {},
   "outputs": [
    {
     "data": {
      "text/plain": [
       "0.5737564322469982"
      ]
     },
     "execution_count": 25,
     "metadata": {},
     "output_type": "execute_result"
    }
   ],
   "source": [
    "unique_students.deg_hl_below6.mean()"
   ]
  },
  {
   "cell_type": "code",
   "execution_count": 26,
   "metadata": {},
   "outputs": [
    {
     "data": {
      "text/plain": [
       "0.5571273122959739"
      ]
     },
     "execution_count": 26,
     "metadata": {},
     "output_type": "execute_result"
    }
   ],
   "source": [
    "unique_students.mother_hs.mean()"
   ]
  },
  {
   "cell_type": "markdown",
   "metadata": {},
   "source": [
    "Add expressive and receptive to langauge test domains"
   ]
  },
  {
   "cell_type": "code",
   "execution_count": 27,
   "metadata": {},
   "outputs": [],
   "source": [
    "analysis_subset.loc[(analysis_subset.domain=='Language') & (analysis_subset.test_type=='receptive'), \n",
    "           'domain'] = 'Receptive Language'\n",
    "analysis_subset.loc[(analysis_subset.domain=='Language') & (analysis_subset.test_type=='expressive'), \n",
    "           'domain'] = 'Expressive Language'"
   ]
  },
  {
   "cell_type": "code",
   "execution_count": 28,
   "metadata": {},
   "outputs": [
    {
     "data": {
      "text/plain": [
       "<matplotlib.axes._subplots.AxesSubplot at 0x7f058d4de0f0>"
      ]
     },
     "execution_count": 28,
     "metadata": {},
     "output_type": "execute_result"
    },
    {
     "data": {
      "image/png": "[encoded data removed]",
      "text/plain": [
       "<Figure size 432x288 with 1 Axes>"
      ]
     },
     "metadata": {},
     "output_type": "display_data"
    }
   ],
   "source": [
    "analysis_subset[analysis_subset.age_test<100].age_test.hist()"
   ]
  },
  {
   "cell_type": "markdown",
   "metadata": {},
   "source": [
    "### 4-year-old Subset"
   ]
  },
  {
   "cell_type": "code",
   "execution_count": 29,
   "metadata": {},
   "outputs": [],
   "source": [
    "mask = (analysis_subset.age_test>=48) & (analysis_subset.age_test<60)\n",
    "data_4yo = analysis_subset[mask]"
   ]
  },
  {
   "cell_type": "code",
   "execution_count": 30,
   "metadata": {},
   "outputs": [
    {
     "data": {
      "text/plain": [
       "age_test                   0\n",
       "time                       0\n",
       "bilateral_ha               0\n",
       "unilateral_ansd            0\n",
       "unilateral_other           0\n",
       "bilateral_ansd             0\n",
       "sib                      120\n",
       "family_inv               367\n",
       "male                       0\n",
       "bilateral_normal           0\n",
       "bilateral_mixed            0\n",
       "mother_hs                671\n",
       "test_type                  0\n",
       "school_idx                 0\n",
       "unilateral_cond            0\n",
       "parent_hl                420\n",
       "age_years                 22\n",
       "student_idx                0\n",
       "premature_weeks          345\n",
       "mother_college             0\n",
       "bilateral_other            0\n",
       "age_amp                  617\n",
       "unilateral_mixed           0\n",
       "score                      0\n",
       "bilateral_ci               0\n",
       "deg_hl_below6            155\n",
       "bilateral_cond             0\n",
       "domain                     0\n",
       "bimodal                    0\n",
       "bilateral_snhl             0\n",
       "race                      34\n",
       "one_or_both_parent_hl    685\n",
       "unilateral_ha              0\n",
       "unilateral_unk             0\n",
       "unilateral_snhl            0\n",
       "bilateral_unk              0\n",
       "unilateral_ci              0\n",
       "premature                345\n",
       "dtype: int64"
      ]
     },
     "execution_count": 30,
     "metadata": {},
     "output_type": "execute_result"
    }
   ],
   "source": [
    "data_4yo.isnull().sum()"
   ]
  },
  {
   "cell_type": "code",
   "execution_count": 31,
   "metadata": {},
   "outputs": [
    {
     "data": {
      "text/plain": [
       "0.0    1866\n",
       "1.0     320\n",
       "2.0     264\n",
       "4.0     202\n",
       "3.0     135\n",
       "Name: race, dtype: int64"
      ]
     },
     "execution_count": 31,
     "metadata": {},
     "output_type": "execute_result"
    }
   ],
   "source": [
    "data_4yo.race.value_counts()"
   ]
  },
  {
   "cell_type": "code",
   "execution_count": 32,
   "metadata": {},
   "outputs": [
    {
     "data": {
      "text/plain": [
       "1.0    1435\n",
       "0.0    1386\n",
       "Name: male, dtype: int64"
      ]
     },
     "execution_count": 32,
     "metadata": {},
     "output_type": "execute_result"
    }
   ],
   "source": [
    "data_4yo.male.value_counts()"
   ]
  },
  {
   "cell_type": "code",
   "execution_count": 33,
   "metadata": {},
   "outputs": [
    {
     "data": {
      "text/plain": [
       "1.0    1093\n",
       "0.0     656\n",
       "2.0     608\n",
       "3.0     344\n",
       "Name: sib, dtype: int64"
      ]
     },
     "execution_count": 33,
     "metadata": {},
     "output_type": "execute_result"
    }
   ],
   "source": [
    "data_4yo.sib.value_counts()"
   ]
  },
  {
   "cell_type": "code",
   "execution_count": 34,
   "metadata": {},
   "outputs": [
    {
     "data": {
      "text/plain": [
       "0.0    1993\n",
       "4.0     265\n",
       "2.0      70\n",
       "1.0      41\n",
       "3.0      32\n",
       "Name: parent_hl, dtype: int64"
      ]
     },
     "execution_count": 34,
     "metadata": {},
     "output_type": "execute_result"
    }
   ],
   "source": [
    "data_4yo.parent_hl.value_counts()"
   ]
  },
  {
   "cell_type": "code",
   "execution_count": 35,
   "metadata": {},
   "outputs": [
    {
     "data": {
      "text/plain": [
       "0.0     2103\n",
       "2.0      154\n",
       "4.0       83\n",
       "10.0      55\n",
       "6.0       39\n",
       "12.0      30\n",
       "8.0       12\n",
       "Name: premature_weeks, dtype: int64"
      ]
     },
     "execution_count": 35,
     "metadata": {},
     "output_type": "execute_result"
    }
   ],
   "source": [
    "data_4yo.premature_weeks.value_counts()"
   ]
  },
  {
   "cell_type": "code",
   "execution_count": 36,
   "metadata": {},
   "outputs": [
    {
     "data": {
      "text/plain": [
       "['bilateral_ha',\n",
       " 'bilateral_ci',\n",
       " 'bilateral_other',\n",
       " 'unilateral_ha',\n",
       " 'unilateral_ci',\n",
       " 'unilateral_other',\n",
       " 'bilateral_snhl',\n",
       " 'bilateral_ansd',\n",
       " 'bilateral_mixed',\n",
       " 'bilateral_cond',\n",
       " 'bilateral_normal',\n",
       " 'bilateral_unk',\n",
       " 'unilateral_snhl',\n",
       " 'unilateral_ansd',\n",
       " 'unilateral_mixed',\n",
       " 'unilateral_cond',\n",
       " 'unilateral_unk']"
      ]
     },
     "execution_count": 36,
     "metadata": {},
     "output_type": "execute_result"
    }
   ],
   "source": [
    "hl_type_cols"
   ]
  },
  {
   "cell_type": "code",
   "execution_count": 37,
   "metadata": {},
   "outputs": [
    {
     "data": {
      "text/plain": [
       "bilateral_ha         544\n",
       "bilateral_ci        1991\n",
       "bilateral_other        4\n",
       "unilateral_ha         48\n",
       "unilateral_ci         49\n",
       "unilateral_other       0\n",
       "bilateral_snhl      2023\n",
       "bilateral_ansd       107\n",
       "bilateral_mixed       92\n",
       "bilateral_cond       160\n",
       "bilateral_normal       9\n",
       "bilateral_unk          0\n",
       "unilateral_snhl       77\n",
       "unilateral_ansd        6\n",
       "unilateral_mixed       7\n",
       "unilateral_cond       49\n",
       "unilateral_unk         0\n",
       "dtype: int64"
      ]
     },
     "execution_count": 37,
     "metadata": {},
     "output_type": "execute_result"
    }
   ],
   "source": [
    "data_4yo[hl_type_cols].sum().astype(int)"
   ]
  },
  {
   "cell_type": "code",
   "execution_count": 38,
   "metadata": {},
   "outputs": [
    {
     "data": {
      "text/plain": [
       "0.0    985\n",
       "1.0    620\n",
       "2.0    580\n",
       "3.0    217\n",
       "4.0     52\n",
       "Name: family_inv, dtype: int64"
      ]
     },
     "execution_count": 38,
     "metadata": {},
     "output_type": "execute_result"
    }
   ],
   "source": [
    "data_4yo.family_inv.value_counts()"
   ]
  },
  {
   "cell_type": "code",
   "execution_count": 40,
   "metadata": {},
   "outputs": [
    {
     "data": {
      "text/html": [
       "<div>\n",
       "<style scoped>\n",
       "    .dataframe tbody tr th:only-of-type {\n",
       "        vertical-align: middle;\n",
       "    }\n",
       "\n",
       "    .dataframe tbody tr th {\n",
       "        vertical-align: top;\n",
       "    }\n",
       "\n",
       "    .dataframe thead th {\n",
       "        text-align: right;\n",
       "    }\n",
       "</style>\n",
       "<table border=\"1\" class=\"dataframe\">\n",
       "  <thead>\n",
       "    <tr style=\"text-align: right;\">\n",
       "      <th>deg_hl_below6</th>\n",
       "      <th>0.0</th>\n",
       "      <th>1.0</th>\n",
       "    </tr>\n",
       "  </thead>\n",
       "  <tbody>\n",
       "    <tr>\n",
       "      <th>bilateral_ha</th>\n",
       "      <td>41</td>\n",
       "      <td>502</td>\n",
       "    </tr>\n",
       "    <tr>\n",
       "      <th>bilateral_ci</th>\n",
       "      <td>1159</td>\n",
       "      <td>686</td>\n",
       "    </tr>\n",
       "    <tr>\n",
       "      <th>bilateral_other</th>\n",
       "      <td>0</td>\n",
       "      <td>4</td>\n",
       "    </tr>\n",
       "    <tr>\n",
       "      <th>unilateral_ha</th>\n",
       "      <td>10</td>\n",
       "      <td>38</td>\n",
       "    </tr>\n",
       "    <tr>\n",
       "      <th>unilateral_ci</th>\n",
       "      <td>36</td>\n",
       "      <td>13</td>\n",
       "    </tr>\n",
       "    <tr>\n",
       "      <th>unilateral_other</th>\n",
       "      <td>0</td>\n",
       "      <td>0</td>\n",
       "    </tr>\n",
       "    <tr>\n",
       "      <th>bilateral_snhl</th>\n",
       "      <td>1147</td>\n",
       "      <td>870</td>\n",
       "    </tr>\n",
       "    <tr>\n",
       "      <th>bilateral_ansd</th>\n",
       "      <td>67</td>\n",
       "      <td>40</td>\n",
       "    </tr>\n",
       "    <tr>\n",
       "      <th>bilateral_mixed</th>\n",
       "      <td>23</td>\n",
       "      <td>69</td>\n",
       "    </tr>\n",
       "    <tr>\n",
       "      <th>bilateral_cond</th>\n",
       "      <td>11</td>\n",
       "      <td>149</td>\n",
       "    </tr>\n",
       "    <tr>\n",
       "      <th>bilateral_normal</th>\n",
       "      <td>0</td>\n",
       "      <td>0</td>\n",
       "    </tr>\n",
       "    <tr>\n",
       "      <th>bilateral_unk</th>\n",
       "      <td>0</td>\n",
       "      <td>0</td>\n",
       "    </tr>\n",
       "    <tr>\n",
       "      <th>unilateral_snhl</th>\n",
       "      <td>42</td>\n",
       "      <td>35</td>\n",
       "    </tr>\n",
       "    <tr>\n",
       "      <th>unilateral_ansd</th>\n",
       "      <td>6</td>\n",
       "      <td>0</td>\n",
       "    </tr>\n",
       "    <tr>\n",
       "      <th>unilateral_mixed</th>\n",
       "      <td>0</td>\n",
       "      <td>7</td>\n",
       "    </tr>\n",
       "    <tr>\n",
       "      <th>unilateral_cond</th>\n",
       "      <td>0</td>\n",
       "      <td>49</td>\n",
       "    </tr>\n",
       "    <tr>\n",
       "      <th>unilateral_unk</th>\n",
       "      <td>0</td>\n",
       "      <td>0</td>\n",
       "    </tr>\n",
       "  </tbody>\n",
       "</table>\n",
       "</div>"
      ],
      "text/plain": [
       "deg_hl_below6      0.0  1.0\n",
       "bilateral_ha        41  502\n",
       "bilateral_ci      1159  686\n",
       "bilateral_other      0    4\n",
       "unilateral_ha       10   38\n",
       "unilateral_ci       36   13\n",
       "unilateral_other     0    0\n",
       "bilateral_snhl    1147  870\n",
       "bilateral_ansd      67   40\n",
       "bilateral_mixed     23   69\n",
       "bilateral_cond      11  149\n",
       "bilateral_normal     0    0\n",
       "bilateral_unk        0    0\n",
       "unilateral_snhl     42   35\n",
       "unilateral_ansd      6    0\n",
       "unilateral_mixed     0    7\n",
       "unilateral_cond      0   49\n",
       "unilateral_unk       0    0"
      ]
     },
     "execution_count": 40,
     "metadata": {},
     "output_type": "execute_result"
    }
   ],
   "source": [
    "(data_4yo.groupby('deg_hl_below6')[hl_type_cols]\n",
    "     .sum().astype(int).T)"
   ]
  },
  {
   "cell_type": "markdown",
   "metadata": {},
   "source": [
    "Drop records with missing race and age at ernollment, since there is less than 1% of them"
   ]
  },
  {
   "cell_type": "code",
   "execution_count": 41,
   "metadata": {},
   "outputs": [],
   "source": [
    "analysis_subset = analysis_subset.dropna(subset=['race', 'age_years', 'age_test', 'parent_hl'])"
   ]
  },
  {
   "cell_type": "markdown",
   "metadata": {},
   "source": [
    "## Covariate model specification\n",
    "\n",
    "Student test scores were modeled across five domains: receptive language, expressive \n",
    "language, articulation, receptive vocabulary, and expressive vocabulary. Each domain was modeled separately, using the same general model structure, a Bayesian hierarchical mixed-effects linear model.\n",
    "\n",
    "Consistent with the goals of the analysis, namely evaluating speech and language outcomes at 4 years of age, the subset of the dataset analyzed was restricted to children between the ages 48 and 60 months at the time of testing. Due to this age restriction, most students in the dataset contributed only one test score to the analysis, but several individuals (on the order of 100-200, depending on the test) contributed two or more. Rather than address the repeated measures (and resulting lack of independence) statistically, the mean test score was used for each student with more than one reported score within each domain.\n",
    "\n",
    "Eight potential predictor variables (covariates) were included in the model as fixed effects, based on a priori expert opinion that considered them to be possibly influential for predicting test scores, and on the presence of reasonable variation in the predictor variable across subjects; variables that had identical values over a large portion of subjects were excluded. The final subset of covariates included gender, family involvement index, number of siblings in household, degree of hearing loss, mother’s education, age of enrollment, and time in the program. The family involvement scale is a 5-category ordinal variable that ranges from ideal participation by family (0) to limited participation (4) (Moeller, 2000). Mother’s education was coded as a binary variable that identifie children whose mother ha at least a high school diploma as the highest level of completed education. The degree of hearing loss was coded as a binary variable that took the value 1 if the degree of loss (based on PTA or ABR results) was less than 6 (profound), resulting in a variable that indicate non-profound hearing loss. Since degree of loss was considered important a priori, we wished to include it in the model, but the lack of variation among non-profound scores (<6) necessitated recoding into fewer categories. These variables were included together in a multivariate mixed effects model so that the estimates of each covariate effect re adjusted for the effects of the others. For example, the effect of decreased family involvement s the estimated effect after taking into account the other variables in the model.\n",
    "\n",
    "In addition to the fixed effects specified above, we included a random effect to account for the variation in test scores among schools, over and above the variation explained by our variables of interest. This random effect estimates the mean and variance of the population of schools comprising this multi-center study. Hence, the predicted score for any particular student is a combination of the fixed effect predictors and the random effect from his or her school. The residual variation from the model is assumed to be normally distributed. \n",
    "\n",
    "The LSL-DR dataset includes several covariates of interest that have observations missing for some records. In order to avoid conducting complete case analysis, we imputed missing values using Bayesian statistical methods, which allows us to use all available data in our model (REF). We included covariates where one third were missing for the subset of data corresponding to a particular test. Missing values were imputed in the model by constructing distributions of values based on the non-missing values, and sampling from this distribution at every iteration of the Markov Chain Monte Carlo (MCMC) sampling procedure used to estimate the model. This approach assumes that covariate values are \n",
    "missing completely at random (MCAR). As an ad hoc measure for checking for obvious violations of this assumption, we calculated mean values for other variables according to whether each covariate was missing; if means differed strongly according to missingness, this would suggest that missingness may not be completely at random.\n",
    "\n",
    "All models were estimated using Markov chain Monte Carlo (Brooks et al. 2011) methods. We specified vague priors to all unknown model parameters. Specifically, standard deviations of the random effects and the sampling distribution were given half-Cauchy priors with scale parameter set to 1, covariates were specified with zero-mean Gaussian priors with standard deviation 100, and the overall mean score also as Gaussian, but with a mean value of 100. Each model was run for 5000 iterations using the PyMC 3.5 software package (Salvatier et al. 2016), with 4000 iterations conservatively discarded as the burn-in interval, leaving 1000 for inference. Model convergence was checked by running a second MCMC chain, and calculating the Gelman-Rubin statistic (Gelman and Rubin 1992) using both chains. Model goodness-of-fit was evaluated using posterior predictive checks, by simulating mean outcome differences from the model and comparing the distribution of simulated differences to the observed mean difference. "
   ]
  },
  {
   "cell_type": "markdown",
   "metadata": {},
   "source": [
    "Utility function for filling NA values"
   ]
  },
  {
   "cell_type": "code",
   "execution_count": 42,
   "metadata": {},
   "outputs": [
    {
     "data": {
      "text/plain": [
       "masked_array(data=[0.4, --, 5.0],\n",
       "             mask=[False,  True, False],\n",
       "       fill_value=0.5)"
      ]
     },
     "execution_count": 42,
     "metadata": {},
     "output_type": "execute_result"
    }
   ],
   "source": [
    "def fillna(x, value):\n",
    "    x_masked = np.ma.masked_invalid(x)\n",
    "    np.ma.set_fill_value(x_masked, value)\n",
    "    return x_masked\n",
    "\n",
    "fillna(np.array([0.4, np.nan, 5]), 0.5)"
   ]
  },
  {
   "cell_type": "code",
   "execution_count": 43,
   "metadata": {},
   "outputs": [],
   "source": [
    "# Temporarily mean-impute age of amplification\n",
    "analysis_subset.fillna({'age_amp': analysis_subset.age_amp.mean()}, inplace=True)"
   ]
  },
  {
   "cell_type": "code",
   "execution_count": 44,
   "metadata": {},
   "outputs": [
    {
     "name": "stderr",
     "output_type": "stream",
     "text": [
      "WARNING (theano.tensor.blas): Using NumPy C-API based implementation for BLAS functions.\n"
     ]
    }
   ],
   "source": [
    "from pymc3 import Bernoulli, Normal, Uniform, Dirichlet, Categorical, Beta, HalfCauchy\n",
    "from pymc3 import Gamma, Exponential, Multinomial, HalfNormal\n",
    "from pymc3 import Model, Deterministic, Metropolis\n",
    "from numpy.ma import masked_values, set_fill_value, masked_invalid\n",
    "import theano.tensor as tt\n",
    "from theano import shared\n",
    "\n",
    "def generate_model(dataset, cohort_age):\n",
    "    \n",
    "    if cohort_age==2:\n",
    "        mask = (dataset.age_test>=24) & (dataset.age_test<36)\n",
    "    elif cohort_age==3:\n",
    "        mask = (dataset.age_test>=36) & (dataset.age_test<48)\n",
    "    elif cohort_age==4:\n",
    "        mask = (dataset.age_test>=48) & (dataset.age_test<60)\n",
    "    elif cohort_age==5:\n",
    "        mask = (dataset.age_test>=60) & (dataset.age_test<72)\n",
    "    elif cohort_age==6:\n",
    "        mask = (dataset.age_test>=72) & (dataset.age_test<84)\n",
    "    else:\n",
    "        print('Invalid age!')\n",
    "        return\n",
    "    \n",
    "    # Generate mean scores\n",
    "    mean_scores = dataset[mask].groupby('student_idx').score.mean()\n",
    "    dataset_unique = dataset[mask].drop_duplicates(subset='student_idx')\n",
    "    dataset_unique.set_index('student_idx').drop('score', axis=1).join(mean_scores)\n",
    "    assert not dataset_unique.score.isnull().sum()\n",
    "    \n",
    "    (male, sib, family_inv, race, school, one_or_both_parent_hl, premature, time, \n",
    "             non_severe, mother_college, age_amp,\n",
    "             age_enroll, score) = dataset_unique[['male', 'sib','family_inv', 'race', 'school_idx', \n",
    "                                                  'one_or_both_parent_hl', 'premature',\n",
    "                                                    'time', 'deg_hl_below6', 'mother_college', 'age_amp',\n",
    "                                                    'age_years', 'score']].astype(float).T.values\n",
    "\n",
    "    # Transform some data\n",
    "    age_enroll_std = age_enroll - age_enroll.mean()\n",
    "\n",
    "    with Model() as model:\n",
    "        \n",
    "        \n",
    "        age_amp /= 12\n",
    "        # Imputation of age of amplification\n",
    "        if np.isnan(age_amp).sum():\n",
    "            a_age_amp = Uniform(\"a_age_amp\", 0, 10)\n",
    "            x_age_amp = Exponential('x_age_amp', a_age_amp, \n",
    "                                       observed=masked_invalid(age_amp))\n",
    "        else:\n",
    "            x_age_amp = age_amp\n",
    "        \n",
    "        # Imputation of family involvement\n",
    "        if np.isnan(family_inv).sum():\n",
    "            p_family_inv = Dirichlet(\"p_family_inv\", np.ones(5))\n",
    "            x_family_inv = Categorical('x_family_inv', p_family_inv, \n",
    "                                       observed=masked_invalid(family_inv))\n",
    "        else:\n",
    "            x_family_inv = family_inv\n",
    "        \n",
    "        # Imputation of premature\n",
    "        \"\"\"\n",
    "        if np.isnan(premature).sum():\n",
    "            p_premature = Beta(\"p_premature\", 1, 1, testval=0.1)\n",
    "            x_premature = Bernoulli('x_premature', p_premature, observed=masked_invalid(premature))\n",
    "        else:\n",
    "            x_premature = premature\n",
    "        \"\"\"\n",
    "        # Imputation of hearing loss\n",
    "        if np.isnan(non_severe).sum():\n",
    "            p_hl = Beta(\"p_hl\", 1, 1, testval=0.9)\n",
    "            x_hl = Bernoulli('x_hl', p_hl, observed=masked_invalid(non_severe))\n",
    "        else:\n",
    "            x_hl = non_severe\n",
    "            \n",
    "        # Imputation of parent hearing loss\n",
    "        if np.isnan(one_or_both_parent_hl).sum():\n",
    "            p_phl = Beta(\"p_phl\", 1, 1)\n",
    "            x_phl = Bernoulli('x_phl', p_phl, observed=masked_invalid(one_or_both_parent_hl))\n",
    "        else:\n",
    "            x_phl = one_or_both_parent_hl\n",
    "\n",
    "        # Imputation of siblings\n",
    "        if np.isnan(sib).sum():\n",
    "            n_sib_cats = len(dataset.sib.unique())\n",
    "            p_sib = Dirichlet(\"p_sib\", np.ones(n_sib_cats))\n",
    "            x_sib = Categorical('x_sib', p_sib, observed=masked_invalid(sib))\n",
    "        else:\n",
    "            x_sib = sib\n",
    "            \n",
    "        # Indices to school random effects\n",
    "        unique_schools = np.unique(school)\n",
    "        school_index = [list(unique_schools).index(s) for s in school]\n",
    "\n",
    "        # School random effect (non-centered parameterization)\n",
    "        μ_school = Normal('μ_school', 90, sd=10)\n",
    "        σ_school = Exponential(\"σ_school\", 1)\n",
    "        z_school = Normal('z_school', mu=0, sd=1, shape=len(unique_schools))\n",
    "        α_school = Deterministic(\"α_school\", μ_school + z_school*σ_school)\n",
    "        \n",
    "        # Random intercepts\n",
    "        intercept = α_school[school_index]\n",
    "        \n",
    "        # Race effect\n",
    "        β_race = Normal(\"β_race\", 0, sd=10, shape=4)\n",
    "        race_effect = tt.concatenate([[0], β_race])[race.astype(int)]\n",
    "        \n",
    "        # Covariates\n",
    "        X = [x_age_amp, \n",
    "             x_family_inv, \n",
    "             x_sib, \n",
    "             x_hl, \n",
    "             mother_college, \n",
    "             x_phl, \n",
    "             age_enroll_std, \n",
    "             time]\n",
    "        \n",
    "        # Fixed effects\n",
    "        β = Normal(\"β\", 0, sd=100, shape=len(X))\n",
    "        θ = intercept + race_effect + β.dot(tt.stack(X))\n",
    "    \n",
    "        σ = HalfNormal(\"σ\", sd=25, testval=100)\n",
    "        score_like = Normal(\"score_like\", mu=θ, sd=σ, observed=score)\n",
    "\n",
    "    return model"
   ]
  },
  {
   "cell_type": "code",
   "execution_count": 45,
   "metadata": {},
   "outputs": [],
   "source": [
    "receptive_language_dataset = analysis_subset[(analysis_subset.domain=='Receptive Language')]"
   ]
  },
  {
   "cell_type": "code",
   "execution_count": 46,
   "metadata": {},
   "outputs": [
    {
     "name": "stderr",
     "output_type": "stream",
     "text": [
      "/home/fonnescj/.local/lib/python3.4/site-packages/pymc3/model.py:1266: UserWarning: Data in x_family_inv contains missing values and will be automatically imputed from the sampling distribution.\n",
      "  warnings.warn(impute_message, UserWarning)\n",
      "/home/fonnescj/.local/lib/python3.4/site-packages/pymc3/model.py:1266: UserWarning: Data in x_hl contains missing values and will be automatically imputed from the sampling distribution.\n",
      "  warnings.warn(impute_message, UserWarning)\n",
      "/home/fonnescj/.local/lib/python3.4/site-packages/pymc3/model.py:1266: UserWarning: Data in x_phl contains missing values and will be automatically imputed from the sampling distribution.\n",
      "  warnings.warn(impute_message, UserWarning)\n",
      "/home/fonnescj/.local/lib/python3.4/site-packages/pymc3/model.py:1266: UserWarning: Data in x_sib contains missing values and will be automatically imputed from the sampling distribution.\n",
      "  warnings.warn(impute_message, UserWarning)\n"
     ]
    }
   ],
   "source": [
    "receptive_language_4 = generate_model(receptive_language_dataset, 4)"
   ]
  },
  {
   "cell_type": "code",
   "execution_count": 47,
   "metadata": {},
   "outputs": [],
   "source": [
    "iterations = 1000\n",
    "tuning = 4000"
   ]
  },
  {
   "cell_type": "code",
   "execution_count": 48,
   "metadata": {},
   "outputs": [
    {
     "name": "stderr",
     "output_type": "stream",
     "text": [
      "Multiprocess sampling (2 chains in 2 jobs)\n",
      "CompoundStep\n",
      ">NUTS: [σ, β, β_race, z_school, σ_school, μ_school, p_sib, p_phl, p_hl, p_family_inv]\n",
      ">BinaryGibbsMetropolis: [x_hl_missing, x_phl_missing]\n",
      ">CategoricalGibbsMetropolis: [x_sib_missing, x_family_inv_missing]\n",
      "Sampling 2 chains: 100%|██████████| 10000/10000 [07:14<00:00, 23.01draws/s]\n",
      "The number of effective samples is smaller than 25% for some parameters.\n"
     ]
    }
   ],
   "source": [
    "from pymc3 import sample\n",
    "\n",
    "with receptive_language_4:\n",
    "    \n",
    "    rec_lang_4_trace = sample(iterations, \n",
    "                              tune=tuning, njobs=2)"
   ]
  },
  {
   "cell_type": "code",
   "execution_count": 49,
   "metadata": {},
   "outputs": [],
   "source": [
    "labels = [#'Premature',           \n",
    "          'Age at amplification',\n",
    "          'Family Involvement Score', \n",
    "          'Sibling Count',\n",
    "          'Non-profound Hearing Loss',\n",
    "          'Mother with College Ed',\n",
    "          'Parent with hearing loss',\n",
    "          'Age at enrollment',\n",
    "          'Years in program']"
   ]
  },
  {
   "cell_type": "code",
   "execution_count": 50,
   "metadata": {},
   "outputs": [],
   "source": [
    "from pymc3 import traceplot"
   ]
  },
  {
   "cell_type": "code",
   "execution_count": 51,
   "metadata": {},
   "outputs": [
    {
     "data": {
      "text/plain": [
       "<matplotlib.gridspec.GridSpec at 0x7f056570b0b8>"
      ]
     },
     "execution_count": 51,
     "metadata": {},
     "output_type": "execute_result"
    },
    {
     "data": {
      "image/png": "[encoded data removed]",
      "text/plain": [
       "<Figure size 432x288 with 1 Axes>"
      ]
     },
     "metadata": {},
     "output_type": "display_data"
    }
   ],
   "source": [
    "from pymc3 import forestplot\n",
    "\n",
    "forestplot(rec_lang_4_trace, varnames=['β'], \n",
    "           ylabels=labels, main='Receptive Language',\n",
    "          xlim=(-10,10), rhat=False)"
   ]
  },
  {
   "cell_type": "code",
   "execution_count": 52,
   "metadata": {},
   "outputs": [
    {
     "data": {
      "text/plain": [
       "<matplotlib.gridspec.GridSpec at 0x7f056d195390>"
      ]
     },
     "execution_count": 52,
     "metadata": {},
     "output_type": "execute_result"
    },
    {
     "data": {
      "image/png": "[encoded data removed]",
      "text/plain": [
       "<Figure size 432x288 with 2 Axes>"
      ]
     },
     "metadata": {},
     "output_type": "display_data"
    }
   ],
   "source": [
    "forestplot(rec_lang_4_trace, varnames=['α_school'])"
   ]
  },
  {
   "cell_type": "code",
   "execution_count": 53,
   "metadata": {},
   "outputs": [
    {
     "data": {
      "text/plain": [
       "<matplotlib.axes._subplots.AxesSubplot at 0x7f0558027a20>"
      ]
     },
     "execution_count": 53,
     "metadata": {},
     "output_type": "execute_result"
    },
    {
     "data": {
      "image/png": "[encoded data removed]",
      "text/plain": [
       "<Figure size 432x288 with 1 Axes>"
      ]
     },
     "metadata": {},
     "output_type": "display_data"
    }
   ],
   "source": [
    "from pymc3 import energyplot\n",
    "\n",
    "energyplot(rec_lang_4_trace)"
   ]
  },
  {
   "cell_type": "code",
   "execution_count": 54,
   "metadata": {},
   "outputs": [
    {
     "data": {
      "text/plain": [
       "<matplotlib.gridspec.GridSpec at 0x7f055804c780>"
      ]
     },
     "execution_count": 54,
     "metadata": {},
     "output_type": "execute_result"
    },
    {
     "data": {
      "image/png": "[encoded data removed]",
      "text/plain": [
       "<Figure size 432x288 with 2 Axes>"
      ]
     },
     "metadata": {},
     "output_type": "display_data"
    }
   ],
   "source": [
    "forestplot(rec_lang_4_trace, varnames=['β_race'], \n",
    "           ylabels=['Black', 'Hispanic', 'Asian', 'Other'])"
   ]
  },
  {
   "cell_type": "markdown",
   "metadata": {},
   "source": [
    "The school random effect standard deviation is a measure of how variable scores are among schools. The estimated standard deviation is about 4 points for this domain."
   ]
  },
  {
   "cell_type": "code",
   "execution_count": 55,
   "metadata": {},
   "outputs": [
    {
     "data": {
      "image/png": "[encoded data removed]",
      "text/plain": [
       "<Figure size 864x144 with 2 Axes>"
      ]
     },
     "metadata": {},
     "output_type": "display_data"
    }
   ],
   "source": [
    "from pymc3 import traceplot\n",
    "\n",
    "traceplot(rec_lang_4_trace, varnames=['σ_school']);"
   ]
  },
  {
   "cell_type": "code",
   "execution_count": 56,
   "metadata": {},
   "outputs": [
    {
     "data": {
      "text/html": [
       "<div>\n",
       "<style scoped>\n",
       "    .dataframe tbody tr th:only-of-type {\n",
       "        vertical-align: middle;\n",
       "    }\n",
       "\n",
       "    .dataframe tbody tr th {\n",
       "        vertical-align: top;\n",
       "    }\n",
       "\n",
       "    .dataframe thead th {\n",
       "        text-align: right;\n",
       "    }\n",
       "</style>\n",
       "<table border=\"1\" class=\"dataframe\">\n",
       "  <thead>\n",
       "    <tr style=\"text-align: right;\">\n",
       "      <th></th>\n",
       "      <th>mean</th>\n",
       "      <th>sd</th>\n",
       "      <th>mc_error</th>\n",
       "      <th>hpd_2.5</th>\n",
       "      <th>hpd_97.5</th>\n",
       "      <th>n_eff</th>\n",
       "      <th>Rhat</th>\n",
       "    </tr>\n",
       "  </thead>\n",
       "  <tbody>\n",
       "    <tr>\n",
       "      <th>Age at amplification</th>\n",
       "      <td>-1.365926</td>\n",
       "      <td>0.930146</td>\n",
       "      <td>0.017618</td>\n",
       "      <td>-3.332100</td>\n",
       "      <td>0.291477</td>\n",
       "      <td>2163.869274</td>\n",
       "      <td>1.000334</td>\n",
       "    </tr>\n",
       "    <tr>\n",
       "      <th>Family Involvement Score</th>\n",
       "      <td>-4.602311</td>\n",
       "      <td>0.828631</td>\n",
       "      <td>0.022231</td>\n",
       "      <td>-6.198274</td>\n",
       "      <td>-3.023021</td>\n",
       "      <td>1574.698422</td>\n",
       "      <td>1.001013</td>\n",
       "    </tr>\n",
       "    <tr>\n",
       "      <th>Sibling Count</th>\n",
       "      <td>-0.082628</td>\n",
       "      <td>0.856152</td>\n",
       "      <td>0.017514</td>\n",
       "      <td>-1.626769</td>\n",
       "      <td>1.673414</td>\n",
       "      <td>2352.861479</td>\n",
       "      <td>1.000019</td>\n",
       "    </tr>\n",
       "    <tr>\n",
       "      <th>Non-profound Hearing Loss</th>\n",
       "      <td>9.436040</td>\n",
       "      <td>1.656156</td>\n",
       "      <td>0.032043</td>\n",
       "      <td>6.105024</td>\n",
       "      <td>12.632072</td>\n",
       "      <td>2431.759391</td>\n",
       "      <td>1.001014</td>\n",
       "    </tr>\n",
       "    <tr>\n",
       "      <th>Mother with College Ed</th>\n",
       "      <td>7.907349</td>\n",
       "      <td>1.780515</td>\n",
       "      <td>0.037533</td>\n",
       "      <td>4.171098</td>\n",
       "      <td>11.093305</td>\n",
       "      <td>2205.705173</td>\n",
       "      <td>0.999906</td>\n",
       "    </tr>\n",
       "    <tr>\n",
       "      <th>Parent with hearing loss</th>\n",
       "      <td>-3.441257</td>\n",
       "      <td>3.331037</td>\n",
       "      <td>0.060060</td>\n",
       "      <td>-10.257245</td>\n",
       "      <td>3.067057</td>\n",
       "      <td>3201.319379</td>\n",
       "      <td>0.999580</td>\n",
       "    </tr>\n",
       "    <tr>\n",
       "      <th>Age at enrollment</th>\n",
       "      <td>0.181282</td>\n",
       "      <td>0.892486</td>\n",
       "      <td>0.023453</td>\n",
       "      <td>-1.467788</td>\n",
       "      <td>1.946868</td>\n",
       "      <td>1479.283347</td>\n",
       "      <td>0.999633</td>\n",
       "    </tr>\n",
       "    <tr>\n",
       "      <th>Years in program</th>\n",
       "      <td>2.246004</td>\n",
       "      <td>0.848578</td>\n",
       "      <td>0.024965</td>\n",
       "      <td>0.506875</td>\n",
       "      <td>3.905085</td>\n",
       "      <td>1128.728465</td>\n",
       "      <td>0.999961</td>\n",
       "    </tr>\n",
       "  </tbody>\n",
       "</table>\n",
       "</div>"
      ],
      "text/plain": [
       "                               mean        sd  mc_error    hpd_2.5   hpd_97.5  \\\n",
       "Age at amplification      -1.365926  0.930146  0.017618  -3.332100   0.291477   \n",
       "Family Involvement Score  -4.602311  0.828631  0.022231  -6.198274  -3.023021   \n",
       "Sibling Count             -0.082628  0.856152  0.017514  -1.626769   1.673414   \n",
       "Non-profound Hearing Loss  9.436040  1.656156  0.032043   6.105024  12.632072   \n",
       "Mother with College Ed     7.907349  1.780515  0.037533   4.171098  11.093305   \n",
       "Parent with hearing loss  -3.441257  3.331037  0.060060 -10.257245   3.067057   \n",
       "Age at enrollment          0.181282  0.892486  0.023453  -1.467788   1.946868   \n",
       "Years in program           2.246004  0.848578  0.024965   0.506875   3.905085   \n",
       "\n",
       "                                 n_eff      Rhat  \n",
       "Age at amplification       2163.869274  1.000334  \n",
       "Family Involvement Score   1574.698422  1.001013  \n",
       "Sibling Count              2352.861479  1.000019  \n",
       "Non-profound Hearing Loss  2431.759391  1.001014  \n",
       "Mother with College Ed     2205.705173  0.999906  \n",
       "Parent with hearing loss   3201.319379  0.999580  \n",
       "Age at enrollment          1479.283347  0.999633  \n",
       "Years in program           1128.728465  0.999961  "
      ]
     },
     "execution_count": 56,
     "metadata": {},
     "output_type": "execute_result"
    }
   ],
   "source": [
    "from pymc3 import summary\n",
    "\n",
    "summary(rec_lang_4_trace, varnames=['β']).set_index(pd.Index(labels))"
   ]
  },
  {
   "cell_type": "markdown",
   "metadata": {},
   "source": [
    "## Expressive Language Model"
   ]
  },
  {
   "cell_type": "code",
   "execution_count": 57,
   "metadata": {},
   "outputs": [],
   "source": [
    "expressive_language_dataset = analysis_subset[(analysis_subset.domain=='Expressive Language')]"
   ]
  },
  {
   "cell_type": "code",
   "execution_count": 58,
   "metadata": {},
   "outputs": [
    {
     "name": "stderr",
     "output_type": "stream",
     "text": [
      "/home/fonnescj/.local/lib/python3.4/site-packages/pymc3/model.py:1266: UserWarning: Data in x_family_inv contains missing values and will be automatically imputed from the sampling distribution.\n",
      "  warnings.warn(impute_message, UserWarning)\n",
      "/home/fonnescj/.local/lib/python3.4/site-packages/pymc3/model.py:1266: UserWarning: Data in x_hl contains missing values and will be automatically imputed from the sampling distribution.\n",
      "  warnings.warn(impute_message, UserWarning)\n",
      "/home/fonnescj/.local/lib/python3.4/site-packages/pymc3/model.py:1266: UserWarning: Data in x_phl contains missing values and will be automatically imputed from the sampling distribution.\n",
      "  warnings.warn(impute_message, UserWarning)\n",
      "/home/fonnescj/.local/lib/python3.4/site-packages/pymc3/model.py:1266: UserWarning: Data in x_sib contains missing values and will be automatically imputed from the sampling distribution.\n",
      "  warnings.warn(impute_message, UserWarning)\n"
     ]
    }
   ],
   "source": [
    "expressive_language_4 = generate_model(expressive_language_dataset, 4)"
   ]
  },
  {
   "cell_type": "code",
   "execution_count": 59,
   "metadata": {},
   "outputs": [
    {
     "name": "stderr",
     "output_type": "stream",
     "text": [
      "Multiprocess sampling (2 chains in 2 jobs)\n",
      "CompoundStep\n",
      ">NUTS: [σ, β, β_race, z_school, σ_school, μ_school, p_sib, p_phl, p_hl, p_family_inv]\n",
      ">BinaryGibbsMetropolis: [x_hl_missing, x_phl_missing]\n",
      ">CategoricalGibbsMetropolis: [x_sib_missing, x_family_inv_missing]\n",
      "Sampling 2 chains: 100%|██████████| 10000/10000 [07:34<00:00, 21.98draws/s]\n",
      "The number of effective samples is smaller than 25% for some parameters.\n"
     ]
    }
   ],
   "source": [
    "with expressive_language_4:\n",
    "    \n",
    "    exp_lang_4_trace = sample(iterations, tune=tuning, njobs=2)"
   ]
  },
  {
   "cell_type": "code",
   "execution_count": 60,
   "metadata": {},
   "outputs": [
    {
     "data": {
      "text/plain": [
       "<matplotlib.gridspec.GridSpec at 0x7f05662037b8>"
      ]
     },
     "execution_count": 60,
     "metadata": {},
     "output_type": "execute_result"
    },
    {
     "data": {
      "image/png": "[encoded data removed]",
      "text/plain": [
       "<Figure size 432x288 with 1 Axes>"
      ]
     },
     "metadata": {},
     "output_type": "display_data"
    }
   ],
   "source": [
    "forestplot(exp_lang_4_trace, varnames=['β'], \n",
    "           ylabels=labels, main='Expressive Language',\n",
    "          xlim=(-10,10), rhat=False)"
   ]
  },
  {
   "cell_type": "markdown",
   "metadata": {},
   "source": [
    "## Articulation Model"
   ]
  },
  {
   "cell_type": "code",
   "execution_count": 61,
   "metadata": {},
   "outputs": [],
   "source": [
    "articulation_dataset = analysis_subset[(analysis_subset.domain=='Articulation')]"
   ]
  },
  {
   "cell_type": "code",
   "execution_count": 62,
   "metadata": {},
   "outputs": [
    {
     "name": "stderr",
     "output_type": "stream",
     "text": [
      "/home/fonnescj/.local/lib/python3.4/site-packages/pymc3/model.py:1266: UserWarning: Data in x_family_inv contains missing values and will be automatically imputed from the sampling distribution.\n",
      "  warnings.warn(impute_message, UserWarning)\n",
      "/home/fonnescj/.local/lib/python3.4/site-packages/pymc3/model.py:1266: UserWarning: Data in x_hl contains missing values and will be automatically imputed from the sampling distribution.\n",
      "  warnings.warn(impute_message, UserWarning)\n",
      "/home/fonnescj/.local/lib/python3.4/site-packages/pymc3/model.py:1266: UserWarning: Data in x_phl contains missing values and will be automatically imputed from the sampling distribution.\n",
      "  warnings.warn(impute_message, UserWarning)\n",
      "/home/fonnescj/.local/lib/python3.4/site-packages/pymc3/model.py:1266: UserWarning: Data in x_sib contains missing values and will be automatically imputed from the sampling distribution.\n",
      "  warnings.warn(impute_message, UserWarning)\n"
     ]
    }
   ],
   "source": [
    "articulation_4 = generate_model(articulation_dataset, 4)"
   ]
  },
  {
   "cell_type": "code",
   "execution_count": 64,
   "metadata": {},
   "outputs": [
    {
     "name": "stderr",
     "output_type": "stream",
     "text": [
      "Multiprocess sampling (2 chains in 2 jobs)\n",
      "CompoundStep\n",
      ">NUTS: [σ, β, β_race, z_school, σ_school, μ_school, p_sib, p_phl, p_hl, p_family_inv]\n",
      ">BinaryGibbsMetropolis: [x_hl_missing, x_phl_missing]\n",
      ">CategoricalGibbsMetropolis: [x_sib_missing, x_family_inv_missing]\n",
      "Sampling 2 chains: 100%|██████████| 10000/10000 [06:17<00:00, 26.48draws/s]\n"
     ]
    }
   ],
   "source": [
    "with articulation_4:\n",
    "    \n",
    "    artic_4_trace = sample(iterations, tune=tuning, njobs=2)"
   ]
  },
  {
   "cell_type": "code",
   "execution_count": 65,
   "metadata": {},
   "outputs": [
    {
     "data": {
      "text/plain": [
       "<matplotlib.gridspec.GridSpec at 0x7f05a987bdd8>"
      ]
     },
     "execution_count": 65,
     "metadata": {},
     "output_type": "execute_result"
    },
    {
     "data": {
      "image/png": "[encoded data removed]",
      "text/plain": [
       "<Figure size 432x288 with 1 Axes>"
      ]
     },
     "metadata": {},
     "output_type": "display_data"
    }
   ],
   "source": [
    "forestplot(artic_4_trace, varnames=['β'], ylabels=labels, main='Articulation',\n",
    "          xlim=(-10,10), rhat=False)"
   ]
  },
  {
   "cell_type": "markdown",
   "metadata": {},
   "source": [
    "## Expressive Vocabulary Model"
   ]
  },
  {
   "cell_type": "code",
   "execution_count": 66,
   "metadata": {},
   "outputs": [],
   "source": [
    "expressive_vocab_dataset = analysis_subset[(analysis_subset.domain=='Expressive Vocabulary')]"
   ]
  },
  {
   "cell_type": "code",
   "execution_count": 67,
   "metadata": {},
   "outputs": [
    {
     "name": "stderr",
     "output_type": "stream",
     "text": [
      "/home/fonnescj/.local/lib/python3.4/site-packages/pymc3/model.py:1266: UserWarning: Data in x_family_inv contains missing values and will be automatically imputed from the sampling distribution.\n",
      "  warnings.warn(impute_message, UserWarning)\n",
      "/home/fonnescj/.local/lib/python3.4/site-packages/pymc3/model.py:1266: UserWarning: Data in x_hl contains missing values and will be automatically imputed from the sampling distribution.\n",
      "  warnings.warn(impute_message, UserWarning)\n",
      "/home/fonnescj/.local/lib/python3.4/site-packages/pymc3/model.py:1266: UserWarning: Data in x_phl contains missing values and will be automatically imputed from the sampling distribution.\n",
      "  warnings.warn(impute_message, UserWarning)\n",
      "/home/fonnescj/.local/lib/python3.4/site-packages/pymc3/model.py:1266: UserWarning: Data in x_sib contains missing values and will be automatically imputed from the sampling distribution.\n",
      "  warnings.warn(impute_message, UserWarning)\n"
     ]
    }
   ],
   "source": [
    "expressive_vocab_4 = generate_model(expressive_vocab_dataset, 4)"
   ]
  },
  {
   "cell_type": "code",
   "execution_count": 68,
   "metadata": {},
   "outputs": [
    {
     "name": "stderr",
     "output_type": "stream",
     "text": [
      "Multiprocess sampling (2 chains in 2 jobs)\n",
      "CompoundStep\n",
      ">NUTS: [σ, β, β_race, z_school, σ_school, μ_school, p_sib, p_phl, p_hl, p_family_inv]\n",
      ">BinaryGibbsMetropolis: [x_hl_missing, x_phl_missing]\n",
      ">CategoricalGibbsMetropolis: [x_sib_missing, x_family_inv_missing]\n",
      "Sampling 2 chains: 100%|██████████| 10000/10000 [08:11<00:00, 10.60draws/s]\n"
     ]
    }
   ],
   "source": [
    "with expressive_vocab_4:\n",
    "    \n",
    "    expressive_vocab_4_trace = sample(iterations, tune=tuning, njobs=2)"
   ]
  },
  {
   "cell_type": "code",
   "execution_count": 69,
   "metadata": {},
   "outputs": [
    {
     "data": {
      "text/plain": [
       "<matplotlib.gridspec.GridSpec at 0x7f054c1a70b8>"
      ]
     },
     "execution_count": 69,
     "metadata": {},
     "output_type": "execute_result"
    },
    {
     "data": {
      "image/png": "[encoded data removed]",
      "text/plain": [
       "<Figure size 432x288 with 1 Axes>"
      ]
     },
     "metadata": {},
     "output_type": "display_data"
    }
   ],
   "source": [
    "forestplot(expressive_vocab_4_trace, varnames=['β'], \n",
    "           ylabels=labels, main='Expressive Vocabulary', \n",
    "           xlim=(-10,10), rhat=False)"
   ]
  },
  {
   "cell_type": "markdown",
   "metadata": {},
   "source": [
    "## Receptive Vocabulary Model"
   ]
  },
  {
   "cell_type": "code",
   "execution_count": 70,
   "metadata": {},
   "outputs": [],
   "source": [
    "receptive_vocab_dataset = analysis_subset[(analysis_subset.domain=='Receptive Vocabulary')]"
   ]
  },
  {
   "cell_type": "code",
   "execution_count": 71,
   "metadata": {},
   "outputs": [
    {
     "name": "stderr",
     "output_type": "stream",
     "text": [
      "/home/fonnescj/.local/lib/python3.4/site-packages/pymc3/model.py:1266: UserWarning: Data in x_family_inv contains missing values and will be automatically imputed from the sampling distribution.\n",
      "  warnings.warn(impute_message, UserWarning)\n",
      "/home/fonnescj/.local/lib/python3.4/site-packages/pymc3/model.py:1266: UserWarning: Data in x_hl contains missing values and will be automatically imputed from the sampling distribution.\n",
      "  warnings.warn(impute_message, UserWarning)\n",
      "/home/fonnescj/.local/lib/python3.4/site-packages/pymc3/model.py:1266: UserWarning: Data in x_phl contains missing values and will be automatically imputed from the sampling distribution.\n",
      "  warnings.warn(impute_message, UserWarning)\n",
      "/home/fonnescj/.local/lib/python3.4/site-packages/pymc3/model.py:1266: UserWarning: Data in x_sib contains missing values and will be automatically imputed from the sampling distribution.\n",
      "  warnings.warn(impute_message, UserWarning)\n"
     ]
    }
   ],
   "source": [
    "receptive_vocab_4 = generate_model(receptive_vocab_dataset, 4)"
   ]
  },
  {
   "cell_type": "code",
   "execution_count": 72,
   "metadata": {},
   "outputs": [
    {
     "name": "stderr",
     "output_type": "stream",
     "text": [
      "Multiprocess sampling (2 chains in 2 jobs)\n",
      "CompoundStep\n",
      ">NUTS: [σ, β, β_race, z_school, σ_school, μ_school, p_sib, p_phl, p_hl, p_family_inv]\n",
      ">BinaryGibbsMetropolis: [x_hl_missing, x_phl_missing]\n",
      ">CategoricalGibbsMetropolis: [x_sib_missing, x_family_inv_missing]\n",
      "Sampling 2 chains: 100%|██████████| 10000/10000 [08:56<00:00,  9.75draws/s]\n",
      "There was 1 divergence after tuning. Increase `target_accept` or reparameterize.\n",
      "The number of effective samples is smaller than 25% for some parameters.\n"
     ]
    }
   ],
   "source": [
    "with receptive_vocab_4:\n",
    "    \n",
    "    receptive_vocab_4_trace = sample(iterations, tune=tuning, njobs=2)"
   ]
  },
  {
   "cell_type": "code",
   "execution_count": 73,
   "metadata": {},
   "outputs": [
    {
     "data": {
      "text/plain": [
       "<matplotlib.gridspec.GridSpec at 0x7f055bfc0128>"
      ]
     },
     "execution_count": 73,
     "metadata": {},
     "output_type": "execute_result"
    },
    {
     "data": {
      "image/png": "[encoded data removed]",
      "text/plain": [
       "<Figure size 432x288 with 1 Axes>"
      ]
     },
     "metadata": {},
     "output_type": "display_data"
    }
   ],
   "source": [
    "forestplot(receptive_vocab_4_trace, varnames=['β'], \n",
    "           ylabels=labels, main='Receptive Vocabulary', \n",
    "           xlim=(-10,10), rhat=False)"
   ]
  },
  {
   "cell_type": "code",
   "execution_count": 74,
   "metadata": {},
   "outputs": [
    {
     "name": "stderr",
     "output_type": "stream",
     "text": [
      "100%|██████████| 1000/1000 [00:07<00:00, 132.11it/s]\n"
     ]
    }
   ],
   "source": [
    "from pymc3 import sample_posterior_predictive\n",
    "\n",
    "with receptive_vocab_4:\n",
    "    \n",
    "    receptive_vocab_4_pred = sample_posterior_predictive(receptive_vocab_4_trace, samples=1000)"
   ]
  },
  {
   "cell_type": "code",
   "execution_count": 75,
   "metadata": {},
   "outputs": [
    {
     "data": {
      "text/plain": [
       "(array([127., 104., 109.,  83., 119., 106., 100.,  93.,  96.,  63.]),\n",
       " array([0. , 0.1, 0.2, 0.3, 0.4, 0.5, 0.6, 0.7, 0.8, 0.9, 1. ]),\n",
       " <a list of 10 Patch objects>)"
      ]
     },
     "execution_count": 75,
     "metadata": {},
     "output_type": "execute_result"
    },
    {
     "data": {
      "image/png": "[encoded data removed]",
      "text/plain": [
       "<Figure size 432x288 with 1 Axes>"
      ]
     },
     "metadata": {},
     "output_type": "display_data"
    }
   ],
   "source": [
    "from scipy.stats import percentileofscore\n",
    "\n",
    "plt.hist([np.round(percentileofscore(x, y)/100, 2) for x,y in zip(receptive_vocab_4_pred['score_like'], \n",
    "                                                        receptive_vocab_dataset.score)])"
   ]
  }
 ],
 "metadata": {
  "kernelspec": {
   "display_name": "Python 3",
   "language": "python",
   "name": "python3"
  },
  "language_info": {
   "codemirror_mode": {
    "name": "ipython",
    "version": 3
   },
   "file_extension": ".py",
   "mimetype": "text/x-python",
   "name": "python",
   "nbconvert_exporter": "python",
   "pygments_lexer": "ipython3",
   "version": "3.4.8"
  }
 },
 "nbformat": 4,
 "nbformat_minor": 2
}
