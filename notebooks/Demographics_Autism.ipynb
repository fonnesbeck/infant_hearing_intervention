{
 "cells": [
  {
   "cell_type": "code",
   "execution_count": 1,
   "metadata": {},
   "outputs": [],
   "source": [
    "# Import modules and set options\n",
    "%matplotlib inline\n",
    "import matplotlib.pyplot as plt\n",
    "import pandas as pd\n",
    "import numpy as np\n",
    "import seaborn as sns\n",
    "import pandas_profiling\n",
    "\n",
    "sns.set(context='notebook', style='ticks')"
   ]
  },
  {
   "cell_type": "code",
   "execution_count": 2,
   "metadata": {},
   "outputs": [],
   "source": [
    "lsl_dr = (pd.read_csv('../data/clean/lsl_dr.csv', index_col=0, low_memory=False)\n",
    "                  .rename({'onset_1':'identify_mo'}, axis=1))"
   ]
  },
  {
   "cell_type": "code",
   "execution_count": 3,
   "metadata": {},
   "outputs": [
    {
     "data": {
      "text/plain": [
       "(59537, 246)"
      ]
     },
     "execution_count": 3,
     "metadata": {},
     "output_type": "execute_result"
    }
   ],
   "source": [
    "lsl_dr.shape"
   ]
  },
  {
   "cell_type": "markdown",
   "metadata": {},
   "source": [
    "Exclusions"
   ]
  },
  {
   "cell_type": "code",
   "execution_count": 4,
   "metadata": {},
   "outputs": [],
   "source": [
    "other_etiology = (lsl_dr[['etiology_3___2', 'etiology_3___4', 'etiology_3___5', 'etiology_3___6', 'etiology_3___9',\n",
    "       'etiology_oth___1', 'etiology_oth___3', 'etiology_oth___4', 'etiology_oth___8', 'etiology_oth___9']]\n",
    "                      .sum(1).astype(bool))"
   ]
  },
  {
   "cell_type": "code",
   "execution_count": 5,
   "metadata": {},
   "outputs": [],
   "source": [
    "inclusion_mask = (~lsl_dr.non_english.astype(bool) \n",
    "                  & ((lsl_dr.autism==1)))"
   ]
  },
  {
   "cell_type": "code",
   "execution_count": 6,
   "metadata": {},
   "outputs": [
    {
     "data": {
      "text/plain": [
       "(63, 246)"
      ]
     },
     "execution_count": 6,
     "metadata": {},
     "output_type": "execute_result"
    }
   ],
   "source": [
    "autism_subset = lsl_dr[inclusion_mask]\n",
    "autism_subset.drop_duplicates(subset='study_id').shape"
   ]
  },
  {
   "cell_type": "markdown",
   "metadata": {},
   "source": [
    "## Demographics"
   ]
  },
  {
   "cell_type": "code",
   "execution_count": 7,
   "metadata": {},
   "outputs": [
    {
     "data": {
      "text/plain": [
       "Male      214\n",
       "Female     67\n",
       "Name: male, dtype: int64"
      ]
     },
     "execution_count": 7,
     "metadata": {},
     "output_type": "execute_result"
    }
   ],
   "source": [
    "autism_subset.male.replace({1: 'Male', 0: 'Female', np.nan: 'Missing'}).value_counts()"
   ]
  },
  {
   "cell_type": "code",
   "execution_count": 8,
   "metadata": {},
   "outputs": [
    {
     "data": {
      "text/plain": [
       "White       193\n",
       "Black        37\n",
       "Other        33\n",
       "Asian         8\n",
       "Missing       6\n",
       "Hispanic      4\n",
       "Name: race, dtype: int64"
      ]
     },
     "execution_count": 8,
     "metadata": {},
     "output_type": "execute_result"
    }
   ],
   "source": [
    "autism_subset.race.replace({0:'White', 1:'Black', 2:'Hispanic', 3:'Asian', 4:'Other', np.nan:'Missing'}).value_counts()"
   ]
  },
  {
   "cell_type": "code",
   "execution_count": 9,
   "metadata": {},
   "outputs": [
    {
     "data": {
      "text/plain": [
       ">=36 weeks    216\n",
       "<36 weeks      65\n",
       "Name: premature_age, dtype: int64"
      ]
     },
     "execution_count": 9,
     "metadata": {},
     "output_type": "execute_result"
    }
   ],
   "source": [
    "(autism_subset.premature_age.replace({9:None})==8).replace({True: '>=36 weeks', False: '<36 weeks', \n",
    "                                                            np.nan: 'Unknown'}).value_counts()"
   ]
  },
  {
   "cell_type": "code",
   "execution_count": 10,
   "metadata": {},
   "outputs": [
    {
     "data": {
      "text/plain": [
       "1           83\n",
       "2          112\n",
       "3           55\n",
       "4+           9\n",
       "Missing     22\n",
       "Name: sib, dtype: int64"
      ]
     },
     "execution_count": 10,
     "metadata": {},
     "output_type": "execute_result"
    }
   ],
   "source": [
    "autism_subset.sib.replace({0:'1', 1:'2', 2:'3', 3:'4+', np.nan:'Missing'}).value_counts().sort_index()"
   ]
  },
  {
   "cell_type": "code",
   "execution_count": 11,
   "metadata": {},
   "outputs": [
    {
     "data": {
      "text/plain": [
       "High school diploma/GED    126\n",
       "Unknown                     63\n",
       "Some college                54\n",
       "Some high school            38\n",
       "Name: mother_ed, dtype: int64"
      ]
     },
     "execution_count": 11,
     "metadata": {},
     "output_type": "execute_result"
    }
   ],
   "source": [
    "ed_lookup = {0:\"8th grade or less\",\n",
    "1:\"Some high school\",\n",
    "2:\"High school diploma/GED\",\n",
    "3:\"Some college\",\n",
    "4:\"Bachelor's degree\",\n",
    "5:\"Post graduate degree\",\n",
    "6:\"Unknown\",\n",
    "np.nan:\"Unknown\"}\n",
    "\n",
    "autism_subset.mother_ed.replace(ed_lookup).value_counts()"
   ]
  },
  {
   "cell_type": "code",
   "execution_count": 12,
   "metadata": {},
   "outputs": [
    {
     "data": {
      "text/plain": [
       "Bachelor's degree          80\n",
       "Unknown                    72\n",
       "Post graduate degree       61\n",
       "Some college               45\n",
       "High school diploma/GED    23\n",
       "Name: father_ed, dtype: int64"
      ]
     },
     "execution_count": 12,
     "metadata": {},
     "output_type": "execute_result"
    }
   ],
   "source": [
    "autism_subset.father_ed.replace(ed_lookup).value_counts()"
   ]
  },
  {
   "cell_type": "code",
   "execution_count": 13,
   "metadata": {},
   "outputs": [
    {
     "data": {
      "text/plain": [
       "Ideal Participation      115\n",
       "Average Participation     72\n",
       "Missing                   49\n",
       "Good Participation        37\n",
       "Below Average              8\n",
       "Name: family_inv, dtype: int64"
      ]
     },
     "execution_count": 13,
     "metadata": {},
     "output_type": "execute_result"
    }
   ],
   "source": [
    "family_lookup = {0:\"Ideal Participation\",\n",
    "1:\"Good Participation\",\n",
    "2:\"Average Participation\",\n",
    "3:\"Below Average\",\n",
    "4:\"Limited Participation\",\n",
    "np.nan:\"Missing\"}\n",
    "\n",
    "autism_subset.family_inv.replace(family_lookup).value_counts()"
   ]
  },
  {
   "cell_type": "code",
   "execution_count": 14,
   "metadata": {},
   "outputs": [
    {
     "data": {
      "text/html": [
       "<div>\n",
       "<style scoped>\n",
       "    .dataframe tbody tr th:only-of-type {\n",
       "        vertical-align: middle;\n",
       "    }\n",
       "\n",
       "    .dataframe tbody tr th {\n",
       "        vertical-align: top;\n",
       "    }\n",
       "\n",
       "    .dataframe thead th {\n",
       "        text-align: right;\n",
       "    }\n",
       "</style>\n",
       "<table border=\"1\" class=\"dataframe\">\n",
       "  <thead>\n",
       "    <tr style=\"text-align: right;\">\n",
       "      <th></th>\n",
       "      <th>age_diag</th>\n",
       "      <th>age_amp</th>\n",
       "      <th>age_int</th>\n",
       "      <th>age</th>\n",
       "    </tr>\n",
       "  </thead>\n",
       "  <tbody>\n",
       "    <tr>\n",
       "      <th>count</th>\n",
       "      <td>132.000000</td>\n",
       "      <td>127.000000</td>\n",
       "      <td>174.000000</td>\n",
       "      <td>278.000000</td>\n",
       "    </tr>\n",
       "    <tr>\n",
       "      <th>mean</th>\n",
       "      <td>16.159091</td>\n",
       "      <td>20.141732</td>\n",
       "      <td>25.448276</td>\n",
       "      <td>47.118705</td>\n",
       "    </tr>\n",
       "    <tr>\n",
       "      <th>std</th>\n",
       "      <td>18.793303</td>\n",
       "      <td>19.239396</td>\n",
       "      <td>20.429073</td>\n",
       "      <td>27.055437</td>\n",
       "    </tr>\n",
       "    <tr>\n",
       "      <th>min</th>\n",
       "      <td>0.000000</td>\n",
       "      <td>1.000000</td>\n",
       "      <td>1.000000</td>\n",
       "      <td>1.000000</td>\n",
       "    </tr>\n",
       "    <tr>\n",
       "      <th>25%</th>\n",
       "      <td>1.750000</td>\n",
       "      <td>3.000000</td>\n",
       "      <td>7.000000</td>\n",
       "      <td>30.000000</td>\n",
       "    </tr>\n",
       "    <tr>\n",
       "      <th>50%</th>\n",
       "      <td>10.000000</td>\n",
       "      <td>19.000000</td>\n",
       "      <td>24.000000</td>\n",
       "      <td>46.000000</td>\n",
       "    </tr>\n",
       "    <tr>\n",
       "      <th>75%</th>\n",
       "      <td>21.500000</td>\n",
       "      <td>28.000000</td>\n",
       "      <td>36.000000</td>\n",
       "      <td>65.000000</td>\n",
       "    </tr>\n",
       "    <tr>\n",
       "      <th>max</th>\n",
       "      <td>83.000000</td>\n",
       "      <td>83.000000</td>\n",
       "      <td>83.000000</td>\n",
       "      <td>141.000000</td>\n",
       "    </tr>\n",
       "  </tbody>\n",
       "</table>\n",
       "</div>"
      ],
      "text/plain": [
       "         age_diag     age_amp     age_int         age\n",
       "count  132.000000  127.000000  174.000000  278.000000\n",
       "mean    16.159091   20.141732   25.448276   47.118705\n",
       "std     18.793303   19.239396   20.429073   27.055437\n",
       "min      0.000000    1.000000    1.000000    1.000000\n",
       "25%      1.750000    3.000000    7.000000   30.000000\n",
       "50%     10.000000   19.000000   24.000000   46.000000\n",
       "75%     21.500000   28.000000   36.000000   65.000000\n",
       "max     83.000000   83.000000   83.000000  141.000000"
      ]
     },
     "execution_count": 14,
     "metadata": {},
     "output_type": "execute_result"
    }
   ],
   "source": [
    "autism_subset[[\"age_diag\", \"age_amp\", \"age_int\", \"age\"]].describe()"
   ]
  },
  {
   "cell_type": "code",
   "execution_count": 15,
   "metadata": {},
   "outputs": [
    {
     "data": {
      "text/plain": [
       "OPTION + outside    108\n",
       "OPTION only          79\n",
       "Missing               3\n",
       "Name: otherserv, dtype: int64"
      ]
     },
     "execution_count": 15,
     "metadata": {},
     "output_type": "execute_result"
    }
   ],
   "source": [
    "autism_subset.otherserv.replace({0: \"OPTION + outside\", 1: \"OPTION only\", 2: \"Missing\"}).value_counts()"
   ]
  },
  {
   "cell_type": "markdown",
   "metadata": {},
   "source": [
    "## Hearing loss"
   ]
  },
  {
   "cell_type": "code",
   "execution_count": 16,
   "metadata": {},
   "outputs": [
    {
     "data": {
      "text/plain": [
       "85"
      ]
     },
     "execution_count": 16,
     "metadata": {},
     "output_type": "execute_result"
    }
   ],
   "source": [
    "autism_subset.degree_hl_ad.isnull().sum()"
   ]
  },
  {
   "cell_type": "code",
   "execution_count": 17,
   "metadata": {},
   "outputs": [
    {
     "data": {
      "text/plain": [
       "85"
      ]
     },
     "execution_count": 17,
     "metadata": {},
     "output_type": "execute_result"
    }
   ],
   "source": [
    "autism_subset.degree_hl_as.isnull().sum()"
   ]
  },
  {
   "cell_type": "code",
   "execution_count": 18,
   "metadata": {},
   "outputs": [
    {
     "data": {
      "text/plain": [
       "6.0    73\n",
       "0.0    64\n",
       "3.0    23\n",
       "5.0    14\n",
       "4.0    13\n",
       "1.0     6\n",
       "2.0     3\n",
       "Name: degree_hl_ad, dtype: int64"
      ]
     },
     "execution_count": 18,
     "metadata": {},
     "output_type": "execute_result"
    }
   ],
   "source": [
    "autism_subset.degree_hl_ad.value_counts()"
   ]
  },
  {
   "cell_type": "code",
   "execution_count": 19,
   "metadata": {},
   "outputs": [
    {
     "data": {
      "text/plain": [
       "0.0    73\n",
       "6.0    66\n",
       "3.0    20\n",
       "5.0    19\n",
       "2.0    16\n",
       "4.0     2\n",
       "Name: degree_hl_as, dtype: int64"
      ]
     },
     "execution_count": 19,
     "metadata": {},
     "output_type": "execute_result"
    }
   ],
   "source": [
    "autism_subset.degree_hl_as.value_counts()"
   ]
  },
  {
   "cell_type": "code",
   "execution_count": 20,
   "metadata": {},
   "outputs": [],
   "source": [
    "hl_data = autism_subset.set_index('study_id')[['bilateral_snhl',\n",
    "                     'bilateral_ansd',\n",
    "                     'bilateral_mixed',\n",
    "                     'bilateral_cond',\n",
    "                     'bilateral_normal',\n",
    "                     'bilateral_unk',\n",
    "                     'unilateral_snhl',\n",
    "                     'unilateral_ansd',\n",
    "                     'unilateral_mixed',\n",
    "                     'unilateral_cond',\n",
    "                     'unilateral_unk',\n",
    "                     'assymetrical']]"
   ]
  },
  {
   "cell_type": "markdown",
   "metadata": {},
   "source": [
    "One or both parents with hearing loss"
   ]
  },
  {
   "cell_type": "code",
   "execution_count": 21,
   "metadata": {},
   "outputs": [
    {
     "data": {
      "text/plain": [
       "0.0    232\n",
       "1.0     12\n",
       "Name: one_or_both_parent_hl, dtype: int64"
      ]
     },
     "execution_count": 21,
     "metadata": {},
     "output_type": "execute_result"
    }
   ],
   "source": [
    "autism_subset.one_or_both_parent_hl.value_counts()"
   ]
  },
  {
   "cell_type": "code",
   "execution_count": 22,
   "metadata": {},
   "outputs": [
    {
     "data": {
      "text/plain": [
       "37"
      ]
     },
     "execution_count": 22,
     "metadata": {},
     "output_type": "execute_result"
    }
   ],
   "source": [
    "autism_subset.one_or_both_parent_hl.isnull().sum()"
   ]
  },
  {
   "cell_type": "markdown",
   "metadata": {},
   "source": [
    "Individuals with no hearing loss type"
   ]
  },
  {
   "cell_type": "code",
   "execution_count": 23,
   "metadata": {},
   "outputs": [
    {
     "data": {
      "text/plain": [
       "array(['0416-2012-8486', '0416-2012-8486', '0416-2012-8486',\n",
       "       '0416-2012-8486', '0416-2012-8486', '0416-2012-8486',\n",
       "       '0735-2011-0006', '0735-2011-0006', '0735-2011-0006',\n",
       "       '0735-2011-0006', '0735-2011-0006', '0411-2013-0004',\n",
       "       '0411-2013-0004', '0411-2013-0004', '0411-2012-0035',\n",
       "       '0411-2012-0035', '0411-2012-0035', '0411-2013-0006',\n",
       "       '0411-2013-0006', '0411-2013-0006', '0411-2012-0017',\n",
       "       '0411-2012-0017', '0414-2017-0023', '0414-2017-0023',\n",
       "       '0414-2017-0023', '0414-2017-0023', '0414-2017-0023',\n",
       "       '0414-2017-0020', '0414-2017-0020', '0414-2017-0020',\n",
       "       '0414-2017-0020', '0414-2017-0020', '0411-2014-0038',\n",
       "       '0411-2014-0038', '0411-2014-0038', '0411-2012-0006',\n",
       "       '0411-2012-0006', '0411-2012-0006', '0411-2010-0030',\n",
       "       '0411-2010-0030', '0411-2010-0030', '0414-2013-0293',\n",
       "       '0414-2013-0293', '0414-2013-0293', '0414-2013-0293',\n",
       "       '0414-2013-0293', '0414-2013-0293', '0411-2010-0017',\n",
       "       '0411-2010-0017', '0414-2013-0295', '0414-2013-0295',\n",
       "       '0414-2013-0295', '0414-2013-0295', '0414-2013-0295',\n",
       "       '0414-2013-0295', '0414-2013-0273', '0414-2013-0273',\n",
       "       '0414-2013-0273', '0414-2013-0281', '0414-2013-0281',\n",
       "       '0414-2013-0281', '0414-2013-0281', '0414-2013-0281',\n",
       "       '0414-2013-0281', '0414-2014-0282', '0414-2014-0282',\n",
       "       '0414-2014-0282', '0414-2014-0282', '0414-2014-0282',\n",
       "       '0414-2014-0282', '0414-2014-0285', '0414-2014-0285',\n",
       "       '0414-2014-0285', '0411-2011-0035', '0411-2011-0035',\n",
       "       '0411-2011-0035', '0411-2011-0012', '0411-2011-0012',\n",
       "       '0411-2011-0012', '0414-2014-0267', '0414-2014-0267',\n",
       "       '0414-2014-0267', '0414-2014-0267', '0414-2014-0267',\n",
       "       '0414-2014-0267'], dtype=object)"
      ]
     },
     "execution_count": 23,
     "metadata": {},
     "output_type": "execute_result"
    }
   ],
   "source": [
    "hl_data[hl_data.sum(1)==0].index.values"
   ]
  },
  {
   "cell_type": "code",
   "execution_count": 24,
   "metadata": {},
   "outputs": [
    {
     "data": {
      "text/plain": [
       "bilateral_snhl      119\n",
       "bilateral_normal     64\n",
       "unilateral_snhl       6\n",
       "unilateral_mixed      3\n",
       "assymetrical          2\n",
       "bilateral_mixed       2\n",
       "unilateral_unk        0\n",
       "unilateral_cond       0\n",
       "unilateral_ansd       0\n",
       "bilateral_unk         0\n",
       "bilateral_cond        0\n",
       "bilateral_ansd        0\n",
       "dtype: int64"
      ]
     },
     "execution_count": 24,
     "metadata": {},
     "output_type": "execute_result"
    }
   ],
   "source": [
    "hl_data.sum().astype(int).sort_values(ascending=False)"
   ]
  },
  {
   "cell_type": "code",
   "execution_count": 25,
   "metadata": {},
   "outputs": [
    {
     "data": {
      "text/plain": [
       "bilateral_snhl      0.42\n",
       "bilateral_normal    0.23\n",
       "unilateral_snhl     0.02\n",
       "assymetrical        0.01\n",
       "unilateral_mixed    0.01\n",
       "bilateral_mixed     0.01\n",
       "unilateral_unk      0.00\n",
       "unilateral_cond     0.00\n",
       "unilateral_ansd     0.00\n",
       "bilateral_unk       0.00\n",
       "bilateral_cond      0.00\n",
       "bilateral_ansd      0.00\n",
       "dtype: float64"
      ]
     },
     "execution_count": 25,
     "metadata": {},
     "output_type": "execute_result"
    }
   ],
   "source": [
    "hl_data.mean().round(2).sort_values(ascending=False)"
   ]
  },
  {
   "cell_type": "code",
   "execution_count": 26,
   "metadata": {},
   "outputs": [],
   "source": [
    "tech_data = autism_subset.set_index('study_id')[['bilateral_ha',\n",
    "                     'bilateral_ci',\n",
    "                     'bimodal',\n",
    "                     'bilateral_other',\n",
    "                     'unilateral_ha',\n",
    "                     'unilateral_ci',\n",
    "                     'unilateral_other']]"
   ]
  },
  {
   "cell_type": "code",
   "execution_count": 27,
   "metadata": {},
   "outputs": [
    {
     "data": {
      "text/plain": [
       "bilateral_ci        181\n",
       "bilateral_ha         18\n",
       "unilateral_ci        14\n",
       "bimodal               4\n",
       "unilateral_other      0\n",
       "unilateral_ha         0\n",
       "bilateral_other       0\n",
       "dtype: int64"
      ]
     },
     "execution_count": 27,
     "metadata": {},
     "output_type": "execute_result"
    }
   ],
   "source": [
    "tech_data.sum().astype(int).sort_values(ascending=False)"
   ]
  },
  {
   "cell_type": "code",
   "execution_count": 28,
   "metadata": {},
   "outputs": [
    {
     "data": {
      "text/plain": [
       "bilateral_ci        0.64\n",
       "bilateral_ha        0.06\n",
       "unilateral_ci       0.05\n",
       "bimodal             0.01\n",
       "unilateral_other    0.00\n",
       "unilateral_ha       0.00\n",
       "bilateral_other     0.00\n",
       "dtype: float64"
      ]
     },
     "execution_count": 28,
     "metadata": {},
     "output_type": "execute_result"
    }
   ],
   "source": [
    "tech_data.mean().round(2).sort_values(ascending=False)"
   ]
  },
  {
   "cell_type": "markdown",
   "metadata": {},
   "source": [
    "Individuals with no technology type"
   ]
  },
  {
   "cell_type": "code",
   "execution_count": 29,
   "metadata": {},
   "outputs": [
    {
     "data": {
      "text/plain": [
       "array(['0414-2011-0180', '0414-2011-0180', '0414-2011-0180',\n",
       "       '0414-2011-0180', '0414-2011-0178', '0414-2011-0178',\n",
       "       '0414-2011-0178', '0414-2011-0178', '0414-2011-0178',\n",
       "       '0414-2011-0178', '0414-2009-0056', '0414-2009-0056',\n",
       "       '0414-2009-0056', '0414-2009-0056', '0414-2009-0056',\n",
       "       '0414-2009-0056', '0414-2009-0079', '0414-2009-0079',\n",
       "       '0414-2009-0079', '0414-2009-0079', '0414-2009-0079',\n",
       "       '0414-2009-0079', '0414-2012-0228', '0414-2012-0228',\n",
       "       '0414-2012-0228', '0414-2012-0228', '0414-2012-0228',\n",
       "       '0414-2012-0228', '0414-2012-0229', '0414-2012-0229',\n",
       "       '0414-2012-0229', '0414-2012-0229', '0414-2012-0229',\n",
       "       '0414-2012-0229', '0414-2009-0041', '0414-2009-0041',\n",
       "       '0414-2009-0041', '0414-2009-0041', '0414-2009-0041',\n",
       "       '0414-2009-0041', '0414-2010-0055', '0414-2010-0055',\n",
       "       '0414-2010-0055', '0414-2010-0055', '0414-2010-0055',\n",
       "       '0414-2010-0055', '0414-2011-0154', '0414-2011-0154',\n",
       "       '0414-2011-0154', '0414-2011-0154', '0414-2011-0154',\n",
       "       '0414-2011-0154', '0414-2011-0153', '0414-2011-0153',\n",
       "       '0414-2011-0153', '0414-2011-0153', '0414-2011-0153',\n",
       "       '0414-2011-0153', '0414-2011-0155', '0414-2011-0155',\n",
       "       '0414-2011-0155', '0414-2011-0155', '0414-2011-0155',\n",
       "       '0414-2011-0155'], dtype=object)"
      ]
     },
     "execution_count": 29,
     "metadata": {},
     "output_type": "execute_result"
    }
   ],
   "source": [
    "tech_data[tech_data.sum(1)==0].index.values"
   ]
  },
  {
   "cell_type": "markdown",
   "metadata": {},
   "source": [
    "## Hearing Loss"
   ]
  },
  {
   "cell_type": "code",
   "execution_count": 30,
   "metadata": {},
   "outputs": [
    {
     "data": {
      "text/plain": [
       "Index(['degree_hl_ad', 'type_hl_ad', 'degree_hl_as', 'type_hl_as',\n",
       "       'bilateral_hl_normal', 'bilateral_hl_slight', 'bilateral_hl_mild',\n",
       "       'bilateral_hl_moderate', 'bilateral_hl_modsev', 'bilateral_hl_severe',\n",
       "       'bilateral_hl_profound', 'unilateral_hl_slight', 'unilateral_hl_mild',\n",
       "       'unilateral_hl_moderate', 'unilateral_hl_modsev',\n",
       "       'unilateral_hl_severe', 'unilateral_hl_profound'],\n",
       "      dtype='object')"
      ]
     },
     "execution_count": 30,
     "metadata": {},
     "output_type": "execute_result"
    }
   ],
   "source": [
    "autism_subset.columns[autism_subset.columns.str.contains('_hl_')]"
   ]
  },
  {
   "cell_type": "code",
   "execution_count": 31,
   "metadata": {},
   "outputs": [],
   "source": [
    "hl_data = autism_subset.set_index('study_id')[['bilateral_hl_normal', 'bilateral_hl_slight', 'bilateral_hl_mild',\n",
    "       'bilateral_hl_moderate', 'bilateral_hl_modsev', 'bilateral_hl_severe',\n",
    "       'bilateral_hl_profound', 'unilateral_hl_slight', 'unilateral_hl_mild',\n",
    "       'unilateral_hl_moderate', 'unilateral_hl_modsev',\n",
    "       'unilateral_hl_severe', 'unilateral_hl_profound']]"
   ]
  },
  {
   "cell_type": "code",
   "execution_count": 32,
   "metadata": {},
   "outputs": [
    {
     "data": {
      "text/plain": [
       "bilateral_hl_normal       64\n",
       "bilateral_hl_profound     63\n",
       "bilateral_hl_severe       14\n",
       "bilateral_hl_moderate     14\n",
       "unilateral_hl_modsev       9\n",
       "bilateral_hl_mild          3\n",
       "unilateral_hl_profound     0\n",
       "unilateral_hl_severe       0\n",
       "unilateral_hl_moderate     0\n",
       "unilateral_hl_mild         0\n",
       "unilateral_hl_slight       0\n",
       "bilateral_hl_modsev        0\n",
       "bilateral_hl_slight        0\n",
       "dtype: int64"
      ]
     },
     "execution_count": 32,
     "metadata": {},
     "output_type": "execute_result"
    }
   ],
   "source": [
    "hl_data.sum().astype(int).sort_values(ascending=False)"
   ]
  },
  {
   "cell_type": "code",
   "execution_count": 33,
   "metadata": {},
   "outputs": [
    {
     "data": {
      "text/plain": [
       "bilateral_hl_normal       0.23\n",
       "bilateral_hl_profound     0.22\n",
       "bilateral_hl_severe       0.05\n",
       "bilateral_hl_moderate     0.05\n",
       "unilateral_hl_modsev      0.03\n",
       "bilateral_hl_mild         0.01\n",
       "unilateral_hl_profound    0.00\n",
       "unilateral_hl_severe      0.00\n",
       "unilateral_hl_moderate    0.00\n",
       "unilateral_hl_mild        0.00\n",
       "unilateral_hl_slight      0.00\n",
       "bilateral_hl_modsev       0.00\n",
       "bilateral_hl_slight       0.00\n",
       "dtype: float64"
      ]
     },
     "execution_count": 33,
     "metadata": {},
     "output_type": "execute_result"
    }
   ],
   "source": [
    "hl_data.mean().round(2).sort_values(ascending=False)"
   ]
  },
  {
   "cell_type": "markdown",
   "metadata": {},
   "source": [
    "Missing one or both hearing loss values (left/right)"
   ]
  },
  {
   "cell_type": "code",
   "execution_count": 34,
   "metadata": {},
   "outputs": [
    {
     "data": {
      "text/plain": [
       "85"
      ]
     },
     "execution_count": 34,
     "metadata": {},
     "output_type": "execute_result"
    }
   ],
   "source": [
    "(autism_subset[['degree_hl_ad', 'degree_hl_as']].isnull().sum(1) > 0).sum()"
   ]
  },
  {
   "cell_type": "markdown",
   "metadata": {},
   "source": [
    "## Summary of scores by domain"
   ]
  },
  {
   "cell_type": "code",
   "execution_count": 35,
   "metadata": {},
   "outputs": [],
   "source": [
    "test_scores = lsl_dr[inclusion_mask].copy()"
   ]
  },
  {
   "cell_type": "code",
   "execution_count": 36,
   "metadata": {},
   "outputs": [],
   "source": [
    "test_scores.loc[(test_scores.domain=='Language') & (test_scores.test_type=='receptive'), \n",
    "           'domain'] = 'Receptive Language'\n",
    "test_scores.loc[(test_scores.domain=='Language') & (test_scores.test_type=='expressive'), \n",
    "           'domain'] = 'Expressive Language'"
   ]
  },
  {
   "cell_type": "code",
   "execution_count": 37,
   "metadata": {},
   "outputs": [
    {
     "data": {
      "text/html": [
       "<div>\n",
       "<style scoped>\n",
       "    .dataframe tbody tr th:only-of-type {\n",
       "        vertical-align: middle;\n",
       "    }\n",
       "\n",
       "    .dataframe tbody tr th {\n",
       "        vertical-align: top;\n",
       "    }\n",
       "\n",
       "    .dataframe thead th {\n",
       "        text-align: right;\n",
       "    }\n",
       "</style>\n",
       "<table border=\"1\" class=\"dataframe\">\n",
       "  <thead>\n",
       "    <tr style=\"text-align: right;\">\n",
       "      <th></th>\n",
       "      <th>count</th>\n",
       "      <th>mean</th>\n",
       "      <th>std</th>\n",
       "      <th>min</th>\n",
       "      <th>25%</th>\n",
       "      <th>50%</th>\n",
       "      <th>75%</th>\n",
       "      <th>max</th>\n",
       "    </tr>\n",
       "    <tr>\n",
       "      <th>domain</th>\n",
       "      <th></th>\n",
       "      <th></th>\n",
       "      <th></th>\n",
       "      <th></th>\n",
       "      <th></th>\n",
       "      <th></th>\n",
       "      <th></th>\n",
       "      <th></th>\n",
       "    </tr>\n",
       "  </thead>\n",
       "  <tbody>\n",
       "    <tr>\n",
       "      <th>Articulation</th>\n",
       "      <td>33.0</td>\n",
       "      <td>78.9</td>\n",
       "      <td>22.0</td>\n",
       "      <td>39.0</td>\n",
       "      <td>59.0</td>\n",
       "      <td>83.0</td>\n",
       "      <td>97.0</td>\n",
       "      <td>110.0</td>\n",
       "    </tr>\n",
       "    <tr>\n",
       "      <th>Expressive Language</th>\n",
       "      <td>49.0</td>\n",
       "      <td>69.8</td>\n",
       "      <td>18.4</td>\n",
       "      <td>42.0</td>\n",
       "      <td>57.0</td>\n",
       "      <td>65.0</td>\n",
       "      <td>80.0</td>\n",
       "      <td>115.0</td>\n",
       "    </tr>\n",
       "    <tr>\n",
       "      <th>Expressive Vocabulary</th>\n",
       "      <td>50.0</td>\n",
       "      <td>82.1</td>\n",
       "      <td>20.7</td>\n",
       "      <td>20.0</td>\n",
       "      <td>71.0</td>\n",
       "      <td>80.5</td>\n",
       "      <td>98.0</td>\n",
       "      <td>125.0</td>\n",
       "    </tr>\n",
       "    <tr>\n",
       "      <th>Language</th>\n",
       "      <td>48.0</td>\n",
       "      <td>68.6</td>\n",
       "      <td>20.1</td>\n",
       "      <td>42.0</td>\n",
       "      <td>53.8</td>\n",
       "      <td>63.0</td>\n",
       "      <td>79.2</td>\n",
       "      <td>129.0</td>\n",
       "    </tr>\n",
       "    <tr>\n",
       "      <th>Receptive Language</th>\n",
       "      <td>49.0</td>\n",
       "      <td>71.7</td>\n",
       "      <td>20.1</td>\n",
       "      <td>46.0</td>\n",
       "      <td>57.0</td>\n",
       "      <td>69.0</td>\n",
       "      <td>79.0</td>\n",
       "      <td>140.0</td>\n",
       "    </tr>\n",
       "    <tr>\n",
       "      <th>Receptive Vocabulary</th>\n",
       "      <td>52.0</td>\n",
       "      <td>81.7</td>\n",
       "      <td>20.9</td>\n",
       "      <td>34.0</td>\n",
       "      <td>70.0</td>\n",
       "      <td>80.0</td>\n",
       "      <td>93.2</td>\n",
       "      <td>141.0</td>\n",
       "    </tr>\n",
       "  </tbody>\n",
       "</table>\n",
       "</div>"
      ],
      "text/plain": [
       "                       count  mean   std   min   25%   50%   75%    max\n",
       "domain                                                                 \n",
       "Articulation            33.0  78.9  22.0  39.0  59.0  83.0  97.0  110.0\n",
       "Expressive Language     49.0  69.8  18.4  42.0  57.0  65.0  80.0  115.0\n",
       "Expressive Vocabulary   50.0  82.1  20.7  20.0  71.0  80.5  98.0  125.0\n",
       "Language                48.0  68.6  20.1  42.0  53.8  63.0  79.2  129.0\n",
       "Receptive Language      49.0  71.7  20.1  46.0  57.0  69.0  79.0  140.0\n",
       "Receptive Vocabulary    52.0  81.7  20.9  34.0  70.0  80.0  93.2  141.0"
      ]
     },
     "execution_count": 37,
     "metadata": {},
     "output_type": "execute_result"
    }
   ],
   "source": [
    "test_scores.groupby('domain').score.describe().round(1)"
   ]
  },
  {
   "cell_type": "code",
   "execution_count": 38,
   "metadata": {},
   "outputs": [
    {
     "data": {
      "text/plain": [
       "array(['Expressive Vocabulary', 'Receptive Vocabulary',\n",
       "       'Receptive Language', 'Expressive Language', 'Language',\n",
       "       'Articulation'], dtype=object)"
      ]
     },
     "execution_count": 38,
     "metadata": {},
     "output_type": "execute_result"
    }
   ],
   "source": [
    "test_scores.domain.unique()"
   ]
  },
  {
   "cell_type": "code",
   "execution_count": 39,
   "metadata": {},
   "outputs": [],
   "source": [
    "test_scores['domain_labels'] = test_scores.domain.replace({'Expressive Vocabulary': 'Expressive\\nVocabulary', \n",
    "                                                           'Receptive Vocabulary': 'Receptive\\nVocabulary',\n",
    "                                                           'Receptive Language': 'Receptive\\nLanguage', \n",
    "                                                           'Expressive Language': 'Expressive\\nLanguage', \n",
    "                                                           'Language': 'Total\\nLanguage'})"
   ]
  },
  {
   "cell_type": "code",
   "execution_count": 40,
   "metadata": {},
   "outputs": [
    {
     "data": {
      "image/png": "[encoded data removed]",
      "text/plain": [
       "<Figure size 864x360 with 1 Axes>"
      ]
     },
     "metadata": {
      "needs_background": "light"
     },
     "output_type": "display_data"
    }
   ],
   "source": [
    "sns.catplot(\"domain_labels\", y=\"score\", data=test_scores, kind=\"box\", color='white', fliersize=0)\n",
    "sns.swarmplot(\"domain_labels\", y=\"score\", data=test_scores, color='grey')\n",
    "fig = plt.gcf()\n",
    "fig.set_size_inches(12, 5)\n",
    "fig.axes[0].set_xlabel('');"
   ]
  },
  {
   "cell_type": "markdown",
   "metadata": {},
   "source": [
    "## Domain-specific summaries\n",
    "\n",
    "Age of amplification greater than 6mo."
   ]
  },
  {
   "cell_type": "code",
   "execution_count": 41,
   "metadata": {},
   "outputs": [
    {
     "data": {
      "text/html": [
       "<div>\n",
       "<style scoped>\n",
       "    .dataframe tbody tr th:only-of-type {\n",
       "        vertical-align: middle;\n",
       "    }\n",
       "\n",
       "    .dataframe tbody tr th {\n",
       "        vertical-align: top;\n",
       "    }\n",
       "\n",
       "    .dataframe thead th {\n",
       "        text-align: right;\n",
       "    }\n",
       "</style>\n",
       "<table border=\"1\" class=\"dataframe\">\n",
       "  <thead>\n",
       "    <tr style=\"text-align: right;\">\n",
       "      <th></th>\n",
       "      <th></th>\n",
       "      <th>count</th>\n",
       "      <th>mean</th>\n",
       "      <th>std</th>\n",
       "      <th>min</th>\n",
       "      <th>25%</th>\n",
       "      <th>50%</th>\n",
       "      <th>75%</th>\n",
       "      <th>max</th>\n",
       "    </tr>\n",
       "    <tr>\n",
       "      <th>domain</th>\n",
       "      <th>age_amp_greater_6</th>\n",
       "      <th></th>\n",
       "      <th></th>\n",
       "      <th></th>\n",
       "      <th></th>\n",
       "      <th></th>\n",
       "      <th></th>\n",
       "      <th></th>\n",
       "      <th></th>\n",
       "    </tr>\n",
       "  </thead>\n",
       "  <tbody>\n",
       "    <tr>\n",
       "      <th rowspan=\"2\" valign=\"top\">Articulation</th>\n",
       "      <th>False</th>\n",
       "      <td>27.0</td>\n",
       "      <td>78.481481</td>\n",
       "      <td>23.542711</td>\n",
       "      <td>39.0</td>\n",
       "      <td>56.50</td>\n",
       "      <td>83.0</td>\n",
       "      <td>98.00</td>\n",
       "      <td>110.0</td>\n",
       "    </tr>\n",
       "    <tr>\n",
       "      <th>True</th>\n",
       "      <td>6.0</td>\n",
       "      <td>80.833333</td>\n",
       "      <td>14.330620</td>\n",
       "      <td>58.0</td>\n",
       "      <td>77.25</td>\n",
       "      <td>81.5</td>\n",
       "      <td>85.00</td>\n",
       "      <td>102.0</td>\n",
       "    </tr>\n",
       "    <tr>\n",
       "      <th rowspan=\"2\" valign=\"top\">Expressive Language</th>\n",
       "      <th>False</th>\n",
       "      <td>33.0</td>\n",
       "      <td>72.393939</td>\n",
       "      <td>19.184856</td>\n",
       "      <td>42.0</td>\n",
       "      <td>59.00</td>\n",
       "      <td>67.0</td>\n",
       "      <td>83.00</td>\n",
       "      <td>115.0</td>\n",
       "    </tr>\n",
       "    <tr>\n",
       "      <th>True</th>\n",
       "      <td>16.0</td>\n",
       "      <td>64.562500</td>\n",
       "      <td>15.953970</td>\n",
       "      <td>50.0</td>\n",
       "      <td>54.25</td>\n",
       "      <td>63.0</td>\n",
       "      <td>66.75</td>\n",
       "      <td>112.0</td>\n",
       "    </tr>\n",
       "    <tr>\n",
       "      <th rowspan=\"2\" valign=\"top\">Expressive Vocabulary</th>\n",
       "      <th>False</th>\n",
       "      <td>37.0</td>\n",
       "      <td>83.594595</td>\n",
       "      <td>19.372746</td>\n",
       "      <td>30.0</td>\n",
       "      <td>73.00</td>\n",
       "      <td>81.0</td>\n",
       "      <td>98.00</td>\n",
       "      <td>125.0</td>\n",
       "    </tr>\n",
       "    <tr>\n",
       "      <th>True</th>\n",
       "      <td>13.0</td>\n",
       "      <td>77.923077</td>\n",
       "      <td>24.339479</td>\n",
       "      <td>20.0</td>\n",
       "      <td>70.00</td>\n",
       "      <td>80.0</td>\n",
       "      <td>95.00</td>\n",
       "      <td>110.0</td>\n",
       "    </tr>\n",
       "    <tr>\n",
       "      <th rowspan=\"2\" valign=\"top\">Language</th>\n",
       "      <th>False</th>\n",
       "      <td>33.0</td>\n",
       "      <td>71.121212</td>\n",
       "      <td>21.190737</td>\n",
       "      <td>42.0</td>\n",
       "      <td>55.00</td>\n",
       "      <td>72.0</td>\n",
       "      <td>84.00</td>\n",
       "      <td>129.0</td>\n",
       "    </tr>\n",
       "    <tr>\n",
       "      <th>True</th>\n",
       "      <td>15.0</td>\n",
       "      <td>62.933333</td>\n",
       "      <td>16.718111</td>\n",
       "      <td>45.0</td>\n",
       "      <td>52.00</td>\n",
       "      <td>59.0</td>\n",
       "      <td>67.00</td>\n",
       "      <td>113.0</td>\n",
       "    </tr>\n",
       "    <tr>\n",
       "      <th rowspan=\"2\" valign=\"top\">Receptive Language</th>\n",
       "      <th>False</th>\n",
       "      <td>33.0</td>\n",
       "      <td>74.303030</td>\n",
       "      <td>22.282960</td>\n",
       "      <td>47.0</td>\n",
       "      <td>57.00</td>\n",
       "      <td>72.0</td>\n",
       "      <td>87.00</td>\n",
       "      <td>140.0</td>\n",
       "    </tr>\n",
       "    <tr>\n",
       "      <th>True</th>\n",
       "      <td>16.0</td>\n",
       "      <td>66.375000</td>\n",
       "      <td>13.559130</td>\n",
       "      <td>46.0</td>\n",
       "      <td>56.25</td>\n",
       "      <td>65.0</td>\n",
       "      <td>74.00</td>\n",
       "      <td>100.0</td>\n",
       "    </tr>\n",
       "    <tr>\n",
       "      <th rowspan=\"2\" valign=\"top\">Receptive Vocabulary</th>\n",
       "      <th>False</th>\n",
       "      <td>38.0</td>\n",
       "      <td>83.526316</td>\n",
       "      <td>21.022172</td>\n",
       "      <td>44.0</td>\n",
       "      <td>71.25</td>\n",
       "      <td>80.5</td>\n",
       "      <td>93.75</td>\n",
       "      <td>141.0</td>\n",
       "    </tr>\n",
       "    <tr>\n",
       "      <th>True</th>\n",
       "      <td>14.0</td>\n",
       "      <td>76.642857</td>\n",
       "      <td>20.447333</td>\n",
       "      <td>34.0</td>\n",
       "      <td>67.75</td>\n",
       "      <td>77.5</td>\n",
       "      <td>86.75</td>\n",
       "      <td>107.0</td>\n",
       "    </tr>\n",
       "  </tbody>\n",
       "</table>\n",
       "</div>"
      ],
      "text/plain": [
       "                                         count       mean        std   min  \\\n",
       "domain                age_amp_greater_6                                      \n",
       "Articulation          False               27.0  78.481481  23.542711  39.0   \n",
       "                      True                 6.0  80.833333  14.330620  58.0   \n",
       "Expressive Language   False               33.0  72.393939  19.184856  42.0   \n",
       "                      True                16.0  64.562500  15.953970  50.0   \n",
       "Expressive Vocabulary False               37.0  83.594595  19.372746  30.0   \n",
       "                      True                13.0  77.923077  24.339479  20.0   \n",
       "Language              False               33.0  71.121212  21.190737  42.0   \n",
       "                      True                15.0  62.933333  16.718111  45.0   \n",
       "Receptive Language    False               33.0  74.303030  22.282960  47.0   \n",
       "                      True                16.0  66.375000  13.559130  46.0   \n",
       "Receptive Vocabulary  False               38.0  83.526316  21.022172  44.0   \n",
       "                      True                14.0  76.642857  20.447333  34.0   \n",
       "\n",
       "                                           25%   50%    75%    max  \n",
       "domain                age_amp_greater_6                             \n",
       "Articulation          False              56.50  83.0  98.00  110.0  \n",
       "                      True               77.25  81.5  85.00  102.0  \n",
       "Expressive Language   False              59.00  67.0  83.00  115.0  \n",
       "                      True               54.25  63.0  66.75  112.0  \n",
       "Expressive Vocabulary False              73.00  81.0  98.00  125.0  \n",
       "                      True               70.00  80.0  95.00  110.0  \n",
       "Language              False              55.00  72.0  84.00  129.0  \n",
       "                      True               52.00  59.0  67.00  113.0  \n",
       "Receptive Language    False              57.00  72.0  87.00  140.0  \n",
       "                      True               56.25  65.0  74.00  100.0  \n",
       "Receptive Vocabulary  False              71.25  80.5  93.75  141.0  \n",
       "                      True               67.75  77.5  86.75  107.0  "
      ]
     },
     "execution_count": 41,
     "metadata": {},
     "output_type": "execute_result"
    }
   ],
   "source": [
    "(test_scores.assign(age_amp_greater_6=test_scores.age_amp>6)\n",
    "         .groupby(['domain', 'age_amp_greater_6'])\n",
    "         .score.describe())"
   ]
  },
  {
   "cell_type": "markdown",
   "metadata": {},
   "source": [
    "Age of enrollment greater than 6mo."
   ]
  },
  {
   "cell_type": "code",
   "execution_count": 42,
   "metadata": {},
   "outputs": [
    {
     "data": {
      "text/html": [
       "<div>\n",
       "<style scoped>\n",
       "    .dataframe tbody tr th:only-of-type {\n",
       "        vertical-align: middle;\n",
       "    }\n",
       "\n",
       "    .dataframe tbody tr th {\n",
       "        vertical-align: top;\n",
       "    }\n",
       "\n",
       "    .dataframe thead th {\n",
       "        text-align: right;\n",
       "    }\n",
       "</style>\n",
       "<table border=\"1\" class=\"dataframe\">\n",
       "  <thead>\n",
       "    <tr style=\"text-align: right;\">\n",
       "      <th></th>\n",
       "      <th></th>\n",
       "      <th>count</th>\n",
       "      <th>mean</th>\n",
       "      <th>std</th>\n",
       "      <th>min</th>\n",
       "      <th>25%</th>\n",
       "      <th>50%</th>\n",
       "      <th>75%</th>\n",
       "      <th>max</th>\n",
       "    </tr>\n",
       "    <tr>\n",
       "      <th>domain</th>\n",
       "      <th>age_enroll_greater_6</th>\n",
       "      <th></th>\n",
       "      <th></th>\n",
       "      <th></th>\n",
       "      <th></th>\n",
       "      <th></th>\n",
       "      <th></th>\n",
       "      <th></th>\n",
       "      <th></th>\n",
       "    </tr>\n",
       "  </thead>\n",
       "  <tbody>\n",
       "    <tr>\n",
       "      <th rowspan=\"2\" valign=\"top\">Articulation</th>\n",
       "      <th>False</th>\n",
       "      <td>18.0</td>\n",
       "      <td>74.500000</td>\n",
       "      <td>20.382374</td>\n",
       "      <td>39.0</td>\n",
       "      <td>61.75</td>\n",
       "      <td>75.5</td>\n",
       "      <td>90.0</td>\n",
       "      <td>107.0</td>\n",
       "    </tr>\n",
       "    <tr>\n",
       "      <th>True</th>\n",
       "      <td>15.0</td>\n",
       "      <td>84.200000</td>\n",
       "      <td>23.348906</td>\n",
       "      <td>40.0</td>\n",
       "      <td>67.50</td>\n",
       "      <td>91.0</td>\n",
       "      <td>103.0</td>\n",
       "      <td>110.0</td>\n",
       "    </tr>\n",
       "    <tr>\n",
       "      <th rowspan=\"2\" valign=\"top\">Expressive Language</th>\n",
       "      <th>False</th>\n",
       "      <td>23.0</td>\n",
       "      <td>71.000000</td>\n",
       "      <td>20.593468</td>\n",
       "      <td>42.0</td>\n",
       "      <td>57.00</td>\n",
       "      <td>66.0</td>\n",
       "      <td>80.5</td>\n",
       "      <td>115.0</td>\n",
       "    </tr>\n",
       "    <tr>\n",
       "      <th>True</th>\n",
       "      <td>26.0</td>\n",
       "      <td>68.807692</td>\n",
       "      <td>16.574726</td>\n",
       "      <td>47.0</td>\n",
       "      <td>59.50</td>\n",
       "      <td>65.0</td>\n",
       "      <td>78.0</td>\n",
       "      <td>112.0</td>\n",
       "    </tr>\n",
       "    <tr>\n",
       "      <th rowspan=\"2\" valign=\"top\">Expressive Vocabulary</th>\n",
       "      <th>False</th>\n",
       "      <td>31.0</td>\n",
       "      <td>80.870968</td>\n",
       "      <td>21.170328</td>\n",
       "      <td>30.0</td>\n",
       "      <td>68.00</td>\n",
       "      <td>76.0</td>\n",
       "      <td>98.0</td>\n",
       "      <td>125.0</td>\n",
       "    </tr>\n",
       "    <tr>\n",
       "      <th>True</th>\n",
       "      <td>19.0</td>\n",
       "      <td>84.157895</td>\n",
       "      <td>20.216229</td>\n",
       "      <td>20.0</td>\n",
       "      <td>77.00</td>\n",
       "      <td>88.0</td>\n",
       "      <td>98.0</td>\n",
       "      <td>110.0</td>\n",
       "    </tr>\n",
       "    <tr>\n",
       "      <th rowspan=\"2\" valign=\"top\">Language</th>\n",
       "      <th>False</th>\n",
       "      <td>23.0</td>\n",
       "      <td>69.782609</td>\n",
       "      <td>23.455871</td>\n",
       "      <td>42.0</td>\n",
       "      <td>53.50</td>\n",
       "      <td>61.0</td>\n",
       "      <td>78.5</td>\n",
       "      <td>129.0</td>\n",
       "    </tr>\n",
       "    <tr>\n",
       "      <th>True</th>\n",
       "      <td>25.0</td>\n",
       "      <td>67.440000</td>\n",
       "      <td>16.837656</td>\n",
       "      <td>42.0</td>\n",
       "      <td>57.00</td>\n",
       "      <td>67.0</td>\n",
       "      <td>80.0</td>\n",
       "      <td>113.0</td>\n",
       "    </tr>\n",
       "    <tr>\n",
       "      <th rowspan=\"2\" valign=\"top\">Receptive Language</th>\n",
       "      <th>False</th>\n",
       "      <td>23.0</td>\n",
       "      <td>71.565217</td>\n",
       "      <td>23.302021</td>\n",
       "      <td>48.0</td>\n",
       "      <td>54.00</td>\n",
       "      <td>66.0</td>\n",
       "      <td>76.0</td>\n",
       "      <td>140.0</td>\n",
       "    </tr>\n",
       "    <tr>\n",
       "      <th>True</th>\n",
       "      <td>26.0</td>\n",
       "      <td>71.846154</td>\n",
       "      <td>17.178341</td>\n",
       "      <td>46.0</td>\n",
       "      <td>61.50</td>\n",
       "      <td>70.5</td>\n",
       "      <td>79.0</td>\n",
       "      <td>115.0</td>\n",
       "    </tr>\n",
       "    <tr>\n",
       "      <th rowspan=\"2\" valign=\"top\">Receptive Vocabulary</th>\n",
       "      <th>False</th>\n",
       "      <td>31.0</td>\n",
       "      <td>80.967742</td>\n",
       "      <td>22.829051</td>\n",
       "      <td>44.0</td>\n",
       "      <td>67.50</td>\n",
       "      <td>75.0</td>\n",
       "      <td>93.5</td>\n",
       "      <td>141.0</td>\n",
       "    </tr>\n",
       "    <tr>\n",
       "      <th>True</th>\n",
       "      <td>21.0</td>\n",
       "      <td>82.714286</td>\n",
       "      <td>18.163543</td>\n",
       "      <td>34.0</td>\n",
       "      <td>79.00</td>\n",
       "      <td>86.0</td>\n",
       "      <td>93.0</td>\n",
       "      <td>114.0</td>\n",
       "    </tr>\n",
       "  </tbody>\n",
       "</table>\n",
       "</div>"
      ],
      "text/plain": [
       "                                            count       mean        std   min  \\\n",
       "domain                age_enroll_greater_6                                      \n",
       "Articulation          False                  18.0  74.500000  20.382374  39.0   \n",
       "                      True                   15.0  84.200000  23.348906  40.0   \n",
       "Expressive Language   False                  23.0  71.000000  20.593468  42.0   \n",
       "                      True                   26.0  68.807692  16.574726  47.0   \n",
       "Expressive Vocabulary False                  31.0  80.870968  21.170328  30.0   \n",
       "                      True                   19.0  84.157895  20.216229  20.0   \n",
       "Language              False                  23.0  69.782609  23.455871  42.0   \n",
       "                      True                   25.0  67.440000  16.837656  42.0   \n",
       "Receptive Language    False                  23.0  71.565217  23.302021  48.0   \n",
       "                      True                   26.0  71.846154  17.178341  46.0   \n",
       "Receptive Vocabulary  False                  31.0  80.967742  22.829051  44.0   \n",
       "                      True                   21.0  82.714286  18.163543  34.0   \n",
       "\n",
       "                                              25%   50%    75%    max  \n",
       "domain                age_enroll_greater_6                             \n",
       "Articulation          False                 61.75  75.5   90.0  107.0  \n",
       "                      True                  67.50  91.0  103.0  110.0  \n",
       "Expressive Language   False                 57.00  66.0   80.5  115.0  \n",
       "                      True                  59.50  65.0   78.0  112.0  \n",
       "Expressive Vocabulary False                 68.00  76.0   98.0  125.0  \n",
       "                      True                  77.00  88.0   98.0  110.0  \n",
       "Language              False                 53.50  61.0   78.5  129.0  \n",
       "                      True                  57.00  67.0   80.0  113.0  \n",
       "Receptive Language    False                 54.00  66.0   76.0  140.0  \n",
       "                      True                  61.50  70.5   79.0  115.0  \n",
       "Receptive Vocabulary  False                 67.50  75.0   93.5  141.0  \n",
       "                      True                  79.00  86.0   93.0  114.0  "
      ]
     },
     "execution_count": 42,
     "metadata": {},
     "output_type": "execute_result"
    }
   ],
   "source": [
    "(test_scores.assign(age_enroll_greater_6=test_scores.age_int>6)\n",
    "         .groupby(['domain', 'age_enroll_greater_6'])\n",
    "         .score.describe())"
   ]
  },
  {
   "cell_type": "markdown",
   "metadata": {},
   "source": [
    "(Non-)Profound hearing loss"
   ]
  },
  {
   "cell_type": "code",
   "execution_count": 43,
   "metadata": {},
   "outputs": [
    {
     "data": {
      "text/html": [
       "<div>\n",
       "<style scoped>\n",
       "    .dataframe tbody tr th:only-of-type {\n",
       "        vertical-align: middle;\n",
       "    }\n",
       "\n",
       "    .dataframe tbody tr th {\n",
       "        vertical-align: top;\n",
       "    }\n",
       "\n",
       "    .dataframe thead th {\n",
       "        text-align: right;\n",
       "    }\n",
       "</style>\n",
       "<table border=\"1\" class=\"dataframe\">\n",
       "  <thead>\n",
       "    <tr style=\"text-align: right;\">\n",
       "      <th></th>\n",
       "      <th></th>\n",
       "      <th>count</th>\n",
       "      <th>mean</th>\n",
       "      <th>std</th>\n",
       "      <th>min</th>\n",
       "      <th>25%</th>\n",
       "      <th>50%</th>\n",
       "      <th>75%</th>\n",
       "      <th>max</th>\n",
       "    </tr>\n",
       "    <tr>\n",
       "      <th>domain</th>\n",
       "      <th>profound_hl</th>\n",
       "      <th></th>\n",
       "      <th></th>\n",
       "      <th></th>\n",
       "      <th></th>\n",
       "      <th></th>\n",
       "      <th></th>\n",
       "      <th></th>\n",
       "      <th></th>\n",
       "    </tr>\n",
       "  </thead>\n",
       "  <tbody>\n",
       "    <tr>\n",
       "      <th rowspan=\"2\" valign=\"top\">Articulation</th>\n",
       "      <th>False</th>\n",
       "      <td>30.0</td>\n",
       "      <td>79.500000</td>\n",
       "      <td>22.349497</td>\n",
       "      <td>39.0</td>\n",
       "      <td>61.75</td>\n",
       "      <td>80.5</td>\n",
       "      <td>98.50</td>\n",
       "      <td>110.0</td>\n",
       "    </tr>\n",
       "    <tr>\n",
       "      <th>True</th>\n",
       "      <td>3.0</td>\n",
       "      <td>73.000000</td>\n",
       "      <td>20.784610</td>\n",
       "      <td>49.0</td>\n",
       "      <td>67.00</td>\n",
       "      <td>85.0</td>\n",
       "      <td>85.00</td>\n",
       "      <td>85.0</td>\n",
       "    </tr>\n",
       "    <tr>\n",
       "      <th rowspan=\"2\" valign=\"top\">Expressive Language</th>\n",
       "      <th>False</th>\n",
       "      <td>32.0</td>\n",
       "      <td>67.718750</td>\n",
       "      <td>15.998456</td>\n",
       "      <td>45.0</td>\n",
       "      <td>56.75</td>\n",
       "      <td>64.0</td>\n",
       "      <td>80.00</td>\n",
       "      <td>112.0</td>\n",
       "    </tr>\n",
       "    <tr>\n",
       "      <th>True</th>\n",
       "      <td>17.0</td>\n",
       "      <td>73.823529</td>\n",
       "      <td>22.232396</td>\n",
       "      <td>42.0</td>\n",
       "      <td>63.00</td>\n",
       "      <td>66.0</td>\n",
       "      <td>86.00</td>\n",
       "      <td>115.0</td>\n",
       "    </tr>\n",
       "    <tr>\n",
       "      <th rowspan=\"2\" valign=\"top\">Expressive Vocabulary</th>\n",
       "      <th>False</th>\n",
       "      <td>39.0</td>\n",
       "      <td>82.692308</td>\n",
       "      <td>18.687392</td>\n",
       "      <td>30.0</td>\n",
       "      <td>72.00</td>\n",
       "      <td>81.0</td>\n",
       "      <td>98.00</td>\n",
       "      <td>125.0</td>\n",
       "    </tr>\n",
       "    <tr>\n",
       "      <th>True</th>\n",
       "      <td>11.0</td>\n",
       "      <td>80.090909</td>\n",
       "      <td>27.569746</td>\n",
       "      <td>20.0</td>\n",
       "      <td>68.00</td>\n",
       "      <td>80.0</td>\n",
       "      <td>95.50</td>\n",
       "      <td>124.0</td>\n",
       "    </tr>\n",
       "    <tr>\n",
       "      <th rowspan=\"2\" valign=\"top\">Language</th>\n",
       "      <th>False</th>\n",
       "      <td>32.0</td>\n",
       "      <td>67.000000</td>\n",
       "      <td>16.615189</td>\n",
       "      <td>42.0</td>\n",
       "      <td>54.75</td>\n",
       "      <td>63.0</td>\n",
       "      <td>78.50</td>\n",
       "      <td>113.0</td>\n",
       "    </tr>\n",
       "    <tr>\n",
       "      <th>True</th>\n",
       "      <td>16.0</td>\n",
       "      <td>71.687500</td>\n",
       "      <td>26.053071</td>\n",
       "      <td>42.0</td>\n",
       "      <td>53.00</td>\n",
       "      <td>63.5</td>\n",
       "      <td>81.50</td>\n",
       "      <td>129.0</td>\n",
       "    </tr>\n",
       "    <tr>\n",
       "      <th rowspan=\"2\" valign=\"top\">Receptive Language</th>\n",
       "      <th>False</th>\n",
       "      <td>32.0</td>\n",
       "      <td>71.562500</td>\n",
       "      <td>17.097326</td>\n",
       "      <td>47.0</td>\n",
       "      <td>57.75</td>\n",
       "      <td>68.0</td>\n",
       "      <td>80.25</td>\n",
       "      <td>115.0</td>\n",
       "    </tr>\n",
       "    <tr>\n",
       "      <th>True</th>\n",
       "      <td>17.0</td>\n",
       "      <td>72.000000</td>\n",
       "      <td>25.322915</td>\n",
       "      <td>46.0</td>\n",
       "      <td>50.00</td>\n",
       "      <td>69.0</td>\n",
       "      <td>79.00</td>\n",
       "      <td>140.0</td>\n",
       "    </tr>\n",
       "    <tr>\n",
       "      <th rowspan=\"2\" valign=\"top\">Receptive Vocabulary</th>\n",
       "      <th>False</th>\n",
       "      <td>40.0</td>\n",
       "      <td>80.975000</td>\n",
       "      <td>17.512615</td>\n",
       "      <td>44.0</td>\n",
       "      <td>70.00</td>\n",
       "      <td>79.5</td>\n",
       "      <td>93.25</td>\n",
       "      <td>114.0</td>\n",
       "    </tr>\n",
       "    <tr>\n",
       "      <th>True</th>\n",
       "      <td>12.0</td>\n",
       "      <td>84.000000</td>\n",
       "      <td>30.489939</td>\n",
       "      <td>34.0</td>\n",
       "      <td>69.25</td>\n",
       "      <td>81.0</td>\n",
       "      <td>90.50</td>\n",
       "      <td>141.0</td>\n",
       "    </tr>\n",
       "  </tbody>\n",
       "</table>\n",
       "</div>"
      ],
      "text/plain": [
       "                                   count       mean        std   min    25%  \\\n",
       "domain                profound_hl                                             \n",
       "Articulation          False         30.0  79.500000  22.349497  39.0  61.75   \n",
       "                      True           3.0  73.000000  20.784610  49.0  67.00   \n",
       "Expressive Language   False         32.0  67.718750  15.998456  45.0  56.75   \n",
       "                      True          17.0  73.823529  22.232396  42.0  63.00   \n",
       "Expressive Vocabulary False         39.0  82.692308  18.687392  30.0  72.00   \n",
       "                      True          11.0  80.090909  27.569746  20.0  68.00   \n",
       "Language              False         32.0  67.000000  16.615189  42.0  54.75   \n",
       "                      True          16.0  71.687500  26.053071  42.0  53.00   \n",
       "Receptive Language    False         32.0  71.562500  17.097326  47.0  57.75   \n",
       "                      True          17.0  72.000000  25.322915  46.0  50.00   \n",
       "Receptive Vocabulary  False         40.0  80.975000  17.512615  44.0  70.00   \n",
       "                      True          12.0  84.000000  30.489939  34.0  69.25   \n",
       "\n",
       "                                    50%    75%    max  \n",
       "domain                profound_hl                      \n",
       "Articulation          False        80.5  98.50  110.0  \n",
       "                      True         85.0  85.00   85.0  \n",
       "Expressive Language   False        64.0  80.00  112.0  \n",
       "                      True         66.0  86.00  115.0  \n",
       "Expressive Vocabulary False        81.0  98.00  125.0  \n",
       "                      True         80.0  95.50  124.0  \n",
       "Language              False        63.0  78.50  113.0  \n",
       "                      True         63.5  81.50  129.0  \n",
       "Receptive Language    False        68.0  80.25  115.0  \n",
       "                      True         69.0  79.00  140.0  \n",
       "Receptive Vocabulary  False        79.5  93.25  114.0  \n",
       "                      True         81.0  90.50  141.0  "
      ]
     },
     "execution_count": 43,
     "metadata": {},
     "output_type": "execute_result"
    }
   ],
   "source": [
    "(test_scores.assign(profound_hl=test_scores.degree_hl==6)\n",
    "         .groupby(['domain', 'profound_hl'])\n",
    "         .score.describe())"
   ]
  },
  {
   "cell_type": "markdown",
   "metadata": {},
   "source": [
    "Parent with(out) hearing loss"
   ]
  },
  {
   "cell_type": "code",
   "execution_count": 44,
   "metadata": {},
   "outputs": [
    {
     "data": {
      "text/html": [
       "<div>\n",
       "<style scoped>\n",
       "    .dataframe tbody tr th:only-of-type {\n",
       "        vertical-align: middle;\n",
       "    }\n",
       "\n",
       "    .dataframe tbody tr th {\n",
       "        vertical-align: top;\n",
       "    }\n",
       "\n",
       "    .dataframe thead th {\n",
       "        text-align: right;\n",
       "    }\n",
       "</style>\n",
       "<table border=\"1\" class=\"dataframe\">\n",
       "  <thead>\n",
       "    <tr style=\"text-align: right;\">\n",
       "      <th></th>\n",
       "      <th></th>\n",
       "      <th>count</th>\n",
       "      <th>mean</th>\n",
       "      <th>std</th>\n",
       "      <th>min</th>\n",
       "      <th>25%</th>\n",
       "      <th>50%</th>\n",
       "      <th>75%</th>\n",
       "      <th>max</th>\n",
       "    </tr>\n",
       "    <tr>\n",
       "      <th>domain</th>\n",
       "      <th>parent_with_hl</th>\n",
       "      <th></th>\n",
       "      <th></th>\n",
       "      <th></th>\n",
       "      <th></th>\n",
       "      <th></th>\n",
       "      <th></th>\n",
       "      <th></th>\n",
       "      <th></th>\n",
       "    </tr>\n",
       "  </thead>\n",
       "  <tbody>\n",
       "    <tr>\n",
       "      <th rowspan=\"2\" valign=\"top\">Articulation</th>\n",
       "      <th>False</th>\n",
       "      <td>31.0</td>\n",
       "      <td>78.064516</td>\n",
       "      <td>22.362074</td>\n",
       "      <td>39.0</td>\n",
       "      <td>58.50</td>\n",
       "      <td>78.0</td>\n",
       "      <td>97.00</td>\n",
       "      <td>110.0</td>\n",
       "    </tr>\n",
       "    <tr>\n",
       "      <th>True</th>\n",
       "      <td>2.0</td>\n",
       "      <td>92.000000</td>\n",
       "      <td>9.899495</td>\n",
       "      <td>85.0</td>\n",
       "      <td>88.50</td>\n",
       "      <td>92.0</td>\n",
       "      <td>95.50</td>\n",
       "      <td>99.0</td>\n",
       "    </tr>\n",
       "    <tr>\n",
       "      <th rowspan=\"2\" valign=\"top\">Expressive Language</th>\n",
       "      <th>False</th>\n",
       "      <td>47.0</td>\n",
       "      <td>70.127660</td>\n",
       "      <td>18.741511</td>\n",
       "      <td>42.0</td>\n",
       "      <td>57.00</td>\n",
       "      <td>66.0</td>\n",
       "      <td>80.50</td>\n",
       "      <td>115.0</td>\n",
       "    </tr>\n",
       "    <tr>\n",
       "      <th>True</th>\n",
       "      <td>2.0</td>\n",
       "      <td>63.000000</td>\n",
       "      <td>1.414214</td>\n",
       "      <td>62.0</td>\n",
       "      <td>62.50</td>\n",
       "      <td>63.0</td>\n",
       "      <td>63.50</td>\n",
       "      <td>64.0</td>\n",
       "    </tr>\n",
       "    <tr>\n",
       "      <th rowspan=\"2\" valign=\"top\">Expressive Vocabulary</th>\n",
       "      <th>False</th>\n",
       "      <td>48.0</td>\n",
       "      <td>82.583333</td>\n",
       "      <td>20.870251</td>\n",
       "      <td>20.0</td>\n",
       "      <td>71.00</td>\n",
       "      <td>80.5</td>\n",
       "      <td>98.00</td>\n",
       "      <td>125.0</td>\n",
       "    </tr>\n",
       "    <tr>\n",
       "      <th>True</th>\n",
       "      <td>2.0</td>\n",
       "      <td>71.000000</td>\n",
       "      <td>14.142136</td>\n",
       "      <td>61.0</td>\n",
       "      <td>66.00</td>\n",
       "      <td>71.0</td>\n",
       "      <td>76.00</td>\n",
       "      <td>81.0</td>\n",
       "    </tr>\n",
       "    <tr>\n",
       "      <th rowspan=\"2\" valign=\"top\">Language</th>\n",
       "      <th>False</th>\n",
       "      <td>46.0</td>\n",
       "      <td>69.043478</td>\n",
       "      <td>20.388403</td>\n",
       "      <td>42.0</td>\n",
       "      <td>53.25</td>\n",
       "      <td>65.5</td>\n",
       "      <td>79.75</td>\n",
       "      <td>129.0</td>\n",
       "    </tr>\n",
       "    <tr>\n",
       "      <th>True</th>\n",
       "      <td>2.0</td>\n",
       "      <td>57.500000</td>\n",
       "      <td>3.535534</td>\n",
       "      <td>55.0</td>\n",
       "      <td>56.25</td>\n",
       "      <td>57.5</td>\n",
       "      <td>58.75</td>\n",
       "      <td>60.0</td>\n",
       "    </tr>\n",
       "    <tr>\n",
       "      <th rowspan=\"2\" valign=\"top\">Receptive Language</th>\n",
       "      <th>False</th>\n",
       "      <td>47.0</td>\n",
       "      <td>72.063830</td>\n",
       "      <td>20.414620</td>\n",
       "      <td>46.0</td>\n",
       "      <td>56.00</td>\n",
       "      <td>70.0</td>\n",
       "      <td>79.00</td>\n",
       "      <td>140.0</td>\n",
       "    </tr>\n",
       "    <tr>\n",
       "      <th>True</th>\n",
       "      <td>2.0</td>\n",
       "      <td>63.500000</td>\n",
       "      <td>3.535534</td>\n",
       "      <td>61.0</td>\n",
       "      <td>62.25</td>\n",
       "      <td>63.5</td>\n",
       "      <td>64.75</td>\n",
       "      <td>66.0</td>\n",
       "    </tr>\n",
       "    <tr>\n",
       "      <th rowspan=\"2\" valign=\"top\">Receptive Vocabulary</th>\n",
       "      <th>False</th>\n",
       "      <td>50.0</td>\n",
       "      <td>82.300000</td>\n",
       "      <td>20.933568</td>\n",
       "      <td>34.0</td>\n",
       "      <td>70.00</td>\n",
       "      <td>80.5</td>\n",
       "      <td>93.75</td>\n",
       "      <td>141.0</td>\n",
       "    </tr>\n",
       "    <tr>\n",
       "      <th>True</th>\n",
       "      <td>2.0</td>\n",
       "      <td>66.000000</td>\n",
       "      <td>16.970563</td>\n",
       "      <td>54.0</td>\n",
       "      <td>60.00</td>\n",
       "      <td>66.0</td>\n",
       "      <td>72.00</td>\n",
       "      <td>78.0</td>\n",
       "    </tr>\n",
       "  </tbody>\n",
       "</table>\n",
       "</div>"
      ],
      "text/plain": [
       "                                      count       mean        std   min  \\\n",
       "domain                parent_with_hl                                      \n",
       "Articulation          False            31.0  78.064516  22.362074  39.0   \n",
       "                      True              2.0  92.000000   9.899495  85.0   \n",
       "Expressive Language   False            47.0  70.127660  18.741511  42.0   \n",
       "                      True              2.0  63.000000   1.414214  62.0   \n",
       "Expressive Vocabulary False            48.0  82.583333  20.870251  20.0   \n",
       "                      True              2.0  71.000000  14.142136  61.0   \n",
       "Language              False            46.0  69.043478  20.388403  42.0   \n",
       "                      True              2.0  57.500000   3.535534  55.0   \n",
       "Receptive Language    False            47.0  72.063830  20.414620  46.0   \n",
       "                      True              2.0  63.500000   3.535534  61.0   \n",
       "Receptive Vocabulary  False            50.0  82.300000  20.933568  34.0   \n",
       "                      True              2.0  66.000000  16.970563  54.0   \n",
       "\n",
       "                                        25%   50%    75%    max  \n",
       "domain                parent_with_hl                             \n",
       "Articulation          False           58.50  78.0  97.00  110.0  \n",
       "                      True            88.50  92.0  95.50   99.0  \n",
       "Expressive Language   False           57.00  66.0  80.50  115.0  \n",
       "                      True            62.50  63.0  63.50   64.0  \n",
       "Expressive Vocabulary False           71.00  80.5  98.00  125.0  \n",
       "                      True            66.00  71.0  76.00   81.0  \n",
       "Language              False           53.25  65.5  79.75  129.0  \n",
       "                      True            56.25  57.5  58.75   60.0  \n",
       "Receptive Language    False           56.00  70.0  79.00  140.0  \n",
       "                      True            62.25  63.5  64.75   66.0  \n",
       "Receptive Vocabulary  False           70.00  80.5  93.75  141.0  \n",
       "                      True            60.00  66.0  72.00   78.0  "
      ]
     },
     "execution_count": 44,
     "metadata": {},
     "output_type": "execute_result"
    }
   ],
   "source": [
    "test_scores.loc[test_scores.parent_hearing_loss=='Unknown', 'parent_hearing_loss'] = np.nan\n",
    "(test_scores.assign(parent_with_hl=test_scores.parent_hearing_loss.isin(['Both parents have hearing loss',\n",
    "                                                                       'Father has hearing loss',\n",
    "                                                                       'Mother has hearing loss']))\n",
    "         .groupby(['domain', 'parent_with_hl'])\n",
    "         .score.describe())"
   ]
  },
  {
   "cell_type": "markdown",
   "metadata": {},
   "source": [
    "Mother with(out) college education"
   ]
  },
  {
   "cell_type": "code",
   "execution_count": 45,
   "metadata": {},
   "outputs": [
    {
     "data": {
      "text/html": [
       "<div>\n",
       "<style scoped>\n",
       "    .dataframe tbody tr th:only-of-type {\n",
       "        vertical-align: middle;\n",
       "    }\n",
       "\n",
       "    .dataframe tbody tr th {\n",
       "        vertical-align: top;\n",
       "    }\n",
       "\n",
       "    .dataframe thead th {\n",
       "        text-align: right;\n",
       "    }\n",
       "</style>\n",
       "<table border=\"1\" class=\"dataframe\">\n",
       "  <thead>\n",
       "    <tr style=\"text-align: right;\">\n",
       "      <th></th>\n",
       "      <th></th>\n",
       "      <th>count</th>\n",
       "      <th>mean</th>\n",
       "      <th>std</th>\n",
       "      <th>min</th>\n",
       "      <th>25%</th>\n",
       "      <th>50%</th>\n",
       "      <th>75%</th>\n",
       "      <th>max</th>\n",
       "    </tr>\n",
       "    <tr>\n",
       "      <th>domain</th>\n",
       "      <th>mother_college</th>\n",
       "      <th></th>\n",
       "      <th></th>\n",
       "      <th></th>\n",
       "      <th></th>\n",
       "      <th></th>\n",
       "      <th></th>\n",
       "      <th></th>\n",
       "      <th></th>\n",
       "    </tr>\n",
       "  </thead>\n",
       "  <tbody>\n",
       "    <tr>\n",
       "      <th rowspan=\"2\" valign=\"top\">Articulation</th>\n",
       "      <th>0</th>\n",
       "      <td>12.0</td>\n",
       "      <td>79.083333</td>\n",
       "      <td>19.883563</td>\n",
       "      <td>49.0</td>\n",
       "      <td>68.00</td>\n",
       "      <td>77.0</td>\n",
       "      <td>94.00</td>\n",
       "      <td>107.0</td>\n",
       "    </tr>\n",
       "    <tr>\n",
       "      <th>1</th>\n",
       "      <td>21.0</td>\n",
       "      <td>78.809524</td>\n",
       "      <td>23.574603</td>\n",
       "      <td>39.0</td>\n",
       "      <td>58.00</td>\n",
       "      <td>84.0</td>\n",
       "      <td>99.00</td>\n",
       "      <td>110.0</td>\n",
       "    </tr>\n",
       "    <tr>\n",
       "      <th rowspan=\"2\" valign=\"top\">Expressive Language</th>\n",
       "      <th>0</th>\n",
       "      <td>17.0</td>\n",
       "      <td>65.235294</td>\n",
       "      <td>17.977519</td>\n",
       "      <td>50.0</td>\n",
       "      <td>55.00</td>\n",
       "      <td>57.0</td>\n",
       "      <td>66.00</td>\n",
       "      <td>115.0</td>\n",
       "    </tr>\n",
       "    <tr>\n",
       "      <th>1</th>\n",
       "      <td>32.0</td>\n",
       "      <td>72.281250</td>\n",
       "      <td>18.434250</td>\n",
       "      <td>42.0</td>\n",
       "      <td>61.75</td>\n",
       "      <td>68.0</td>\n",
       "      <td>82.25</td>\n",
       "      <td>112.0</td>\n",
       "    </tr>\n",
       "    <tr>\n",
       "      <th rowspan=\"2\" valign=\"top\">Expressive Vocabulary</th>\n",
       "      <th>0</th>\n",
       "      <td>20.0</td>\n",
       "      <td>80.400000</td>\n",
       "      <td>22.012915</td>\n",
       "      <td>30.0</td>\n",
       "      <td>67.75</td>\n",
       "      <td>77.5</td>\n",
       "      <td>97.25</td>\n",
       "      <td>124.0</td>\n",
       "    </tr>\n",
       "    <tr>\n",
       "      <th>1</th>\n",
       "      <td>30.0</td>\n",
       "      <td>83.266667</td>\n",
       "      <td>20.020564</td>\n",
       "      <td>20.0</td>\n",
       "      <td>74.00</td>\n",
       "      <td>81.0</td>\n",
       "      <td>98.00</td>\n",
       "      <td>125.0</td>\n",
       "    </tr>\n",
       "    <tr>\n",
       "      <th rowspan=\"2\" valign=\"top\">Language</th>\n",
       "      <th>0</th>\n",
       "      <td>17.0</td>\n",
       "      <td>63.529412</td>\n",
       "      <td>20.344279</td>\n",
       "      <td>49.0</td>\n",
       "      <td>51.00</td>\n",
       "      <td>58.0</td>\n",
       "      <td>62.00</td>\n",
       "      <td>129.0</td>\n",
       "    </tr>\n",
       "    <tr>\n",
       "      <th>1</th>\n",
       "      <td>31.0</td>\n",
       "      <td>71.322581</td>\n",
       "      <td>19.735564</td>\n",
       "      <td>42.0</td>\n",
       "      <td>56.50</td>\n",
       "      <td>72.0</td>\n",
       "      <td>80.50</td>\n",
       "      <td>114.0</td>\n",
       "    </tr>\n",
       "    <tr>\n",
       "      <th rowspan=\"2\" valign=\"top\">Receptive Language</th>\n",
       "      <th>0</th>\n",
       "      <td>17.0</td>\n",
       "      <td>66.705882</td>\n",
       "      <td>21.916788</td>\n",
       "      <td>48.0</td>\n",
       "      <td>54.00</td>\n",
       "      <td>63.0</td>\n",
       "      <td>72.00</td>\n",
       "      <td>140.0</td>\n",
       "    </tr>\n",
       "    <tr>\n",
       "      <th>1</th>\n",
       "      <td>32.0</td>\n",
       "      <td>74.375000</td>\n",
       "      <td>18.824743</td>\n",
       "      <td>46.0</td>\n",
       "      <td>62.50</td>\n",
       "      <td>73.0</td>\n",
       "      <td>84.75</td>\n",
       "      <td>115.0</td>\n",
       "    </tr>\n",
       "    <tr>\n",
       "      <th rowspan=\"2\" valign=\"top\">Receptive Vocabulary</th>\n",
       "      <th>0</th>\n",
       "      <td>18.0</td>\n",
       "      <td>77.777778</td>\n",
       "      <td>23.890819</td>\n",
       "      <td>44.0</td>\n",
       "      <td>62.25</td>\n",
       "      <td>77.5</td>\n",
       "      <td>91.25</td>\n",
       "      <td>141.0</td>\n",
       "    </tr>\n",
       "    <tr>\n",
       "      <th>1</th>\n",
       "      <td>34.0</td>\n",
       "      <td>83.735294</td>\n",
       "      <td>19.188552</td>\n",
       "      <td>34.0</td>\n",
       "      <td>72.25</td>\n",
       "      <td>80.5</td>\n",
       "      <td>93.75</td>\n",
       "      <td>135.0</td>\n",
       "    </tr>\n",
       "  </tbody>\n",
       "</table>\n",
       "</div>"
      ],
      "text/plain": [
       "                                      count       mean        std   min  \\\n",
       "domain                mother_college                                      \n",
       "Articulation          0                12.0  79.083333  19.883563  49.0   \n",
       "                      1                21.0  78.809524  23.574603  39.0   \n",
       "Expressive Language   0                17.0  65.235294  17.977519  50.0   \n",
       "                      1                32.0  72.281250  18.434250  42.0   \n",
       "Expressive Vocabulary 0                20.0  80.400000  22.012915  30.0   \n",
       "                      1                30.0  83.266667  20.020564  20.0   \n",
       "Language              0                17.0  63.529412  20.344279  49.0   \n",
       "                      1                31.0  71.322581  19.735564  42.0   \n",
       "Receptive Language    0                17.0  66.705882  21.916788  48.0   \n",
       "                      1                32.0  74.375000  18.824743  46.0   \n",
       "Receptive Vocabulary  0                18.0  77.777778  23.890819  44.0   \n",
       "                      1                34.0  83.735294  19.188552  34.0   \n",
       "\n",
       "                                        25%   50%    75%    max  \n",
       "domain                mother_college                             \n",
       "Articulation          0               68.00  77.0  94.00  107.0  \n",
       "                      1               58.00  84.0  99.00  110.0  \n",
       "Expressive Language   0               55.00  57.0  66.00  115.0  \n",
       "                      1               61.75  68.0  82.25  112.0  \n",
       "Expressive Vocabulary 0               67.75  77.5  97.25  124.0  \n",
       "                      1               74.00  81.0  98.00  125.0  \n",
       "Language              0               51.00  58.0  62.00  129.0  \n",
       "                      1               56.50  72.0  80.50  114.0  \n",
       "Receptive Language    0               54.00  63.0  72.00  140.0  \n",
       "                      1               62.50  73.0  84.75  115.0  \n",
       "Receptive Vocabulary  0               62.25  77.5  91.25  141.0  \n",
       "                      1               72.25  80.5  93.75  135.0  "
      ]
     },
     "execution_count": 45,
     "metadata": {},
     "output_type": "execute_result"
    }
   ],
   "source": [
    "test_scores.groupby(['domain', 'mother_college']).score.describe()"
   ]
  }
 ],
 "metadata": {
  "kernelspec": {
   "display_name": "Python 3",
   "language": "python",
   "name": "python3"
  },
  "language_info": {
   "codemirror_mode": {
    "name": "ipython",
    "version": 3
   },
   "file_extension": ".py",
   "mimetype": "text/x-python",
   "name": "python",
   "nbconvert_exporter": "python",
   "pygments_lexer": "ipython3",
   "version": "3.7.3"
  }
 },
 "nbformat": 4,
 "nbformat_minor": 2
}
