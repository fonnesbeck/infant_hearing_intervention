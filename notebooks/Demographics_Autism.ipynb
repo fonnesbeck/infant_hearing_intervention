{
 "cells": [
  {
   "cell_type": "code",
   "execution_count": 1,
   "metadata": {},
   "outputs": [],
   "source": [
    "# Import modules and set options\n",
    "%matplotlib inline\n",
    "import matplotlib.pyplot as plt\n",
    "import pandas as pd\n",
    "import numpy as np\n",
    "import seaborn as sns\n",
    "# import pandas_profiling\n",
    "\n",
    "sns.set(context='notebook', style='ticks')"
   ]
  },
  {
   "cell_type": "code",
   "execution_count": 2,
   "metadata": {},
   "outputs": [],
   "source": [
    "lsl_dr = (pd.read_csv('../data/clean/lsl_dr_frozen_09272019.csv', index_col=0, low_memory=False)\n",
    "                  .rename({'onset_1':'identify_mo'}, axis=1))"
   ]
  },
  {
   "cell_type": "code",
   "execution_count": 3,
   "metadata": {},
   "outputs": [
    {
     "data": {
      "text/plain": [
       "(65064, 246)"
      ]
     },
     "execution_count": 3,
     "metadata": {},
     "output_type": "execute_result"
    }
   ],
   "source": [
    "lsl_dr.shape"
   ]
  },
  {
   "cell_type": "markdown",
   "metadata": {},
   "source": [
    "Exclusions"
   ]
  },
  {
   "cell_type": "code",
   "execution_count": 4,
   "metadata": {},
   "outputs": [],
   "source": [
    "other_etiology = (lsl_dr[['etiology_3___2', 'etiology_3___4', 'etiology_3___5', 'etiology_3___6', 'etiology_3___9',\n",
    "       'etiology_oth___1', 'etiology_oth___3', 'etiology_oth___4', 'etiology_oth___8', 'etiology_oth___9']]\n",
    "                      .sum(1).astype(bool))"
   ]
  },
  {
   "cell_type": "code",
   "execution_count": 5,
   "metadata": {},
   "outputs": [],
   "source": [
    "inclusion_mask = (~lsl_dr.non_english.astype(bool) \n",
    "                  & ((lsl_dr.autism==1)))"
   ]
  },
  {
   "cell_type": "code",
   "execution_count": 6,
   "metadata": {},
   "outputs": [
    {
     "data": {
      "text/plain": [
       "(67, 246)"
      ]
     },
     "execution_count": 6,
     "metadata": {},
     "output_type": "execute_result"
    }
   ],
   "source": [
    "autism_subset = lsl_dr[inclusion_mask]\n",
    "autism_subset.drop_duplicates(subset='study_id').shape"
   ]
  },
  {
   "cell_type": "markdown",
   "metadata": {},
   "source": [
    "## Demographics"
   ]
  },
  {
   "cell_type": "code",
   "execution_count": 7,
   "metadata": {},
   "outputs": [
    {
     "data": {
      "text/plain": [
       "Male      228\n",
       "Female     72\n",
       "Name: male, dtype: int64"
      ]
     },
     "execution_count": 7,
     "metadata": {},
     "output_type": "execute_result"
    }
   ],
   "source": [
    "autism_subset.male.replace({1: 'Male', 0: 'Female', np.nan: 'Missing'}).value_counts()"
   ]
  },
  {
   "cell_type": "code",
   "execution_count": 8,
   "metadata": {},
   "outputs": [
    {
     "data": {
      "text/plain": [
       "White       202\n",
       "Other        38\n",
       "Black        37\n",
       "Hispanic      9\n",
       "Asian         8\n",
       "Missing       6\n",
       "Name: race, dtype: int64"
      ]
     },
     "execution_count": 8,
     "metadata": {},
     "output_type": "execute_result"
    }
   ],
   "source": [
    "autism_subset.race.replace({0:'White', 1:'Black', 2:'Hispanic', 3:'Asian', 4:'Other', np.nan:'Missing'}).value_counts()"
   ]
  },
  {
   "cell_type": "code",
   "execution_count": 9,
   "metadata": {},
   "outputs": [
    {
     "data": {
      "text/plain": [
       ">=36 weeks    236\n",
       "<36 weeks      64\n",
       "Name: premature_age, dtype: int64"
      ]
     },
     "execution_count": 9,
     "metadata": {},
     "output_type": "execute_result"
    }
   ],
   "source": [
    "(autism_subset.premature_age.replace({9:None})==8).replace({True: '>=36 weeks', False: '<36 weeks', \n",
    "                                                            np.nan: 'Unknown'}).value_counts()"
   ]
  },
  {
   "cell_type": "code",
   "execution_count": 10,
   "metadata": {},
   "outputs": [
    {
     "data": {
      "text/plain": [
       "1           88\n",
       "2          117\n",
       "3           55\n",
       "4+          13\n",
       "Missing     27\n",
       "Name: sib, dtype: int64"
      ]
     },
     "execution_count": 10,
     "metadata": {},
     "output_type": "execute_result"
    }
   ],
   "source": [
    "autism_subset.sib.replace({0:'1', 1:'2', 2:'3', 3:'4+', np.nan:'Missing'}).value_counts().sort_index()"
   ]
  },
  {
   "cell_type": "code",
   "execution_count": 11,
   "metadata": {},
   "outputs": [
    {
     "data": {
      "text/plain": [
       "High school diploma/GED    139\n",
       "Unknown                     62\n",
       "Some college                54\n",
       "Some high school            45\n",
       "Name: mother_ed, dtype: int64"
      ]
     },
     "execution_count": 11,
     "metadata": {},
     "output_type": "execute_result"
    }
   ],
   "source": [
    "ed_lookup = {0:\"8th grade or less\",\n",
    "1:\"Some high school\",\n",
    "2:\"High school diploma/GED\",\n",
    "3:\"Some college\",\n",
    "4:\"Bachelor's degree\",\n",
    "5:\"Post graduate degree\",\n",
    "6:\"Unknown\",\n",
    "np.nan:\"Unknown\"}\n",
    "\n",
    "autism_subset.mother_ed.replace(ed_lookup).value_counts()"
   ]
  },
  {
   "cell_type": "code",
   "execution_count": 12,
   "metadata": {},
   "outputs": [
    {
     "data": {
      "text/plain": [
       "Bachelor's degree          86\n",
       "Unknown                    74\n",
       "Post graduate degree       67\n",
       "Some college               45\n",
       "High school diploma/GED    28\n",
       "Name: father_ed, dtype: int64"
      ]
     },
     "execution_count": 12,
     "metadata": {},
     "output_type": "execute_result"
    }
   ],
   "source": [
    "autism_subset.father_ed.replace(ed_lookup).value_counts()"
   ]
  },
  {
   "cell_type": "code",
   "execution_count": 13,
   "metadata": {},
   "outputs": [
    {
     "data": {
      "text/plain": [
       "Ideal Participation      123\n",
       "Average Participation     83\n",
       "Missing                   49\n",
       "Good Participation        37\n",
       "Below Average              8\n",
       "Name: family_inv, dtype: int64"
      ]
     },
     "execution_count": 13,
     "metadata": {},
     "output_type": "execute_result"
    }
   ],
   "source": [
    "family_lookup = {0:\"Ideal Participation\",\n",
    "1:\"Good Participation\",\n",
    "2:\"Average Participation\",\n",
    "3:\"Below Average\",\n",
    "4:\"Limited Participation\",\n",
    "np.nan:\"Missing\"}\n",
    "\n",
    "autism_subset.family_inv.replace(family_lookup).value_counts()"
   ]
  },
  {
   "cell_type": "code",
   "execution_count": 14,
   "metadata": {},
   "outputs": [
    {
     "data": {
      "text/html": [
       "<div>\n",
       "<style scoped>\n",
       "    .dataframe tbody tr th:only-of-type {\n",
       "        vertical-align: middle;\n",
       "    }\n",
       "\n",
       "    .dataframe tbody tr th {\n",
       "        vertical-align: top;\n",
       "    }\n",
       "\n",
       "    .dataframe thead th {\n",
       "        text-align: right;\n",
       "    }\n",
       "</style>\n",
       "<table border=\"1\" class=\"dataframe\">\n",
       "  <thead>\n",
       "    <tr style=\"text-align: right;\">\n",
       "      <th></th>\n",
       "      <th>age_diag</th>\n",
       "      <th>age_amp</th>\n",
       "      <th>age_int</th>\n",
       "      <th>age</th>\n",
       "    </tr>\n",
       "  </thead>\n",
       "  <tbody>\n",
       "    <tr>\n",
       "      <th>count</th>\n",
       "      <td>146.000000</td>\n",
       "      <td>142.000000</td>\n",
       "      <td>191.000000</td>\n",
       "      <td>297.000000</td>\n",
       "    </tr>\n",
       "    <tr>\n",
       "      <th>mean</th>\n",
       "      <td>15.767123</td>\n",
       "      <td>20.204225</td>\n",
       "      <td>24.989529</td>\n",
       "      <td>46.993266</td>\n",
       "    </tr>\n",
       "    <tr>\n",
       "      <th>std</th>\n",
       "      <td>18.262092</td>\n",
       "      <td>18.261512</td>\n",
       "      <td>19.596989</td>\n",
       "      <td>26.528668</td>\n",
       "    </tr>\n",
       "    <tr>\n",
       "      <th>min</th>\n",
       "      <td>0.000000</td>\n",
       "      <td>1.000000</td>\n",
       "      <td>1.000000</td>\n",
       "      <td>1.000000</td>\n",
       "    </tr>\n",
       "    <tr>\n",
       "      <th>25%</th>\n",
       "      <td>1.000000</td>\n",
       "      <td>3.250000</td>\n",
       "      <td>10.000000</td>\n",
       "      <td>30.000000</td>\n",
       "    </tr>\n",
       "    <tr>\n",
       "      <th>50%</th>\n",
       "      <td>10.000000</td>\n",
       "      <td>19.000000</td>\n",
       "      <td>23.000000</td>\n",
       "      <td>44.000000</td>\n",
       "    </tr>\n",
       "    <tr>\n",
       "      <th>75%</th>\n",
       "      <td>21.000000</td>\n",
       "      <td>27.000000</td>\n",
       "      <td>36.000000</td>\n",
       "      <td>65.000000</td>\n",
       "    </tr>\n",
       "    <tr>\n",
       "      <th>max</th>\n",
       "      <td>83.000000</td>\n",
       "      <td>83.000000</td>\n",
       "      <td>83.000000</td>\n",
       "      <td>141.000000</td>\n",
       "    </tr>\n",
       "  </tbody>\n",
       "</table>\n",
       "</div>"
      ],
      "text/plain": [
       "         age_diag     age_amp     age_int         age\n",
       "count  146.000000  142.000000  191.000000  297.000000\n",
       "mean    15.767123   20.204225   24.989529   46.993266\n",
       "std     18.262092   18.261512   19.596989   26.528668\n",
       "min      0.000000    1.000000    1.000000    1.000000\n",
       "25%      1.000000    3.250000   10.000000   30.000000\n",
       "50%     10.000000   19.000000   23.000000   44.000000\n",
       "75%     21.000000   27.000000   36.000000   65.000000\n",
       "max     83.000000   83.000000   83.000000  141.000000"
      ]
     },
     "execution_count": 14,
     "metadata": {},
     "output_type": "execute_result"
    }
   ],
   "source": [
    "autism_subset[[\"age_diag\", \"age_amp\", \"age_int\", \"age\"]].describe()"
   ]
  },
  {
   "cell_type": "code",
   "execution_count": 15,
   "metadata": {},
   "outputs": [
    {
     "data": {
      "text/plain": [
       "OPTION + outside    121\n",
       "OPTION only          80\n",
       "Missing               8\n",
       "Name: otherserv, dtype: int64"
      ]
     },
     "execution_count": 15,
     "metadata": {},
     "output_type": "execute_result"
    }
   ],
   "source": [
    "autism_subset.otherserv.replace({0: \"OPTION + outside\", 1: \"OPTION only\", 2: \"Missing\"}).value_counts()"
   ]
  },
  {
   "cell_type": "markdown",
   "metadata": {},
   "source": [
    "## Hearing loss"
   ]
  },
  {
   "cell_type": "code",
   "execution_count": 16,
   "metadata": {},
   "outputs": [
    {
     "data": {
      "text/plain": [
       "90"
      ]
     },
     "execution_count": 16,
     "metadata": {},
     "output_type": "execute_result"
    }
   ],
   "source": [
    "autism_subset.degree_hl_ad.isnull().sum()"
   ]
  },
  {
   "cell_type": "code",
   "execution_count": 17,
   "metadata": {},
   "outputs": [
    {
     "data": {
      "text/plain": [
       "90"
      ]
     },
     "execution_count": 17,
     "metadata": {},
     "output_type": "execute_result"
    }
   ],
   "source": [
    "autism_subset.degree_hl_as.isnull().sum()"
   ]
  },
  {
   "cell_type": "code",
   "execution_count": 18,
   "metadata": {},
   "outputs": [
    {
     "data": {
      "text/plain": [
       "6.0    84\n",
       "0.0    64\n",
       "3.0    23\n",
       "4.0    13\n",
       "5.0    13\n",
       "1.0     8\n",
       "2.0     5\n",
       "Name: degree_hl_ad, dtype: int64"
      ]
     },
     "execution_count": 18,
     "metadata": {},
     "output_type": "execute_result"
    }
   ],
   "source": [
    "autism_subset.degree_hl_ad.value_counts()"
   ]
  },
  {
   "cell_type": "code",
   "execution_count": 19,
   "metadata": {},
   "outputs": [
    {
     "data": {
      "text/plain": [
       "0.0    73\n",
       "6.0    72\n",
       "3.0    22\n",
       "5.0    18\n",
       "2.0    16\n",
       "4.0     7\n",
       "1.0     2\n",
       "Name: degree_hl_as, dtype: int64"
      ]
     },
     "execution_count": 19,
     "metadata": {},
     "output_type": "execute_result"
    }
   ],
   "source": [
    "autism_subset.degree_hl_as.value_counts()"
   ]
  },
  {
   "cell_type": "code",
   "execution_count": 20,
   "metadata": {},
   "outputs": [],
   "source": [
    "hl_data = autism_subset.set_index('study_id')[['bilateral_snhl',\n",
    "                     'bilateral_ansd',\n",
    "                     'bilateral_mixed',\n",
    "                     'bilateral_cond',\n",
    "                     'bilateral_normal',\n",
    "                     'bilateral_unk',\n",
    "                     'unilateral_snhl',\n",
    "                     'unilateral_ansd',\n",
    "                     'unilateral_mixed',\n",
    "                     'unilateral_cond',\n",
    "                     'unilateral_unk',\n",
    "                     'assymetrical']]"
   ]
  },
  {
   "cell_type": "markdown",
   "metadata": {},
   "source": [
    "One or both parents with hearing loss"
   ]
  },
  {
   "cell_type": "code",
   "execution_count": 21,
   "metadata": {},
   "outputs": [
    {
     "data": {
      "text/plain": [
       "0.0    251\n",
       "1.0     12\n",
       "Name: one_or_both_parent_hl, dtype: int64"
      ]
     },
     "execution_count": 21,
     "metadata": {},
     "output_type": "execute_result"
    }
   ],
   "source": [
    "autism_subset.one_or_both_parent_hl.value_counts()"
   ]
  },
  {
   "cell_type": "code",
   "execution_count": 22,
   "metadata": {},
   "outputs": [
    {
     "data": {
      "text/plain": [
       "37"
      ]
     },
     "execution_count": 22,
     "metadata": {},
     "output_type": "execute_result"
    }
   ],
   "source": [
    "autism_subset.one_or_both_parent_hl.isnull().sum()"
   ]
  },
  {
   "cell_type": "markdown",
   "metadata": {},
   "source": [
    "Individuals with no hearing loss type"
   ]
  },
  {
   "cell_type": "code",
   "execution_count": 23,
   "metadata": {},
   "outputs": [
    {
     "data": {
      "text/plain": [
       "array(['0416-2012-8486', '0416-2012-8486', '0416-2012-8486',\n",
       "       '0416-2012-8486', '0416-2012-8486', '0416-2012-8486',\n",
       "       '0735-2011-0006', '0735-2011-0006', '0735-2011-0006',\n",
       "       '0735-2011-0006', '0735-2011-0006', '0411-2012-0006',\n",
       "       '0411-2012-0006', '0411-2012-0006', '0411-2012-0017',\n",
       "       '0411-2012-0017', '0411-2011-0035', '0411-2011-0035',\n",
       "       '0411-2011-0035', '0414-2015-0024', '0414-2015-0024',\n",
       "       '0414-2015-0024', '0414-2015-0024', '0414-2015-0024',\n",
       "       '0411-2012-0035', '0411-2012-0035', '0411-2012-0035',\n",
       "       '0411-2013-0006', '0411-2013-0006', '0411-2013-0006',\n",
       "       '0411-2013-0004', '0411-2013-0004', '0411-2013-0004',\n",
       "       '0414-2017-0020', '0414-2017-0020', '0414-2017-0020',\n",
       "       '0414-2017-0020', '0414-2017-0020', '0414-2017-0023',\n",
       "       '0414-2017-0023', '0414-2017-0023', '0414-2017-0023',\n",
       "       '0414-2017-0023', '0414-2014-0267', '0414-2014-0267',\n",
       "       '0414-2014-0267', '0414-2014-0267', '0414-2014-0267',\n",
       "       '0414-2014-0267', '0414-2013-0273', '0414-2013-0273',\n",
       "       '0414-2013-0273', '0414-2013-0281', '0414-2013-0281',\n",
       "       '0414-2013-0281', '0414-2013-0281', '0414-2013-0281',\n",
       "       '0414-2013-0281', '0414-2013-0293', '0414-2013-0293',\n",
       "       '0414-2013-0293', '0414-2013-0293', '0414-2013-0293',\n",
       "       '0414-2013-0293', '0414-2013-0295', '0414-2013-0295',\n",
       "       '0414-2013-0295', '0414-2013-0295', '0414-2013-0295',\n",
       "       '0414-2013-0295', '0411-2011-0012', '0411-2011-0012',\n",
       "       '0411-2011-0012', '0411-2010-0017', '0411-2010-0017',\n",
       "       '0414-2014-0282', '0414-2014-0282', '0414-2014-0282',\n",
       "       '0414-2014-0282', '0414-2014-0282', '0414-2014-0282',\n",
       "       '0414-2014-0285', '0414-2014-0285', '0414-2014-0285',\n",
       "       '0411-2010-0030', '0411-2010-0030', '0411-2010-0030',\n",
       "       '0411-2014-0038', '0411-2014-0038', '0411-2014-0038'], dtype=object)"
      ]
     },
     "execution_count": 23,
     "metadata": {},
     "output_type": "execute_result"
    }
   ],
   "source": [
    "hl_data[hl_data.sum(1)==0].index.values"
   ]
  },
  {
   "cell_type": "code",
   "execution_count": 24,
   "metadata": {},
   "outputs": [
    {
     "data": {
      "text/plain": [
       "bilateral_snhl      133\n",
       "bilateral_normal     64\n",
       "unilateral_snhl       6\n",
       "unilateral_mixed      3\n",
       "assymetrical          2\n",
       "bilateral_mixed       2\n",
       "unilateral_unk        0\n",
       "unilateral_cond       0\n",
       "unilateral_ansd       0\n",
       "bilateral_unk         0\n",
       "bilateral_cond        0\n",
       "bilateral_ansd        0\n",
       "dtype: int64"
      ]
     },
     "execution_count": 24,
     "metadata": {},
     "output_type": "execute_result"
    }
   ],
   "source": [
    "hl_data.sum().astype(int).sort_values(ascending=False)"
   ]
  },
  {
   "cell_type": "code",
   "execution_count": 25,
   "metadata": {},
   "outputs": [
    {
     "data": {
      "text/plain": [
       "bilateral_snhl      0.44\n",
       "bilateral_normal    0.21\n",
       "unilateral_snhl     0.02\n",
       "assymetrical        0.01\n",
       "unilateral_mixed    0.01\n",
       "bilateral_mixed     0.01\n",
       "unilateral_unk      0.00\n",
       "unilateral_cond     0.00\n",
       "unilateral_ansd     0.00\n",
       "bilateral_unk       0.00\n",
       "bilateral_cond      0.00\n",
       "bilateral_ansd      0.00\n",
       "dtype: float64"
      ]
     },
     "execution_count": 25,
     "metadata": {},
     "output_type": "execute_result"
    }
   ],
   "source": [
    "hl_data.mean().round(2).sort_values(ascending=False)"
   ]
  },
  {
   "cell_type": "code",
   "execution_count": 26,
   "metadata": {},
   "outputs": [],
   "source": [
    "tech_data = autism_subset.set_index('study_id')[['bilateral_ha',\n",
    "                     'bilateral_ci',\n",
    "                     'bimodal',\n",
    "                     'bilateral_other',\n",
    "                     'unilateral_ha',\n",
    "                     'unilateral_ci',\n",
    "                     'unilateral_other']]"
   ]
  },
  {
   "cell_type": "code",
   "execution_count": 27,
   "metadata": {},
   "outputs": [
    {
     "data": {
      "text/plain": [
       "bilateral_ci        190\n",
       "bilateral_ha         20\n",
       "unilateral_ci        14\n",
       "bimodal              10\n",
       "unilateral_other      0\n",
       "unilateral_ha         0\n",
       "bilateral_other       0\n",
       "dtype: int64"
      ]
     },
     "execution_count": 27,
     "metadata": {},
     "output_type": "execute_result"
    }
   ],
   "source": [
    "tech_data.sum().astype(int).sort_values(ascending=False)"
   ]
  },
  {
   "cell_type": "code",
   "execution_count": 28,
   "metadata": {},
   "outputs": [
    {
     "data": {
      "text/plain": [
       "bilateral_ci        0.63\n",
       "bilateral_ha        0.07\n",
       "unilateral_ci       0.05\n",
       "bimodal             0.03\n",
       "unilateral_other    0.00\n",
       "unilateral_ha       0.00\n",
       "bilateral_other     0.00\n",
       "dtype: float64"
      ]
     },
     "execution_count": 28,
     "metadata": {},
     "output_type": "execute_result"
    }
   ],
   "source": [
    "tech_data.mean().round(2).sort_values(ascending=False)"
   ]
  },
  {
   "cell_type": "markdown",
   "metadata": {},
   "source": [
    "Individuals with no technology type"
   ]
  },
  {
   "cell_type": "code",
   "execution_count": 29,
   "metadata": {},
   "outputs": [
    {
     "data": {
      "text/plain": [
       "array(['0735-2019-0020', '0735-2019-0020', '0414-2011-0180',\n",
       "       '0414-2011-0180', '0414-2011-0180', '0414-2011-0180',\n",
       "       '0414-2009-0079', '0414-2009-0079', '0414-2009-0079',\n",
       "       '0414-2009-0079', '0414-2009-0079', '0414-2009-0079',\n",
       "       '0414-2009-0041', '0414-2009-0041', '0414-2009-0041',\n",
       "       '0414-2009-0041', '0414-2009-0041', '0414-2009-0041',\n",
       "       '0414-2009-0056', '0414-2009-0056', '0414-2009-0056',\n",
       "       '0414-2009-0056', '0414-2009-0056', '0414-2009-0056',\n",
       "       '0414-2012-0228', '0414-2012-0228', '0414-2012-0228',\n",
       "       '0414-2012-0228', '0414-2012-0228', '0414-2012-0228',\n",
       "       '0414-2012-0229', '0414-2012-0229', '0414-2012-0229',\n",
       "       '0414-2012-0229', '0414-2012-0229', '0414-2012-0229',\n",
       "       '0414-2011-0153', '0414-2011-0153', '0414-2011-0153',\n",
       "       '0414-2011-0153', '0414-2011-0153', '0414-2011-0153',\n",
       "       '0414-2011-0155', '0414-2011-0155', '0414-2011-0155',\n",
       "       '0414-2011-0155', '0414-2011-0155', '0414-2011-0155',\n",
       "       '0414-2011-0154', '0414-2011-0154', '0414-2011-0154',\n",
       "       '0414-2011-0154', '0414-2011-0154', '0414-2011-0154',\n",
       "       '0414-2010-0055', '0414-2010-0055', '0414-2010-0055',\n",
       "       '0414-2010-0055', '0414-2010-0055', '0414-2010-0055',\n",
       "       '0414-2011-0178', '0414-2011-0178', '0414-2011-0178',\n",
       "       '0414-2011-0178', '0414-2011-0178', '0414-2011-0178'], dtype=object)"
      ]
     },
     "execution_count": 29,
     "metadata": {},
     "output_type": "execute_result"
    }
   ],
   "source": [
    "tech_data[tech_data.sum(1)==0].index.values"
   ]
  },
  {
   "cell_type": "markdown",
   "metadata": {},
   "source": [
    "## Hearing Loss"
   ]
  },
  {
   "cell_type": "code",
   "execution_count": 30,
   "metadata": {},
   "outputs": [
    {
     "data": {
      "text/plain": [
       "Index(['degree_hl_ad', 'type_hl_ad', 'degree_hl_as', 'type_hl_as',\n",
       "       'bilateral_hl_normal', 'bilateral_hl_slight', 'bilateral_hl_mild',\n",
       "       'bilateral_hl_moderate', 'bilateral_hl_modsev', 'bilateral_hl_severe',\n",
       "       'bilateral_hl_profound', 'unilateral_hl_slight', 'unilateral_hl_mild',\n",
       "       'unilateral_hl_moderate', 'unilateral_hl_modsev',\n",
       "       'unilateral_hl_severe', 'unilateral_hl_profound'],\n",
       "      dtype='object')"
      ]
     },
     "execution_count": 30,
     "metadata": {},
     "output_type": "execute_result"
    }
   ],
   "source": [
    "autism_subset.columns[autism_subset.columns.str.contains('_hl_')]"
   ]
  },
  {
   "cell_type": "code",
   "execution_count": 31,
   "metadata": {},
   "outputs": [],
   "source": [
    "hl_data = autism_subset.set_index('study_id')[['bilateral_hl_normal', 'bilateral_hl_slight', 'bilateral_hl_mild',\n",
    "       'bilateral_hl_moderate', 'bilateral_hl_modsev', 'bilateral_hl_severe',\n",
    "       'bilateral_hl_profound', 'unilateral_hl_slight', 'unilateral_hl_mild',\n",
    "       'unilateral_hl_moderate', 'unilateral_hl_modsev',\n",
    "       'unilateral_hl_severe', 'unilateral_hl_profound']]"
   ]
  },
  {
   "cell_type": "code",
   "execution_count": 32,
   "metadata": {},
   "outputs": [
    {
     "data": {
      "text/plain": [
       "bilateral_hl_profound     69\n",
       "bilateral_hl_normal       64\n",
       "bilateral_hl_moderate     14\n",
       "bilateral_hl_severe       13\n",
       "unilateral_hl_modsev       9\n",
       "bilateral_hl_mild          3\n",
       "bilateral_hl_slight        2\n",
       "unilateral_hl_profound     0\n",
       "unilateral_hl_severe       0\n",
       "unilateral_hl_moderate     0\n",
       "unilateral_hl_mild         0\n",
       "unilateral_hl_slight       0\n",
       "bilateral_hl_modsev        0\n",
       "dtype: int64"
      ]
     },
     "execution_count": 32,
     "metadata": {},
     "output_type": "execute_result"
    }
   ],
   "source": [
    "hl_data.sum().astype(int).sort_values(ascending=False)"
   ]
  },
  {
   "cell_type": "code",
   "execution_count": 33,
   "metadata": {},
   "outputs": [
    {
     "data": {
      "text/plain": [
       "bilateral_hl_profound     0.23\n",
       "bilateral_hl_normal       0.21\n",
       "bilateral_hl_moderate     0.05\n",
       "bilateral_hl_severe       0.04\n",
       "unilateral_hl_modsev      0.03\n",
       "bilateral_hl_mild         0.01\n",
       "bilateral_hl_slight       0.01\n",
       "unilateral_hl_profound    0.00\n",
       "unilateral_hl_severe      0.00\n",
       "unilateral_hl_moderate    0.00\n",
       "unilateral_hl_mild        0.00\n",
       "unilateral_hl_slight      0.00\n",
       "bilateral_hl_modsev       0.00\n",
       "dtype: float64"
      ]
     },
     "execution_count": 33,
     "metadata": {},
     "output_type": "execute_result"
    }
   ],
   "source": [
    "hl_data.mean().round(2).sort_values(ascending=False)"
   ]
  },
  {
   "cell_type": "markdown",
   "metadata": {},
   "source": [
    "Missing one or both hearing loss values (left/right)"
   ]
  },
  {
   "cell_type": "code",
   "execution_count": 34,
   "metadata": {},
   "outputs": [
    {
     "data": {
      "text/plain": [
       "90"
      ]
     },
     "execution_count": 34,
     "metadata": {},
     "output_type": "execute_result"
    }
   ],
   "source": [
    "(autism_subset[['degree_hl_ad', 'degree_hl_as']].isnull().sum(1) > 0).sum()"
   ]
  },
  {
   "cell_type": "markdown",
   "metadata": {},
   "source": [
    "## Summary of scores by domain"
   ]
  },
  {
   "cell_type": "code",
   "execution_count": 35,
   "metadata": {},
   "outputs": [],
   "source": [
    "test_scores = lsl_dr[inclusion_mask].copy()"
   ]
  },
  {
   "cell_type": "code",
   "execution_count": 36,
   "metadata": {},
   "outputs": [],
   "source": [
    "test_scores.loc[(test_scores.domain=='Language') & (test_scores.test_type=='receptive'), \n",
    "           'domain'] = 'Receptive Language'\n",
    "test_scores.loc[(test_scores.domain=='Language') & (test_scores.test_type=='expressive'), \n",
    "           'domain'] = 'Expressive Language'"
   ]
  },
  {
   "cell_type": "code",
   "execution_count": 37,
   "metadata": {},
   "outputs": [
    {
     "data": {
      "text/html": [
       "<div>\n",
       "<style scoped>\n",
       "    .dataframe tbody tr th:only-of-type {\n",
       "        vertical-align: middle;\n",
       "    }\n",
       "\n",
       "    .dataframe tbody tr th {\n",
       "        vertical-align: top;\n",
       "    }\n",
       "\n",
       "    .dataframe thead th {\n",
       "        text-align: right;\n",
       "    }\n",
       "</style>\n",
       "<table border=\"1\" class=\"dataframe\">\n",
       "  <thead>\n",
       "    <tr style=\"text-align: right;\">\n",
       "      <th></th>\n",
       "      <th>count</th>\n",
       "      <th>mean</th>\n",
       "      <th>std</th>\n",
       "      <th>min</th>\n",
       "      <th>25%</th>\n",
       "      <th>50%</th>\n",
       "      <th>75%</th>\n",
       "      <th>max</th>\n",
       "    </tr>\n",
       "    <tr>\n",
       "      <th>domain</th>\n",
       "      <th></th>\n",
       "      <th></th>\n",
       "      <th></th>\n",
       "      <th></th>\n",
       "      <th></th>\n",
       "      <th></th>\n",
       "      <th></th>\n",
       "      <th></th>\n",
       "    </tr>\n",
       "  </thead>\n",
       "  <tbody>\n",
       "    <tr>\n",
       "      <th>Articulation</th>\n",
       "      <td>33.0</td>\n",
       "      <td>75.2</td>\n",
       "      <td>20.2</td>\n",
       "      <td>33.6</td>\n",
       "      <td>56.8</td>\n",
       "      <td>78.5</td>\n",
       "      <td>91.0</td>\n",
       "      <td>103.8</td>\n",
       "    </tr>\n",
       "    <tr>\n",
       "      <th>Expressive Language</th>\n",
       "      <td>54.0</td>\n",
       "      <td>69.4</td>\n",
       "      <td>18.7</td>\n",
       "      <td>42.0</td>\n",
       "      <td>56.2</td>\n",
       "      <td>64.0</td>\n",
       "      <td>80.8</td>\n",
       "      <td>115.0</td>\n",
       "    </tr>\n",
       "    <tr>\n",
       "      <th>Expressive Vocabulary</th>\n",
       "      <td>52.0</td>\n",
       "      <td>81.6</td>\n",
       "      <td>20.1</td>\n",
       "      <td>20.0</td>\n",
       "      <td>70.8</td>\n",
       "      <td>79.5</td>\n",
       "      <td>98.0</td>\n",
       "      <td>125.0</td>\n",
       "    </tr>\n",
       "    <tr>\n",
       "      <th>Language</th>\n",
       "      <td>53.0</td>\n",
       "      <td>67.8</td>\n",
       "      <td>20.1</td>\n",
       "      <td>42.0</td>\n",
       "      <td>53.0</td>\n",
       "      <td>61.0</td>\n",
       "      <td>79.0</td>\n",
       "      <td>129.0</td>\n",
       "    </tr>\n",
       "    <tr>\n",
       "      <th>Receptive Language</th>\n",
       "      <td>53.0</td>\n",
       "      <td>70.2</td>\n",
       "      <td>20.2</td>\n",
       "      <td>45.8</td>\n",
       "      <td>54.0</td>\n",
       "      <td>65.0</td>\n",
       "      <td>79.0</td>\n",
       "      <td>140.0</td>\n",
       "    </tr>\n",
       "    <tr>\n",
       "      <th>Receptive Vocabulary</th>\n",
       "      <td>55.0</td>\n",
       "      <td>80.6</td>\n",
       "      <td>20.5</td>\n",
       "      <td>34.0</td>\n",
       "      <td>69.0</td>\n",
       "      <td>79.0</td>\n",
       "      <td>93.0</td>\n",
       "      <td>141.0</td>\n",
       "    </tr>\n",
       "  </tbody>\n",
       "</table>\n",
       "</div>"
      ],
      "text/plain": [
       "                       count  mean   std   min   25%   50%   75%    max\n",
       "domain                                                                 \n",
       "Articulation            33.0  75.2  20.2  33.6  56.8  78.5  91.0  103.8\n",
       "Expressive Language     54.0  69.4  18.7  42.0  56.2  64.0  80.8  115.0\n",
       "Expressive Vocabulary   52.0  81.6  20.1  20.0  70.8  79.5  98.0  125.0\n",
       "Language                53.0  67.8  20.1  42.0  53.0  61.0  79.0  129.0\n",
       "Receptive Language      53.0  70.2  20.2  45.8  54.0  65.0  79.0  140.0\n",
       "Receptive Vocabulary    55.0  80.6  20.5  34.0  69.0  79.0  93.0  141.0"
      ]
     },
     "execution_count": 37,
     "metadata": {},
     "output_type": "execute_result"
    }
   ],
   "source": [
    "test_scores.groupby('domain').score_adj.describe().round(1)"
   ]
  },
  {
   "cell_type": "code",
   "execution_count": 38,
   "metadata": {},
   "outputs": [
    {
     "data": {
      "text/plain": [
       "array(['Expressive Vocabulary', 'Receptive Vocabulary',\n",
       "       'Receptive Language', 'Expressive Language', 'Language',\n",
       "       'Articulation'], dtype=object)"
      ]
     },
     "execution_count": 38,
     "metadata": {},
     "output_type": "execute_result"
    }
   ],
   "source": [
    "test_scores.domain.unique()"
   ]
  },
  {
   "cell_type": "code",
   "execution_count": 39,
   "metadata": {},
   "outputs": [],
   "source": [
    "test_scores['domain_labels'] = test_scores.domain.replace({'Expressive Vocabulary': 'Expressive\\nVocabulary', \n",
    "                                                           'Receptive Vocabulary': 'Receptive\\nVocabulary',\n",
    "                                                           'Receptive Language': 'Receptive\\nLanguage', \n",
    "                                                           'Expressive Language': 'Expressive\\nLanguage', \n",
    "                                                           'Language': 'Total\\nLanguage'})"
   ]
  },
  {
   "cell_type": "code",
   "execution_count": 40,
   "metadata": {},
   "outputs": [
    {
     "data": {
      "image/png": "[encoded data removed]",
      "text/plain": [
       "<Figure size 864x360 with 1 Axes>"
      ]
     },
     "metadata": {},
     "output_type": "display_data"
    }
   ],
   "source": [
    "sns.catplot(\"domain_labels\", y=\"score_adj\", data=test_scores, kind=\"box\", color='white', fliersize=0)\n",
    "sns.swarmplot(\"domain_labels\", y=\"score_adj\", data=test_scores, color='grey')\n",
    "fig = plt.gcf()\n",
    "fig.set_size_inches(12, 5)\n",
    "fig.axes[0].set_xlabel('');"
   ]
  },
  {
   "cell_type": "markdown",
   "metadata": {},
   "source": [
    "## Domain-specific summaries\n",
    "\n",
    "Age of amplification greater than 6mo."
   ]
  },
  {
   "cell_type": "code",
   "execution_count": 41,
   "metadata": {},
   "outputs": [
    {
     "data": {
      "text/html": [
       "<div>\n",
       "<style scoped>\n",
       "    .dataframe tbody tr th:only-of-type {\n",
       "        vertical-align: middle;\n",
       "    }\n",
       "\n",
       "    .dataframe tbody tr th {\n",
       "        vertical-align: top;\n",
       "    }\n",
       "\n",
       "    .dataframe thead th {\n",
       "        text-align: right;\n",
       "    }\n",
       "</style>\n",
       "<table border=\"1\" class=\"dataframe\">\n",
       "  <thead>\n",
       "    <tr style=\"text-align: right;\">\n",
       "      <th></th>\n",
       "      <th></th>\n",
       "      <th>count</th>\n",
       "      <th>mean</th>\n",
       "      <th>std</th>\n",
       "      <th>min</th>\n",
       "      <th>25%</th>\n",
       "      <th>50%</th>\n",
       "      <th>75%</th>\n",
       "      <th>max</th>\n",
       "    </tr>\n",
       "    <tr>\n",
       "      <th>domain</th>\n",
       "      <th>age_amp_greater_6</th>\n",
       "      <th></th>\n",
       "      <th></th>\n",
       "      <th></th>\n",
       "      <th></th>\n",
       "      <th></th>\n",
       "      <th></th>\n",
       "      <th></th>\n",
       "      <th></th>\n",
       "    </tr>\n",
       "  </thead>\n",
       "  <tbody>\n",
       "    <tr>\n",
       "      <th rowspan=\"2\" valign=\"top\">Articulation</th>\n",
       "      <th>False</th>\n",
       "      <td>27.0</td>\n",
       "      <td>74.371700</td>\n",
       "      <td>21.521592</td>\n",
       "      <td>33.609025</td>\n",
       "      <td>54.721065</td>\n",
       "      <td>77.051675</td>\n",
       "      <td>91.049921</td>\n",
       "      <td>103.834610</td>\n",
       "    </tr>\n",
       "    <tr>\n",
       "      <th>True</th>\n",
       "      <td>6.0</td>\n",
       "      <td>78.886760</td>\n",
       "      <td>13.412183</td>\n",
       "      <td>56.462598</td>\n",
       "      <td>77.714229</td>\n",
       "      <td>78.986999</td>\n",
       "      <td>82.239163</td>\n",
       "      <td>98.270773</td>\n",
       "    </tr>\n",
       "    <tr>\n",
       "      <th rowspan=\"2\" valign=\"top\">Expressive Language</th>\n",
       "      <th>False</th>\n",
       "      <td>34.0</td>\n",
       "      <td>71.750321</td>\n",
       "      <td>19.300736</td>\n",
       "      <td>42.000000</td>\n",
       "      <td>59.158835</td>\n",
       "      <td>66.500000</td>\n",
       "      <td>82.500000</td>\n",
       "      <td>115.000000</td>\n",
       "    </tr>\n",
       "    <tr>\n",
       "      <th>True</th>\n",
       "      <td>20.0</td>\n",
       "      <td>65.343310</td>\n",
       "      <td>17.376545</td>\n",
       "      <td>48.866200</td>\n",
       "      <td>51.500000</td>\n",
       "      <td>62.000000</td>\n",
       "      <td>69.000000</td>\n",
       "      <td>112.000000</td>\n",
       "    </tr>\n",
       "    <tr>\n",
       "      <th rowspan=\"2\" valign=\"top\">Expressive Vocabulary</th>\n",
       "      <th>False</th>\n",
       "      <td>37.0</td>\n",
       "      <td>83.985289</td>\n",
       "      <td>18.648488</td>\n",
       "      <td>30.000000</td>\n",
       "      <td>74.000000</td>\n",
       "      <td>81.000000</td>\n",
       "      <td>98.000000</td>\n",
       "      <td>125.000000</td>\n",
       "    </tr>\n",
       "    <tr>\n",
       "      <th>True</th>\n",
       "      <td>15.0</td>\n",
       "      <td>75.691109</td>\n",
       "      <td>23.064933</td>\n",
       "      <td>20.000000</td>\n",
       "      <td>64.500000</td>\n",
       "      <td>73.000000</td>\n",
       "      <td>92.701415</td>\n",
       "      <td>110.000000</td>\n",
       "    </tr>\n",
       "    <tr>\n",
       "      <th rowspan=\"2\" valign=\"top\">Language</th>\n",
       "      <th>False</th>\n",
       "      <td>34.0</td>\n",
       "      <td>70.480697</td>\n",
       "      <td>21.294935</td>\n",
       "      <td>42.000000</td>\n",
       "      <td>55.000000</td>\n",
       "      <td>71.054888</td>\n",
       "      <td>83.000000</td>\n",
       "      <td>129.000000</td>\n",
       "    </tr>\n",
       "    <tr>\n",
       "      <th>True</th>\n",
       "      <td>19.0</td>\n",
       "      <td>63.094254</td>\n",
       "      <td>17.335585</td>\n",
       "      <td>44.790831</td>\n",
       "      <td>50.500000</td>\n",
       "      <td>58.000000</td>\n",
       "      <td>69.000000</td>\n",
       "      <td>113.000000</td>\n",
       "    </tr>\n",
       "    <tr>\n",
       "      <th rowspan=\"2\" valign=\"top\">Receptive Language</th>\n",
       "      <th>False</th>\n",
       "      <td>34.0</td>\n",
       "      <td>73.508241</td>\n",
       "      <td>22.480496</td>\n",
       "      <td>47.000000</td>\n",
       "      <td>55.500000</td>\n",
       "      <td>70.564310</td>\n",
       "      <td>86.250000</td>\n",
       "      <td>140.000000</td>\n",
       "    </tr>\n",
       "    <tr>\n",
       "      <th>True</th>\n",
       "      <td>19.0</td>\n",
       "      <td>64.200509</td>\n",
       "      <td>13.723710</td>\n",
       "      <td>45.809673</td>\n",
       "      <td>53.500000</td>\n",
       "      <td>64.000000</td>\n",
       "      <td>73.000000</td>\n",
       "      <td>100.000000</td>\n",
       "    </tr>\n",
       "    <tr>\n",
       "      <th rowspan=\"2\" valign=\"top\">Receptive Vocabulary</th>\n",
       "      <th>False</th>\n",
       "      <td>39.0</td>\n",
       "      <td>83.142590</td>\n",
       "      <td>20.695783</td>\n",
       "      <td>44.000000</td>\n",
       "      <td>71.500000</td>\n",
       "      <td>80.000000</td>\n",
       "      <td>93.500000</td>\n",
       "      <td>141.000000</td>\n",
       "    </tr>\n",
       "    <tr>\n",
       "      <th>True</th>\n",
       "      <td>16.0</td>\n",
       "      <td>74.395828</td>\n",
       "      <td>19.382111</td>\n",
       "      <td>34.000000</td>\n",
       "      <td>63.229390</td>\n",
       "      <td>72.500000</td>\n",
       "      <td>85.229645</td>\n",
       "      <td>107.000000</td>\n",
       "    </tr>\n",
       "  </tbody>\n",
       "</table>\n",
       "</div>"
      ],
      "text/plain": [
       "                                         count       mean        std  \\\n",
       "domain                age_amp_greater_6                                \n",
       "Articulation          False               27.0  74.371700  21.521592   \n",
       "                      True                 6.0  78.886760  13.412183   \n",
       "Expressive Language   False               34.0  71.750321  19.300736   \n",
       "                      True                20.0  65.343310  17.376545   \n",
       "Expressive Vocabulary False               37.0  83.985289  18.648488   \n",
       "                      True                15.0  75.691109  23.064933   \n",
       "Language              False               34.0  70.480697  21.294935   \n",
       "                      True                19.0  63.094254  17.335585   \n",
       "Receptive Language    False               34.0  73.508241  22.480496   \n",
       "                      True                19.0  64.200509  13.723710   \n",
       "Receptive Vocabulary  False               39.0  83.142590  20.695783   \n",
       "                      True                16.0  74.395828  19.382111   \n",
       "\n",
       "                                               min        25%        50%  \\\n",
       "domain                age_amp_greater_6                                    \n",
       "Articulation          False              33.609025  54.721065  77.051675   \n",
       "                      True               56.462598  77.714229  78.986999   \n",
       "Expressive Language   False              42.000000  59.158835  66.500000   \n",
       "                      True               48.866200  51.500000  62.000000   \n",
       "Expressive Vocabulary False              30.000000  74.000000  81.000000   \n",
       "                      True               20.000000  64.500000  73.000000   \n",
       "Language              False              42.000000  55.000000  71.054888   \n",
       "                      True               44.790831  50.500000  58.000000   \n",
       "Receptive Language    False              47.000000  55.500000  70.564310   \n",
       "                      True               45.809673  53.500000  64.000000   \n",
       "Receptive Vocabulary  False              44.000000  71.500000  80.000000   \n",
       "                      True               34.000000  63.229390  72.500000   \n",
       "\n",
       "                                               75%         max  \n",
       "domain                age_amp_greater_6                         \n",
       "Articulation          False              91.049921  103.834610  \n",
       "                      True               82.239163   98.270773  \n",
       "Expressive Language   False              82.500000  115.000000  \n",
       "                      True               69.000000  112.000000  \n",
       "Expressive Vocabulary False              98.000000  125.000000  \n",
       "                      True               92.701415  110.000000  \n",
       "Language              False              83.000000  129.000000  \n",
       "                      True               69.000000  113.000000  \n",
       "Receptive Language    False              86.250000  140.000000  \n",
       "                      True               73.000000  100.000000  \n",
       "Receptive Vocabulary  False              93.500000  141.000000  \n",
       "                      True               85.229645  107.000000  "
      ]
     },
     "execution_count": 41,
     "metadata": {},
     "output_type": "execute_result"
    }
   ],
   "source": [
    "(test_scores.assign(age_amp_greater_6=test_scores.age_amp>6)\n",
    "         .groupby(['domain', 'age_amp_greater_6'])\n",
    "         .score_adj.describe())"
   ]
  },
  {
   "cell_type": "markdown",
   "metadata": {},
   "source": [
    "Age of enrollment greater than 6mo."
   ]
  },
  {
   "cell_type": "code",
   "execution_count": 42,
   "metadata": {},
   "outputs": [
    {
     "data": {
      "text/html": [
       "<div>\n",
       "<style scoped>\n",
       "    .dataframe tbody tr th:only-of-type {\n",
       "        vertical-align: middle;\n",
       "    }\n",
       "\n",
       "    .dataframe tbody tr th {\n",
       "        vertical-align: top;\n",
       "    }\n",
       "\n",
       "    .dataframe thead th {\n",
       "        text-align: right;\n",
       "    }\n",
       "</style>\n",
       "<table border=\"1\" class=\"dataframe\">\n",
       "  <thead>\n",
       "    <tr style=\"text-align: right;\">\n",
       "      <th></th>\n",
       "      <th></th>\n",
       "      <th>count</th>\n",
       "      <th>mean</th>\n",
       "      <th>std</th>\n",
       "      <th>min</th>\n",
       "      <th>25%</th>\n",
       "      <th>50%</th>\n",
       "      <th>75%</th>\n",
       "      <th>max</th>\n",
       "    </tr>\n",
       "    <tr>\n",
       "      <th>domain</th>\n",
       "      <th>age_enroll_greater_6</th>\n",
       "      <th></th>\n",
       "      <th></th>\n",
       "      <th></th>\n",
       "      <th></th>\n",
       "      <th></th>\n",
       "      <th></th>\n",
       "      <th></th>\n",
       "      <th></th>\n",
       "    </tr>\n",
       "  </thead>\n",
       "  <tbody>\n",
       "    <tr>\n",
       "      <th rowspan=\"2\" valign=\"top\">Articulation</th>\n",
       "      <th>False</th>\n",
       "      <td>18.0</td>\n",
       "      <td>71.607199</td>\n",
       "      <td>19.347872</td>\n",
       "      <td>33.609025</td>\n",
       "      <td>60.422410</td>\n",
       "      <td>75.283775</td>\n",
       "      <td>86.515156</td>\n",
       "      <td>100.168326</td>\n",
       "    </tr>\n",
       "    <tr>\n",
       "      <th>True</th>\n",
       "      <td>15.0</td>\n",
       "      <td>79.495125</td>\n",
       "      <td>20.992024</td>\n",
       "      <td>37.645436</td>\n",
       "      <td>66.954815</td>\n",
       "      <td>84.032951</td>\n",
       "      <td>95.091085</td>\n",
       "      <td>103.834610</td>\n",
       "    </tr>\n",
       "    <tr>\n",
       "      <th rowspan=\"2\" valign=\"top\">Expressive Language</th>\n",
       "      <th>False</th>\n",
       "      <td>24.0</td>\n",
       "      <td>69.849820</td>\n",
       "      <td>20.630313</td>\n",
       "      <td>42.000000</td>\n",
       "      <td>56.500000</td>\n",
       "      <td>63.000000</td>\n",
       "      <td>80.250000</td>\n",
       "      <td>115.000000</td>\n",
       "    </tr>\n",
       "    <tr>\n",
       "      <th>True</th>\n",
       "      <td>30.0</td>\n",
       "      <td>68.999381</td>\n",
       "      <td>17.368526</td>\n",
       "      <td>47.000000</td>\n",
       "      <td>56.250000</td>\n",
       "      <td>65.000000</td>\n",
       "      <td>82.250000</td>\n",
       "      <td>112.000000</td>\n",
       "    </tr>\n",
       "    <tr>\n",
       "      <th rowspan=\"2\" valign=\"top\">Expressive Vocabulary</th>\n",
       "      <th>False</th>\n",
       "      <td>30.0</td>\n",
       "      <td>81.739365</td>\n",
       "      <td>20.682822</td>\n",
       "      <td>30.000000</td>\n",
       "      <td>68.750000</td>\n",
       "      <td>76.500000</td>\n",
       "      <td>98.500000</td>\n",
       "      <td>125.000000</td>\n",
       "    </tr>\n",
       "    <tr>\n",
       "      <th>True</th>\n",
       "      <td>22.0</td>\n",
       "      <td>81.392790</td>\n",
       "      <td>19.874097</td>\n",
       "      <td>20.000000</td>\n",
       "      <td>71.500000</td>\n",
       "      <td>82.000000</td>\n",
       "      <td>96.750000</td>\n",
       "      <td>110.000000</td>\n",
       "    </tr>\n",
       "    <tr>\n",
       "      <th rowspan=\"2\" valign=\"top\">Language</th>\n",
       "      <th>False</th>\n",
       "      <td>24.0</td>\n",
       "      <td>68.635991</td>\n",
       "      <td>23.418879</td>\n",
       "      <td>42.000000</td>\n",
       "      <td>52.500000</td>\n",
       "      <td>59.000000</td>\n",
       "      <td>78.250000</td>\n",
       "      <td>129.000000</td>\n",
       "    </tr>\n",
       "    <tr>\n",
       "      <th>True</th>\n",
       "      <td>29.0</td>\n",
       "      <td>67.167957</td>\n",
       "      <td>17.316955</td>\n",
       "      <td>42.000000</td>\n",
       "      <td>53.000000</td>\n",
       "      <td>67.000000</td>\n",
       "      <td>80.000000</td>\n",
       "      <td>113.000000</td>\n",
       "    </tr>\n",
       "    <tr>\n",
       "      <th rowspan=\"2\" valign=\"top\">Receptive Language</th>\n",
       "      <th>False</th>\n",
       "      <td>24.0</td>\n",
       "      <td>70.265702</td>\n",
       "      <td>23.332007</td>\n",
       "      <td>48.000000</td>\n",
       "      <td>52.412641</td>\n",
       "      <td>65.000000</td>\n",
       "      <td>75.000000</td>\n",
       "      <td>140.000000</td>\n",
       "    </tr>\n",
       "    <tr>\n",
       "      <th>True</th>\n",
       "      <td>29.0</td>\n",
       "      <td>70.093553</td>\n",
       "      <td>17.527721</td>\n",
       "      <td>45.809673</td>\n",
       "      <td>57.000000</td>\n",
       "      <td>65.000000</td>\n",
       "      <td>79.000000</td>\n",
       "      <td>115.000000</td>\n",
       "    </tr>\n",
       "    <tr>\n",
       "      <th rowspan=\"2\" valign=\"top\">Receptive Vocabulary</th>\n",
       "      <th>False</th>\n",
       "      <td>31.0</td>\n",
       "      <td>81.018097</td>\n",
       "      <td>22.583189</td>\n",
       "      <td>44.000000</td>\n",
       "      <td>69.000000</td>\n",
       "      <td>75.000000</td>\n",
       "      <td>93.500000</td>\n",
       "      <td>141.000000</td>\n",
       "    </tr>\n",
       "    <tr>\n",
       "      <th>True</th>\n",
       "      <td>24.0</td>\n",
       "      <td>80.055552</td>\n",
       "      <td>18.017416</td>\n",
       "      <td>34.000000</td>\n",
       "      <td>69.250000</td>\n",
       "      <td>81.500000</td>\n",
       "      <td>92.250000</td>\n",
       "      <td>114.000000</td>\n",
       "    </tr>\n",
       "  </tbody>\n",
       "</table>\n",
       "</div>"
      ],
      "text/plain": [
       "                                            count       mean        std  \\\n",
       "domain                age_enroll_greater_6                                \n",
       "Articulation          False                  18.0  71.607199  19.347872   \n",
       "                      True                   15.0  79.495125  20.992024   \n",
       "Expressive Language   False                  24.0  69.849820  20.630313   \n",
       "                      True                   30.0  68.999381  17.368526   \n",
       "Expressive Vocabulary False                  30.0  81.739365  20.682822   \n",
       "                      True                   22.0  81.392790  19.874097   \n",
       "Language              False                  24.0  68.635991  23.418879   \n",
       "                      True                   29.0  67.167957  17.316955   \n",
       "Receptive Language    False                  24.0  70.265702  23.332007   \n",
       "                      True                   29.0  70.093553  17.527721   \n",
       "Receptive Vocabulary  False                  31.0  81.018097  22.583189   \n",
       "                      True                   24.0  80.055552  18.017416   \n",
       "\n",
       "                                                  min        25%        50%  \\\n",
       "domain                age_enroll_greater_6                                    \n",
       "Articulation          False                 33.609025  60.422410  75.283775   \n",
       "                      True                  37.645436  66.954815  84.032951   \n",
       "Expressive Language   False                 42.000000  56.500000  63.000000   \n",
       "                      True                  47.000000  56.250000  65.000000   \n",
       "Expressive Vocabulary False                 30.000000  68.750000  76.500000   \n",
       "                      True                  20.000000  71.500000  82.000000   \n",
       "Language              False                 42.000000  52.500000  59.000000   \n",
       "                      True                  42.000000  53.000000  67.000000   \n",
       "Receptive Language    False                 48.000000  52.412641  65.000000   \n",
       "                      True                  45.809673  57.000000  65.000000   \n",
       "Receptive Vocabulary  False                 44.000000  69.000000  75.000000   \n",
       "                      True                  34.000000  69.250000  81.500000   \n",
       "\n",
       "                                                  75%         max  \n",
       "domain                age_enroll_greater_6                         \n",
       "Articulation          False                 86.515156  100.168326  \n",
       "                      True                  95.091085  103.834610  \n",
       "Expressive Language   False                 80.250000  115.000000  \n",
       "                      True                  82.250000  112.000000  \n",
       "Expressive Vocabulary False                 98.500000  125.000000  \n",
       "                      True                  96.750000  110.000000  \n",
       "Language              False                 78.250000  129.000000  \n",
       "                      True                  80.000000  113.000000  \n",
       "Receptive Language    False                 75.000000  140.000000  \n",
       "                      True                  79.000000  115.000000  \n",
       "Receptive Vocabulary  False                 93.500000  141.000000  \n",
       "                      True                  92.250000  114.000000  "
      ]
     },
     "execution_count": 42,
     "metadata": {},
     "output_type": "execute_result"
    }
   ],
   "source": [
    "(test_scores.assign(age_enroll_greater_6=test_scores.age_int>6)\n",
    "         .groupby(['domain', 'age_enroll_greater_6'])\n",
    "         .score_adj.describe())"
   ]
  },
  {
   "cell_type": "markdown",
   "metadata": {},
   "source": [
    "(Non-)Profound hearing loss"
   ]
  },
  {
   "cell_type": "code",
   "execution_count": 43,
   "metadata": {},
   "outputs": [
    {
     "data": {
      "text/html": [
       "<div>\n",
       "<style scoped>\n",
       "    .dataframe tbody tr th:only-of-type {\n",
       "        vertical-align: middle;\n",
       "    }\n",
       "\n",
       "    .dataframe tbody tr th {\n",
       "        vertical-align: top;\n",
       "    }\n",
       "\n",
       "    .dataframe thead th {\n",
       "        text-align: right;\n",
       "    }\n",
       "</style>\n",
       "<table border=\"1\" class=\"dataframe\">\n",
       "  <thead>\n",
       "    <tr style=\"text-align: right;\">\n",
       "      <th></th>\n",
       "      <th></th>\n",
       "      <th>count</th>\n",
       "      <th>mean</th>\n",
       "      <th>std</th>\n",
       "      <th>min</th>\n",
       "      <th>25%</th>\n",
       "      <th>50%</th>\n",
       "      <th>75%</th>\n",
       "      <th>max</th>\n",
       "    </tr>\n",
       "    <tr>\n",
       "      <th>domain</th>\n",
       "      <th>profound_hl</th>\n",
       "      <th></th>\n",
       "      <th></th>\n",
       "      <th></th>\n",
       "      <th></th>\n",
       "      <th></th>\n",
       "      <th></th>\n",
       "      <th></th>\n",
       "      <th></th>\n",
       "    </tr>\n",
       "  </thead>\n",
       "  <tbody>\n",
       "    <tr>\n",
       "      <th rowspan=\"2\" valign=\"top\">Articulation</th>\n",
       "      <th>False</th>\n",
       "      <td>30.0</td>\n",
       "      <td>75.567017</td>\n",
       "      <td>20.682573</td>\n",
       "      <td>33.609025</td>\n",
       "      <td>60.422410</td>\n",
       "      <td>77.981427</td>\n",
       "      <td>91.089386</td>\n",
       "      <td>103.834610</td>\n",
       "    </tr>\n",
       "    <tr>\n",
       "      <th>True</th>\n",
       "      <td>3.0</td>\n",
       "      <td>71.448655</td>\n",
       "      <td>17.184409</td>\n",
       "      <td>51.721630</td>\n",
       "      <td>65.589902</td>\n",
       "      <td>79.458174</td>\n",
       "      <td>81.312167</td>\n",
       "      <td>83.166159</td>\n",
       "    </tr>\n",
       "    <tr>\n",
       "      <th rowspan=\"2\" valign=\"top\">Expressive Language</th>\n",
       "      <th>False</th>\n",
       "      <td>35.0</td>\n",
       "      <td>68.610923</td>\n",
       "      <td>16.602147</td>\n",
       "      <td>45.000000</td>\n",
       "      <td>56.500000</td>\n",
       "      <td>63.000000</td>\n",
       "      <td>80.500000</td>\n",
       "      <td>112.000000</td>\n",
       "    </tr>\n",
       "    <tr>\n",
       "      <th>True</th>\n",
       "      <td>19.0</td>\n",
       "      <td>70.789201</td>\n",
       "      <td>22.505650</td>\n",
       "      <td>42.000000</td>\n",
       "      <td>53.500000</td>\n",
       "      <td>65.000000</td>\n",
       "      <td>78.564310</td>\n",
       "      <td>115.000000</td>\n",
       "    </tr>\n",
       "    <tr>\n",
       "      <th rowspan=\"2\" valign=\"top\">Expressive Vocabulary</th>\n",
       "      <th>False</th>\n",
       "      <td>39.0</td>\n",
       "      <td>83.215457</td>\n",
       "      <td>18.172856</td>\n",
       "      <td>30.000000</td>\n",
       "      <td>73.000000</td>\n",
       "      <td>81.000000</td>\n",
       "      <td>98.000000</td>\n",
       "      <td>125.000000</td>\n",
       "    </tr>\n",
       "    <tr>\n",
       "      <th>True</th>\n",
       "      <td>13.0</td>\n",
       "      <td>76.724576</td>\n",
       "      <td>25.398996</td>\n",
       "      <td>20.000000</td>\n",
       "      <td>65.000000</td>\n",
       "      <td>76.274745</td>\n",
       "      <td>93.000000</td>\n",
       "      <td>124.000000</td>\n",
       "    </tr>\n",
       "    <tr>\n",
       "      <th rowspan=\"2\" valign=\"top\">Language</th>\n",
       "      <th>False</th>\n",
       "      <td>34.0</td>\n",
       "      <td>67.271586</td>\n",
       "      <td>17.093674</td>\n",
       "      <td>42.000000</td>\n",
       "      <td>55.394703</td>\n",
       "      <td>61.500000</td>\n",
       "      <td>79.500000</td>\n",
       "      <td>113.000000</td>\n",
       "    </tr>\n",
       "    <tr>\n",
       "      <th>True</th>\n",
       "      <td>19.0</td>\n",
       "      <td>68.836874</td>\n",
       "      <td>25.129454</td>\n",
       "      <td>42.000000</td>\n",
       "      <td>51.500000</td>\n",
       "      <td>59.000000</td>\n",
       "      <td>76.000000</td>\n",
       "      <td>129.000000</td>\n",
       "    </tr>\n",
       "    <tr>\n",
       "      <th rowspan=\"2\" valign=\"top\">Receptive Language</th>\n",
       "      <th>False</th>\n",
       "      <td>34.0</td>\n",
       "      <td>70.680929</td>\n",
       "      <td>17.200884</td>\n",
       "      <td>47.000000</td>\n",
       "      <td>57.000000</td>\n",
       "      <td>65.500000</td>\n",
       "      <td>78.975840</td>\n",
       "      <td>115.000000</td>\n",
       "    </tr>\n",
       "    <tr>\n",
       "      <th>True</th>\n",
       "      <td>19.0</td>\n",
       "      <td>69.259910</td>\n",
       "      <td>25.094310</td>\n",
       "      <td>45.809673</td>\n",
       "      <td>50.000000</td>\n",
       "      <td>63.000000</td>\n",
       "      <td>78.000000</td>\n",
       "      <td>140.000000</td>\n",
       "    </tr>\n",
       "    <tr>\n",
       "      <th rowspan=\"2\" valign=\"top\">Receptive Vocabulary</th>\n",
       "      <th>False</th>\n",
       "      <td>41.0</td>\n",
       "      <td>80.718118</td>\n",
       "      <td>17.226429</td>\n",
       "      <td>44.000000</td>\n",
       "      <td>70.000000</td>\n",
       "      <td>79.000000</td>\n",
       "      <td>93.000000</td>\n",
       "      <td>114.000000</td>\n",
       "    </tr>\n",
       "    <tr>\n",
       "      <th>True</th>\n",
       "      <td>14.0</td>\n",
       "      <td>80.246530</td>\n",
       "      <td>28.965042</td>\n",
       "      <td>34.000000</td>\n",
       "      <td>65.500000</td>\n",
       "      <td>75.500000</td>\n",
       "      <td>85.743215</td>\n",
       "      <td>141.000000</td>\n",
       "    </tr>\n",
       "  </tbody>\n",
       "</table>\n",
       "</div>"
      ],
      "text/plain": [
       "                                   count       mean        std        min  \\\n",
       "domain                profound_hl                                           \n",
       "Articulation          False         30.0  75.567017  20.682573  33.609025   \n",
       "                      True           3.0  71.448655  17.184409  51.721630   \n",
       "Expressive Language   False         35.0  68.610923  16.602147  45.000000   \n",
       "                      True          19.0  70.789201  22.505650  42.000000   \n",
       "Expressive Vocabulary False         39.0  83.215457  18.172856  30.000000   \n",
       "                      True          13.0  76.724576  25.398996  20.000000   \n",
       "Language              False         34.0  67.271586  17.093674  42.000000   \n",
       "                      True          19.0  68.836874  25.129454  42.000000   \n",
       "Receptive Language    False         34.0  70.680929  17.200884  47.000000   \n",
       "                      True          19.0  69.259910  25.094310  45.809673   \n",
       "Receptive Vocabulary  False         41.0  80.718118  17.226429  44.000000   \n",
       "                      True          14.0  80.246530  28.965042  34.000000   \n",
       "\n",
       "                                         25%        50%        75%         max  \n",
       "domain                profound_hl                                               \n",
       "Articulation          False        60.422410  77.981427  91.089386  103.834610  \n",
       "                      True         65.589902  79.458174  81.312167   83.166159  \n",
       "Expressive Language   False        56.500000  63.000000  80.500000  112.000000  \n",
       "                      True         53.500000  65.000000  78.564310  115.000000  \n",
       "Expressive Vocabulary False        73.000000  81.000000  98.000000  125.000000  \n",
       "                      True         65.000000  76.274745  93.000000  124.000000  \n",
       "Language              False        55.394703  61.500000  79.500000  113.000000  \n",
       "                      True         51.500000  59.000000  76.000000  129.000000  \n",
       "Receptive Language    False        57.000000  65.500000  78.975840  115.000000  \n",
       "                      True         50.000000  63.000000  78.000000  140.000000  \n",
       "Receptive Vocabulary  False        70.000000  79.000000  93.000000  114.000000  \n",
       "                      True         65.500000  75.500000  85.743215  141.000000  "
      ]
     },
     "execution_count": 43,
     "metadata": {},
     "output_type": "execute_result"
    }
   ],
   "source": [
    "(test_scores.assign(profound_hl=test_scores.degree_hl==6)\n",
    "         .groupby(['domain', 'profound_hl'])\n",
    "         .score_adj.describe())"
   ]
  },
  {
   "cell_type": "markdown",
   "metadata": {},
   "source": [
    "Parent with(out) hearing loss"
   ]
  },
  {
   "cell_type": "code",
   "execution_count": 44,
   "metadata": {},
   "outputs": [
    {
     "data": {
      "text/html": [
       "<div>\n",
       "<style scoped>\n",
       "    .dataframe tbody tr th:only-of-type {\n",
       "        vertical-align: middle;\n",
       "    }\n",
       "\n",
       "    .dataframe tbody tr th {\n",
       "        vertical-align: top;\n",
       "    }\n",
       "\n",
       "    .dataframe thead th {\n",
       "        text-align: right;\n",
       "    }\n",
       "</style>\n",
       "<table border=\"1\" class=\"dataframe\">\n",
       "  <thead>\n",
       "    <tr style=\"text-align: right;\">\n",
       "      <th></th>\n",
       "      <th></th>\n",
       "      <th>count</th>\n",
       "      <th>mean</th>\n",
       "      <th>std</th>\n",
       "      <th>min</th>\n",
       "      <th>25%</th>\n",
       "      <th>50%</th>\n",
       "      <th>75%</th>\n",
       "      <th>max</th>\n",
       "    </tr>\n",
       "    <tr>\n",
       "      <th>domain</th>\n",
       "      <th>parent_with_hl</th>\n",
       "      <th></th>\n",
       "      <th></th>\n",
       "      <th></th>\n",
       "      <th></th>\n",
       "      <th></th>\n",
       "      <th></th>\n",
       "      <th></th>\n",
       "      <th></th>\n",
       "    </tr>\n",
       "  </thead>\n",
       "  <tbody>\n",
       "    <tr>\n",
       "      <th rowspan=\"2\" valign=\"top\">Articulation</th>\n",
       "      <th>False</th>\n",
       "      <td>31.0</td>\n",
       "      <td>74.546042</td>\n",
       "      <td>20.625267</td>\n",
       "      <td>33.609025</td>\n",
       "      <td>56.610061</td>\n",
       "      <td>77.447031</td>\n",
       "      <td>90.156904</td>\n",
       "      <td>103.83461</td>\n",
       "    </tr>\n",
       "    <tr>\n",
       "      <th>True</th>\n",
       "      <td>2.0</td>\n",
       "      <td>85.214582</td>\n",
       "      <td>8.140790</td>\n",
       "      <td>79.458174</td>\n",
       "      <td>82.336378</td>\n",
       "      <td>85.214582</td>\n",
       "      <td>88.092786</td>\n",
       "      <td>90.97099</td>\n",
       "    </tr>\n",
       "    <tr>\n",
       "      <th rowspan=\"2\" valign=\"top\">Expressive Language</th>\n",
       "      <th>False</th>\n",
       "      <td>52.0</td>\n",
       "      <td>69.913671</td>\n",
       "      <td>18.816390</td>\n",
       "      <td>42.000000</td>\n",
       "      <td>56.750000</td>\n",
       "      <td>65.000000</td>\n",
       "      <td>81.500000</td>\n",
       "      <td>115.00000</td>\n",
       "    </tr>\n",
       "    <tr>\n",
       "      <th>True</th>\n",
       "      <td>2.0</td>\n",
       "      <td>55.433100</td>\n",
       "      <td>9.286999</td>\n",
       "      <td>48.866200</td>\n",
       "      <td>52.149650</td>\n",
       "      <td>55.433100</td>\n",
       "      <td>58.716550</td>\n",
       "      <td>62.00000</td>\n",
       "    </tr>\n",
       "    <tr>\n",
       "      <th rowspan=\"2\" valign=\"top\">Expressive Vocabulary</th>\n",
       "      <th>False</th>\n",
       "      <td>50.0</td>\n",
       "      <td>82.016446</td>\n",
       "      <td>20.338114</td>\n",
       "      <td>20.000000</td>\n",
       "      <td>71.000000</td>\n",
       "      <td>79.523123</td>\n",
       "      <td>98.000000</td>\n",
       "      <td>125.00000</td>\n",
       "    </tr>\n",
       "    <tr>\n",
       "      <th>True</th>\n",
       "      <td>2.0</td>\n",
       "      <td>71.000000</td>\n",
       "      <td>14.142136</td>\n",
       "      <td>61.000000</td>\n",
       "      <td>66.000000</td>\n",
       "      <td>71.000000</td>\n",
       "      <td>76.000000</td>\n",
       "      <td>81.00000</td>\n",
       "    </tr>\n",
       "    <tr>\n",
       "      <th rowspan=\"2\" valign=\"top\">Language</th>\n",
       "      <th>False</th>\n",
       "      <td>51.0</td>\n",
       "      <td>68.536151</td>\n",
       "      <td>20.158483</td>\n",
       "      <td>42.000000</td>\n",
       "      <td>53.000000</td>\n",
       "      <td>62.000000</td>\n",
       "      <td>79.500000</td>\n",
       "      <td>129.00000</td>\n",
       "    </tr>\n",
       "    <tr>\n",
       "      <th>True</th>\n",
       "      <td>2.0</td>\n",
       "      <td>49.895415</td>\n",
       "      <td>7.218973</td>\n",
       "      <td>44.790831</td>\n",
       "      <td>47.343123</td>\n",
       "      <td>49.895415</td>\n",
       "      <td>52.447708</td>\n",
       "      <td>55.00000</td>\n",
       "    </tr>\n",
       "    <tr>\n",
       "      <th rowspan=\"2\" valign=\"top\">Receptive Language</th>\n",
       "      <th>False</th>\n",
       "      <td>51.0</td>\n",
       "      <td>70.730984</td>\n",
       "      <td>20.246734</td>\n",
       "      <td>46.000000</td>\n",
       "      <td>54.500000</td>\n",
       "      <td>65.000000</td>\n",
       "      <td>79.000000</td>\n",
       "      <td>140.00000</td>\n",
       "    </tr>\n",
       "    <tr>\n",
       "      <th>True</th>\n",
       "      <td>2.0</td>\n",
       "      <td>55.904837</td>\n",
       "      <td>14.276717</td>\n",
       "      <td>45.809673</td>\n",
       "      <td>50.857255</td>\n",
       "      <td>55.904837</td>\n",
       "      <td>60.952418</td>\n",
       "      <td>66.00000</td>\n",
       "    </tr>\n",
       "    <tr>\n",
       "      <th rowspan=\"2\" valign=\"top\">Receptive Vocabulary</th>\n",
       "      <th>False</th>\n",
       "      <td>53.0</td>\n",
       "      <td>81.148948</td>\n",
       "      <td>20.591579</td>\n",
       "      <td>34.000000</td>\n",
       "      <td>70.000000</td>\n",
       "      <td>80.000000</td>\n",
       "      <td>93.000000</td>\n",
       "      <td>141.00000</td>\n",
       "    </tr>\n",
       "    <tr>\n",
       "      <th>True</th>\n",
       "      <td>2.0</td>\n",
       "      <td>66.000000</td>\n",
       "      <td>16.970563</td>\n",
       "      <td>54.000000</td>\n",
       "      <td>60.000000</td>\n",
       "      <td>66.000000</td>\n",
       "      <td>72.000000</td>\n",
       "      <td>78.00000</td>\n",
       "    </tr>\n",
       "  </tbody>\n",
       "</table>\n",
       "</div>"
      ],
      "text/plain": [
       "                                      count       mean        std        min  \\\n",
       "domain                parent_with_hl                                           \n",
       "Articulation          False            31.0  74.546042  20.625267  33.609025   \n",
       "                      True              2.0  85.214582   8.140790  79.458174   \n",
       "Expressive Language   False            52.0  69.913671  18.816390  42.000000   \n",
       "                      True              2.0  55.433100   9.286999  48.866200   \n",
       "Expressive Vocabulary False            50.0  82.016446  20.338114  20.000000   \n",
       "                      True              2.0  71.000000  14.142136  61.000000   \n",
       "Language              False            51.0  68.536151  20.158483  42.000000   \n",
       "                      True              2.0  49.895415   7.218973  44.790831   \n",
       "Receptive Language    False            51.0  70.730984  20.246734  46.000000   \n",
       "                      True              2.0  55.904837  14.276717  45.809673   \n",
       "Receptive Vocabulary  False            53.0  81.148948  20.591579  34.000000   \n",
       "                      True              2.0  66.000000  16.970563  54.000000   \n",
       "\n",
       "                                            25%        50%        75%  \\\n",
       "domain                parent_with_hl                                    \n",
       "Articulation          False           56.610061  77.447031  90.156904   \n",
       "                      True            82.336378  85.214582  88.092786   \n",
       "Expressive Language   False           56.750000  65.000000  81.500000   \n",
       "                      True            52.149650  55.433100  58.716550   \n",
       "Expressive Vocabulary False           71.000000  79.523123  98.000000   \n",
       "                      True            66.000000  71.000000  76.000000   \n",
       "Language              False           53.000000  62.000000  79.500000   \n",
       "                      True            47.343123  49.895415  52.447708   \n",
       "Receptive Language    False           54.500000  65.000000  79.000000   \n",
       "                      True            50.857255  55.904837  60.952418   \n",
       "Receptive Vocabulary  False           70.000000  80.000000  93.000000   \n",
       "                      True            60.000000  66.000000  72.000000   \n",
       "\n",
       "                                            max  \n",
       "domain                parent_with_hl             \n",
       "Articulation          False           103.83461  \n",
       "                      True             90.97099  \n",
       "Expressive Language   False           115.00000  \n",
       "                      True             62.00000  \n",
       "Expressive Vocabulary False           125.00000  \n",
       "                      True             81.00000  \n",
       "Language              False           129.00000  \n",
       "                      True             55.00000  \n",
       "Receptive Language    False           140.00000  \n",
       "                      True             66.00000  \n",
       "Receptive Vocabulary  False           141.00000  \n",
       "                      True             78.00000  "
      ]
     },
     "execution_count": 44,
     "metadata": {},
     "output_type": "execute_result"
    }
   ],
   "source": [
    "test_scores.loc[test_scores.parent_hearing_loss=='Unknown', 'parent_hearing_loss'] = np.nan\n",
    "(test_scores.assign(parent_with_hl=test_scores.parent_hearing_loss.isin(['Both parents have hearing loss',\n",
    "                                                                       'Father has hearing loss',\n",
    "                                                                       'Mother has hearing loss']))\n",
    "         .groupby(['domain', 'parent_with_hl'])\n",
    "         .score_adj.describe())"
   ]
  },
  {
   "cell_type": "markdown",
   "metadata": {},
   "source": [
    "Mother with(out) college education"
   ]
  },
  {
   "cell_type": "code",
   "execution_count": 45,
   "metadata": {},
   "outputs": [
    {
     "data": {
      "text/html": [
       "<div>\n",
       "<style scoped>\n",
       "    .dataframe tbody tr th:only-of-type {\n",
       "        vertical-align: middle;\n",
       "    }\n",
       "\n",
       "    .dataframe tbody tr th {\n",
       "        vertical-align: top;\n",
       "    }\n",
       "\n",
       "    .dataframe thead th {\n",
       "        text-align: right;\n",
       "    }\n",
       "</style>\n",
       "<table border=\"1\" class=\"dataframe\">\n",
       "  <thead>\n",
       "    <tr style=\"text-align: right;\">\n",
       "      <th></th>\n",
       "      <th></th>\n",
       "      <th>count</th>\n",
       "      <th>mean</th>\n",
       "      <th>std</th>\n",
       "      <th>min</th>\n",
       "      <th>25%</th>\n",
       "      <th>50%</th>\n",
       "      <th>75%</th>\n",
       "      <th>max</th>\n",
       "    </tr>\n",
       "    <tr>\n",
       "      <th>domain</th>\n",
       "      <th>mother_college</th>\n",
       "      <th></th>\n",
       "      <th></th>\n",
       "      <th></th>\n",
       "      <th></th>\n",
       "      <th></th>\n",
       "      <th></th>\n",
       "      <th></th>\n",
       "      <th></th>\n",
       "    </tr>\n",
       "  </thead>\n",
       "  <tbody>\n",
       "    <tr>\n",
       "      <th rowspan=\"2\" valign=\"top\">Articulation</th>\n",
       "      <th>0.0</th>\n",
       "      <td>19.0</td>\n",
       "      <td>71.758393</td>\n",
       "      <td>21.703495</td>\n",
       "      <td>33.609025</td>\n",
       "      <td>53.223940</td>\n",
       "      <td>77.051675</td>\n",
       "      <td>88.018637</td>\n",
       "      <td>100.168326</td>\n",
       "    </tr>\n",
       "    <tr>\n",
       "      <th>1.0</th>\n",
       "      <td>7.0</td>\n",
       "      <td>90.697977</td>\n",
       "      <td>11.875320</td>\n",
       "      <td>77.447031</td>\n",
       "      <td>79.087935</td>\n",
       "      <td>93.132632</td>\n",
       "      <td>101.147848</td>\n",
       "      <td>103.834610</td>\n",
       "    </tr>\n",
       "    <tr>\n",
       "      <th rowspan=\"2\" valign=\"top\">Expressive Language</th>\n",
       "      <th>0.0</th>\n",
       "      <td>34.0</td>\n",
       "      <td>66.654231</td>\n",
       "      <td>15.630561</td>\n",
       "      <td>42.000000</td>\n",
       "      <td>57.000000</td>\n",
       "      <td>63.000000</td>\n",
       "      <td>73.778809</td>\n",
       "      <td>108.000000</td>\n",
       "    </tr>\n",
       "    <tr>\n",
       "      <th>1.0</th>\n",
       "      <td>10.0</td>\n",
       "      <td>81.850154</td>\n",
       "      <td>20.757334</td>\n",
       "      <td>48.866200</td>\n",
       "      <td>67.500000</td>\n",
       "      <td>84.000000</td>\n",
       "      <td>91.750000</td>\n",
       "      <td>112.000000</td>\n",
       "    </tr>\n",
       "    <tr>\n",
       "      <th rowspan=\"2\" valign=\"top\">Expressive Vocabulary</th>\n",
       "      <th>0.0</th>\n",
       "      <td>31.0</td>\n",
       "      <td>80.294992</td>\n",
       "      <td>18.491622</td>\n",
       "      <td>20.000000</td>\n",
       "      <td>73.000000</td>\n",
       "      <td>79.046246</td>\n",
       "      <td>90.500000</td>\n",
       "      <td>125.000000</td>\n",
       "    </tr>\n",
       "    <tr>\n",
       "      <th>1.0</th>\n",
       "      <td>8.0</td>\n",
       "      <td>91.800354</td>\n",
       "      <td>16.706899</td>\n",
       "      <td>61.000000</td>\n",
       "      <td>86.000000</td>\n",
       "      <td>96.201415</td>\n",
       "      <td>102.250000</td>\n",
       "      <td>110.000000</td>\n",
       "    </tr>\n",
       "    <tr>\n",
       "      <th rowspan=\"2\" valign=\"top\">Language</th>\n",
       "      <th>0.0</th>\n",
       "      <td>33.0</td>\n",
       "      <td>65.733021</td>\n",
       "      <td>16.241174</td>\n",
       "      <td>42.000000</td>\n",
       "      <td>55.000000</td>\n",
       "      <td>62.000000</td>\n",
       "      <td>74.000000</td>\n",
       "      <td>109.000000</td>\n",
       "    </tr>\n",
       "    <tr>\n",
       "      <th>1.0</th>\n",
       "      <td>10.0</td>\n",
       "      <td>79.236964</td>\n",
       "      <td>23.145471</td>\n",
       "      <td>44.790831</td>\n",
       "      <td>60.934110</td>\n",
       "      <td>79.500000</td>\n",
       "      <td>88.000000</td>\n",
       "      <td>114.000000</td>\n",
       "    </tr>\n",
       "    <tr>\n",
       "      <th rowspan=\"2\" valign=\"top\">Receptive Language</th>\n",
       "      <th>0.0</th>\n",
       "      <td>33.0</td>\n",
       "      <td>68.970666</td>\n",
       "      <td>16.903753</td>\n",
       "      <td>46.000000</td>\n",
       "      <td>57.000000</td>\n",
       "      <td>66.000000</td>\n",
       "      <td>77.000000</td>\n",
       "      <td>115.000000</td>\n",
       "    </tr>\n",
       "    <tr>\n",
       "      <th>1.0</th>\n",
       "      <td>10.0</td>\n",
       "      <td>78.340733</td>\n",
       "      <td>21.662338</td>\n",
       "      <td>45.809673</td>\n",
       "      <td>62.448241</td>\n",
       "      <td>78.500000</td>\n",
       "      <td>96.250000</td>\n",
       "      <td>109.000000</td>\n",
       "    </tr>\n",
       "    <tr>\n",
       "      <th rowspan=\"2\" valign=\"top\">Receptive Vocabulary</th>\n",
       "      <th>0.0</th>\n",
       "      <td>34.0</td>\n",
       "      <td>79.601512</td>\n",
       "      <td>15.030383</td>\n",
       "      <td>34.000000</td>\n",
       "      <td>71.250000</td>\n",
       "      <td>78.500000</td>\n",
       "      <td>88.250000</td>\n",
       "      <td>114.000000</td>\n",
       "    </tr>\n",
       "    <tr>\n",
       "      <th>1.0</th>\n",
       "      <td>9.0</td>\n",
       "      <td>93.271425</td>\n",
       "      <td>25.079776</td>\n",
       "      <td>54.000000</td>\n",
       "      <td>87.000000</td>\n",
       "      <td>98.442827</td>\n",
       "      <td>103.000000</td>\n",
       "      <td>135.000000</td>\n",
       "    </tr>\n",
       "  </tbody>\n",
       "</table>\n",
       "</div>"
      ],
      "text/plain": [
       "                                      count       mean        std        min  \\\n",
       "domain                mother_college                                           \n",
       "Articulation          0.0              19.0  71.758393  21.703495  33.609025   \n",
       "                      1.0               7.0  90.697977  11.875320  77.447031   \n",
       "Expressive Language   0.0              34.0  66.654231  15.630561  42.000000   \n",
       "                      1.0              10.0  81.850154  20.757334  48.866200   \n",
       "Expressive Vocabulary 0.0              31.0  80.294992  18.491622  20.000000   \n",
       "                      1.0               8.0  91.800354  16.706899  61.000000   \n",
       "Language              0.0              33.0  65.733021  16.241174  42.000000   \n",
       "                      1.0              10.0  79.236964  23.145471  44.790831   \n",
       "Receptive Language    0.0              33.0  68.970666  16.903753  46.000000   \n",
       "                      1.0              10.0  78.340733  21.662338  45.809673   \n",
       "Receptive Vocabulary  0.0              34.0  79.601512  15.030383  34.000000   \n",
       "                      1.0               9.0  93.271425  25.079776  54.000000   \n",
       "\n",
       "                                            25%        50%         75%  \\\n",
       "domain                mother_college                                     \n",
       "Articulation          0.0             53.223940  77.051675   88.018637   \n",
       "                      1.0             79.087935  93.132632  101.147848   \n",
       "Expressive Language   0.0             57.000000  63.000000   73.778809   \n",
       "                      1.0             67.500000  84.000000   91.750000   \n",
       "Expressive Vocabulary 0.0             73.000000  79.046246   90.500000   \n",
       "                      1.0             86.000000  96.201415  102.250000   \n",
       "Language              0.0             55.000000  62.000000   74.000000   \n",
       "                      1.0             60.934110  79.500000   88.000000   \n",
       "Receptive Language    0.0             57.000000  66.000000   77.000000   \n",
       "                      1.0             62.448241  78.500000   96.250000   \n",
       "Receptive Vocabulary  0.0             71.250000  78.500000   88.250000   \n",
       "                      1.0             87.000000  98.442827  103.000000   \n",
       "\n",
       "                                             max  \n",
       "domain                mother_college              \n",
       "Articulation          0.0             100.168326  \n",
       "                      1.0             103.834610  \n",
       "Expressive Language   0.0             108.000000  \n",
       "                      1.0             112.000000  \n",
       "Expressive Vocabulary 0.0             125.000000  \n",
       "                      1.0             110.000000  \n",
       "Language              0.0             109.000000  \n",
       "                      1.0             114.000000  \n",
       "Receptive Language    0.0             115.000000  \n",
       "                      1.0             109.000000  \n",
       "Receptive Vocabulary  0.0             114.000000  \n",
       "                      1.0             135.000000  "
      ]
     },
     "execution_count": 45,
     "metadata": {},
     "output_type": "execute_result"
    }
   ],
   "source": [
    "test_scores.groupby(['domain', 'mother_college']).score_adj.describe()"
   ]
  },
  {
   "cell_type": "code",
   "execution_count": null,
   "metadata": {},
   "outputs": [],
   "source": []
  }
 ],
 "metadata": {
  "kernelspec": {
   "display_name": "Python 3",
   "language": "python",
   "name": "python3"
  },
  "language_info": {
   "codemirror_mode": {
    "name": "ipython",
    "version": 3
   },
   "file_extension": ".py",
   "mimetype": "text/x-python",
   "name": "python",
   "nbconvert_exporter": "python",
   "pygments_lexer": "ipython3",
   "version": "3.6.7"
  }
 },
 "nbformat": 4,
 "nbformat_minor": 4
}
