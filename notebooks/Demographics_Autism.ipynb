{
 "cells": [
  {
   "cell_type": "code",
   "execution_count": 1,
   "metadata": {},
   "outputs": [],
   "source": [
    "# Import modules and set options\n",
    "%matplotlib inline\n",
    "import matplotlib.pyplot as plt\n",
    "import pandas as pd\n",
    "import numpy as np\n",
    "import seaborn as sns\n",
    "# import pandas_profiling\n",
    "\n",
    "sns.set(context='notebook', style='ticks')"
   ]
  },
  {
   "cell_type": "code",
   "execution_count": 2,
   "metadata": {},
   "outputs": [],
   "source": [
    "lsl_dr = (pd.read_csv('../data/clean/lsl_dr_frozen_09272019.csv', index_col=0, low_memory=False)\n",
    "                  .rename({'onset_1':'identify_mo'}, axis=1))"
   ]
  },
  {
   "cell_type": "code",
   "execution_count": 3,
   "metadata": {},
   "outputs": [
    {
     "data": {
      "text/plain": [
       "(65064, 246)"
      ]
     },
     "execution_count": 3,
     "metadata": {},
     "output_type": "execute_result"
    }
   ],
   "source": [
    "lsl_dr.shape"
   ]
  },
  {
   "cell_type": "markdown",
   "metadata": {},
   "source": [
    "Exclusions"
   ]
  },
  {
   "cell_type": "code",
   "execution_count": 4,
   "metadata": {},
   "outputs": [],
   "source": [
    "other_etiology = (lsl_dr[['etiology_3___2', 'etiology_3___4', 'etiology_3___5', 'etiology_3___6', 'etiology_3___9',\n",
    "       'etiology_oth___1', 'etiology_oth___3', 'etiology_oth___4', 'etiology_oth___8', 'etiology_oth___9']]\n",
    "                      .sum(1).astype(bool))"
   ]
  },
  {
   "cell_type": "code",
   "execution_count": 5,
   "metadata": {},
   "outputs": [],
   "source": [
    "inclusion_mask = (~lsl_dr.non_english.astype(bool) \n",
    "                  & ((lsl_dr.autism==1)))"
   ]
  },
  {
   "cell_type": "code",
   "execution_count": 6,
   "metadata": {},
   "outputs": [
    {
     "data": {
      "text/plain": [
       "(67, 246)"
      ]
     },
     "execution_count": 6,
     "metadata": {},
     "output_type": "execute_result"
    }
   ],
   "source": [
    "autism_subset = lsl_dr[inclusion_mask]\n",
    "autism_subset.drop_duplicates(subset='study_id').shape"
   ]
  },
  {
   "cell_type": "markdown",
   "metadata": {},
   "source": [
    "## Demographics"
   ]
  },
  {
   "cell_type": "code",
   "execution_count": 7,
   "metadata": {},
   "outputs": [
    {
     "data": {
      "text/plain": [
       "Male      228\n",
       "Female     72\n",
       "Name: male, dtype: int64"
      ]
     },
     "execution_count": 7,
     "metadata": {},
     "output_type": "execute_result"
    }
   ],
   "source": [
    "autism_subset.male.replace({1: 'Male', 0: 'Female', np.nan: 'Missing'}).value_counts()"
   ]
  },
  {
   "cell_type": "code",
   "execution_count": 8,
   "metadata": {},
   "outputs": [
    {
     "data": {
      "text/plain": [
       "White       202\n",
       "Other        38\n",
       "Black        37\n",
       "Hispanic      9\n",
       "Asian         8\n",
       "Missing       6\n",
       "Name: race, dtype: int64"
      ]
     },
     "execution_count": 8,
     "metadata": {},
     "output_type": "execute_result"
    }
   ],
   "source": [
    "autism_subset.race.replace({0:'White', 1:'Black', 2:'Hispanic', 3:'Asian', 4:'Other', np.nan:'Missing'}).value_counts()"
   ]
  },
  {
   "cell_type": "code",
   "execution_count": 9,
   "metadata": {},
   "outputs": [
    {
     "data": {
      "text/plain": [
       ">=36 weeks    236\n",
       "<36 weeks      64\n",
       "Name: premature_age, dtype: int64"
      ]
     },
     "execution_count": 9,
     "metadata": {},
     "output_type": "execute_result"
    }
   ],
   "source": [
    "(autism_subset.premature_age.replace({9:None})==8).replace({True: '>=36 weeks', False: '<36 weeks', \n",
    "                                                            np.nan: 'Unknown'}).value_counts()"
   ]
  },
  {
   "cell_type": "code",
   "execution_count": 10,
   "metadata": {},
   "outputs": [
    {
     "data": {
      "text/plain": [
       "1           88\n",
       "2          117\n",
       "3           55\n",
       "4+          13\n",
       "Missing     27\n",
       "Name: sib, dtype: int64"
      ]
     },
     "execution_count": 10,
     "metadata": {},
     "output_type": "execute_result"
    }
   ],
   "source": [
    "autism_subset.sib.replace({0:'1', 1:'2', 2:'3', 3:'4+', np.nan:'Missing'}).value_counts().sort_index()"
   ]
  },
  {
   "cell_type": "code",
   "execution_count": 11,
   "metadata": {},
   "outputs": [
    {
     "data": {
      "text/plain": [
       "High school diploma/GED    139\n",
       "Unknown                     62\n",
       "Some college                54\n",
       "Some high school            45\n",
       "Name: mother_ed, dtype: int64"
      ]
     },
     "execution_count": 11,
     "metadata": {},
     "output_type": "execute_result"
    }
   ],
   "source": [
    "ed_lookup = {0:\"8th grade or less\",\n",
    "1:\"Some high school\",\n",
    "2:\"High school diploma/GED\",\n",
    "3:\"Some college\",\n",
    "4:\"Bachelor's degree\",\n",
    "5:\"Post graduate degree\",\n",
    "6:\"Unknown\",\n",
    "np.nan:\"Unknown\"}\n",
    "\n",
    "autism_subset.mother_ed.replace(ed_lookup).value_counts()"
   ]
  },
  {
   "cell_type": "code",
   "execution_count": 12,
   "metadata": {},
   "outputs": [
    {
     "data": {
      "text/plain": [
       "Bachelor's degree          86\n",
       "Unknown                    74\n",
       "Post graduate degree       67\n",
       "Some college               45\n",
       "High school diploma/GED    28\n",
       "Name: father_ed, dtype: int64"
      ]
     },
     "execution_count": 12,
     "metadata": {},
     "output_type": "execute_result"
    }
   ],
   "source": [
    "autism_subset.father_ed.replace(ed_lookup).value_counts()"
   ]
  },
  {
   "cell_type": "code",
   "execution_count": 13,
   "metadata": {},
   "outputs": [
    {
     "data": {
      "text/plain": [
       "Ideal Participation      123\n",
       "Average Participation     83\n",
       "Missing                   49\n",
       "Good Participation        37\n",
       "Below Average              8\n",
       "Name: family_inv, dtype: int64"
      ]
     },
     "execution_count": 13,
     "metadata": {},
     "output_type": "execute_result"
    }
   ],
   "source": [
    "family_lookup = {0:\"Ideal Participation\",\n",
    "1:\"Good Participation\",\n",
    "2:\"Average Participation\",\n",
    "3:\"Below Average\",\n",
    "4:\"Limited Participation\",\n",
    "np.nan:\"Missing\"}\n",
    "\n",
    "autism_subset.family_inv.replace(family_lookup).value_counts()"
   ]
  },
  {
   "cell_type": "code",
   "execution_count": 14,
   "metadata": {},
   "outputs": [
    {
     "data": {
      "text/html": [
       "<div>\n",
       "<style scoped>\n",
       "    .dataframe tbody tr th:only-of-type {\n",
       "        vertical-align: middle;\n",
       "    }\n",
       "\n",
       "    .dataframe tbody tr th {\n",
       "        vertical-align: top;\n",
       "    }\n",
       "\n",
       "    .dataframe thead th {\n",
       "        text-align: right;\n",
       "    }\n",
       "</style>\n",
       "<table border=\"1\" class=\"dataframe\">\n",
       "  <thead>\n",
       "    <tr style=\"text-align: right;\">\n",
       "      <th></th>\n",
       "      <th>age_diag</th>\n",
       "      <th>age_amp</th>\n",
       "      <th>age_int</th>\n",
       "      <th>age</th>\n",
       "    </tr>\n",
       "  </thead>\n",
       "  <tbody>\n",
       "    <tr>\n",
       "      <td>count</td>\n",
       "      <td>146.000000</td>\n",
       "      <td>142.000000</td>\n",
       "      <td>191.000000</td>\n",
       "      <td>297.000000</td>\n",
       "    </tr>\n",
       "    <tr>\n",
       "      <td>mean</td>\n",
       "      <td>15.767123</td>\n",
       "      <td>20.204225</td>\n",
       "      <td>24.989529</td>\n",
       "      <td>46.993266</td>\n",
       "    </tr>\n",
       "    <tr>\n",
       "      <td>std</td>\n",
       "      <td>18.262092</td>\n",
       "      <td>18.261512</td>\n",
       "      <td>19.596989</td>\n",
       "      <td>26.528668</td>\n",
       "    </tr>\n",
       "    <tr>\n",
       "      <td>min</td>\n",
       "      <td>0.000000</td>\n",
       "      <td>1.000000</td>\n",
       "      <td>1.000000</td>\n",
       "      <td>1.000000</td>\n",
       "    </tr>\n",
       "    <tr>\n",
       "      <td>25%</td>\n",
       "      <td>1.000000</td>\n",
       "      <td>3.250000</td>\n",
       "      <td>10.000000</td>\n",
       "      <td>30.000000</td>\n",
       "    </tr>\n",
       "    <tr>\n",
       "      <td>50%</td>\n",
       "      <td>10.000000</td>\n",
       "      <td>19.000000</td>\n",
       "      <td>23.000000</td>\n",
       "      <td>44.000000</td>\n",
       "    </tr>\n",
       "    <tr>\n",
       "      <td>75%</td>\n",
       "      <td>21.000000</td>\n",
       "      <td>27.000000</td>\n",
       "      <td>36.000000</td>\n",
       "      <td>65.000000</td>\n",
       "    </tr>\n",
       "    <tr>\n",
       "      <td>max</td>\n",
       "      <td>83.000000</td>\n",
       "      <td>83.000000</td>\n",
       "      <td>83.000000</td>\n",
       "      <td>141.000000</td>\n",
       "    </tr>\n",
       "  </tbody>\n",
       "</table>\n",
       "</div>"
      ],
      "text/plain": [
       "         age_diag     age_amp     age_int         age\n",
       "count  146.000000  142.000000  191.000000  297.000000\n",
       "mean    15.767123   20.204225   24.989529   46.993266\n",
       "std     18.262092   18.261512   19.596989   26.528668\n",
       "min      0.000000    1.000000    1.000000    1.000000\n",
       "25%      1.000000    3.250000   10.000000   30.000000\n",
       "50%     10.000000   19.000000   23.000000   44.000000\n",
       "75%     21.000000   27.000000   36.000000   65.000000\n",
       "max     83.000000   83.000000   83.000000  141.000000"
      ]
     },
     "execution_count": 14,
     "metadata": {},
     "output_type": "execute_result"
    }
   ],
   "source": [
    "autism_subset[[\"age_diag\", \"age_amp\", \"age_int\", \"age\"]].describe()"
   ]
  },
  {
   "cell_type": "code",
   "execution_count": 15,
   "metadata": {},
   "outputs": [
    {
     "data": {
      "text/plain": [
       "OPTION + outside    121\n",
       "OPTION only          80\n",
       "Missing               8\n",
       "Name: otherserv, dtype: int64"
      ]
     },
     "execution_count": 15,
     "metadata": {},
     "output_type": "execute_result"
    }
   ],
   "source": [
    "autism_subset.otherserv.replace({0: \"OPTION + outside\", 1: \"OPTION only\", 2: \"Missing\"}).value_counts()"
   ]
  },
  {
   "cell_type": "markdown",
   "metadata": {},
   "source": [
    "## Hearing loss"
   ]
  },
  {
   "cell_type": "code",
   "execution_count": 16,
   "metadata": {},
   "outputs": [
    {
     "data": {
      "text/plain": [
       "90"
      ]
     },
     "execution_count": 16,
     "metadata": {},
     "output_type": "execute_result"
    }
   ],
   "source": [
    "autism_subset.degree_hl_ad.isnull().sum()"
   ]
  },
  {
   "cell_type": "code",
   "execution_count": 17,
   "metadata": {},
   "outputs": [
    {
     "data": {
      "text/plain": [
       "90"
      ]
     },
     "execution_count": 17,
     "metadata": {},
     "output_type": "execute_result"
    }
   ],
   "source": [
    "autism_subset.degree_hl_as.isnull().sum()"
   ]
  },
  {
   "cell_type": "code",
   "execution_count": 18,
   "metadata": {},
   "outputs": [
    {
     "data": {
      "text/plain": [
       "6.0    84\n",
       "0.0    64\n",
       "3.0    23\n",
       "4.0    13\n",
       "5.0    13\n",
       "1.0     8\n",
       "2.0     5\n",
       "Name: degree_hl_ad, dtype: int64"
      ]
     },
     "execution_count": 18,
     "metadata": {},
     "output_type": "execute_result"
    }
   ],
   "source": [
    "autism_subset.degree_hl_ad.value_counts()"
   ]
  },
  {
   "cell_type": "code",
   "execution_count": 19,
   "metadata": {},
   "outputs": [
    {
     "data": {
      "text/plain": [
       "0.0    73\n",
       "6.0    72\n",
       "3.0    22\n",
       "5.0    18\n",
       "2.0    16\n",
       "4.0     7\n",
       "1.0     2\n",
       "Name: degree_hl_as, dtype: int64"
      ]
     },
     "execution_count": 19,
     "metadata": {},
     "output_type": "execute_result"
    }
   ],
   "source": [
    "autism_subset.degree_hl_as.value_counts()"
   ]
  },
  {
   "cell_type": "code",
   "execution_count": 20,
   "metadata": {},
   "outputs": [],
   "source": [
    "hl_data = autism_subset.set_index('study_id')[['bilateral_snhl',\n",
    "                     'bilateral_ansd',\n",
    "                     'bilateral_mixed',\n",
    "                     'bilateral_cond',\n",
    "                     'bilateral_normal',\n",
    "                     'bilateral_unk',\n",
    "                     'unilateral_snhl',\n",
    "                     'unilateral_ansd',\n",
    "                     'unilateral_mixed',\n",
    "                     'unilateral_cond',\n",
    "                     'unilateral_unk',\n",
    "                     'assymetrical']]"
   ]
  },
  {
   "cell_type": "markdown",
   "metadata": {},
   "source": [
    "One or both parents with hearing loss"
   ]
  },
  {
   "cell_type": "code",
   "execution_count": 21,
   "metadata": {},
   "outputs": [
    {
     "data": {
      "text/plain": [
       "0.0    251\n",
       "1.0     12\n",
       "Name: one_or_both_parent_hl, dtype: int64"
      ]
     },
     "execution_count": 21,
     "metadata": {},
     "output_type": "execute_result"
    }
   ],
   "source": [
    "autism_subset.one_or_both_parent_hl.value_counts()"
   ]
  },
  {
   "cell_type": "code",
   "execution_count": 22,
   "metadata": {},
   "outputs": [
    {
     "data": {
      "text/plain": [
       "37"
      ]
     },
     "execution_count": 22,
     "metadata": {},
     "output_type": "execute_result"
    }
   ],
   "source": [
    "autism_subset.one_or_both_parent_hl.isnull().sum()"
   ]
  },
  {
   "cell_type": "markdown",
   "metadata": {},
   "source": [
    "Individuals with no hearing loss type"
   ]
  },
  {
   "cell_type": "code",
   "execution_count": 23,
   "metadata": {},
   "outputs": [
    {
     "data": {
      "text/plain": [
       "array(['0416-2012-8486', '0416-2012-8486', '0416-2012-8486',\n",
       "       '0416-2012-8486', '0416-2012-8486', '0416-2012-8486',\n",
       "       '0735-2011-0006', '0735-2011-0006', '0735-2011-0006',\n",
       "       '0735-2011-0006', '0735-2011-0006', '0411-2012-0006',\n",
       "       '0411-2012-0006', '0411-2012-0006', '0411-2012-0017',\n",
       "       '0411-2012-0017', '0411-2011-0035', '0411-2011-0035',\n",
       "       '0411-2011-0035', '0414-2015-0024', '0414-2015-0024',\n",
       "       '0414-2015-0024', '0414-2015-0024', '0414-2015-0024',\n",
       "       '0411-2012-0035', '0411-2012-0035', '0411-2012-0035',\n",
       "       '0411-2013-0006', '0411-2013-0006', '0411-2013-0006',\n",
       "       '0411-2013-0004', '0411-2013-0004', '0411-2013-0004',\n",
       "       '0414-2017-0020', '0414-2017-0020', '0414-2017-0020',\n",
       "       '0414-2017-0020', '0414-2017-0020', '0414-2017-0023',\n",
       "       '0414-2017-0023', '0414-2017-0023', '0414-2017-0023',\n",
       "       '0414-2017-0023', '0414-2014-0267', '0414-2014-0267',\n",
       "       '0414-2014-0267', '0414-2014-0267', '0414-2014-0267',\n",
       "       '0414-2014-0267', '0414-2013-0273', '0414-2013-0273',\n",
       "       '0414-2013-0273', '0414-2013-0281', '0414-2013-0281',\n",
       "       '0414-2013-0281', '0414-2013-0281', '0414-2013-0281',\n",
       "       '0414-2013-0281', '0414-2013-0293', '0414-2013-0293',\n",
       "       '0414-2013-0293', '0414-2013-0293', '0414-2013-0293',\n",
       "       '0414-2013-0293', '0414-2013-0295', '0414-2013-0295',\n",
       "       '0414-2013-0295', '0414-2013-0295', '0414-2013-0295',\n",
       "       '0414-2013-0295', '0411-2011-0012', '0411-2011-0012',\n",
       "       '0411-2011-0012', '0411-2010-0017', '0411-2010-0017',\n",
       "       '0414-2014-0282', '0414-2014-0282', '0414-2014-0282',\n",
       "       '0414-2014-0282', '0414-2014-0282', '0414-2014-0282',\n",
       "       '0414-2014-0285', '0414-2014-0285', '0414-2014-0285',\n",
       "       '0411-2010-0030', '0411-2010-0030', '0411-2010-0030',\n",
       "       '0411-2014-0038', '0411-2014-0038', '0411-2014-0038'], dtype=object)"
      ]
     },
     "execution_count": 23,
     "metadata": {},
     "output_type": "execute_result"
    }
   ],
   "source": [
    "hl_data[hl_data.sum(1)==0].index.values"
   ]
  },
  {
   "cell_type": "code",
   "execution_count": 24,
   "metadata": {},
   "outputs": [
    {
     "data": {
      "text/plain": [
       "bilateral_snhl      133\n",
       "bilateral_normal     64\n",
       "unilateral_snhl       6\n",
       "unilateral_mixed      3\n",
       "assymetrical          2\n",
       "bilateral_mixed       2\n",
       "unilateral_unk        0\n",
       "unilateral_cond       0\n",
       "unilateral_ansd       0\n",
       "bilateral_unk         0\n",
       "bilateral_cond        0\n",
       "bilateral_ansd        0\n",
       "dtype: int64"
      ]
     },
     "execution_count": 24,
     "metadata": {},
     "output_type": "execute_result"
    }
   ],
   "source": [
    "hl_data.sum().astype(int).sort_values(ascending=False)"
   ]
  },
  {
   "cell_type": "code",
   "execution_count": 25,
   "metadata": {},
   "outputs": [
    {
     "data": {
      "text/plain": [
       "bilateral_snhl      0.44\n",
       "bilateral_normal    0.21\n",
       "unilateral_snhl     0.02\n",
       "assymetrical        0.01\n",
       "unilateral_mixed    0.01\n",
       "bilateral_mixed     0.01\n",
       "unilateral_unk      0.00\n",
       "unilateral_cond     0.00\n",
       "unilateral_ansd     0.00\n",
       "bilateral_unk       0.00\n",
       "bilateral_cond      0.00\n",
       "bilateral_ansd      0.00\n",
       "dtype: float64"
      ]
     },
     "execution_count": 25,
     "metadata": {},
     "output_type": "execute_result"
    }
   ],
   "source": [
    "hl_data.mean().round(2).sort_values(ascending=False)"
   ]
  },
  {
   "cell_type": "code",
   "execution_count": 26,
   "metadata": {},
   "outputs": [],
   "source": [
    "tech_data = autism_subset.set_index('study_id')[['bilateral_ha',\n",
    "                     'bilateral_ci',\n",
    "                     'bimodal',\n",
    "                     'bilateral_other',\n",
    "                     'unilateral_ha',\n",
    "                     'unilateral_ci',\n",
    "                     'unilateral_other']]"
   ]
  },
  {
   "cell_type": "code",
   "execution_count": 27,
   "metadata": {},
   "outputs": [
    {
     "data": {
      "text/plain": [
       "bilateral_ci        190\n",
       "bilateral_ha         20\n",
       "unilateral_ci        14\n",
       "bimodal              10\n",
       "unilateral_other      0\n",
       "unilateral_ha         0\n",
       "bilateral_other       0\n",
       "dtype: int64"
      ]
     },
     "execution_count": 27,
     "metadata": {},
     "output_type": "execute_result"
    }
   ],
   "source": [
    "tech_data.sum().astype(int).sort_values(ascending=False)"
   ]
  },
  {
   "cell_type": "code",
   "execution_count": 28,
   "metadata": {},
   "outputs": [
    {
     "data": {
      "text/plain": [
       "bilateral_ci        0.63\n",
       "bilateral_ha        0.07\n",
       "unilateral_ci       0.05\n",
       "bimodal             0.03\n",
       "unilateral_other    0.00\n",
       "unilateral_ha       0.00\n",
       "bilateral_other     0.00\n",
       "dtype: float64"
      ]
     },
     "execution_count": 28,
     "metadata": {},
     "output_type": "execute_result"
    }
   ],
   "source": [
    "tech_data.mean().round(2).sort_values(ascending=False)"
   ]
  },
  {
   "cell_type": "markdown",
   "metadata": {},
   "source": [
    "Individuals with no technology type"
   ]
  },
  {
   "cell_type": "code",
   "execution_count": 29,
   "metadata": {},
   "outputs": [
    {
     "data": {
      "text/plain": [
       "array(['0735-2019-0020', '0735-2019-0020', '0414-2011-0180',\n",
       "       '0414-2011-0180', '0414-2011-0180', '0414-2011-0180',\n",
       "       '0414-2009-0079', '0414-2009-0079', '0414-2009-0079',\n",
       "       '0414-2009-0079', '0414-2009-0079', '0414-2009-0079',\n",
       "       '0414-2009-0041', '0414-2009-0041', '0414-2009-0041',\n",
       "       '0414-2009-0041', '0414-2009-0041', '0414-2009-0041',\n",
       "       '0414-2009-0056', '0414-2009-0056', '0414-2009-0056',\n",
       "       '0414-2009-0056', '0414-2009-0056', '0414-2009-0056',\n",
       "       '0414-2012-0228', '0414-2012-0228', '0414-2012-0228',\n",
       "       '0414-2012-0228', '0414-2012-0228', '0414-2012-0228',\n",
       "       '0414-2012-0229', '0414-2012-0229', '0414-2012-0229',\n",
       "       '0414-2012-0229', '0414-2012-0229', '0414-2012-0229',\n",
       "       '0414-2011-0153', '0414-2011-0153', '0414-2011-0153',\n",
       "       '0414-2011-0153', '0414-2011-0153', '0414-2011-0153',\n",
       "       '0414-2011-0155', '0414-2011-0155', '0414-2011-0155',\n",
       "       '0414-2011-0155', '0414-2011-0155', '0414-2011-0155',\n",
       "       '0414-2011-0154', '0414-2011-0154', '0414-2011-0154',\n",
       "       '0414-2011-0154', '0414-2011-0154', '0414-2011-0154',\n",
       "       '0414-2010-0055', '0414-2010-0055', '0414-2010-0055',\n",
       "       '0414-2010-0055', '0414-2010-0055', '0414-2010-0055',\n",
       "       '0414-2011-0178', '0414-2011-0178', '0414-2011-0178',\n",
       "       '0414-2011-0178', '0414-2011-0178', '0414-2011-0178'], dtype=object)"
      ]
     },
     "execution_count": 29,
     "metadata": {},
     "output_type": "execute_result"
    }
   ],
   "source": [
    "tech_data[tech_data.sum(1)==0].index.values"
   ]
  },
  {
   "cell_type": "markdown",
   "metadata": {},
   "source": [
    "## Hearing Loss"
   ]
  },
  {
   "cell_type": "code",
   "execution_count": 30,
   "metadata": {},
   "outputs": [
    {
     "data": {
      "text/plain": [
       "Index(['degree_hl_ad', 'type_hl_ad', 'degree_hl_as', 'type_hl_as',\n",
       "       'bilateral_hl_normal', 'bilateral_hl_slight', 'bilateral_hl_mild',\n",
       "       'bilateral_hl_moderate', 'bilateral_hl_modsev', 'bilateral_hl_severe',\n",
       "       'bilateral_hl_profound', 'unilateral_hl_slight', 'unilateral_hl_mild',\n",
       "       'unilateral_hl_moderate', 'unilateral_hl_modsev',\n",
       "       'unilateral_hl_severe', 'unilateral_hl_profound'],\n",
       "      dtype='object')"
      ]
     },
     "execution_count": 30,
     "metadata": {},
     "output_type": "execute_result"
    }
   ],
   "source": [
    "autism_subset.columns[autism_subset.columns.str.contains('_hl_')]"
   ]
  },
  {
   "cell_type": "code",
   "execution_count": 31,
   "metadata": {},
   "outputs": [],
   "source": [
    "hl_data = autism_subset.set_index('study_id')[['bilateral_hl_normal', 'bilateral_hl_slight', 'bilateral_hl_mild',\n",
    "       'bilateral_hl_moderate', 'bilateral_hl_modsev', 'bilateral_hl_severe',\n",
    "       'bilateral_hl_profound', 'unilateral_hl_slight', 'unilateral_hl_mild',\n",
    "       'unilateral_hl_moderate', 'unilateral_hl_modsev',\n",
    "       'unilateral_hl_severe', 'unilateral_hl_profound']]"
   ]
  },
  {
   "cell_type": "code",
   "execution_count": 32,
   "metadata": {},
   "outputs": [
    {
     "data": {
      "text/plain": [
       "bilateral_hl_profound     69\n",
       "bilateral_hl_normal       64\n",
       "bilateral_hl_moderate     14\n",
       "bilateral_hl_severe       13\n",
       "unilateral_hl_modsev       9\n",
       "bilateral_hl_mild          3\n",
       "bilateral_hl_slight        2\n",
       "unilateral_hl_profound     0\n",
       "unilateral_hl_severe       0\n",
       "unilateral_hl_moderate     0\n",
       "unilateral_hl_mild         0\n",
       "unilateral_hl_slight       0\n",
       "bilateral_hl_modsev        0\n",
       "dtype: int64"
      ]
     },
     "execution_count": 32,
     "metadata": {},
     "output_type": "execute_result"
    }
   ],
   "source": [
    "hl_data.sum().astype(int).sort_values(ascending=False)"
   ]
  },
  {
   "cell_type": "code",
   "execution_count": 33,
   "metadata": {},
   "outputs": [
    {
     "data": {
      "text/plain": [
       "bilateral_hl_profound     0.23\n",
       "bilateral_hl_normal       0.21\n",
       "bilateral_hl_moderate     0.05\n",
       "bilateral_hl_severe       0.04\n",
       "unilateral_hl_modsev      0.03\n",
       "bilateral_hl_mild         0.01\n",
       "bilateral_hl_slight       0.01\n",
       "unilateral_hl_profound    0.00\n",
       "unilateral_hl_severe      0.00\n",
       "unilateral_hl_moderate    0.00\n",
       "unilateral_hl_mild        0.00\n",
       "unilateral_hl_slight      0.00\n",
       "bilateral_hl_modsev       0.00\n",
       "dtype: float64"
      ]
     },
     "execution_count": 33,
     "metadata": {},
     "output_type": "execute_result"
    }
   ],
   "source": [
    "hl_data.mean().round(2).sort_values(ascending=False)"
   ]
  },
  {
   "cell_type": "markdown",
   "metadata": {},
   "source": [
    "Missing one or both hearing loss values (left/right)"
   ]
  },
  {
   "cell_type": "code",
   "execution_count": 34,
   "metadata": {},
   "outputs": [
    {
     "data": {
      "text/plain": [
       "90"
      ]
     },
     "execution_count": 34,
     "metadata": {},
     "output_type": "execute_result"
    }
   ],
   "source": [
    "(autism_subset[['degree_hl_ad', 'degree_hl_as']].isnull().sum(1) > 0).sum()"
   ]
  },
  {
   "cell_type": "markdown",
   "metadata": {},
   "source": [
    "## Summary of scores by domain"
   ]
  },
  {
   "cell_type": "code",
   "execution_count": 35,
   "metadata": {},
   "outputs": [],
   "source": [
    "test_scores = lsl_dr[inclusion_mask].copy()"
   ]
  },
  {
   "cell_type": "code",
   "execution_count": 36,
   "metadata": {},
   "outputs": [],
   "source": [
    "test_scores.loc[(test_scores.domain=='Language') & (test_scores.test_type=='receptive'), \n",
    "           'domain'] = 'Receptive Language'\n",
    "test_scores.loc[(test_scores.domain=='Language') & (test_scores.test_type=='expressive'), \n",
    "           'domain'] = 'Expressive Language'"
   ]
  },
  {
   "cell_type": "code",
   "execution_count": 37,
   "metadata": {},
   "outputs": [
    {
     "data": {
      "text/html": [
       "<div>\n",
       "<style scoped>\n",
       "    .dataframe tbody tr th:only-of-type {\n",
       "        vertical-align: middle;\n",
       "    }\n",
       "\n",
       "    .dataframe tbody tr th {\n",
       "        vertical-align: top;\n",
       "    }\n",
       "\n",
       "    .dataframe thead th {\n",
       "        text-align: right;\n",
       "    }\n",
       "</style>\n",
       "<table border=\"1\" class=\"dataframe\">\n",
       "  <thead>\n",
       "    <tr style=\"text-align: right;\">\n",
       "      <th></th>\n",
       "      <th>count</th>\n",
       "      <th>mean</th>\n",
       "      <th>std</th>\n",
       "      <th>min</th>\n",
       "      <th>25%</th>\n",
       "      <th>50%</th>\n",
       "      <th>75%</th>\n",
       "      <th>max</th>\n",
       "    </tr>\n",
       "    <tr>\n",
       "      <th>domain</th>\n",
       "      <th></th>\n",
       "      <th></th>\n",
       "      <th></th>\n",
       "      <th></th>\n",
       "      <th></th>\n",
       "      <th></th>\n",
       "      <th></th>\n",
       "      <th></th>\n",
       "    </tr>\n",
       "  </thead>\n",
       "  <tbody>\n",
       "    <tr>\n",
       "      <td>Articulation</td>\n",
       "      <td>33.0</td>\n",
       "      <td>78.9</td>\n",
       "      <td>22.0</td>\n",
       "      <td>39.0</td>\n",
       "      <td>59.0</td>\n",
       "      <td>83.0</td>\n",
       "      <td>97.0</td>\n",
       "      <td>110.0</td>\n",
       "    </tr>\n",
       "    <tr>\n",
       "      <td>Expressive Language</td>\n",
       "      <td>54.0</td>\n",
       "      <td>69.8</td>\n",
       "      <td>18.3</td>\n",
       "      <td>42.0</td>\n",
       "      <td>57.0</td>\n",
       "      <td>65.0</td>\n",
       "      <td>80.8</td>\n",
       "      <td>115.0</td>\n",
       "    </tr>\n",
       "    <tr>\n",
       "      <td>Expressive Vocabulary</td>\n",
       "      <td>52.0</td>\n",
       "      <td>81.8</td>\n",
       "      <td>20.4</td>\n",
       "      <td>20.0</td>\n",
       "      <td>70.8</td>\n",
       "      <td>80.0</td>\n",
       "      <td>98.0</td>\n",
       "      <td>125.0</td>\n",
       "    </tr>\n",
       "    <tr>\n",
       "      <td>Language</td>\n",
       "      <td>53.0</td>\n",
       "      <td>68.3</td>\n",
       "      <td>19.7</td>\n",
       "      <td>42.0</td>\n",
       "      <td>54.0</td>\n",
       "      <td>62.0</td>\n",
       "      <td>79.0</td>\n",
       "      <td>129.0</td>\n",
       "    </tr>\n",
       "    <tr>\n",
       "      <td>Receptive Language</td>\n",
       "      <td>53.0</td>\n",
       "      <td>70.6</td>\n",
       "      <td>19.7</td>\n",
       "      <td>46.0</td>\n",
       "      <td>57.0</td>\n",
       "      <td>65.0</td>\n",
       "      <td>79.0</td>\n",
       "      <td>140.0</td>\n",
       "    </tr>\n",
       "    <tr>\n",
       "      <td>Receptive Vocabulary</td>\n",
       "      <td>55.0</td>\n",
       "      <td>80.7</td>\n",
       "      <td>20.8</td>\n",
       "      <td>34.0</td>\n",
       "      <td>69.0</td>\n",
       "      <td>79.0</td>\n",
       "      <td>93.0</td>\n",
       "      <td>141.0</td>\n",
       "    </tr>\n",
       "  </tbody>\n",
       "</table>\n",
       "</div>"
      ],
      "text/plain": [
       "                       count  mean   std   min   25%   50%   75%    max\n",
       "domain                                                                 \n",
       "Articulation            33.0  78.9  22.0  39.0  59.0  83.0  97.0  110.0\n",
       "Expressive Language     54.0  69.8  18.3  42.0  57.0  65.0  80.8  115.0\n",
       "Expressive Vocabulary   52.0  81.8  20.4  20.0  70.8  80.0  98.0  125.0\n",
       "Language                53.0  68.3  19.7  42.0  54.0  62.0  79.0  129.0\n",
       "Receptive Language      53.0  70.6  19.7  46.0  57.0  65.0  79.0  140.0\n",
       "Receptive Vocabulary    55.0  80.7  20.8  34.0  69.0  79.0  93.0  141.0"
      ]
     },
     "execution_count": 37,
     "metadata": {},
     "output_type": "execute_result"
    }
   ],
   "source": [
    "test_scores.groupby('domain').score.describe().round(1)"
   ]
  },
  {
   "cell_type": "code",
   "execution_count": 38,
   "metadata": {},
   "outputs": [
    {
     "data": {
      "text/plain": [
       "array(['Expressive Vocabulary', 'Receptive Vocabulary',\n",
       "       'Receptive Language', 'Expressive Language', 'Language',\n",
       "       'Articulation'], dtype=object)"
      ]
     },
     "execution_count": 38,
     "metadata": {},
     "output_type": "execute_result"
    }
   ],
   "source": [
    "test_scores.domain.unique()"
   ]
  },
  {
   "cell_type": "code",
   "execution_count": 39,
   "metadata": {},
   "outputs": [],
   "source": [
    "test_scores['domain_labels'] = test_scores.domain.replace({'Expressive Vocabulary': 'Expressive\\nVocabulary', \n",
    "                                                           'Receptive Vocabulary': 'Receptive\\nVocabulary',\n",
    "                                                           'Receptive Language': 'Receptive\\nLanguage', \n",
    "                                                           'Expressive Language': 'Expressive\\nLanguage', \n",
    "                                                           'Language': 'Total\\nLanguage'})"
   ]
  },
  {
   "cell_type": "code",
   "execution_count": 40,
   "metadata": {},
   "outputs": [
    {
     "data": {
      "image/png": "[encoded data removed]",
      "text/plain": [
       "<Figure size 864x360 with 1 Axes>"
      ]
     },
     "metadata": {
      "needs_background": "light"
     },
     "output_type": "display_data"
    }
   ],
   "source": [
    "sns.catplot(\"domain_labels\", y=\"score\", data=test_scores, kind=\"box\", color='white', fliersize=0)\n",
    "sns.swarmplot(\"domain_labels\", y=\"score\", data=test_scores, color='grey')\n",
    "fig = plt.gcf()\n",
    "fig.set_size_inches(12, 5)\n",
    "fig.axes[0].set_xlabel('');"
   ]
  },
  {
   "cell_type": "markdown",
   "metadata": {},
   "source": [
    "## Domain-specific summaries\n",
    "\n",
    "Age of amplification greater than 6mo."
   ]
  },
  {
   "cell_type": "code",
   "execution_count": 41,
   "metadata": {},
   "outputs": [
    {
     "data": {
      "text/html": [
       "<div>\n",
       "<style scoped>\n",
       "    .dataframe tbody tr th:only-of-type {\n",
       "        vertical-align: middle;\n",
       "    }\n",
       "\n",
       "    .dataframe tbody tr th {\n",
       "        vertical-align: top;\n",
       "    }\n",
       "\n",
       "    .dataframe thead th {\n",
       "        text-align: right;\n",
       "    }\n",
       "</style>\n",
       "<table border=\"1\" class=\"dataframe\">\n",
       "  <thead>\n",
       "    <tr style=\"text-align: right;\">\n",
       "      <th></th>\n",
       "      <th></th>\n",
       "      <th>count</th>\n",
       "      <th>mean</th>\n",
       "      <th>std</th>\n",
       "      <th>min</th>\n",
       "      <th>25%</th>\n",
       "      <th>50%</th>\n",
       "      <th>75%</th>\n",
       "      <th>max</th>\n",
       "    </tr>\n",
       "    <tr>\n",
       "      <th>domain</th>\n",
       "      <th>age_amp_greater_6</th>\n",
       "      <th></th>\n",
       "      <th></th>\n",
       "      <th></th>\n",
       "      <th></th>\n",
       "      <th></th>\n",
       "      <th></th>\n",
       "      <th></th>\n",
       "      <th></th>\n",
       "    </tr>\n",
       "  </thead>\n",
       "  <tbody>\n",
       "    <tr>\n",
       "      <td rowspan=\"2\" valign=\"top\">Articulation</td>\n",
       "      <td>False</td>\n",
       "      <td>27.0</td>\n",
       "      <td>78.481481</td>\n",
       "      <td>23.542711</td>\n",
       "      <td>39.0</td>\n",
       "      <td>56.50</td>\n",
       "      <td>83.0</td>\n",
       "      <td>98.00</td>\n",
       "      <td>110.0</td>\n",
       "    </tr>\n",
       "    <tr>\n",
       "      <td>True</td>\n",
       "      <td>6.0</td>\n",
       "      <td>80.833333</td>\n",
       "      <td>14.330620</td>\n",
       "      <td>58.0</td>\n",
       "      <td>77.25</td>\n",
       "      <td>81.5</td>\n",
       "      <td>85.00</td>\n",
       "      <td>102.0</td>\n",
       "    </tr>\n",
       "    <tr>\n",
       "      <td rowspan=\"2\" valign=\"top\">Expressive Language</td>\n",
       "      <td>False</td>\n",
       "      <td>34.0</td>\n",
       "      <td>72.029412</td>\n",
       "      <td>19.011138</td>\n",
       "      <td>42.0</td>\n",
       "      <td>59.25</td>\n",
       "      <td>66.5</td>\n",
       "      <td>82.50</td>\n",
       "      <td>115.0</td>\n",
       "    </tr>\n",
       "    <tr>\n",
       "      <td>True</td>\n",
       "      <td>20.0</td>\n",
       "      <td>66.100000</td>\n",
       "      <td>16.945423</td>\n",
       "      <td>50.0</td>\n",
       "      <td>54.25</td>\n",
       "      <td>63.0</td>\n",
       "      <td>69.00</td>\n",
       "      <td>112.0</td>\n",
       "    </tr>\n",
       "    <tr>\n",
       "      <td rowspan=\"2\" valign=\"top\">Expressive Vocabulary</td>\n",
       "      <td>False</td>\n",
       "      <td>37.0</td>\n",
       "      <td>84.216216</td>\n",
       "      <td>18.857853</td>\n",
       "      <td>30.0</td>\n",
       "      <td>74.00</td>\n",
       "      <td>81.0</td>\n",
       "      <td>98.00</td>\n",
       "      <td>125.0</td>\n",
       "    </tr>\n",
       "    <tr>\n",
       "      <td>True</td>\n",
       "      <td>15.0</td>\n",
       "      <td>75.666667</td>\n",
       "      <td>23.457154</td>\n",
       "      <td>20.0</td>\n",
       "      <td>64.50</td>\n",
       "      <td>73.0</td>\n",
       "      <td>94.00</td>\n",
       "      <td>110.0</td>\n",
       "    </tr>\n",
       "    <tr>\n",
       "      <td rowspan=\"2\" valign=\"top\">Language</td>\n",
       "      <td>False</td>\n",
       "      <td>34.0</td>\n",
       "      <td>70.764706</td>\n",
       "      <td>20.970483</td>\n",
       "      <td>42.0</td>\n",
       "      <td>55.00</td>\n",
       "      <td>69.5</td>\n",
       "      <td>83.00</td>\n",
       "      <td>129.0</td>\n",
       "    </tr>\n",
       "    <tr>\n",
       "      <td>True</td>\n",
       "      <td>19.0</td>\n",
       "      <td>63.894737</td>\n",
       "      <td>16.785889</td>\n",
       "      <td>45.0</td>\n",
       "      <td>52.00</td>\n",
       "      <td>59.0</td>\n",
       "      <td>69.00</td>\n",
       "      <td>113.0</td>\n",
       "    </tr>\n",
       "    <tr>\n",
       "      <td rowspan=\"2\" valign=\"top\">Receptive Language</td>\n",
       "      <td>False</td>\n",
       "      <td>34.0</td>\n",
       "      <td>73.794118</td>\n",
       "      <td>22.142485</td>\n",
       "      <td>47.0</td>\n",
       "      <td>57.00</td>\n",
       "      <td>71.0</td>\n",
       "      <td>86.25</td>\n",
       "      <td>140.0</td>\n",
       "    </tr>\n",
       "    <tr>\n",
       "      <td>True</td>\n",
       "      <td>19.0</td>\n",
       "      <td>65.000000</td>\n",
       "      <td>13.017083</td>\n",
       "      <td>46.0</td>\n",
       "      <td>55.50</td>\n",
       "      <td>64.0</td>\n",
       "      <td>73.00</td>\n",
       "      <td>100.0</td>\n",
       "    </tr>\n",
       "    <tr>\n",
       "      <td rowspan=\"2\" valign=\"top\">Receptive Vocabulary</td>\n",
       "      <td>False</td>\n",
       "      <td>39.0</td>\n",
       "      <td>83.282051</td>\n",
       "      <td>20.799733</td>\n",
       "      <td>44.0</td>\n",
       "      <td>71.50</td>\n",
       "      <td>80.0</td>\n",
       "      <td>93.50</td>\n",
       "      <td>141.0</td>\n",
       "    </tr>\n",
       "    <tr>\n",
       "      <td>True</td>\n",
       "      <td>16.0</td>\n",
       "      <td>74.500000</td>\n",
       "      <td>20.016660</td>\n",
       "      <td>34.0</td>\n",
       "      <td>62.75</td>\n",
       "      <td>72.5</td>\n",
       "      <td>86.25</td>\n",
       "      <td>107.0</td>\n",
       "    </tr>\n",
       "  </tbody>\n",
       "</table>\n",
       "</div>"
      ],
      "text/plain": [
       "                                         count       mean        std   min  \\\n",
       "domain                age_amp_greater_6                                      \n",
       "Articulation          False               27.0  78.481481  23.542711  39.0   \n",
       "                      True                 6.0  80.833333  14.330620  58.0   \n",
       "Expressive Language   False               34.0  72.029412  19.011138  42.0   \n",
       "                      True                20.0  66.100000  16.945423  50.0   \n",
       "Expressive Vocabulary False               37.0  84.216216  18.857853  30.0   \n",
       "                      True                15.0  75.666667  23.457154  20.0   \n",
       "Language              False               34.0  70.764706  20.970483  42.0   \n",
       "                      True                19.0  63.894737  16.785889  45.0   \n",
       "Receptive Language    False               34.0  73.794118  22.142485  47.0   \n",
       "                      True                19.0  65.000000  13.017083  46.0   \n",
       "Receptive Vocabulary  False               39.0  83.282051  20.799733  44.0   \n",
       "                      True                16.0  74.500000  20.016660  34.0   \n",
       "\n",
       "                                           25%   50%    75%    max  \n",
       "domain                age_amp_greater_6                             \n",
       "Articulation          False              56.50  83.0  98.00  110.0  \n",
       "                      True               77.25  81.5  85.00  102.0  \n",
       "Expressive Language   False              59.25  66.5  82.50  115.0  \n",
       "                      True               54.25  63.0  69.00  112.0  \n",
       "Expressive Vocabulary False              74.00  81.0  98.00  125.0  \n",
       "                      True               64.50  73.0  94.00  110.0  \n",
       "Language              False              55.00  69.5  83.00  129.0  \n",
       "                      True               52.00  59.0  69.00  113.0  \n",
       "Receptive Language    False              57.00  71.0  86.25  140.0  \n",
       "                      True               55.50  64.0  73.00  100.0  \n",
       "Receptive Vocabulary  False              71.50  80.0  93.50  141.0  \n",
       "                      True               62.75  72.5  86.25  107.0  "
      ]
     },
     "execution_count": 41,
     "metadata": {},
     "output_type": "execute_result"
    }
   ],
   "source": [
    "(test_scores.assign(age_amp_greater_6=test_scores.age_amp>6)\n",
    "         .groupby(['domain', 'age_amp_greater_6'])\n",
    "         .score.describe())"
   ]
  },
  {
   "cell_type": "markdown",
   "metadata": {},
   "source": [
    "Age of enrollment greater than 6mo."
   ]
  },
  {
   "cell_type": "code",
   "execution_count": 42,
   "metadata": {},
   "outputs": [
    {
     "data": {
      "text/html": [
       "<div>\n",
       "<style scoped>\n",
       "    .dataframe tbody tr th:only-of-type {\n",
       "        vertical-align: middle;\n",
       "    }\n",
       "\n",
       "    .dataframe tbody tr th {\n",
       "        vertical-align: top;\n",
       "    }\n",
       "\n",
       "    .dataframe thead th {\n",
       "        text-align: right;\n",
       "    }\n",
       "</style>\n",
       "<table border=\"1\" class=\"dataframe\">\n",
       "  <thead>\n",
       "    <tr style=\"text-align: right;\">\n",
       "      <th></th>\n",
       "      <th></th>\n",
       "      <th>count</th>\n",
       "      <th>mean</th>\n",
       "      <th>std</th>\n",
       "      <th>min</th>\n",
       "      <th>25%</th>\n",
       "      <th>50%</th>\n",
       "      <th>75%</th>\n",
       "      <th>max</th>\n",
       "    </tr>\n",
       "    <tr>\n",
       "      <th>domain</th>\n",
       "      <th>age_enroll_greater_6</th>\n",
       "      <th></th>\n",
       "      <th></th>\n",
       "      <th></th>\n",
       "      <th></th>\n",
       "      <th></th>\n",
       "      <th></th>\n",
       "      <th></th>\n",
       "      <th></th>\n",
       "    </tr>\n",
       "  </thead>\n",
       "  <tbody>\n",
       "    <tr>\n",
       "      <td rowspan=\"2\" valign=\"top\">Articulation</td>\n",
       "      <td>False</td>\n",
       "      <td>18.0</td>\n",
       "      <td>74.500000</td>\n",
       "      <td>20.382374</td>\n",
       "      <td>39.0</td>\n",
       "      <td>61.75</td>\n",
       "      <td>75.5</td>\n",
       "      <td>90.00</td>\n",
       "      <td>107.0</td>\n",
       "    </tr>\n",
       "    <tr>\n",
       "      <td>True</td>\n",
       "      <td>15.0</td>\n",
       "      <td>84.200000</td>\n",
       "      <td>23.348906</td>\n",
       "      <td>40.0</td>\n",
       "      <td>67.50</td>\n",
       "      <td>91.0</td>\n",
       "      <td>103.00</td>\n",
       "      <td>110.0</td>\n",
       "    </tr>\n",
       "    <tr>\n",
       "      <td rowspan=\"2\" valign=\"top\">Expressive Language</td>\n",
       "      <td>False</td>\n",
       "      <td>24.0</td>\n",
       "      <td>70.541667</td>\n",
       "      <td>20.265583</td>\n",
       "      <td>42.0</td>\n",
       "      <td>57.00</td>\n",
       "      <td>64.5</td>\n",
       "      <td>80.25</td>\n",
       "      <td>115.0</td>\n",
       "    </tr>\n",
       "    <tr>\n",
       "      <td>True</td>\n",
       "      <td>30.0</td>\n",
       "      <td>69.266667</td>\n",
       "      <td>16.976522</td>\n",
       "      <td>47.0</td>\n",
       "      <td>57.50</td>\n",
       "      <td>65.0</td>\n",
       "      <td>82.25</td>\n",
       "      <td>112.0</td>\n",
       "    </tr>\n",
       "    <tr>\n",
       "      <td rowspan=\"2\" valign=\"top\">Expressive Vocabulary</td>\n",
       "      <td>False</td>\n",
       "      <td>30.0</td>\n",
       "      <td>81.966667</td>\n",
       "      <td>20.962172</td>\n",
       "      <td>30.0</td>\n",
       "      <td>68.75</td>\n",
       "      <td>76.5</td>\n",
       "      <td>98.50</td>\n",
       "      <td>125.0</td>\n",
       "    </tr>\n",
       "    <tr>\n",
       "      <td>True</td>\n",
       "      <td>22.0</td>\n",
       "      <td>81.454545</td>\n",
       "      <td>20.165334</td>\n",
       "      <td>20.0</td>\n",
       "      <td>71.50</td>\n",
       "      <td>82.0</td>\n",
       "      <td>97.25</td>\n",
       "      <td>110.0</td>\n",
       "    </tr>\n",
       "    <tr>\n",
       "      <td rowspan=\"2\" valign=\"top\">Language</td>\n",
       "      <td>False</td>\n",
       "      <td>24.0</td>\n",
       "      <td>69.333333</td>\n",
       "      <td>23.045638</td>\n",
       "      <td>42.0</td>\n",
       "      <td>53.75</td>\n",
       "      <td>60.0</td>\n",
       "      <td>78.25</td>\n",
       "      <td>129.0</td>\n",
       "    </tr>\n",
       "    <tr>\n",
       "      <td>True</td>\n",
       "      <td>29.0</td>\n",
       "      <td>67.448276</td>\n",
       "      <td>16.794102</td>\n",
       "      <td>42.0</td>\n",
       "      <td>55.00</td>\n",
       "      <td>67.0</td>\n",
       "      <td>80.00</td>\n",
       "      <td>113.0</td>\n",
       "    </tr>\n",
       "    <tr>\n",
       "      <td rowspan=\"2\" valign=\"top\">Receptive Language</td>\n",
       "      <td>False</td>\n",
       "      <td>24.0</td>\n",
       "      <td>70.958333</td>\n",
       "      <td>22.982941</td>\n",
       "      <td>48.0</td>\n",
       "      <td>54.50</td>\n",
       "      <td>65.5</td>\n",
       "      <td>75.00</td>\n",
       "      <td>140.0</td>\n",
       "    </tr>\n",
       "    <tr>\n",
       "      <td>True</td>\n",
       "      <td>29.0</td>\n",
       "      <td>70.379310</td>\n",
       "      <td>16.922964</td>\n",
       "      <td>46.0</td>\n",
       "      <td>59.00</td>\n",
       "      <td>65.0</td>\n",
       "      <td>79.00</td>\n",
       "      <td>115.0</td>\n",
       "    </tr>\n",
       "    <tr>\n",
       "      <td rowspan=\"2\" valign=\"top\">Receptive Vocabulary</td>\n",
       "      <td>False</td>\n",
       "      <td>31.0</td>\n",
       "      <td>81.193548</td>\n",
       "      <td>22.720650</td>\n",
       "      <td>44.0</td>\n",
       "      <td>69.00</td>\n",
       "      <td>75.0</td>\n",
       "      <td>93.50</td>\n",
       "      <td>141.0</td>\n",
       "    </tr>\n",
       "    <tr>\n",
       "      <td>True</td>\n",
       "      <td>24.0</td>\n",
       "      <td>80.125000</td>\n",
       "      <td>18.442183</td>\n",
       "      <td>34.0</td>\n",
       "      <td>69.25</td>\n",
       "      <td>81.5</td>\n",
       "      <td>92.25</td>\n",
       "      <td>114.0</td>\n",
       "    </tr>\n",
       "  </tbody>\n",
       "</table>\n",
       "</div>"
      ],
      "text/plain": [
       "                                            count       mean        std   min  \\\n",
       "domain                age_enroll_greater_6                                      \n",
       "Articulation          False                  18.0  74.500000  20.382374  39.0   \n",
       "                      True                   15.0  84.200000  23.348906  40.0   \n",
       "Expressive Language   False                  24.0  70.541667  20.265583  42.0   \n",
       "                      True                   30.0  69.266667  16.976522  47.0   \n",
       "Expressive Vocabulary False                  30.0  81.966667  20.962172  30.0   \n",
       "                      True                   22.0  81.454545  20.165334  20.0   \n",
       "Language              False                  24.0  69.333333  23.045638  42.0   \n",
       "                      True                   29.0  67.448276  16.794102  42.0   \n",
       "Receptive Language    False                  24.0  70.958333  22.982941  48.0   \n",
       "                      True                   29.0  70.379310  16.922964  46.0   \n",
       "Receptive Vocabulary  False                  31.0  81.193548  22.720650  44.0   \n",
       "                      True                   24.0  80.125000  18.442183  34.0   \n",
       "\n",
       "                                              25%   50%     75%    max  \n",
       "domain                age_enroll_greater_6                              \n",
       "Articulation          False                 61.75  75.5   90.00  107.0  \n",
       "                      True                  67.50  91.0  103.00  110.0  \n",
       "Expressive Language   False                 57.00  64.5   80.25  115.0  \n",
       "                      True                  57.50  65.0   82.25  112.0  \n",
       "Expressive Vocabulary False                 68.75  76.5   98.50  125.0  \n",
       "                      True                  71.50  82.0   97.25  110.0  \n",
       "Language              False                 53.75  60.0   78.25  129.0  \n",
       "                      True                  55.00  67.0   80.00  113.0  \n",
       "Receptive Language    False                 54.50  65.5   75.00  140.0  \n",
       "                      True                  59.00  65.0   79.00  115.0  \n",
       "Receptive Vocabulary  False                 69.00  75.0   93.50  141.0  \n",
       "                      True                  69.25  81.5   92.25  114.0  "
      ]
     },
     "execution_count": 42,
     "metadata": {},
     "output_type": "execute_result"
    }
   ],
   "source": [
    "(test_scores.assign(age_enroll_greater_6=test_scores.age_int>6)\n",
    "         .groupby(['domain', 'age_enroll_greater_6'])\n",
    "         .score.describe())"
   ]
  },
  {
   "cell_type": "markdown",
   "metadata": {},
   "source": [
    "(Non-)Profound hearing loss"
   ]
  },
  {
   "cell_type": "code",
   "execution_count": 43,
   "metadata": {},
   "outputs": [
    {
     "data": {
      "text/html": [
       "<div>\n",
       "<style scoped>\n",
       "    .dataframe tbody tr th:only-of-type {\n",
       "        vertical-align: middle;\n",
       "    }\n",
       "\n",
       "    .dataframe tbody tr th {\n",
       "        vertical-align: top;\n",
       "    }\n",
       "\n",
       "    .dataframe thead th {\n",
       "        text-align: right;\n",
       "    }\n",
       "</style>\n",
       "<table border=\"1\" class=\"dataframe\">\n",
       "  <thead>\n",
       "    <tr style=\"text-align: right;\">\n",
       "      <th></th>\n",
       "      <th></th>\n",
       "      <th>count</th>\n",
       "      <th>mean</th>\n",
       "      <th>std</th>\n",
       "      <th>min</th>\n",
       "      <th>25%</th>\n",
       "      <th>50%</th>\n",
       "      <th>75%</th>\n",
       "      <th>max</th>\n",
       "    </tr>\n",
       "    <tr>\n",
       "      <th>domain</th>\n",
       "      <th>profound_hl</th>\n",
       "      <th></th>\n",
       "      <th></th>\n",
       "      <th></th>\n",
       "      <th></th>\n",
       "      <th></th>\n",
       "      <th></th>\n",
       "      <th></th>\n",
       "      <th></th>\n",
       "    </tr>\n",
       "  </thead>\n",
       "  <tbody>\n",
       "    <tr>\n",
       "      <td rowspan=\"2\" valign=\"top\">Articulation</td>\n",
       "      <td>False</td>\n",
       "      <td>30.0</td>\n",
       "      <td>79.500000</td>\n",
       "      <td>22.349497</td>\n",
       "      <td>39.0</td>\n",
       "      <td>61.75</td>\n",
       "      <td>80.5</td>\n",
       "      <td>98.50</td>\n",
       "      <td>110.0</td>\n",
       "    </tr>\n",
       "    <tr>\n",
       "      <td>True</td>\n",
       "      <td>3.0</td>\n",
       "      <td>73.000000</td>\n",
       "      <td>20.784610</td>\n",
       "      <td>49.0</td>\n",
       "      <td>67.00</td>\n",
       "      <td>85.0</td>\n",
       "      <td>85.00</td>\n",
       "      <td>85.0</td>\n",
       "    </tr>\n",
       "    <tr>\n",
       "      <td rowspan=\"2\" valign=\"top\">Expressive Language</td>\n",
       "      <td>False</td>\n",
       "      <td>35.0</td>\n",
       "      <td>68.828571</td>\n",
       "      <td>16.317594</td>\n",
       "      <td>45.0</td>\n",
       "      <td>57.00</td>\n",
       "      <td>65.0</td>\n",
       "      <td>80.50</td>\n",
       "      <td>112.0</td>\n",
       "    </tr>\n",
       "    <tr>\n",
       "      <td>True</td>\n",
       "      <td>19.0</td>\n",
       "      <td>71.684211</td>\n",
       "      <td>21.949570</td>\n",
       "      <td>42.0</td>\n",
       "      <td>59.00</td>\n",
       "      <td>65.0</td>\n",
       "      <td>79.50</td>\n",
       "      <td>115.0</td>\n",
       "    </tr>\n",
       "    <tr>\n",
       "      <td rowspan=\"2\" valign=\"top\">Expressive Vocabulary</td>\n",
       "      <td>False</td>\n",
       "      <td>39.0</td>\n",
       "      <td>83.282051</td>\n",
       "      <td>18.212125</td>\n",
       "      <td>30.0</td>\n",
       "      <td>73.00</td>\n",
       "      <td>81.0</td>\n",
       "      <td>98.00</td>\n",
       "      <td>125.0</td>\n",
       "    </tr>\n",
       "    <tr>\n",
       "      <td>True</td>\n",
       "      <td>13.0</td>\n",
       "      <td>77.153846</td>\n",
       "      <td>26.324406</td>\n",
       "      <td>20.0</td>\n",
       "      <td>65.00</td>\n",
       "      <td>78.0</td>\n",
       "      <td>93.00</td>\n",
       "      <td>124.0</td>\n",
       "    </tr>\n",
       "    <tr>\n",
       "      <td rowspan=\"2\" valign=\"top\">Language</td>\n",
       "      <td>False</td>\n",
       "      <td>34.0</td>\n",
       "      <td>67.500000</td>\n",
       "      <td>16.731842</td>\n",
       "      <td>42.0</td>\n",
       "      <td>55.50</td>\n",
       "      <td>63.0</td>\n",
       "      <td>79.50</td>\n",
       "      <td>113.0</td>\n",
       "    </tr>\n",
       "    <tr>\n",
       "      <td>True</td>\n",
       "      <td>19.0</td>\n",
       "      <td>69.736842</td>\n",
       "      <td>24.562487</td>\n",
       "      <td>42.0</td>\n",
       "      <td>53.00</td>\n",
       "      <td>60.0</td>\n",
       "      <td>76.00</td>\n",
       "      <td>129.0</td>\n",
       "    </tr>\n",
       "    <tr>\n",
       "      <td rowspan=\"2\" valign=\"top\">Receptive Language</td>\n",
       "      <td>False</td>\n",
       "      <td>34.0</td>\n",
       "      <td>70.911765</td>\n",
       "      <td>16.802539</td>\n",
       "      <td>47.0</td>\n",
       "      <td>57.25</td>\n",
       "      <td>65.5</td>\n",
       "      <td>78.75</td>\n",
       "      <td>115.0</td>\n",
       "    </tr>\n",
       "    <tr>\n",
       "      <td>True</td>\n",
       "      <td>19.0</td>\n",
       "      <td>70.157895</td>\n",
       "      <td>24.549866</td>\n",
       "      <td>46.0</td>\n",
       "      <td>50.00</td>\n",
       "      <td>63.0</td>\n",
       "      <td>78.00</td>\n",
       "      <td>140.0</td>\n",
       "    </tr>\n",
       "    <tr>\n",
       "      <td rowspan=\"2\" valign=\"top\">Receptive Vocabulary</td>\n",
       "      <td>False</td>\n",
       "      <td>41.0</td>\n",
       "      <td>80.804878</td>\n",
       "      <td>17.326597</td>\n",
       "      <td>44.0</td>\n",
       "      <td>70.00</td>\n",
       "      <td>79.0</td>\n",
       "      <td>93.00</td>\n",
       "      <td>114.0</td>\n",
       "    </tr>\n",
       "    <tr>\n",
       "      <td>True</td>\n",
       "      <td>14.0</td>\n",
       "      <td>80.500000</td>\n",
       "      <td>29.502933</td>\n",
       "      <td>34.0</td>\n",
       "      <td>65.50</td>\n",
       "      <td>75.5</td>\n",
       "      <td>86.75</td>\n",
       "      <td>141.0</td>\n",
       "    </tr>\n",
       "  </tbody>\n",
       "</table>\n",
       "</div>"
      ],
      "text/plain": [
       "                                   count       mean        std   min    25%  \\\n",
       "domain                profound_hl                                             \n",
       "Articulation          False         30.0  79.500000  22.349497  39.0  61.75   \n",
       "                      True           3.0  73.000000  20.784610  49.0  67.00   \n",
       "Expressive Language   False         35.0  68.828571  16.317594  45.0  57.00   \n",
       "                      True          19.0  71.684211  21.949570  42.0  59.00   \n",
       "Expressive Vocabulary False         39.0  83.282051  18.212125  30.0  73.00   \n",
       "                      True          13.0  77.153846  26.324406  20.0  65.00   \n",
       "Language              False         34.0  67.500000  16.731842  42.0  55.50   \n",
       "                      True          19.0  69.736842  24.562487  42.0  53.00   \n",
       "Receptive Language    False         34.0  70.911765  16.802539  47.0  57.25   \n",
       "                      True          19.0  70.157895  24.549866  46.0  50.00   \n",
       "Receptive Vocabulary  False         41.0  80.804878  17.326597  44.0  70.00   \n",
       "                      True          14.0  80.500000  29.502933  34.0  65.50   \n",
       "\n",
       "                                    50%    75%    max  \n",
       "domain                profound_hl                      \n",
       "Articulation          False        80.5  98.50  110.0  \n",
       "                      True         85.0  85.00   85.0  \n",
       "Expressive Language   False        65.0  80.50  112.0  \n",
       "                      True         65.0  79.50  115.0  \n",
       "Expressive Vocabulary False        81.0  98.00  125.0  \n",
       "                      True         78.0  93.00  124.0  \n",
       "Language              False        63.0  79.50  113.0  \n",
       "                      True         60.0  76.00  129.0  \n",
       "Receptive Language    False        65.5  78.75  115.0  \n",
       "                      True         63.0  78.00  140.0  \n",
       "Receptive Vocabulary  False        79.0  93.00  114.0  \n",
       "                      True         75.5  86.75  141.0  "
      ]
     },
     "execution_count": 43,
     "metadata": {},
     "output_type": "execute_result"
    }
   ],
   "source": [
    "(test_scores.assign(profound_hl=test_scores.degree_hl==6)\n",
    "         .groupby(['domain', 'profound_hl'])\n",
    "         .score.describe())"
   ]
  },
  {
   "cell_type": "markdown",
   "metadata": {},
   "source": [
    "Parent with(out) hearing loss"
   ]
  },
  {
   "cell_type": "code",
   "execution_count": 44,
   "metadata": {},
   "outputs": [
    {
     "data": {
      "text/html": [
       "<div>\n",
       "<style scoped>\n",
       "    .dataframe tbody tr th:only-of-type {\n",
       "        vertical-align: middle;\n",
       "    }\n",
       "\n",
       "    .dataframe tbody tr th {\n",
       "        vertical-align: top;\n",
       "    }\n",
       "\n",
       "    .dataframe thead th {\n",
       "        text-align: right;\n",
       "    }\n",
       "</style>\n",
       "<table border=\"1\" class=\"dataframe\">\n",
       "  <thead>\n",
       "    <tr style=\"text-align: right;\">\n",
       "      <th></th>\n",
       "      <th></th>\n",
       "      <th>count</th>\n",
       "      <th>mean</th>\n",
       "      <th>std</th>\n",
       "      <th>min</th>\n",
       "      <th>25%</th>\n",
       "      <th>50%</th>\n",
       "      <th>75%</th>\n",
       "      <th>max</th>\n",
       "    </tr>\n",
       "    <tr>\n",
       "      <th>domain</th>\n",
       "      <th>parent_with_hl</th>\n",
       "      <th></th>\n",
       "      <th></th>\n",
       "      <th></th>\n",
       "      <th></th>\n",
       "      <th></th>\n",
       "      <th></th>\n",
       "      <th></th>\n",
       "      <th></th>\n",
       "    </tr>\n",
       "  </thead>\n",
       "  <tbody>\n",
       "    <tr>\n",
       "      <td rowspan=\"2\" valign=\"top\">Articulation</td>\n",
       "      <td>False</td>\n",
       "      <td>31.0</td>\n",
       "      <td>78.064516</td>\n",
       "      <td>22.362074</td>\n",
       "      <td>39.0</td>\n",
       "      <td>58.50</td>\n",
       "      <td>78.0</td>\n",
       "      <td>97.00</td>\n",
       "      <td>110.0</td>\n",
       "    </tr>\n",
       "    <tr>\n",
       "      <td>True</td>\n",
       "      <td>2.0</td>\n",
       "      <td>92.000000</td>\n",
       "      <td>9.899495</td>\n",
       "      <td>85.0</td>\n",
       "      <td>88.50</td>\n",
       "      <td>92.0</td>\n",
       "      <td>95.50</td>\n",
       "      <td>99.0</td>\n",
       "    </tr>\n",
       "    <tr>\n",
       "      <td rowspan=\"2\" valign=\"top\">Expressive Language</td>\n",
       "      <td>False</td>\n",
       "      <td>52.0</td>\n",
       "      <td>70.096154</td>\n",
       "      <td>18.643466</td>\n",
       "      <td>42.0</td>\n",
       "      <td>57.00</td>\n",
       "      <td>65.5</td>\n",
       "      <td>81.50</td>\n",
       "      <td>115.0</td>\n",
       "    </tr>\n",
       "    <tr>\n",
       "      <td>True</td>\n",
       "      <td>2.0</td>\n",
       "      <td>63.000000</td>\n",
       "      <td>1.414214</td>\n",
       "      <td>62.0</td>\n",
       "      <td>62.50</td>\n",
       "      <td>63.0</td>\n",
       "      <td>63.50</td>\n",
       "      <td>64.0</td>\n",
       "    </tr>\n",
       "    <tr>\n",
       "      <td rowspan=\"2\" valign=\"top\">Expressive Vocabulary</td>\n",
       "      <td>False</td>\n",
       "      <td>50.0</td>\n",
       "      <td>82.180000</td>\n",
       "      <td>20.625613</td>\n",
       "      <td>20.0</td>\n",
       "      <td>71.00</td>\n",
       "      <td>80.0</td>\n",
       "      <td>98.00</td>\n",
       "      <td>125.0</td>\n",
       "    </tr>\n",
       "    <tr>\n",
       "      <td>True</td>\n",
       "      <td>2.0</td>\n",
       "      <td>71.000000</td>\n",
       "      <td>14.142136</td>\n",
       "      <td>61.0</td>\n",
       "      <td>66.00</td>\n",
       "      <td>71.0</td>\n",
       "      <td>76.00</td>\n",
       "      <td>81.0</td>\n",
       "    </tr>\n",
       "    <tr>\n",
       "      <td rowspan=\"2\" valign=\"top\">Language</td>\n",
       "      <td>False</td>\n",
       "      <td>51.0</td>\n",
       "      <td>68.725490</td>\n",
       "      <td>19.952021</td>\n",
       "      <td>42.0</td>\n",
       "      <td>53.50</td>\n",
       "      <td>64.0</td>\n",
       "      <td>79.50</td>\n",
       "      <td>129.0</td>\n",
       "    </tr>\n",
       "    <tr>\n",
       "      <td>True</td>\n",
       "      <td>2.0</td>\n",
       "      <td>57.500000</td>\n",
       "      <td>3.535534</td>\n",
       "      <td>55.0</td>\n",
       "      <td>56.25</td>\n",
       "      <td>57.5</td>\n",
       "      <td>58.75</td>\n",
       "      <td>60.0</td>\n",
       "    </tr>\n",
       "    <tr>\n",
       "      <td rowspan=\"2\" valign=\"top\">Receptive Language</td>\n",
       "      <td>False</td>\n",
       "      <td>51.0</td>\n",
       "      <td>70.921569</td>\n",
       "      <td>20.026825</td>\n",
       "      <td>46.0</td>\n",
       "      <td>56.00</td>\n",
       "      <td>65.0</td>\n",
       "      <td>79.00</td>\n",
       "      <td>140.0</td>\n",
       "    </tr>\n",
       "    <tr>\n",
       "      <td>True</td>\n",
       "      <td>2.0</td>\n",
       "      <td>63.500000</td>\n",
       "      <td>3.535534</td>\n",
       "      <td>61.0</td>\n",
       "      <td>62.25</td>\n",
       "      <td>63.5</td>\n",
       "      <td>64.75</td>\n",
       "      <td>66.0</td>\n",
       "    </tr>\n",
       "    <tr>\n",
       "      <td rowspan=\"2\" valign=\"top\">Receptive Vocabulary</td>\n",
       "      <td>False</td>\n",
       "      <td>53.0</td>\n",
       "      <td>81.283019</td>\n",
       "      <td>20.841321</td>\n",
       "      <td>34.0</td>\n",
       "      <td>70.00</td>\n",
       "      <td>80.0</td>\n",
       "      <td>93.00</td>\n",
       "      <td>141.0</td>\n",
       "    </tr>\n",
       "    <tr>\n",
       "      <td>True</td>\n",
       "      <td>2.0</td>\n",
       "      <td>66.000000</td>\n",
       "      <td>16.970563</td>\n",
       "      <td>54.0</td>\n",
       "      <td>60.00</td>\n",
       "      <td>66.0</td>\n",
       "      <td>72.00</td>\n",
       "      <td>78.0</td>\n",
       "    </tr>\n",
       "  </tbody>\n",
       "</table>\n",
       "</div>"
      ],
      "text/plain": [
       "                                      count       mean        std   min  \\\n",
       "domain                parent_with_hl                                      \n",
       "Articulation          False            31.0  78.064516  22.362074  39.0   \n",
       "                      True              2.0  92.000000   9.899495  85.0   \n",
       "Expressive Language   False            52.0  70.096154  18.643466  42.0   \n",
       "                      True              2.0  63.000000   1.414214  62.0   \n",
       "Expressive Vocabulary False            50.0  82.180000  20.625613  20.0   \n",
       "                      True              2.0  71.000000  14.142136  61.0   \n",
       "Language              False            51.0  68.725490  19.952021  42.0   \n",
       "                      True              2.0  57.500000   3.535534  55.0   \n",
       "Receptive Language    False            51.0  70.921569  20.026825  46.0   \n",
       "                      True              2.0  63.500000   3.535534  61.0   \n",
       "Receptive Vocabulary  False            53.0  81.283019  20.841321  34.0   \n",
       "                      True              2.0  66.000000  16.970563  54.0   \n",
       "\n",
       "                                        25%   50%    75%    max  \n",
       "domain                parent_with_hl                             \n",
       "Articulation          False           58.50  78.0  97.00  110.0  \n",
       "                      True            88.50  92.0  95.50   99.0  \n",
       "Expressive Language   False           57.00  65.5  81.50  115.0  \n",
       "                      True            62.50  63.0  63.50   64.0  \n",
       "Expressive Vocabulary False           71.00  80.0  98.00  125.0  \n",
       "                      True            66.00  71.0  76.00   81.0  \n",
       "Language              False           53.50  64.0  79.50  129.0  \n",
       "                      True            56.25  57.5  58.75   60.0  \n",
       "Receptive Language    False           56.00  65.0  79.00  140.0  \n",
       "                      True            62.25  63.5  64.75   66.0  \n",
       "Receptive Vocabulary  False           70.00  80.0  93.00  141.0  \n",
       "                      True            60.00  66.0  72.00   78.0  "
      ]
     },
     "execution_count": 44,
     "metadata": {},
     "output_type": "execute_result"
    }
   ],
   "source": [
    "test_scores.loc[test_scores.parent_hearing_loss=='Unknown', 'parent_hearing_loss'] = np.nan\n",
    "(test_scores.assign(parent_with_hl=test_scores.parent_hearing_loss.isin(['Both parents have hearing loss',\n",
    "                                                                       'Father has hearing loss',\n",
    "                                                                       'Mother has hearing loss']))\n",
    "         .groupby(['domain', 'parent_with_hl'])\n",
    "         .score.describe())"
   ]
  },
  {
   "cell_type": "markdown",
   "metadata": {},
   "source": [
    "Mother with(out) college education"
   ]
  },
  {
   "cell_type": "code",
   "execution_count": 45,
   "metadata": {},
   "outputs": [
    {
     "data": {
      "text/html": [
       "<div>\n",
       "<style scoped>\n",
       "    .dataframe tbody tr th:only-of-type {\n",
       "        vertical-align: middle;\n",
       "    }\n",
       "\n",
       "    .dataframe tbody tr th {\n",
       "        vertical-align: top;\n",
       "    }\n",
       "\n",
       "    .dataframe thead th {\n",
       "        text-align: right;\n",
       "    }\n",
       "</style>\n",
       "<table border=\"1\" class=\"dataframe\">\n",
       "  <thead>\n",
       "    <tr style=\"text-align: right;\">\n",
       "      <th></th>\n",
       "      <th></th>\n",
       "      <th>count</th>\n",
       "      <th>mean</th>\n",
       "      <th>std</th>\n",
       "      <th>min</th>\n",
       "      <th>25%</th>\n",
       "      <th>50%</th>\n",
       "      <th>75%</th>\n",
       "      <th>max</th>\n",
       "    </tr>\n",
       "    <tr>\n",
       "      <th>domain</th>\n",
       "      <th>mother_college</th>\n",
       "      <th></th>\n",
       "      <th></th>\n",
       "      <th></th>\n",
       "      <th></th>\n",
       "      <th></th>\n",
       "      <th></th>\n",
       "      <th></th>\n",
       "      <th></th>\n",
       "    </tr>\n",
       "  </thead>\n",
       "  <tbody>\n",
       "    <tr>\n",
       "      <td rowspan=\"2\" valign=\"top\">Articulation</td>\n",
       "      <td>0.0</td>\n",
       "      <td>19.0</td>\n",
       "      <td>76.842105</td>\n",
       "      <td>23.137903</td>\n",
       "      <td>39.0</td>\n",
       "      <td>56.00</td>\n",
       "      <td>83.0</td>\n",
       "      <td>97.00</td>\n",
       "      <td>107.0</td>\n",
       "    </tr>\n",
       "    <tr>\n",
       "      <td>1.0</td>\n",
       "      <td>7.0</td>\n",
       "      <td>93.857143</td>\n",
       "      <td>16.272969</td>\n",
       "      <td>70.0</td>\n",
       "      <td>81.00</td>\n",
       "      <td>101.0</td>\n",
       "      <td>107.00</td>\n",
       "      <td>110.0</td>\n",
       "    </tr>\n",
       "    <tr>\n",
       "      <td rowspan=\"2\" valign=\"top\">Expressive Language</td>\n",
       "      <td>0.0</td>\n",
       "      <td>34.0</td>\n",
       "      <td>66.500000</td>\n",
       "      <td>15.609341</td>\n",
       "      <td>42.0</td>\n",
       "      <td>57.00</td>\n",
       "      <td>63.0</td>\n",
       "      <td>73.75</td>\n",
       "      <td>108.0</td>\n",
       "    </tr>\n",
       "    <tr>\n",
       "      <td>1.0</td>\n",
       "      <td>10.0</td>\n",
       "      <td>84.100000</td>\n",
       "      <td>17.590717</td>\n",
       "      <td>64.0</td>\n",
       "      <td>68.25</td>\n",
       "      <td>84.0</td>\n",
       "      <td>91.75</td>\n",
       "      <td>112.0</td>\n",
       "    </tr>\n",
       "    <tr>\n",
       "      <td rowspan=\"2\" valign=\"top\">Expressive Vocabulary</td>\n",
       "      <td>0.0</td>\n",
       "      <td>31.0</td>\n",
       "      <td>80.419355</td>\n",
       "      <td>18.978539</td>\n",
       "      <td>20.0</td>\n",
       "      <td>73.00</td>\n",
       "      <td>80.0</td>\n",
       "      <td>90.50</td>\n",
       "      <td>125.0</td>\n",
       "    </tr>\n",
       "    <tr>\n",
       "      <td>1.0</td>\n",
       "      <td>8.0</td>\n",
       "      <td>92.125000</td>\n",
       "      <td>16.745468</td>\n",
       "      <td>61.0</td>\n",
       "      <td>86.00</td>\n",
       "      <td>97.5</td>\n",
       "      <td>102.25</td>\n",
       "      <td>110.0</td>\n",
       "    </tr>\n",
       "    <tr>\n",
       "      <td rowspan=\"2\" valign=\"top\">Language</td>\n",
       "      <td>0.0</td>\n",
       "      <td>33.0</td>\n",
       "      <td>65.575758</td>\n",
       "      <td>16.194193</td>\n",
       "      <td>42.0</td>\n",
       "      <td>55.00</td>\n",
       "      <td>62.0</td>\n",
       "      <td>73.00</td>\n",
       "      <td>109.0</td>\n",
       "    </tr>\n",
       "    <tr>\n",
       "      <td>1.0</td>\n",
       "      <td>10.0</td>\n",
       "      <td>81.500000</td>\n",
       "      <td>20.200385</td>\n",
       "      <td>55.0</td>\n",
       "      <td>66.50</td>\n",
       "      <td>79.5</td>\n",
       "      <td>88.00</td>\n",
       "      <td>114.0</td>\n",
       "    </tr>\n",
       "    <tr>\n",
       "      <td rowspan=\"2\" valign=\"top\">Receptive Language</td>\n",
       "      <td>0.0</td>\n",
       "      <td>33.0</td>\n",
       "      <td>68.818182</td>\n",
       "      <td>16.830877</td>\n",
       "      <td>46.0</td>\n",
       "      <td>57.00</td>\n",
       "      <td>66.0</td>\n",
       "      <td>74.00</td>\n",
       "      <td>115.0</td>\n",
       "    </tr>\n",
       "    <tr>\n",
       "      <td>1.0</td>\n",
       "      <td>10.0</td>\n",
       "      <td>80.600000</td>\n",
       "      <td>18.745073</td>\n",
       "      <td>50.0</td>\n",
       "      <td>68.00</td>\n",
       "      <td>78.5</td>\n",
       "      <td>96.25</td>\n",
       "      <td>109.0</td>\n",
       "    </tr>\n",
       "    <tr>\n",
       "      <td rowspan=\"2\" valign=\"top\">Receptive Vocabulary</td>\n",
       "      <td>0.0</td>\n",
       "      <td>34.0</td>\n",
       "      <td>79.705882</td>\n",
       "      <td>15.442031</td>\n",
       "      <td>34.0</td>\n",
       "      <td>71.25</td>\n",
       "      <td>78.5</td>\n",
       "      <td>88.50</td>\n",
       "      <td>114.0</td>\n",
       "    </tr>\n",
       "    <tr>\n",
       "      <td>1.0</td>\n",
       "      <td>9.0</td>\n",
       "      <td>93.666667</td>\n",
       "      <td>25.199206</td>\n",
       "      <td>54.0</td>\n",
       "      <td>87.00</td>\n",
       "      <td>99.0</td>\n",
       "      <td>103.00</td>\n",
       "      <td>135.0</td>\n",
       "    </tr>\n",
       "  </tbody>\n",
       "</table>\n",
       "</div>"
      ],
      "text/plain": [
       "                                      count       mean        std   min  \\\n",
       "domain                mother_college                                      \n",
       "Articulation          0.0              19.0  76.842105  23.137903  39.0   \n",
       "                      1.0               7.0  93.857143  16.272969  70.0   \n",
       "Expressive Language   0.0              34.0  66.500000  15.609341  42.0   \n",
       "                      1.0              10.0  84.100000  17.590717  64.0   \n",
       "Expressive Vocabulary 0.0              31.0  80.419355  18.978539  20.0   \n",
       "                      1.0               8.0  92.125000  16.745468  61.0   \n",
       "Language              0.0              33.0  65.575758  16.194193  42.0   \n",
       "                      1.0              10.0  81.500000  20.200385  55.0   \n",
       "Receptive Language    0.0              33.0  68.818182  16.830877  46.0   \n",
       "                      1.0              10.0  80.600000  18.745073  50.0   \n",
       "Receptive Vocabulary  0.0              34.0  79.705882  15.442031  34.0   \n",
       "                      1.0               9.0  93.666667  25.199206  54.0   \n",
       "\n",
       "                                        25%    50%     75%    max  \n",
       "domain                mother_college                               \n",
       "Articulation          0.0             56.00   83.0   97.00  107.0  \n",
       "                      1.0             81.00  101.0  107.00  110.0  \n",
       "Expressive Language   0.0             57.00   63.0   73.75  108.0  \n",
       "                      1.0             68.25   84.0   91.75  112.0  \n",
       "Expressive Vocabulary 0.0             73.00   80.0   90.50  125.0  \n",
       "                      1.0             86.00   97.5  102.25  110.0  \n",
       "Language              0.0             55.00   62.0   73.00  109.0  \n",
       "                      1.0             66.50   79.5   88.00  114.0  \n",
       "Receptive Language    0.0             57.00   66.0   74.00  115.0  \n",
       "                      1.0             68.00   78.5   96.25  109.0  \n",
       "Receptive Vocabulary  0.0             71.25   78.5   88.50  114.0  \n",
       "                      1.0             87.00   99.0  103.00  135.0  "
      ]
     },
     "execution_count": 45,
     "metadata": {},
     "output_type": "execute_result"
    }
   ],
   "source": [
    "test_scores.groupby(['domain', 'mother_college']).score.describe()"
   ]
  }
 ],
 "metadata": {
  "kernelspec": {
   "display_name": "Python 3",
   "language": "python",
   "name": "python3"
  },
  "language_info": {
   "codemirror_mode": {
    "name": "ipython",
    "version": 3
   },
   "file_extension": ".py",
   "mimetype": "text/x-python",
   "name": "python",
   "nbconvert_exporter": "python",
   "pygments_lexer": "ipython3",
   "version": "3.7.3"
  }
 },
 "nbformat": 4,
 "nbformat_minor": 4
}
