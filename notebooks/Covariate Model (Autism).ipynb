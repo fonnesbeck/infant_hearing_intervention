{
 "cells": [
  {
   "cell_type": "markdown",
   "metadata": {},
   "source": [
    "# Factors that Influence Outcomes of the Five Domains of Speech-Language in Children with Hearing Loss at age 4 years\n",
    "\n",
    "Paper 1"
   ]
  },
  {
   "cell_type": "code",
   "execution_count": 1,
   "metadata": {},
   "outputs": [],
   "source": [
    "# Import modules and set options\n",
    "%matplotlib inline\n",
    "import matplotlib.pyplot as plt\n",
    "import pandas as pd\n",
    "import numpy as np\n",
    "import seaborn as sns\n",
    "\n",
    "sns.set(context='notebook', style='ticks')"
   ]
  },
  {
   "cell_type": "markdown",
   "metadata": {},
   "source": [
    "Import data"
   ]
  },
  {
   "cell_type": "code",
   "execution_count": 2,
   "metadata": {},
   "outputs": [],
   "source": [
    "lsl_dr = (pd.read_csv('../data/clean/lsl_dr_frozen_09272019.csv', index_col=0, low_memory=False)\n",
    "                  .rename({'onset_1':'identify_mo'}, axis=1))"
   ]
  },
  {
   "cell_type": "code",
   "execution_count": 3,
   "metadata": {},
   "outputs": [
    {
     "data": {
      "text/html": [
       "<div>\n",
       "<style scoped>\n",
       "    .dataframe tbody tr th:only-of-type {\n",
       "        vertical-align: middle;\n",
       "    }\n",
       "\n",
       "    .dataframe tbody tr th {\n",
       "        vertical-align: top;\n",
       "    }\n",
       "\n",
       "    .dataframe thead th {\n",
       "        text-align: right;\n",
       "    }\n",
       "</style>\n",
       "<table border=\"1\" class=\"dataframe\">\n",
       "  <thead>\n",
       "    <tr style=\"text-align: right;\">\n",
       "      <th></th>\n",
       "      <th>redcap_event_name</th>\n",
       "      <th>academic_year_rv</th>\n",
       "      <th>hl</th>\n",
       "      <th>male</th>\n",
       "      <th>_race</th>\n",
       "      <th>prim_lang</th>\n",
       "      <th>sib</th>\n",
       "      <th>_mother_ed</th>\n",
       "      <th>father_ed</th>\n",
       "      <th>par1_ed</th>\n",
       "      <th>...</th>\n",
       "      <th>gf3_sis_ss</th>\n",
       "      <th>gf3_siw_ss</th>\n",
       "      <th>gf_version</th>\n",
       "      <th>ppvt_f</th>\n",
       "      <th>ppvt_ss</th>\n",
       "      <th>rowpvt_ss</th>\n",
       "      <th>school</th>\n",
       "      <th>score</th>\n",
       "      <th>test_name</th>\n",
       "      <th>test_type</th>\n",
       "    </tr>\n",
       "  </thead>\n",
       "  <tbody>\n",
       "    <tr>\n",
       "      <th>0</th>\n",
       "      <td>initial_assessment_arm_1</td>\n",
       "      <td>2002.0</td>\n",
       "      <td>0.0</td>\n",
       "      <td>0.0</td>\n",
       "      <td>0.0</td>\n",
       "      <td>0.0</td>\n",
       "      <td>1.0</td>\n",
       "      <td>6.0</td>\n",
       "      <td>6.0</td>\n",
       "      <td>NaN</td>\n",
       "      <td>...</td>\n",
       "      <td>NaN</td>\n",
       "      <td>NaN</td>\n",
       "      <td>NaN</td>\n",
       "      <td>NaN</td>\n",
       "      <td>NaN</td>\n",
       "      <td>NaN</td>\n",
       "      <td>101</td>\n",
       "      <td>58.0</td>\n",
       "      <td>NaN</td>\n",
       "      <td>EOWPVT</td>\n",
       "    </tr>\n",
       "    <tr>\n",
       "      <th>1</th>\n",
       "      <td>initial_assessment_arm_1</td>\n",
       "      <td>2002.0</td>\n",
       "      <td>0.0</td>\n",
       "      <td>0.0</td>\n",
       "      <td>0.0</td>\n",
       "      <td>0.0</td>\n",
       "      <td>1.0</td>\n",
       "      <td>6.0</td>\n",
       "      <td>6.0</td>\n",
       "      <td>NaN</td>\n",
       "      <td>...</td>\n",
       "      <td>NaN</td>\n",
       "      <td>NaN</td>\n",
       "      <td>NaN</td>\n",
       "      <td>NaN</td>\n",
       "      <td>NaN</td>\n",
       "      <td>NaN</td>\n",
       "      <td>101</td>\n",
       "      <td>51.0</td>\n",
       "      <td>PLS</td>\n",
       "      <td>receptive</td>\n",
       "    </tr>\n",
       "    <tr>\n",
       "      <th>2</th>\n",
       "      <td>initial_assessment_arm_1</td>\n",
       "      <td>2002.0</td>\n",
       "      <td>0.0</td>\n",
       "      <td>0.0</td>\n",
       "      <td>0.0</td>\n",
       "      <td>0.0</td>\n",
       "      <td>1.0</td>\n",
       "      <td>6.0</td>\n",
       "      <td>6.0</td>\n",
       "      <td>NaN</td>\n",
       "      <td>...</td>\n",
       "      <td>NaN</td>\n",
       "      <td>NaN</td>\n",
       "      <td>NaN</td>\n",
       "      <td>NaN</td>\n",
       "      <td>NaN</td>\n",
       "      <td>NaN</td>\n",
       "      <td>101</td>\n",
       "      <td>60.0</td>\n",
       "      <td>PLS</td>\n",
       "      <td>expressive</td>\n",
       "    </tr>\n",
       "    <tr>\n",
       "      <th>3</th>\n",
       "      <td>initial_assessment_arm_1</td>\n",
       "      <td>2002.0</td>\n",
       "      <td>0.0</td>\n",
       "      <td>0.0</td>\n",
       "      <td>0.0</td>\n",
       "      <td>0.0</td>\n",
       "      <td>1.0</td>\n",
       "      <td>6.0</td>\n",
       "      <td>6.0</td>\n",
       "      <td>NaN</td>\n",
       "      <td>...</td>\n",
       "      <td>NaN</td>\n",
       "      <td>NaN</td>\n",
       "      <td>NaN</td>\n",
       "      <td>NaN</td>\n",
       "      <td>NaN</td>\n",
       "      <td>NaN</td>\n",
       "      <td>101</td>\n",
       "      <td>54.0</td>\n",
       "      <td>PLS</td>\n",
       "      <td>total</td>\n",
       "    </tr>\n",
       "    <tr>\n",
       "      <th>4</th>\n",
       "      <td>initial_assessment_arm_1</td>\n",
       "      <td>2011.0</td>\n",
       "      <td>0.0</td>\n",
       "      <td>0.0</td>\n",
       "      <td>2.0</td>\n",
       "      <td>0.0</td>\n",
       "      <td>1.0</td>\n",
       "      <td>5.0</td>\n",
       "      <td>5.0</td>\n",
       "      <td>NaN</td>\n",
       "      <td>...</td>\n",
       "      <td>NaN</td>\n",
       "      <td>NaN</td>\n",
       "      <td>NaN</td>\n",
       "      <td>NaN</td>\n",
       "      <td>NaN</td>\n",
       "      <td>NaN</td>\n",
       "      <td>626</td>\n",
       "      <td>50.0</td>\n",
       "      <td>PLS</td>\n",
       "      <td>receptive</td>\n",
       "    </tr>\n",
       "  </tbody>\n",
       "</table>\n",
       "<p>5 rows × 246 columns</p>\n",
       "</div>"
      ],
      "text/plain": [
       "          redcap_event_name  academic_year_rv   hl  male  _race  prim_lang  \\\n",
       "0  initial_assessment_arm_1            2002.0  0.0   0.0    0.0        0.0   \n",
       "1  initial_assessment_arm_1            2002.0  0.0   0.0    0.0        0.0   \n",
       "2  initial_assessment_arm_1            2002.0  0.0   0.0    0.0        0.0   \n",
       "3  initial_assessment_arm_1            2002.0  0.0   0.0    0.0        0.0   \n",
       "4  initial_assessment_arm_1            2011.0  0.0   0.0    2.0        0.0   \n",
       "\n",
       "   sib  _mother_ed  father_ed  par1_ed  ...  gf3_sis_ss  gf3_siw_ss  \\\n",
       "0  1.0         6.0        6.0      NaN  ...         NaN         NaN   \n",
       "1  1.0         6.0        6.0      NaN  ...         NaN         NaN   \n",
       "2  1.0         6.0        6.0      NaN  ...         NaN         NaN   \n",
       "3  1.0         6.0        6.0      NaN  ...         NaN         NaN   \n",
       "4  1.0         5.0        5.0      NaN  ...         NaN         NaN   \n",
       "\n",
       "   gf_version  ppvt_f  ppvt_ss  rowpvt_ss  school  score  test_name  \\\n",
       "0         NaN     NaN      NaN        NaN     101   58.0        NaN   \n",
       "1         NaN     NaN      NaN        NaN     101   51.0        PLS   \n",
       "2         NaN     NaN      NaN        NaN     101   60.0        PLS   \n",
       "3         NaN     NaN      NaN        NaN     101   54.0        PLS   \n",
       "4         NaN     NaN      NaN        NaN     626   50.0        PLS   \n",
       "\n",
       "    test_type  \n",
       "0      EOWPVT  \n",
       "1   receptive  \n",
       "2  expressive  \n",
       "3       total  \n",
       "4   receptive  \n",
       "\n",
       "[5 rows x 246 columns]"
      ]
     },
     "execution_count": 3,
     "metadata": {},
     "output_type": "execute_result"
    }
   ],
   "source": [
    "lsl_dr.head()"
   ]
  },
  {
   "cell_type": "markdown",
   "metadata": {},
   "source": [
    "Indicator for non-profound hearing loss"
   ]
  },
  {
   "cell_type": "code",
   "execution_count": 4,
   "metadata": {},
   "outputs": [],
   "source": [
    "lsl_dr['deg_hl_below6'] = lsl_dr.degree_hl<6\n",
    "lsl_dr.loc[lsl_dr.degree_hl.isnull(), 'deg_hl_below6'] = np.nan"
   ]
  },
  {
   "cell_type": "markdown",
   "metadata": {},
   "source": [
    "Indicator for first intervention outside OPTION"
   ]
  },
  {
   "cell_type": "code",
   "execution_count": 5,
   "metadata": {},
   "outputs": [],
   "source": [
    "lsl_dr['int_outside_option'] = lsl_dr.age > lsl_dr.age_int\n",
    "lsl_dr.loc[lsl_dr.age < lsl_dr.age_int, 'int_outside_option'] = np.nan"
   ]
  },
  {
   "cell_type": "markdown",
   "metadata": {},
   "source": [
    "Indicator for high school graduation of mother"
   ]
  },
  {
   "cell_type": "code",
   "execution_count": 6,
   "metadata": {},
   "outputs": [],
   "source": [
    "lsl_dr['mother_hs'] = lsl_dr.mother_ed > 1\n",
    "lsl_dr.loc[lsl_dr.mother_ed.isnull(), 'mother_hs'] = None"
   ]
  },
  {
   "cell_type": "markdown",
   "metadata": {},
   "source": [
    "Create age in years variable"
   ]
  },
  {
   "cell_type": "code",
   "execution_count": 7,
   "metadata": {},
   "outputs": [],
   "source": [
    "lsl_dr['age_years'] = lsl_dr.age/12."
   ]
  },
  {
   "cell_type": "markdown",
   "metadata": {},
   "source": [
    "Create school index"
   ]
  },
  {
   "cell_type": "code",
   "execution_count": 8,
   "metadata": {},
   "outputs": [],
   "source": [
    "schools_unique = np.sort(lsl_dr.school.unique())\n",
    "school_lookup = dict(zip(schools_unique, range(len(schools_unique))))"
   ]
  },
  {
   "cell_type": "code",
   "execution_count": 9,
   "metadata": {},
   "outputs": [],
   "source": [
    "lsl_dr['school_idx'] = lsl_dr.school.replace(school_lookup)"
   ]
  },
  {
   "cell_type": "markdown",
   "metadata": {},
   "source": [
    "Create student index"
   ]
  },
  {
   "cell_type": "code",
   "execution_count": 10,
   "metadata": {},
   "outputs": [],
   "source": [
    "student_unique = np.sort(lsl_dr.study_id.unique())\n",
    "student_lookup = dict(zip(student_unique, range(len(student_unique))))"
   ]
  },
  {
   "cell_type": "code",
   "execution_count": 11,
   "metadata": {},
   "outputs": [],
   "source": [
    "lsl_dr['student_idx'] = lsl_dr.study_id.replace(student_lookup)"
   ]
  },
  {
   "cell_type": "markdown",
   "metadata": {},
   "source": [
    "### Exclusions\n",
    "\n",
    "Drop non-english and other disabilities, filter for hearing loss"
   ]
  },
  {
   "cell_type": "code",
   "execution_count": 12,
   "metadata": {},
   "outputs": [],
   "source": [
    "other_etiology = (lsl_dr[['etiology_3___2', 'etiology_3___4', 'etiology_3___5', 'etiology_3___6', 'etiology_3___9',\n",
    "       'etiology_oth___1', 'etiology_oth___3', 'etiology_oth___4', 'etiology_oth___8', 'etiology_oth___9']]\n",
    "                      .sum(1).astype(bool))"
   ]
  },
  {
   "cell_type": "code",
   "execution_count": 13,
   "metadata": {},
   "outputs": [],
   "source": [
    "inclusion_mask = (~lsl_dr.non_english.astype(bool) \n",
    "                  & (lsl_dr.degree_hl!=0))"
   ]
  },
  {
   "cell_type": "code",
   "execution_count": 14,
   "metadata": {},
   "outputs": [],
   "source": [
    "covariates = ['score', 'student_idx', 'school_idx', 'male', 'sib', 'family_inv', 'race', \n",
    "              'age_test', 'premature_weeks', 'age_amp', 'parent_hl',\n",
    "              'domain', 'deg_hl_below6', 'mother_hs', 'mother_college', 'age_years', 'test_type', \n",
    "              'time', 'bilateral_ci', 'one_or_both_parent_hl',\n",
    "              'bilateral_ha', 'unilateral_ci', 'unilateral_ha', \n",
    "              'bimodal', 'assymetrical', 'age_int', 'autism']"
   ]
  },
  {
   "cell_type": "code",
   "execution_count": 15,
   "metadata": {},
   "outputs": [],
   "source": [
    "hl_type_cols = lsl_dr.columns[lsl_dr.columns.str.contains('lateral')].values.tolist()"
   ]
  },
  {
   "cell_type": "code",
   "execution_count": 16,
   "metadata": {},
   "outputs": [],
   "source": [
    "covariates += list(set(hl_type_cols))\n",
    "covariates = list(set(covariates))"
   ]
  },
  {
   "cell_type": "code",
   "execution_count": 17,
   "metadata": {},
   "outputs": [
    {
     "data": {
      "text/plain": [
       "(51304, 53)"
      ]
     },
     "execution_count": 17,
     "metadata": {},
     "output_type": "execute_result"
    }
   ],
   "source": [
    "analysis_subset = lsl_dr.loc[inclusion_mask, covariates].copy().dropna(subset=['time'])\n",
    "analysis_subset.shape"
   ]
  },
  {
   "cell_type": "code",
   "execution_count": 18,
   "metadata": {},
   "outputs": [
    {
     "data": {
      "text/plain": [
       "bilateral_ci     0.681701\n",
       "bilateral_ha     0.188952\n",
       "unilateral_ci    0.019472\n",
       "unilateral_ha    0.026450\n",
       "bimodal          0.056916\n",
       "dtype: float64"
      ]
     },
     "execution_count": 18,
     "metadata": {},
     "output_type": "execute_result"
    }
   ],
   "source": [
    "analysis_subset[['bilateral_ci',\n",
    "              'bilateral_ha', 'unilateral_ci', 'unilateral_ha', 'bimodal']].mean()"
   ]
  },
  {
   "cell_type": "code",
   "execution_count": 19,
   "metadata": {},
   "outputs": [],
   "source": [
    "analysis_subset['premature'] = (analysis_subset.premature_weeks>0).astype(float)\n",
    "analysis_subset.loc[analysis_subset.premature_weeks.isnull(), 'premature'] = np.nan"
   ]
  },
  {
   "cell_type": "markdown",
   "metadata": {},
   "source": [
    "Add expressive and receptive to langauge test domains"
   ]
  },
  {
   "cell_type": "code",
   "execution_count": 20,
   "metadata": {},
   "outputs": [],
   "source": [
    "analysis_subset.loc[(analysis_subset.domain=='Language') & (analysis_subset.test_type=='receptive'), \n",
    "           'domain'] = 'Receptive Language'\n",
    "analysis_subset.loc[(analysis_subset.domain=='Language') & (analysis_subset.test_type=='expressive'), \n",
    "           'domain'] = 'Expressive Language'"
   ]
  },
  {
   "cell_type": "code",
   "execution_count": 21,
   "metadata": {},
   "outputs": [
    {
     "data": {
      "text/plain": [
       "<matplotlib.axes._subplots.AxesSubplot at 0x7f9e6a0b94e0>"
      ]
     },
     "execution_count": 21,
     "metadata": {},
     "output_type": "execute_result"
    },
    {
     "data": {
      "image/png": "[encoded data removed]",
      "text/plain": [
       "<Figure size 432x288 with 1 Axes>"
      ]
     },
     "metadata": {
      "needs_background": "light"
     },
     "output_type": "display_data"
    }
   ],
   "source": [
    "analysis_subset[analysis_subset.age_test<100].age_test.hist()"
   ]
  },
  {
   "cell_type": "markdown",
   "metadata": {},
   "source": [
    "Drop records with missing race and age at ernollment, since there is less than 1% of them"
   ]
  },
  {
   "cell_type": "code",
   "execution_count": 22,
   "metadata": {},
   "outputs": [],
   "source": [
    "analysis_subset = analysis_subset.dropna(subset=['race', 'age_years', 'age_test', 'parent_hl'])"
   ]
  },
  {
   "cell_type": "code",
   "execution_count": 23,
   "metadata": {},
   "outputs": [],
   "source": [
    "assert not analysis_subset.autism.isnull().sum()"
   ]
  },
  {
   "cell_type": "markdown",
   "metadata": {},
   "source": [
    "## Comparison of mean scores"
   ]
  },
  {
   "cell_type": "markdown",
   "metadata": {},
   "source": [
    "Restrict to between 3 and 6 years"
   ]
  },
  {
   "cell_type": "code",
   "execution_count": 24,
   "metadata": {},
   "outputs": [],
   "source": [
    "analysis_subset = analysis_subset[(analysis_subset.age_test>=36) & (analysis_subset.age_test<72)]"
   ]
  },
  {
   "cell_type": "code",
   "execution_count": 25,
   "metadata": {},
   "outputs": [
    {
     "data": {
      "text/plain": [
       "(26292, 54)"
      ]
     },
     "execution_count": 25,
     "metadata": {},
     "output_type": "execute_result"
    }
   ],
   "source": [
    "analysis_subset.shape"
   ]
  },
  {
   "cell_type": "markdown",
   "metadata": {},
   "source": [
    "Take first test score"
   ]
  },
  {
   "cell_type": "code",
   "execution_count": 26,
   "metadata": {},
   "outputs": [],
   "source": [
    "analysis_subset = analysis_subset.loc[analysis_subset.groupby(\"student_idx\")[\"age_test\"].idxmin()]"
   ]
  },
  {
   "cell_type": "code",
   "execution_count": 27,
   "metadata": {},
   "outputs": [
    {
     "data": {
      "text/plain": [
       "(2921, 54)"
      ]
     },
     "execution_count": 27,
     "metadata": {},
     "output_type": "execute_result"
    }
   ],
   "source": [
    "analysis_subset.shape"
   ]
  },
  {
   "cell_type": "code",
   "execution_count": 28,
   "metadata": {},
   "outputs": [
    {
     "data": {
      "text/plain": [
       "array([<matplotlib.axes._subplots.AxesSubplot object at 0x7f9e68fc0198>,\n",
       "       <matplotlib.axes._subplots.AxesSubplot object at 0x7f9e68e9c470>],\n",
       "      dtype=object)"
      ]
     },
     "execution_count": 28,
     "metadata": {},
     "output_type": "execute_result"
    },
    {
     "data": {
      "image/png": "[encoded data removed]",
      "text/plain": [
       "<Figure size 432x288 with 2 Axes>"
      ]
     },
     "metadata": {
      "needs_background": "light"
     },
     "output_type": "display_data"
    }
   ],
   "source": [
    "analysis_subset.hist(column='score', by='autism', density=True)"
   ]
  },
  {
   "cell_type": "code",
   "execution_count": 29,
   "metadata": {},
   "outputs": [],
   "source": [
    "from pymc3 import Bernoulli, Normal, Uniform, Dirichlet, Categorical, Beta, HalfCauchy\n",
    "from pymc3 import Gamma, Exponential, Multinomial, HalfNormal, NormalMixture, Lognormal\n",
    "from pymc3 import Model, Deterministic, sample\n",
    "from numpy.ma import masked_values, set_fill_value, masked_invalid\n",
    "import theano.tensor as tt\n",
    "from theano import shared"
   ]
  },
  {
   "cell_type": "code",
   "execution_count": 30,
   "metadata": {},
   "outputs": [],
   "source": [
    "autism, score = analysis_subset[['autism', 'score']].values.T\n",
    "autism = autism.astype(int)"
   ]
  },
  {
   "cell_type": "code",
   "execution_count": 31,
   "metadata": {},
   "outputs": [],
   "source": [
    "with Model() as score_model:\n",
    "    \n",
    "    μ = Normal('μ', 100, sd=20, shape=2)\n",
    "    σ = HalfNormal('σ', 10, shape=2)\n",
    "    \n",
    "    δ = Deterministic('difference', μ[1] - μ[0])\n",
    "    \n",
    "    y = Normal('y', μ[autism], sd=σ[autism], observed=score)"
   ]
  },
  {
   "cell_type": "code",
   "execution_count": 32,
   "metadata": {},
   "outputs": [
    {
     "name": "stderr",
     "output_type": "stream",
     "text": [
      "Auto-assigning NUTS sampler...\n",
      "Initializing NUTS using jitter+adapt_diag...\n",
      "Multiprocess sampling (4 chains in 4 jobs)\n",
      "NUTS: [σ, μ]\n",
      "Sampling 4 chains: 100%|██████████| 12000/12000 [00:08<00:00, 1474.83draws/s]\n"
     ]
    }
   ],
   "source": [
    "with score_model:\n",
    "    trace = sample(1000, tune=2000)"
   ]
  },
  {
   "cell_type": "code",
   "execution_count": 31,
   "metadata": {},
   "outputs": [],
   "source": [
    "from pymc3 import plot_posterior"
   ]
  },
  {
   "cell_type": "code",
   "execution_count": 34,
   "metadata": {},
   "outputs": [
    {
     "name": "stderr",
     "output_type": "stream",
     "text": [
      "/home/fonnesbeck_gmail_com/anaconda3/envs/dev/lib/python3.7/site-packages/pymc3/plots/__init__.py:40: UserWarning: Keyword argument `varnames` renamed to `var_names`, and will be removed in pymc3 3.8\n",
      "  warnings.warn('Keyword argument `{old}` renamed to `{new}`, and will be removed in pymc3 3.8'.format(old=old, new=new))\n"
     ]
    },
    {
     "data": {
      "text/plain": [
       "array([<matplotlib.axes._subplots.AxesSubplot object at 0x7f4672e68710>],\n",
       "      dtype=object)"
      ]
     },
     "execution_count": 34,
     "metadata": {},
     "output_type": "execute_result"
    },
    {
     "data": {
      "image/png": "[encoded data removed]",
      "text/plain": [
       "<Figure size 432x288 with 1 Axes>"
      ]
     },
     "metadata": {
      "needs_background": "light"
     },
     "output_type": "display_data"
    }
   ],
   "source": [
    "plot_posterior(trace, varnames=['difference'])"
   ]
  },
  {
   "cell_type": "markdown",
   "metadata": {},
   "source": [
    "## Covariate model specification\n",
    "\n",
    "Student test scores were modeled across five domains: receptive language, expressive \n",
    "language, articulation, receptive vocabulary, and expressive vocabulary. Each domain was modeled separately, using the same general model structure, a Bayesian hierarchical mixed-effects linear model.\n",
    "\n",
    "Consistent with the goals of the analysis, namely evaluating speech and language outcomes at 4 years of age, the subset of the dataset analyzed was restricted to children between the ages 48 and 60 months at the time of testing. Due to this age restriction, most students in the dataset contributed only one test score to the analysis, but several individuals (on the order of 100-200, depending on the test) contributed two or more. Rather than address the repeated measures (and resulting lack of independence) statistically, the mean test score was used for each student with more than one reported score within each domain.\n",
    "\n",
    "Eight potential predictor variables (covariates) were included in the model as fixed effects, based on a priori expert opinion that considered them to be possibly influential for predicting test scores, and on the presence of reasonable variation in the predictor variable across subjects; variables that had identical values over a large portion of subjects were excluded. The final subset of covariates included gender, family involvement index, number of siblings in household, degree of hearing loss, mother’s education, age of enrollment, and time in the program. The family involvement scale is a 5-category ordinal variable that ranges from ideal participation by family (0) to limited participation (4) (Moeller, 2000). Mother’s education was coded as a binary variable that identifie children whose mother ha at least a high school diploma as the highest level of completed education. The degree of hearing loss was coded as a binary variable that took the value 1 if the degree of loss (based on PTA or ABR results) was less than 6 (profound), resulting in a variable that indicate non-profound hearing loss. Since degree of loss was considered important a priori, we wished to include it in the model, but the lack of variation among non-profound scores (<6) necessitated recoding into fewer categories. These variables were included together in a multivariate mixed effects model so that the estimates of each covariate effect re adjusted for the effects of the others. For example, the effect of decreased family involvement s the estimated effect after taking into account the other variables in the model.\n",
    "\n",
    "In addition to the fixed effects specified above, we included a random effect to account for the variation in test scores among schools, over and above the variation explained by our variables of interest. This random effect estimates the mean and variance of the population of schools comprising this multi-center study. Hence, the predicted score for any particular student is a combination of the fixed effect predictors and the random effect from his or her school. The residual variation from the model is assumed to be normally distributed. \n",
    "\n",
    "The LSL-DR dataset includes several covariates of interest that have observations missing for some records. In order to avoid conducting complete case analysis, we imputed missing values using Bayesian statistical methods, which allows us to use all available data in our model (REF). We included covariates where one third were missing for the subset of data corresponding to a particular test. Missing values were imputed in the model by constructing distributions of values based on the non-missing values, and sampling from this distribution at every iteration of the Markov Chain Monte Carlo (MCMC) sampling procedure used to estimate the model. This approach assumes that covariate values are \n",
    "missing completely at random (MCAR). As an ad hoc measure for checking for obvious violations of this assumption, we calculated mean values for other variables according to whether each covariate was missing; if means differed strongly according to missingness, this would suggest that missingness may not be completely at random.\n",
    "\n",
    "All models were estimated using Markov chain Monte Carlo (Brooks et al. 2011) methods. We specified vague priors to all unknown model parameters. Specifically, standard deviations of the random effects and the sampling distribution were given half-Cauchy priors with scale parameter set to 1, covariates were specified with zero-mean Gaussian priors with standard deviation 100, and the overall mean score also as Gaussian, but with a mean value of 100. Each model was run for 5000 iterations using the PyMC 3.5 software package (Salvatier et al. 2016), with 4000 iterations conservatively discarded as the burn-in interval, leaving 1000 for inference. Model convergence was checked by running a second MCMC chain, and calculating the Gelman-Rubin statistic (Gelman and Rubin 1992) using both chains. Model goodness-of-fit was evaluated using posterior predictive checks, by simulating mean outcome differences from the model and comparing the distribution of simulated differences to the observed mean difference. "
   ]
  },
  {
   "cell_type": "markdown",
   "metadata": {},
   "source": [
    "Utility function for filling NA values"
   ]
  },
  {
   "cell_type": "code",
   "execution_count": 32,
   "metadata": {},
   "outputs": [
    {
     "data": {
      "text/plain": [
       "masked_array(data=[0.4, --, 5.0],\n",
       "             mask=[False,  True, False],\n",
       "       fill_value=0.5)"
      ]
     },
     "execution_count": 32,
     "metadata": {},
     "output_type": "execute_result"
    }
   ],
   "source": [
    "def fillna(x, value):\n",
    "    x_masked = np.ma.masked_invalid(x)\n",
    "    np.ma.set_fill_value(x_masked, value)\n",
    "    return x_masked\n",
    "\n",
    "fillna(np.array([0.4, np.nan, 5]), 0.5)"
   ]
  },
  {
   "cell_type": "markdown",
   "metadata": {},
   "source": [
    "Age of amplification appears to be a mixture, so I will impute it as such"
   ]
  },
  {
   "cell_type": "code",
   "execution_count": 33,
   "metadata": {},
   "outputs": [
    {
     "data": {
      "text/plain": [
       "<matplotlib.axes._subplots.AxesSubplot at 0x7f9e3d703470>"
      ]
     },
     "execution_count": 33,
     "metadata": {},
     "output_type": "execute_result"
    },
    {
     "data": {
      "image/png": "[encoded data removed]",
      "text/plain": [
       "<Figure size 432x288 with 1 Axes>"
      ]
     },
     "metadata": {
      "needs_background": "light"
     },
     "output_type": "display_data"
    }
   ],
   "source": [
    "np.log(analysis_subset.age_amp+0.1).hist(bins=20)"
   ]
  },
  {
   "cell_type": "code",
   "execution_count": 34,
   "metadata": {},
   "outputs": [],
   "source": [
    "from pymc3 import Bernoulli, Normal, Uniform, Dirichlet, Categorical, Beta, HalfCauchy\n",
    "from pymc3 import Gamma, Exponential, Multinomial, HalfNormal, NormalMixture, Lognormal\n",
    "from pymc3 import Model, Deterministic, Metropolis\n",
    "from numpy.ma import masked_values, set_fill_value, masked_invalid\n",
    "import theano.tensor as tt\n",
    "from theano import shared\n",
    "\n",
    "def generate_model(dataset, intervention=False):\n",
    "    \n",
    "    mask = (dataset.age_test>=36) & (dataset.age_test<72)\n",
    "    \n",
    "    # Generate mean scores\n",
    "    mean_scores = dataset[mask].groupby('student_idx').score.mean()\n",
    "    dataset_unique = dataset[mask].drop_duplicates(subset='student_idx')\n",
    "    dataset_unique.set_index('student_idx').drop('score', axis=1).join(mean_scores)\n",
    "    assert not dataset_unique.score.isnull().sum()\n",
    "    \n",
    "    (male, sib, family_inv, race, school, one_or_both_parent_hl, premature, autism, time, \n",
    "             non_severe, mother_college, age_amp,\n",
    "             age_enroll, age_int, score) = dataset_unique[['male', 'sib','family_inv', 'race', 'school_idx', \n",
    "                                                  'one_or_both_parent_hl', 'premature', 'autism',\n",
    "                                                    'time', 'deg_hl_below6', 'mother_college', 'age_amp',\n",
    "                                                    'age_years', 'age_int', 'score']].astype(float).T.values\n",
    "\n",
    "    # Transform some data\n",
    "    age_enroll_std = age_enroll - age_enroll.mean()\n",
    "\n",
    "    with Model() as model:\n",
    "        \n",
    "        # Imputation of age of amplification\n",
    "        if np.isnan(age_amp).sum():\n",
    "            m_age_amp = Normal(\"m_age_amp\", 0, sd=5, shape=2)\n",
    "            s_age_amp = Exponential(\"s_age_amp\", 1)\n",
    "            p_age_amp = Beta('p_age_amp', 1, 1)\n",
    "            _x_age_amp = NormalMixture('x_age_amp', [p_age_amp, 1-p_age_amp], m_age_amp, sd=s_age_amp,\n",
    "                                    observed=masked_invalid(np.log(age_amp+0.1)))\n",
    "            x_age_amp = (tt.exp(_x_age_amp) - 0.1) / 12\n",
    "        else:\n",
    "            x_age_amp = age_amp / 12\n",
    "        \n",
    "        # Imputation of family involvement\n",
    "        if np.isnan(family_inv).sum():\n",
    "            p_family_inv = Dirichlet(\"p_family_inv\", np.ones(5))\n",
    "            x_family_inv = Categorical('x_family_inv', p_family_inv, \n",
    "                                       observed=masked_invalid(family_inv))\n",
    "        else:\n",
    "            x_family_inv = family_inv\n",
    "\n",
    "        # Imputation of hearing loss\n",
    "        if np.isnan(non_severe).sum():\n",
    "            p_hl = Beta(\"p_hl\", 1, 1, testval=0.9)\n",
    "            x_hl = Bernoulli('x_hl', p_hl, observed=masked_invalid(non_severe))\n",
    "        else:\n",
    "            x_hl = non_severe\n",
    "\n",
    "        # Imputation of siblings\n",
    "        if np.isnan(sib).sum():\n",
    "            n_sib_cats = len(dataset.sib.unique())\n",
    "            p_sib = Dirichlet(\"p_sib\", np.ones(n_sib_cats))\n",
    "            x_sib = Categorical('x_sib', p_sib, observed=masked_invalid(sib))\n",
    "        else:\n",
    "            x_sib = sib\n",
    "            \n",
    "        # Imputation of mother's college education\n",
    "        if np.isnan(mother_college).sum():\n",
    "            p_mother_college = Beta(\"p_mother_college\", 1, 1)\n",
    "            x_mother_college = Bernoulli('x_mother_college', p_mother_college, observed=masked_invalid(mother_college))\n",
    "        else:\n",
    "            x_mother_college = mother_college\n",
    "            \n",
    "        # Indices to school random effects\n",
    "        unique_schools = np.unique(school)\n",
    "        school_index = [list(unique_schools).index(s) for s in school]\n",
    "\n",
    "        # School random effect (non-centered parameterization)\n",
    "        μ_school = Normal('μ_school', 90, sd=10)\n",
    "        σ_school = Exponential(\"σ_school\", 1)\n",
    "        z_school = Normal('z_school', mu=0, sd=1, shape=len(unique_schools))\n",
    "        α_school = Deterministic(\"α_school\", μ_school + z_school*σ_school)\n",
    "        \n",
    "        # Random intercepts\n",
    "        intercept = α_school[school_index]\n",
    "        \n",
    "        # Race effect\n",
    "        β_race = Normal(\"β_race\", 0, sd=10, shape=4)\n",
    "        race_effect = tt.concatenate([[0], β_race])[race.astype(int)]\n",
    "        \n",
    "        # Covariates\n",
    "        X = [x_age_amp, \n",
    "             x_family_inv,\n",
    "             x_sib, \n",
    "             x_hl, \n",
    "             x_mother_college, \n",
    "             time,\n",
    "             autism]\n",
    "        \n",
    "        if intervention:\n",
    "            X += [x_age_int]\n",
    "\n",
    "        # Fixed effects\n",
    "        β = Normal(\"β\", 0, sd=100, shape=len(X))\n",
    "        θ = intercept + race_effect + β.dot(tt.stack(X))\n",
    "    \n",
    "        σ = HalfNormal(\"σ\", sd=25)\n",
    "\n",
    "        score_like = Normal(\"score_like\", mu=θ, sd=σ, observed=score)\n",
    "\n",
    "    return model"
   ]
  },
  {
   "cell_type": "code",
   "execution_count": 37,
   "metadata": {},
   "outputs": [],
   "source": [
    "receptive_language_dataset = analysis_subset[(analysis_subset.domain=='Receptive Language')]"
   ]
  },
  {
   "cell_type": "code",
   "execution_count": 109,
   "metadata": {},
   "outputs": [
    {
     "data": {
      "text/plain": [
       "0    578\n",
       "1      2\n",
       "Name: autism, dtype: int64"
      ]
     },
     "execution_count": 109,
     "metadata": {},
     "output_type": "execute_result"
    }
   ],
   "source": [
    "receptive_language_dataset.autism.value_counts()"
   ]
  },
  {
   "cell_type": "code",
   "execution_count": 38,
   "metadata": {},
   "outputs": [
    {
     "name": "stderr",
     "output_type": "stream",
     "text": [
      "/home/fonnesbeck_gmail_com/anaconda3/envs/dev/lib/python3.7/site-packages/pymc3/model.py:1331: UserWarning: Data in x_age_amp contains missing values and will be automatically imputed from the sampling distribution.\n",
      "  warnings.warn(impute_message, UserWarning)\n",
      "/home/fonnesbeck_gmail_com/anaconda3/envs/dev/lib/python3.7/site-packages/pymc3/model.py:1331: UserWarning: Data in x_family_inv contains missing values and will be automatically imputed from the sampling distribution.\n",
      "  warnings.warn(impute_message, UserWarning)\n",
      "/home/fonnesbeck_gmail_com/anaconda3/envs/dev/lib/python3.7/site-packages/pymc3/model.py:1331: UserWarning: Data in x_hl contains missing values and will be automatically imputed from the sampling distribution.\n",
      "  warnings.warn(impute_message, UserWarning)\n",
      "/home/fonnesbeck_gmail_com/anaconda3/envs/dev/lib/python3.7/site-packages/pymc3/model.py:1331: UserWarning: Data in x_sib contains missing values and will be automatically imputed from the sampling distribution.\n",
      "  warnings.warn(impute_message, UserWarning)\n",
      "/home/fonnesbeck_gmail_com/anaconda3/envs/dev/lib/python3.7/site-packages/pymc3/model.py:1331: UserWarning: Data in x_mother_college contains missing values and will be automatically imputed from the sampling distribution.\n",
      "  warnings.warn(impute_message, UserWarning)\n"
     ]
    }
   ],
   "source": [
    "receptive_language = generate_model(receptive_language_dataset)"
   ]
  },
  {
   "cell_type": "code",
   "execution_count": 39,
   "metadata": {},
   "outputs": [],
   "source": [
    "iterations = 1000\n",
    "tuning = 4000"
   ]
  },
  {
   "cell_type": "code",
   "execution_count": 42,
   "metadata": {},
   "outputs": [],
   "source": [
    "teams_webhook = 'https://outlook.office.com/webhook/ceb49170-b30d-4d31-831a-24cf886aacc6@883ab773-8b58-4d8c-b371-8eaad5e83115/IncomingWebhook/bfb67b6f94834198a4561551f52afe88/a7a73b07-0fb1-4f55-abe4-f6f6b5083aa2'\n",
    "email_sender_pwd = 'qerpxmfbyzirwqta'"
   ]
  },
  {
   "cell_type": "code",
   "execution_count": null,
   "metadata": {},
   "outputs": [],
   "source": [
    "from knockknock import email_sender\n",
    "\n",
    "@email_sender(recipient_emails=[\"cfonnesbeck@yankees.com\"], sender_email=\"fonnesbeck@gmail.com\")\n",
    "def _sample(*args, **kwargs):\n",
    "    return sample(*args, **kwargs)"
   ]
  },
  {
   "cell_type": "code",
   "execution_count": null,
   "metadata": {},
   "outputs": [
    {
     "name": "stderr",
     "output_type": "stream",
     "text": [
      "Multiprocess sampling (2 chains in 2 jobs)\n",
      "CompoundStep\n",
      ">NUTS: [σ, β, β_race, z_school, σ_school, μ_school, p_mother_college, p_sib, p_hl, p_family_inv, x_age_amp_missing, p_age_amp, s_age_amp, m_age_amp]\n",
      ">CategoricalGibbsMetropolis: [x_sib_missing, x_family_inv_missing]\n",
      ">BinaryGibbsMetropolis: [x_hl_missing, x_mother_college_missing]\n",
      "Sampling 2 chains:  48%|████▊     | 4783/10000 [05:14<05:29, 15.85draws/s]"
     ]
    }
   ],
   "source": [
    "from pymc3 import sample\n",
    "\n",
    "with receptive_language:\n",
    "    \n",
    "    rec_lang_trace = _sample(iterations, \n",
    "                              tune=tuning, chains=2, cores=2)"
   ]
  },
  {
   "cell_type": "code",
   "execution_count": 47,
   "metadata": {},
   "outputs": [],
   "source": [
    "labels = ['Age at amplification',\n",
    "          'Family Involvement Score', \n",
    "          'Sibling Count',\n",
    "          'Non-profound Hearing Loss',\n",
    "          'Mother with College Ed',\n",
    "          'Years in program',\n",
    "          'Autism']"
   ]
  },
  {
   "cell_type": "code",
   "execution_count": 48,
   "metadata": {},
   "outputs": [],
   "source": [
    "from arviz import plot_trace, plot_forest"
   ]
  },
  {
   "cell_type": "code",
   "execution_count": 49,
   "metadata": {},
   "outputs": [],
   "source": [
    "x_range = -10, 15"
   ]
  },
  {
   "cell_type": "code",
   "execution_count": 50,
   "metadata": {},
   "outputs": [
    {
     "data": {
      "image/png": "[encoded data removed]",
      "text/plain": [
       "<Figure size 432x388.8 with 1 Axes>"
      ]
     },
     "metadata": {
      "needs_background": "light"
     },
     "output_type": "display_data"
    }
   ],
   "source": [
    "fig, (ax,) = plot_forest(rec_lang_trace, var_names=['β'])\n",
    "ax.set_yticklabels(labels[::-1]);"
   ]
  },
  {
   "cell_type": "code",
   "execution_count": 51,
   "metadata": {},
   "outputs": [
    {
     "data": {
      "image/png": "[encoded data removed]",
      "text/plain": [
       "<Figure size 432x835.2 with 1 Axes>"
      ]
     },
     "metadata": {
      "needs_background": "light"
     },
     "output_type": "display_data"
    }
   ],
   "source": [
    "plot_forest(rec_lang_trace, var_names=['α_school']);"
   ]
  },
  {
   "cell_type": "code",
   "execution_count": 52,
   "metadata": {},
   "outputs": [
    {
     "data": {
      "text/plain": [
       "<matplotlib.axes._subplots.AxesSubplot at 0x7f9dd1f420b8>"
      ]
     },
     "execution_count": 52,
     "metadata": {},
     "output_type": "execute_result"
    },
    {
     "data": {
      "image/png": "[encoded data removed]",
      "text/plain": [
       "<Figure size 432x288 with 1 Axes>"
      ]
     },
     "metadata": {},
     "output_type": "display_data"
    }
   ],
   "source": [
    "from arviz import plot_energy\n",
    "\n",
    "plot_energy(rec_lang_trace)"
   ]
  },
  {
   "cell_type": "code",
   "execution_count": 53,
   "metadata": {},
   "outputs": [
    {
     "data": {
      "image/png": "[encoded data removed]",
      "text/plain": [
       "<Figure size 432x345.6 with 1 Axes>"
      ]
     },
     "metadata": {
      "needs_background": "light"
     },
     "output_type": "display_data"
    }
   ],
   "source": [
    "fig, (ax,) = plot_forest(rec_lang_trace, var_names=['β_race'])\n",
    "ax.set_yticklabels(['Black', 'Hispanic', 'Asian', 'Other']);"
   ]
  },
  {
   "cell_type": "markdown",
   "metadata": {},
   "source": [
    "The school random effect standard deviation is a measure of how variable scores are among schools. The estimated standard deviation is about 4 points for this domain."
   ]
  },
  {
   "cell_type": "code",
   "execution_count": 54,
   "metadata": {},
   "outputs": [
    {
     "data": {
      "image/png": "[encoded data removed]",
      "text/plain": [
       "<Figure size 864x144 with 2 Axes>"
      ]
     },
     "metadata": {
      "needs_background": "light"
     },
     "output_type": "display_data"
    }
   ],
   "source": [
    "plot_trace(rec_lang_trace, var_names=['σ_school']);"
   ]
  },
  {
   "cell_type": "code",
   "execution_count": 55,
   "metadata": {},
   "outputs": [
    {
     "data": {
      "text/html": [
       "<div>\n",
       "<style scoped>\n",
       "    .dataframe tbody tr th:only-of-type {\n",
       "        vertical-align: middle;\n",
       "    }\n",
       "\n",
       "    .dataframe tbody tr th {\n",
       "        vertical-align: top;\n",
       "    }\n",
       "\n",
       "    .dataframe thead th {\n",
       "        text-align: right;\n",
       "    }\n",
       "</style>\n",
       "<table border=\"1\" class=\"dataframe\">\n",
       "  <thead>\n",
       "    <tr style=\"text-align: right;\">\n",
       "      <th></th>\n",
       "      <th>mean</th>\n",
       "      <th>sd</th>\n",
       "      <th>hpd_3%</th>\n",
       "      <th>hpd_97%</th>\n",
       "      <th>mcse_mean</th>\n",
       "      <th>mcse_sd</th>\n",
       "      <th>ess_mean</th>\n",
       "      <th>ess_sd</th>\n",
       "      <th>ess_bulk</th>\n",
       "      <th>ess_tail</th>\n",
       "      <th>r_hat</th>\n",
       "    </tr>\n",
       "  </thead>\n",
       "  <tbody>\n",
       "    <tr>\n",
       "      <th>Age at amplification</th>\n",
       "      <td>-3.077</td>\n",
       "      <td>0.720</td>\n",
       "      <td>-4.381</td>\n",
       "      <td>-1.730</td>\n",
       "      <td>0.024</td>\n",
       "      <td>0.017</td>\n",
       "      <td>900.0</td>\n",
       "      <td>894.0</td>\n",
       "      <td>889.0</td>\n",
       "      <td>1219.0</td>\n",
       "      <td>1.0</td>\n",
       "    </tr>\n",
       "    <tr>\n",
       "      <th>Family Involvement Score</th>\n",
       "      <td>-6.140</td>\n",
       "      <td>0.786</td>\n",
       "      <td>-7.668</td>\n",
       "      <td>-4.786</td>\n",
       "      <td>0.022</td>\n",
       "      <td>0.016</td>\n",
       "      <td>1247.0</td>\n",
       "      <td>1247.0</td>\n",
       "      <td>1245.0</td>\n",
       "      <td>1425.0</td>\n",
       "      <td>1.0</td>\n",
       "    </tr>\n",
       "    <tr>\n",
       "      <th>Sibling Count</th>\n",
       "      <td>-1.834</td>\n",
       "      <td>0.823</td>\n",
       "      <td>-3.319</td>\n",
       "      <td>-0.255</td>\n",
       "      <td>0.022</td>\n",
       "      <td>0.016</td>\n",
       "      <td>1378.0</td>\n",
       "      <td>1316.0</td>\n",
       "      <td>1373.0</td>\n",
       "      <td>1492.0</td>\n",
       "      <td>1.0</td>\n",
       "    </tr>\n",
       "    <tr>\n",
       "      <th>Non-profound Hearing Loss</th>\n",
       "      <td>14.492</td>\n",
       "      <td>1.604</td>\n",
       "      <td>11.503</td>\n",
       "      <td>17.363</td>\n",
       "      <td>0.037</td>\n",
       "      <td>0.026</td>\n",
       "      <td>1910.0</td>\n",
       "      <td>1894.0</td>\n",
       "      <td>1900.0</td>\n",
       "      <td>1306.0</td>\n",
       "      <td>1.0</td>\n",
       "    </tr>\n",
       "    <tr>\n",
       "      <th>Mother with College Ed</th>\n",
       "      <td>5.920</td>\n",
       "      <td>2.283</td>\n",
       "      <td>1.732</td>\n",
       "      <td>10.353</td>\n",
       "      <td>0.061</td>\n",
       "      <td>0.043</td>\n",
       "      <td>1402.0</td>\n",
       "      <td>1402.0</td>\n",
       "      <td>1404.0</td>\n",
       "      <td>1419.0</td>\n",
       "      <td>1.0</td>\n",
       "    </tr>\n",
       "    <tr>\n",
       "      <th>Years in program</th>\n",
       "      <td>1.799</td>\n",
       "      <td>0.668</td>\n",
       "      <td>0.615</td>\n",
       "      <td>3.126</td>\n",
       "      <td>0.020</td>\n",
       "      <td>0.014</td>\n",
       "      <td>1149.0</td>\n",
       "      <td>1112.0</td>\n",
       "      <td>1151.0</td>\n",
       "      <td>1435.0</td>\n",
       "      <td>1.0</td>\n",
       "    </tr>\n",
       "    <tr>\n",
       "      <th>Autism</th>\n",
       "      <td>-28.196</td>\n",
       "      <td>12.598</td>\n",
       "      <td>-52.558</td>\n",
       "      <td>-5.321</td>\n",
       "      <td>0.294</td>\n",
       "      <td>0.208</td>\n",
       "      <td>1837.0</td>\n",
       "      <td>1837.0</td>\n",
       "      <td>1844.0</td>\n",
       "      <td>1284.0</td>\n",
       "      <td>1.0</td>\n",
       "    </tr>\n",
       "  </tbody>\n",
       "</table>\n",
       "</div>"
      ],
      "text/plain": [
       "                             mean      sd  hpd_3%  hpd_97%  mcse_mean  \\\n",
       "Age at amplification       -3.077   0.720  -4.381   -1.730      0.024   \n",
       "Family Involvement Score   -6.140   0.786  -7.668   -4.786      0.022   \n",
       "Sibling Count              -1.834   0.823  -3.319   -0.255      0.022   \n",
       "Non-profound Hearing Loss  14.492   1.604  11.503   17.363      0.037   \n",
       "Mother with College Ed      5.920   2.283   1.732   10.353      0.061   \n",
       "Years in program            1.799   0.668   0.615    3.126      0.020   \n",
       "Autism                    -28.196  12.598 -52.558   -5.321      0.294   \n",
       "\n",
       "                           mcse_sd  ess_mean  ess_sd  ess_bulk  ess_tail  \\\n",
       "Age at amplification         0.017     900.0   894.0     889.0    1219.0   \n",
       "Family Involvement Score     0.016    1247.0  1247.0    1245.0    1425.0   \n",
       "Sibling Count                0.016    1378.0  1316.0    1373.0    1492.0   \n",
       "Non-profound Hearing Loss    0.026    1910.0  1894.0    1900.0    1306.0   \n",
       "Mother with College Ed       0.043    1402.0  1402.0    1404.0    1419.0   \n",
       "Years in program             0.014    1149.0  1112.0    1151.0    1435.0   \n",
       "Autism                       0.208    1837.0  1837.0    1844.0    1284.0   \n",
       "\n",
       "                           r_hat  \n",
       "Age at amplification         1.0  \n",
       "Family Involvement Score     1.0  \n",
       "Sibling Count                1.0  \n",
       "Non-profound Hearing Loss    1.0  \n",
       "Mother with College Ed       1.0  \n",
       "Years in program             1.0  \n",
       "Autism                       1.0  "
      ]
     },
     "execution_count": 55,
     "metadata": {},
     "output_type": "execute_result"
    }
   ],
   "source": [
    "from arviz import summary\n",
    "\n",
    "rec_lang_summary = summary(rec_lang_trace, var_names=['β']).set_index(pd.Index(labels))\n",
    "rec_lang_summary"
   ]
  },
  {
   "cell_type": "code",
   "execution_count": 57,
   "metadata": {},
   "outputs": [],
   "source": [
    "rec_lang_summary.to_csv('rec_lang_summary.csv')"
   ]
  },
  {
   "cell_type": "markdown",
   "metadata": {},
   "source": [
    "## Expressive Language Model"
   ]
  },
  {
   "cell_type": "code",
   "execution_count": 95,
   "metadata": {},
   "outputs": [],
   "source": [
    "expressive_language_dataset = analysis_subset[(analysis_subset.domain=='Expressive Language')]"
   ]
  },
  {
   "cell_type": "code",
   "execution_count": 100,
   "metadata": {},
   "outputs": [
    {
     "data": {
      "text/html": [
       "<div>\n",
       "<style scoped>\n",
       "    .dataframe tbody tr th:only-of-type {\n",
       "        vertical-align: middle;\n",
       "    }\n",
       "\n",
       "    .dataframe tbody tr th {\n",
       "        vertical-align: top;\n",
       "    }\n",
       "\n",
       "    .dataframe thead th {\n",
       "        text-align: right;\n",
       "    }\n",
       "</style>\n",
       "<table border=\"1\" class=\"dataframe\">\n",
       "  <thead>\n",
       "    <tr style=\"text-align: right;\">\n",
       "      <th></th>\n",
       "      <th>domain</th>\n",
       "      <th>age_int</th>\n",
       "      <th>unilateral_other</th>\n",
       "      <th>bilateral_ci</th>\n",
       "      <th>sib</th>\n",
       "      <th>unilateral_unk</th>\n",
       "      <th>premature_weeks</th>\n",
       "      <th>bilateral_hl_normal</th>\n",
       "      <th>bilateral_other</th>\n",
       "      <th>unilateral_hl_slight</th>\n",
       "      <th>...</th>\n",
       "      <th>bilateral_hl_profound</th>\n",
       "      <th>bilateral_hl_mild</th>\n",
       "      <th>mother_college</th>\n",
       "      <th>unilateral_hl_severe</th>\n",
       "      <th>unilateral_ha</th>\n",
       "      <th>score</th>\n",
       "      <th>bilateral_ansd</th>\n",
       "      <th>test_type</th>\n",
       "      <th>student_idx</th>\n",
       "      <th>premature</th>\n",
       "    </tr>\n",
       "  </thead>\n",
       "  <tbody>\n",
       "    <tr>\n",
       "      <th>44690</th>\n",
       "      <td>Expressive Language</td>\n",
       "      <td>3.0</td>\n",
       "      <td>False</td>\n",
       "      <td>False</td>\n",
       "      <td>1.0</td>\n",
       "      <td>0</td>\n",
       "      <td>0.0</td>\n",
       "      <td>False</td>\n",
       "      <td>False</td>\n",
       "      <td>False</td>\n",
       "      <td>...</td>\n",
       "      <td>False</td>\n",
       "      <td>False</td>\n",
       "      <td>1.0</td>\n",
       "      <td>False</td>\n",
       "      <td>False</td>\n",
       "      <td>73.0</td>\n",
       "      <td>0</td>\n",
       "      <td>expressive</td>\n",
       "      <td>170</td>\n",
       "      <td>0.0</td>\n",
       "    </tr>\n",
       "    <tr>\n",
       "      <th>19178</th>\n",
       "      <td>Expressive Language</td>\n",
       "      <td>51.0</td>\n",
       "      <td>False</td>\n",
       "      <td>True</td>\n",
       "      <td>0.0</td>\n",
       "      <td>0</td>\n",
       "      <td>0.0</td>\n",
       "      <td>False</td>\n",
       "      <td>False</td>\n",
       "      <td>False</td>\n",
       "      <td>...</td>\n",
       "      <td>True</td>\n",
       "      <td>False</td>\n",
       "      <td>NaN</td>\n",
       "      <td>False</td>\n",
       "      <td>False</td>\n",
       "      <td>53.0</td>\n",
       "      <td>0</td>\n",
       "      <td>expressive</td>\n",
       "      <td>293</td>\n",
       "      <td>0.0</td>\n",
       "    </tr>\n",
       "    <tr>\n",
       "      <th>10622</th>\n",
       "      <td>Expressive Language</td>\n",
       "      <td>29.0</td>\n",
       "      <td>False</td>\n",
       "      <td>False</td>\n",
       "      <td>1.0</td>\n",
       "      <td>0</td>\n",
       "      <td>0.0</td>\n",
       "      <td>False</td>\n",
       "      <td>False</td>\n",
       "      <td>False</td>\n",
       "      <td>...</td>\n",
       "      <td>True</td>\n",
       "      <td>False</td>\n",
       "      <td>0.0</td>\n",
       "      <td>False</td>\n",
       "      <td>False</td>\n",
       "      <td>59.0</td>\n",
       "      <td>0</td>\n",
       "      <td>expressive</td>\n",
       "      <td>532</td>\n",
       "      <td>0.0</td>\n",
       "    </tr>\n",
       "  </tbody>\n",
       "</table>\n",
       "<p>3 rows × 54 columns</p>\n",
       "</div>"
      ],
      "text/plain": [
       "                    domain  age_int  unilateral_other  bilateral_ci  sib  \\\n",
       "44690  Expressive Language      3.0             False         False  1.0   \n",
       "19178  Expressive Language     51.0             False          True  0.0   \n",
       "10622  Expressive Language     29.0             False         False  1.0   \n",
       "\n",
       "       unilateral_unk  premature_weeks  bilateral_hl_normal  bilateral_other  \\\n",
       "44690               0              0.0                False            False   \n",
       "19178               0              0.0                False            False   \n",
       "10622               0              0.0                False            False   \n",
       "\n",
       "       unilateral_hl_slight  ...  bilateral_hl_profound  bilateral_hl_mild  \\\n",
       "44690                 False  ...                  False              False   \n",
       "19178                 False  ...                   True              False   \n",
       "10622                 False  ...                   True              False   \n",
       "\n",
       "       mother_college  unilateral_hl_severe  unilateral_ha  score  \\\n",
       "44690             1.0                 False          False   73.0   \n",
       "19178             NaN                 False          False   53.0   \n",
       "10622             0.0                 False          False   59.0   \n",
       "\n",
       "       bilateral_ansd   test_type  student_idx  premature  \n",
       "44690               0  expressive          170        0.0  \n",
       "19178               0  expressive          293        0.0  \n",
       "10622               0  expressive          532        0.0  \n",
       "\n",
       "[3 rows x 54 columns]"
      ]
     },
     "execution_count": 100,
     "metadata": {},
     "output_type": "execute_result"
    }
   ],
   "source": [
    "expressive_language_dataset"
   ]
  },
  {
   "cell_type": "code",
   "execution_count": 96,
   "metadata": {},
   "outputs": [
    {
     "name": "stderr",
     "output_type": "stream",
     "text": [
      "/home/fonnesbeck_gmail_com/anaconda3/envs/dev/lib/python3.7/site-packages/pymc3/model.py:1331: UserWarning: Data in x_mother_college contains missing values and will be automatically imputed from the sampling distribution.\n",
      "  warnings.warn(impute_message, UserWarning)\n"
     ]
    }
   ],
   "source": [
    "expressive_language = generate_model(expressive_language_dataset)"
   ]
  },
  {
   "cell_type": "code",
   "execution_count": 97,
   "metadata": {},
   "outputs": [
    {
     "name": "stderr",
     "output_type": "stream",
     "text": [
      "Multiprocess sampling (2 chains in 2 jobs)\n",
      "CompoundStep\n",
      ">NUTS: [σ, β, β_race, z_school, σ_school, μ_school, p_mother_college]\n",
      ">BinaryGibbsMetropolis: [x_mother_college_missing]\n",
      "Sampling 2 chains: 100%|██████████| 10000/10000 [00:51<00:00, 194.65draws/s]\n",
      "There were 105 divergences after tuning. Increase `target_accept` or reparameterize.\n",
      "The acceptance probability does not match the target. It is 0.6966998813136581, but should be close to 0.8. Try to increase the number of tuning steps.\n",
      "There were 131 divergences after tuning. Increase `target_accept` or reparameterize.\n",
      "The acceptance probability does not match the target. It is 0.7011580237237419, but should be close to 0.8. Try to increase the number of tuning steps.\n",
      "The estimated number of effective samples is smaller than 200 for some parameters.\n"
     ]
    }
   ],
   "source": [
    "with expressive_language:\n",
    "    \n",
    "    exp_lang_trace = sample(iterations, tune=tuning, cores=2)"
   ]
  },
  {
   "cell_type": "code",
   "execution_count": 98,
   "metadata": {},
   "outputs": [
    {
     "data": {
      "image/png": "[encoded data removed]",
      "text/plain": [
       "<Figure size 432x388.8 with 1 Axes>"
      ]
     },
     "metadata": {
      "needs_background": "light"
     },
     "output_type": "display_data"
    }
   ],
   "source": [
    "fig, (ax,) = plot_forest(exp_lang_trace, var_names=['β'])\n",
    "ax.set_yticklabels(labels[::-1]);"
   ]
  },
  {
   "cell_type": "code",
   "execution_count": 43,
   "metadata": {},
   "outputs": [
    {
     "data": {
      "text/html": [
       "<div>\n",
       "<style scoped>\n",
       "    .dataframe tbody tr th:only-of-type {\n",
       "        vertical-align: middle;\n",
       "    }\n",
       "\n",
       "    .dataframe tbody tr th {\n",
       "        vertical-align: top;\n",
       "    }\n",
       "\n",
       "    .dataframe thead th {\n",
       "        text-align: right;\n",
       "    }\n",
       "</style>\n",
       "<table border=\"1\" class=\"dataframe\">\n",
       "  <thead>\n",
       "    <tr style=\"text-align: right;\">\n",
       "      <th></th>\n",
       "      <th>mean</th>\n",
       "      <th>sd</th>\n",
       "      <th>mc_error</th>\n",
       "      <th>hpd_2.5</th>\n",
       "      <th>hpd_97.5</th>\n",
       "      <th>n_eff</th>\n",
       "      <th>Rhat</th>\n",
       "    </tr>\n",
       "  </thead>\n",
       "  <tbody>\n",
       "    <tr>\n",
       "      <th>Age at amplification</th>\n",
       "      <td>-2.089951</td>\n",
       "      <td>0.951332</td>\n",
       "      <td>0.021459</td>\n",
       "      <td>-3.882028</td>\n",
       "      <td>-0.193716</td>\n",
       "      <td>1971.006064</td>\n",
       "      <td>0.999769</td>\n",
       "    </tr>\n",
       "    <tr>\n",
       "      <th>Family Involvement Score</th>\n",
       "      <td>-3.891877</td>\n",
       "      <td>0.848124</td>\n",
       "      <td>0.020849</td>\n",
       "      <td>-5.408893</td>\n",
       "      <td>-2.056173</td>\n",
       "      <td>1505.518126</td>\n",
       "      <td>0.999543</td>\n",
       "    </tr>\n",
       "    <tr>\n",
       "      <th>Sibling Count</th>\n",
       "      <td>0.023494</td>\n",
       "      <td>0.912941</td>\n",
       "      <td>0.019645</td>\n",
       "      <td>-1.947966</td>\n",
       "      <td>1.616336</td>\n",
       "      <td>2091.953680</td>\n",
       "      <td>0.999976</td>\n",
       "    </tr>\n",
       "    <tr>\n",
       "      <th>Non-profound Hearing Loss</th>\n",
       "      <td>9.152917</td>\n",
       "      <td>1.734792</td>\n",
       "      <td>0.036581</td>\n",
       "      <td>5.740769</td>\n",
       "      <td>12.389348</td>\n",
       "      <td>2017.748701</td>\n",
       "      <td>0.999552</td>\n",
       "    </tr>\n",
       "    <tr>\n",
       "      <th>Mother with College Ed</th>\n",
       "      <td>8.673959</td>\n",
       "      <td>1.789582</td>\n",
       "      <td>0.031745</td>\n",
       "      <td>5.056894</td>\n",
       "      <td>12.085366</td>\n",
       "      <td>2615.794018</td>\n",
       "      <td>0.999514</td>\n",
       "    </tr>\n",
       "    <tr>\n",
       "      <th>Parent with hearing loss</th>\n",
       "      <td>-0.206171</td>\n",
       "      <td>3.250912</td>\n",
       "      <td>0.063729</td>\n",
       "      <td>-6.948488</td>\n",
       "      <td>5.593602</td>\n",
       "      <td>2740.914475</td>\n",
       "      <td>1.000586</td>\n",
       "    </tr>\n",
       "    <tr>\n",
       "      <th>Age at enrollment</th>\n",
       "      <td>-0.300650</td>\n",
       "      <td>0.968311</td>\n",
       "      <td>0.020896</td>\n",
       "      <td>-2.137822</td>\n",
       "      <td>1.713580</td>\n",
       "      <td>1982.700610</td>\n",
       "      <td>0.999692</td>\n",
       "    </tr>\n",
       "    <tr>\n",
       "      <th>Years in program</th>\n",
       "      <td>2.257858</td>\n",
       "      <td>0.864023</td>\n",
       "      <td>0.021868</td>\n",
       "      <td>0.675904</td>\n",
       "      <td>4.087125</td>\n",
       "      <td>1534.723930</td>\n",
       "      <td>0.999700</td>\n",
       "    </tr>\n",
       "  </tbody>\n",
       "</table>\n",
       "</div>"
      ],
      "text/plain": [
       "                               mean        sd  mc_error   hpd_2.5   hpd_97.5  \\\n",
       "Age at amplification      -2.089951  0.951332  0.021459 -3.882028  -0.193716   \n",
       "Family Involvement Score  -3.891877  0.848124  0.020849 -5.408893  -2.056173   \n",
       "Sibling Count              0.023494  0.912941  0.019645 -1.947966   1.616336   \n",
       "Non-profound Hearing Loss  9.152917  1.734792  0.036581  5.740769  12.389348   \n",
       "Mother with College Ed     8.673959  1.789582  0.031745  5.056894  12.085366   \n",
       "Parent with hearing loss  -0.206171  3.250912  0.063729 -6.948488   5.593602   \n",
       "Age at enrollment         -0.300650  0.968311  0.020896 -2.137822   1.713580   \n",
       "Years in program           2.257858  0.864023  0.021868  0.675904   4.087125   \n",
       "\n",
       "                                 n_eff      Rhat  \n",
       "Age at amplification       1971.006064  0.999769  \n",
       "Family Involvement Score   1505.518126  0.999543  \n",
       "Sibling Count              2091.953680  0.999976  \n",
       "Non-profound Hearing Loss  2017.748701  0.999552  \n",
       "Mother with College Ed     2615.794018  0.999514  \n",
       "Parent with hearing loss   2740.914475  1.000586  \n",
       "Age at enrollment          1982.700610  0.999692  \n",
       "Years in program           1534.723930  0.999700  "
      ]
     },
     "execution_count": 43,
     "metadata": {},
     "output_type": "execute_result"
    }
   ],
   "source": [
    "summary(exp_lang_trace, varnames=['β']).set_index(pd.Index(labels))"
   ]
  },
  {
   "cell_type": "markdown",
   "metadata": {},
   "source": [
    "## Articulation Model"
   ]
  },
  {
   "cell_type": "code",
   "execution_count": 72,
   "metadata": {},
   "outputs": [],
   "source": [
    "articulation_dataset = analysis_subset[(analysis_subset.domain=='Articulation')]"
   ]
  },
  {
   "cell_type": "code",
   "execution_count": 110,
   "metadata": {},
   "outputs": [
    {
     "data": {
      "text/plain": [
       "0    1242\n",
       "1      12\n",
       "Name: autism, dtype: int64"
      ]
     },
     "execution_count": 110,
     "metadata": {},
     "output_type": "execute_result"
    }
   ],
   "source": [
    "articulation_dataset.autism.value_counts()"
   ]
  },
  {
   "cell_type": "code",
   "execution_count": 73,
   "metadata": {},
   "outputs": [
    {
     "name": "stderr",
     "output_type": "stream",
     "text": [
      "/home/fonnesbeck_gmail_com/anaconda3/envs/dev/lib/python3.7/site-packages/pymc3/model.py:1331: UserWarning: Data in x_age_amp contains missing values and will be automatically imputed from the sampling distribution.\n",
      "  warnings.warn(impute_message, UserWarning)\n",
      "/home/fonnesbeck_gmail_com/anaconda3/envs/dev/lib/python3.7/site-packages/pymc3/model.py:1331: UserWarning: Data in x_family_inv contains missing values and will be automatically imputed from the sampling distribution.\n",
      "  warnings.warn(impute_message, UserWarning)\n",
      "/home/fonnesbeck_gmail_com/anaconda3/envs/dev/lib/python3.7/site-packages/pymc3/model.py:1331: UserWarning: Data in x_hl contains missing values and will be automatically imputed from the sampling distribution.\n",
      "  warnings.warn(impute_message, UserWarning)\n",
      "/home/fonnesbeck_gmail_com/anaconda3/envs/dev/lib/python3.7/site-packages/pymc3/model.py:1331: UserWarning: Data in x_sib contains missing values and will be automatically imputed from the sampling distribution.\n",
      "  warnings.warn(impute_message, UserWarning)\n"
     ]
    }
   ],
   "source": [
    "articulation = generate_model(articulation_dataset)"
   ]
  },
  {
   "cell_type": "code",
   "execution_count": null,
   "metadata": {},
   "outputs": [
    {
     "name": "stderr",
     "output_type": "stream",
     "text": [
      "Multiprocess sampling (2 chains in 2 jobs)\n",
      "CompoundStep\n",
      ">NUTS: [σ, β, β_race, z_school, σ_school, μ_school, p_mother_college, p_sib, p_hl, p_family_inv, x_age_amp_missing, p_age_amp, s_age_amp, m_age_amp]\n",
      ">CategoricalGibbsMetropolis: [x_sib_missing, x_family_inv_missing]\n",
      ">BinaryGibbsMetropolis: [x_hl_missing, x_mother_college_missing]\n",
      "Sampling 2 chains:  17%|█▋        | 1686/10000 [07:53<36:17,  3.82draws/s] "
     ]
    }
   ],
   "source": [
    "with articulation:\n",
    "    \n",
    "    artic_trace = sample(iterations, tune=tuning, cores=2)"
   ]
  },
  {
   "cell_type": "code",
   "execution_count": 76,
   "metadata": {},
   "outputs": [
    {
     "data": {
      "image/png": "[encoded data removed]",
      "text/plain": [
       "<Figure size 432x388.8 with 1 Axes>"
      ]
     },
     "metadata": {
      "needs_background": "light"
     },
     "output_type": "display_data"
    }
   ],
   "source": [
    "fig, (ax,) = plot_forest(artic_trace, var_names=['β'])\n",
    "ax.set_yticklabels(labels[::-1]);"
   ]
  },
  {
   "cell_type": "code",
   "execution_count": 78,
   "metadata": {},
   "outputs": [
    {
     "data": {
      "text/html": [
       "<div>\n",
       "<style scoped>\n",
       "    .dataframe tbody tr th:only-of-type {\n",
       "        vertical-align: middle;\n",
       "    }\n",
       "\n",
       "    .dataframe tbody tr th {\n",
       "        vertical-align: top;\n",
       "    }\n",
       "\n",
       "    .dataframe thead th {\n",
       "        text-align: right;\n",
       "    }\n",
       "</style>\n",
       "<table border=\"1\" class=\"dataframe\">\n",
       "  <thead>\n",
       "    <tr style=\"text-align: right;\">\n",
       "      <th></th>\n",
       "      <th>mean</th>\n",
       "      <th>sd</th>\n",
       "      <th>hpd_3%</th>\n",
       "      <th>hpd_97%</th>\n",
       "      <th>mcse_mean</th>\n",
       "      <th>mcse_sd</th>\n",
       "      <th>ess_mean</th>\n",
       "      <th>ess_sd</th>\n",
       "      <th>ess_bulk</th>\n",
       "      <th>ess_tail</th>\n",
       "      <th>r_hat</th>\n",
       "    </tr>\n",
       "  </thead>\n",
       "  <tbody>\n",
       "    <tr>\n",
       "      <th>Age at amplification</th>\n",
       "      <td>-3.181</td>\n",
       "      <td>0.554</td>\n",
       "      <td>-4.200</td>\n",
       "      <td>-2.168</td>\n",
       "      <td>0.022</td>\n",
       "      <td>0.016</td>\n",
       "      <td>639.0</td>\n",
       "      <td>622.0</td>\n",
       "      <td>640.0</td>\n",
       "      <td>1027.0</td>\n",
       "      <td>1.0</td>\n",
       "    </tr>\n",
       "    <tr>\n",
       "      <th>Family Involvement Score</th>\n",
       "      <td>-3.315</td>\n",
       "      <td>0.595</td>\n",
       "      <td>-4.535</td>\n",
       "      <td>-2.308</td>\n",
       "      <td>0.015</td>\n",
       "      <td>0.011</td>\n",
       "      <td>1573.0</td>\n",
       "      <td>1573.0</td>\n",
       "      <td>1573.0</td>\n",
       "      <td>1457.0</td>\n",
       "      <td>1.0</td>\n",
       "    </tr>\n",
       "    <tr>\n",
       "      <th>Sibling Count</th>\n",
       "      <td>-0.370</td>\n",
       "      <td>0.566</td>\n",
       "      <td>-1.384</td>\n",
       "      <td>0.738</td>\n",
       "      <td>0.014</td>\n",
       "      <td>0.011</td>\n",
       "      <td>1525.0</td>\n",
       "      <td>1443.0</td>\n",
       "      <td>1522.0</td>\n",
       "      <td>1419.0</td>\n",
       "      <td>1.0</td>\n",
       "    </tr>\n",
       "    <tr>\n",
       "      <th>Non-profound Hearing Loss</th>\n",
       "      <td>5.623</td>\n",
       "      <td>1.144</td>\n",
       "      <td>3.501</td>\n",
       "      <td>7.658</td>\n",
       "      <td>0.029</td>\n",
       "      <td>0.020</td>\n",
       "      <td>1610.0</td>\n",
       "      <td>1610.0</td>\n",
       "      <td>1613.0</td>\n",
       "      <td>1589.0</td>\n",
       "      <td>1.0</td>\n",
       "    </tr>\n",
       "    <tr>\n",
       "      <th>Mother with College Ed</th>\n",
       "      <td>3.593</td>\n",
       "      <td>1.548</td>\n",
       "      <td>0.885</td>\n",
       "      <td>6.606</td>\n",
       "      <td>0.042</td>\n",
       "      <td>0.030</td>\n",
       "      <td>1344.0</td>\n",
       "      <td>1344.0</td>\n",
       "      <td>1342.0</td>\n",
       "      <td>1325.0</td>\n",
       "      <td>1.0</td>\n",
       "    </tr>\n",
       "    <tr>\n",
       "      <th>Years in program</th>\n",
       "      <td>1.710</td>\n",
       "      <td>0.466</td>\n",
       "      <td>0.818</td>\n",
       "      <td>2.591</td>\n",
       "      <td>0.015</td>\n",
       "      <td>0.011</td>\n",
       "      <td>918.0</td>\n",
       "      <td>918.0</td>\n",
       "      <td>924.0</td>\n",
       "      <td>1442.0</td>\n",
       "      <td>1.0</td>\n",
       "    </tr>\n",
       "    <tr>\n",
       "      <th>Autism</th>\n",
       "      <td>-10.027</td>\n",
       "      <td>5.270</td>\n",
       "      <td>-19.399</td>\n",
       "      <td>0.286</td>\n",
       "      <td>0.128</td>\n",
       "      <td>0.096</td>\n",
       "      <td>1702.0</td>\n",
       "      <td>1506.0</td>\n",
       "      <td>1706.0</td>\n",
       "      <td>1363.0</td>\n",
       "      <td>1.0</td>\n",
       "    </tr>\n",
       "  </tbody>\n",
       "</table>\n",
       "</div>"
      ],
      "text/plain": [
       "                             mean     sd  hpd_3%  hpd_97%  mcse_mean  mcse_sd  \\\n",
       "Age at amplification       -3.181  0.554  -4.200   -2.168      0.022    0.016   \n",
       "Family Involvement Score   -3.315  0.595  -4.535   -2.308      0.015    0.011   \n",
       "Sibling Count              -0.370  0.566  -1.384    0.738      0.014    0.011   \n",
       "Non-profound Hearing Loss   5.623  1.144   3.501    7.658      0.029    0.020   \n",
       "Mother with College Ed      3.593  1.548   0.885    6.606      0.042    0.030   \n",
       "Years in program            1.710  0.466   0.818    2.591      0.015    0.011   \n",
       "Autism                    -10.027  5.270 -19.399    0.286      0.128    0.096   \n",
       "\n",
       "                           ess_mean  ess_sd  ess_bulk  ess_tail  r_hat  \n",
       "Age at amplification          639.0   622.0     640.0    1027.0    1.0  \n",
       "Family Involvement Score     1573.0  1573.0    1573.0    1457.0    1.0  \n",
       "Sibling Count                1525.0  1443.0    1522.0    1419.0    1.0  \n",
       "Non-profound Hearing Loss    1610.0  1610.0    1613.0    1589.0    1.0  \n",
       "Mother with College Ed       1344.0  1344.0    1342.0    1325.0    1.0  \n",
       "Years in program              918.0   918.0     924.0    1442.0    1.0  \n",
       "Autism                       1702.0  1506.0    1706.0    1363.0    1.0  "
      ]
     },
     "execution_count": 78,
     "metadata": {},
     "output_type": "execute_result"
    }
   ],
   "source": [
    "artic_trace_summary = summary(artic_trace, var_names=['β']).set_index(pd.Index(labels))\n",
    "artic_trace_summary"
   ]
  },
  {
   "cell_type": "code",
   "execution_count": 79,
   "metadata": {},
   "outputs": [],
   "source": [
    "artic_trace_summary.to_csv('artic_trace_summary.csv')"
   ]
  },
  {
   "cell_type": "markdown",
   "metadata": {},
   "source": [
    "## Expressive Vocabulary Model"
   ]
  },
  {
   "cell_type": "code",
   "execution_count": 80,
   "metadata": {},
   "outputs": [],
   "source": [
    "expressive_vocab_dataset = analysis_subset[(analysis_subset.domain=='Expressive Vocabulary')]"
   ]
  },
  {
   "cell_type": "code",
   "execution_count": 111,
   "metadata": {},
   "outputs": [
    {
     "data": {
      "text/plain": [
       "0    904\n",
       "1      8\n",
       "Name: autism, dtype: int64"
      ]
     },
     "execution_count": 111,
     "metadata": {},
     "output_type": "execute_result"
    }
   ],
   "source": [
    "expressive_vocab_dataset.autism.value_counts()"
   ]
  },
  {
   "cell_type": "code",
   "execution_count": 81,
   "metadata": {},
   "outputs": [
    {
     "name": "stderr",
     "output_type": "stream",
     "text": [
      "/home/fonnesbeck_gmail_com/anaconda3/envs/dev/lib/python3.7/site-packages/pymc3/model.py:1331: UserWarning: Data in x_age_amp contains missing values and will be automatically imputed from the sampling distribution.\n",
      "  warnings.warn(impute_message, UserWarning)\n",
      "/home/fonnesbeck_gmail_com/anaconda3/envs/dev/lib/python3.7/site-packages/pymc3/model.py:1331: UserWarning: Data in x_family_inv contains missing values and will be automatically imputed from the sampling distribution.\n",
      "  warnings.warn(impute_message, UserWarning)\n",
      "/home/fonnesbeck_gmail_com/anaconda3/envs/dev/lib/python3.7/site-packages/pymc3/model.py:1331: UserWarning: Data in x_hl contains missing values and will be automatically imputed from the sampling distribution.\n",
      "  warnings.warn(impute_message, UserWarning)\n",
      "/home/fonnesbeck_gmail_com/anaconda3/envs/dev/lib/python3.7/site-packages/pymc3/model.py:1331: UserWarning: Data in x_sib contains missing values and will be automatically imputed from the sampling distribution.\n",
      "  warnings.warn(impute_message, UserWarning)\n",
      "/home/fonnesbeck_gmail_com/anaconda3/envs/dev/lib/python3.7/site-packages/pymc3/model.py:1331: UserWarning: Data in x_mother_college contains missing values and will be automatically imputed from the sampling distribution.\n",
      "  warnings.warn(impute_message, UserWarning)\n"
     ]
    }
   ],
   "source": [
    "expressive_vocab = generate_model(expressive_vocab_dataset)"
   ]
  },
  {
   "cell_type": "code",
   "execution_count": 82,
   "metadata": {},
   "outputs": [
    {
     "name": "stderr",
     "output_type": "stream",
     "text": [
      "Multiprocess sampling (2 chains in 2 jobs)\n",
      "CompoundStep\n",
      ">NUTS: [σ, β, β_race, z_school, σ_school, μ_school, p_mother_college, p_sib, p_hl, p_family_inv, x_age_amp_missing, p_age_amp, s_age_amp, m_age_amp]\n",
      ">CategoricalGibbsMetropolis: [x_sib_missing, x_family_inv_missing]\n",
      ">BinaryGibbsMetropolis: [x_hl_missing, x_mother_college_missing]\n",
      "Sampling 2 chains: 100%|██████████| 10000/10000 [19:24<00:00,  8.59draws/s]\n"
     ]
    }
   ],
   "source": [
    "with expressive_vocab:\n",
    "    \n",
    "    expressive_vocab_trace = sample(iterations, tune=tuning, cores=2)"
   ]
  },
  {
   "cell_type": "code",
   "execution_count": 84,
   "metadata": {},
   "outputs": [
    {
     "data": {
      "image/png": "[encoded data removed]",
      "text/plain": [
       "<Figure size 432x388.8 with 1 Axes>"
      ]
     },
     "metadata": {
      "needs_background": "light"
     },
     "output_type": "display_data"
    }
   ],
   "source": [
    "fig, (ax,) = plot_forest(expressive_vocab_trace, var_names=['β'])\n",
    "ax.set_yticklabels(labels[::-1]);"
   ]
  },
  {
   "cell_type": "code",
   "execution_count": 86,
   "metadata": {},
   "outputs": [
    {
     "data": {
      "text/html": [
       "<div>\n",
       "<style scoped>\n",
       "    .dataframe tbody tr th:only-of-type {\n",
       "        vertical-align: middle;\n",
       "    }\n",
       "\n",
       "    .dataframe tbody tr th {\n",
       "        vertical-align: top;\n",
       "    }\n",
       "\n",
       "    .dataframe thead th {\n",
       "        text-align: right;\n",
       "    }\n",
       "</style>\n",
       "<table border=\"1\" class=\"dataframe\">\n",
       "  <thead>\n",
       "    <tr style=\"text-align: right;\">\n",
       "      <th></th>\n",
       "      <th>mean</th>\n",
       "      <th>sd</th>\n",
       "      <th>hpd_3%</th>\n",
       "      <th>hpd_97%</th>\n",
       "      <th>mcse_mean</th>\n",
       "      <th>mcse_sd</th>\n",
       "      <th>ess_mean</th>\n",
       "      <th>ess_sd</th>\n",
       "      <th>ess_bulk</th>\n",
       "      <th>ess_tail</th>\n",
       "      <th>r_hat</th>\n",
       "    </tr>\n",
       "  </thead>\n",
       "  <tbody>\n",
       "    <tr>\n",
       "      <th>Age at amplification</th>\n",
       "      <td>-1.808</td>\n",
       "      <td>0.649</td>\n",
       "      <td>-3.042</td>\n",
       "      <td>-0.610</td>\n",
       "      <td>0.017</td>\n",
       "      <td>0.012</td>\n",
       "      <td>1497.0</td>\n",
       "      <td>1459.0</td>\n",
       "      <td>1501.0</td>\n",
       "      <td>1457.0</td>\n",
       "      <td>1.0</td>\n",
       "    </tr>\n",
       "    <tr>\n",
       "      <th>Family Involvement Score</th>\n",
       "      <td>-4.292</td>\n",
       "      <td>0.688</td>\n",
       "      <td>-5.501</td>\n",
       "      <td>-2.951</td>\n",
       "      <td>0.016</td>\n",
       "      <td>0.011</td>\n",
       "      <td>1892.0</td>\n",
       "      <td>1892.0</td>\n",
       "      <td>1894.0</td>\n",
       "      <td>1746.0</td>\n",
       "      <td>1.0</td>\n",
       "    </tr>\n",
       "    <tr>\n",
       "      <th>Sibling Count</th>\n",
       "      <td>-1.405</td>\n",
       "      <td>0.714</td>\n",
       "      <td>-2.728</td>\n",
       "      <td>-0.085</td>\n",
       "      <td>0.014</td>\n",
       "      <td>0.010</td>\n",
       "      <td>2560.0</td>\n",
       "      <td>2379.0</td>\n",
       "      <td>2568.0</td>\n",
       "      <td>1737.0</td>\n",
       "      <td>1.0</td>\n",
       "    </tr>\n",
       "    <tr>\n",
       "      <th>Non-profound Hearing Loss</th>\n",
       "      <td>9.761</td>\n",
       "      <td>1.363</td>\n",
       "      <td>7.382</td>\n",
       "      <td>12.425</td>\n",
       "      <td>0.028</td>\n",
       "      <td>0.020</td>\n",
       "      <td>2342.0</td>\n",
       "      <td>2333.0</td>\n",
       "      <td>2344.0</td>\n",
       "      <td>1588.0</td>\n",
       "      <td>1.0</td>\n",
       "    </tr>\n",
       "    <tr>\n",
       "      <th>Mother with College Ed</th>\n",
       "      <td>6.529</td>\n",
       "      <td>1.694</td>\n",
       "      <td>3.440</td>\n",
       "      <td>9.629</td>\n",
       "      <td>0.037</td>\n",
       "      <td>0.027</td>\n",
       "      <td>2080.0</td>\n",
       "      <td>2032.0</td>\n",
       "      <td>2084.0</td>\n",
       "      <td>1617.0</td>\n",
       "      <td>1.0</td>\n",
       "    </tr>\n",
       "    <tr>\n",
       "      <th>Years in program</th>\n",
       "      <td>2.653</td>\n",
       "      <td>0.564</td>\n",
       "      <td>1.599</td>\n",
       "      <td>3.746</td>\n",
       "      <td>0.013</td>\n",
       "      <td>0.009</td>\n",
       "      <td>1960.0</td>\n",
       "      <td>1959.0</td>\n",
       "      <td>1958.0</td>\n",
       "      <td>1657.0</td>\n",
       "      <td>1.0</td>\n",
       "    </tr>\n",
       "    <tr>\n",
       "      <th>Autism</th>\n",
       "      <td>-14.849</td>\n",
       "      <td>6.926</td>\n",
       "      <td>-28.650</td>\n",
       "      <td>-2.732</td>\n",
       "      <td>0.129</td>\n",
       "      <td>0.096</td>\n",
       "      <td>2900.0</td>\n",
       "      <td>2578.0</td>\n",
       "      <td>2895.0</td>\n",
       "      <td>1692.0</td>\n",
       "      <td>1.0</td>\n",
       "    </tr>\n",
       "  </tbody>\n",
       "</table>\n",
       "</div>"
      ],
      "text/plain": [
       "                             mean     sd  hpd_3%  hpd_97%  mcse_mean  mcse_sd  \\\n",
       "Age at amplification       -1.808  0.649  -3.042   -0.610      0.017    0.012   \n",
       "Family Involvement Score   -4.292  0.688  -5.501   -2.951      0.016    0.011   \n",
       "Sibling Count              -1.405  0.714  -2.728   -0.085      0.014    0.010   \n",
       "Non-profound Hearing Loss   9.761  1.363   7.382   12.425      0.028    0.020   \n",
       "Mother with College Ed      6.529  1.694   3.440    9.629      0.037    0.027   \n",
       "Years in program            2.653  0.564   1.599    3.746      0.013    0.009   \n",
       "Autism                    -14.849  6.926 -28.650   -2.732      0.129    0.096   \n",
       "\n",
       "                           ess_mean  ess_sd  ess_bulk  ess_tail  r_hat  \n",
       "Age at amplification         1497.0  1459.0    1501.0    1457.0    1.0  \n",
       "Family Involvement Score     1892.0  1892.0    1894.0    1746.0    1.0  \n",
       "Sibling Count                2560.0  2379.0    2568.0    1737.0    1.0  \n",
       "Non-profound Hearing Loss    2342.0  2333.0    2344.0    1588.0    1.0  \n",
       "Mother with College Ed       2080.0  2032.0    2084.0    1617.0    1.0  \n",
       "Years in program             1960.0  1959.0    1958.0    1657.0    1.0  \n",
       "Autism                       2900.0  2578.0    2895.0    1692.0    1.0  "
      ]
     },
     "execution_count": 86,
     "metadata": {},
     "output_type": "execute_result"
    }
   ],
   "source": [
    "expressive_vocab_summary = summary(expressive_vocab_trace, var_names=['β']).set_index(pd.Index(labels))\n",
    "expressive_vocab_summary"
   ]
  },
  {
   "cell_type": "code",
   "execution_count": 87,
   "metadata": {},
   "outputs": [],
   "source": [
    "expressive_vocab_summary.to_csv('expressive_vocab_summary.csv')"
   ]
  },
  {
   "cell_type": "markdown",
   "metadata": {},
   "source": [
    "## Receptive Vocabulary Model"
   ]
  },
  {
   "cell_type": "code",
   "execution_count": 88,
   "metadata": {},
   "outputs": [],
   "source": [
    "receptive_vocab_dataset = analysis_subset[(analysis_subset.domain=='Receptive Vocabulary')]"
   ]
  },
  {
   "cell_type": "code",
   "execution_count": 102,
   "metadata": {},
   "outputs": [
    {
     "data": {
      "text/plain": [
       "(158, 54)"
      ]
     },
     "execution_count": 102,
     "metadata": {},
     "output_type": "execute_result"
    }
   ],
   "source": [
    "receptive_vocab_dataset.shape"
   ]
  },
  {
   "cell_type": "code",
   "execution_count": 107,
   "metadata": {},
   "outputs": [
    {
     "data": {
      "text/plain": [
       "0    578\n",
       "1      2\n",
       "Name: autism, dtype: int64"
      ]
     },
     "execution_count": 107,
     "metadata": {},
     "output_type": "execute_result"
    }
   ],
   "source": [
    "receptive_language_dataset.autism.value_counts()"
   ]
  },
  {
   "cell_type": "code",
   "execution_count": 89,
   "metadata": {},
   "outputs": [
    {
     "name": "stderr",
     "output_type": "stream",
     "text": [
      "/home/fonnesbeck_gmail_com/anaconda3/envs/dev/lib/python3.7/site-packages/pymc3/model.py:1331: UserWarning: Data in x_age_amp contains missing values and will be automatically imputed from the sampling distribution.\n",
      "  warnings.warn(impute_message, UserWarning)\n",
      "/home/fonnesbeck_gmail_com/anaconda3/envs/dev/lib/python3.7/site-packages/pymc3/model.py:1331: UserWarning: Data in x_family_inv contains missing values and will be automatically imputed from the sampling distribution.\n",
      "  warnings.warn(impute_message, UserWarning)\n",
      "/home/fonnesbeck_gmail_com/anaconda3/envs/dev/lib/python3.7/site-packages/pymc3/model.py:1331: UserWarning: Data in x_hl contains missing values and will be automatically imputed from the sampling distribution.\n",
      "  warnings.warn(impute_message, UserWarning)\n",
      "/home/fonnesbeck_gmail_com/anaconda3/envs/dev/lib/python3.7/site-packages/pymc3/model.py:1331: UserWarning: Data in x_sib contains missing values and will be automatically imputed from the sampling distribution.\n",
      "  warnings.warn(impute_message, UserWarning)\n",
      "/home/fonnesbeck_gmail_com/anaconda3/envs/dev/lib/python3.7/site-packages/pymc3/model.py:1331: UserWarning: Data in x_mother_college contains missing values and will be automatically imputed from the sampling distribution.\n",
      "  warnings.warn(impute_message, UserWarning)\n"
     ]
    }
   ],
   "source": [
    "receptive_vocab = generate_model(receptive_vocab_dataset)"
   ]
  },
  {
   "cell_type": "code",
   "execution_count": 90,
   "metadata": {},
   "outputs": [
    {
     "name": "stderr",
     "output_type": "stream",
     "text": [
      "Multiprocess sampling (2 chains in 2 jobs)\n",
      "CompoundStep\n",
      ">NUTS: [σ, β, β_race, z_school, σ_school, μ_school, p_mother_college, p_sib, p_hl, p_family_inv, x_age_amp_missing, p_age_amp, s_age_amp, m_age_amp]\n",
      ">CategoricalGibbsMetropolis: [x_sib_missing, x_family_inv_missing]\n",
      ">BinaryGibbsMetropolis: [x_hl_missing, x_mother_college_missing]\n",
      "Sampling 2 chains: 100%|██████████| 10000/10000 [03:12<00:00, 51.91draws/s]\n"
     ]
    }
   ],
   "source": [
    "with receptive_vocab:\n",
    "    \n",
    "    receptive_vocab_trace = sample(iterations, tune=tuning, cores=2)"
   ]
  },
  {
   "cell_type": "code",
   "execution_count": 91,
   "metadata": {},
   "outputs": [
    {
     "data": {
      "image/png": "[encoded data removed]",
      "text/plain": [
       "<Figure size 432x388.8 with 1 Axes>"
      ]
     },
     "metadata": {
      "needs_background": "light"
     },
     "output_type": "display_data"
    }
   ],
   "source": [
    "fig, (ax,) = plot_forest(receptive_vocab_trace, var_names=['β'])\n",
    "ax.set_yticklabels(labels[::-1]);"
   ]
  },
  {
   "cell_type": "code",
   "execution_count": 93,
   "metadata": {},
   "outputs": [
    {
     "data": {
      "text/html": [
       "<div>\n",
       "<style scoped>\n",
       "    .dataframe tbody tr th:only-of-type {\n",
       "        vertical-align: middle;\n",
       "    }\n",
       "\n",
       "    .dataframe tbody tr th {\n",
       "        vertical-align: top;\n",
       "    }\n",
       "\n",
       "    .dataframe thead th {\n",
       "        text-align: right;\n",
       "    }\n",
       "</style>\n",
       "<table border=\"1\" class=\"dataframe\">\n",
       "  <thead>\n",
       "    <tr style=\"text-align: right;\">\n",
       "      <th></th>\n",
       "      <th>mean</th>\n",
       "      <th>sd</th>\n",
       "      <th>hpd_3%</th>\n",
       "      <th>hpd_97%</th>\n",
       "      <th>mcse_mean</th>\n",
       "      <th>mcse_sd</th>\n",
       "      <th>ess_mean</th>\n",
       "      <th>ess_sd</th>\n",
       "      <th>ess_bulk</th>\n",
       "      <th>ess_tail</th>\n",
       "      <th>r_hat</th>\n",
       "    </tr>\n",
       "  </thead>\n",
       "  <tbody>\n",
       "    <tr>\n",
       "      <th>Age at amplification</th>\n",
       "      <td>-4.685</td>\n",
       "      <td>1.799</td>\n",
       "      <td>-8.034</td>\n",
       "      <td>-1.281</td>\n",
       "      <td>0.038</td>\n",
       "      <td>0.027</td>\n",
       "      <td>2219.0</td>\n",
       "      <td>2219.0</td>\n",
       "      <td>2256.0</td>\n",
       "      <td>1663.0</td>\n",
       "      <td>1.0</td>\n",
       "    </tr>\n",
       "    <tr>\n",
       "      <th>Family Involvement Score</th>\n",
       "      <td>-4.882</td>\n",
       "      <td>1.739</td>\n",
       "      <td>-8.311</td>\n",
       "      <td>-1.855</td>\n",
       "      <td>0.038</td>\n",
       "      <td>0.027</td>\n",
       "      <td>2065.0</td>\n",
       "      <td>2065.0</td>\n",
       "      <td>2072.0</td>\n",
       "      <td>1360.0</td>\n",
       "      <td>1.0</td>\n",
       "    </tr>\n",
       "    <tr>\n",
       "      <th>Sibling Count</th>\n",
       "      <td>-3.828</td>\n",
       "      <td>2.097</td>\n",
       "      <td>-7.779</td>\n",
       "      <td>0.065</td>\n",
       "      <td>0.046</td>\n",
       "      <td>0.032</td>\n",
       "      <td>2123.0</td>\n",
       "      <td>2123.0</td>\n",
       "      <td>2109.0</td>\n",
       "      <td>1556.0</td>\n",
       "      <td>1.0</td>\n",
       "    </tr>\n",
       "    <tr>\n",
       "      <th>Non-profound Hearing Loss</th>\n",
       "      <td>9.775</td>\n",
       "      <td>3.585</td>\n",
       "      <td>3.548</td>\n",
       "      <td>16.782</td>\n",
       "      <td>0.064</td>\n",
       "      <td>0.049</td>\n",
       "      <td>3146.0</td>\n",
       "      <td>2704.0</td>\n",
       "      <td>3115.0</td>\n",
       "      <td>1659.0</td>\n",
       "      <td>1.0</td>\n",
       "    </tr>\n",
       "    <tr>\n",
       "      <th>Mother with College Ed</th>\n",
       "      <td>-2.353</td>\n",
       "      <td>4.605</td>\n",
       "      <td>-11.395</td>\n",
       "      <td>6.087</td>\n",
       "      <td>0.097</td>\n",
       "      <td>0.086</td>\n",
       "      <td>2241.0</td>\n",
       "      <td>1446.0</td>\n",
       "      <td>2239.0</td>\n",
       "      <td>1394.0</td>\n",
       "      <td>1.0</td>\n",
       "    </tr>\n",
       "    <tr>\n",
       "      <th>Years in program</th>\n",
       "      <td>4.075</td>\n",
       "      <td>1.461</td>\n",
       "      <td>1.250</td>\n",
       "      <td>6.750</td>\n",
       "      <td>0.030</td>\n",
       "      <td>0.023</td>\n",
       "      <td>2314.0</td>\n",
       "      <td>2085.0</td>\n",
       "      <td>2328.0</td>\n",
       "      <td>1350.0</td>\n",
       "      <td>1.0</td>\n",
       "    </tr>\n",
       "    <tr>\n",
       "      <th>Autism</th>\n",
       "      <td>20.295</td>\n",
       "      <td>16.019</td>\n",
       "      <td>-10.592</td>\n",
       "      <td>49.564</td>\n",
       "      <td>0.300</td>\n",
       "      <td>0.271</td>\n",
       "      <td>2856.0</td>\n",
       "      <td>1744.0</td>\n",
       "      <td>2818.0</td>\n",
       "      <td>1787.0</td>\n",
       "      <td>1.0</td>\n",
       "    </tr>\n",
       "  </tbody>\n",
       "</table>\n",
       "</div>"
      ],
      "text/plain": [
       "                             mean      sd  hpd_3%  hpd_97%  mcse_mean  \\\n",
       "Age at amplification       -4.685   1.799  -8.034   -1.281      0.038   \n",
       "Family Involvement Score   -4.882   1.739  -8.311   -1.855      0.038   \n",
       "Sibling Count              -3.828   2.097  -7.779    0.065      0.046   \n",
       "Non-profound Hearing Loss   9.775   3.585   3.548   16.782      0.064   \n",
       "Mother with College Ed     -2.353   4.605 -11.395    6.087      0.097   \n",
       "Years in program            4.075   1.461   1.250    6.750      0.030   \n",
       "Autism                     20.295  16.019 -10.592   49.564      0.300   \n",
       "\n",
       "                           mcse_sd  ess_mean  ess_sd  ess_bulk  ess_tail  \\\n",
       "Age at amplification         0.027    2219.0  2219.0    2256.0    1663.0   \n",
       "Family Involvement Score     0.027    2065.0  2065.0    2072.0    1360.0   \n",
       "Sibling Count                0.032    2123.0  2123.0    2109.0    1556.0   \n",
       "Non-profound Hearing Loss    0.049    3146.0  2704.0    3115.0    1659.0   \n",
       "Mother with College Ed       0.086    2241.0  1446.0    2239.0    1394.0   \n",
       "Years in program             0.023    2314.0  2085.0    2328.0    1350.0   \n",
       "Autism                       0.271    2856.0  1744.0    2818.0    1787.0   \n",
       "\n",
       "                           r_hat  \n",
       "Age at amplification         1.0  \n",
       "Family Involvement Score     1.0  \n",
       "Sibling Count                1.0  \n",
       "Non-profound Hearing Loss    1.0  \n",
       "Mother with College Ed       1.0  \n",
       "Years in program             1.0  \n",
       "Autism                       1.0  "
      ]
     },
     "execution_count": 93,
     "metadata": {},
     "output_type": "execute_result"
    }
   ],
   "source": [
    "receptive_vocab_summary = summary(receptive_vocab_trace, var_names=['β']).set_index(pd.Index(labels))\n",
    "receptive_vocab_summary"
   ]
  },
  {
   "cell_type": "code",
   "execution_count": 94,
   "metadata": {},
   "outputs": [],
   "source": [
    "receptive_vocab_summary.to_csv('receptive_vocab_summary.csv')"
   ]
  },
  {
   "cell_type": "markdown",
   "metadata": {},
   "source": [
    "## Posterior predictive checks"
   ]
  },
  {
   "cell_type": "code",
   "execution_count": 59,
   "metadata": {},
   "outputs": [
    {
     "name": "stderr",
     "output_type": "stream",
     "text": [
      "100%|██████████| 2000/2000 [00:03<00:00, 518.11it/s]\n"
     ]
    }
   ],
   "source": [
    "from pymc3 import sample_posterior_predictive\n",
    "\n",
    "with articulation:\n",
    "    \n",
    "    artic_pred = sample_posterior_predictive(artic_trace, vars=[articulation.score_like])"
   ]
  },
  {
   "cell_type": "code",
   "execution_count": 60,
   "metadata": {},
   "outputs": [
    {
     "data": {
      "text/plain": [
       "(array([123., 109., 125., 110., 134., 126., 154., 163., 185.,  60.]),\n",
       " array([0.   , 0.098, 0.196, 0.294, 0.392, 0.49 , 0.588, 0.686, 0.784,\n",
       "        0.882, 0.98 ]),\n",
       " <a list of 10 Patch objects>)"
      ]
     },
     "execution_count": 60,
     "metadata": {},
     "output_type": "execute_result"
    },
    {
     "data": {
      "image/png": "[encoded data removed]",
      "text/plain": [
       "<Figure size 432x288 with 1 Axes>"
      ]
     },
     "metadata": {
      "needs_background": "light"
     },
     "output_type": "display_data"
    }
   ],
   "source": [
    "from scipy.stats import percentileofscore\n",
    "\n",
    "plt.hist([np.round(percentileofscore(x, y)/100, 2) for x,y in zip(artic_pred['score_like'], \n",
    "                                                        articulation_dataset.score)])"
   ]
  },
  {
   "cell_type": "markdown",
   "metadata": {},
   "source": [
    "### Publication graphics"
   ]
  },
  {
   "cell_type": "code",
   "execution_count": 61,
   "metadata": {},
   "outputs": [
    {
     "ename": "ModuleNotFoundError",
     "evalue": "No module named 'arviz'",
     "output_type": "error",
     "traceback": [
      "\u001b[0;31m---------------------------------------------------------------------------\u001b[0m",
      "\u001b[0;31mModuleNotFoundError\u001b[0m                       Traceback (most recent call last)",
      "\u001b[0;32m<ipython-input-61-b8fa1d38513d>\u001b[0m in \u001b[0;36m<module>\u001b[0;34m\u001b[0m\n\u001b[0;32m----> 1\u001b[0;31m \u001b[0;32mimport\u001b[0m \u001b[0marviz\u001b[0m \u001b[0;32mas\u001b[0m \u001b[0maz\u001b[0m\u001b[0;34m\u001b[0m\u001b[0;34m\u001b[0m\u001b[0m\n\u001b[0m\u001b[1;32m      2\u001b[0m \u001b[0;34m\u001b[0m\u001b[0m\n\u001b[1;32m      3\u001b[0m \u001b[0maz\u001b[0m\u001b[0;34m.\u001b[0m\u001b[0mstyle\u001b[0m\u001b[0;34m.\u001b[0m\u001b[0muse\u001b[0m\u001b[0;34m(\u001b[0m\u001b[0;34m'arviz-whitegrid'\u001b[0m\u001b[0;34m)\u001b[0m\u001b[0;34m\u001b[0m\u001b[0;34m\u001b[0m\u001b[0m\n\u001b[1;32m      4\u001b[0m \u001b[0;34m\u001b[0m\u001b[0m\n\u001b[1;32m      5\u001b[0m \u001b[0;34m\u001b[0m\u001b[0m\n",
      "\u001b[0;31mModuleNotFoundError\u001b[0m: No module named 'arviz'"
     ]
    }
   ],
   "source": [
    "import arviz as az\n",
    "\n",
    "az.style.use('arviz-whitegrid')\n",
    "\n",
    "\n",
    "model_names = ['Receptive Vocabulary', 'Expressive Vocabulary',\n",
    "                                     'Receptive Language', 'Expressive Language',\n",
    "                                     'Articulation']\n",
    "\n",
    "_, axes = az.plot_forest([receptive_vocab_4_trace, expressive_vocab_4_trace,\n",
    "                         rec_lang_4_trace, exp_lang_4_trace, artic_4_trace],\n",
    "                         model_names=model_names,\n",
    "                         combined=True,\n",
    "                         var_names=['β'])\n",
    "axes[0].set_title('Estimated covariates for test domains')\n",
    "\n",
    "axes[0].axvline(linestyle=\":\", linewidth=0.5, color='k')\n",
    "\n",
    "ticklabels = [labels[int((i-2)/5)] if not (i % 5 - 2) else '' for i,label in enumerate(axes[0].get_yticklabels())][::-1]\n",
    "axes[0].set_yticklabels(ticklabels)\n",
    "\n",
    "lines = ax.get_lines()[:5:-1]\n",
    "axes[0].legend(lines, model_names, loc='upper center', bbox_to_anchor=(0.5, -0.05),\n",
    "          fancybox=True);"
   ]
  },
  {
   "cell_type": "markdown",
   "metadata": {},
   "source": [
    "# Comparison of Hearing Loss to no Hearing Loss Within Autism Group"
   ]
  },
  {
   "cell_type": "code",
   "execution_count": 30,
   "metadata": {},
   "outputs": [],
   "source": [
    "inclusion_mask = (~lsl_dr.non_english.astype(bool) &\n",
    "                 (lsl_dr.autism==1))"
   ]
  },
  {
   "cell_type": "code",
   "execution_count": 33,
   "metadata": {},
   "outputs": [
    {
     "data": {
      "text/plain": [
       "(281, 252)"
      ]
     },
     "execution_count": 33,
     "metadata": {},
     "output_type": "execute_result"
    }
   ],
   "source": [
    "all_autism = lsl_dr[inclusion_mask].copy()\n",
    "all_autism.shape"
   ]
  },
  {
   "cell_type": "code",
   "execution_count": 34,
   "metadata": {},
   "outputs": [],
   "source": [
    "all_autism['hearing_loss'] = (all_autism.hl==0).astype(int)"
   ]
  },
  {
   "cell_type": "code",
   "execution_count": null,
   "metadata": {},
   "outputs": [],
   "source": []
  }
 ],
 "metadata": {
  "kernelspec": {
   "display_name": "Python 3",
   "language": "python",
   "name": "python3"
  },
  "language_info": {
   "codemirror_mode": {
    "name": "ipython",
    "version": 3
   },
   "file_extension": ".py",
   "mimetype": "text/x-python",
   "name": "python",
   "nbconvert_exporter": "python",
   "pygments_lexer": "ipython3",
   "version": "3.7.3"
  }
 },
 "nbformat": 4,
 "nbformat_minor": 4
}
