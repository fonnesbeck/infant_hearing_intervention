{
 "cells": [
  {
   "cell_type": "markdown",
   "metadata": {},
   "source": [
    "# Factors that Influence Outcomes of the Five Domains of Speech-Language in Children with Hearing Loss at age 4 years\n",
    "\n",
    "Paper 1"
   ]
  },
  {
   "cell_type": "code",
   "execution_count": 1,
   "metadata": {},
   "outputs": [],
   "source": [
    "# Import modules and set options\n",
    "%matplotlib inline\n",
    "import matplotlib.pyplot as plt\n",
    "import pandas as pd\n",
    "import numpy as np\n",
    "import seaborn as sns\n",
    "\n",
    "sns.set(context='notebook', style='ticks')"
   ]
  },
  {
   "cell_type": "markdown",
   "metadata": {},
   "source": [
    "Import data"
   ]
  },
  {
   "cell_type": "code",
   "execution_count": 2,
   "metadata": {},
   "outputs": [],
   "source": [
    "lsl_dr = (pd.read_csv('../data/clean/lsl_dr.csv', index_col=0, low_memory=False)\n",
    "                  .rename({'onset_1':'identify_mo'}, axis=1))"
   ]
  },
  {
   "cell_type": "code",
   "execution_count": 3,
   "metadata": {},
   "outputs": [
    {
     "data": {
      "text/html": [
       "<div>\n",
       "<style scoped>\n",
       "    .dataframe tbody tr th:only-of-type {\n",
       "        vertical-align: middle;\n",
       "    }\n",
       "\n",
       "    .dataframe tbody tr th {\n",
       "        vertical-align: top;\n",
       "    }\n",
       "\n",
       "    .dataframe thead th {\n",
       "        text-align: right;\n",
       "    }\n",
       "</style>\n",
       "<table border=\"1\" class=\"dataframe\">\n",
       "  <thead>\n",
       "    <tr style=\"text-align: right;\">\n",
       "      <th></th>\n",
       "      <th>redcap_event_name</th>\n",
       "      <th>academic_year_rv</th>\n",
       "      <th>hl</th>\n",
       "      <th>male</th>\n",
       "      <th>_race</th>\n",
       "      <th>prim_lang</th>\n",
       "      <th>sib</th>\n",
       "      <th>_mother_ed</th>\n",
       "      <th>father_ed</th>\n",
       "      <th>par1_ed</th>\n",
       "      <th>...</th>\n",
       "      <th>gf3_sis_ss</th>\n",
       "      <th>gf3_siw_ss</th>\n",
       "      <th>gf_version</th>\n",
       "      <th>ppvt_f</th>\n",
       "      <th>ppvt_ss</th>\n",
       "      <th>rowpvt_ss</th>\n",
       "      <th>school</th>\n",
       "      <th>score</th>\n",
       "      <th>test_name</th>\n",
       "      <th>test_type</th>\n",
       "    </tr>\n",
       "  </thead>\n",
       "  <tbody>\n",
       "    <tr>\n",
       "      <th>0</th>\n",
       "      <td>initial_assessment_arm_1</td>\n",
       "      <td>2002.0</td>\n",
       "      <td>0.0</td>\n",
       "      <td>0.0</td>\n",
       "      <td>0.0</td>\n",
       "      <td>0.0</td>\n",
       "      <td>1.0</td>\n",
       "      <td>6.0</td>\n",
       "      <td>6.0</td>\n",
       "      <td>NaN</td>\n",
       "      <td>...</td>\n",
       "      <td>NaN</td>\n",
       "      <td>NaN</td>\n",
       "      <td>NaN</td>\n",
       "      <td>NaN</td>\n",
       "      <td>NaN</td>\n",
       "      <td>NaN</td>\n",
       "      <td>101</td>\n",
       "      <td>58.0</td>\n",
       "      <td>NaN</td>\n",
       "      <td>EOWPVT</td>\n",
       "    </tr>\n",
       "    <tr>\n",
       "      <th>1</th>\n",
       "      <td>initial_assessment_arm_1</td>\n",
       "      <td>2002.0</td>\n",
       "      <td>0.0</td>\n",
       "      <td>0.0</td>\n",
       "      <td>0.0</td>\n",
       "      <td>0.0</td>\n",
       "      <td>1.0</td>\n",
       "      <td>6.0</td>\n",
       "      <td>6.0</td>\n",
       "      <td>NaN</td>\n",
       "      <td>...</td>\n",
       "      <td>NaN</td>\n",
       "      <td>NaN</td>\n",
       "      <td>NaN</td>\n",
       "      <td>NaN</td>\n",
       "      <td>NaN</td>\n",
       "      <td>NaN</td>\n",
       "      <td>101</td>\n",
       "      <td>51.0</td>\n",
       "      <td>PLS</td>\n",
       "      <td>receptive</td>\n",
       "    </tr>\n",
       "    <tr>\n",
       "      <th>2</th>\n",
       "      <td>initial_assessment_arm_1</td>\n",
       "      <td>2002.0</td>\n",
       "      <td>0.0</td>\n",
       "      <td>0.0</td>\n",
       "      <td>0.0</td>\n",
       "      <td>0.0</td>\n",
       "      <td>1.0</td>\n",
       "      <td>6.0</td>\n",
       "      <td>6.0</td>\n",
       "      <td>NaN</td>\n",
       "      <td>...</td>\n",
       "      <td>NaN</td>\n",
       "      <td>NaN</td>\n",
       "      <td>NaN</td>\n",
       "      <td>NaN</td>\n",
       "      <td>NaN</td>\n",
       "      <td>NaN</td>\n",
       "      <td>101</td>\n",
       "      <td>60.0</td>\n",
       "      <td>PLS</td>\n",
       "      <td>expressive</td>\n",
       "    </tr>\n",
       "    <tr>\n",
       "      <th>3</th>\n",
       "      <td>initial_assessment_arm_1</td>\n",
       "      <td>2002.0</td>\n",
       "      <td>0.0</td>\n",
       "      <td>0.0</td>\n",
       "      <td>0.0</td>\n",
       "      <td>0.0</td>\n",
       "      <td>1.0</td>\n",
       "      <td>6.0</td>\n",
       "      <td>6.0</td>\n",
       "      <td>NaN</td>\n",
       "      <td>...</td>\n",
       "      <td>NaN</td>\n",
       "      <td>NaN</td>\n",
       "      <td>NaN</td>\n",
       "      <td>NaN</td>\n",
       "      <td>NaN</td>\n",
       "      <td>NaN</td>\n",
       "      <td>101</td>\n",
       "      <td>54.0</td>\n",
       "      <td>PLS</td>\n",
       "      <td>total</td>\n",
       "    </tr>\n",
       "    <tr>\n",
       "      <th>4</th>\n",
       "      <td>initial_assessment_arm_1</td>\n",
       "      <td>2013.0</td>\n",
       "      <td>0.0</td>\n",
       "      <td>1.0</td>\n",
       "      <td>0.0</td>\n",
       "      <td>0.0</td>\n",
       "      <td>1.0</td>\n",
       "      <td>4.0</td>\n",
       "      <td>5.0</td>\n",
       "      <td>NaN</td>\n",
       "      <td>...</td>\n",
       "      <td>NaN</td>\n",
       "      <td>NaN</td>\n",
       "      <td>2.0</td>\n",
       "      <td>NaN</td>\n",
       "      <td>NaN</td>\n",
       "      <td>NaN</td>\n",
       "      <td>626</td>\n",
       "      <td>89.0</td>\n",
       "      <td>NaN</td>\n",
       "      <td>Goldman</td>\n",
       "    </tr>\n",
       "  </tbody>\n",
       "</table>\n",
       "<p>5 rows × 246 columns</p>\n",
       "</div>"
      ],
      "text/plain": [
       "          redcap_event_name  academic_year_rv   hl  male  _race  prim_lang  \\\n",
       "0  initial_assessment_arm_1            2002.0  0.0   0.0    0.0        0.0   \n",
       "1  initial_assessment_arm_1            2002.0  0.0   0.0    0.0        0.0   \n",
       "2  initial_assessment_arm_1            2002.0  0.0   0.0    0.0        0.0   \n",
       "3  initial_assessment_arm_1            2002.0  0.0   0.0    0.0        0.0   \n",
       "4  initial_assessment_arm_1            2013.0  0.0   1.0    0.0        0.0   \n",
       "\n",
       "   sib  _mother_ed  father_ed  par1_ed  ...  gf3_sis_ss  gf3_siw_ss  \\\n",
       "0  1.0         6.0        6.0      NaN  ...         NaN         NaN   \n",
       "1  1.0         6.0        6.0      NaN  ...         NaN         NaN   \n",
       "2  1.0         6.0        6.0      NaN  ...         NaN         NaN   \n",
       "3  1.0         6.0        6.0      NaN  ...         NaN         NaN   \n",
       "4  1.0         4.0        5.0      NaN  ...         NaN         NaN   \n",
       "\n",
       "   gf_version  ppvt_f  ppvt_ss  rowpvt_ss  school  score  test_name  \\\n",
       "0         NaN     NaN      NaN        NaN     101   58.0        NaN   \n",
       "1         NaN     NaN      NaN        NaN     101   51.0        PLS   \n",
       "2         NaN     NaN      NaN        NaN     101   60.0        PLS   \n",
       "3         NaN     NaN      NaN        NaN     101   54.0        PLS   \n",
       "4         2.0     NaN      NaN        NaN     626   89.0        NaN   \n",
       "\n",
       "    test_type  \n",
       "0      EOWPVT  \n",
       "1   receptive  \n",
       "2  expressive  \n",
       "3       total  \n",
       "4     Goldman  \n",
       "\n",
       "[5 rows x 246 columns]"
      ]
     },
     "execution_count": 3,
     "metadata": {},
     "output_type": "execute_result"
    }
   ],
   "source": [
    "lsl_dr.head()"
   ]
  },
  {
   "cell_type": "markdown",
   "metadata": {},
   "source": [
    "Indicator for non-profound hearing loss"
   ]
  },
  {
   "cell_type": "code",
   "execution_count": 4,
   "metadata": {},
   "outputs": [],
   "source": [
    "lsl_dr['deg_hl_below6'] = lsl_dr.degree_hl<6\n",
    "lsl_dr.loc[lsl_dr.degree_hl.isnull(), 'deg_hl_below6'] = np.nan"
   ]
  },
  {
   "cell_type": "markdown",
   "metadata": {},
   "source": [
    "Indicator for first intervention outside OPTION"
   ]
  },
  {
   "cell_type": "code",
   "execution_count": 5,
   "metadata": {},
   "outputs": [],
   "source": [
    "lsl_dr['int_outside_option'] = lsl_dr.age > lsl_dr.age_int\n",
    "lsl_dr.loc[lsl_dr.age < lsl_dr.age_int, 'int_outside_option'] = np.nan"
   ]
  },
  {
   "cell_type": "markdown",
   "metadata": {},
   "source": [
    "Indicator for high school graduation of mother"
   ]
  },
  {
   "cell_type": "code",
   "execution_count": 6,
   "metadata": {},
   "outputs": [],
   "source": [
    "lsl_dr['mother_hs'] = lsl_dr.mother_ed > 1\n",
    "lsl_dr.loc[lsl_dr.mother_ed.isnull(), 'mother_hs'] = None"
   ]
  },
  {
   "cell_type": "markdown",
   "metadata": {},
   "source": [
    "Create age in years variable"
   ]
  },
  {
   "cell_type": "code",
   "execution_count": 7,
   "metadata": {},
   "outputs": [],
   "source": [
    "lsl_dr['age_years'] = lsl_dr.age/12."
   ]
  },
  {
   "cell_type": "markdown",
   "metadata": {},
   "source": [
    "Create school index"
   ]
  },
  {
   "cell_type": "code",
   "execution_count": 8,
   "metadata": {},
   "outputs": [],
   "source": [
    "schools_unique = np.sort(lsl_dr.school.unique())\n",
    "school_lookup = dict(zip(schools_unique, range(len(schools_unique))))"
   ]
  },
  {
   "cell_type": "code",
   "execution_count": 9,
   "metadata": {},
   "outputs": [],
   "source": [
    "lsl_dr['school_idx'] = lsl_dr.school.replace(school_lookup)"
   ]
  },
  {
   "cell_type": "markdown",
   "metadata": {},
   "source": [
    "Create student index"
   ]
  },
  {
   "cell_type": "code",
   "execution_count": 10,
   "metadata": {},
   "outputs": [],
   "source": [
    "student_unique = np.sort(lsl_dr.study_id.unique())\n",
    "student_lookup = dict(zip(student_unique, range(len(student_unique))))"
   ]
  },
  {
   "cell_type": "code",
   "execution_count": 11,
   "metadata": {},
   "outputs": [],
   "source": [
    "lsl_dr['student_idx'] = lsl_dr.study_id.replace(student_lookup)"
   ]
  },
  {
   "cell_type": "markdown",
   "metadata": {},
   "source": [
    "### Exclusions\n",
    "\n",
    "Drop non-english and other disabilities, filter for hearing loss"
   ]
  },
  {
   "cell_type": "code",
   "execution_count": 12,
   "metadata": {},
   "outputs": [],
   "source": [
    "other_etiology = (lsl_dr[['etiology_3___2', 'etiology_3___4', 'etiology_3___5', 'etiology_3___6', 'etiology_3___9',\n",
    "       'etiology_oth___1', 'etiology_oth___3', 'etiology_oth___4', 'etiology_oth___8', 'etiology_oth___9']]\n",
    "                      .sum(1).astype(bool))"
   ]
  },
  {
   "cell_type": "code",
   "execution_count": 13,
   "metadata": {},
   "outputs": [],
   "source": [
    "inclusion_mask = (~lsl_dr.non_english.astype(bool) \n",
    "                  & (lsl_dr.degree_hl!=0))"
   ]
  },
  {
   "cell_type": "code",
   "execution_count": 14,
   "metadata": {},
   "outputs": [],
   "source": [
    "covariates = ['score', 'student_idx', 'school_idx', 'male', 'sib', 'family_inv', 'race', \n",
    "              'age_test', 'premature_weeks', 'age_amp', 'parent_hl',\n",
    "              'domain', 'deg_hl_below6', 'mother_hs', 'mother_college', 'age_years', 'test_type', \n",
    "              'time', 'bilateral_ci', 'one_or_both_parent_hl',\n",
    "              'bilateral_ha', 'unilateral_ci', 'unilateral_ha', \n",
    "              'bimodal', 'assymetrical', 'age_int', 'autism']"
   ]
  },
  {
   "cell_type": "code",
   "execution_count": 15,
   "metadata": {},
   "outputs": [],
   "source": [
    "hl_type_cols = lsl_dr.columns[lsl_dr.columns.str.contains('lateral')].values.tolist()"
   ]
  },
  {
   "cell_type": "code",
   "execution_count": 16,
   "metadata": {},
   "outputs": [],
   "source": [
    "covariates += list(set(hl_type_cols))\n",
    "covariates = list(set(covariates))"
   ]
  },
  {
   "cell_type": "code",
   "execution_count": 17,
   "metadata": {},
   "outputs": [
    {
     "data": {
      "text/plain": [
       "(46786, 53)"
      ]
     },
     "execution_count": 17,
     "metadata": {},
     "output_type": "execute_result"
    }
   ],
   "source": [
    "analysis_subset = lsl_dr.loc[inclusion_mask, covariates].copy().dropna(subset=['time'])\n",
    "analysis_subset.shape"
   ]
  },
  {
   "cell_type": "code",
   "execution_count": 18,
   "metadata": {},
   "outputs": [
    {
     "data": {
      "text/plain": [
       "bilateral_ci     0.679755\n",
       "bilateral_ha     0.191660\n",
       "unilateral_ci    0.020327\n",
       "unilateral_ha    0.025585\n",
       "bimodal          0.058030\n",
       "dtype: float64"
      ]
     },
     "execution_count": 18,
     "metadata": {},
     "output_type": "execute_result"
    }
   ],
   "source": [
    "analysis_subset[['bilateral_ci',\n",
    "              'bilateral_ha', 'unilateral_ci', 'unilateral_ha', 'bimodal']].mean()"
   ]
  },
  {
   "cell_type": "code",
   "execution_count": 19,
   "metadata": {},
   "outputs": [],
   "source": [
    "analysis_subset['premature'] = (analysis_subset.premature_weeks>0).astype(float)\n",
    "analysis_subset.loc[analysis_subset.premature_weeks.isnull(), 'premature'] = np.nan"
   ]
  },
  {
   "cell_type": "markdown",
   "metadata": {},
   "source": [
    "Add expressive and receptive to langauge test domains"
   ]
  },
  {
   "cell_type": "code",
   "execution_count": 20,
   "metadata": {},
   "outputs": [],
   "source": [
    "analysis_subset.loc[(analysis_subset.domain=='Language') & (analysis_subset.test_type=='receptive'), \n",
    "           'domain'] = 'Receptive Language'\n",
    "analysis_subset.loc[(analysis_subset.domain=='Language') & (analysis_subset.test_type=='expressive'), \n",
    "           'domain'] = 'Expressive Language'"
   ]
  },
  {
   "cell_type": "code",
   "execution_count": 21,
   "metadata": {},
   "outputs": [
    {
     "data": {
      "text/plain": [
       "<matplotlib.axes._subplots.AxesSubplot at 0x7f7989cf7da0>"
      ]
     },
     "execution_count": 21,
     "metadata": {},
     "output_type": "execute_result"
    },
    {
     "data": {
      "image/png": "[encoded data removed]",
      "text/plain": [
       "<Figure size 432x288 with 1 Axes>"
      ]
     },
     "metadata": {
      "needs_background": "light"
     },
     "output_type": "display_data"
    }
   ],
   "source": [
    "analysis_subset[analysis_subset.age_test<100].age_test.hist()"
   ]
  },
  {
   "cell_type": "markdown",
   "metadata": {},
   "source": [
    "Drop records with missing race and age at ernollment, since there is less than 1% of them"
   ]
  },
  {
   "cell_type": "code",
   "execution_count": 22,
   "metadata": {},
   "outputs": [],
   "source": [
    "analysis_subset = analysis_subset.dropna(subset=['race', 'age_years', 'age_test', 'parent_hl'])"
   ]
  },
  {
   "cell_type": "code",
   "execution_count": 23,
   "metadata": {},
   "outputs": [],
   "source": [
    "assert not analysis_subset.autism.isnull().sum()"
   ]
  },
  {
   "cell_type": "markdown",
   "metadata": {},
   "source": [
    "## Comparison of mean scores"
   ]
  },
  {
   "cell_type": "markdown",
   "metadata": {},
   "source": [
    "Restrict to between 3 and 6 years"
   ]
  },
  {
   "cell_type": "code",
   "execution_count": 24,
   "metadata": {},
   "outputs": [],
   "source": [
    "analysis_subset = analysis_subset[(analysis_subset.age_test>=36) & (analysis_subset.age_test<72)]"
   ]
  },
  {
   "cell_type": "code",
   "execution_count": 25,
   "metadata": {},
   "outputs": [
    {
     "data": {
      "text/plain": [
       "(24039, 54)"
      ]
     },
     "execution_count": 25,
     "metadata": {},
     "output_type": "execute_result"
    }
   ],
   "source": [
    "analysis_subset.shape"
   ]
  },
  {
   "cell_type": "markdown",
   "metadata": {},
   "source": [
    "Take first test score"
   ]
  },
  {
   "cell_type": "code",
   "execution_count": 26,
   "metadata": {},
   "outputs": [],
   "source": [
    "analysis_subset = analysis_subset.loc[analysis_subset.groupby(\"student_idx\")[\"age_test\"].idxmin()]"
   ]
  },
  {
   "cell_type": "code",
   "execution_count": 27,
   "metadata": {},
   "outputs": [
    {
     "data": {
      "text/plain": [
       "(2650, 54)"
      ]
     },
     "execution_count": 27,
     "metadata": {},
     "output_type": "execute_result"
    }
   ],
   "source": [
    "analysis_subset.shape"
   ]
  },
  {
   "cell_type": "code",
   "execution_count": 28,
   "metadata": {},
   "outputs": [
    {
     "data": {
      "text/plain": [
       "array([<matplotlib.axes._subplots.AxesSubplot object at 0x7f7987c17ef0>,\n",
       "       <matplotlib.axes._subplots.AxesSubplot object at 0x7f7987867b00>],\n",
       "      dtype=object)"
      ]
     },
     "execution_count": 28,
     "metadata": {},
     "output_type": "execute_result"
    },
    {
     "data": {
      "image/png": "[encoded data removed]",
      "text/plain": [
       "<Figure size 432x288 with 2 Axes>"
      ]
     },
     "metadata": {
      "needs_background": "light"
     },
     "output_type": "display_data"
    }
   ],
   "source": [
    "analysis_subset.hist(column='score', by='autism', density=True)"
   ]
  },
  {
   "cell_type": "code",
   "execution_count": 29,
   "metadata": {},
   "outputs": [
    {
     "name": "stderr",
     "output_type": "stream",
     "text": [
      "WARNING (theano.tensor.blas): Using NumPy C-API based implementation for BLAS functions.\n"
     ]
    }
   ],
   "source": [
    "from pymc3 import Bernoulli, Normal, Uniform, Dirichlet, Categorical, Beta, HalfCauchy\n",
    "from pymc3 import Gamma, Exponential, Multinomial, HalfNormal, NormalMixture, Lognormal\n",
    "from pymc3 import Model, Deterministic, sample\n",
    "from numpy.ma import masked_values, set_fill_value, masked_invalid\n",
    "import theano.tensor as tt\n",
    "from theano import shared"
   ]
  },
  {
   "cell_type": "code",
   "execution_count": 46,
   "metadata": {},
   "outputs": [],
   "source": [
    "autism, score = analysis_subset[['autism', 'score']].values.T\n",
    "autism = autism.astype(int)"
   ]
  },
  {
   "cell_type": "code",
   "execution_count": 47,
   "metadata": {},
   "outputs": [],
   "source": [
    "with Model() as score_model:\n",
    "    \n",
    "    μ = Normal('μ', 100, sd=20, shape=2)\n",
    "    σ = HalfNormal('σ', 10, shape=2)\n",
    "    \n",
    "    δ = Deterministic('difference', μ[1] - μ[0])\n",
    "    \n",
    "    y = Normal('y', μ[autism], sd=σ[autism], observed=score)"
   ]
  },
  {
   "cell_type": "code",
   "execution_count": 49,
   "metadata": {},
   "outputs": [
    {
     "name": "stderr",
     "output_type": "stream",
     "text": [
      "Auto-assigning NUTS sampler...\n",
      "Initializing NUTS using jitter+adapt_diag...\n",
      "Multiprocess sampling (2 chains in 2 jobs)\n",
      "NUTS: [σ, μ]\n",
      "Sampling 2 chains: 100%|██████████| 6000/6000 [00:06<00:00, 860.06draws/s]\n"
     ]
    }
   ],
   "source": [
    "with score_model:\n",
    "    trace = sample(1000, tune=2000)"
   ]
  },
  {
   "cell_type": "code",
   "execution_count": 51,
   "metadata": {},
   "outputs": [],
   "source": [
    "from pymc3 import plot_posterior"
   ]
  },
  {
   "cell_type": "code",
   "execution_count": 52,
   "metadata": {},
   "outputs": [
    {
     "data": {
      "text/plain": [
       "<matplotlib.axes._subplots.AxesSubplot at 0x7f35400ab828>"
      ]
     },
     "execution_count": 52,
     "metadata": {},
     "output_type": "execute_result"
    },
    {
     "data": {
      "image/png": "[encoded data removed]",
      "text/plain": [
       "<Figure size 432x288 with 1 Axes>"
      ]
     },
     "metadata": {
      "needs_background": "light"
     },
     "output_type": "display_data"
    }
   ],
   "source": [
    "plot_posterior(trace, varnames=['difference'])"
   ]
  },
  {
   "cell_type": "markdown",
   "metadata": {},
   "source": [
    "## Covariate model specification\n",
    "\n",
    "Student test scores were modeled across five domains: receptive language, expressive \n",
    "language, articulation, receptive vocabulary, and expressive vocabulary. Each domain was modeled separately, using the same general model structure, a Bayesian hierarchical mixed-effects linear model.\n",
    "\n",
    "Consistent with the goals of the analysis, namely evaluating speech and language outcomes at 4 years of age, the subset of the dataset analyzed was restricted to children between the ages 48 and 60 months at the time of testing. Due to this age restriction, most students in the dataset contributed only one test score to the analysis, but several individuals (on the order of 100-200, depending on the test) contributed two or more. Rather than address the repeated measures (and resulting lack of independence) statistically, the mean test score was used for each student with more than one reported score within each domain.\n",
    "\n",
    "Eight potential predictor variables (covariates) were included in the model as fixed effects, based on a priori expert opinion that considered them to be possibly influential for predicting test scores, and on the presence of reasonable variation in the predictor variable across subjects; variables that had identical values over a large portion of subjects were excluded. The final subset of covariates included gender, family involvement index, number of siblings in household, degree of hearing loss, mother’s education, age of enrollment, and time in the program. The family involvement scale is a 5-category ordinal variable that ranges from ideal participation by family (0) to limited participation (4) (Moeller, 2000). Mother’s education was coded as a binary variable that identifie children whose mother ha at least a high school diploma as the highest level of completed education. The degree of hearing loss was coded as a binary variable that took the value 1 if the degree of loss (based on PTA or ABR results) was less than 6 (profound), resulting in a variable that indicate non-profound hearing loss. Since degree of loss was considered important a priori, we wished to include it in the model, but the lack of variation among non-profound scores (<6) necessitated recoding into fewer categories. These variables were included together in a multivariate mixed effects model so that the estimates of each covariate effect re adjusted for the effects of the others. For example, the effect of decreased family involvement s the estimated effect after taking into account the other variables in the model.\n",
    "\n",
    "In addition to the fixed effects specified above, we included a random effect to account for the variation in test scores among schools, over and above the variation explained by our variables of interest. This random effect estimates the mean and variance of the population of schools comprising this multi-center study. Hence, the predicted score for any particular student is a combination of the fixed effect predictors and the random effect from his or her school. The residual variation from the model is assumed to be normally distributed. \n",
    "\n",
    "The LSL-DR dataset includes several covariates of interest that have observations missing for some records. In order to avoid conducting complete case analysis, we imputed missing values using Bayesian statistical methods, which allows us to use all available data in our model (REF). We included covariates where one third were missing for the subset of data corresponding to a particular test. Missing values were imputed in the model by constructing distributions of values based on the non-missing values, and sampling from this distribution at every iteration of the Markov Chain Monte Carlo (MCMC) sampling procedure used to estimate the model. This approach assumes that covariate values are \n",
    "missing completely at random (MCAR). As an ad hoc measure for checking for obvious violations of this assumption, we calculated mean values for other variables according to whether each covariate was missing; if means differed strongly according to missingness, this would suggest that missingness may not be completely at random.\n",
    "\n",
    "All models were estimated using Markov chain Monte Carlo (Brooks et al. 2011) methods. We specified vague priors to all unknown model parameters. Specifically, standard deviations of the random effects and the sampling distribution were given half-Cauchy priors with scale parameter set to 1, covariates were specified with zero-mean Gaussian priors with standard deviation 100, and the overall mean score also as Gaussian, but with a mean value of 100. Each model was run for 5000 iterations using the PyMC 3.5 software package (Salvatier et al. 2016), with 4000 iterations conservatively discarded as the burn-in interval, leaving 1000 for inference. Model convergence was checked by running a second MCMC chain, and calculating the Gelman-Rubin statistic (Gelman and Rubin 1992) using both chains. Model goodness-of-fit was evaluated using posterior predictive checks, by simulating mean outcome differences from the model and comparing the distribution of simulated differences to the observed mean difference. "
   ]
  },
  {
   "cell_type": "markdown",
   "metadata": {},
   "source": [
    "Utility function for filling NA values"
   ]
  },
  {
   "cell_type": "code",
   "execution_count": 41,
   "metadata": {},
   "outputs": [
    {
     "data": {
      "text/plain": [
       "masked_array(data=[0.4, --, 5.0],\n",
       "             mask=[False,  True, False],\n",
       "       fill_value=0.5)"
      ]
     },
     "execution_count": 41,
     "metadata": {},
     "output_type": "execute_result"
    }
   ],
   "source": [
    "def fillna(x, value):\n",
    "    x_masked = np.ma.masked_invalid(x)\n",
    "    np.ma.set_fill_value(x_masked, value)\n",
    "    return x_masked\n",
    "\n",
    "fillna(np.array([0.4, np.nan, 5]), 0.5)"
   ]
  },
  {
   "cell_type": "markdown",
   "metadata": {},
   "source": [
    "Age of amplification appears to be a mixture, so I will impute it as such"
   ]
  },
  {
   "cell_type": "code",
   "execution_count": 42,
   "metadata": {},
   "outputs": [
    {
     "data": {
      "text/plain": [
       "<matplotlib.axes._subplots.AxesSubplot at 0x7ff3eecbbef0>"
      ]
     },
     "execution_count": 42,
     "metadata": {},
     "output_type": "execute_result"
    },
    {
     "data": {
      "image/png": "[encoded data removed]",
      "text/plain": [
       "<Figure size 432x288 with 1 Axes>"
      ]
     },
     "metadata": {
      "needs_background": "light"
     },
     "output_type": "display_data"
    }
   ],
   "source": [
    "np.log(analysis_subset.age_amp+0.1).hist(bins=20)"
   ]
  },
  {
   "cell_type": "code",
   "execution_count": 48,
   "metadata": {},
   "outputs": [],
   "source": [
    "from pymc3 import Bernoulli, Normal, Uniform, Dirichlet, Categorical, Beta, HalfCauchy\n",
    "from pymc3 import Gamma, Exponential, Multinomial, HalfNormal, NormalMixture, Lognormal\n",
    "from pymc3 import Model, Deterministic, Metropolis\n",
    "from numpy.ma import masked_values, set_fill_value, masked_invalid\n",
    "import theano.tensor as tt\n",
    "from theano import shared\n",
    "\n",
    "def generate_model(dataset, intervention=False):\n",
    "    \n",
    "    mask = (dataset.age_test>=36) & (dataset.age_test<72)\n",
    "    \n",
    "    # Generate mean scores\n",
    "    mean_scores = dataset[mask].groupby('student_idx').score.mean()\n",
    "    dataset_unique = dataset[mask].drop_duplicates(subset='student_idx')\n",
    "    dataset_unique.set_index('student_idx').drop('score', axis=1).join(mean_scores)\n",
    "    assert not dataset_unique.score.isnull().sum()\n",
    "    \n",
    "    (male, sib, family_inv, race, school, one_or_both_parent_hl, premature, autism, time, \n",
    "             non_severe, mother_college, age_amp,\n",
    "             age_enroll, age_int, score) = dataset_unique[['male', 'sib','family_inv', 'race', 'school_idx', \n",
    "                                                  'one_or_both_parent_hl', 'premature', 'autism',\n",
    "                                                    'time', 'deg_hl_below6', 'mother_college', 'age_amp',\n",
    "                                                    'age_years', 'age_int', 'score']].astype(float).T.values\n",
    "\n",
    "    # Transform some data\n",
    "    age_enroll_std = age_enroll - age_enroll.mean()\n",
    "\n",
    "    with Model() as model:\n",
    "        \n",
    "        # Imputation of age of amplification\n",
    "        if np.isnan(age_amp).sum():\n",
    "            m_age_amp = Normal(\"m_age_amp\", 0, sd=5, shape=2)\n",
    "            s_age_amp = Exponential(\"s_age_amp\", 1)\n",
    "            p_age_amp = Beta('p_age_amp', 1, 1)\n",
    "            _x_age_amp = NormalMixture('x_age_amp', [p_age_amp, 1-p_age_amp], m_age_amp, sd=s_age_amp,\n",
    "                                    observed=masked_invalid(np.log(age_amp+0.1)))\n",
    "            x_age_amp = (tt.exp(_x_age_amp) - 0.1) / 12\n",
    "        else:\n",
    "            x_age_amp = age_amp / 12\n",
    "        \n",
    "        # Imputation of family involvement\n",
    "        if np.isnan(family_inv).sum():\n",
    "            p_family_inv = Dirichlet(\"p_family_inv\", np.ones(5))\n",
    "            x_family_inv = Categorical('x_family_inv', p_family_inv, \n",
    "                                       observed=masked_invalid(family_inv))\n",
    "        else:\n",
    "            x_family_inv = family_inv\n",
    "        \n",
    "        # Age of intervention\n",
    "        if intervention and np.isnan(age_int).sum():\n",
    "            m_int = Normal('m_int', 2, sd=5)\n",
    "            s_int = HalfNormal('s_int', sd=5)\n",
    "            x_age_int = Lognormal('x_premature', m_int, sd=s_int, observed=masked_invalid(age_int))\n",
    "        else:\n",
    "            x_age_int = age_int\n",
    "\n",
    "        # Imputation of hearing loss\n",
    "        if np.isnan(non_severe).sum():\n",
    "            p_hl = Beta(\"p_hl\", 1, 1, testval=0.9)\n",
    "            x_hl = Bernoulli('x_hl', p_hl, observed=masked_invalid(non_severe))\n",
    "        else:\n",
    "            x_hl = non_severe\n",
    "            \n",
    "        # Imputation of parent hearing loss\n",
    "        if np.isnan(one_or_both_parent_hl).sum():\n",
    "            p_phl = Beta(\"p_phl\", 1, 1)\n",
    "            x_phl = Bernoulli('x_phl', p_phl, observed=masked_invalid(one_or_both_parent_hl))\n",
    "        else:\n",
    "            x_phl = one_or_both_parent_hl\n",
    "\n",
    "        # Imputation of siblings\n",
    "        if np.isnan(sib).sum():\n",
    "            n_sib_cats = len(dataset.sib.unique())\n",
    "            p_sib = Dirichlet(\"p_sib\", np.ones(n_sib_cats))\n",
    "            x_sib = Categorical('x_sib', p_sib, observed=masked_invalid(sib))\n",
    "        else:\n",
    "            x_sib = sib\n",
    "            \n",
    "        # Indices to school random effects\n",
    "        unique_schools = np.unique(school)\n",
    "        school_index = [list(unique_schools).index(s) for s in school]\n",
    "\n",
    "        # School random effect (non-centered parameterization)\n",
    "        μ_school = Normal('μ_school', 90, sd=10)\n",
    "        σ_school = Exponential(\"σ_school\", 1)\n",
    "        z_school = Normal('z_school', mu=0, sd=1, shape=len(unique_schools))\n",
    "        α_school = Deterministic(\"α_school\", μ_school + z_school*σ_school)\n",
    "        \n",
    "        # Random intercepts\n",
    "        intercept = α_school[school_index]\n",
    "        \n",
    "        # Race effect\n",
    "        β_race = Normal(\"β_race\", 0, sd=10, shape=4)\n",
    "        race_effect = tt.concatenate([[0], β_race])[race.astype(int)]\n",
    "        \n",
    "        # Covariates\n",
    "        X = [x_age_amp, \n",
    "             x_family_inv,\n",
    "             x_sib, \n",
    "             x_hl, \n",
    "             mother_college, \n",
    "             x_phl, \n",
    "             age_enroll_std, \n",
    "             time,\n",
    "             autism]\n",
    "        \n",
    "        if intervention:\n",
    "            X += [x_age_int]\n",
    "\n",
    "        # Fixed effects\n",
    "        β = Normal(\"β\", 0, sd=100, shape=len(X))\n",
    "        θ = intercept + race_effect + β.dot(tt.stack(X))\n",
    "    \n",
    "        σ = HalfNormal(\"σ\", sd=25, testval=100)\n",
    "        score_like = Normal(\"score_like\", mu=θ, sd=σ, observed=score)\n",
    "\n",
    "    return model"
   ]
  },
  {
   "cell_type": "code",
   "execution_count": 49,
   "metadata": {},
   "outputs": [],
   "source": [
    "receptive_language_dataset = analysis_subset[(analysis_subset.domain=='Receptive Language')]"
   ]
  },
  {
   "cell_type": "code",
   "execution_count": 50,
   "metadata": {},
   "outputs": [
    {
     "name": "stderr",
     "output_type": "stream",
     "text": [
      "/home/fonnesbeck_gmail_com/anaconda3/lib/python3.7/site-packages/pymc3/model.py:1277: UserWarning: Data in x_age_amp contains missing values and will be automatically imputed from the sampling distribution.\n",
      "  warnings.warn(impute_message, UserWarning)\n",
      "/home/fonnesbeck_gmail_com/anaconda3/lib/python3.7/site-packages/pymc3/model.py:1277: UserWarning: Data in x_family_inv contains missing values and will be automatically imputed from the sampling distribution.\n",
      "  warnings.warn(impute_message, UserWarning)\n",
      "/home/fonnesbeck_gmail_com/anaconda3/lib/python3.7/site-packages/pymc3/model.py:1277: UserWarning: Data in x_hl contains missing values and will be automatically imputed from the sampling distribution.\n",
      "  warnings.warn(impute_message, UserWarning)\n",
      "/home/fonnesbeck_gmail_com/anaconda3/lib/python3.7/site-packages/pymc3/model.py:1277: UserWarning: Data in x_phl contains missing values and will be automatically imputed from the sampling distribution.\n",
      "  warnings.warn(impute_message, UserWarning)\n",
      "/home/fonnesbeck_gmail_com/anaconda3/lib/python3.7/site-packages/pymc3/model.py:1277: UserWarning: Data in x_sib contains missing values and will be automatically imputed from the sampling distribution.\n",
      "  warnings.warn(impute_message, UserWarning)\n"
     ]
    }
   ],
   "source": [
    "receptive_language = generate_model(receptive_language_dataset)"
   ]
  },
  {
   "cell_type": "code",
   "execution_count": null,
   "metadata": {},
   "outputs": [],
   "source": [
    "iterations = 1000\n",
    "tuning = 4000"
   ]
  },
  {
   "cell_type": "code",
   "execution_count": null,
   "metadata": {},
   "outputs": [
    {
     "name": "stderr",
     "output_type": "stream",
     "text": [
      "Multiprocess sampling (2 chains in 2 jobs)\n",
      "CompoundStep\n",
      ">NUTS: [σ, β, β_race, z_school, σ_school, μ_school, p_sib, p_phl, p_hl, p_family_inv, x_age_amp_missing, p_age_amp, s_age_amp, m_age_amp]\n",
      ">CategoricalGibbsMetropolis: [x_sib_missing, x_family_inv_missing]\n",
      ">BinaryGibbsMetropolis: [x_hl_missing, x_phl_missing]\n",
      "Sampling 2 chains:  11%|█         | 1096/10000 [10:01<1:15:01,  1.98draws/s]"
     ]
    }
   ],
   "source": [
    "from pymc3 import sample\n",
    "\n",
    "with receptive_language:\n",
    "    \n",
    "    rec_lang_trace = sample(iterations, \n",
    "                              tune=tuning, chains=2, cores=2)"
   ]
  },
  {
   "cell_type": "code",
   "execution_count": 54,
   "metadata": {},
   "outputs": [],
   "source": [
    "labels = [#'Premature',           \n",
    "          'Age at amplification',\n",
    "          'Family Involvement Score', \n",
    "          'Sibling Count',\n",
    "          'Non-profound Hearing Loss',\n",
    "          'Mother with College Ed',\n",
    "          'Parent with hearing loss',\n",
    "          'Age at enrollment',\n",
    "          'Years in program',\n",
    "          'Autism']"
   ]
  },
  {
   "cell_type": "code",
   "execution_count": 55,
   "metadata": {},
   "outputs": [],
   "source": [
    "from pymc3 import traceplot, forestplot"
   ]
  },
  {
   "cell_type": "code",
   "execution_count": 56,
   "metadata": {},
   "outputs": [],
   "source": [
    "x_range = -10, 15"
   ]
  },
  {
   "cell_type": "code",
   "execution_count": 58,
   "metadata": {},
   "outputs": [
    {
     "data": {
      "text/plain": [
       "GridSpec(1, 1)"
      ]
     },
     "execution_count": 58,
     "metadata": {},
     "output_type": "execute_result"
    },
    {
     "data": {
      "image/png": "[encoded data removed]",
      "text/plain": [
       "<Figure size 432x288 with 1 Axes>"
      ]
     },
     "metadata": {
      "needs_background": "light"
     },
     "output_type": "display_data"
    }
   ],
   "source": [
    "forestplot(rec_lang_trace, varnames=['β'], \n",
    "           ylabels=labels, main='Receptive Language',\n",
    "          xlim=x_range, rhat=False)"
   ]
  },
  {
   "cell_type": "code",
   "execution_count": 59,
   "metadata": {},
   "outputs": [
    {
     "data": {
      "text/plain": [
       "GridSpec(1, 2, width_ratios=[3, 1])"
      ]
     },
     "execution_count": 59,
     "metadata": {},
     "output_type": "execute_result"
    },
    {
     "data": {
      "image/png": "[encoded data removed]",
      "text/plain": [
       "<Figure size 432x288 with 2 Axes>"
      ]
     },
     "metadata": {
      "needs_background": "light"
     },
     "output_type": "display_data"
    }
   ],
   "source": [
    "forestplot(rec_lang_trace, varnames=['α_school'])"
   ]
  },
  {
   "cell_type": "code",
   "execution_count": 60,
   "metadata": {},
   "outputs": [
    {
     "data": {
      "text/plain": [
       "<matplotlib.axes._subplots.AxesSubplot at 0x7ff398641860>"
      ]
     },
     "execution_count": 60,
     "metadata": {},
     "output_type": "execute_result"
    },
    {
     "data": {
      "image/png": "[encoded data removed]",
      "text/plain": [
       "<Figure size 432x288 with 1 Axes>"
      ]
     },
     "metadata": {},
     "output_type": "display_data"
    }
   ],
   "source": [
    "from pymc3 import energyplot\n",
    "\n",
    "energyplot(rec_lang_trace)"
   ]
  },
  {
   "cell_type": "code",
   "execution_count": 61,
   "metadata": {},
   "outputs": [
    {
     "data": {
      "text/plain": [
       "GridSpec(1, 2, width_ratios=[3, 1])"
      ]
     },
     "execution_count": 61,
     "metadata": {},
     "output_type": "execute_result"
    },
    {
     "data": {
      "image/png": "[encoded data removed]",
      "text/plain": [
       "<Figure size 432x288 with 2 Axes>"
      ]
     },
     "metadata": {
      "needs_background": "light"
     },
     "output_type": "display_data"
    }
   ],
   "source": [
    "forestplot(rec_lang_trace, varnames=['β_race'], \n",
    "           ylabels=['Black', 'Hispanic', 'Asian', 'Other'])"
   ]
  },
  {
   "cell_type": "markdown",
   "metadata": {},
   "source": [
    "The school random effect standard deviation is a measure of how variable scores are among schools. The estimated standard deviation is about 4 points for this domain."
   ]
  },
  {
   "cell_type": "code",
   "execution_count": 62,
   "metadata": {},
   "outputs": [
    {
     "data": {
      "image/png": "[encoded data removed]",
      "text/plain": [
       "<Figure size 864x144 with 2 Axes>"
      ]
     },
     "metadata": {
      "needs_background": "light"
     },
     "output_type": "display_data"
    }
   ],
   "source": [
    "from pymc3 import traceplot\n",
    "\n",
    "traceplot(rec_lang_trace, varnames=['σ_school']);"
   ]
  },
  {
   "cell_type": "code",
   "execution_count": 63,
   "metadata": {},
   "outputs": [
    {
     "data": {
      "text/html": [
       "<div>\n",
       "<style scoped>\n",
       "    .dataframe tbody tr th:only-of-type {\n",
       "        vertical-align: middle;\n",
       "    }\n",
       "\n",
       "    .dataframe tbody tr th {\n",
       "        vertical-align: top;\n",
       "    }\n",
       "\n",
       "    .dataframe thead th {\n",
       "        text-align: right;\n",
       "    }\n",
       "</style>\n",
       "<table border=\"1\" class=\"dataframe\">\n",
       "  <thead>\n",
       "    <tr style=\"text-align: right;\">\n",
       "      <th></th>\n",
       "      <th>mean</th>\n",
       "      <th>sd</th>\n",
       "      <th>mc_error</th>\n",
       "      <th>hpd_2.5</th>\n",
       "      <th>hpd_97.5</th>\n",
       "      <th>n_eff</th>\n",
       "      <th>Rhat</th>\n",
       "    </tr>\n",
       "  </thead>\n",
       "  <tbody>\n",
       "    <tr>\n",
       "      <th>Age at amplification</th>\n",
       "      <td>-2.008058</td>\n",
       "      <td>0.399883</td>\n",
       "      <td>0.010074</td>\n",
       "      <td>-2.764392</td>\n",
       "      <td>-1.199113</td>\n",
       "      <td>1433.722342</td>\n",
       "      <td>0.999528</td>\n",
       "    </tr>\n",
       "    <tr>\n",
       "      <th>Family Involvement Score</th>\n",
       "      <td>-4.027505</td>\n",
       "      <td>0.386846</td>\n",
       "      <td>0.010165</td>\n",
       "      <td>-4.785717</td>\n",
       "      <td>-3.271070</td>\n",
       "      <td>1429.044536</td>\n",
       "      <td>0.999506</td>\n",
       "    </tr>\n",
       "    <tr>\n",
       "      <th>Sibling Count</th>\n",
       "      <td>-0.753674</td>\n",
       "      <td>0.394183</td>\n",
       "      <td>0.009549</td>\n",
       "      <td>-1.531355</td>\n",
       "      <td>0.016737</td>\n",
       "      <td>1826.870525</td>\n",
       "      <td>1.000310</td>\n",
       "    </tr>\n",
       "    <tr>\n",
       "      <th>Non-profound Hearing Loss</th>\n",
       "      <td>9.834268</td>\n",
       "      <td>0.735527</td>\n",
       "      <td>0.017949</td>\n",
       "      <td>8.420894</td>\n",
       "      <td>11.254317</td>\n",
       "      <td>1627.678893</td>\n",
       "      <td>0.999561</td>\n",
       "    </tr>\n",
       "    <tr>\n",
       "      <th>Mother with College Ed</th>\n",
       "      <td>3.889070</td>\n",
       "      <td>0.810149</td>\n",
       "      <td>0.017345</td>\n",
       "      <td>2.370140</td>\n",
       "      <td>5.553361</td>\n",
       "      <td>1589.418782</td>\n",
       "      <td>1.000223</td>\n",
       "    </tr>\n",
       "    <tr>\n",
       "      <th>Parent with hearing loss</th>\n",
       "      <td>0.252947</td>\n",
       "      <td>1.568188</td>\n",
       "      <td>0.033705</td>\n",
       "      <td>-2.781088</td>\n",
       "      <td>3.252610</td>\n",
       "      <td>1731.569975</td>\n",
       "      <td>0.999592</td>\n",
       "    </tr>\n",
       "    <tr>\n",
       "      <th>Age at enrollment</th>\n",
       "      <td>-1.268114</td>\n",
       "      <td>0.368295</td>\n",
       "      <td>0.009151</td>\n",
       "      <td>-1.938230</td>\n",
       "      <td>-0.524266</td>\n",
       "      <td>1572.210090</td>\n",
       "      <td>0.999664</td>\n",
       "    </tr>\n",
       "    <tr>\n",
       "      <th>Years in program</th>\n",
       "      <td>1.751891</td>\n",
       "      <td>0.376345</td>\n",
       "      <td>0.009927</td>\n",
       "      <td>1.008881</td>\n",
       "      <td>2.460150</td>\n",
       "      <td>1428.729297</td>\n",
       "      <td>0.999507</td>\n",
       "    </tr>\n",
       "    <tr>\n",
       "      <th>Autism</th>\n",
       "      <td>-11.744951</td>\n",
       "      <td>6.296712</td>\n",
       "      <td>0.126144</td>\n",
       "      <td>-23.805828</td>\n",
       "      <td>1.063640</td>\n",
       "      <td>2386.737711</td>\n",
       "      <td>0.999789</td>\n",
       "    </tr>\n",
       "  </tbody>\n",
       "</table>\n",
       "</div>"
      ],
      "text/plain": [
       "                                mean        sd  mc_error    hpd_2.5  \\\n",
       "Age at amplification       -2.008058  0.399883  0.010074  -2.764392   \n",
       "Family Involvement Score   -4.027505  0.386846  0.010165  -4.785717   \n",
       "Sibling Count              -0.753674  0.394183  0.009549  -1.531355   \n",
       "Non-profound Hearing Loss   9.834268  0.735527  0.017949   8.420894   \n",
       "Mother with College Ed      3.889070  0.810149  0.017345   2.370140   \n",
       "Parent with hearing loss    0.252947  1.568188  0.033705  -2.781088   \n",
       "Age at enrollment          -1.268114  0.368295  0.009151  -1.938230   \n",
       "Years in program            1.751891  0.376345  0.009927   1.008881   \n",
       "Autism                    -11.744951  6.296712  0.126144 -23.805828   \n",
       "\n",
       "                            hpd_97.5        n_eff      Rhat  \n",
       "Age at amplification       -1.199113  1433.722342  0.999528  \n",
       "Family Involvement Score   -3.271070  1429.044536  0.999506  \n",
       "Sibling Count               0.016737  1826.870525  1.000310  \n",
       "Non-profound Hearing Loss  11.254317  1627.678893  0.999561  \n",
       "Mother with College Ed      5.553361  1589.418782  1.000223  \n",
       "Parent with hearing loss    3.252610  1731.569975  0.999592  \n",
       "Age at enrollment          -0.524266  1572.210090  0.999664  \n",
       "Years in program            2.460150  1428.729297  0.999507  \n",
       "Autism                      1.063640  2386.737711  0.999789  "
      ]
     },
     "execution_count": 63,
     "metadata": {},
     "output_type": "execute_result"
    }
   ],
   "source": [
    "from pymc3 import summary\n",
    "\n",
    "summary(rec_lang_trace, varnames=['β']).set_index(pd.Index(labels))"
   ]
  },
  {
   "cell_type": "markdown",
   "metadata": {},
   "source": [
    "## Expressive Language Model"
   ]
  },
  {
   "cell_type": "code",
   "execution_count": 39,
   "metadata": {},
   "outputs": [],
   "source": [
    "expressive_language_dataset = analysis_subset[(analysis_subset.domain=='Expressive Language')]"
   ]
  },
  {
   "cell_type": "code",
   "execution_count": 40,
   "metadata": {},
   "outputs": [
    {
     "name": "stderr",
     "output_type": "stream",
     "text": [
      "/home/fonnesbeck_gmail_com/anaconda3/lib/python3.7/site-packages/pymc3/model.py:1277: UserWarning: Data in x_age_amp contains missing values and will be automatically imputed from the sampling distribution.\n",
      "  warnings.warn(impute_message, UserWarning)\n",
      "/home/fonnesbeck_gmail_com/anaconda3/lib/python3.7/site-packages/pymc3/model.py:1277: UserWarning: Data in x_family_inv contains missing values and will be automatically imputed from the sampling distribution.\n",
      "  warnings.warn(impute_message, UserWarning)\n",
      "/home/fonnesbeck_gmail_com/anaconda3/lib/python3.7/site-packages/pymc3/model.py:1277: UserWarning: Data in x_hl contains missing values and will be automatically imputed from the sampling distribution.\n",
      "  warnings.warn(impute_message, UserWarning)\n",
      "/home/fonnesbeck_gmail_com/anaconda3/lib/python3.7/site-packages/pymc3/model.py:1277: UserWarning: Data in x_phl contains missing values and will be automatically imputed from the sampling distribution.\n",
      "  warnings.warn(impute_message, UserWarning)\n",
      "/home/fonnesbeck_gmail_com/anaconda3/lib/python3.7/site-packages/pymc3/model.py:1277: UserWarning: Data in x_sib contains missing values and will be automatically imputed from the sampling distribution.\n",
      "  warnings.warn(impute_message, UserWarning)\n"
     ]
    }
   ],
   "source": [
    "expressive_language = generate_model(expressive_language_dataset)"
   ]
  },
  {
   "cell_type": "code",
   "execution_count": 41,
   "metadata": {},
   "outputs": [
    {
     "name": "stderr",
     "output_type": "stream",
     "text": [
      "Multiprocess sampling (2 chains in 2 jobs)\n",
      "CompoundStep\n",
      ">NUTS: [σ, β, β_race, z_school, σ_school, μ_school, p_sib, p_phl, p_hl, p_family_inv, x_age_amp_missing, p_age_amp, s_age_amp, m_age_amp]\n",
      ">CategoricalGibbsMetropolis: [x_sib_missing, x_family_inv_missing]\n",
      ">BinaryGibbsMetropolis: [x_hl_missing, x_phl_missing]\n",
      "Sampling 2 chains: 100%|██████████| 10000/10000 [06:03<00:00, 27.49draws/s]\n",
      "The acceptance probability does not match the target. It is 0.9173731330689042, but should be close to 0.8. Try to increase the number of tuning steps.\n",
      "The gelman-rubin statistic is larger than 1.4 for some parameters. The sampler did not converge.\n",
      "The estimated number of effective samples is smaller than 200 for some parameters.\n"
     ]
    }
   ],
   "source": [
    "with expressive_language:\n",
    "    \n",
    "    exp_lang_trace = sample(iterations, tune=tuning, cores=2)"
   ]
  },
  {
   "cell_type": "code",
   "execution_count": 67,
   "metadata": {},
   "outputs": [
    {
     "data": {
      "text/plain": [
       "GridSpec(1, 1)"
      ]
     },
     "execution_count": 67,
     "metadata": {},
     "output_type": "execute_result"
    },
    {
     "data": {
      "image/png": "[encoded data removed]",
      "text/plain": [
       "<Figure size 432x288 with 1 Axes>"
      ]
     },
     "metadata": {
      "needs_background": "light"
     },
     "output_type": "display_data"
    }
   ],
   "source": [
    "forestplot(exp_lang_trace, varnames=['β'], \n",
    "           ylabels=labels, main='Expressive Language',\n",
    "          xlim=x_range, rhat=False)"
   ]
  },
  {
   "cell_type": "code",
   "execution_count": 43,
   "metadata": {},
   "outputs": [
    {
     "data": {
      "text/html": [
       "<div>\n",
       "<style scoped>\n",
       "    .dataframe tbody tr th:only-of-type {\n",
       "        vertical-align: middle;\n",
       "    }\n",
       "\n",
       "    .dataframe tbody tr th {\n",
       "        vertical-align: top;\n",
       "    }\n",
       "\n",
       "    .dataframe thead th {\n",
       "        text-align: right;\n",
       "    }\n",
       "</style>\n",
       "<table border=\"1\" class=\"dataframe\">\n",
       "  <thead>\n",
       "    <tr style=\"text-align: right;\">\n",
       "      <th></th>\n",
       "      <th>mean</th>\n",
       "      <th>sd</th>\n",
       "      <th>mc_error</th>\n",
       "      <th>hpd_2.5</th>\n",
       "      <th>hpd_97.5</th>\n",
       "      <th>n_eff</th>\n",
       "      <th>Rhat</th>\n",
       "    </tr>\n",
       "  </thead>\n",
       "  <tbody>\n",
       "    <tr>\n",
       "      <th>Age at amplification</th>\n",
       "      <td>-2.089951</td>\n",
       "      <td>0.951332</td>\n",
       "      <td>0.021459</td>\n",
       "      <td>-3.882028</td>\n",
       "      <td>-0.193716</td>\n",
       "      <td>1971.006064</td>\n",
       "      <td>0.999769</td>\n",
       "    </tr>\n",
       "    <tr>\n",
       "      <th>Family Involvement Score</th>\n",
       "      <td>-3.891877</td>\n",
       "      <td>0.848124</td>\n",
       "      <td>0.020849</td>\n",
       "      <td>-5.408893</td>\n",
       "      <td>-2.056173</td>\n",
       "      <td>1505.518126</td>\n",
       "      <td>0.999543</td>\n",
       "    </tr>\n",
       "    <tr>\n",
       "      <th>Sibling Count</th>\n",
       "      <td>0.023494</td>\n",
       "      <td>0.912941</td>\n",
       "      <td>0.019645</td>\n",
       "      <td>-1.947966</td>\n",
       "      <td>1.616336</td>\n",
       "      <td>2091.953680</td>\n",
       "      <td>0.999976</td>\n",
       "    </tr>\n",
       "    <tr>\n",
       "      <th>Non-profound Hearing Loss</th>\n",
       "      <td>9.152917</td>\n",
       "      <td>1.734792</td>\n",
       "      <td>0.036581</td>\n",
       "      <td>5.740769</td>\n",
       "      <td>12.389348</td>\n",
       "      <td>2017.748701</td>\n",
       "      <td>0.999552</td>\n",
       "    </tr>\n",
       "    <tr>\n",
       "      <th>Mother with College Ed</th>\n",
       "      <td>8.673959</td>\n",
       "      <td>1.789582</td>\n",
       "      <td>0.031745</td>\n",
       "      <td>5.056894</td>\n",
       "      <td>12.085366</td>\n",
       "      <td>2615.794018</td>\n",
       "      <td>0.999514</td>\n",
       "    </tr>\n",
       "    <tr>\n",
       "      <th>Parent with hearing loss</th>\n",
       "      <td>-0.206171</td>\n",
       "      <td>3.250912</td>\n",
       "      <td>0.063729</td>\n",
       "      <td>-6.948488</td>\n",
       "      <td>5.593602</td>\n",
       "      <td>2740.914475</td>\n",
       "      <td>1.000586</td>\n",
       "    </tr>\n",
       "    <tr>\n",
       "      <th>Age at enrollment</th>\n",
       "      <td>-0.300650</td>\n",
       "      <td>0.968311</td>\n",
       "      <td>0.020896</td>\n",
       "      <td>-2.137822</td>\n",
       "      <td>1.713580</td>\n",
       "      <td>1982.700610</td>\n",
       "      <td>0.999692</td>\n",
       "    </tr>\n",
       "    <tr>\n",
       "      <th>Years in program</th>\n",
       "      <td>2.257858</td>\n",
       "      <td>0.864023</td>\n",
       "      <td>0.021868</td>\n",
       "      <td>0.675904</td>\n",
       "      <td>4.087125</td>\n",
       "      <td>1534.723930</td>\n",
       "      <td>0.999700</td>\n",
       "    </tr>\n",
       "  </tbody>\n",
       "</table>\n",
       "</div>"
      ],
      "text/plain": [
       "                               mean        sd  mc_error   hpd_2.5   hpd_97.5  \\\n",
       "Age at amplification      -2.089951  0.951332  0.021459 -3.882028  -0.193716   \n",
       "Family Involvement Score  -3.891877  0.848124  0.020849 -5.408893  -2.056173   \n",
       "Sibling Count              0.023494  0.912941  0.019645 -1.947966   1.616336   \n",
       "Non-profound Hearing Loss  9.152917  1.734792  0.036581  5.740769  12.389348   \n",
       "Mother with College Ed     8.673959  1.789582  0.031745  5.056894  12.085366   \n",
       "Parent with hearing loss  -0.206171  3.250912  0.063729 -6.948488   5.593602   \n",
       "Age at enrollment         -0.300650  0.968311  0.020896 -2.137822   1.713580   \n",
       "Years in program           2.257858  0.864023  0.021868  0.675904   4.087125   \n",
       "\n",
       "                                 n_eff      Rhat  \n",
       "Age at amplification       1971.006064  0.999769  \n",
       "Family Involvement Score   1505.518126  0.999543  \n",
       "Sibling Count              2091.953680  0.999976  \n",
       "Non-profound Hearing Loss  2017.748701  0.999552  \n",
       "Mother with College Ed     2615.794018  0.999514  \n",
       "Parent with hearing loss   2740.914475  1.000586  \n",
       "Age at enrollment          1982.700610  0.999692  \n",
       "Years in program           1534.723930  0.999700  "
      ]
     },
     "execution_count": 43,
     "metadata": {},
     "output_type": "execute_result"
    }
   ],
   "source": [
    "summary(exp_lang_trace, varnames=['β']).set_index(pd.Index(labels))"
   ]
  },
  {
   "cell_type": "markdown",
   "metadata": {},
   "source": [
    "## Articulation Model"
   ]
  },
  {
   "cell_type": "code",
   "execution_count": 44,
   "metadata": {},
   "outputs": [],
   "source": [
    "articulation_dataset = analysis_subset[(analysis_subset.domain=='Articulation')]"
   ]
  },
  {
   "cell_type": "code",
   "execution_count": 45,
   "metadata": {},
   "outputs": [
    {
     "name": "stderr",
     "output_type": "stream",
     "text": [
      "/home/fonnesbeck_gmail_com/anaconda3/lib/python3.7/site-packages/pymc3/model.py:1277: UserWarning: Data in x_age_amp contains missing values and will be automatically imputed from the sampling distribution.\n",
      "  warnings.warn(impute_message, UserWarning)\n",
      "/home/fonnesbeck_gmail_com/anaconda3/lib/python3.7/site-packages/pymc3/model.py:1277: UserWarning: Data in x_family_inv contains missing values and will be automatically imputed from the sampling distribution.\n",
      "  warnings.warn(impute_message, UserWarning)\n",
      "/home/fonnesbeck_gmail_com/anaconda3/lib/python3.7/site-packages/pymc3/model.py:1277: UserWarning: Data in x_hl contains missing values and will be automatically imputed from the sampling distribution.\n",
      "  warnings.warn(impute_message, UserWarning)\n",
      "/home/fonnesbeck_gmail_com/anaconda3/lib/python3.7/site-packages/pymc3/model.py:1277: UserWarning: Data in x_phl contains missing values and will be automatically imputed from the sampling distribution.\n",
      "  warnings.warn(impute_message, UserWarning)\n",
      "/home/fonnesbeck_gmail_com/anaconda3/lib/python3.7/site-packages/pymc3/model.py:1277: UserWarning: Data in x_sib contains missing values and will be automatically imputed from the sampling distribution.\n",
      "  warnings.warn(impute_message, UserWarning)\n"
     ]
    }
   ],
   "source": [
    "articulation = generate_model(articulation_dataset)"
   ]
  },
  {
   "cell_type": "code",
   "execution_count": 46,
   "metadata": {},
   "outputs": [
    {
     "name": "stderr",
     "output_type": "stream",
     "text": [
      "Multiprocess sampling (2 chains in 2 jobs)\n",
      "CompoundStep\n",
      ">NUTS: [σ, β, β_race, z_school, σ_school, μ_school, p_sib, p_phl, p_hl, p_family_inv, x_age_amp_missing, p_age_amp, s_age_amp, m_age_amp]\n",
      ">CategoricalGibbsMetropolis: [x_sib_missing, x_family_inv_missing]\n",
      ">BinaryGibbsMetropolis: [x_hl_missing, x_phl_missing]\n",
      "Sampling 2 chains: 100%|██████████| 10000/10000 [04:45<00:00, 17.88draws/s]\n",
      "There were 61 divergences after tuning. Increase `target_accept` or reparameterize.\n",
      "There were 4 divergences after tuning. Increase `target_accept` or reparameterize.\n",
      "The estimated number of effective samples is smaller than 200 for some parameters.\n"
     ]
    }
   ],
   "source": [
    "with articulation:\n",
    "    \n",
    "    artic_trace = sample(iterations, tune=tuning, cores=2)"
   ]
  },
  {
   "cell_type": "code",
   "execution_count": 47,
   "metadata": {},
   "outputs": [
    {
     "data": {
      "text/plain": [
       "GridSpec(1, 1)"
      ]
     },
     "execution_count": 47,
     "metadata": {},
     "output_type": "execute_result"
    },
    {
     "data": {
      "image/png": "[encoded data removed]",
      "text/plain": [
       "<Figure size 432x288 with 1 Axes>"
      ]
     },
     "metadata": {
      "needs_background": "light"
     },
     "output_type": "display_data"
    }
   ],
   "source": [
    "forestplot(artic_trace, varnames=['β'], ylabels=labels, main='Articulation',\n",
    "          xlim=x_range, rhat=False)"
   ]
  },
  {
   "cell_type": "code",
   "execution_count": 48,
   "metadata": {},
   "outputs": [
    {
     "data": {
      "text/html": [
       "<div>\n",
       "<style scoped>\n",
       "    .dataframe tbody tr th:only-of-type {\n",
       "        vertical-align: middle;\n",
       "    }\n",
       "\n",
       "    .dataframe tbody tr th {\n",
       "        vertical-align: top;\n",
       "    }\n",
       "\n",
       "    .dataframe thead th {\n",
       "        text-align: right;\n",
       "    }\n",
       "</style>\n",
       "<table border=\"1\" class=\"dataframe\">\n",
       "  <thead>\n",
       "    <tr style=\"text-align: right;\">\n",
       "      <th></th>\n",
       "      <th>mean</th>\n",
       "      <th>sd</th>\n",
       "      <th>mc_error</th>\n",
       "      <th>hpd_2.5</th>\n",
       "      <th>hpd_97.5</th>\n",
       "      <th>n_eff</th>\n",
       "      <th>Rhat</th>\n",
       "    </tr>\n",
       "  </thead>\n",
       "  <tbody>\n",
       "    <tr>\n",
       "      <th>Age at amplification</th>\n",
       "      <td>-3.724678</td>\n",
       "      <td>1.335611</td>\n",
       "      <td>0.045852</td>\n",
       "      <td>-6.273456</td>\n",
       "      <td>-1.189512</td>\n",
       "      <td>389.522460</td>\n",
       "      <td>1.011898</td>\n",
       "    </tr>\n",
       "    <tr>\n",
       "      <th>Family Involvement Score</th>\n",
       "      <td>-3.380825</td>\n",
       "      <td>1.086354</td>\n",
       "      <td>0.030940</td>\n",
       "      <td>-5.349672</td>\n",
       "      <td>-1.214490</td>\n",
       "      <td>1342.112155</td>\n",
       "      <td>1.000574</td>\n",
       "    </tr>\n",
       "    <tr>\n",
       "      <th>Sibling Count</th>\n",
       "      <td>0.538797</td>\n",
       "      <td>1.187950</td>\n",
       "      <td>0.023051</td>\n",
       "      <td>-1.800936</td>\n",
       "      <td>2.848777</td>\n",
       "      <td>2350.501513</td>\n",
       "      <td>0.999564</td>\n",
       "    </tr>\n",
       "    <tr>\n",
       "      <th>Non-profound Hearing Loss</th>\n",
       "      <td>4.144043</td>\n",
       "      <td>2.296759</td>\n",
       "      <td>0.057587</td>\n",
       "      <td>-0.531835</td>\n",
       "      <td>8.350423</td>\n",
       "      <td>1532.028245</td>\n",
       "      <td>0.999663</td>\n",
       "    </tr>\n",
       "    <tr>\n",
       "      <th>Mother with College Ed</th>\n",
       "      <td>2.254605</td>\n",
       "      <td>2.373039</td>\n",
       "      <td>0.050964</td>\n",
       "      <td>-2.066266</td>\n",
       "      <td>7.219720</td>\n",
       "      <td>2016.822852</td>\n",
       "      <td>1.000466</td>\n",
       "    </tr>\n",
       "    <tr>\n",
       "      <th>Parent with hearing loss</th>\n",
       "      <td>-3.961215</td>\n",
       "      <td>4.993323</td>\n",
       "      <td>0.176740</td>\n",
       "      <td>-13.397273</td>\n",
       "      <td>5.766906</td>\n",
       "      <td>426.804437</td>\n",
       "      <td>1.000059</td>\n",
       "    </tr>\n",
       "    <tr>\n",
       "      <th>Age at enrollment</th>\n",
       "      <td>-1.035816</td>\n",
       "      <td>1.260512</td>\n",
       "      <td>0.034560</td>\n",
       "      <td>-3.439620</td>\n",
       "      <td>1.390707</td>\n",
       "      <td>1328.874014</td>\n",
       "      <td>1.002126</td>\n",
       "    </tr>\n",
       "    <tr>\n",
       "      <th>Years in program</th>\n",
       "      <td>0.730196</td>\n",
       "      <td>1.039410</td>\n",
       "      <td>0.031329</td>\n",
       "      <td>-1.315979</td>\n",
       "      <td>2.680998</td>\n",
       "      <td>924.722034</td>\n",
       "      <td>1.001385</td>\n",
       "    </tr>\n",
       "  </tbody>\n",
       "</table>\n",
       "</div>"
      ],
      "text/plain": [
       "                               mean        sd  mc_error    hpd_2.5  hpd_97.5  \\\n",
       "Age at amplification      -3.724678  1.335611  0.045852  -6.273456 -1.189512   \n",
       "Family Involvement Score  -3.380825  1.086354  0.030940  -5.349672 -1.214490   \n",
       "Sibling Count              0.538797  1.187950  0.023051  -1.800936  2.848777   \n",
       "Non-profound Hearing Loss  4.144043  2.296759  0.057587  -0.531835  8.350423   \n",
       "Mother with College Ed     2.254605  2.373039  0.050964  -2.066266  7.219720   \n",
       "Parent with hearing loss  -3.961215  4.993323  0.176740 -13.397273  5.766906   \n",
       "Age at enrollment         -1.035816  1.260512  0.034560  -3.439620  1.390707   \n",
       "Years in program           0.730196  1.039410  0.031329  -1.315979  2.680998   \n",
       "\n",
       "                                 n_eff      Rhat  \n",
       "Age at amplification        389.522460  1.011898  \n",
       "Family Involvement Score   1342.112155  1.000574  \n",
       "Sibling Count              2350.501513  0.999564  \n",
       "Non-profound Hearing Loss  1532.028245  0.999663  \n",
       "Mother with College Ed     2016.822852  1.000466  \n",
       "Parent with hearing loss    426.804437  1.000059  \n",
       "Age at enrollment          1328.874014  1.002126  \n",
       "Years in program            924.722034  1.001385  "
      ]
     },
     "execution_count": 48,
     "metadata": {},
     "output_type": "execute_result"
    }
   ],
   "source": [
    "summary(artic_trace, varnames=['β']).set_index(pd.Index(labels))"
   ]
  },
  {
   "cell_type": "markdown",
   "metadata": {},
   "source": [
    "## Expressive Vocabulary Model"
   ]
  },
  {
   "cell_type": "code",
   "execution_count": 49,
   "metadata": {},
   "outputs": [],
   "source": [
    "expressive_vocab_dataset = analysis_subset[(analysis_subset.domain=='Expressive Vocabulary')]"
   ]
  },
  {
   "cell_type": "code",
   "execution_count": 50,
   "metadata": {},
   "outputs": [
    {
     "name": "stderr",
     "output_type": "stream",
     "text": [
      "/home/fonnesbeck_gmail_com/anaconda3/lib/python3.7/site-packages/pymc3/model.py:1277: UserWarning: Data in x_age_amp contains missing values and will be automatically imputed from the sampling distribution.\n",
      "  warnings.warn(impute_message, UserWarning)\n",
      "/home/fonnesbeck_gmail_com/anaconda3/lib/python3.7/site-packages/pymc3/model.py:1277: UserWarning: Data in x_family_inv contains missing values and will be automatically imputed from the sampling distribution.\n",
      "  warnings.warn(impute_message, UserWarning)\n",
      "/home/fonnesbeck_gmail_com/anaconda3/lib/python3.7/site-packages/pymc3/model.py:1277: UserWarning: Data in x_hl contains missing values and will be automatically imputed from the sampling distribution.\n",
      "  warnings.warn(impute_message, UserWarning)\n",
      "/home/fonnesbeck_gmail_com/anaconda3/lib/python3.7/site-packages/pymc3/model.py:1277: UserWarning: Data in x_phl contains missing values and will be automatically imputed from the sampling distribution.\n",
      "  warnings.warn(impute_message, UserWarning)\n",
      "/home/fonnesbeck_gmail_com/anaconda3/lib/python3.7/site-packages/pymc3/model.py:1277: UserWarning: Data in x_sib contains missing values and will be automatically imputed from the sampling distribution.\n",
      "  warnings.warn(impute_message, UserWarning)\n"
     ]
    }
   ],
   "source": [
    "expressive_vocab = generate_model(expressive_vocab_dataset)"
   ]
  },
  {
   "cell_type": "code",
   "execution_count": 51,
   "metadata": {},
   "outputs": [
    {
     "name": "stderr",
     "output_type": "stream",
     "text": [
      "Multiprocess sampling (2 chains in 2 jobs)\n",
      "CompoundStep\n",
      ">NUTS: [σ, β, β_race, z_school, σ_school, μ_school, p_sib, p_phl, p_hl, p_family_inv, x_age_amp_missing, p_age_amp, s_age_amp, m_age_amp]\n",
      ">CategoricalGibbsMetropolis: [x_sib_missing, x_family_inv_missing]\n",
      ">BinaryGibbsMetropolis: [x_hl_missing, x_phl_missing]\n",
      "Sampling 2 chains: 100%|██████████| 10000/10000 [06:00<00:00, 20.10draws/s]\n",
      "The number of effective samples is smaller than 25% for some parameters.\n"
     ]
    }
   ],
   "source": [
    "with expressive_vocab:\n",
    "    \n",
    "    expressive_vocab_trace = sample(iterations, tune=tuning, cores=2)"
   ]
  },
  {
   "cell_type": "code",
   "execution_count": 52,
   "metadata": {},
   "outputs": [
    {
     "data": {
      "text/plain": [
       "GridSpec(1, 1)"
      ]
     },
     "execution_count": 52,
     "metadata": {},
     "output_type": "execute_result"
    },
    {
     "data": {
      "image/png": "[encoded data removed]",
      "text/plain": [
       "<Figure size 432x288 with 1 Axes>"
      ]
     },
     "metadata": {
      "needs_background": "light"
     },
     "output_type": "display_data"
    }
   ],
   "source": [
    "forestplot(expressive_vocab_trace, varnames=['β'], \n",
    "           ylabels=labels, main='Expressive Vocabulary', \n",
    "           xlim=x_range, rhat=False)"
   ]
  },
  {
   "cell_type": "code",
   "execution_count": 53,
   "metadata": {},
   "outputs": [
    {
     "data": {
      "text/html": [
       "<div>\n",
       "<style scoped>\n",
       "    .dataframe tbody tr th:only-of-type {\n",
       "        vertical-align: middle;\n",
       "    }\n",
       "\n",
       "    .dataframe tbody tr th {\n",
       "        vertical-align: top;\n",
       "    }\n",
       "\n",
       "    .dataframe thead th {\n",
       "        text-align: right;\n",
       "    }\n",
       "</style>\n",
       "<table border=\"1\" class=\"dataframe\">\n",
       "  <thead>\n",
       "    <tr style=\"text-align: right;\">\n",
       "      <th></th>\n",
       "      <th>mean</th>\n",
       "      <th>sd</th>\n",
       "      <th>mc_error</th>\n",
       "      <th>hpd_2.5</th>\n",
       "      <th>hpd_97.5</th>\n",
       "      <th>n_eff</th>\n",
       "      <th>Rhat</th>\n",
       "    </tr>\n",
       "  </thead>\n",
       "  <tbody>\n",
       "    <tr>\n",
       "      <th>Age at amplification</th>\n",
       "      <td>-1.267792</td>\n",
       "      <td>1.099431</td>\n",
       "      <td>0.031490</td>\n",
       "      <td>-3.401828</td>\n",
       "      <td>0.863522</td>\n",
       "      <td>1225.377582</td>\n",
       "      <td>0.999941</td>\n",
       "    </tr>\n",
       "    <tr>\n",
       "      <th>Family Involvement Score</th>\n",
       "      <td>-4.682235</td>\n",
       "      <td>0.951835</td>\n",
       "      <td>0.020889</td>\n",
       "      <td>-6.569624</td>\n",
       "      <td>-2.828435</td>\n",
       "      <td>2103.326819</td>\n",
       "      <td>0.999609</td>\n",
       "    </tr>\n",
       "    <tr>\n",
       "      <th>Sibling Count</th>\n",
       "      <td>-1.173350</td>\n",
       "      <td>1.041972</td>\n",
       "      <td>0.023862</td>\n",
       "      <td>-3.163664</td>\n",
       "      <td>0.950582</td>\n",
       "      <td>1784.015849</td>\n",
       "      <td>1.002178</td>\n",
       "    </tr>\n",
       "    <tr>\n",
       "      <th>Non-profound Hearing Loss</th>\n",
       "      <td>6.090142</td>\n",
       "      <td>1.882575</td>\n",
       "      <td>0.038922</td>\n",
       "      <td>2.438435</td>\n",
       "      <td>9.743217</td>\n",
       "      <td>2038.674515</td>\n",
       "      <td>1.000470</td>\n",
       "    </tr>\n",
       "    <tr>\n",
       "      <th>Mother with College Ed</th>\n",
       "      <td>5.380748</td>\n",
       "      <td>1.963332</td>\n",
       "      <td>0.042723</td>\n",
       "      <td>1.618893</td>\n",
       "      <td>9.212419</td>\n",
       "      <td>1722.527143</td>\n",
       "      <td>0.999848</td>\n",
       "    </tr>\n",
       "    <tr>\n",
       "      <th>Parent with hearing loss</th>\n",
       "      <td>-1.530517</td>\n",
       "      <td>3.869076</td>\n",
       "      <td>0.091078</td>\n",
       "      <td>-9.245256</td>\n",
       "      <td>5.862678</td>\n",
       "      <td>1699.636469</td>\n",
       "      <td>0.999508</td>\n",
       "    </tr>\n",
       "    <tr>\n",
       "      <th>Age at enrollment</th>\n",
       "      <td>-0.085340</td>\n",
       "      <td>1.108217</td>\n",
       "      <td>0.029041</td>\n",
       "      <td>-2.304451</td>\n",
       "      <td>2.085561</td>\n",
       "      <td>1527.743989</td>\n",
       "      <td>0.999780</td>\n",
       "    </tr>\n",
       "    <tr>\n",
       "      <th>Years in program</th>\n",
       "      <td>2.235837</td>\n",
       "      <td>1.032812</td>\n",
       "      <td>0.027802</td>\n",
       "      <td>0.319197</td>\n",
       "      <td>4.404095</td>\n",
       "      <td>1272.112836</td>\n",
       "      <td>1.002167</td>\n",
       "    </tr>\n",
       "  </tbody>\n",
       "</table>\n",
       "</div>"
      ],
      "text/plain": [
       "                               mean        sd  mc_error   hpd_2.5  hpd_97.5  \\\n",
       "Age at amplification      -1.267792  1.099431  0.031490 -3.401828  0.863522   \n",
       "Family Involvement Score  -4.682235  0.951835  0.020889 -6.569624 -2.828435   \n",
       "Sibling Count             -1.173350  1.041972  0.023862 -3.163664  0.950582   \n",
       "Non-profound Hearing Loss  6.090142  1.882575  0.038922  2.438435  9.743217   \n",
       "Mother with College Ed     5.380748  1.963332  0.042723  1.618893  9.212419   \n",
       "Parent with hearing loss  -1.530517  3.869076  0.091078 -9.245256  5.862678   \n",
       "Age at enrollment         -0.085340  1.108217  0.029041 -2.304451  2.085561   \n",
       "Years in program           2.235837  1.032812  0.027802  0.319197  4.404095   \n",
       "\n",
       "                                 n_eff      Rhat  \n",
       "Age at amplification       1225.377582  0.999941  \n",
       "Family Involvement Score   2103.326819  0.999609  \n",
       "Sibling Count              1784.015849  1.002178  \n",
       "Non-profound Hearing Loss  2038.674515  1.000470  \n",
       "Mother with College Ed     1722.527143  0.999848  \n",
       "Parent with hearing loss   1699.636469  0.999508  \n",
       "Age at enrollment          1527.743989  0.999780  \n",
       "Years in program           1272.112836  1.002167  "
      ]
     },
     "execution_count": 53,
     "metadata": {},
     "output_type": "execute_result"
    }
   ],
   "source": [
    "summary(expressive_vocab_trace, varnames=['β']).set_index(pd.Index(labels))"
   ]
  },
  {
   "cell_type": "markdown",
   "metadata": {},
   "source": [
    "## Receptive Vocabulary Model"
   ]
  },
  {
   "cell_type": "code",
   "execution_count": 54,
   "metadata": {},
   "outputs": [],
   "source": [
    "receptive_vocab_dataset = analysis_subset[(analysis_subset.domain=='Receptive Vocabulary')]"
   ]
  },
  {
   "cell_type": "code",
   "execution_count": 55,
   "metadata": {},
   "outputs": [
    {
     "name": "stderr",
     "output_type": "stream",
     "text": [
      "/home/fonnesbeck_gmail_com/anaconda3/lib/python3.7/site-packages/pymc3/model.py:1277: UserWarning: Data in x_age_amp contains missing values and will be automatically imputed from the sampling distribution.\n",
      "  warnings.warn(impute_message, UserWarning)\n",
      "/home/fonnesbeck_gmail_com/anaconda3/lib/python3.7/site-packages/pymc3/model.py:1277: UserWarning: Data in x_family_inv contains missing values and will be automatically imputed from the sampling distribution.\n",
      "  warnings.warn(impute_message, UserWarning)\n",
      "/home/fonnesbeck_gmail_com/anaconda3/lib/python3.7/site-packages/pymc3/model.py:1277: UserWarning: Data in x_hl contains missing values and will be automatically imputed from the sampling distribution.\n",
      "  warnings.warn(impute_message, UserWarning)\n",
      "/home/fonnesbeck_gmail_com/anaconda3/lib/python3.7/site-packages/pymc3/model.py:1277: UserWarning: Data in x_phl contains missing values and will be automatically imputed from the sampling distribution.\n",
      "  warnings.warn(impute_message, UserWarning)\n",
      "/home/fonnesbeck_gmail_com/anaconda3/lib/python3.7/site-packages/pymc3/model.py:1277: UserWarning: Data in x_sib contains missing values and will be automatically imputed from the sampling distribution.\n",
      "  warnings.warn(impute_message, UserWarning)\n"
     ]
    }
   ],
   "source": [
    "receptive_vocab = generate_model(receptive_vocab_dataset)"
   ]
  },
  {
   "cell_type": "code",
   "execution_count": 56,
   "metadata": {},
   "outputs": [
    {
     "name": "stderr",
     "output_type": "stream",
     "text": [
      "Multiprocess sampling (2 chains in 2 jobs)\n",
      "CompoundStep\n",
      ">NUTS: [σ, β, β_race, z_school, σ_school, μ_school, p_sib, p_phl, p_hl, p_family_inv, x_age_amp_missing, p_age_amp, s_age_amp, m_age_amp]\n",
      ">CategoricalGibbsMetropolis: [x_sib_missing, x_family_inv_missing]\n",
      ">BinaryGibbsMetropolis: [x_hl_missing, x_phl_missing]\n",
      "Sampling 2 chains: 100%|██████████| 10000/10000 [06:42<00:00, 24.82draws/s]\n",
      "The gelman-rubin statistic is larger than 1.4 for some parameters. The sampler did not converge.\n",
      "The estimated number of effective samples is smaller than 200 for some parameters.\n"
     ]
    }
   ],
   "source": [
    "with receptive_vocab:\n",
    "    \n",
    "    receptive_vocab_trace = sample(iterations, tune=tuning, cores=2)"
   ]
  },
  {
   "cell_type": "code",
   "execution_count": 57,
   "metadata": {},
   "outputs": [
    {
     "data": {
      "text/plain": [
       "GridSpec(1, 1)"
      ]
     },
     "execution_count": 57,
     "metadata": {},
     "output_type": "execute_result"
    },
    {
     "data": {
      "image/png": "[encoded data removed]",
      "text/plain": [
       "<Figure size 432x288 with 1 Axes>"
      ]
     },
     "metadata": {
      "needs_background": "light"
     },
     "output_type": "display_data"
    }
   ],
   "source": [
    "forestplot(receptive_vocab_trace, varnames=['β'], \n",
    "           ylabels=labels, main='Receptive Vocabulary', \n",
    "           xlim=x_range, rhat=False)"
   ]
  },
  {
   "cell_type": "code",
   "execution_count": 58,
   "metadata": {},
   "outputs": [
    {
     "data": {
      "text/html": [
       "<div>\n",
       "<style scoped>\n",
       "    .dataframe tbody tr th:only-of-type {\n",
       "        vertical-align: middle;\n",
       "    }\n",
       "\n",
       "    .dataframe tbody tr th {\n",
       "        vertical-align: top;\n",
       "    }\n",
       "\n",
       "    .dataframe thead th {\n",
       "        text-align: right;\n",
       "    }\n",
       "</style>\n",
       "<table border=\"1\" class=\"dataframe\">\n",
       "  <thead>\n",
       "    <tr style=\"text-align: right;\">\n",
       "      <th></th>\n",
       "      <th>mean</th>\n",
       "      <th>sd</th>\n",
       "      <th>mc_error</th>\n",
       "      <th>hpd_2.5</th>\n",
       "      <th>hpd_97.5</th>\n",
       "      <th>n_eff</th>\n",
       "      <th>Rhat</th>\n",
       "    </tr>\n",
       "  </thead>\n",
       "  <tbody>\n",
       "    <tr>\n",
       "      <th>Age at amplification</th>\n",
       "      <td>-2.034190</td>\n",
       "      <td>1.012280</td>\n",
       "      <td>0.031917</td>\n",
       "      <td>-4.071911</td>\n",
       "      <td>-0.157543</td>\n",
       "      <td>866.748894</td>\n",
       "      <td>1.000306</td>\n",
       "    </tr>\n",
       "    <tr>\n",
       "      <th>Family Involvement Score</th>\n",
       "      <td>-3.315564</td>\n",
       "      <td>0.850157</td>\n",
       "      <td>0.023663</td>\n",
       "      <td>-4.866829</td>\n",
       "      <td>-1.542669</td>\n",
       "      <td>1150.035558</td>\n",
       "      <td>1.000735</td>\n",
       "    </tr>\n",
       "    <tr>\n",
       "      <th>Sibling Count</th>\n",
       "      <td>-1.472935</td>\n",
       "      <td>0.923204</td>\n",
       "      <td>0.026467</td>\n",
       "      <td>-3.151213</td>\n",
       "      <td>0.422800</td>\n",
       "      <td>1263.550453</td>\n",
       "      <td>0.999908</td>\n",
       "    </tr>\n",
       "    <tr>\n",
       "      <th>Non-profound Hearing Loss</th>\n",
       "      <td>6.746209</td>\n",
       "      <td>1.732154</td>\n",
       "      <td>0.045685</td>\n",
       "      <td>3.288854</td>\n",
       "      <td>9.955758</td>\n",
       "      <td>1247.103864</td>\n",
       "      <td>1.000138</td>\n",
       "    </tr>\n",
       "    <tr>\n",
       "      <th>Mother with College Ed</th>\n",
       "      <td>8.297593</td>\n",
       "      <td>1.844417</td>\n",
       "      <td>0.063480</td>\n",
       "      <td>4.835478</td>\n",
       "      <td>12.002075</td>\n",
       "      <td>922.538466</td>\n",
       "      <td>1.000357</td>\n",
       "    </tr>\n",
       "    <tr>\n",
       "      <th>Parent with hearing loss</th>\n",
       "      <td>0.239565</td>\n",
       "      <td>3.395919</td>\n",
       "      <td>0.086130</td>\n",
       "      <td>-6.116467</td>\n",
       "      <td>7.233392</td>\n",
       "      <td>1492.063507</td>\n",
       "      <td>0.999558</td>\n",
       "    </tr>\n",
       "    <tr>\n",
       "      <th>Age at enrollment</th>\n",
       "      <td>0.080666</td>\n",
       "      <td>0.967465</td>\n",
       "      <td>0.030108</td>\n",
       "      <td>-1.865344</td>\n",
       "      <td>1.899191</td>\n",
       "      <td>838.073093</td>\n",
       "      <td>0.999613</td>\n",
       "    </tr>\n",
       "    <tr>\n",
       "      <th>Years in program</th>\n",
       "      <td>1.714894</td>\n",
       "      <td>0.908527</td>\n",
       "      <td>0.033629</td>\n",
       "      <td>-0.065277</td>\n",
       "      <td>3.448008</td>\n",
       "      <td>637.445076</td>\n",
       "      <td>0.999591</td>\n",
       "    </tr>\n",
       "  </tbody>\n",
       "</table>\n",
       "</div>"
      ],
      "text/plain": [
       "                               mean        sd  mc_error   hpd_2.5   hpd_97.5  \\\n",
       "Age at amplification      -2.034190  1.012280  0.031917 -4.071911  -0.157543   \n",
       "Family Involvement Score  -3.315564  0.850157  0.023663 -4.866829  -1.542669   \n",
       "Sibling Count             -1.472935  0.923204  0.026467 -3.151213   0.422800   \n",
       "Non-profound Hearing Loss  6.746209  1.732154  0.045685  3.288854   9.955758   \n",
       "Mother with College Ed     8.297593  1.844417  0.063480  4.835478  12.002075   \n",
       "Parent with hearing loss   0.239565  3.395919  0.086130 -6.116467   7.233392   \n",
       "Age at enrollment          0.080666  0.967465  0.030108 -1.865344   1.899191   \n",
       "Years in program           1.714894  0.908527  0.033629 -0.065277   3.448008   \n",
       "\n",
       "                                 n_eff      Rhat  \n",
       "Age at amplification        866.748894  1.000306  \n",
       "Family Involvement Score   1150.035558  1.000735  \n",
       "Sibling Count              1263.550453  0.999908  \n",
       "Non-profound Hearing Loss  1247.103864  1.000138  \n",
       "Mother with College Ed      922.538466  1.000357  \n",
       "Parent with hearing loss   1492.063507  0.999558  \n",
       "Age at enrollment           838.073093  0.999613  \n",
       "Years in program            637.445076  0.999591  "
      ]
     },
     "execution_count": 58,
     "metadata": {},
     "output_type": "execute_result"
    }
   ],
   "source": [
    "summary(receptive_vocab_trace, varnames=['β']).set_index(pd.Index(labels))"
   ]
  },
  {
   "cell_type": "code",
   "execution_count": 59,
   "metadata": {},
   "outputs": [
    {
     "name": "stderr",
     "output_type": "stream",
     "text": [
      "100%|██████████| 2000/2000 [00:03<00:00, 518.11it/s]\n"
     ]
    }
   ],
   "source": [
    "from pymc3 import sample_posterior_predictive\n",
    "\n",
    "with articulation:\n",
    "    \n",
    "    artic_pred = sample_posterior_predictive(artic_trace, vars=[articulation.score_like])"
   ]
  },
  {
   "cell_type": "code",
   "execution_count": 60,
   "metadata": {},
   "outputs": [
    {
     "data": {
      "text/plain": [
       "(array([123., 109., 125., 110., 134., 126., 154., 163., 185.,  60.]),\n",
       " array([0.   , 0.098, 0.196, 0.294, 0.392, 0.49 , 0.588, 0.686, 0.784,\n",
       "        0.882, 0.98 ]),\n",
       " <a list of 10 Patch objects>)"
      ]
     },
     "execution_count": 60,
     "metadata": {},
     "output_type": "execute_result"
    },
    {
     "data": {
      "image/png": "[encoded data removed]",
      "text/plain": [
       "<Figure size 432x288 with 1 Axes>"
      ]
     },
     "metadata": {
      "needs_background": "light"
     },
     "output_type": "display_data"
    }
   ],
   "source": [
    "from scipy.stats import percentileofscore\n",
    "\n",
    "plt.hist([np.round(percentileofscore(x, y)/100, 2) for x,y in zip(artic_pred['score_like'], \n",
    "                                                        articulation_dataset.score)])"
   ]
  },
  {
   "cell_type": "markdown",
   "metadata": {},
   "source": [
    "### Publication graphics"
   ]
  },
  {
   "cell_type": "code",
   "execution_count": 61,
   "metadata": {},
   "outputs": [
    {
     "ename": "ModuleNotFoundError",
     "evalue": "No module named 'arviz'",
     "output_type": "error",
     "traceback": [
      "\u001b[0;31m---------------------------------------------------------------------------\u001b[0m",
      "\u001b[0;31mModuleNotFoundError\u001b[0m                       Traceback (most recent call last)",
      "\u001b[0;32m<ipython-input-61-b8fa1d38513d>\u001b[0m in \u001b[0;36m<module>\u001b[0;34m\u001b[0m\n\u001b[0;32m----> 1\u001b[0;31m \u001b[0;32mimport\u001b[0m \u001b[0marviz\u001b[0m \u001b[0;32mas\u001b[0m \u001b[0maz\u001b[0m\u001b[0;34m\u001b[0m\u001b[0;34m\u001b[0m\u001b[0m\n\u001b[0m\u001b[1;32m      2\u001b[0m \u001b[0;34m\u001b[0m\u001b[0m\n\u001b[1;32m      3\u001b[0m \u001b[0maz\u001b[0m\u001b[0;34m.\u001b[0m\u001b[0mstyle\u001b[0m\u001b[0;34m.\u001b[0m\u001b[0muse\u001b[0m\u001b[0;34m(\u001b[0m\u001b[0;34m'arviz-whitegrid'\u001b[0m\u001b[0;34m)\u001b[0m\u001b[0;34m\u001b[0m\u001b[0;34m\u001b[0m\u001b[0m\n\u001b[1;32m      4\u001b[0m \u001b[0;34m\u001b[0m\u001b[0m\n\u001b[1;32m      5\u001b[0m \u001b[0;34m\u001b[0m\u001b[0m\n",
      "\u001b[0;31mModuleNotFoundError\u001b[0m: No module named 'arviz'"
     ]
    }
   ],
   "source": [
    "import arviz as az\n",
    "\n",
    "az.style.use('arviz-whitegrid')\n",
    "\n",
    "\n",
    "model_names = ['Receptive Vocabulary', 'Expressive Vocabulary',\n",
    "                                     'Receptive Language', 'Expressive Language',\n",
    "                                     'Articulation']\n",
    "\n",
    "_, axes = az.plot_forest([receptive_vocab_4_trace, expressive_vocab_4_trace,\n",
    "                         rec_lang_4_trace, exp_lang_4_trace, artic_4_trace],\n",
    "                         model_names=model_names,\n",
    "                         combined=True,\n",
    "                         var_names=['β'])\n",
    "axes[0].set_title('Estimated covariates for test domains')\n",
    "\n",
    "axes[0].axvline(linestyle=\":\", linewidth=0.5, color='k')\n",
    "\n",
    "ticklabels = [labels[int((i-2)/5)] if not (i % 5 - 2) else '' for i,label in enumerate(axes[0].get_yticklabels())][::-1]\n",
    "axes[0].set_yticklabels(ticklabels)\n",
    "\n",
    "lines = ax.get_lines()[:5:-1]\n",
    "axes[0].legend(lines, model_names, loc='upper center', bbox_to_anchor=(0.5, -0.05),\n",
    "          fancybox=True);"
   ]
  },
  {
   "cell_type": "markdown",
   "metadata": {},
   "source": [
    "# Comparison of Hearing Loss to no Hearing Loss Within Autism Group"
   ]
  },
  {
   "cell_type": "code",
   "execution_count": 30,
   "metadata": {},
   "outputs": [],
   "source": [
    "inclusion_mask = (~lsl_dr.non_english.astype(bool) &\n",
    "                 (lsl_dr.autism==1))"
   ]
  },
  {
   "cell_type": "code",
   "execution_count": 33,
   "metadata": {},
   "outputs": [
    {
     "data": {
      "text/plain": [
       "(281, 252)"
      ]
     },
     "execution_count": 33,
     "metadata": {},
     "output_type": "execute_result"
    }
   ],
   "source": [
    "all_autism = lsl_dr[inclusion_mask].copy()\n",
    "all_autism.shape"
   ]
  },
  {
   "cell_type": "code",
   "execution_count": 34,
   "metadata": {},
   "outputs": [],
   "source": [
    "all_autism['hearing_loss'] = (all_autism.hl==0).astype(int)"
   ]
  },
  {
   "cell_type": "code",
   "execution_count": null,
   "metadata": {},
   "outputs": [],
   "source": []
  }
 ],
 "metadata": {
  "kernelspec": {
   "display_name": "Python 3",
   "language": "python",
   "name": "python3"
  },
  "language_info": {
   "codemirror_mode": {
    "name": "ipython",
    "version": 3
   },
   "file_extension": ".py",
   "mimetype": "text/x-python",
   "name": "python",
   "nbconvert_exporter": "python",
   "pygments_lexer": "ipython3",
   "version": "3.7.3"
  }
 },
 "nbformat": 4,
 "nbformat_minor": 2
}
